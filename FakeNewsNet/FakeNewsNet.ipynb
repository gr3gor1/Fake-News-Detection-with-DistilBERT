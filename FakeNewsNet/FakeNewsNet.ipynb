{
  "nbformat": 4,
  "nbformat_minor": 0,
  "metadata": {
    "colab": {
      "provenance": [],
      "gpuType": "T4"
    },
    "kernelspec": {
      "name": "python3",
      "display_name": "Python 3"
    },
    "language_info": {
      "name": "python"
    },
    "accelerator": "GPU",
    "widgets": {
      "application/vnd.jupyter.widget-state+json": {
        "b84bf1caf7e040c189fe9b4d98b2e216": {
          "model_module": "@jupyter-widgets/controls",
          "model_name": "HBoxModel",
          "model_module_version": "1.5.0",
          "state": {
            "_dom_classes": [],
            "_model_module": "@jupyter-widgets/controls",
            "_model_module_version": "1.5.0",
            "_model_name": "HBoxModel",
            "_view_count": null,
            "_view_module": "@jupyter-widgets/controls",
            "_view_module_version": "1.5.0",
            "_view_name": "HBoxView",
            "box_style": "",
            "children": [
              "IPY_MODEL_8de49bdbf1e84a2bb4549f7f7613d075",
              "IPY_MODEL_c5d1040d50de42f9a1f2cfec75ec752c",
              "IPY_MODEL_53dec84e07ca41eeb0005f51764991c0"
            ],
            "layout": "IPY_MODEL_6a3a9160bc9d4d169619eb9354e3aa4e"
          }
        },
        "8de49bdbf1e84a2bb4549f7f7613d075": {
          "model_module": "@jupyter-widgets/controls",
          "model_name": "HTMLModel",
          "model_module_version": "1.5.0",
          "state": {
            "_dom_classes": [],
            "_model_module": "@jupyter-widgets/controls",
            "_model_module_version": "1.5.0",
            "_model_name": "HTMLModel",
            "_view_count": null,
            "_view_module": "@jupyter-widgets/controls",
            "_view_module_version": "1.5.0",
            "_view_name": "HTMLView",
            "description": "",
            "description_tooltip": null,
            "layout": "IPY_MODEL_1b7738a0ec3b4ceeaced583636dcc68e",
            "placeholder": "​",
            "style": "IPY_MODEL_e346ad981e2e432a85d8098cca8ba649",
            "value": "Downloading (…)okenizer_config.json: 100%"
          }
        },
        "c5d1040d50de42f9a1f2cfec75ec752c": {
          "model_module": "@jupyter-widgets/controls",
          "model_name": "FloatProgressModel",
          "model_module_version": "1.5.0",
          "state": {
            "_dom_classes": [],
            "_model_module": "@jupyter-widgets/controls",
            "_model_module_version": "1.5.0",
            "_model_name": "FloatProgressModel",
            "_view_count": null,
            "_view_module": "@jupyter-widgets/controls",
            "_view_module_version": "1.5.0",
            "_view_name": "ProgressView",
            "bar_style": "success",
            "description": "",
            "description_tooltip": null,
            "layout": "IPY_MODEL_be69c7a813c44afc9aa6f840aea53a20",
            "max": 28,
            "min": 0,
            "orientation": "horizontal",
            "style": "IPY_MODEL_48ba81a3bc7d4b039b83565a1129f7fb",
            "value": 28
          }
        },
        "53dec84e07ca41eeb0005f51764991c0": {
          "model_module": "@jupyter-widgets/controls",
          "model_name": "HTMLModel",
          "model_module_version": "1.5.0",
          "state": {
            "_dom_classes": [],
            "_model_module": "@jupyter-widgets/controls",
            "_model_module_version": "1.5.0",
            "_model_name": "HTMLModel",
            "_view_count": null,
            "_view_module": "@jupyter-widgets/controls",
            "_view_module_version": "1.5.0",
            "_view_name": "HTMLView",
            "description": "",
            "description_tooltip": null,
            "layout": "IPY_MODEL_c6efd933313c4abfafcc503afa524e04",
            "placeholder": "​",
            "style": "IPY_MODEL_d3dd67b8f3cd499d9bc602723f4b1639",
            "value": " 28.0/28.0 [00:00&lt;00:00, 696B/s]"
          }
        },
        "6a3a9160bc9d4d169619eb9354e3aa4e": {
          "model_module": "@jupyter-widgets/base",
          "model_name": "LayoutModel",
          "model_module_version": "1.2.0",
          "state": {
            "_model_module": "@jupyter-widgets/base",
            "_model_module_version": "1.2.0",
            "_model_name": "LayoutModel",
            "_view_count": null,
            "_view_module": "@jupyter-widgets/base",
            "_view_module_version": "1.2.0",
            "_view_name": "LayoutView",
            "align_content": null,
            "align_items": null,
            "align_self": null,
            "border": null,
            "bottom": null,
            "display": null,
            "flex": null,
            "flex_flow": null,
            "grid_area": null,
            "grid_auto_columns": null,
            "grid_auto_flow": null,
            "grid_auto_rows": null,
            "grid_column": null,
            "grid_gap": null,
            "grid_row": null,
            "grid_template_areas": null,
            "grid_template_columns": null,
            "grid_template_rows": null,
            "height": null,
            "justify_content": null,
            "justify_items": null,
            "left": null,
            "margin": null,
            "max_height": null,
            "max_width": null,
            "min_height": null,
            "min_width": null,
            "object_fit": null,
            "object_position": null,
            "order": null,
            "overflow": null,
            "overflow_x": null,
            "overflow_y": null,
            "padding": null,
            "right": null,
            "top": null,
            "visibility": null,
            "width": null
          }
        },
        "1b7738a0ec3b4ceeaced583636dcc68e": {
          "model_module": "@jupyter-widgets/base",
          "model_name": "LayoutModel",
          "model_module_version": "1.2.0",
          "state": {
            "_model_module": "@jupyter-widgets/base",
            "_model_module_version": "1.2.0",
            "_model_name": "LayoutModel",
            "_view_count": null,
            "_view_module": "@jupyter-widgets/base",
            "_view_module_version": "1.2.0",
            "_view_name": "LayoutView",
            "align_content": null,
            "align_items": null,
            "align_self": null,
            "border": null,
            "bottom": null,
            "display": null,
            "flex": null,
            "flex_flow": null,
            "grid_area": null,
            "grid_auto_columns": null,
            "grid_auto_flow": null,
            "grid_auto_rows": null,
            "grid_column": null,
            "grid_gap": null,
            "grid_row": null,
            "grid_template_areas": null,
            "grid_template_columns": null,
            "grid_template_rows": null,
            "height": null,
            "justify_content": null,
            "justify_items": null,
            "left": null,
            "margin": null,
            "max_height": null,
            "max_width": null,
            "min_height": null,
            "min_width": null,
            "object_fit": null,
            "object_position": null,
            "order": null,
            "overflow": null,
            "overflow_x": null,
            "overflow_y": null,
            "padding": null,
            "right": null,
            "top": null,
            "visibility": null,
            "width": null
          }
        },
        "e346ad981e2e432a85d8098cca8ba649": {
          "model_module": "@jupyter-widgets/controls",
          "model_name": "DescriptionStyleModel",
          "model_module_version": "1.5.0",
          "state": {
            "_model_module": "@jupyter-widgets/controls",
            "_model_module_version": "1.5.0",
            "_model_name": "DescriptionStyleModel",
            "_view_count": null,
            "_view_module": "@jupyter-widgets/base",
            "_view_module_version": "1.2.0",
            "_view_name": "StyleView",
            "description_width": ""
          }
        },
        "be69c7a813c44afc9aa6f840aea53a20": {
          "model_module": "@jupyter-widgets/base",
          "model_name": "LayoutModel",
          "model_module_version": "1.2.0",
          "state": {
            "_model_module": "@jupyter-widgets/base",
            "_model_module_version": "1.2.0",
            "_model_name": "LayoutModel",
            "_view_count": null,
            "_view_module": "@jupyter-widgets/base",
            "_view_module_version": "1.2.0",
            "_view_name": "LayoutView",
            "align_content": null,
            "align_items": null,
            "align_self": null,
            "border": null,
            "bottom": null,
            "display": null,
            "flex": null,
            "flex_flow": null,
            "grid_area": null,
            "grid_auto_columns": null,
            "grid_auto_flow": null,
            "grid_auto_rows": null,
            "grid_column": null,
            "grid_gap": null,
            "grid_row": null,
            "grid_template_areas": null,
            "grid_template_columns": null,
            "grid_template_rows": null,
            "height": null,
            "justify_content": null,
            "justify_items": null,
            "left": null,
            "margin": null,
            "max_height": null,
            "max_width": null,
            "min_height": null,
            "min_width": null,
            "object_fit": null,
            "object_position": null,
            "order": null,
            "overflow": null,
            "overflow_x": null,
            "overflow_y": null,
            "padding": null,
            "right": null,
            "top": null,
            "visibility": null,
            "width": null
          }
        },
        "48ba81a3bc7d4b039b83565a1129f7fb": {
          "model_module": "@jupyter-widgets/controls",
          "model_name": "ProgressStyleModel",
          "model_module_version": "1.5.0",
          "state": {
            "_model_module": "@jupyter-widgets/controls",
            "_model_module_version": "1.5.0",
            "_model_name": "ProgressStyleModel",
            "_view_count": null,
            "_view_module": "@jupyter-widgets/base",
            "_view_module_version": "1.2.0",
            "_view_name": "StyleView",
            "bar_color": null,
            "description_width": ""
          }
        },
        "c6efd933313c4abfafcc503afa524e04": {
          "model_module": "@jupyter-widgets/base",
          "model_name": "LayoutModel",
          "model_module_version": "1.2.0",
          "state": {
            "_model_module": "@jupyter-widgets/base",
            "_model_module_version": "1.2.0",
            "_model_name": "LayoutModel",
            "_view_count": null,
            "_view_module": "@jupyter-widgets/base",
            "_view_module_version": "1.2.0",
            "_view_name": "LayoutView",
            "align_content": null,
            "align_items": null,
            "align_self": null,
            "border": null,
            "bottom": null,
            "display": null,
            "flex": null,
            "flex_flow": null,
            "grid_area": null,
            "grid_auto_columns": null,
            "grid_auto_flow": null,
            "grid_auto_rows": null,
            "grid_column": null,
            "grid_gap": null,
            "grid_row": null,
            "grid_template_areas": null,
            "grid_template_columns": null,
            "grid_template_rows": null,
            "height": null,
            "justify_content": null,
            "justify_items": null,
            "left": null,
            "margin": null,
            "max_height": null,
            "max_width": null,
            "min_height": null,
            "min_width": null,
            "object_fit": null,
            "object_position": null,
            "order": null,
            "overflow": null,
            "overflow_x": null,
            "overflow_y": null,
            "padding": null,
            "right": null,
            "top": null,
            "visibility": null,
            "width": null
          }
        },
        "d3dd67b8f3cd499d9bc602723f4b1639": {
          "model_module": "@jupyter-widgets/controls",
          "model_name": "DescriptionStyleModel",
          "model_module_version": "1.5.0",
          "state": {
            "_model_module": "@jupyter-widgets/controls",
            "_model_module_version": "1.5.0",
            "_model_name": "DescriptionStyleModel",
            "_view_count": null,
            "_view_module": "@jupyter-widgets/base",
            "_view_module_version": "1.2.0",
            "_view_name": "StyleView",
            "description_width": ""
          }
        },
        "722744ec4c494032b811520f7caf6083": {
          "model_module": "@jupyter-widgets/controls",
          "model_name": "HBoxModel",
          "model_module_version": "1.5.0",
          "state": {
            "_dom_classes": [],
            "_model_module": "@jupyter-widgets/controls",
            "_model_module_version": "1.5.0",
            "_model_name": "HBoxModel",
            "_view_count": null,
            "_view_module": "@jupyter-widgets/controls",
            "_view_module_version": "1.5.0",
            "_view_name": "HBoxView",
            "box_style": "",
            "children": [
              "IPY_MODEL_7251e8cc749a4cdfacb717b3ae9686b8",
              "IPY_MODEL_7a3cd1df716c4255978eeff36a49d124",
              "IPY_MODEL_a4d70ea23bdb4347b002a68885f6a97e"
            ],
            "layout": "IPY_MODEL_865e83b5ad6d46c0be93eceae8b0e9d2"
          }
        },
        "7251e8cc749a4cdfacb717b3ae9686b8": {
          "model_module": "@jupyter-widgets/controls",
          "model_name": "HTMLModel",
          "model_module_version": "1.5.0",
          "state": {
            "_dom_classes": [],
            "_model_module": "@jupyter-widgets/controls",
            "_model_module_version": "1.5.0",
            "_model_name": "HTMLModel",
            "_view_count": null,
            "_view_module": "@jupyter-widgets/controls",
            "_view_module_version": "1.5.0",
            "_view_name": "HTMLView",
            "description": "",
            "description_tooltip": null,
            "layout": "IPY_MODEL_1377c2afcf8c4f6db1d2da3b80221843",
            "placeholder": "​",
            "style": "IPY_MODEL_70e0c8fa9786489fbee8e59dbceff8a4",
            "value": "Downloading (…)solve/main/vocab.txt: 100%"
          }
        },
        "7a3cd1df716c4255978eeff36a49d124": {
          "model_module": "@jupyter-widgets/controls",
          "model_name": "FloatProgressModel",
          "model_module_version": "1.5.0",
          "state": {
            "_dom_classes": [],
            "_model_module": "@jupyter-widgets/controls",
            "_model_module_version": "1.5.0",
            "_model_name": "FloatProgressModel",
            "_view_count": null,
            "_view_module": "@jupyter-widgets/controls",
            "_view_module_version": "1.5.0",
            "_view_name": "ProgressView",
            "bar_style": "success",
            "description": "",
            "description_tooltip": null,
            "layout": "IPY_MODEL_c4a89f01ac6b4daaa98dca59ad2d2e80",
            "max": 231508,
            "min": 0,
            "orientation": "horizontal",
            "style": "IPY_MODEL_2b6e4957943f4cda8e042e35af0ede33",
            "value": 231508
          }
        },
        "a4d70ea23bdb4347b002a68885f6a97e": {
          "model_module": "@jupyter-widgets/controls",
          "model_name": "HTMLModel",
          "model_module_version": "1.5.0",
          "state": {
            "_dom_classes": [],
            "_model_module": "@jupyter-widgets/controls",
            "_model_module_version": "1.5.0",
            "_model_name": "HTMLModel",
            "_view_count": null,
            "_view_module": "@jupyter-widgets/controls",
            "_view_module_version": "1.5.0",
            "_view_name": "HTMLView",
            "description": "",
            "description_tooltip": null,
            "layout": "IPY_MODEL_c05a29fb5a2f40b1bfba3865eaaad559",
            "placeholder": "​",
            "style": "IPY_MODEL_31a736c0892a43beaf265de3f7805fd7",
            "value": " 232k/232k [00:00&lt;00:00, 1.83MB/s]"
          }
        },
        "865e83b5ad6d46c0be93eceae8b0e9d2": {
          "model_module": "@jupyter-widgets/base",
          "model_name": "LayoutModel",
          "model_module_version": "1.2.0",
          "state": {
            "_model_module": "@jupyter-widgets/base",
            "_model_module_version": "1.2.0",
            "_model_name": "LayoutModel",
            "_view_count": null,
            "_view_module": "@jupyter-widgets/base",
            "_view_module_version": "1.2.0",
            "_view_name": "LayoutView",
            "align_content": null,
            "align_items": null,
            "align_self": null,
            "border": null,
            "bottom": null,
            "display": null,
            "flex": null,
            "flex_flow": null,
            "grid_area": null,
            "grid_auto_columns": null,
            "grid_auto_flow": null,
            "grid_auto_rows": null,
            "grid_column": null,
            "grid_gap": null,
            "grid_row": null,
            "grid_template_areas": null,
            "grid_template_columns": null,
            "grid_template_rows": null,
            "height": null,
            "justify_content": null,
            "justify_items": null,
            "left": null,
            "margin": null,
            "max_height": null,
            "max_width": null,
            "min_height": null,
            "min_width": null,
            "object_fit": null,
            "object_position": null,
            "order": null,
            "overflow": null,
            "overflow_x": null,
            "overflow_y": null,
            "padding": null,
            "right": null,
            "top": null,
            "visibility": null,
            "width": null
          }
        },
        "1377c2afcf8c4f6db1d2da3b80221843": {
          "model_module": "@jupyter-widgets/base",
          "model_name": "LayoutModel",
          "model_module_version": "1.2.0",
          "state": {
            "_model_module": "@jupyter-widgets/base",
            "_model_module_version": "1.2.0",
            "_model_name": "LayoutModel",
            "_view_count": null,
            "_view_module": "@jupyter-widgets/base",
            "_view_module_version": "1.2.0",
            "_view_name": "LayoutView",
            "align_content": null,
            "align_items": null,
            "align_self": null,
            "border": null,
            "bottom": null,
            "display": null,
            "flex": null,
            "flex_flow": null,
            "grid_area": null,
            "grid_auto_columns": null,
            "grid_auto_flow": null,
            "grid_auto_rows": null,
            "grid_column": null,
            "grid_gap": null,
            "grid_row": null,
            "grid_template_areas": null,
            "grid_template_columns": null,
            "grid_template_rows": null,
            "height": null,
            "justify_content": null,
            "justify_items": null,
            "left": null,
            "margin": null,
            "max_height": null,
            "max_width": null,
            "min_height": null,
            "min_width": null,
            "object_fit": null,
            "object_position": null,
            "order": null,
            "overflow": null,
            "overflow_x": null,
            "overflow_y": null,
            "padding": null,
            "right": null,
            "top": null,
            "visibility": null,
            "width": null
          }
        },
        "70e0c8fa9786489fbee8e59dbceff8a4": {
          "model_module": "@jupyter-widgets/controls",
          "model_name": "DescriptionStyleModel",
          "model_module_version": "1.5.0",
          "state": {
            "_model_module": "@jupyter-widgets/controls",
            "_model_module_version": "1.5.0",
            "_model_name": "DescriptionStyleModel",
            "_view_count": null,
            "_view_module": "@jupyter-widgets/base",
            "_view_module_version": "1.2.0",
            "_view_name": "StyleView",
            "description_width": ""
          }
        },
        "c4a89f01ac6b4daaa98dca59ad2d2e80": {
          "model_module": "@jupyter-widgets/base",
          "model_name": "LayoutModel",
          "model_module_version": "1.2.0",
          "state": {
            "_model_module": "@jupyter-widgets/base",
            "_model_module_version": "1.2.0",
            "_model_name": "LayoutModel",
            "_view_count": null,
            "_view_module": "@jupyter-widgets/base",
            "_view_module_version": "1.2.0",
            "_view_name": "LayoutView",
            "align_content": null,
            "align_items": null,
            "align_self": null,
            "border": null,
            "bottom": null,
            "display": null,
            "flex": null,
            "flex_flow": null,
            "grid_area": null,
            "grid_auto_columns": null,
            "grid_auto_flow": null,
            "grid_auto_rows": null,
            "grid_column": null,
            "grid_gap": null,
            "grid_row": null,
            "grid_template_areas": null,
            "grid_template_columns": null,
            "grid_template_rows": null,
            "height": null,
            "justify_content": null,
            "justify_items": null,
            "left": null,
            "margin": null,
            "max_height": null,
            "max_width": null,
            "min_height": null,
            "min_width": null,
            "object_fit": null,
            "object_position": null,
            "order": null,
            "overflow": null,
            "overflow_x": null,
            "overflow_y": null,
            "padding": null,
            "right": null,
            "top": null,
            "visibility": null,
            "width": null
          }
        },
        "2b6e4957943f4cda8e042e35af0ede33": {
          "model_module": "@jupyter-widgets/controls",
          "model_name": "ProgressStyleModel",
          "model_module_version": "1.5.0",
          "state": {
            "_model_module": "@jupyter-widgets/controls",
            "_model_module_version": "1.5.0",
            "_model_name": "ProgressStyleModel",
            "_view_count": null,
            "_view_module": "@jupyter-widgets/base",
            "_view_module_version": "1.2.0",
            "_view_name": "StyleView",
            "bar_color": null,
            "description_width": ""
          }
        },
        "c05a29fb5a2f40b1bfba3865eaaad559": {
          "model_module": "@jupyter-widgets/base",
          "model_name": "LayoutModel",
          "model_module_version": "1.2.0",
          "state": {
            "_model_module": "@jupyter-widgets/base",
            "_model_module_version": "1.2.0",
            "_model_name": "LayoutModel",
            "_view_count": null,
            "_view_module": "@jupyter-widgets/base",
            "_view_module_version": "1.2.0",
            "_view_name": "LayoutView",
            "align_content": null,
            "align_items": null,
            "align_self": null,
            "border": null,
            "bottom": null,
            "display": null,
            "flex": null,
            "flex_flow": null,
            "grid_area": null,
            "grid_auto_columns": null,
            "grid_auto_flow": null,
            "grid_auto_rows": null,
            "grid_column": null,
            "grid_gap": null,
            "grid_row": null,
            "grid_template_areas": null,
            "grid_template_columns": null,
            "grid_template_rows": null,
            "height": null,
            "justify_content": null,
            "justify_items": null,
            "left": null,
            "margin": null,
            "max_height": null,
            "max_width": null,
            "min_height": null,
            "min_width": null,
            "object_fit": null,
            "object_position": null,
            "order": null,
            "overflow": null,
            "overflow_x": null,
            "overflow_y": null,
            "padding": null,
            "right": null,
            "top": null,
            "visibility": null,
            "width": null
          }
        },
        "31a736c0892a43beaf265de3f7805fd7": {
          "model_module": "@jupyter-widgets/controls",
          "model_name": "DescriptionStyleModel",
          "model_module_version": "1.5.0",
          "state": {
            "_model_module": "@jupyter-widgets/controls",
            "_model_module_version": "1.5.0",
            "_model_name": "DescriptionStyleModel",
            "_view_count": null,
            "_view_module": "@jupyter-widgets/base",
            "_view_module_version": "1.2.0",
            "_view_name": "StyleView",
            "description_width": ""
          }
        },
        "de0858e41b0743c590ff5802c91b4e67": {
          "model_module": "@jupyter-widgets/controls",
          "model_name": "HBoxModel",
          "model_module_version": "1.5.0",
          "state": {
            "_dom_classes": [],
            "_model_module": "@jupyter-widgets/controls",
            "_model_module_version": "1.5.0",
            "_model_name": "HBoxModel",
            "_view_count": null,
            "_view_module": "@jupyter-widgets/controls",
            "_view_module_version": "1.5.0",
            "_view_name": "HBoxView",
            "box_style": "",
            "children": [
              "IPY_MODEL_1d34664469bb4d9aaa85b68be00ceead",
              "IPY_MODEL_fc018f4123f740629dabc5d8c6663de4",
              "IPY_MODEL_53962742bf624c21b22c6db242ba9527"
            ],
            "layout": "IPY_MODEL_5e382194b93544c1a0d418700ae40e84"
          }
        },
        "1d34664469bb4d9aaa85b68be00ceead": {
          "model_module": "@jupyter-widgets/controls",
          "model_name": "HTMLModel",
          "model_module_version": "1.5.0",
          "state": {
            "_dom_classes": [],
            "_model_module": "@jupyter-widgets/controls",
            "_model_module_version": "1.5.0",
            "_model_name": "HTMLModel",
            "_view_count": null,
            "_view_module": "@jupyter-widgets/controls",
            "_view_module_version": "1.5.0",
            "_view_name": "HTMLView",
            "description": "",
            "description_tooltip": null,
            "layout": "IPY_MODEL_6c269314cdfe428fb6d0817e539f9101",
            "placeholder": "​",
            "style": "IPY_MODEL_048fbd81f1674095b88c8db2ea800e8d",
            "value": "Downloading (…)/main/tokenizer.json: 100%"
          }
        },
        "fc018f4123f740629dabc5d8c6663de4": {
          "model_module": "@jupyter-widgets/controls",
          "model_name": "FloatProgressModel",
          "model_module_version": "1.5.0",
          "state": {
            "_dom_classes": [],
            "_model_module": "@jupyter-widgets/controls",
            "_model_module_version": "1.5.0",
            "_model_name": "FloatProgressModel",
            "_view_count": null,
            "_view_module": "@jupyter-widgets/controls",
            "_view_module_version": "1.5.0",
            "_view_name": "ProgressView",
            "bar_style": "success",
            "description": "",
            "description_tooltip": null,
            "layout": "IPY_MODEL_ae18ff570fbc4bf2b27e2f8a51beb56c",
            "max": 466062,
            "min": 0,
            "orientation": "horizontal",
            "style": "IPY_MODEL_744c9e33520e4438a3b428b187e21bb8",
            "value": 466062
          }
        },
        "53962742bf624c21b22c6db242ba9527": {
          "model_module": "@jupyter-widgets/controls",
          "model_name": "HTMLModel",
          "model_module_version": "1.5.0",
          "state": {
            "_dom_classes": [],
            "_model_module": "@jupyter-widgets/controls",
            "_model_module_version": "1.5.0",
            "_model_name": "HTMLModel",
            "_view_count": null,
            "_view_module": "@jupyter-widgets/controls",
            "_view_module_version": "1.5.0",
            "_view_name": "HTMLView",
            "description": "",
            "description_tooltip": null,
            "layout": "IPY_MODEL_24e5cfceffc64ff594ea08cb4f819ca3",
            "placeholder": "​",
            "style": "IPY_MODEL_a51c245f37454cd0bde50f52c0964160",
            "value": " 466k/466k [00:00&lt;00:00, 3.69MB/s]"
          }
        },
        "5e382194b93544c1a0d418700ae40e84": {
          "model_module": "@jupyter-widgets/base",
          "model_name": "LayoutModel",
          "model_module_version": "1.2.0",
          "state": {
            "_model_module": "@jupyter-widgets/base",
            "_model_module_version": "1.2.0",
            "_model_name": "LayoutModel",
            "_view_count": null,
            "_view_module": "@jupyter-widgets/base",
            "_view_module_version": "1.2.0",
            "_view_name": "LayoutView",
            "align_content": null,
            "align_items": null,
            "align_self": null,
            "border": null,
            "bottom": null,
            "display": null,
            "flex": null,
            "flex_flow": null,
            "grid_area": null,
            "grid_auto_columns": null,
            "grid_auto_flow": null,
            "grid_auto_rows": null,
            "grid_column": null,
            "grid_gap": null,
            "grid_row": null,
            "grid_template_areas": null,
            "grid_template_columns": null,
            "grid_template_rows": null,
            "height": null,
            "justify_content": null,
            "justify_items": null,
            "left": null,
            "margin": null,
            "max_height": null,
            "max_width": null,
            "min_height": null,
            "min_width": null,
            "object_fit": null,
            "object_position": null,
            "order": null,
            "overflow": null,
            "overflow_x": null,
            "overflow_y": null,
            "padding": null,
            "right": null,
            "top": null,
            "visibility": null,
            "width": null
          }
        },
        "6c269314cdfe428fb6d0817e539f9101": {
          "model_module": "@jupyter-widgets/base",
          "model_name": "LayoutModel",
          "model_module_version": "1.2.0",
          "state": {
            "_model_module": "@jupyter-widgets/base",
            "_model_module_version": "1.2.0",
            "_model_name": "LayoutModel",
            "_view_count": null,
            "_view_module": "@jupyter-widgets/base",
            "_view_module_version": "1.2.0",
            "_view_name": "LayoutView",
            "align_content": null,
            "align_items": null,
            "align_self": null,
            "border": null,
            "bottom": null,
            "display": null,
            "flex": null,
            "flex_flow": null,
            "grid_area": null,
            "grid_auto_columns": null,
            "grid_auto_flow": null,
            "grid_auto_rows": null,
            "grid_column": null,
            "grid_gap": null,
            "grid_row": null,
            "grid_template_areas": null,
            "grid_template_columns": null,
            "grid_template_rows": null,
            "height": null,
            "justify_content": null,
            "justify_items": null,
            "left": null,
            "margin": null,
            "max_height": null,
            "max_width": null,
            "min_height": null,
            "min_width": null,
            "object_fit": null,
            "object_position": null,
            "order": null,
            "overflow": null,
            "overflow_x": null,
            "overflow_y": null,
            "padding": null,
            "right": null,
            "top": null,
            "visibility": null,
            "width": null
          }
        },
        "048fbd81f1674095b88c8db2ea800e8d": {
          "model_module": "@jupyter-widgets/controls",
          "model_name": "DescriptionStyleModel",
          "model_module_version": "1.5.0",
          "state": {
            "_model_module": "@jupyter-widgets/controls",
            "_model_module_version": "1.5.0",
            "_model_name": "DescriptionStyleModel",
            "_view_count": null,
            "_view_module": "@jupyter-widgets/base",
            "_view_module_version": "1.2.0",
            "_view_name": "StyleView",
            "description_width": ""
          }
        },
        "ae18ff570fbc4bf2b27e2f8a51beb56c": {
          "model_module": "@jupyter-widgets/base",
          "model_name": "LayoutModel",
          "model_module_version": "1.2.0",
          "state": {
            "_model_module": "@jupyter-widgets/base",
            "_model_module_version": "1.2.0",
            "_model_name": "LayoutModel",
            "_view_count": null,
            "_view_module": "@jupyter-widgets/base",
            "_view_module_version": "1.2.0",
            "_view_name": "LayoutView",
            "align_content": null,
            "align_items": null,
            "align_self": null,
            "border": null,
            "bottom": null,
            "display": null,
            "flex": null,
            "flex_flow": null,
            "grid_area": null,
            "grid_auto_columns": null,
            "grid_auto_flow": null,
            "grid_auto_rows": null,
            "grid_column": null,
            "grid_gap": null,
            "grid_row": null,
            "grid_template_areas": null,
            "grid_template_columns": null,
            "grid_template_rows": null,
            "height": null,
            "justify_content": null,
            "justify_items": null,
            "left": null,
            "margin": null,
            "max_height": null,
            "max_width": null,
            "min_height": null,
            "min_width": null,
            "object_fit": null,
            "object_position": null,
            "order": null,
            "overflow": null,
            "overflow_x": null,
            "overflow_y": null,
            "padding": null,
            "right": null,
            "top": null,
            "visibility": null,
            "width": null
          }
        },
        "744c9e33520e4438a3b428b187e21bb8": {
          "model_module": "@jupyter-widgets/controls",
          "model_name": "ProgressStyleModel",
          "model_module_version": "1.5.0",
          "state": {
            "_model_module": "@jupyter-widgets/controls",
            "_model_module_version": "1.5.0",
            "_model_name": "ProgressStyleModel",
            "_view_count": null,
            "_view_module": "@jupyter-widgets/base",
            "_view_module_version": "1.2.0",
            "_view_name": "StyleView",
            "bar_color": null,
            "description_width": ""
          }
        },
        "24e5cfceffc64ff594ea08cb4f819ca3": {
          "model_module": "@jupyter-widgets/base",
          "model_name": "LayoutModel",
          "model_module_version": "1.2.0",
          "state": {
            "_model_module": "@jupyter-widgets/base",
            "_model_module_version": "1.2.0",
            "_model_name": "LayoutModel",
            "_view_count": null,
            "_view_module": "@jupyter-widgets/base",
            "_view_module_version": "1.2.0",
            "_view_name": "LayoutView",
            "align_content": null,
            "align_items": null,
            "align_self": null,
            "border": null,
            "bottom": null,
            "display": null,
            "flex": null,
            "flex_flow": null,
            "grid_area": null,
            "grid_auto_columns": null,
            "grid_auto_flow": null,
            "grid_auto_rows": null,
            "grid_column": null,
            "grid_gap": null,
            "grid_row": null,
            "grid_template_areas": null,
            "grid_template_columns": null,
            "grid_template_rows": null,
            "height": null,
            "justify_content": null,
            "justify_items": null,
            "left": null,
            "margin": null,
            "max_height": null,
            "max_width": null,
            "min_height": null,
            "min_width": null,
            "object_fit": null,
            "object_position": null,
            "order": null,
            "overflow": null,
            "overflow_x": null,
            "overflow_y": null,
            "padding": null,
            "right": null,
            "top": null,
            "visibility": null,
            "width": null
          }
        },
        "a51c245f37454cd0bde50f52c0964160": {
          "model_module": "@jupyter-widgets/controls",
          "model_name": "DescriptionStyleModel",
          "model_module_version": "1.5.0",
          "state": {
            "_model_module": "@jupyter-widgets/controls",
            "_model_module_version": "1.5.0",
            "_model_name": "DescriptionStyleModel",
            "_view_count": null,
            "_view_module": "@jupyter-widgets/base",
            "_view_module_version": "1.2.0",
            "_view_name": "StyleView",
            "description_width": ""
          }
        },
        "71547425f49c46d2acfc537cfa0ff10f": {
          "model_module": "@jupyter-widgets/controls",
          "model_name": "HBoxModel",
          "model_module_version": "1.5.0",
          "state": {
            "_dom_classes": [],
            "_model_module": "@jupyter-widgets/controls",
            "_model_module_version": "1.5.0",
            "_model_name": "HBoxModel",
            "_view_count": null,
            "_view_module": "@jupyter-widgets/controls",
            "_view_module_version": "1.5.0",
            "_view_name": "HBoxView",
            "box_style": "",
            "children": [
              "IPY_MODEL_179013240a9e44188c2c3eb7feca895c",
              "IPY_MODEL_71adf08244fd4e2597d6812978e48f2c",
              "IPY_MODEL_75ca1a0e1d9242e8b3b289a9d02f9390"
            ],
            "layout": "IPY_MODEL_eee33948e6f847af8abae97ab717de7e"
          }
        },
        "179013240a9e44188c2c3eb7feca895c": {
          "model_module": "@jupyter-widgets/controls",
          "model_name": "HTMLModel",
          "model_module_version": "1.5.0",
          "state": {
            "_dom_classes": [],
            "_model_module": "@jupyter-widgets/controls",
            "_model_module_version": "1.5.0",
            "_model_name": "HTMLModel",
            "_view_count": null,
            "_view_module": "@jupyter-widgets/controls",
            "_view_module_version": "1.5.0",
            "_view_name": "HTMLView",
            "description": "",
            "description_tooltip": null,
            "layout": "IPY_MODEL_35f246175eaf451a823933d6c26362e6",
            "placeholder": "​",
            "style": "IPY_MODEL_31f5962a7e2c4e89ac78948fdd43e399",
            "value": "Downloading (…)lve/main/config.json: 100%"
          }
        },
        "71adf08244fd4e2597d6812978e48f2c": {
          "model_module": "@jupyter-widgets/controls",
          "model_name": "FloatProgressModel",
          "model_module_version": "1.5.0",
          "state": {
            "_dom_classes": [],
            "_model_module": "@jupyter-widgets/controls",
            "_model_module_version": "1.5.0",
            "_model_name": "FloatProgressModel",
            "_view_count": null,
            "_view_module": "@jupyter-widgets/controls",
            "_view_module_version": "1.5.0",
            "_view_name": "ProgressView",
            "bar_style": "success",
            "description": "",
            "description_tooltip": null,
            "layout": "IPY_MODEL_b3e8e25e88864d1999c19de58ec744cf",
            "max": 483,
            "min": 0,
            "orientation": "horizontal",
            "style": "IPY_MODEL_ad65a675a49349ed96b46e840ee210dc",
            "value": 483
          }
        },
        "75ca1a0e1d9242e8b3b289a9d02f9390": {
          "model_module": "@jupyter-widgets/controls",
          "model_name": "HTMLModel",
          "model_module_version": "1.5.0",
          "state": {
            "_dom_classes": [],
            "_model_module": "@jupyter-widgets/controls",
            "_model_module_version": "1.5.0",
            "_model_name": "HTMLModel",
            "_view_count": null,
            "_view_module": "@jupyter-widgets/controls",
            "_view_module_version": "1.5.0",
            "_view_name": "HTMLView",
            "description": "",
            "description_tooltip": null,
            "layout": "IPY_MODEL_d43e0878ea60405880989acdef6967db",
            "placeholder": "​",
            "style": "IPY_MODEL_55b787e06d81499da0fed6049d578748",
            "value": " 483/483 [00:00&lt;00:00, 17.5kB/s]"
          }
        },
        "eee33948e6f847af8abae97ab717de7e": {
          "model_module": "@jupyter-widgets/base",
          "model_name": "LayoutModel",
          "model_module_version": "1.2.0",
          "state": {
            "_model_module": "@jupyter-widgets/base",
            "_model_module_version": "1.2.0",
            "_model_name": "LayoutModel",
            "_view_count": null,
            "_view_module": "@jupyter-widgets/base",
            "_view_module_version": "1.2.0",
            "_view_name": "LayoutView",
            "align_content": null,
            "align_items": null,
            "align_self": null,
            "border": null,
            "bottom": null,
            "display": null,
            "flex": null,
            "flex_flow": null,
            "grid_area": null,
            "grid_auto_columns": null,
            "grid_auto_flow": null,
            "grid_auto_rows": null,
            "grid_column": null,
            "grid_gap": null,
            "grid_row": null,
            "grid_template_areas": null,
            "grid_template_columns": null,
            "grid_template_rows": null,
            "height": null,
            "justify_content": null,
            "justify_items": null,
            "left": null,
            "margin": null,
            "max_height": null,
            "max_width": null,
            "min_height": null,
            "min_width": null,
            "object_fit": null,
            "object_position": null,
            "order": null,
            "overflow": null,
            "overflow_x": null,
            "overflow_y": null,
            "padding": null,
            "right": null,
            "top": null,
            "visibility": null,
            "width": null
          }
        },
        "35f246175eaf451a823933d6c26362e6": {
          "model_module": "@jupyter-widgets/base",
          "model_name": "LayoutModel",
          "model_module_version": "1.2.0",
          "state": {
            "_model_module": "@jupyter-widgets/base",
            "_model_module_version": "1.2.0",
            "_model_name": "LayoutModel",
            "_view_count": null,
            "_view_module": "@jupyter-widgets/base",
            "_view_module_version": "1.2.0",
            "_view_name": "LayoutView",
            "align_content": null,
            "align_items": null,
            "align_self": null,
            "border": null,
            "bottom": null,
            "display": null,
            "flex": null,
            "flex_flow": null,
            "grid_area": null,
            "grid_auto_columns": null,
            "grid_auto_flow": null,
            "grid_auto_rows": null,
            "grid_column": null,
            "grid_gap": null,
            "grid_row": null,
            "grid_template_areas": null,
            "grid_template_columns": null,
            "grid_template_rows": null,
            "height": null,
            "justify_content": null,
            "justify_items": null,
            "left": null,
            "margin": null,
            "max_height": null,
            "max_width": null,
            "min_height": null,
            "min_width": null,
            "object_fit": null,
            "object_position": null,
            "order": null,
            "overflow": null,
            "overflow_x": null,
            "overflow_y": null,
            "padding": null,
            "right": null,
            "top": null,
            "visibility": null,
            "width": null
          }
        },
        "31f5962a7e2c4e89ac78948fdd43e399": {
          "model_module": "@jupyter-widgets/controls",
          "model_name": "DescriptionStyleModel",
          "model_module_version": "1.5.0",
          "state": {
            "_model_module": "@jupyter-widgets/controls",
            "_model_module_version": "1.5.0",
            "_model_name": "DescriptionStyleModel",
            "_view_count": null,
            "_view_module": "@jupyter-widgets/base",
            "_view_module_version": "1.2.0",
            "_view_name": "StyleView",
            "description_width": ""
          }
        },
        "b3e8e25e88864d1999c19de58ec744cf": {
          "model_module": "@jupyter-widgets/base",
          "model_name": "LayoutModel",
          "model_module_version": "1.2.0",
          "state": {
            "_model_module": "@jupyter-widgets/base",
            "_model_module_version": "1.2.0",
            "_model_name": "LayoutModel",
            "_view_count": null,
            "_view_module": "@jupyter-widgets/base",
            "_view_module_version": "1.2.0",
            "_view_name": "LayoutView",
            "align_content": null,
            "align_items": null,
            "align_self": null,
            "border": null,
            "bottom": null,
            "display": null,
            "flex": null,
            "flex_flow": null,
            "grid_area": null,
            "grid_auto_columns": null,
            "grid_auto_flow": null,
            "grid_auto_rows": null,
            "grid_column": null,
            "grid_gap": null,
            "grid_row": null,
            "grid_template_areas": null,
            "grid_template_columns": null,
            "grid_template_rows": null,
            "height": null,
            "justify_content": null,
            "justify_items": null,
            "left": null,
            "margin": null,
            "max_height": null,
            "max_width": null,
            "min_height": null,
            "min_width": null,
            "object_fit": null,
            "object_position": null,
            "order": null,
            "overflow": null,
            "overflow_x": null,
            "overflow_y": null,
            "padding": null,
            "right": null,
            "top": null,
            "visibility": null,
            "width": null
          }
        },
        "ad65a675a49349ed96b46e840ee210dc": {
          "model_module": "@jupyter-widgets/controls",
          "model_name": "ProgressStyleModel",
          "model_module_version": "1.5.0",
          "state": {
            "_model_module": "@jupyter-widgets/controls",
            "_model_module_version": "1.5.0",
            "_model_name": "ProgressStyleModel",
            "_view_count": null,
            "_view_module": "@jupyter-widgets/base",
            "_view_module_version": "1.2.0",
            "_view_name": "StyleView",
            "bar_color": null,
            "description_width": ""
          }
        },
        "d43e0878ea60405880989acdef6967db": {
          "model_module": "@jupyter-widgets/base",
          "model_name": "LayoutModel",
          "model_module_version": "1.2.0",
          "state": {
            "_model_module": "@jupyter-widgets/base",
            "_model_module_version": "1.2.0",
            "_model_name": "LayoutModel",
            "_view_count": null,
            "_view_module": "@jupyter-widgets/base",
            "_view_module_version": "1.2.0",
            "_view_name": "LayoutView",
            "align_content": null,
            "align_items": null,
            "align_self": null,
            "border": null,
            "bottom": null,
            "display": null,
            "flex": null,
            "flex_flow": null,
            "grid_area": null,
            "grid_auto_columns": null,
            "grid_auto_flow": null,
            "grid_auto_rows": null,
            "grid_column": null,
            "grid_gap": null,
            "grid_row": null,
            "grid_template_areas": null,
            "grid_template_columns": null,
            "grid_template_rows": null,
            "height": null,
            "justify_content": null,
            "justify_items": null,
            "left": null,
            "margin": null,
            "max_height": null,
            "max_width": null,
            "min_height": null,
            "min_width": null,
            "object_fit": null,
            "object_position": null,
            "order": null,
            "overflow": null,
            "overflow_x": null,
            "overflow_y": null,
            "padding": null,
            "right": null,
            "top": null,
            "visibility": null,
            "width": null
          }
        },
        "55b787e06d81499da0fed6049d578748": {
          "model_module": "@jupyter-widgets/controls",
          "model_name": "DescriptionStyleModel",
          "model_module_version": "1.5.0",
          "state": {
            "_model_module": "@jupyter-widgets/controls",
            "_model_module_version": "1.5.0",
            "_model_name": "DescriptionStyleModel",
            "_view_count": null,
            "_view_module": "@jupyter-widgets/base",
            "_view_module_version": "1.2.0",
            "_view_name": "StyleView",
            "description_width": ""
          }
        },
        "0b25bb1ed4d347f48a054fc74a61bdeb": {
          "model_module": "@jupyter-widgets/controls",
          "model_name": "HBoxModel",
          "model_module_version": "1.5.0",
          "state": {
            "_dom_classes": [],
            "_model_module": "@jupyter-widgets/controls",
            "_model_module_version": "1.5.0",
            "_model_name": "HBoxModel",
            "_view_count": null,
            "_view_module": "@jupyter-widgets/controls",
            "_view_module_version": "1.5.0",
            "_view_name": "HBoxView",
            "box_style": "",
            "children": [
              "IPY_MODEL_04f9689f1e05442fa38a7fee94b9cac8",
              "IPY_MODEL_2bbdae0c29dc4552bfc921741d511d7e",
              "IPY_MODEL_44c2382ad4a94ffa8d206b4083239db5"
            ],
            "layout": "IPY_MODEL_b8a455ce2c8343109058ace3d111d226"
          }
        },
        "04f9689f1e05442fa38a7fee94b9cac8": {
          "model_module": "@jupyter-widgets/controls",
          "model_name": "HTMLModel",
          "model_module_version": "1.5.0",
          "state": {
            "_dom_classes": [],
            "_model_module": "@jupyter-widgets/controls",
            "_model_module_version": "1.5.0",
            "_model_name": "HTMLModel",
            "_view_count": null,
            "_view_module": "@jupyter-widgets/controls",
            "_view_module_version": "1.5.0",
            "_view_name": "HTMLView",
            "description": "",
            "description_tooltip": null,
            "layout": "IPY_MODEL_21008d861d154ce88a7ad94f49b8fce6",
            "placeholder": "​",
            "style": "IPY_MODEL_0a52a3bddcb14748be17fdaa42382b5d",
            "value": "Downloading model.safetensors: 100%"
          }
        },
        "2bbdae0c29dc4552bfc921741d511d7e": {
          "model_module": "@jupyter-widgets/controls",
          "model_name": "FloatProgressModel",
          "model_module_version": "1.5.0",
          "state": {
            "_dom_classes": [],
            "_model_module": "@jupyter-widgets/controls",
            "_model_module_version": "1.5.0",
            "_model_name": "FloatProgressModel",
            "_view_count": null,
            "_view_module": "@jupyter-widgets/controls",
            "_view_module_version": "1.5.0",
            "_view_name": "ProgressView",
            "bar_style": "success",
            "description": "",
            "description_tooltip": null,
            "layout": "IPY_MODEL_25d39a3d123d42a1ac224b3b0ff8bbb1",
            "max": 267954768,
            "min": 0,
            "orientation": "horizontal",
            "style": "IPY_MODEL_4b8edefdfccd47cda4fb3d42411e0fb9",
            "value": 267954768
          }
        },
        "44c2382ad4a94ffa8d206b4083239db5": {
          "model_module": "@jupyter-widgets/controls",
          "model_name": "HTMLModel",
          "model_module_version": "1.5.0",
          "state": {
            "_dom_classes": [],
            "_model_module": "@jupyter-widgets/controls",
            "_model_module_version": "1.5.0",
            "_model_name": "HTMLModel",
            "_view_count": null,
            "_view_module": "@jupyter-widgets/controls",
            "_view_module_version": "1.5.0",
            "_view_name": "HTMLView",
            "description": "",
            "description_tooltip": null,
            "layout": "IPY_MODEL_b985f887808b4b0ea8dfc830483530ef",
            "placeholder": "​",
            "style": "IPY_MODEL_c2e70346cd4941fdbd9eec88bae6bb91",
            "value": " 268M/268M [00:01&lt;00:00, 204MB/s]"
          }
        },
        "b8a455ce2c8343109058ace3d111d226": {
          "model_module": "@jupyter-widgets/base",
          "model_name": "LayoutModel",
          "model_module_version": "1.2.0",
          "state": {
            "_model_module": "@jupyter-widgets/base",
            "_model_module_version": "1.2.0",
            "_model_name": "LayoutModel",
            "_view_count": null,
            "_view_module": "@jupyter-widgets/base",
            "_view_module_version": "1.2.0",
            "_view_name": "LayoutView",
            "align_content": null,
            "align_items": null,
            "align_self": null,
            "border": null,
            "bottom": null,
            "display": null,
            "flex": null,
            "flex_flow": null,
            "grid_area": null,
            "grid_auto_columns": null,
            "grid_auto_flow": null,
            "grid_auto_rows": null,
            "grid_column": null,
            "grid_gap": null,
            "grid_row": null,
            "grid_template_areas": null,
            "grid_template_columns": null,
            "grid_template_rows": null,
            "height": null,
            "justify_content": null,
            "justify_items": null,
            "left": null,
            "margin": null,
            "max_height": null,
            "max_width": null,
            "min_height": null,
            "min_width": null,
            "object_fit": null,
            "object_position": null,
            "order": null,
            "overflow": null,
            "overflow_x": null,
            "overflow_y": null,
            "padding": null,
            "right": null,
            "top": null,
            "visibility": null,
            "width": null
          }
        },
        "21008d861d154ce88a7ad94f49b8fce6": {
          "model_module": "@jupyter-widgets/base",
          "model_name": "LayoutModel",
          "model_module_version": "1.2.0",
          "state": {
            "_model_module": "@jupyter-widgets/base",
            "_model_module_version": "1.2.0",
            "_model_name": "LayoutModel",
            "_view_count": null,
            "_view_module": "@jupyter-widgets/base",
            "_view_module_version": "1.2.0",
            "_view_name": "LayoutView",
            "align_content": null,
            "align_items": null,
            "align_self": null,
            "border": null,
            "bottom": null,
            "display": null,
            "flex": null,
            "flex_flow": null,
            "grid_area": null,
            "grid_auto_columns": null,
            "grid_auto_flow": null,
            "grid_auto_rows": null,
            "grid_column": null,
            "grid_gap": null,
            "grid_row": null,
            "grid_template_areas": null,
            "grid_template_columns": null,
            "grid_template_rows": null,
            "height": null,
            "justify_content": null,
            "justify_items": null,
            "left": null,
            "margin": null,
            "max_height": null,
            "max_width": null,
            "min_height": null,
            "min_width": null,
            "object_fit": null,
            "object_position": null,
            "order": null,
            "overflow": null,
            "overflow_x": null,
            "overflow_y": null,
            "padding": null,
            "right": null,
            "top": null,
            "visibility": null,
            "width": null
          }
        },
        "0a52a3bddcb14748be17fdaa42382b5d": {
          "model_module": "@jupyter-widgets/controls",
          "model_name": "DescriptionStyleModel",
          "model_module_version": "1.5.0",
          "state": {
            "_model_module": "@jupyter-widgets/controls",
            "_model_module_version": "1.5.0",
            "_model_name": "DescriptionStyleModel",
            "_view_count": null,
            "_view_module": "@jupyter-widgets/base",
            "_view_module_version": "1.2.0",
            "_view_name": "StyleView",
            "description_width": ""
          }
        },
        "25d39a3d123d42a1ac224b3b0ff8bbb1": {
          "model_module": "@jupyter-widgets/base",
          "model_name": "LayoutModel",
          "model_module_version": "1.2.0",
          "state": {
            "_model_module": "@jupyter-widgets/base",
            "_model_module_version": "1.2.0",
            "_model_name": "LayoutModel",
            "_view_count": null,
            "_view_module": "@jupyter-widgets/base",
            "_view_module_version": "1.2.0",
            "_view_name": "LayoutView",
            "align_content": null,
            "align_items": null,
            "align_self": null,
            "border": null,
            "bottom": null,
            "display": null,
            "flex": null,
            "flex_flow": null,
            "grid_area": null,
            "grid_auto_columns": null,
            "grid_auto_flow": null,
            "grid_auto_rows": null,
            "grid_column": null,
            "grid_gap": null,
            "grid_row": null,
            "grid_template_areas": null,
            "grid_template_columns": null,
            "grid_template_rows": null,
            "height": null,
            "justify_content": null,
            "justify_items": null,
            "left": null,
            "margin": null,
            "max_height": null,
            "max_width": null,
            "min_height": null,
            "min_width": null,
            "object_fit": null,
            "object_position": null,
            "order": null,
            "overflow": null,
            "overflow_x": null,
            "overflow_y": null,
            "padding": null,
            "right": null,
            "top": null,
            "visibility": null,
            "width": null
          }
        },
        "4b8edefdfccd47cda4fb3d42411e0fb9": {
          "model_module": "@jupyter-widgets/controls",
          "model_name": "ProgressStyleModel",
          "model_module_version": "1.5.0",
          "state": {
            "_model_module": "@jupyter-widgets/controls",
            "_model_module_version": "1.5.0",
            "_model_name": "ProgressStyleModel",
            "_view_count": null,
            "_view_module": "@jupyter-widgets/base",
            "_view_module_version": "1.2.0",
            "_view_name": "StyleView",
            "bar_color": null,
            "description_width": ""
          }
        },
        "b985f887808b4b0ea8dfc830483530ef": {
          "model_module": "@jupyter-widgets/base",
          "model_name": "LayoutModel",
          "model_module_version": "1.2.0",
          "state": {
            "_model_module": "@jupyter-widgets/base",
            "_model_module_version": "1.2.0",
            "_model_name": "LayoutModel",
            "_view_count": null,
            "_view_module": "@jupyter-widgets/base",
            "_view_module_version": "1.2.0",
            "_view_name": "LayoutView",
            "align_content": null,
            "align_items": null,
            "align_self": null,
            "border": null,
            "bottom": null,
            "display": null,
            "flex": null,
            "flex_flow": null,
            "grid_area": null,
            "grid_auto_columns": null,
            "grid_auto_flow": null,
            "grid_auto_rows": null,
            "grid_column": null,
            "grid_gap": null,
            "grid_row": null,
            "grid_template_areas": null,
            "grid_template_columns": null,
            "grid_template_rows": null,
            "height": null,
            "justify_content": null,
            "justify_items": null,
            "left": null,
            "margin": null,
            "max_height": null,
            "max_width": null,
            "min_height": null,
            "min_width": null,
            "object_fit": null,
            "object_position": null,
            "order": null,
            "overflow": null,
            "overflow_x": null,
            "overflow_y": null,
            "padding": null,
            "right": null,
            "top": null,
            "visibility": null,
            "width": null
          }
        },
        "c2e70346cd4941fdbd9eec88bae6bb91": {
          "model_module": "@jupyter-widgets/controls",
          "model_name": "DescriptionStyleModel",
          "model_module_version": "1.5.0",
          "state": {
            "_model_module": "@jupyter-widgets/controls",
            "_model_module_version": "1.5.0",
            "_model_name": "DescriptionStyleModel",
            "_view_count": null,
            "_view_module": "@jupyter-widgets/base",
            "_view_module_version": "1.2.0",
            "_view_name": "StyleView",
            "description_width": ""
          }
        }
      }
    }
  },
  "cells": [
    {
      "cell_type": "markdown",
      "source": [
        "# Load modules and dataset"
      ],
      "metadata": {
        "id": "et13iG3p2HoK"
      }
    },
    {
      "cell_type": "code",
      "execution_count": null,
      "metadata": {
        "colab": {
          "base_uri": "https://localhost:8080/"
        },
        "id": "fDYdsOeNvjLV",
        "outputId": "c0c06d32-d168-462e-8e87-167d4d6716ff"
      },
      "outputs": [
        {
          "output_type": "stream",
          "name": "stdout",
          "text": [
            "Collecting transformers\n",
            "  Downloading transformers-4.30.2-py3-none-any.whl (7.2 MB)\n",
            "\u001b[2K     \u001b[90m━━━━━━━━━━━━━━━━━━━━━━━━━━━━━━━━━━━━━━━━\u001b[0m \u001b[32m7.2/7.2 MB\u001b[0m \u001b[31m70.5 MB/s\u001b[0m eta \u001b[36m0:00:00\u001b[0m\n",
            "\u001b[?25hRequirement already satisfied: filelock in /usr/local/lib/python3.10/dist-packages (from transformers) (3.12.2)\n",
            "Collecting huggingface-hub<1.0,>=0.14.1 (from transformers)\n",
            "  Downloading huggingface_hub-0.16.4-py3-none-any.whl (268 kB)\n",
            "\u001b[2K     \u001b[90m━━━━━━━━━━━━━━━━━━━━━━━━━━━━━━━━━━━━━━\u001b[0m \u001b[32m268.8/268.8 kB\u001b[0m \u001b[31m30.9 MB/s\u001b[0m eta \u001b[36m0:00:00\u001b[0m\n",
            "\u001b[?25hRequirement already satisfied: numpy>=1.17 in /usr/local/lib/python3.10/dist-packages (from transformers) (1.22.4)\n",
            "Requirement already satisfied: packaging>=20.0 in /usr/local/lib/python3.10/dist-packages (from transformers) (23.1)\n",
            "Requirement already satisfied: pyyaml>=5.1 in /usr/local/lib/python3.10/dist-packages (from transformers) (6.0)\n",
            "Requirement already satisfied: regex!=2019.12.17 in /usr/local/lib/python3.10/dist-packages (from transformers) (2022.10.31)\n",
            "Requirement already satisfied: requests in /usr/local/lib/python3.10/dist-packages (from transformers) (2.27.1)\n",
            "Collecting tokenizers!=0.11.3,<0.14,>=0.11.1 (from transformers)\n",
            "  Downloading tokenizers-0.13.3-cp310-cp310-manylinux_2_17_x86_64.manylinux2014_x86_64.whl (7.8 MB)\n",
            "\u001b[2K     \u001b[90m━━━━━━━━━━━━━━━━━━━━━━━━━━━━━━━━━━━━━━━━\u001b[0m \u001b[32m7.8/7.8 MB\u001b[0m \u001b[31m97.3 MB/s\u001b[0m eta \u001b[36m0:00:00\u001b[0m\n",
            "\u001b[?25hCollecting safetensors>=0.3.1 (from transformers)\n",
            "  Downloading safetensors-0.3.1-cp310-cp310-manylinux_2_17_x86_64.manylinux2014_x86_64.whl (1.3 MB)\n",
            "\u001b[2K     \u001b[90m━━━━━━━━━━━━━━━━━━━━━━━━━━━━━━━━━━━━━━━━\u001b[0m \u001b[32m1.3/1.3 MB\u001b[0m \u001b[31m80.4 MB/s\u001b[0m eta \u001b[36m0:00:00\u001b[0m\n",
            "\u001b[?25hRequirement already satisfied: tqdm>=4.27 in /usr/local/lib/python3.10/dist-packages (from transformers) (4.65.0)\n",
            "Requirement already satisfied: fsspec in /usr/local/lib/python3.10/dist-packages (from huggingface-hub<1.0,>=0.14.1->transformers) (2023.6.0)\n",
            "Requirement already satisfied: typing-extensions>=3.7.4.3 in /usr/local/lib/python3.10/dist-packages (from huggingface-hub<1.0,>=0.14.1->transformers) (4.7.1)\n",
            "Requirement already satisfied: urllib3<1.27,>=1.21.1 in /usr/local/lib/python3.10/dist-packages (from requests->transformers) (1.26.16)\n",
            "Requirement already satisfied: certifi>=2017.4.17 in /usr/local/lib/python3.10/dist-packages (from requests->transformers) (2023.5.7)\n",
            "Requirement already satisfied: charset-normalizer~=2.0.0 in /usr/local/lib/python3.10/dist-packages (from requests->transformers) (2.0.12)\n",
            "Requirement already satisfied: idna<4,>=2.5 in /usr/local/lib/python3.10/dist-packages (from requests->transformers) (3.4)\n",
            "Installing collected packages: tokenizers, safetensors, huggingface-hub, transformers\n",
            "Successfully installed huggingface-hub-0.16.4 safetensors-0.3.1 tokenizers-0.13.3 transformers-4.30.2\n",
            "Collecting sentencepiece\n",
            "  Downloading sentencepiece-0.1.99-cp310-cp310-manylinux_2_17_x86_64.manylinux2014_x86_64.whl (1.3 MB)\n",
            "\u001b[2K     \u001b[90m━━━━━━━━━━━━━━━━━━━━━━━━━━━━━━━━━━━━━━━━\u001b[0m \u001b[32m1.3/1.3 MB\u001b[0m \u001b[31m24.2 MB/s\u001b[0m eta \u001b[36m0:00:00\u001b[0m\n",
            "\u001b[?25hInstalling collected packages: sentencepiece\n",
            "Successfully installed sentencepiece-0.1.99\n"
          ]
        }
      ],
      "source": [
        "!pip install transformers\n",
        "!pip install sentencepiece"
      ]
    },
    {
      "cell_type": "code",
      "source": [
        "!pip install imbalanced-learn\n",
        "!pip install scikeras"
      ],
      "metadata": {
        "colab": {
          "base_uri": "https://localhost:8080/"
        },
        "id": "zKa2LzUnjXxA",
        "outputId": "c0ebe07c-ed07-4687-c3b4-d3cd9b12694c"
      },
      "execution_count": null,
      "outputs": [
        {
          "output_type": "stream",
          "name": "stdout",
          "text": [
            "Requirement already satisfied: imbalanced-learn in /usr/local/lib/python3.10/dist-packages (0.10.1)\n",
            "Requirement already satisfied: numpy>=1.17.3 in /usr/local/lib/python3.10/dist-packages (from imbalanced-learn) (1.22.4)\n",
            "Requirement already satisfied: scipy>=1.3.2 in /usr/local/lib/python3.10/dist-packages (from imbalanced-learn) (1.10.1)\n",
            "Requirement already satisfied: scikit-learn>=1.0.2 in /usr/local/lib/python3.10/dist-packages (from imbalanced-learn) (1.2.2)\n",
            "Requirement already satisfied: joblib>=1.1.1 in /usr/local/lib/python3.10/dist-packages (from imbalanced-learn) (1.3.1)\n",
            "Requirement already satisfied: threadpoolctl>=2.0.0 in /usr/local/lib/python3.10/dist-packages (from imbalanced-learn) (3.1.0)\n",
            "Collecting scikeras\n",
            "  Downloading scikeras-0.11.0-py3-none-any.whl (27 kB)\n",
            "Requirement already satisfied: packaging>=0.21 in /usr/local/lib/python3.10/dist-packages (from scikeras) (23.1)\n",
            "Requirement already satisfied: scikit-learn>=1.0.0 in /usr/local/lib/python3.10/dist-packages (from scikeras) (1.2.2)\n",
            "Requirement already satisfied: numpy>=1.17.3 in /usr/local/lib/python3.10/dist-packages (from scikit-learn>=1.0.0->scikeras) (1.22.4)\n",
            "Requirement already satisfied: scipy>=1.3.2 in /usr/local/lib/python3.10/dist-packages (from scikit-learn>=1.0.0->scikeras) (1.10.1)\n",
            "Requirement already satisfied: joblib>=1.1.1 in /usr/local/lib/python3.10/dist-packages (from scikit-learn>=1.0.0->scikeras) (1.3.1)\n",
            "Requirement already satisfied: threadpoolctl>=2.0.0 in /usr/local/lib/python3.10/dist-packages (from scikit-learn>=1.0.0->scikeras) (3.1.0)\n",
            "Installing collected packages: scikeras\n",
            "Successfully installed scikeras-0.11.0\n"
          ]
        }
      ]
    },
    {
      "cell_type": "code",
      "execution_count": null,
      "metadata": {
        "colab": {
          "base_uri": "https://localhost:8080/"
        },
        "id": "I4aS9lZdpC3R",
        "outputId": "910a3cbe-d997-4bfc-def4-b254706fc29d"
      },
      "outputs": [
        {
          "output_type": "stream",
          "name": "stdout",
          "text": [
            "Mounted at /content/drive\n"
          ]
        }
      ],
      "source": [
        "from google.colab import drive\n",
        "drive.mount('/content/drive')"
      ]
    },
    {
      "cell_type": "code",
      "execution_count": null,
      "metadata": {
        "id": "6aE0WVHzizOv"
      },
      "outputs": [],
      "source": [
        "import tensorflow as tf\n",
        "import seaborn as sns\n",
        "from sklearn.metrics import accuracy_score, recall_score, f1_score, make_scorer, precision_score, recall_score, log_loss\n",
        "from sklearn.metrics import precision_score\n",
        "import matplotlib.pyplot as plt\n",
        "from sklearn.metrics import confusion_matrix, classification_report\n",
        "import pandas as pd\n",
        "import numpy as np\n",
        "from sklearn.preprocessing import LabelEncoder, MultiLabelBinarizer\n",
        "import transformers\n",
        "from transformers import DistilBertTokenizer, TFDistilBertModel, TFDistilBertForSequenceClassification, DistilBertTokenizerFast\n",
        "from transformers import MobileBertTokenizer, TFMobileBertModel\n",
        "from transformers import AutoTokenizer, TFAlbertModel\n",
        "from sklearn.model_selection import train_test_split\n",
        "from tensorflow.keras.models import Sequential, Model\n",
        "from tensorflow.keras.layers import Conv1D, Conv2D,MaxPooling1D, MaxPooling2D, Flatten, Dense, Dropout, LSTM, BatchNormalization, Input, Concatenate, Bidirectional\n",
        "from sklearn.model_selection import StratifiedKFold, cross_validate\n",
        "import torch\n",
        "import requests\n",
        "from tensorflow.keras import activations, optimizers, losses, regularizers\n",
        "from tensorflow.keras.callbacks import EarlyStopping\n",
        "from tensorflow.keras.utils import to_categorical, plot_model\n",
        "from scikeras.wrappers import KerasClassifier, KerasRegressor"
      ]
    },
    {
      "cell_type": "code",
      "execution_count": null,
      "metadata": {
        "id": "sYtCFcErmVEy"
      },
      "outputs": [],
      "source": [
        "path = '/content/drive/MyDrive/FakeNewsNet/final.csv'\n",
        "df = pd.read_csv(path,delimiter=',')"
      ]
    },
    {
      "cell_type": "code",
      "source": [
        "df.head()"
      ],
      "metadata": {
        "colab": {
          "base_uri": "https://localhost:8080/",
          "height": 206
        },
        "id": "ZuIihN5bNoZT",
        "outputId": "68f469af-7938-45f4-e9f8-a8c6193366f0"
      },
      "execution_count": null,
      "outputs": [
        {
          "output_type": "execute_result",
          "data": {
            "text/plain": [
              "                                               title label\n",
              "0  Jax Taylor recalls his 'near-death' experience...  true\n",
              "1                               Bobbi Kristina Brown  true\n",
              "2  'Shahs of Sunset' Star Mercedes 'MJ' Javid Is ...  true\n",
              "3  Kourtney Kardashian Needs Scott Disick to Be '...  true\n",
              "4  Celine Dion Sings Rihanna Song When Asked Abou...  true"
            ],
            "text/html": [
              "\n",
              "  <div id=\"df-e8216f69-1389-43c1-9da3-7c3da1fbed27\">\n",
              "    <div class=\"colab-df-container\">\n",
              "      <div>\n",
              "<style scoped>\n",
              "    .dataframe tbody tr th:only-of-type {\n",
              "        vertical-align: middle;\n",
              "    }\n",
              "\n",
              "    .dataframe tbody tr th {\n",
              "        vertical-align: top;\n",
              "    }\n",
              "\n",
              "    .dataframe thead th {\n",
              "        text-align: right;\n",
              "    }\n",
              "</style>\n",
              "<table border=\"1\" class=\"dataframe\">\n",
              "  <thead>\n",
              "    <tr style=\"text-align: right;\">\n",
              "      <th></th>\n",
              "      <th>title</th>\n",
              "      <th>label</th>\n",
              "    </tr>\n",
              "  </thead>\n",
              "  <tbody>\n",
              "    <tr>\n",
              "      <th>0</th>\n",
              "      <td>Jax Taylor recalls his 'near-death' experience...</td>\n",
              "      <td>true</td>\n",
              "    </tr>\n",
              "    <tr>\n",
              "      <th>1</th>\n",
              "      <td>Bobbi Kristina Brown</td>\n",
              "      <td>true</td>\n",
              "    </tr>\n",
              "    <tr>\n",
              "      <th>2</th>\n",
              "      <td>'Shahs of Sunset' Star Mercedes 'MJ' Javid Is ...</td>\n",
              "      <td>true</td>\n",
              "    </tr>\n",
              "    <tr>\n",
              "      <th>3</th>\n",
              "      <td>Kourtney Kardashian Needs Scott Disick to Be '...</td>\n",
              "      <td>true</td>\n",
              "    </tr>\n",
              "    <tr>\n",
              "      <th>4</th>\n",
              "      <td>Celine Dion Sings Rihanna Song When Asked Abou...</td>\n",
              "      <td>true</td>\n",
              "    </tr>\n",
              "  </tbody>\n",
              "</table>\n",
              "</div>\n",
              "      <button class=\"colab-df-convert\" onclick=\"convertToInteractive('df-e8216f69-1389-43c1-9da3-7c3da1fbed27')\"\n",
              "              title=\"Convert this dataframe to an interactive table.\"\n",
              "              style=\"display:none;\">\n",
              "        \n",
              "  <svg xmlns=\"http://www.w3.org/2000/svg\" height=\"24px\"viewBox=\"0 0 24 24\"\n",
              "       width=\"24px\">\n",
              "    <path d=\"M0 0h24v24H0V0z\" fill=\"none\"/>\n",
              "    <path d=\"M18.56 5.44l.94 2.06.94-2.06 2.06-.94-2.06-.94-.94-2.06-.94 2.06-2.06.94zm-11 1L8.5 8.5l.94-2.06 2.06-.94-2.06-.94L8.5 2.5l-.94 2.06-2.06.94zm10 10l.94 2.06.94-2.06 2.06-.94-2.06-.94-.94-2.06-.94 2.06-2.06.94z\"/><path d=\"M17.41 7.96l-1.37-1.37c-.4-.4-.92-.59-1.43-.59-.52 0-1.04.2-1.43.59L10.3 9.45l-7.72 7.72c-.78.78-.78 2.05 0 2.83L4 21.41c.39.39.9.59 1.41.59.51 0 1.02-.2 1.41-.59l7.78-7.78 2.81-2.81c.8-.78.8-2.07 0-2.86zM5.41 20L4 18.59l7.72-7.72 1.47 1.35L5.41 20z\"/>\n",
              "  </svg>\n",
              "      </button>\n",
              "      \n",
              "  <style>\n",
              "    .colab-df-container {\n",
              "      display:flex;\n",
              "      flex-wrap:wrap;\n",
              "      gap: 12px;\n",
              "    }\n",
              "\n",
              "    .colab-df-convert {\n",
              "      background-color: #E8F0FE;\n",
              "      border: none;\n",
              "      border-radius: 50%;\n",
              "      cursor: pointer;\n",
              "      display: none;\n",
              "      fill: #1967D2;\n",
              "      height: 32px;\n",
              "      padding: 0 0 0 0;\n",
              "      width: 32px;\n",
              "    }\n",
              "\n",
              "    .colab-df-convert:hover {\n",
              "      background-color: #E2EBFA;\n",
              "      box-shadow: 0px 1px 2px rgba(60, 64, 67, 0.3), 0px 1px 3px 1px rgba(60, 64, 67, 0.15);\n",
              "      fill: #174EA6;\n",
              "    }\n",
              "\n",
              "    [theme=dark] .colab-df-convert {\n",
              "      background-color: #3B4455;\n",
              "      fill: #D2E3FC;\n",
              "    }\n",
              "\n",
              "    [theme=dark] .colab-df-convert:hover {\n",
              "      background-color: #434B5C;\n",
              "      box-shadow: 0px 1px 3px 1px rgba(0, 0, 0, 0.15);\n",
              "      filter: drop-shadow(0px 1px 2px rgba(0, 0, 0, 0.3));\n",
              "      fill: #FFFFFF;\n",
              "    }\n",
              "  </style>\n",
              "\n",
              "      <script>\n",
              "        const buttonEl =\n",
              "          document.querySelector('#df-e8216f69-1389-43c1-9da3-7c3da1fbed27 button.colab-df-convert');\n",
              "        buttonEl.style.display =\n",
              "          google.colab.kernel.accessAllowed ? 'block' : 'none';\n",
              "\n",
              "        async function convertToInteractive(key) {\n",
              "          const element = document.querySelector('#df-e8216f69-1389-43c1-9da3-7c3da1fbed27');\n",
              "          const dataTable =\n",
              "            await google.colab.kernel.invokeFunction('convertToInteractive',\n",
              "                                                     [key], {});\n",
              "          if (!dataTable) return;\n",
              "\n",
              "          const docLinkHtml = 'Like what you see? Visit the ' +\n",
              "            '<a target=\"_blank\" href=https://colab.research.google.com/notebooks/data_table.ipynb>data table notebook</a>'\n",
              "            + ' to learn more about interactive tables.';\n",
              "          element.innerHTML = '';\n",
              "          dataTable['output_type'] = 'display_data';\n",
              "          await google.colab.output.renderOutput(dataTable, element);\n",
              "          const docLink = document.createElement('div');\n",
              "          docLink.innerHTML = docLinkHtml;\n",
              "          element.appendChild(docLink);\n",
              "        }\n",
              "      </script>\n",
              "    </div>\n",
              "  </div>\n",
              "  "
            ]
          },
          "metadata": {},
          "execution_count": 6
        }
      ]
    },
    {
      "cell_type": "code",
      "execution_count": null,
      "metadata": {
        "colab": {
          "base_uri": "https://localhost:8080/",
          "height": 206
        },
        "id": "3muLE3mp4oO6",
        "outputId": "36563d6c-b2d8-4bf1-8e8c-5bfd67126561"
      },
      "outputs": [
        {
          "output_type": "execute_result",
          "data": {
            "text/plain": [
              "                                               title  label\n",
              "0  Jax Taylor recalls his 'near-death' experience...      1\n",
              "1                               Bobbi Kristina Brown      1\n",
              "2  'Shahs of Sunset' Star Mercedes 'MJ' Javid Is ...      1\n",
              "3  Kourtney Kardashian Needs Scott Disick to Be '...      1\n",
              "4  Celine Dion Sings Rihanna Song When Asked Abou...      1"
            ],
            "text/html": [
              "\n",
              "  <div id=\"df-7e64df7f-5da6-44d8-aa09-498c9d5935b3\">\n",
              "    <div class=\"colab-df-container\">\n",
              "      <div>\n",
              "<style scoped>\n",
              "    .dataframe tbody tr th:only-of-type {\n",
              "        vertical-align: middle;\n",
              "    }\n",
              "\n",
              "    .dataframe tbody tr th {\n",
              "        vertical-align: top;\n",
              "    }\n",
              "\n",
              "    .dataframe thead th {\n",
              "        text-align: right;\n",
              "    }\n",
              "</style>\n",
              "<table border=\"1\" class=\"dataframe\">\n",
              "  <thead>\n",
              "    <tr style=\"text-align: right;\">\n",
              "      <th></th>\n",
              "      <th>title</th>\n",
              "      <th>label</th>\n",
              "    </tr>\n",
              "  </thead>\n",
              "  <tbody>\n",
              "    <tr>\n",
              "      <th>0</th>\n",
              "      <td>Jax Taylor recalls his 'near-death' experience...</td>\n",
              "      <td>1</td>\n",
              "    </tr>\n",
              "    <tr>\n",
              "      <th>1</th>\n",
              "      <td>Bobbi Kristina Brown</td>\n",
              "      <td>1</td>\n",
              "    </tr>\n",
              "    <tr>\n",
              "      <th>2</th>\n",
              "      <td>'Shahs of Sunset' Star Mercedes 'MJ' Javid Is ...</td>\n",
              "      <td>1</td>\n",
              "    </tr>\n",
              "    <tr>\n",
              "      <th>3</th>\n",
              "      <td>Kourtney Kardashian Needs Scott Disick to Be '...</td>\n",
              "      <td>1</td>\n",
              "    </tr>\n",
              "    <tr>\n",
              "      <th>4</th>\n",
              "      <td>Celine Dion Sings Rihanna Song When Asked Abou...</td>\n",
              "      <td>1</td>\n",
              "    </tr>\n",
              "  </tbody>\n",
              "</table>\n",
              "</div>\n",
              "      <button class=\"colab-df-convert\" onclick=\"convertToInteractive('df-7e64df7f-5da6-44d8-aa09-498c9d5935b3')\"\n",
              "              title=\"Convert this dataframe to an interactive table.\"\n",
              "              style=\"display:none;\">\n",
              "        \n",
              "  <svg xmlns=\"http://www.w3.org/2000/svg\" height=\"24px\"viewBox=\"0 0 24 24\"\n",
              "       width=\"24px\">\n",
              "    <path d=\"M0 0h24v24H0V0z\" fill=\"none\"/>\n",
              "    <path d=\"M18.56 5.44l.94 2.06.94-2.06 2.06-.94-2.06-.94-.94-2.06-.94 2.06-2.06.94zm-11 1L8.5 8.5l.94-2.06 2.06-.94-2.06-.94L8.5 2.5l-.94 2.06-2.06.94zm10 10l.94 2.06.94-2.06 2.06-.94-2.06-.94-.94-2.06-.94 2.06-2.06.94z\"/><path d=\"M17.41 7.96l-1.37-1.37c-.4-.4-.92-.59-1.43-.59-.52 0-1.04.2-1.43.59L10.3 9.45l-7.72 7.72c-.78.78-.78 2.05 0 2.83L4 21.41c.39.39.9.59 1.41.59.51 0 1.02-.2 1.41-.59l7.78-7.78 2.81-2.81c.8-.78.8-2.07 0-2.86zM5.41 20L4 18.59l7.72-7.72 1.47 1.35L5.41 20z\"/>\n",
              "  </svg>\n",
              "      </button>\n",
              "      \n",
              "  <style>\n",
              "    .colab-df-container {\n",
              "      display:flex;\n",
              "      flex-wrap:wrap;\n",
              "      gap: 12px;\n",
              "    }\n",
              "\n",
              "    .colab-df-convert {\n",
              "      background-color: #E8F0FE;\n",
              "      border: none;\n",
              "      border-radius: 50%;\n",
              "      cursor: pointer;\n",
              "      display: none;\n",
              "      fill: #1967D2;\n",
              "      height: 32px;\n",
              "      padding: 0 0 0 0;\n",
              "      width: 32px;\n",
              "    }\n",
              "\n",
              "    .colab-df-convert:hover {\n",
              "      background-color: #E2EBFA;\n",
              "      box-shadow: 0px 1px 2px rgba(60, 64, 67, 0.3), 0px 1px 3px 1px rgba(60, 64, 67, 0.15);\n",
              "      fill: #174EA6;\n",
              "    }\n",
              "\n",
              "    [theme=dark] .colab-df-convert {\n",
              "      background-color: #3B4455;\n",
              "      fill: #D2E3FC;\n",
              "    }\n",
              "\n",
              "    [theme=dark] .colab-df-convert:hover {\n",
              "      background-color: #434B5C;\n",
              "      box-shadow: 0px 1px 3px 1px rgba(0, 0, 0, 0.15);\n",
              "      filter: drop-shadow(0px 1px 2px rgba(0, 0, 0, 0.3));\n",
              "      fill: #FFFFFF;\n",
              "    }\n",
              "  </style>\n",
              "\n",
              "      <script>\n",
              "        const buttonEl =\n",
              "          document.querySelector('#df-7e64df7f-5da6-44d8-aa09-498c9d5935b3 button.colab-df-convert');\n",
              "        buttonEl.style.display =\n",
              "          google.colab.kernel.accessAllowed ? 'block' : 'none';\n",
              "\n",
              "        async function convertToInteractive(key) {\n",
              "          const element = document.querySelector('#df-7e64df7f-5da6-44d8-aa09-498c9d5935b3');\n",
              "          const dataTable =\n",
              "            await google.colab.kernel.invokeFunction('convertToInteractive',\n",
              "                                                     [key], {});\n",
              "          if (!dataTable) return;\n",
              "\n",
              "          const docLinkHtml = 'Like what you see? Visit the ' +\n",
              "            '<a target=\"_blank\" href=https://colab.research.google.com/notebooks/data_table.ipynb>data table notebook</a>'\n",
              "            + ' to learn more about interactive tables.';\n",
              "          element.innerHTML = '';\n",
              "          dataTable['output_type'] = 'display_data';\n",
              "          await google.colab.output.renderOutput(dataTable, element);\n",
              "          const docLink = document.createElement('div');\n",
              "          docLink.innerHTML = docLinkHtml;\n",
              "          element.appendChild(docLink);\n",
              "        }\n",
              "      </script>\n",
              "    </div>\n",
              "  </div>\n",
              "  "
            ]
          },
          "metadata": {},
          "execution_count": 7
        }
      ],
      "source": [
        "label_encoder = LabelEncoder()\n",
        "label = df['label']\n",
        "labels_encoded = label_encoder.fit_transform(label)\n",
        "df['label'] = labels_encoded\n",
        "df.head()"
      ]
    },
    {
      "cell_type": "code",
      "source": [
        "\n",
        "import nltk\n",
        "from nltk.corpus import wordnet\n",
        "\n",
        "nltk.download('wordnet')\n",
        "nltk.download('punkt')\n",
        "\n",
        "import re\n",
        "\n",
        "def replace_with_synonyms(text):\n",
        "    tokens = nltk.word_tokenize(text)\n",
        "    synonyms = []\n",
        "\n",
        "    for token in tokens:\n",
        "        if re.match(r'\\w+', token):\n",
        "            synsets = wordnet.synsets(token)\n",
        "            if synsets:\n",
        "                lemma_names = synsets[0].lemma_names()\n",
        "                if lemma_names:\n",
        "                    synonyms.append(lemma_names[0])\n",
        "                else:\n",
        "                    synonyms.append(token)\n",
        "            else:\n",
        "                synonyms.append(token)\n",
        "        else:\n",
        "            synonyms.append(token)\n",
        "\n",
        "    return ' '.join(synonyms)\n"
      ],
      "metadata": {
        "colab": {
          "base_uri": "https://localhost:8080/"
        },
        "id": "Rv6qCNTGGlAm",
        "outputId": "c8d9271b-e4a0-43ac-8fe8-cf016b07a413"
      },
      "execution_count": null,
      "outputs": [
        {
          "output_type": "stream",
          "name": "stderr",
          "text": [
            "[nltk_data] Downloading package wordnet to /root/nltk_data...\n",
            "[nltk_data] Downloading package punkt to /root/nltk_data...\n",
            "[nltk_data]   Unzipping tokenizers/punkt.zip.\n"
          ]
        }
      ]
    },
    {
      "cell_type": "code",
      "source": [
        "minority_samples = df[df['label'] == 0]\n",
        "\n",
        "synthetic_samples = minority_samples['title'].apply(replace_with_synonyms)\n",
        "\n",
        "synthetic_data = pd.DataFrame({'title': synthetic_samples, 'label': 0})\n",
        "\n",
        "df = pd.concat([df, synthetic_data], ignore_index=True)"
      ],
      "metadata": {
        "id": "mxQVJSjTMsQ-"
      },
      "execution_count": null,
      "outputs": []
    },
    {
      "cell_type": "code",
      "source": [
        "label_counts = df['label'].value_counts()\n",
        "\n",
        "# Print the label distribution\n",
        "print(label_counts)"
      ],
      "metadata": {
        "colab": {
          "base_uri": "https://localhost:8080/"
        },
        "id": "udvpgvdnNfiR",
        "outputId": "7dcd32b2-1952-47c8-9e6d-5140d90b5a34"
      },
      "execution_count": null,
      "outputs": [
        {
          "output_type": "stream",
          "name": "stdout",
          "text": [
            "1    17441\n",
            "0    11510\n",
            "Name: label, dtype: int64\n"
          ]
        }
      ]
    },
    {
      "cell_type": "markdown",
      "source": [
        "# Fine Tune DistilBERT"
      ],
      "metadata": {
        "id": "xH_wSnmx3OX9"
      }
    },
    {
      "cell_type": "code",
      "execution_count": null,
      "metadata": {
        "colab": {
          "base_uri": "https://localhost:8080/",
          "height": 284,
          "referenced_widgets": [
            "b84bf1caf7e040c189fe9b4d98b2e216",
            "8de49bdbf1e84a2bb4549f7f7613d075",
            "c5d1040d50de42f9a1f2cfec75ec752c",
            "53dec84e07ca41eeb0005f51764991c0",
            "6a3a9160bc9d4d169619eb9354e3aa4e",
            "1b7738a0ec3b4ceeaced583636dcc68e",
            "e346ad981e2e432a85d8098cca8ba649",
            "be69c7a813c44afc9aa6f840aea53a20",
            "48ba81a3bc7d4b039b83565a1129f7fb",
            "c6efd933313c4abfafcc503afa524e04",
            "d3dd67b8f3cd499d9bc602723f4b1639",
            "722744ec4c494032b811520f7caf6083",
            "7251e8cc749a4cdfacb717b3ae9686b8",
            "7a3cd1df716c4255978eeff36a49d124",
            "a4d70ea23bdb4347b002a68885f6a97e",
            "865e83b5ad6d46c0be93eceae8b0e9d2",
            "1377c2afcf8c4f6db1d2da3b80221843",
            "70e0c8fa9786489fbee8e59dbceff8a4",
            "c4a89f01ac6b4daaa98dca59ad2d2e80",
            "2b6e4957943f4cda8e042e35af0ede33",
            "c05a29fb5a2f40b1bfba3865eaaad559",
            "31a736c0892a43beaf265de3f7805fd7",
            "de0858e41b0743c590ff5802c91b4e67",
            "1d34664469bb4d9aaa85b68be00ceead",
            "fc018f4123f740629dabc5d8c6663de4",
            "53962742bf624c21b22c6db242ba9527",
            "5e382194b93544c1a0d418700ae40e84",
            "6c269314cdfe428fb6d0817e539f9101",
            "048fbd81f1674095b88c8db2ea800e8d",
            "ae18ff570fbc4bf2b27e2f8a51beb56c",
            "744c9e33520e4438a3b428b187e21bb8",
            "24e5cfceffc64ff594ea08cb4f819ca3",
            "a51c245f37454cd0bde50f52c0964160",
            "71547425f49c46d2acfc537cfa0ff10f",
            "179013240a9e44188c2c3eb7feca895c",
            "71adf08244fd4e2597d6812978e48f2c",
            "75ca1a0e1d9242e8b3b289a9d02f9390",
            "eee33948e6f847af8abae97ab717de7e",
            "35f246175eaf451a823933d6c26362e6",
            "31f5962a7e2c4e89ac78948fdd43e399",
            "b3e8e25e88864d1999c19de58ec744cf",
            "ad65a675a49349ed96b46e840ee210dc",
            "d43e0878ea60405880989acdef6967db",
            "55b787e06d81499da0fed6049d578748",
            "0b25bb1ed4d347f48a054fc74a61bdeb",
            "04f9689f1e05442fa38a7fee94b9cac8",
            "2bbdae0c29dc4552bfc921741d511d7e",
            "44c2382ad4a94ffa8d206b4083239db5",
            "b8a455ce2c8343109058ace3d111d226",
            "21008d861d154ce88a7ad94f49b8fce6",
            "0a52a3bddcb14748be17fdaa42382b5d",
            "25d39a3d123d42a1ac224b3b0ff8bbb1",
            "4b8edefdfccd47cda4fb3d42411e0fb9",
            "b985f887808b4b0ea8dfc830483530ef",
            "c2e70346cd4941fdbd9eec88bae6bb91"
          ]
        },
        "id": "J7DO_cIactHP",
        "outputId": "f1b3cc24-858f-4c39-8119-880cc4fad0e6"
      },
      "outputs": [
        {
          "output_type": "display_data",
          "data": {
            "text/plain": [
              "Downloading (…)okenizer_config.json:   0%|          | 0.00/28.0 [00:00<?, ?B/s]"
            ],
            "application/vnd.jupyter.widget-view+json": {
              "version_major": 2,
              "version_minor": 0,
              "model_id": "b84bf1caf7e040c189fe9b4d98b2e216"
            }
          },
          "metadata": {}
        },
        {
          "output_type": "display_data",
          "data": {
            "text/plain": [
              "Downloading (…)solve/main/vocab.txt:   0%|          | 0.00/232k [00:00<?, ?B/s]"
            ],
            "application/vnd.jupyter.widget-view+json": {
              "version_major": 2,
              "version_minor": 0,
              "model_id": "722744ec4c494032b811520f7caf6083"
            }
          },
          "metadata": {}
        },
        {
          "output_type": "display_data",
          "data": {
            "text/plain": [
              "Downloading (…)/main/tokenizer.json:   0%|          | 0.00/466k [00:00<?, ?B/s]"
            ],
            "application/vnd.jupyter.widget-view+json": {
              "version_major": 2,
              "version_minor": 0,
              "model_id": "de0858e41b0743c590ff5802c91b4e67"
            }
          },
          "metadata": {}
        },
        {
          "output_type": "display_data",
          "data": {
            "text/plain": [
              "Downloading (…)lve/main/config.json:   0%|          | 0.00/483 [00:00<?, ?B/s]"
            ],
            "application/vnd.jupyter.widget-view+json": {
              "version_major": 2,
              "version_minor": 0,
              "model_id": "71547425f49c46d2acfc537cfa0ff10f"
            }
          },
          "metadata": {}
        },
        {
          "output_type": "display_data",
          "data": {
            "text/plain": [
              "Downloading model.safetensors:   0%|          | 0.00/268M [00:00<?, ?B/s]"
            ],
            "application/vnd.jupyter.widget-view+json": {
              "version_major": 2,
              "version_minor": 0,
              "model_id": "0b25bb1ed4d347f48a054fc74a61bdeb"
            }
          },
          "metadata": {}
        },
        {
          "output_type": "stream",
          "name": "stderr",
          "text": [
            "Some weights of the PyTorch model were not used when initializing the TF 2.0 model TFDistilBertForSequenceClassification: ['vocab_projector.bias', 'vocab_layer_norm.weight', 'vocab_transform.bias', 'vocab_layer_norm.bias', 'vocab_transform.weight']\n",
            "- This IS expected if you are initializing TFDistilBertForSequenceClassification from a PyTorch model trained on another task or with another architecture (e.g. initializing a TFBertForSequenceClassification model from a BertForPreTraining model).\n",
            "- This IS NOT expected if you are initializing TFDistilBertForSequenceClassification from a PyTorch model that you expect to be exactly identical (e.g. initializing a TFBertForSequenceClassification model from a BertForSequenceClassification model).\n",
            "Some weights or buffers of the TF 2.0 model TFDistilBertForSequenceClassification were not initialized from the PyTorch model and are newly initialized: ['pre_classifier.weight', 'pre_classifier.bias', 'classifier.weight', 'classifier.bias']\n",
            "You should probably TRAIN this model on a down-stream task to be able to use it for predictions and inference.\n"
          ]
        }
      ],
      "source": [
        "tokenizer_distil = DistilBertTokenizerFast.from_pretrained('distilbert-base-uncased',padding=True, truncation=True, return_tensors='tf',add_special_tokens=True)\n",
        "model_distil = TFDistilBertForSequenceClassification.from_pretrained('distilbert-base-uncased',num_labels=2,output_hidden_states=True)\n",
        "\n",
        "for layer in model_distil.layers:\n",
        "    layer.trainable = True\n"
      ]
    },
    {
      "cell_type": "code",
      "execution_count": null,
      "metadata": {
        "id": "WwlPl_rHCVXP"
      },
      "outputs": [],
      "source": [
        "def construct_encodings(x, tkzr, max_len, trucation=True, padding=True):\n",
        "    return tokenizer_distil(x, max_length=max_len, truncation=trucation, padding=padding)\n",
        "\n",
        "encodings = construct_encodings(df['title'].tolist(), tokenizer_distil, max_len=512)"
      ]
    },
    {
      "cell_type": "code",
      "execution_count": null,
      "metadata": {
        "id": "3lpyKxLtC5aU"
      },
      "outputs": [],
      "source": [
        "def construct_tfdataset(encodings, y=None):\n",
        "    if y:\n",
        "        return tf.data.Dataset.from_tensor_slices((dict(encodings),y))\n",
        "    else:\n",
        "        # this case is used when making predictions on unseen samples after training\n",
        "        return tf.data.Dataset.from_tensor_slices(dict(encodings))\n",
        "\n",
        "tfdataset = construct_tfdataset(encodings, df['label'].tolist())"
      ]
    },
    {
      "cell_type": "code",
      "execution_count": null,
      "metadata": {
        "id": "K-OCosIZDACF"
      },
      "outputs": [],
      "source": [
        "TEST_SPLIT = 0.2\n",
        "BATCH_SIZE = 2\n",
        "\n",
        "train_size = int(len(df['title'].tolist()) * (1-TEST_SPLIT))\n",
        "\n",
        "tfdataset = tfdataset.shuffle(len(df['title'].tolist()))\n",
        "tfdataset_train = tfdataset.take(train_size)\n",
        "tfdataset_test = tfdataset.skip(train_size)\n",
        "\n",
        "tfdataset_train = tfdataset_train.batch(BATCH_SIZE)\n",
        "tfdataset_test = tfdataset_test.batch(BATCH_SIZE)"
      ]
    },
    {
      "cell_type": "code",
      "execution_count": null,
      "metadata": {
        "colab": {
          "base_uri": "https://localhost:8080/"
        },
        "id": "max8HsljKGIa",
        "outputId": "70b528f7-b5d7-4752-884b-84ce305c33e1"
      },
      "outputs": [
        {
          "output_type": "stream",
          "name": "stdout",
          "text": [
            "Epoch 1/3\n",
            "11580/11580 [==============================] - 599s 49ms/step - loss: 0.3625 - accuracy: 0.8449\n",
            "Epoch 2/3\n",
            "11580/11580 [==============================] - 568s 49ms/step - loss: 0.2474 - accuracy: 0.9011\n",
            "Epoch 3/3\n",
            "11580/11580 [==============================] - 553s 48ms/step - loss: 0.1840 - accuracy: 0.9316\n"
          ]
        },
        {
          "output_type": "execute_result",
          "data": {
            "text/plain": [
              "<keras.callbacks.History at 0x7f4ab85a7910>"
            ]
          },
          "metadata": {},
          "execution_count": 15
        }
      ],
      "source": [
        "N_EPOCHS = 3\n",
        "optimizer = optimizers.Adam(learning_rate=3e-5)\n",
        "loss = losses.SparseCategoricalCrossentropy(from_logits=True)\n",
        "model_distil.compile(optimizer=optimizer, loss=loss, metrics=['accuracy'])\n",
        "model_distil.fit(tfdataset_train, batch_size=BATCH_SIZE, epochs=N_EPOCHS)"
      ]
    },
    {
      "cell_type": "code",
      "execution_count": null,
      "metadata": {
        "id": "tsZpDMUnKsDF",
        "colab": {
          "base_uri": "https://localhost:8080/"
        },
        "outputId": "e4375cca-d0a6-4250-e582-63934ae535c3"
      },
      "outputs": [
        {
          "output_type": "stream",
          "name": "stdout",
          "text": [
            "2896/2896 [==============================] - 69s 23ms/step - loss: 0.1282 - accuracy: 0.9596\n"
          ]
        }
      ],
      "source": [
        "benchmarks = model_distil.evaluate(tfdataset_test, return_dict=True, batch_size=BATCH_SIZE)"
      ]
    },
    {
      "cell_type": "code",
      "source": [
        "print(benchmarks)"
      ],
      "metadata": {
        "id": "3BST61QnqBGR",
        "colab": {
          "base_uri": "https://localhost:8080/"
        },
        "outputId": "cdeb276b-1d4a-4231-98cc-1c880da41648"
      },
      "execution_count": null,
      "outputs": [
        {
          "output_type": "stream",
          "name": "stdout",
          "text": [
            "{'loss': 0.1282486468553543, 'accuracy': 0.9595924615859985}\n"
          ]
        }
      ]
    },
    {
      "cell_type": "code",
      "source": [
        "model_distil.summary()"
      ],
      "metadata": {
        "id": "pJAEeOILxNKt",
        "colab": {
          "base_uri": "https://localhost:8080/"
        },
        "outputId": "ad3b8f07-5bb4-47f8-e56a-896e239c6659"
      },
      "execution_count": null,
      "outputs": [
        {
          "output_type": "stream",
          "name": "stdout",
          "text": [
            "Model: \"tf_distil_bert_for_sequence_classification\"\n",
            "_________________________________________________________________\n",
            " Layer (type)                Output Shape              Param #   \n",
            "=================================================================\n",
            " distilbert (TFDistilBertMai  multiple                 66362880  \n",
            " nLayer)                                                         \n",
            "                                                                 \n",
            " pre_classifier (Dense)      multiple                  590592    \n",
            "                                                                 \n",
            " classifier (Dense)          multiple                  1538      \n",
            "                                                                 \n",
            " dropout_19 (Dropout)        multiple                  0         \n",
            "                                                                 \n",
            "=================================================================\n",
            "Total params: 66,955,010\n",
            "Trainable params: 66,955,010\n",
            "Non-trainable params: 0\n",
            "_________________________________________________________________\n"
          ]
        }
      ]
    },
    {
      "cell_type": "markdown",
      "source": [
        "# Create Embeddings"
      ],
      "metadata": {
        "id": "zCSDWDkO70Rm"
      }
    },
    {
      "cell_type": "code",
      "execution_count": null,
      "metadata": {
        "id": "7ZJh-fM4cdL_"
      },
      "outputs": [],
      "source": [
        "import nltk\n",
        "def get_embeddings(texts):\n",
        "    encoded = tokenizer_distil(\n",
        "      texts,\n",
        "      add_special_tokens=True,\n",
        "      padding=True,\n",
        "      truncation=True,\n",
        "      max_length=512,\n",
        "      return_tensors=\"tf\"\n",
        "    )\n",
        "    outputs = model_distil(encoded)\n",
        "    embeddings = outputs.hidden_states[-1]\n",
        "    avg_embeddings = tf.reduce_mean(embeddings, axis=1)\n",
        "    return avg_embeddings"
      ]
    },
    {
      "cell_type": "markdown",
      "metadata": {
        "id": "yeR3fF7twHtF"
      },
      "source": [
        "#### FakeNewsNet Title Embeddings DistilBERT"
      ]
    },
    {
      "cell_type": "code",
      "execution_count": null,
      "metadata": {
        "id": "epKTaLfQc6_B",
        "colab": {
          "base_uri": "https://localhost:8080/"
        },
        "outputId": "f9cea283-7e3b-41e5-ce3e-325dbb340607"
      },
      "outputs": [
        {
          "output_type": "stream",
          "name": "stderr",
          "text": [
            "100%|██████████| 28951/28951 [56:19<00:00,  8.57it/s]\n"
          ]
        }
      ],
      "source": [
        "#το συγκεκριμένο τμήμα είναι χρονοβόρο οπότε καλό θα ήταν να χρησιμοποιούνται τα αποθηκευμένα αρχεία που έχουμε δημιουργήσει (embeddings.npy,labels.npy)\n",
        "from tqdm import tqdm\n",
        "\n",
        "#εφαρμόζουme τη συνάρτηση στη στήλη με τους τίτλους\n",
        "batch_size = 1\n",
        "titles = df['title'].tolist()\n",
        "embeddings = []\n",
        "\n",
        "for i in tqdm(range(0, len(titles), batch_size)):\n",
        "    batch_titles = titles[i:i+batch_size]\n",
        "\n",
        "    batch_embeddings = get_embeddings(batch_titles)\n",
        "\n",
        "    embeddings.append(batch_embeddings)"
      ]
    },
    {
      "cell_type": "code",
      "source": [
        "embeddings = tf.concat(embeddings,axis=0)"
      ],
      "metadata": {
        "id": "os7XOs4dJu9D"
      },
      "execution_count": null,
      "outputs": []
    },
    {
      "cell_type": "code",
      "source": [
        "labels = df['label'].to_numpy()"
      ],
      "metadata": {
        "id": "0pUMpZ4QSq97"
      },
      "execution_count": null,
      "outputs": []
    },
    {
      "cell_type": "code",
      "source": [
        "np.save('/content/drive/MyDrive/FakeNewsNet/embeddings_title_distilbert.npy', np.array(embeddings))\n",
        "np.save('/content/drive/MyDrive/FakeNewsNet/labels_title_distilbert.npy', labels)"
      ],
      "metadata": {
        "id": "DecQusmLSqpS"
      },
      "execution_count": null,
      "outputs": []
    },
    {
      "cell_type": "markdown",
      "source": [
        "# Statements - Titles"
      ],
      "metadata": {
        "id": "0f2W3iRL8VzA"
      }
    },
    {
      "cell_type": "markdown",
      "metadata": {
        "id": "dg90zA18NEwn"
      },
      "source": [
        "## **CNN-DistilBERT**"
      ]
    },
    {
      "cell_type": "code",
      "execution_count": null,
      "metadata": {
        "id": "S0XZlQxxNEww"
      },
      "outputs": [],
      "source": [
        "embeddings = np.load('/content/drive/MyDrive/FakeNewsNet/embeddings_title_distilbert.npy')\n",
        "labels = np.load('/content/drive/MyDrive/FakeNewsNet/labels_title_distilbert.npy')"
      ]
    },
    {
      "cell_type": "code",
      "execution_count": null,
      "metadata": {
        "id": "zhv3hW0JNEww"
      },
      "outputs": [],
      "source": [
        "train_embeddings, test_embeddings, train_labels, test_labels = train_test_split(embeddings, labels, test_size=0.2, random_state=42, shuffle=True)"
      ]
    },
    {
      "cell_type": "code",
      "source": [
        "train_embeddings = tf.expand_dims(train_embeddings, axis=-1)\n",
        "test_embeddings = tf.expand_dims(test_embeddings, axis=-1)"
      ],
      "metadata": {
        "id": "esEkkCSXNEwx"
      },
      "execution_count": null,
      "outputs": []
    },
    {
      "cell_type": "code",
      "source": [
        "train_embeddings.shape"
      ],
      "metadata": {
        "id": "wbWU6p5wNEwx",
        "colab": {
          "base_uri": "https://localhost:8080/"
        },
        "outputId": "46e558c5-46c9-4d7a-9bef-db116c4a09aa"
      },
      "execution_count": null,
      "outputs": [
        {
          "output_type": "execute_result",
          "data": {
            "text/plain": [
              "TensorShape([23160, 768, 1])"
            ]
          },
          "metadata": {},
          "execution_count": 27
        }
      ]
    },
    {
      "cell_type": "code",
      "execution_count": null,
      "metadata": {
        "id": "Ce4YY-kINEwx"
      },
      "outputs": [],
      "source": [
        "model = Sequential()\n",
        "model.add(Conv1D(filters=128, kernel_size=5, activation='relu', input_shape=(768,1)))\n",
        "model.add(MaxPooling1D(pool_size=5))\n",
        "model.add(Conv1D(128, 5, activation='relu'))\n",
        "model.add(MaxPooling1D(pool_size=5))\n",
        "model.add(Conv1D(128, 5, activation='relu'))\n",
        "model.add(MaxPooling1D(pool_size=5))\n",
        "model.add(Flatten())\n",
        "model.add(Dense(128, activation='relu'))\n",
        "model.add(Dropout(0.5))\n",
        "model.add(Dense(64, activation='relu'))\n",
        "model.add(Dropout(0.5))\n",
        "model.add(Dense(1, activation='sigmoid'))"
      ]
    },
    {
      "cell_type": "code",
      "source": [
        "model.compile(loss='binary_crossentropy', optimizer='adam', metrics=['accuracy'])"
      ],
      "metadata": {
        "id": "VxXXQ99nr8oO"
      },
      "execution_count": null,
      "outputs": []
    },
    {
      "cell_type": "code",
      "source": [
        "history1 = model.fit(train_embeddings, train_labels,epochs=10, batch_size=16)"
      ],
      "metadata": {
        "id": "f3fWwrfwmIXO",
        "colab": {
          "base_uri": "https://localhost:8080/"
        },
        "outputId": "2b45efd9-239e-4ad4-9c76-5b8d840ffe4c"
      },
      "execution_count": null,
      "outputs": [
        {
          "output_type": "stream",
          "name": "stdout",
          "text": [
            "Epoch 1/10\n",
            "1448/1448 [==============================] - 17s 6ms/step - loss: 0.1278 - accuracy: 0.9568\n",
            "Epoch 2/10\n",
            "1448/1448 [==============================] - 10s 7ms/step - loss: 0.1073 - accuracy: 0.9655\n",
            "Epoch 3/10\n",
            "1448/1448 [==============================] - 8s 6ms/step - loss: 0.1063 - accuracy: 0.9662\n",
            "Epoch 4/10\n",
            "1448/1448 [==============================] - 10s 7ms/step - loss: 0.1016 - accuracy: 0.9663\n",
            "Epoch 5/10\n",
            "1448/1448 [==============================] - 9s 6ms/step - loss: 0.1014 - accuracy: 0.9663\n",
            "Epoch 6/10\n",
            "1448/1448 [==============================] - 9s 6ms/step - loss: 0.1008 - accuracy: 0.9669\n",
            "Epoch 7/10\n",
            "1448/1448 [==============================] - 10s 7ms/step - loss: 0.0995 - accuracy: 0.9679\n",
            "Epoch 8/10\n",
            "1448/1448 [==============================] - 8s 6ms/step - loss: 0.0980 - accuracy: 0.9674\n",
            "Epoch 9/10\n",
            "1448/1448 [==============================] - 10s 7ms/step - loss: 0.0968 - accuracy: 0.9673\n",
            "Epoch 10/10\n",
            "1448/1448 [==============================] - 9s 6ms/step - loss: 0.0987 - accuracy: 0.9668\n"
          ]
        }
      ]
    },
    {
      "cell_type": "code",
      "execution_count": null,
      "metadata": {
        "id": "fSHUtTYqloXd",
        "colab": {
          "base_uri": "https://localhost:8080/"
        },
        "outputId": "b5ac81a2-2c2b-46eb-d025-c9b846b38390"
      },
      "outputs": [
        {
          "output_type": "stream",
          "name": "stdout",
          "text": [
            "181/181 [==============================] - 1s 4ms/step - loss: 0.0962 - accuracy: 0.9679\n",
            "181/181 [==============================] - 1s 2ms/step\n",
            "Test Accuracy: 0.9678812026977539\n",
            "Test F1 Score: 0.9736767619586754\n",
            "Test Recall: 0.9786628733997155\n",
            "Precision: 0.9687411996620671\n"
          ]
        }
      ],
      "source": [
        "test_loss, test_acc = model.evaluate(test_embeddings, test_labels)\n",
        "\n",
        "y_pred = model.predict(test_embeddings)\n",
        "y_pred = (y_pred > 0.5).astype('int32')\n",
        "\n",
        "f1 = f1_score(test_labels, y_pred)\n",
        "recall = recall_score(test_labels, y_pred)\n",
        "precision = precision_score(test_labels, y_pred)\n",
        "\n",
        "#accuraccy\n",
        "print(\"Test Accuracy:\", test_acc)\n",
        "#f1-score\n",
        "print(\"Test F1 Score:\", f1)\n",
        "#recall\n",
        "print(\"Test Recall:\", recall)\n",
        "#precision\n",
        "print(\"Precision:\", precision)"
      ]
    },
    {
      "cell_type": "code",
      "execution_count": null,
      "metadata": {
        "id": "TiDjAtumBT7Q",
        "colab": {
          "base_uri": "https://localhost:8080/"
        },
        "outputId": "d0b93dda-98ac-4b55-a4d5-9129eb917250"
      },
      "outputs": [
        {
          "output_type": "stream",
          "name": "stdout",
          "text": [
            "Model: \"sequential\"\n",
            "_________________________________________________________________\n",
            " Layer (type)                Output Shape              Param #   \n",
            "=================================================================\n",
            " conv1d (Conv1D)             (None, 764, 128)          768       \n",
            "                                                                 \n",
            " max_pooling1d (MaxPooling1D  (None, 152, 128)         0         \n",
            " )                                                               \n",
            "                                                                 \n",
            " conv1d_1 (Conv1D)           (None, 148, 128)          82048     \n",
            "                                                                 \n",
            " max_pooling1d_1 (MaxPooling  (None, 29, 128)          0         \n",
            " 1D)                                                             \n",
            "                                                                 \n",
            " conv1d_2 (Conv1D)           (None, 25, 128)           82048     \n",
            "                                                                 \n",
            " max_pooling1d_2 (MaxPooling  (None, 5, 128)           0         \n",
            " 1D)                                                             \n",
            "                                                                 \n",
            " flatten (Flatten)           (None, 640)               0         \n",
            "                                                                 \n",
            " dense (Dense)               (None, 128)               82048     \n",
            "                                                                 \n",
            " dropout_20 (Dropout)        (None, 128)               0         \n",
            "                                                                 \n",
            " dense_1 (Dense)             (None, 64)                8256      \n",
            "                                                                 \n",
            " dropout_21 (Dropout)        (None, 64)                0         \n",
            "                                                                 \n",
            " dense_2 (Dense)             (None, 1)                 65        \n",
            "                                                                 \n",
            "=================================================================\n",
            "Total params: 255,233\n",
            "Trainable params: 255,233\n",
            "Non-trainable params: 0\n",
            "_________________________________________________________________\n"
          ]
        }
      ],
      "source": [
        "#λεπτομέρειες για τη δομή του μοντέλου\n",
        "model.summary()"
      ]
    },
    {
      "cell_type": "code",
      "source": [
        "y_pred = model.predict(test_embeddings)\n",
        "y_pred = (y_pred > 0.5).astype(int)\n",
        "cm = confusion_matrix(test_labels, y_pred)\n",
        "print(cm)\n",
        "sns.heatmap(cm, annot=True, cmap='Blues', fmt='g')\n",
        "plt.xlabel('Predicted label')\n",
        "plt.ylabel('True label')\n",
        "plt.show()"
      ],
      "metadata": {
        "id": "YJiszL6sV8Xt",
        "colab": {
          "base_uri": "https://localhost:8080/",
          "height": 501
        },
        "outputId": "bad31c53-37dd-47fa-921e-9bd83e21d620"
      },
      "execution_count": null,
      "outputs": [
        {
          "output_type": "stream",
          "name": "stdout",
          "text": [
            "181/181 [==============================] - 0s 2ms/step\n",
            "[[2165  111]\n",
            " [  75 3440]]\n"
          ]
        },
        {
          "output_type": "display_data",
          "data": {
            "text/plain": [
              "<Figure size 640x480 with 2 Axes>"
            ],
            "image/png": "[encoded data removed]"
          },
          "metadata": {}
        }
      ]
    },
    {
      "cell_type": "code",
      "execution_count": null,
      "metadata": {
        "id": "znsfa6RzhFFb"
      },
      "outputs": [],
      "source": [
        "from sklearn.metrics import classification_report, confusion_matrix\n",
        "def plot_history(history,model):\n",
        "    sns.lineplot(x=history.epoch, y=history.history['loss'], label='train')\n",
        "    plt.title('Model Loss')\n",
        "    plt.ylabel('Loss')\n",
        "    plt.xlabel('Epoch')\n",
        "    plt.legend(loc='upper right')\n",
        "    plt.show()\n",
        "\n",
        "    sns.lineplot(x=history.epoch, y=history.history['accuracy'], label='train')\n",
        "    plt.title('Model Accuracy')\n",
        "    plt.ylabel('Accuracy')\n",
        "    plt.xlabel('Epoch')\n",
        "    plt.legend(loc='lower right')\n",
        "    plt.show()\n",
        "\n",
        "    y_pred = model.predict(test_embeddings)\n",
        "    y_pred = (y_pred > 0.5).astype(int)\n",
        "    cm = confusion_matrix(test_labels, y_pred)\n",
        "    sns.heatmap(cm, annot=True, cmap='Blues', fmt='g', cbar=False)\n",
        "    plt.xlabel('Predicted labels')\n",
        "    plt.ylabel('True labels')\n",
        "    plt.title('Confusion matrix')\n",
        "    plt.show()\n",
        "\n",
        "    print(classification_report(test_labels, y_pred))"
      ]
    },
    {
      "cell_type": "code",
      "execution_count": null,
      "metadata": {
        "id": "Mu2jsBX5ipTj",
        "colab": {
          "base_uri": "https://localhost:8080/",
          "height": 1000
        },
        "outputId": "5015183e-1706-4326-8ed2-b0a2fb935062"
      },
      "outputs": [
        {
          "output_type": "display_data",
          "data": {
            "text/plain": [
              "<Figure size 640x480 with 1 Axes>"
            ],
            "image/png": "[encoded data removed]"
          },
          "metadata": {}
        },
        {
          "output_type": "display_data",
          "data": {
            "text/plain": [
              "<Figure size 640x480 with 1 Axes>"
            ],
            "image/png": "[encoded data removed]"
          },
          "metadata": {}
        },
        {
          "output_type": "stream",
          "name": "stdout",
          "text": [
            "181/181 [==============================] - 0s 2ms/step\n"
          ]
        },
        {
          "output_type": "display_data",
          "data": {
            "text/plain": [
              "<Figure size 640x480 with 1 Axes>"
            ],
            "image/png": "[encoded data removed]"
          },
          "metadata": {}
        },
        {
          "output_type": "stream",
          "name": "stdout",
          "text": [
            "              precision    recall  f1-score   support\n",
            "\n",
            "           0       0.97      0.95      0.96      2276\n",
            "           1       0.97      0.98      0.97      3515\n",
            "\n",
            "    accuracy                           0.97      5791\n",
            "   macro avg       0.97      0.96      0.97      5791\n",
            "weighted avg       0.97      0.97      0.97      5791\n",
            "\n"
          ]
        }
      ],
      "source": [
        "plot_history(history1,model)"
      ]
    },
    {
      "cell_type": "code",
      "source": [
        "def create_model():\n",
        "  model = Sequential()\n",
        "  model.add(Conv1D(filters=128, kernel_size=5, activation='relu', input_shape=(768,1)))\n",
        "  model.add(MaxPooling1D(pool_size=5))\n",
        "  model.add(Conv1D(128, 5, activation='relu'))\n",
        "  model.add(MaxPooling1D(pool_size=5))\n",
        "  model.add(Conv1D(128, 5, activation='relu'))\n",
        "  model.add(MaxPooling1D(pool_size=5))\n",
        "  model.add(Flatten())\n",
        "  model.add(Dense(128, activation='relu'))\n",
        "  model.add(Dropout(0.5))\n",
        "  model.add(Dense(64, activation='relu'))\n",
        "  model.add(Dropout(0.5))\n",
        "  model.add(Dense(1, activation='sigmoid'))\n",
        "  model.compile(loss='binary_crossentropy', optimizer='adam', metrics=['accuracy'])\n",
        "  return model\n",
        "\n",
        "model = KerasClassifier(model=create_model, epochs=10, batch_size=16)\n",
        "\n",
        "kfold = StratifiedKFold(n_splits=5, shuffle=True)\n",
        "\n",
        "scoring = {\n",
        "    'accuracy': 'accuracy',\n",
        "    'precision': 'precision',\n",
        "    'loss': 'neg_log_loss',\n",
        "    'recall': 'recall',\n",
        "    'f1': 'f1',\n",
        "}\n",
        "\n",
        "train_embeddings = np.array(train_embeddings)\n",
        "train_labels = np.array(train_labels)\n",
        "\n",
        "results = cross_validate(model, train_embeddings, train_labels, cv=kfold, scoring=scoring)"
      ],
      "metadata": {
        "id": "F7jK4iaibdsU",
        "colab": {
          "base_uri": "https://localhost:8080/"
        },
        "outputId": "84f7482d-2b57-4f54-8804-2ecda4c01bfe"
      },
      "execution_count": null,
      "outputs": [
        {
          "output_type": "stream",
          "name": "stdout",
          "text": [
            "Epoch 1/10\n",
            "1158/1158 [==============================] - 10s 6ms/step - loss: 0.1308 - accuracy: 0.9567\n",
            "Epoch 2/10\n",
            "1158/1158 [==============================] - 6s 5ms/step - loss: 0.1019 - accuracy: 0.9677\n",
            "Epoch 3/10\n",
            "1158/1158 [==============================] - 11s 10ms/step - loss: 0.1007 - accuracy: 0.9670\n",
            "Epoch 4/10\n",
            "1158/1158 [==============================] - 7s 6ms/step - loss: 0.1009 - accuracy: 0.9683\n",
            "Epoch 5/10\n",
            "1158/1158 [==============================] - 6s 6ms/step - loss: 0.0980 - accuracy: 0.9668\n",
            "Epoch 6/10\n",
            "1158/1158 [==============================] - 6s 5ms/step - loss: 0.0965 - accuracy: 0.9674\n",
            "Epoch 7/10\n",
            "1158/1158 [==============================] - 6s 5ms/step - loss: 0.0970 - accuracy: 0.9685\n",
            "Epoch 8/10\n",
            "1158/1158 [==============================] - 7s 6ms/step - loss: 0.0989 - accuracy: 0.9681\n",
            "Epoch 9/10\n",
            "1158/1158 [==============================] - 5s 5ms/step - loss: 0.0960 - accuracy: 0.9688\n",
            "Epoch 10/10\n",
            "1158/1158 [==============================] - 6s 5ms/step - loss: 0.0963 - accuracy: 0.9673\n",
            "290/290 [==============================] - 1s 3ms/step\n",
            "290/290 [==============================] - 1s 3ms/step\n",
            "Epoch 1/10\n",
            "1158/1158 [==============================] - 8s 5ms/step - loss: 0.1320 - accuracy: 0.9553\n",
            "Epoch 2/10\n",
            "1158/1158 [==============================] - 7s 6ms/step - loss: 0.1068 - accuracy: 0.9658\n",
            "Epoch 3/10\n",
            "1158/1158 [==============================] - 5s 5ms/step - loss: 0.1073 - accuracy: 0.9653\n",
            "Epoch 4/10\n",
            "1158/1158 [==============================] - 6s 5ms/step - loss: 0.1033 - accuracy: 0.9659\n",
            "Epoch 5/10\n",
            "1158/1158 [==============================] - 7s 6ms/step - loss: 0.1004 - accuracy: 0.9662\n",
            "Epoch 6/10\n",
            "1158/1158 [==============================] - 6s 5ms/step - loss: 0.1015 - accuracy: 0.9669\n",
            "Epoch 7/10\n",
            "1158/1158 [==============================] - 9s 8ms/step - loss: 0.0987 - accuracy: 0.9667\n",
            "Epoch 8/10\n",
            "1158/1158 [==============================] - 6s 5ms/step - loss: 0.1002 - accuracy: 0.9668\n",
            "Epoch 9/10\n",
            "1158/1158 [==============================] - 7s 6ms/step - loss: 0.0987 - accuracy: 0.9670\n",
            "Epoch 10/10\n",
            "1158/1158 [==============================] - 6s 5ms/step - loss: 0.0987 - accuracy: 0.9666\n",
            "290/290 [==============================] - 1s 2ms/step\n",
            "290/290 [==============================] - 1s 2ms/step\n",
            "Epoch 1/10\n",
            "1158/1158 [==============================] - 10s 5ms/step - loss: 0.1314 - accuracy: 0.9560\n",
            "Epoch 2/10\n",
            "1158/1158 [==============================] - 6s 5ms/step - loss: 0.1104 - accuracy: 0.9648\n",
            "Epoch 3/10\n",
            "1158/1158 [==============================] - 7s 6ms/step - loss: 0.1084 - accuracy: 0.9652\n",
            "Epoch 4/10\n",
            "1158/1158 [==============================] - 5s 5ms/step - loss: 0.1045 - accuracy: 0.9663\n",
            "Epoch 5/10\n",
            "1158/1158 [==============================] - 7s 6ms/step - loss: 0.1030 - accuracy: 0.9666\n",
            "Epoch 6/10\n",
            "1158/1158 [==============================] - 6s 5ms/step - loss: 0.1015 - accuracy: 0.9670\n",
            "Epoch 7/10\n",
            "1158/1158 [==============================] - 6s 5ms/step - loss: 0.1011 - accuracy: 0.9667\n",
            "Epoch 8/10\n",
            "1158/1158 [==============================] - 7s 6ms/step - loss: 0.0990 - accuracy: 0.9668\n",
            "Epoch 9/10\n",
            "1158/1158 [==============================] - 6s 5ms/step - loss: 0.0991 - accuracy: 0.9677\n",
            "Epoch 10/10\n",
            "1158/1158 [==============================] - 6s 6ms/step - loss: 0.0991 - accuracy: 0.9671\n",
            "290/290 [==============================] - 1s 2ms/step\n",
            "290/290 [==============================] - 1s 2ms/step\n",
            "Epoch 1/10\n",
            "1158/1158 [==============================] - 9s 6ms/step - loss: 0.1301 - accuracy: 0.9584\n",
            "Epoch 2/10\n",
            "1158/1158 [==============================] - 6s 5ms/step - loss: 0.1070 - accuracy: 0.9669\n",
            "Epoch 3/10\n",
            "1158/1158 [==============================] - 6s 5ms/step - loss: 0.1000 - accuracy: 0.9675\n",
            "Epoch 4/10\n",
            "1158/1158 [==============================] - 6s 5ms/step - loss: 0.1001 - accuracy: 0.9676\n",
            "Epoch 5/10\n",
            "1158/1158 [==============================] - 5s 5ms/step - loss: 0.0991 - accuracy: 0.9678\n",
            "Epoch 6/10\n",
            "1158/1158 [==============================] - 7s 6ms/step - loss: 0.0965 - accuracy: 0.9680\n",
            "Epoch 7/10\n",
            "1158/1158 [==============================] - 6s 5ms/step - loss: 0.0954 - accuracy: 0.9686\n",
            "Epoch 8/10\n",
            "1158/1158 [==============================] - 6s 5ms/step - loss: 0.0963 - accuracy: 0.9691\n",
            "Epoch 9/10\n",
            "1158/1158 [==============================] - 6s 6ms/step - loss: 0.0950 - accuracy: 0.9689\n",
            "Epoch 10/10\n",
            "1158/1158 [==============================] - 5s 5ms/step - loss: 0.0939 - accuracy: 0.9693\n",
            "290/290 [==============================] - 1s 2ms/step\n",
            "290/290 [==============================] - 1s 3ms/step\n",
            "Epoch 1/10\n",
            "1158/1158 [==============================] - 9s 5ms/step - loss: 0.1316 - accuracy: 0.9559\n",
            "Epoch 2/10\n",
            "1158/1158 [==============================] - 6s 5ms/step - loss: 0.1104 - accuracy: 0.9648\n",
            "Epoch 3/10\n",
            "1158/1158 [==============================] - 6s 6ms/step - loss: 0.1061 - accuracy: 0.9662\n",
            "Epoch 4/10\n",
            "1158/1158 [==============================] - 5s 5ms/step - loss: 0.1063 - accuracy: 0.9648\n",
            "Epoch 5/10\n",
            "1158/1158 [==============================] - 7s 6ms/step - loss: 0.1031 - accuracy: 0.9663\n",
            "Epoch 6/10\n",
            "1158/1158 [==============================] - 5s 5ms/step - loss: 0.1036 - accuracy: 0.9670\n",
            "Epoch 7/10\n",
            "1158/1158 [==============================] - 6s 5ms/step - loss: 0.1017 - accuracy: 0.9665\n",
            "Epoch 8/10\n",
            "1158/1158 [==============================] - 7s 6ms/step - loss: 0.1028 - accuracy: 0.9677\n",
            "Epoch 9/10\n",
            "1158/1158 [==============================] - 6s 5ms/step - loss: 0.0997 - accuracy: 0.9672\n",
            "Epoch 10/10\n",
            "1158/1158 [==============================] - 7s 6ms/step - loss: 0.1003 - accuracy: 0.9675\n",
            "290/290 [==============================] - 1s 2ms/step\n",
            "290/290 [==============================] - 1s 2ms/step\n"
          ]
        }
      ]
    },
    {
      "cell_type": "code",
      "source": [
        "print(\"Cross-Validation Accuracy: %0.2f (+/- %0.2f)\" % (results['test_accuracy'].mean(), results['test_accuracy'].std() * 2))\n",
        "print(\"Cross-Validation Precision: %0.2f (+/- %0.2f)\" % (results['test_precision'].mean(), results['test_precision'].std() * 2))\n",
        "print(\"Cross-Validation Loss: %0.2f (+/- %0.2f)\" % (-results['test_loss'].mean(), results['test_loss'].std() * 2))\n",
        "print(\"Cross-Validation Recall: %0.2f (+/- %0.2f)\" % (results['test_recall'].mean(), results['test_recall'].std() * 2))\n",
        "print(\"Cross-Validation F1 Score: %0.2f (+/- %0.2f)\" % (results['test_f1'].mean(), results['test_f1'].std() * 2))"
      ],
      "metadata": {
        "id": "VRK55YkcnRsV",
        "colab": {
          "base_uri": "https://localhost:8080/"
        },
        "outputId": "bbe1bd11-671b-4810-c29a-ffe91d87ead7"
      },
      "execution_count": null,
      "outputs": [
        {
          "output_type": "stream",
          "name": "stdout",
          "text": [
            "Cross-Validation Accuracy: 0.97 (+/- 0.00)\n",
            "Cross-Validation Precision: 0.97 (+/- 0.01)\n",
            "Cross-Validation Loss: 0.10 (+/- 0.01)\n",
            "Cross-Validation Recall: 0.98 (+/- 0.01)\n",
            "Cross-Validation F1 Score: 0.97 (+/- 0.00)\n"
          ]
        }
      ]
    },
    {
      "cell_type": "markdown",
      "metadata": {
        "id": "LzlDg_ONNEw1"
      },
      "source": [
        "## **LSTM-DistilBERT**"
      ]
    },
    {
      "cell_type": "code",
      "execution_count": null,
      "metadata": {
        "id": "F55MvgTCNEw1"
      },
      "outputs": [],
      "source": [
        "model2 = Sequential()\n",
        "model2.add(Conv1D(128, 5, activation='relu', input_shape=(768, 1)))\n",
        "model2.add(MaxPooling1D(pool_size=2))\n",
        "model2.add(Conv1D(128, 5, activation='relu'))\n",
        "model2.add(MaxPooling1D(pool_size=2))\n",
        "model2.add(LSTM(64, return_sequences=True))\n",
        "model2.add(BatchNormalization())\n",
        "model2.add(Dense(128, activation='relu'))\n",
        "model2.add(Dense(64, activation='relu'))\n",
        "model2.add(Dense(32, activation='relu'))\n",
        "model2.add(Flatten())\n",
        "model2.add(Dense(1, activation='sigmoid'))"
      ]
    },
    {
      "cell_type": "code",
      "execution_count": null,
      "metadata": {
        "id": "pN3JithBNEw1"
      },
      "outputs": [],
      "source": [
        "model2.compile(loss='binary_crossentropy', optimizer='adam', metrics=['accuracy'])"
      ]
    },
    {
      "cell_type": "code",
      "execution_count": null,
      "metadata": {
        "id": "YXAXRKvgNEw1",
        "colab": {
          "base_uri": "https://localhost:8080/"
        },
        "outputId": "1ef3a0d6-5b77-4b84-9d16-1dcb7650de09"
      },
      "outputs": [
        {
          "output_type": "stream",
          "name": "stdout",
          "text": [
            "Epoch 1/10\n",
            "1448/1448 [==============================] - 28s 15ms/step - loss: 0.1039 - accuracy: 0.9647\n",
            "Epoch 2/10\n",
            "1448/1448 [==============================] - 21s 14ms/step - loss: 0.0984 - accuracy: 0.9672\n",
            "Epoch 3/10\n",
            "1448/1448 [==============================] - 20s 14ms/step - loss: 0.0954 - accuracy: 0.9677\n",
            "Epoch 4/10\n",
            "1448/1448 [==============================] - 23s 16ms/step - loss: 0.0950 - accuracy: 0.9670\n",
            "Epoch 5/10\n",
            "1448/1448 [==============================] - 21s 14ms/step - loss: 0.0945 - accuracy: 0.9671\n",
            "Epoch 6/10\n",
            "1448/1448 [==============================] - 21s 14ms/step - loss: 0.0936 - accuracy: 0.9675\n",
            "Epoch 7/10\n",
            "1448/1448 [==============================] - 20s 14ms/step - loss: 0.0929 - accuracy: 0.9674\n",
            "Epoch 8/10\n",
            "1448/1448 [==============================] - 20s 14ms/step - loss: 0.0929 - accuracy: 0.9674\n",
            "Epoch 9/10\n",
            "1448/1448 [==============================] - 22s 15ms/step - loss: 0.0924 - accuracy: 0.9679\n",
            "Epoch 10/10\n",
            "1448/1448 [==============================] - 22s 15ms/step - loss: 0.0921 - accuracy: 0.9680\n"
          ]
        }
      ],
      "source": [
        "history2 = model2.fit(train_embeddings, train_labels, epochs=10, batch_size=16)"
      ]
    },
    {
      "cell_type": "code",
      "execution_count": null,
      "metadata": {
        "id": "5-YYrOCGpc-k",
        "colab": {
          "base_uri": "https://localhost:8080/"
        },
        "outputId": "c88ee25f-923b-4b2b-be86-752d7dba17a6"
      },
      "outputs": [
        {
          "output_type": "stream",
          "name": "stdout",
          "text": [
            "181/181 - 2s - loss: 0.0945 - accuracy: 0.9684 - 2s/epoch - 12ms/step\n",
            "181/181 [==============================] - 2s 7ms/step\n",
            "Test Accuracy: 0.9683992266654968\n",
            "Test F1 Score: 0.9740535942152276\n",
            "Test Recall: 0.9772403982930299\n",
            "Precision: 0.970887507066139\n"
          ]
        }
      ],
      "source": [
        "test_loss, test_acc = model2.evaluate(test_embeddings, test_labels, verbose=2)\n",
        "\n",
        "y_pred = model2.predict(test_embeddings)\n",
        "y_pred = (y_pred > 0.5).astype('int32')\n",
        "\n",
        "f1 = f1_score(test_labels, y_pred)\n",
        "recall = recall_score(test_labels, y_pred)\n",
        "precision = precision_score(test_labels, y_pred)\n",
        "\n",
        "print(\"Test Accuracy:\", test_acc)\n",
        "print(\"Test F1 Score:\", f1)\n",
        "print(\"Test Recall:\", recall)\n",
        "print(\"Precision:\", precision)"
      ]
    },
    {
      "cell_type": "code",
      "execution_count": null,
      "metadata": {
        "id": "iaUS-5ebBV94",
        "colab": {
          "base_uri": "https://localhost:8080/"
        },
        "outputId": "a5f4dd00-203e-490a-e2ef-9f9a5c8d0d7e"
      },
      "outputs": [
        {
          "output_type": "stream",
          "name": "stdout",
          "text": [
            "Model: \"sequential_6\"\n",
            "_________________________________________________________________\n",
            " Layer (type)                Output Shape              Param #   \n",
            "=================================================================\n",
            " conv1d_18 (Conv1D)          (None, 764, 128)          768       \n",
            "                                                                 \n",
            " max_pooling1d_18 (MaxPoolin  (None, 382, 128)         0         \n",
            " g1D)                                                            \n",
            "                                                                 \n",
            " conv1d_19 (Conv1D)          (None, 378, 128)          82048     \n",
            "                                                                 \n",
            " max_pooling1d_19 (MaxPoolin  (None, 189, 128)         0         \n",
            " g1D)                                                            \n",
            "                                                                 \n",
            " lstm (LSTM)                 (None, 189, 64)           49408     \n",
            "                                                                 \n",
            " batch_normalization (BatchN  (None, 189, 64)          256       \n",
            " ormalization)                                                   \n",
            "                                                                 \n",
            " dense_18 (Dense)            (None, 189, 128)          8320      \n",
            "                                                                 \n",
            " dense_19 (Dense)            (None, 189, 64)           8256      \n",
            "                                                                 \n",
            " dense_20 (Dense)            (None, 189, 32)           2080      \n",
            "                                                                 \n",
            " flatten_6 (Flatten)         (None, 6048)              0         \n",
            "                                                                 \n",
            " dense_21 (Dense)            (None, 1)                 6049      \n",
            "                                                                 \n",
            "=================================================================\n",
            "Total params: 157,185\n",
            "Trainable params: 157,057\n",
            "Non-trainable params: 128\n",
            "_________________________________________________________________\n"
          ]
        }
      ],
      "source": [
        "model2.summary()"
      ]
    },
    {
      "cell_type": "code",
      "execution_count": null,
      "metadata": {
        "id": "d3KHiJvbo1bc",
        "colab": {
          "base_uri": "https://localhost:8080/",
          "height": 1000
        },
        "outputId": "20cd7c44-b984-49db-decf-102392dcdf61"
      },
      "outputs": [
        {
          "output_type": "display_data",
          "data": {
            "text/plain": [
              "<Figure size 640x480 with 1 Axes>"
            ],
            "image/png": "[encoded data removed]"
          },
          "metadata": {}
        },
        {
          "output_type": "display_data",
          "data": {
            "text/plain": [
              "<Figure size 640x480 with 1 Axes>"
            ],
            "image/png": "[encoded data removed]"
          },
          "metadata": {}
        },
        {
          "output_type": "stream",
          "name": "stdout",
          "text": [
            "181/181 [==============================] - 1s 7ms/step\n"
          ]
        },
        {
          "output_type": "display_data",
          "data": {
            "text/plain": [
              "<Figure size 640x480 with 1 Axes>"
            ],
            "image/png": "[encoded data removed]"
          },
          "metadata": {}
        },
        {
          "output_type": "stream",
          "name": "stdout",
          "text": [
            "              precision    recall  f1-score   support\n",
            "\n",
            "           0       0.96      0.95      0.96      2276\n",
            "           1       0.97      0.98      0.97      3515\n",
            "\n",
            "    accuracy                           0.97      5791\n",
            "   macro avg       0.97      0.97      0.97      5791\n",
            "weighted avg       0.97      0.97      0.97      5791\n",
            "\n"
          ]
        }
      ],
      "source": [
        "plot_history(history2,model2)"
      ]
    },
    {
      "cell_type": "code",
      "source": [
        "def create_model():\n",
        "  model2 = Sequential()\n",
        "  model2.add(Conv1D(128, 5, activation='relu', input_shape=(768, 1)))\n",
        "  model2.add(MaxPooling1D(pool_size=2))\n",
        "  model2.add(Conv1D(128, 5, activation='relu'))\n",
        "  model2.add(MaxPooling1D(pool_size=2))\n",
        "  model2.add(LSTM(64, return_sequences=True))\n",
        "  model2.add(BatchNormalization())\n",
        "  model2.add(Dense(128, activation='relu'))\n",
        "  model2.add(Dense(64, activation='relu'))\n",
        "  model2.add(Dense(32, activation='relu'))\n",
        "  model2.add(Flatten())\n",
        "  model2.add(Dense(1, activation='sigmoid'))\n",
        "  model2.compile(loss='binary_crossentropy', optimizer='adam', metrics=['accuracy'])\n",
        "  return model2\n",
        "\n",
        "model2 = KerasClassifier(model=create_model, epochs=10, batch_size=16)\n",
        "\n",
        "kfold = StratifiedKFold(n_splits=5, shuffle=True)\n",
        "\n",
        "scoring = {\n",
        "    'accuracy': 'accuracy',\n",
        "    'precision': 'precision',\n",
        "    'loss': 'neg_log_loss',\n",
        "    'recall': 'recall',\n",
        "    'f1': 'f1',\n",
        "}\n",
        "\n",
        "train_embeddings = np.array(train_embeddings)\n",
        "train_labels = np.array(train_labels)\n",
        "\n",
        "results = cross_validate(model2, train_embeddings, train_labels, cv=kfold, scoring=scoring)"
      ],
      "metadata": {
        "id": "1AEFY9PKufht",
        "colab": {
          "base_uri": "https://localhost:8080/"
        },
        "outputId": "fc15b37f-1cc3-4bc4-bb26-e6b50b8bc34e"
      },
      "execution_count": null,
      "outputs": [
        {
          "output_type": "stream",
          "name": "stdout",
          "text": [
            "Epoch 1/10\n",
            "1158/1158 [==============================] - 18s 11ms/step - loss: 0.1065 - accuracy: 0.9631\n",
            "Epoch 2/10\n",
            "1158/1158 [==============================] - 13s 12ms/step - loss: 0.0982 - accuracy: 0.9663\n",
            "Epoch 3/10\n",
            "1158/1158 [==============================] - 13s 12ms/step - loss: 0.0973 - accuracy: 0.9661\n",
            "Epoch 4/10\n",
            "1158/1158 [==============================] - 14s 12ms/step - loss: 0.0969 - accuracy: 0.9668\n",
            "Epoch 5/10\n",
            "1158/1158 [==============================] - 14s 12ms/step - loss: 0.0951 - accuracy: 0.9673\n",
            "Epoch 6/10\n",
            "1158/1158 [==============================] - 14s 12ms/step - loss: 0.0945 - accuracy: 0.9670\n",
            "Epoch 7/10\n",
            "1158/1158 [==============================] - 13s 12ms/step - loss: 0.0937 - accuracy: 0.9671\n",
            "Epoch 8/10\n",
            "1158/1158 [==============================] - 13s 11ms/step - loss: 0.0936 - accuracy: 0.9677\n",
            "Epoch 9/10\n",
            "1158/1158 [==============================] - 13s 11ms/step - loss: 0.0927 - accuracy: 0.9669\n",
            "Epoch 10/10\n",
            "1158/1158 [==============================] - 13s 12ms/step - loss: 0.0925 - accuracy: 0.9679\n",
            "290/290 [==============================] - 2s 6ms/step\n",
            "290/290 [==============================] - 2s 6ms/step\n",
            "Epoch 1/10\n",
            "1158/1158 [==============================] - 17s 12ms/step - loss: 0.1083 - accuracy: 0.9627\n",
            "Epoch 2/10\n",
            "1158/1158 [==============================] - 13s 12ms/step - loss: 0.1012 - accuracy: 0.9651\n",
            "Epoch 3/10\n",
            "1158/1158 [==============================] - 13s 12ms/step - loss: 0.0986 - accuracy: 0.9659\n",
            "Epoch 4/10\n",
            "1158/1158 [==============================] - 13s 12ms/step - loss: 0.0977 - accuracy: 0.9658\n",
            "Epoch 5/10\n",
            "1158/1158 [==============================] - 14s 12ms/step - loss: 0.0982 - accuracy: 0.9663\n",
            "Epoch 6/10\n",
            "1158/1158 [==============================] - 13s 12ms/step - loss: 0.0963 - accuracy: 0.9663\n",
            "Epoch 7/10\n",
            "1158/1158 [==============================] - 13s 11ms/step - loss: 0.0967 - accuracy: 0.9669\n",
            "Epoch 8/10\n",
            "1158/1158 [==============================] - 13s 11ms/step - loss: 0.0956 - accuracy: 0.9664\n",
            "Epoch 9/10\n",
            "1158/1158 [==============================] - 14s 12ms/step - loss: 0.0954 - accuracy: 0.9669\n",
            "Epoch 10/10\n",
            "1158/1158 [==============================] - 14s 12ms/step - loss: 0.0945 - accuracy: 0.9678\n",
            "290/290 [==============================] - 2s 6ms/step\n",
            "290/290 [==============================] - 2s 5ms/step\n",
            "Epoch 1/10\n",
            "1158/1158 [==============================] - 17s 12ms/step - loss: 0.1010 - accuracy: 0.9665\n",
            "Epoch 2/10\n",
            "1158/1158 [==============================] - 14s 12ms/step - loss: 0.0917 - accuracy: 0.9682\n",
            "Epoch 3/10\n",
            "1158/1158 [==============================] - 14s 12ms/step - loss: 0.0911 - accuracy: 0.9690\n",
            "Epoch 4/10\n",
            "1158/1158 [==============================] - 13s 11ms/step - loss: 0.0893 - accuracy: 0.9692\n",
            "Epoch 5/10\n",
            "1158/1158 [==============================] - 14s 12ms/step - loss: 0.0889 - accuracy: 0.9695\n",
            "Epoch 6/10\n",
            "1158/1158 [==============================] - 14s 12ms/step - loss: 0.0872 - accuracy: 0.9697\n",
            "Epoch 7/10\n",
            "1158/1158 [==============================] - 13s 11ms/step - loss: 0.0880 - accuracy: 0.9695\n",
            "Epoch 8/10\n",
            "1158/1158 [==============================] - 13s 11ms/step - loss: 0.0861 - accuracy: 0.9704\n",
            "Epoch 9/10\n",
            "1158/1158 [==============================] - 13s 12ms/step - loss: 0.0856 - accuracy: 0.9700\n",
            "Epoch 10/10\n",
            "1158/1158 [==============================] - 13s 12ms/step - loss: 0.0845 - accuracy: 0.9697\n",
            "290/290 [==============================] - 3s 7ms/step\n",
            "290/290 [==============================] - 2s 5ms/step\n",
            "Epoch 1/10\n",
            "1158/1158 [==============================] - 17s 12ms/step - loss: 0.1058 - accuracy: 0.9643\n",
            "Epoch 2/10\n",
            "1158/1158 [==============================] - 13s 12ms/step - loss: 0.0984 - accuracy: 0.9661\n",
            "Epoch 3/10\n",
            "1158/1158 [==============================] - 14s 12ms/step - loss: 0.0959 - accuracy: 0.9670\n",
            "Epoch 4/10\n",
            "1158/1158 [==============================] - 13s 11ms/step - loss: 0.0951 - accuracy: 0.9679\n",
            "Epoch 5/10\n",
            "1158/1158 [==============================] - 13s 11ms/step - loss: 0.0943 - accuracy: 0.9672\n",
            "Epoch 6/10\n",
            "1158/1158 [==============================] - 13s 11ms/step - loss: 0.0931 - accuracy: 0.9674\n",
            "Epoch 7/10\n",
            "1158/1158 [==============================] - 13s 11ms/step - loss: 0.0924 - accuracy: 0.9678\n",
            "Epoch 8/10\n",
            "1158/1158 [==============================] - 13s 12ms/step - loss: 0.0929 - accuracy: 0.9680\n",
            "Epoch 9/10\n",
            "1158/1158 [==============================] - 13s 12ms/step - loss: 0.0918 - accuracy: 0.9678\n",
            "Epoch 10/10\n",
            "1158/1158 [==============================] - 14s 12ms/step - loss: 0.0914 - accuracy: 0.9684\n",
            "290/290 [==============================] - 2s 6ms/step\n",
            "290/290 [==============================] - 2s 6ms/step\n",
            "Epoch 1/10\n",
            "1158/1158 [==============================] - 20s 12ms/step - loss: 0.1097 - accuracy: 0.9632\n",
            "Epoch 2/10\n",
            "1158/1158 [==============================] - 14s 12ms/step - loss: 0.1018 - accuracy: 0.9651\n",
            "Epoch 3/10\n",
            "1158/1158 [==============================] - 15s 13ms/step - loss: 0.0996 - accuracy: 0.9666\n",
            "Epoch 4/10\n",
            "1158/1158 [==============================] - 14s 12ms/step - loss: 0.0968 - accuracy: 0.9666\n",
            "Epoch 5/10\n",
            "1158/1158 [==============================] - 14s 12ms/step - loss: 0.0965 - accuracy: 0.9663\n",
            "Epoch 6/10\n",
            "1158/1158 [==============================] - 14s 12ms/step - loss: 0.0969 - accuracy: 0.9668\n",
            "Epoch 7/10\n",
            "1158/1158 [==============================] - 14s 12ms/step - loss: 0.0960 - accuracy: 0.9672\n",
            "Epoch 8/10\n",
            "1158/1158 [==============================] - 14s 12ms/step - loss: 0.0949 - accuracy: 0.9670\n",
            "Epoch 9/10\n",
            "1158/1158 [==============================] - 14s 12ms/step - loss: 0.0946 - accuracy: 0.9678\n",
            "Epoch 10/10\n",
            "1158/1158 [==============================] - 14s 12ms/step - loss: 0.0938 - accuracy: 0.9672\n",
            "290/290 [==============================] - 2s 6ms/step\n",
            "290/290 [==============================] - 2s 6ms/step\n"
          ]
        }
      ]
    },
    {
      "cell_type": "code",
      "source": [
        "print(\"Cross-Validation Accuracy: %0.2f (+/- %0.2f)\" % (results['test_accuracy'].mean(), results['test_accuracy'].std() * 2))\n",
        "print(\"Cross-Validation Precision: %0.2f (+/- %0.2f)\" % (results['test_precision'].mean(), results['test_precision'].std() * 2))\n",
        "print(\"Cross-Validation Loss: %0.2f (+/- %0.2f)\" % (-results['test_loss'].mean(), results['test_loss'].std() * 2))\n",
        "print(\"Cross-Validation Recall: %0.2f (+/- %0.2f)\" % (results['test_recall'].mean(), results['test_recall'].std() * 2))\n",
        "print(\"Cross-Validation F1 Score: %0.2f (+/- %0.2f)\" % (results['test_f1'].mean(), results['test_f1'].std() * 2))"
      ],
      "metadata": {
        "id": "6t0uJXZ_ufhu",
        "colab": {
          "base_uri": "https://localhost:8080/"
        },
        "outputId": "0fbc7dd7-37d9-40db-9847-14bd5c96e05b"
      },
      "execution_count": null,
      "outputs": [
        {
          "output_type": "stream",
          "name": "stdout",
          "text": [
            "Cross-Validation Accuracy: 0.97 (+/- 0.01)\n",
            "Cross-Validation Precision: 0.97 (+/- 0.02)\n",
            "Cross-Validation Loss: 0.10 (+/- 0.02)\n",
            "Cross-Validation Recall: 0.98 (+/- 0.01)\n",
            "Cross-Validation F1 Score: 0.97 (+/- 0.01)\n"
          ]
        }
      ]
    },
    {
      "cell_type": "markdown",
      "metadata": {
        "id": "y_XLSvr1NEw4"
      },
      "source": [
        "## **FakeBert-DistilBERT**"
      ]
    },
    {
      "cell_type": "code",
      "execution_count": null,
      "metadata": {
        "id": "Eh9283P6NEw4"
      },
      "outputs": [],
      "source": [
        "inputs = Input(shape=(768, 1))\n",
        "conv1 = Conv1D(128, 3, activation='relu', padding='same')(inputs)\n",
        "maxpool1 = MaxPooling1D(pool_size=5)(conv1)\n",
        "conv2 = Conv1D(128, 4, activation='relu', padding='same')(inputs)\n",
        "maxpool2 = MaxPooling1D(pool_size=5)(conv2)\n",
        "conv3 = Conv1D(128, 5, activation='relu', padding='same')(inputs)\n",
        "maxpool3 = MaxPooling1D(pool_size=5)(conv3)\n",
        "concat = Concatenate()([maxpool1, maxpool2, maxpool3])\n",
        "conv4 = Conv1D(128, 5, activation='relu', padding='same')(concat)\n",
        "maxpool4 = MaxPooling1D(pool_size=2)(conv4)\n",
        "flatten = Flatten()(maxpool4)\n",
        "dense1 = Dense(384, activation='relu')(flatten)\n",
        "dropout1 = Dropout(0.5)(dense1)\n",
        "dense2 = Dense(128, activation='relu')(dropout1)\n",
        "dropout2 = Dropout(0.5)(dense2)\n",
        "output = Dense(1, activation='sigmoid')(dropout2)\n",
        "model3 = Model(inputs=inputs, outputs=output)"
      ]
    },
    {
      "cell_type": "code",
      "execution_count": null,
      "metadata": {
        "id": "chOY3LbaNEw4"
      },
      "outputs": [],
      "source": [
        "model3.compile(loss='binary_crossentropy', optimizer='adam', metrics=['accuracy'])"
      ]
    },
    {
      "cell_type": "code",
      "execution_count": null,
      "metadata": {
        "id": "nDwLxiS6NEw5",
        "colab": {
          "base_uri": "https://localhost:8080/"
        },
        "outputId": "232bfb81-7f58-4547-e2c9-5dffe07b2672"
      },
      "outputs": [
        {
          "output_type": "stream",
          "name": "stdout",
          "text": [
            "Epoch 1/10\n",
            "1448/1448 [==============================] - 15s 8ms/step - loss: 0.1174 - accuracy: 0.9619\n",
            "Epoch 2/10\n",
            "1448/1448 [==============================] - 11s 8ms/step - loss: 0.1034 - accuracy: 0.9645\n",
            "Epoch 3/10\n",
            "1448/1448 [==============================] - 12s 8ms/step - loss: 0.0999 - accuracy: 0.9664\n",
            "Epoch 4/10\n",
            "1448/1448 [==============================] - 12s 8ms/step - loss: 0.0982 - accuracy: 0.9677\n",
            "Epoch 5/10\n",
            "1448/1448 [==============================] - 11s 7ms/step - loss: 0.1001 - accuracy: 0.9674\n",
            "Epoch 6/10\n",
            "1448/1448 [==============================] - 11s 8ms/step - loss: 0.0976 - accuracy: 0.9665\n",
            "Epoch 7/10\n",
            "1448/1448 [==============================] - 12s 8ms/step - loss: 0.0957 - accuracy: 0.9680\n",
            "Epoch 8/10\n",
            "1448/1448 [==============================] - 12s 8ms/step - loss: 0.0959 - accuracy: 0.9675\n",
            "Epoch 9/10\n",
            "1448/1448 [==============================] - 11s 7ms/step - loss: 0.0960 - accuracy: 0.9668\n",
            "Epoch 10/10\n",
            "1448/1448 [==============================] - 11s 8ms/step - loss: 0.0965 - accuracy: 0.9680\n"
          ]
        }
      ],
      "source": [
        "history3 = model3.fit(train_embeddings, train_labels, epochs=10, batch_size=16)"
      ]
    },
    {
      "cell_type": "code",
      "execution_count": null,
      "metadata": {
        "id": "Z-lMNlwb86BN",
        "colab": {
          "base_uri": "https://localhost:8080/"
        },
        "outputId": "be6353f1-b758-4f84-80ca-fe1099c56afc"
      },
      "outputs": [
        {
          "output_type": "stream",
          "name": "stdout",
          "text": [
            "181/181 - 1s - loss: 0.0949 - accuracy: 0.9675 - 1s/epoch - 6ms/step\n",
            "181/181 [==============================] - 1s 4ms/step\n",
            "Test Accuracy: 0.9675358533859253\n",
            "Test F1 Score: 0.9732650739476678\n",
            "Test Recall: 0.9735419630156472\n",
            "Precision: 0.9729883423372192\n"
          ]
        }
      ],
      "source": [
        "test_loss, test_acc = model3.evaluate(test_embeddings, test_labels, verbose=2)\n",
        "\n",
        "y_pred = model3.predict(test_embeddings)\n",
        "y_pred = (y_pred > 0.5).astype('int32')\n",
        "\n",
        "f1 = f1_score(test_labels, y_pred)\n",
        "recall = recall_score(test_labels, y_pred)\n",
        "precision = precision_score(test_labels, y_pred)\n",
        "\n",
        "print(\"Test Accuracy:\", test_acc)\n",
        "print(\"Test F1 Score:\", f1)\n",
        "print(\"Test Recall:\", recall)\n",
        "print(\"Precision:\", precision)"
      ]
    },
    {
      "cell_type": "code",
      "execution_count": null,
      "metadata": {
        "id": "iLUfB_1M86BN",
        "colab": {
          "base_uri": "https://localhost:8080/"
        },
        "outputId": "706ae3d1-3457-453e-972a-c01b56f6043a"
      },
      "outputs": [
        {
          "output_type": "stream",
          "name": "stdout",
          "text": [
            "Model: \"model\"\n",
            "__________________________________________________________________________________________________\n",
            " Layer (type)                   Output Shape         Param #     Connected to                     \n",
            "==================================================================================================\n",
            " input_1 (InputLayer)           [(None, 768, 1)]     0           []                               \n",
            "                                                                                                  \n",
            " conv1d_30 (Conv1D)             (None, 768, 128)     512         ['input_1[0][0]']                \n",
            "                                                                                                  \n",
            " conv1d_31 (Conv1D)             (None, 768, 128)     640         ['input_1[0][0]']                \n",
            "                                                                                                  \n",
            " conv1d_32 (Conv1D)             (None, 768, 128)     768         ['input_1[0][0]']                \n",
            "                                                                                                  \n",
            " max_pooling1d_30 (MaxPooling1D  (None, 153, 128)    0           ['conv1d_30[0][0]']              \n",
            " )                                                                                                \n",
            "                                                                                                  \n",
            " max_pooling1d_31 (MaxPooling1D  (None, 153, 128)    0           ['conv1d_31[0][0]']              \n",
            " )                                                                                                \n",
            "                                                                                                  \n",
            " max_pooling1d_32 (MaxPooling1D  (None, 153, 128)    0           ['conv1d_32[0][0]']              \n",
            " )                                                                                                \n",
            "                                                                                                  \n",
            " concatenate (Concatenate)      (None, 153, 384)     0           ['max_pooling1d_30[0][0]',       \n",
            "                                                                  'max_pooling1d_31[0][0]',       \n",
            "                                                                  'max_pooling1d_32[0][0]']       \n",
            "                                                                                                  \n",
            " conv1d_33 (Conv1D)             (None, 153, 128)     245888      ['concatenate[0][0]']            \n",
            "                                                                                                  \n",
            " max_pooling1d_33 (MaxPooling1D  (None, 76, 128)     0           ['conv1d_33[0][0]']              \n",
            " )                                                                                                \n",
            "                                                                                                  \n",
            " flatten_12 (Flatten)           (None, 9728)         0           ['max_pooling1d_33[0][0]']       \n",
            "                                                                                                  \n",
            " dense_42 (Dense)               (None, 384)          3735936     ['flatten_12[0][0]']             \n",
            "                                                                                                  \n",
            " dropout_32 (Dropout)           (None, 384)          0           ['dense_42[0][0]']               \n",
            "                                                                                                  \n",
            " dense_43 (Dense)               (None, 128)          49280       ['dropout_32[0][0]']             \n",
            "                                                                                                  \n",
            " dropout_33 (Dropout)           (None, 128)          0           ['dense_43[0][0]']               \n",
            "                                                                                                  \n",
            " dense_44 (Dense)               (None, 1)            129         ['dropout_33[0][0]']             \n",
            "                                                                                                  \n",
            "==================================================================================================\n",
            "Total params: 4,033,153\n",
            "Trainable params: 4,033,153\n",
            "Non-trainable params: 0\n",
            "__________________________________________________________________________________________________\n"
          ]
        }
      ],
      "source": [
        "model3.summary()"
      ]
    },
    {
      "cell_type": "code",
      "source": [
        "y_pred = model3.predict(test_embeddings)\n",
        "y_pred = (y_pred > 0.5).astype(int)\n",
        "cm = confusion_matrix(test_labels, y_pred)\n",
        "print(cm)\n",
        "sns.heatmap(cm, annot=True, cmap='Blues', fmt='g')\n",
        "plt.xlabel('Predicted label')\n",
        "plt.ylabel('True label')\n",
        "plt.show()"
      ],
      "metadata": {
        "id": "Uz1yrSXHcffi",
        "colab": {
          "base_uri": "https://localhost:8080/",
          "height": 501
        },
        "outputId": "7836ebb7-eb9b-4b9f-af89-a078ce29c077"
      },
      "execution_count": null,
      "outputs": [
        {
          "output_type": "stream",
          "name": "stdout",
          "text": [
            "181/181 [==============================] - 1s 4ms/step\n",
            "[[2181   95]\n",
            " [  93 3422]]\n"
          ]
        },
        {
          "output_type": "display_data",
          "data": {
            "text/plain": [
              "<Figure size 640x480 with 2 Axes>"
            ],
            "image/png": "[encoded data removed]"
          },
          "metadata": {}
        }
      ]
    },
    {
      "cell_type": "code",
      "source": [
        "def create_model():\n",
        "  inputs = Input(shape=(768, 1))\n",
        "  conv1 = Conv1D(128, 3, activation='relu', padding='same')(inputs)\n",
        "  maxpool1 = MaxPooling1D(pool_size=5)(conv1)\n",
        "  conv2 = Conv1D(128, 4, activation='relu', padding='same')(inputs)\n",
        "  maxpool2 = MaxPooling1D(pool_size=5)(conv2)\n",
        "  conv3 = Conv1D(128, 5, activation='relu', padding='same')(inputs)\n",
        "  maxpool3 = MaxPooling1D(pool_size=5)(conv3)\n",
        "  concat = Concatenate()([maxpool1, maxpool2, maxpool3])\n",
        "  conv4 = Conv1D(128, 5, activation='relu', padding='same')(concat)\n",
        "  maxpool4 = MaxPooling1D(pool_size=2)(conv4)\n",
        "  flatten = Flatten()(maxpool4)\n",
        "  dense1 = Dense(384, activation='relu')(flatten)\n",
        "  dropout1 = Dropout(0.5)(dense1)\n",
        "  dense2 = Dense(128, activation='relu')(dropout1)\n",
        "  dropout2 = Dropout(0.5)(dense2)\n",
        "  output = Dense(1, activation='sigmoid')(dropout2)\n",
        "  model3 = Model(inputs=inputs, outputs=output)\n",
        "  model3.compile(loss='binary_crossentropy', optimizer='adam', metrics=['accuracy'])\n",
        "  return model3\n",
        "\n",
        "model3 = KerasClassifier(model=create_model, epochs=10, batch_size=16)\n",
        "\n",
        "kfold = StratifiedKFold(n_splits=5, shuffle=True)\n",
        "\n",
        "scoring = {\n",
        "    'accuracy': 'accuracy',\n",
        "    'precision': 'precision',\n",
        "    'loss': 'neg_log_loss',\n",
        "    'recall': 'recall',\n",
        "    'f1': 'f1',\n",
        "}\n",
        "\n",
        "train_embeddings = np.array(train_embeddings)\n",
        "train_labels = np.array(train_labels)\n",
        "\n",
        "results = cross_validate(model3, train_embeddings, train_labels, cv=kfold, scoring=scoring)"
      ],
      "metadata": {
        "id": "ZRaaMHopvIf7",
        "colab": {
          "base_uri": "https://localhost:8080/"
        },
        "outputId": "8619c81e-315c-4bde-8d99-a8252ea30d9c"
      },
      "execution_count": null,
      "outputs": [
        {
          "output_type": "stream",
          "name": "stdout",
          "text": [
            "Epoch 1/10\n",
            "1158/1158 [==============================] - 11s 6ms/step - loss: 0.1154 - accuracy: 0.9634\n",
            "Epoch 2/10\n",
            "1158/1158 [==============================] - 8s 7ms/step - loss: 0.1027 - accuracy: 0.9670\n",
            "Epoch 3/10\n",
            "1158/1158 [==============================] - 7s 6ms/step - loss: 0.0995 - accuracy: 0.9668\n",
            "Epoch 4/10\n",
            "1158/1158 [==============================] - 8s 7ms/step - loss: 0.0997 - accuracy: 0.9676\n",
            "Epoch 5/10\n",
            "1158/1158 [==============================] - 7s 6ms/step - loss: 0.0973 - accuracy: 0.9673\n",
            "Epoch 6/10\n",
            "1158/1158 [==============================] - 8s 7ms/step - loss: 0.0970 - accuracy: 0.9681\n",
            "Epoch 7/10\n",
            "1158/1158 [==============================] - 7s 6ms/step - loss: 0.0971 - accuracy: 0.9670\n",
            "Epoch 8/10\n",
            "1158/1158 [==============================] - 8s 7ms/step - loss: 0.0962 - accuracy: 0.9678\n",
            "Epoch 9/10\n",
            "1158/1158 [==============================] - 7s 6ms/step - loss: 0.0947 - accuracy: 0.9688\n",
            "Epoch 10/10\n",
            "1158/1158 [==============================] - 8s 7ms/step - loss: 0.0952 - accuracy: 0.9683\n",
            "290/290 [==============================] - 1s 3ms/step\n",
            "290/290 [==============================] - 1s 3ms/step\n",
            "Epoch 1/10\n",
            "1158/1158 [==============================] - 11s 7ms/step - loss: 0.1142 - accuracy: 0.9617\n",
            "Epoch 2/10\n",
            "1158/1158 [==============================] - 7s 6ms/step - loss: 0.1011 - accuracy: 0.9663\n",
            "Epoch 3/10\n",
            "1158/1158 [==============================] - 8s 7ms/step - loss: 0.0995 - accuracy: 0.9666\n",
            "Epoch 4/10\n",
            "1158/1158 [==============================] - 7s 6ms/step - loss: 0.0989 - accuracy: 0.9658\n",
            "Epoch 5/10\n",
            "1158/1158 [==============================] - 8s 7ms/step - loss: 0.0972 - accuracy: 0.9679\n",
            "Epoch 6/10\n",
            "1158/1158 [==============================] - 7s 6ms/step - loss: 0.0935 - accuracy: 0.9685\n",
            "Epoch 7/10\n",
            "1158/1158 [==============================] - 8s 7ms/step - loss: 0.0974 - accuracy: 0.9676\n",
            "Epoch 8/10\n",
            "1158/1158 [==============================] - 7s 6ms/step - loss: 0.0950 - accuracy: 0.9681\n",
            "Epoch 9/10\n",
            "1158/1158 [==============================] - 8s 7ms/step - loss: 0.0930 - accuracy: 0.9680\n",
            "Epoch 10/10\n",
            "1158/1158 [==============================] - 7s 6ms/step - loss: 0.0927 - accuracy: 0.9683\n",
            "290/290 [==============================] - 1s 3ms/step\n",
            "290/290 [==============================] - 1s 3ms/step\n",
            "Epoch 1/10\n",
            "1158/1158 [==============================] - 10s 7ms/step - loss: 0.1177 - accuracy: 0.9605\n",
            "Epoch 2/10\n",
            "1158/1158 [==============================] - 8s 7ms/step - loss: 0.1050 - accuracy: 0.9655\n",
            "Epoch 3/10\n",
            "1158/1158 [==============================] - 8s 7ms/step - loss: 0.1040 - accuracy: 0.9651\n",
            "Epoch 4/10\n",
            "1158/1158 [==============================] - 8s 7ms/step - loss: 0.1025 - accuracy: 0.9668\n",
            "Epoch 5/10\n",
            "1158/1158 [==============================] - 8s 7ms/step - loss: 0.0991 - accuracy: 0.9662\n",
            "Epoch 6/10\n",
            "1158/1158 [==============================] - 8s 7ms/step - loss: 0.0985 - accuracy: 0.9661\n",
            "Epoch 7/10\n",
            "1158/1158 [==============================] - 8s 7ms/step - loss: 0.0984 - accuracy: 0.9673\n",
            "Epoch 8/10\n",
            "1158/1158 [==============================] - 8s 7ms/step - loss: 0.0995 - accuracy: 0.9672\n",
            "Epoch 9/10\n",
            "1158/1158 [==============================] - 8s 7ms/step - loss: 0.0994 - accuracy: 0.9671\n",
            "Epoch 10/10\n",
            "1158/1158 [==============================] - 8s 7ms/step - loss: 0.0969 - accuracy: 0.9672\n",
            "290/290 [==============================] - 1s 3ms/step\n",
            "290/290 [==============================] - 2s 7ms/step\n",
            "Epoch 1/10\n",
            "1158/1158 [==============================] - 11s 7ms/step - loss: 0.1191 - accuracy: 0.9614\n",
            "Epoch 2/10\n",
            "1158/1158 [==============================] - 8s 7ms/step - loss: 0.1090 - accuracy: 0.9643\n",
            "Epoch 3/10\n",
            "1158/1158 [==============================] - 7s 6ms/step - loss: 0.1019 - accuracy: 0.9659\n",
            "Epoch 4/10\n",
            "1158/1158 [==============================] - 8s 7ms/step - loss: 0.1002 - accuracy: 0.9654\n",
            "Epoch 5/10\n",
            "1158/1158 [==============================] - 7s 6ms/step - loss: 0.1007 - accuracy: 0.9663\n",
            "Epoch 6/10\n",
            "1158/1158 [==============================] - 8s 7ms/step - loss: 0.1003 - accuracy: 0.9662\n",
            "Epoch 7/10\n",
            "1158/1158 [==============================] - 7s 6ms/step - loss: 0.0967 - accuracy: 0.9673\n",
            "Epoch 8/10\n",
            "1158/1158 [==============================] - 8s 7ms/step - loss: 0.0962 - accuracy: 0.9672\n",
            "Epoch 9/10\n",
            "1158/1158 [==============================] - 7s 6ms/step - loss: 0.0986 - accuracy: 0.9673\n",
            "Epoch 10/10\n",
            "1158/1158 [==============================] - 8s 7ms/step - loss: 0.0968 - accuracy: 0.9677\n",
            "290/290 [==============================] - 1s 3ms/step\n",
            "290/290 [==============================] - 1s 3ms/step\n",
            "Epoch 1/10\n",
            "1158/1158 [==============================] - 11s 7ms/step - loss: 0.1234 - accuracy: 0.9596\n",
            "Epoch 2/10\n",
            "1158/1158 [==============================] - 7s 6ms/step - loss: 0.1071 - accuracy: 0.9647\n",
            "Epoch 3/10\n",
            "1158/1158 [==============================] - 8s 7ms/step - loss: 0.1042 - accuracy: 0.9649\n",
            "Epoch 4/10\n",
            "1158/1158 [==============================] - 7s 6ms/step - loss: 0.1032 - accuracy: 0.9642\n",
            "Epoch 5/10\n",
            "1158/1158 [==============================] - 8s 7ms/step - loss: 0.1043 - accuracy: 0.9668\n",
            "Epoch 6/10\n",
            "1158/1158 [==============================] - 7s 6ms/step - loss: 0.0997 - accuracy: 0.9655\n",
            "Epoch 7/10\n",
            "1158/1158 [==============================] - 8s 7ms/step - loss: 0.0980 - accuracy: 0.9668\n",
            "Epoch 8/10\n",
            "1158/1158 [==============================] - 7s 6ms/step - loss: 0.0987 - accuracy: 0.9653\n",
            "Epoch 9/10\n",
            "1158/1158 [==============================] - 8s 7ms/step - loss: 0.0973 - accuracy: 0.9668\n",
            "Epoch 10/10\n",
            "1158/1158 [==============================] - 7s 6ms/step - loss: 0.0976 - accuracy: 0.9671\n",
            "290/290 [==============================] - 1s 3ms/step\n",
            "290/290 [==============================] - 1s 3ms/step\n"
          ]
        }
      ]
    },
    {
      "cell_type": "code",
      "source": [
        "print(\"Cross-Validation Accuracy: %0.2f (+/- %0.2f)\" % (results['test_accuracy'].mean(), results['test_accuracy'].std() * 2))\n",
        "print(\"Cross-Validation Precision: %0.2f (+/- %0.2f)\" % (results['test_precision'].mean(), results['test_precision'].std() * 2))\n",
        "print(\"Cross-Validation Loss: %0.2f (+/- %0.2f)\" % (-results['test_loss'].mean(), results['test_loss'].std() * 2))\n",
        "print(\"Cross-Validation Recall: %0.2f (+/- %0.2f)\" % (results['test_recall'].mean(), results['test_recall'].std() * 2))\n",
        "print(\"Cross-Validation F1 Score: %0.2f (+/- %0.2f)\" % (results['test_f1'].mean(), results['test_f1'].std() * 2))"
      ],
      "metadata": {
        "id": "-gG0pmbAvIf8",
        "colab": {
          "base_uri": "https://localhost:8080/"
        },
        "outputId": "4a8b8b11-c310-4cd6-806e-53d1ee6cd6e6"
      },
      "execution_count": null,
      "outputs": [
        {
          "output_type": "stream",
          "name": "stdout",
          "text": [
            "Cross-Validation Accuracy: 0.97 (+/- 0.00)\n",
            "Cross-Validation Precision: 0.97 (+/- 0.01)\n",
            "Cross-Validation Loss: 0.10 (+/- 0.02)\n",
            "Cross-Validation Recall: 0.97 (+/- 0.02)\n",
            "Cross-Validation F1 Score: 0.97 (+/- 0.00)\n"
          ]
        }
      ]
    },
    {
      "cell_type": "markdown",
      "source": [
        "## **CNN Light - DistilBERT**"
      ],
      "metadata": {
        "id": "PL6nphxYVHGD"
      }
    },
    {
      "cell_type": "code",
      "source": [
        "model4 = Sequential()\n",
        "model4.add(Conv1D(filters=32, kernel_size=3, activation='relu', input_shape=(768,1)))\n",
        "model4.add(MaxPooling1D(pool_size = 2))\n",
        "model4.add(Flatten())\n",
        "model4.add(Dense(units=64, activation='relu'))\n",
        "model4.add(Dense(units=1, activation='sigmoid'))"
      ],
      "metadata": {
        "id": "xzOVai8rWJtn"
      },
      "execution_count": null,
      "outputs": []
    },
    {
      "cell_type": "code",
      "execution_count": null,
      "metadata": {
        "id": "__ult2E8WYeQ"
      },
      "outputs": [],
      "source": [
        "model4.compile(loss='binary_crossentropy', optimizer='adam', metrics=['accuracy'])"
      ]
    },
    {
      "cell_type": "code",
      "source": [
        "history4 = model4.fit(train_embeddings, train_labels, epochs=10, batch_size=16)"
      ],
      "metadata": {
        "id": "rrVWNA9lWYeQ",
        "colab": {
          "base_uri": "https://localhost:8080/"
        },
        "outputId": "24c09824-7cac-4a72-a74b-960777c24d3f"
      },
      "execution_count": null,
      "outputs": [
        {
          "output_type": "stream",
          "name": "stdout",
          "text": [
            "Epoch 1/10\n",
            "1448/1448 [==============================] - 8s 4ms/step - loss: 0.1013 - accuracy: 0.9642\n",
            "Epoch 2/10\n",
            "1448/1448 [==============================] - 7s 5ms/step - loss: 0.0950 - accuracy: 0.9674\n",
            "Epoch 3/10\n",
            "1448/1448 [==============================] - 6s 4ms/step - loss: 0.0932 - accuracy: 0.9673\n",
            "Epoch 4/10\n",
            "1448/1448 [==============================] - 6s 4ms/step - loss: 0.0923 - accuracy: 0.9676\n",
            "Epoch 5/10\n",
            "1448/1448 [==============================] - 7s 5ms/step - loss: 0.0912 - accuracy: 0.9681\n",
            "Epoch 6/10\n",
            "1448/1448 [==============================] - 6s 4ms/step - loss: 0.0903 - accuracy: 0.9681\n",
            "Epoch 7/10\n",
            "1448/1448 [==============================] - 8s 5ms/step - loss: 0.0897 - accuracy: 0.9690\n",
            "Epoch 8/10\n",
            "1448/1448 [==============================] - 6s 4ms/step - loss: 0.0893 - accuracy: 0.9692\n",
            "Epoch 9/10\n",
            "1448/1448 [==============================] - 7s 5ms/step - loss: 0.0891 - accuracy: 0.9690\n",
            "Epoch 10/10\n",
            "1448/1448 [==============================] - 6s 4ms/step - loss: 0.0883 - accuracy: 0.9686\n"
          ]
        }
      ]
    },
    {
      "cell_type": "code",
      "execution_count": null,
      "metadata": {
        "id": "CVtcjizZWYeQ",
        "colab": {
          "base_uri": "https://localhost:8080/"
        },
        "outputId": "e9b4bf42-64a0-4006-9d32-3d47eefecaf6"
      },
      "outputs": [
        {
          "output_type": "stream",
          "name": "stdout",
          "text": [
            "181/181 [==============================] - 1s 3ms/step - loss: 0.0949 - accuracy: 0.9677\n",
            "181/181 [==============================] - 0s 2ms/step\n",
            "Test Accuracy: 0.9677085280418396\n",
            "Test F1 Score: 0.9733807829181496\n",
            "Test Recall: 0.9726884779516358\n",
            "Precision: 0.9740740740740741\n"
          ]
        }
      ],
      "source": [
        "test_loss, test_acc = model4.evaluate(test_embeddings, test_labels)\n",
        "\n",
        "y_pred = model4.predict(test_embeddings)\n",
        "y_pred = (y_pred > 0.5).astype('int32')\n",
        "\n",
        "\n",
        "f1 = f1_score(test_labels,y_pred)\n",
        "recall = recall_score(test_labels, y_pred)\n",
        "precision = precision_score(test_labels, y_pred)\n",
        "\n",
        "#accuraccy\n",
        "print(\"Test Accuracy:\", test_acc)\n",
        "#f1-score\n",
        "print(\"Test F1 Score:\", f1)\n",
        "#recall\n",
        "print(\"Test Recall:\", recall)\n",
        "#precision\n",
        "print(\"Precision:\", precision)"
      ]
    },
    {
      "cell_type": "code",
      "execution_count": null,
      "metadata": {
        "id": "XzI26wMYWYeR",
        "colab": {
          "base_uri": "https://localhost:8080/"
        },
        "outputId": "9dac22bf-09a3-41ad-c494-41f0ce71d1f2"
      },
      "outputs": [
        {
          "output_type": "stream",
          "name": "stdout",
          "text": [
            "Model: \"sequential_12\"\n",
            "_________________________________________________________________\n",
            " Layer (type)                Output Shape              Param #   \n",
            "=================================================================\n",
            " conv1d_54 (Conv1D)          (None, 766, 32)           128       \n",
            "                                                                 \n",
            " max_pooling1d_54 (MaxPoolin  (None, 383, 32)          0         \n",
            " g1D)                                                            \n",
            "                                                                 \n",
            " flatten_18 (Flatten)        (None, 12256)             0         \n",
            "                                                                 \n",
            " dense_60 (Dense)            (None, 64)                784448    \n",
            "                                                                 \n",
            " dense_61 (Dense)            (None, 1)                 65        \n",
            "                                                                 \n",
            "=================================================================\n",
            "Total params: 784,641\n",
            "Trainable params: 784,641\n",
            "Non-trainable params: 0\n",
            "_________________________________________________________________\n"
          ]
        }
      ],
      "source": [
        "#λεπτομέρειες για τη δομή του μοντέλου\n",
        "model4.summary()"
      ]
    },
    {
      "cell_type": "code",
      "source": [
        "y_pred = model4.predict(test_embeddings)\n",
        "y_pred = (y_pred > 0.5).astype('int32')\n",
        "\n",
        "cm = confusion_matrix(test_labels, y_pred)\n",
        "print(cm)\n",
        "sns.heatmap(cm, annot=True, cmap='Blues', fmt='g')\n",
        "plt.xlabel('Predicted label')\n",
        "plt.ylabel('True label')\n",
        "plt.show()"
      ],
      "metadata": {
        "id": "zlQ6GRRUWYeR",
        "colab": {
          "base_uri": "https://localhost:8080/",
          "height": 501
        },
        "outputId": "6942a209-e8b5-4f4e-9c72-9920f1274bef"
      },
      "execution_count": null,
      "outputs": [
        {
          "output_type": "stream",
          "name": "stdout",
          "text": [
            "181/181 [==============================] - 0s 2ms/step\n",
            "[[2185   91]\n",
            " [  96 3419]]\n"
          ]
        },
        {
          "output_type": "display_data",
          "data": {
            "text/plain": [
              "<Figure size 640x480 with 2 Axes>"
            ],
            "image/png": "[encoded data removed]"
          },
          "metadata": {}
        }
      ]
    },
    {
      "cell_type": "code",
      "execution_count": null,
      "metadata": {
        "id": "pq2u2JXrWYeR",
        "colab": {
          "base_uri": "https://localhost:8080/",
          "height": 1000
        },
        "outputId": "32803456-f936-4125-fccb-1dbd30e3cc69"
      },
      "outputs": [
        {
          "output_type": "display_data",
          "data": {
            "text/plain": [
              "<Figure size 640x480 with 1 Axes>"
            ],
            "image/png": "[encoded data removed]"
          },
          "metadata": {}
        },
        {
          "output_type": "display_data",
          "data": {
            "text/plain": [
              "<Figure size 640x480 with 1 Axes>"
            ],
            "image/png": "[encoded data removed]"
          },
          "metadata": {}
        },
        {
          "output_type": "stream",
          "name": "stdout",
          "text": [
            "181/181 [==============================] - 0s 2ms/step\n"
          ]
        },
        {
          "output_type": "display_data",
          "data": {
            "text/plain": [
              "<Figure size 640x480 with 1 Axes>"
            ],
            "image/png": "[encoded data removed]"
          },
          "metadata": {}
        },
        {
          "output_type": "stream",
          "name": "stdout",
          "text": [
            "              precision    recall  f1-score   support\n",
            "\n",
            "           0       0.96      0.96      0.96      2276\n",
            "           1       0.97      0.97      0.97      3515\n",
            "\n",
            "    accuracy                           0.97      5791\n",
            "   macro avg       0.97      0.97      0.97      5791\n",
            "weighted avg       0.97      0.97      0.97      5791\n",
            "\n"
          ]
        }
      ],
      "source": [
        "plot_history(history4,model4)"
      ]
    },
    {
      "cell_type": "code",
      "source": [
        "def create_model():\n",
        "  model4 = Sequential()\n",
        "  model4.add(Conv1D(filters=32, kernel_size=3, activation='relu', input_shape=(768,1)))\n",
        "  model4.add(MaxPooling1D(pool_size = 2))\n",
        "  model4.add(Flatten())\n",
        "  model4.add(Dense(units=64, activation='relu'))\n",
        "  model4.add(Dense(units=1, activation='sigmoid'))\n",
        "  model4.compile(loss='binary_crossentropy', optimizer='adam', metrics=['accuracy'])\n",
        "  return model4\n",
        "\n",
        "model4 = KerasClassifier(model=create_model, epochs=10, batch_size=16)\n",
        "\n",
        "kfold = StratifiedKFold(n_splits=5, shuffle=True)\n",
        "\n",
        "scoring = {\n",
        "    'accuracy': 'accuracy',\n",
        "    'precision': 'precision',\n",
        "    'loss': 'neg_log_loss',\n",
        "    'recall': 'recall',\n",
        "    'f1': 'f1',\n",
        "}\n",
        "\n",
        "train_embeddings = np.array(train_embeddings)\n",
        "train_labels = np.array(train_labels)\n",
        "\n",
        "results = cross_validate(model4, train_embeddings, train_labels, cv=kfold, scoring=scoring)"
      ],
      "metadata": {
        "id": "B8OOehHbvi1D",
        "colab": {
          "base_uri": "https://localhost:8080/"
        },
        "outputId": "d21f710d-1ea5-4b14-a90f-a7760b94a5b0"
      },
      "execution_count": null,
      "outputs": [
        {
          "output_type": "stream",
          "name": "stdout",
          "text": [
            "Epoch 1/10\n",
            "1158/1158 [==============================] - 6s 5ms/step - loss: 0.1029 - accuracy: 0.9650\n",
            "Epoch 2/10\n",
            "1158/1158 [==============================] - 4s 3ms/step - loss: 0.0974 - accuracy: 0.9669\n",
            "Epoch 3/10\n",
            "1158/1158 [==============================] - 4s 3ms/step - loss: 0.0955 - accuracy: 0.9672\n",
            "Epoch 4/10\n",
            "1158/1158 [==============================] - 4s 3ms/step - loss: 0.0942 - accuracy: 0.9680\n",
            "Epoch 5/10\n",
            "1158/1158 [==============================] - 5s 4ms/step - loss: 0.0923 - accuracy: 0.9684\n",
            "Epoch 6/10\n",
            "1158/1158 [==============================] - 4s 3ms/step - loss: 0.0927 - accuracy: 0.9682\n",
            "Epoch 7/10\n",
            "1158/1158 [==============================] - 4s 3ms/step - loss: 0.0913 - accuracy: 0.9689\n",
            "Epoch 8/10\n",
            "1158/1158 [==============================] - 5s 4ms/step - loss: 0.0907 - accuracy: 0.9690\n",
            "Epoch 9/10\n",
            "1158/1158 [==============================] - 5s 4ms/step - loss: 0.0897 - accuracy: 0.9684\n",
            "Epoch 10/10\n",
            "1158/1158 [==============================] - 4s 3ms/step - loss: 0.0897 - accuracy: 0.9693\n",
            "290/290 [==============================] - 1s 2ms/step\n",
            "290/290 [==============================] - 1s 2ms/step\n",
            "Epoch 1/10\n",
            "1158/1158 [==============================] - 6s 4ms/step - loss: 0.1005 - accuracy: 0.9651\n",
            "Epoch 2/10\n",
            "1158/1158 [==============================] - 4s 4ms/step - loss: 0.0953 - accuracy: 0.9676\n",
            "Epoch 3/10\n",
            "1158/1158 [==============================] - 4s 3ms/step - loss: 0.0939 - accuracy: 0.9676\n",
            "Epoch 4/10\n",
            "1158/1158 [==============================] - 4s 4ms/step - loss: 0.0921 - accuracy: 0.9680\n",
            "Epoch 5/10\n",
            "1158/1158 [==============================] - 5s 5ms/step - loss: 0.0907 - accuracy: 0.9686\n",
            "Epoch 6/10\n",
            "1158/1158 [==============================] - 4s 3ms/step - loss: 0.0898 - accuracy: 0.9691\n",
            "Epoch 7/10\n",
            "1158/1158 [==============================] - 4s 3ms/step - loss: 0.0893 - accuracy: 0.9691\n",
            "Epoch 8/10\n",
            "1158/1158 [==============================] - 5s 4ms/step - loss: 0.0888 - accuracy: 0.9697\n",
            "Epoch 9/10\n",
            "1158/1158 [==============================] - 4s 4ms/step - loss: 0.0881 - accuracy: 0.9697\n",
            "Epoch 10/10\n",
            "1158/1158 [==============================] - 4s 3ms/step - loss: 0.0874 - accuracy: 0.9695\n",
            "290/290 [==============================] - 1s 2ms/step\n",
            "290/290 [==============================] - 1s 2ms/step\n",
            "Epoch 1/10\n",
            "1158/1158 [==============================] - 7s 5ms/step - loss: 0.1005 - accuracy: 0.9654\n",
            "Epoch 2/10\n",
            "1158/1158 [==============================] - 4s 3ms/step - loss: 0.0961 - accuracy: 0.9670\n",
            "Epoch 3/10\n",
            "1158/1158 [==============================] - 4s 3ms/step - loss: 0.0940 - accuracy: 0.9673\n",
            "Epoch 4/10\n",
            "1158/1158 [==============================] - 5s 4ms/step - loss: 0.0921 - accuracy: 0.9680\n",
            "Epoch 5/10\n",
            "1158/1158 [==============================] - 5s 4ms/step - loss: 0.0915 - accuracy: 0.9686\n",
            "Epoch 6/10\n",
            "1158/1158 [==============================] - 4s 3ms/step - loss: 0.0911 - accuracy: 0.9680\n",
            "Epoch 7/10\n",
            "1158/1158 [==============================] - 4s 4ms/step - loss: 0.0904 - accuracy: 0.9682\n",
            "Epoch 8/10\n",
            "1158/1158 [==============================] - 5s 5ms/step - loss: 0.0896 - accuracy: 0.9689\n",
            "Epoch 9/10\n",
            "1158/1158 [==============================] - 4s 3ms/step - loss: 0.0895 - accuracy: 0.9690\n",
            "Epoch 10/10\n",
            "1158/1158 [==============================] - 4s 3ms/step - loss: 0.0892 - accuracy: 0.9695\n",
            "290/290 [==============================] - 1s 2ms/step\n",
            "290/290 [==============================] - 1s 2ms/step\n",
            "Epoch 1/10\n",
            "1158/1158 [==============================] - 6s 4ms/step - loss: 0.1009 - accuracy: 0.9655\n",
            "Epoch 2/10\n",
            "1158/1158 [==============================] - 5s 4ms/step - loss: 0.0952 - accuracy: 0.9668\n",
            "Epoch 3/10\n",
            "1158/1158 [==============================] - 4s 3ms/step - loss: 0.0943 - accuracy: 0.9674\n",
            "Epoch 4/10\n",
            "1158/1158 [==============================] - 4s 4ms/step - loss: 0.0926 - accuracy: 0.9683\n",
            "Epoch 5/10\n",
            "1158/1158 [==============================] - 5s 5ms/step - loss: 0.0920 - accuracy: 0.9690\n",
            "Epoch 6/10\n",
            "1158/1158 [==============================] - 4s 3ms/step - loss: 0.0910 - accuracy: 0.9690\n",
            "Epoch 7/10\n",
            "1158/1158 [==============================] - 4s 3ms/step - loss: 0.0897 - accuracy: 0.9698\n",
            "Epoch 8/10\n",
            "1158/1158 [==============================] - 5s 4ms/step - loss: 0.0891 - accuracy: 0.9694\n",
            "Epoch 9/10\n",
            "1158/1158 [==============================] - 5s 4ms/step - loss: 0.0881 - accuracy: 0.9697\n",
            "Epoch 10/10\n",
            "1158/1158 [==============================] - 4s 3ms/step - loss: 0.0879 - accuracy: 0.9703\n",
            "290/290 [==============================] - 1s 2ms/step\n",
            "290/290 [==============================] - 1s 2ms/step\n",
            "Epoch 1/10\n",
            "1158/1158 [==============================] - 6s 4ms/step - loss: 0.0999 - accuracy: 0.9650\n",
            "Epoch 2/10\n",
            "1158/1158 [==============================] - 5s 4ms/step - loss: 0.0954 - accuracy: 0.9677\n",
            "Epoch 3/10\n",
            "1158/1158 [==============================] - 4s 3ms/step - loss: 0.0934 - accuracy: 0.9679\n",
            "Epoch 4/10\n",
            "1158/1158 [==============================] - 4s 3ms/step - loss: 0.0922 - accuracy: 0.9680\n",
            "Epoch 5/10\n",
            "1158/1158 [==============================] - 5s 4ms/step - loss: 0.0911 - accuracy: 0.9677\n",
            "Epoch 6/10\n",
            "1158/1158 [==============================] - 4s 4ms/step - loss: 0.0905 - accuracy: 0.9686\n",
            "Epoch 7/10\n",
            "1158/1158 [==============================] - 4s 3ms/step - loss: 0.0893 - accuracy: 0.9693\n",
            "Epoch 8/10\n",
            "1158/1158 [==============================] - 4s 4ms/step - loss: 0.0886 - accuracy: 0.9689\n",
            "Epoch 9/10\n",
            "1158/1158 [==============================] - 5s 5ms/step - loss: 0.0887 - accuracy: 0.9686\n",
            "Epoch 10/10\n",
            "1158/1158 [==============================] - 4s 3ms/step - loss: 0.0882 - accuracy: 0.9690\n",
            "290/290 [==============================] - 1s 2ms/step\n",
            "290/290 [==============================] - 1s 2ms/step\n"
          ]
        }
      ]
    },
    {
      "cell_type": "code",
      "source": [
        "print(\"Cross-Validation Accuracy: %0.2f (+/- %0.2f)\" % (results['test_accuracy'].mean(), results['test_accuracy'].std() * 2))\n",
        "print(\"Cross-Validation Precision: %0.2f (+/- %0.2f)\" % (results['test_precision'].mean(), results['test_precision'].std() * 2))\n",
        "print(\"Cross-Validation Loss: %0.2f (+/- %0.2f)\" % (-results['test_loss'].mean(), results['test_loss'].std() * 2))\n",
        "print(\"Cross-Validation Recall: %0.2f (+/- %0.2f)\" % (results['test_recall'].mean(), results['test_recall'].std() * 2))\n",
        "print(\"Cross-Validation F1 Score: %0.2f (+/- %0.2f)\" % (results['test_f1'].mean(), results['test_f1'].std() * 2))"
      ],
      "metadata": {
        "id": "RsxQ_WZtvi1R",
        "colab": {
          "base_uri": "https://localhost:8080/"
        },
        "outputId": "f6034b9c-b6dd-4aca-b1ae-be1b290fc138"
      },
      "execution_count": null,
      "outputs": [
        {
          "output_type": "stream",
          "name": "stdout",
          "text": [
            "Cross-Validation Accuracy: 0.97 (+/- 0.00)\n",
            "Cross-Validation Precision: 0.96 (+/- 0.01)\n",
            "Cross-Validation Loss: 0.09 (+/- 0.01)\n",
            "Cross-Validation Recall: 0.98 (+/- 0.01)\n",
            "Cross-Validation F1 Score: 0.97 (+/- 0.00)\n"
          ]
        }
      ]
    },
    {
      "cell_type": "markdown",
      "metadata": {
        "id": "jNjRL18gtt8x"
      },
      "source": [
        "## **Bidirectional L2 LSTM-DistilBERT**"
      ]
    },
    {
      "cell_type": "code",
      "execution_count": null,
      "metadata": {
        "id": "c3uVjVJitt9D"
      },
      "outputs": [],
      "source": [
        "model5 = Sequential()\n",
        "model5.add(Conv1D(128, 5, activation='relu', input_shape=(768, 1)))\n",
        "model5.add(MaxPooling1D(pool_size=2))\n",
        "model5.add(Conv1D(128, 5, activation='relu'))\n",
        "model5.add(MaxPooling1D(pool_size=2))\n",
        "model5.add(Bidirectional(LSTM(64, return_sequences=True)))\n",
        "model5.add(BatchNormalization())\n",
        "model5.add(Dense(128, activation='relu',kernel_regularizer=regularizers.l2(0.01)))\n",
        "model5.add(Dense(64, activation='relu',kernel_regularizer=regularizers.l2(0.01)))\n",
        "model5.add(Dense(32, activation='relu',kernel_regularizer=regularizers.l2(0.01)))\n",
        "model5.add(Flatten())\n",
        "model5.add(Dense(1, activation='sigmoid'))"
      ]
    },
    {
      "cell_type": "code",
      "execution_count": null,
      "metadata": {
        "id": "t5OhFvrbtt9D"
      },
      "outputs": [],
      "source": [
        "model5.compile(loss='binary_crossentropy', optimizer='adam', metrics=['accuracy'])"
      ]
    },
    {
      "cell_type": "code",
      "execution_count": null,
      "metadata": {
        "id": "7MFEuiS_tt9E",
        "colab": {
          "base_uri": "https://localhost:8080/"
        },
        "outputId": "987d19b8-1c20-4c5b-f252-5c1eca8269d3"
      },
      "outputs": [
        {
          "output_type": "stream",
          "name": "stdout",
          "text": [
            "Epoch 1/10\n",
            "1448/1448 [==============================] - 38s 21ms/step - loss: 0.2543 - accuracy: 0.9639\n",
            "Epoch 2/10\n",
            "1448/1448 [==============================] - 30s 21ms/step - loss: 0.1041 - accuracy: 0.9661\n",
            "Epoch 3/10\n",
            "1448/1448 [==============================] - 31s 21ms/step - loss: 0.1009 - accuracy: 0.9665\n",
            "Epoch 4/10\n",
            "1448/1448 [==============================] - 28s 19ms/step - loss: 0.0998 - accuracy: 0.9669\n",
            "Epoch 5/10\n",
            "1448/1448 [==============================] - 28s 19ms/step - loss: 0.0989 - accuracy: 0.9668\n",
            "Epoch 6/10\n",
            "1448/1448 [==============================] - 28s 19ms/step - loss: 0.0974 - accuracy: 0.9671\n",
            "Epoch 7/10\n",
            "1448/1448 [==============================] - 28s 19ms/step - loss: 0.0970 - accuracy: 0.9679\n",
            "Epoch 8/10\n",
            "1448/1448 [==============================] - 29s 20ms/step - loss: 0.0962 - accuracy: 0.9677\n",
            "Epoch 9/10\n",
            "1448/1448 [==============================] - 29s 20ms/step - loss: 0.0953 - accuracy: 0.9679\n",
            "Epoch 10/10\n",
            "1448/1448 [==============================] - 27s 18ms/step - loss: 0.0944 - accuracy: 0.9680\n"
          ]
        }
      ],
      "source": [
        "history5 = model5.fit(train_embeddings, train_labels, epochs=10, batch_size=16)"
      ]
    },
    {
      "cell_type": "code",
      "execution_count": null,
      "metadata": {
        "id": "KcgeIpObtt9E",
        "colab": {
          "base_uri": "https://localhost:8080/"
        },
        "outputId": "6d66f74d-1944-4b9c-9511-c28e1c27179b"
      },
      "outputs": [
        {
          "output_type": "stream",
          "name": "stdout",
          "text": [
            "181/181 - 3s - loss: 0.1088 - accuracy: 0.9689 - 3s/epoch - 14ms/step\n",
            "181/181 [==============================] - 2s 9ms/step\n",
            "Test Accuracy: 0.9689173102378845\n",
            "Test F1 Score: 0.9744897959183674\n",
            "Test Recall: 0.9780938833570413\n",
            "Precision: 0.9709121717029088\n"
          ]
        }
      ],
      "source": [
        "test_loss, test_acc = model5.evaluate(test_embeddings, test_labels, verbose=2)\n",
        "\n",
        "y_pred = model5.predict(test_embeddings)\n",
        "y_pred = (y_pred > 0.5).astype('int32')\n",
        "\n",
        "f1 = f1_score(test_labels, y_pred)\n",
        "recall = recall_score(test_labels, y_pred)\n",
        "precision = precision_score(test_labels, y_pred)\n",
        "\n",
        "print(\"Test Accuracy:\", test_acc)\n",
        "print(\"Test F1 Score:\", f1)\n",
        "print(\"Test Recall:\", recall)\n",
        "print(\"Precision:\", precision)"
      ]
    },
    {
      "cell_type": "code",
      "execution_count": null,
      "metadata": {
        "id": "DN6O11jStt9E",
        "colab": {
          "base_uri": "https://localhost:8080/"
        },
        "outputId": "92a18584-7985-46ec-ece3-90b74ab2eea5"
      },
      "outputs": [
        {
          "output_type": "stream",
          "name": "stdout",
          "text": [
            "Model: \"sequential_18\"\n",
            "_________________________________________________________________\n",
            " Layer (type)                Output Shape              Param #   \n",
            "=================================================================\n",
            " conv1d_60 (Conv1D)          (None, 764, 128)          768       \n",
            "                                                                 \n",
            " max_pooling1d_60 (MaxPoolin  (None, 382, 128)         0         \n",
            " g1D)                                                            \n",
            "                                                                 \n",
            " conv1d_61 (Conv1D)          (None, 378, 128)          82048     \n",
            "                                                                 \n",
            " max_pooling1d_61 (MaxPoolin  (None, 189, 128)         0         \n",
            " g1D)                                                            \n",
            "                                                                 \n",
            " bidirectional (Bidirectiona  (None, 189, 128)         98816     \n",
            " l)                                                              \n",
            "                                                                 \n",
            " batch_normalization_6 (Batc  (None, 189, 128)         512       \n",
            " hNormalization)                                                 \n",
            "                                                                 \n",
            " dense_72 (Dense)            (None, 189, 128)          16512     \n",
            "                                                                 \n",
            " dense_73 (Dense)            (None, 189, 64)           8256      \n",
            "                                                                 \n",
            " dense_74 (Dense)            (None, 189, 32)           2080      \n",
            "                                                                 \n",
            " flatten_24 (Flatten)        (None, 6048)              0         \n",
            "                                                                 \n",
            " dense_75 (Dense)            (None, 1)                 6049      \n",
            "                                                                 \n",
            "=================================================================\n",
            "Total params: 215,041\n",
            "Trainable params: 214,785\n",
            "Non-trainable params: 256\n",
            "_________________________________________________________________\n"
          ]
        }
      ],
      "source": [
        "model5.summary()"
      ]
    },
    {
      "cell_type": "code",
      "execution_count": null,
      "metadata": {
        "id": "N5Myos6Vtt9F",
        "colab": {
          "base_uri": "https://localhost:8080/",
          "height": 1000
        },
        "outputId": "c1aad4e2-e26f-4de3-b6a9-add1b8f824d3"
      },
      "outputs": [
        {
          "output_type": "display_data",
          "data": {
            "text/plain": [
              "<Figure size 640x480 with 1 Axes>"
            ],
            "image/png": "[encoded data removed]"
          },
          "metadata": {}
        },
        {
          "output_type": "display_data",
          "data": {
            "text/plain": [
              "<Figure size 640x480 with 1 Axes>"
            ],
            "image/png": "[encoded data removed]"
          },
          "metadata": {}
        },
        {
          "output_type": "stream",
          "name": "stdout",
          "text": [
            "181/181 [==============================] - 2s 11ms/step\n"
          ]
        },
        {
          "output_type": "display_data",
          "data": {
            "text/plain": [
              "<Figure size 640x480 with 1 Axes>"
            ],
            "image/png": "[encoded data removed]"
          },
          "metadata": {}
        },
        {
          "output_type": "stream",
          "name": "stdout",
          "text": [
            "              precision    recall  f1-score   support\n",
            "\n",
            "           0       0.97      0.95      0.96      2276\n",
            "           1       0.97      0.98      0.97      3515\n",
            "\n",
            "    accuracy                           0.97      5791\n",
            "   macro avg       0.97      0.97      0.97      5791\n",
            "weighted avg       0.97      0.97      0.97      5791\n",
            "\n"
          ]
        }
      ],
      "source": [
        "plot_history(history5,model5)"
      ]
    },
    {
      "cell_type": "code",
      "source": [
        "def create_model():\n",
        "  model5 = Sequential()\n",
        "  model5.add(Conv1D(128, 5, activation='relu', input_shape=(768, 1)))\n",
        "  model5.add(MaxPooling1D(pool_size=2))\n",
        "  model5.add(Conv1D(128, 5, activation='relu'))\n",
        "  model5.add(MaxPooling1D(pool_size=2))\n",
        "  model5.add(Bidirectional(LSTM(64, return_sequences=True)))\n",
        "  model5.add(BatchNormalization())\n",
        "  model5.add(Dense(128, activation='relu',kernel_regularizer=regularizers.l2(0.01)))\n",
        "  model5.add(Dense(64, activation='relu',kernel_regularizer=regularizers.l2(0.01)))\n",
        "  model5.add(Dense(32, activation='relu',kernel_regularizer=regularizers.l2(0.01)))\n",
        "  model5.add(Flatten())\n",
        "  model5.add(Dense(1, activation='sigmoid'))\n",
        "  model5.compile(loss='binary_crossentropy', optimizer='adam', metrics=['accuracy'])\n",
        "  return model5\n",
        "\n",
        "model5 = KerasClassifier(model=create_model, epochs=10, batch_size=16)\n",
        "\n",
        "kfold = StratifiedKFold(n_splits=5, shuffle=True)\n",
        "\n",
        "scoring = {\n",
        "    'accuracy': 'accuracy',\n",
        "    'precision': 'precision',\n",
        "    'loss': 'neg_log_loss',\n",
        "    'recall': 'recall',\n",
        "    'f1': 'f1',\n",
        "}\n",
        "\n",
        "train_embeddings = np.array(train_embeddings)\n",
        "train_labels = np.array(train_labels)\n",
        "\n",
        "results = cross_validate(model5, train_embeddings, train_labels, cv=kfold, scoring=scoring)"
      ],
      "metadata": {
        "id": "VACqaGEZv52_",
        "colab": {
          "base_uri": "https://localhost:8080/"
        },
        "outputId": "34368c3f-571b-4d4a-f352-1499c99fbc9d"
      },
      "execution_count": null,
      "outputs": [
        {
          "output_type": "stream",
          "name": "stdout",
          "text": [
            "Epoch 1/10\n",
            "1158/1158 [==============================] - 25s 17ms/step - loss: 0.2841 - accuracy: 0.9642\n",
            "Epoch 2/10\n",
            "1158/1158 [==============================] - 21s 18ms/step - loss: 0.1014 - accuracy: 0.9668\n",
            "Epoch 3/10\n",
            "1158/1158 [==============================] - 20s 17ms/step - loss: 0.0983 - accuracy: 0.9684\n",
            "Epoch 4/10\n",
            "1158/1158 [==============================] - 21s 18ms/step - loss: 0.0974 - accuracy: 0.9671\n",
            "Epoch 5/10\n",
            "1158/1158 [==============================] - 23s 20ms/step - loss: 0.0948 - accuracy: 0.9677\n",
            "Epoch 6/10\n",
            "1158/1158 [==============================] - 21s 18ms/step - loss: 0.0947 - accuracy: 0.9684\n",
            "Epoch 7/10\n",
            "1158/1158 [==============================] - 23s 19ms/step - loss: 0.0934 - accuracy: 0.9684\n",
            "Epoch 8/10\n",
            "1158/1158 [==============================] - 22s 19ms/step - loss: 0.0928 - accuracy: 0.9680\n",
            "Epoch 9/10\n",
            "1158/1158 [==============================] - 22s 19ms/step - loss: 0.0923 - accuracy: 0.9683\n",
            "Epoch 10/10\n",
            "1158/1158 [==============================] - 23s 20ms/step - loss: 0.0915 - accuracy: 0.9689\n",
            "290/290 [==============================] - 3s 9ms/step\n",
            "290/290 [==============================] - 4s 13ms/step\n",
            "Epoch 1/10\n",
            "1158/1158 [==============================] - 28s 19ms/step - loss: 0.2853 - accuracy: 0.9646\n",
            "Epoch 2/10\n",
            "1158/1158 [==============================] - 23s 20ms/step - loss: 0.1033 - accuracy: 0.9671\n",
            "Epoch 3/10\n",
            "1158/1158 [==============================] - 21s 18ms/step - loss: 0.0992 - accuracy: 0.9679\n",
            "Epoch 4/10\n",
            "1158/1158 [==============================] - 22s 19ms/step - loss: 0.0986 - accuracy: 0.9672\n",
            "Epoch 5/10\n",
            "1158/1158 [==============================] - 21s 18ms/step - loss: 0.0965 - accuracy: 0.9678\n",
            "Epoch 6/10\n",
            "1158/1158 [==============================] - 22s 19ms/step - loss: 0.0961 - accuracy: 0.9685\n",
            "Epoch 7/10\n",
            "1158/1158 [==============================] - 22s 19ms/step - loss: 0.0954 - accuracy: 0.9687\n",
            "Epoch 8/10\n",
            "1158/1158 [==============================] - 20s 17ms/step - loss: 0.0945 - accuracy: 0.9684\n",
            "Epoch 9/10\n",
            "1158/1158 [==============================] - 20s 17ms/step - loss: 0.0937 - accuracy: 0.9685\n",
            "Epoch 10/10\n",
            "1158/1158 [==============================] - 20s 17ms/step - loss: 0.0939 - accuracy: 0.9684\n",
            "290/290 [==============================] - 4s 11ms/step\n",
            "290/290 [==============================] - 2s 8ms/step\n",
            "Epoch 1/10\n",
            "1158/1158 [==============================] - 25s 17ms/step - loss: 0.2998 - accuracy: 0.9639\n",
            "Epoch 2/10\n",
            "1158/1158 [==============================] - 19s 17ms/step - loss: 0.1070 - accuracy: 0.9659\n",
            "Epoch 3/10\n",
            "1158/1158 [==============================] - 19s 16ms/step - loss: 0.1040 - accuracy: 0.9655\n",
            "Epoch 4/10\n",
            "1158/1158 [==============================] - 19s 17ms/step - loss: 0.1018 - accuracy: 0.9663\n",
            "Epoch 5/10\n",
            "1158/1158 [==============================] - 20s 17ms/step - loss: 0.1005 - accuracy: 0.9662\n",
            "Epoch 6/10\n",
            "1158/1158 [==============================] - 19s 16ms/step - loss: 0.0996 - accuracy: 0.9671\n",
            "Epoch 7/10\n",
            "1158/1158 [==============================] - 19s 16ms/step - loss: 0.0994 - accuracy: 0.9668\n",
            "Epoch 8/10\n",
            "1158/1158 [==============================] - 20s 17ms/step - loss: 0.0980 - accuracy: 0.9665\n",
            "Epoch 9/10\n",
            "1158/1158 [==============================] - 19s 16ms/step - loss: 0.0980 - accuracy: 0.9663\n",
            "Epoch 10/10\n",
            "1158/1158 [==============================] - 19s 16ms/step - loss: 0.0968 - accuracy: 0.9672\n",
            "290/290 [==============================] - 3s 7ms/step\n",
            "290/290 [==============================] - 3s 10ms/step\n",
            "Epoch 1/10\n",
            "1158/1158 [==============================] - 26s 16ms/step - loss: 0.2881 - accuracy: 0.9665\n",
            "Epoch 2/10\n",
            "1158/1158 [==============================] - 20s 17ms/step - loss: 0.1028 - accuracy: 0.9675\n",
            "Epoch 3/10\n",
            "1158/1158 [==============================] - 19s 16ms/step - loss: 0.0993 - accuracy: 0.9670\n",
            "Epoch 4/10\n",
            "1158/1158 [==============================] - 19s 16ms/step - loss: 0.0976 - accuracy: 0.9681\n",
            "Epoch 5/10\n",
            "1158/1158 [==============================] - 20s 17ms/step - loss: 0.0954 - accuracy: 0.9679\n",
            "Epoch 6/10\n",
            "1158/1158 [==============================] - 20s 17ms/step - loss: 0.0949 - accuracy: 0.9684\n",
            "Epoch 7/10\n",
            "1158/1158 [==============================] - 19s 16ms/step - loss: 0.0945 - accuracy: 0.9679\n",
            "Epoch 8/10\n",
            "1158/1158 [==============================] - 19s 16ms/step - loss: 0.0936 - accuracy: 0.9690\n",
            "Epoch 9/10\n",
            "1158/1158 [==============================] - 21s 18ms/step - loss: 0.0931 - accuracy: 0.9685\n",
            "Epoch 10/10\n",
            "1158/1158 [==============================] - 19s 16ms/step - loss: 0.0921 - accuracy: 0.9697\n",
            "290/290 [==============================] - 4s 11ms/step\n",
            "290/290 [==============================] - 2s 8ms/step\n",
            "Epoch 1/10\n",
            "1158/1158 [==============================] - 25s 17ms/step - loss: 0.2858 - accuracy: 0.9621\n",
            "Epoch 2/10\n",
            "1158/1158 [==============================] - 19s 17ms/step - loss: 0.1083 - accuracy: 0.9645\n",
            "Epoch 3/10\n",
            "1158/1158 [==============================] - 19s 16ms/step - loss: 0.1054 - accuracy: 0.9647\n",
            "Epoch 4/10\n",
            "1158/1158 [==============================] - 19s 17ms/step - loss: 0.1034 - accuracy: 0.9652\n",
            "Epoch 5/10\n",
            "1158/1158 [==============================] - 20s 17ms/step - loss: 0.1025 - accuracy: 0.9656\n",
            "Epoch 6/10\n",
            "1158/1158 [==============================] - 19s 16ms/step - loss: 0.1009 - accuracy: 0.9655\n",
            "Epoch 7/10\n",
            "1158/1158 [==============================] - 19s 16ms/step - loss: 0.1001 - accuracy: 0.9650\n",
            "Epoch 8/10\n",
            "1158/1158 [==============================] - 20s 17ms/step - loss: 0.1001 - accuracy: 0.9662\n",
            "Epoch 9/10\n",
            "1158/1158 [==============================] - 19s 16ms/step - loss: 0.0992 - accuracy: 0.9665\n",
            "Epoch 10/10\n",
            "1158/1158 [==============================] - 19s 16ms/step - loss: 0.0988 - accuracy: 0.9656\n",
            "290/290 [==============================] - 3s 7ms/step\n",
            "290/290 [==============================] - 3s 10ms/step\n"
          ]
        }
      ]
    },
    {
      "cell_type": "code",
      "source": [
        "print(\"Cross-Validation Accuracy: %0.2f (+/- %0.2f)\" % (results['test_accuracy'].mean(), results['test_accuracy'].std() * 2))\n",
        "print(\"Cross-Validation Precision: %0.2f (+/- %0.2f)\" % (results['test_precision'].mean(), results['test_precision'].std() * 2))\n",
        "print(\"Cross-Validation Loss: %0.2f (+/- %0.2f)\" % (-results['test_loss'].mean(), results['test_loss'].std() * 2))\n",
        "print(\"Cross-Validation Recall: %0.2f (+/- %0.2f)\" % (results['test_recall'].mean(), results['test_recall'].std() * 2))\n",
        "print(\"Cross-Validation F1 Score: %0.2f (+/- %0.2f)\" % (results['test_f1'].mean(), results['test_f1'].std() * 2))"
      ],
      "metadata": {
        "id": "cpvvvncIv53H",
        "colab": {
          "base_uri": "https://localhost:8080/"
        },
        "outputId": "bb13f576-5e2e-4a7d-b12a-37828f6e3ae0"
      },
      "execution_count": null,
      "outputs": [
        {
          "output_type": "stream",
          "name": "stdout",
          "text": [
            "Cross-Validation Accuracy: 0.97 (+/- 0.01)\n",
            "Cross-Validation Precision: 0.97 (+/- 0.01)\n",
            "Cross-Validation Loss: 0.10 (+/- 0.02)\n",
            "Cross-Validation Recall: 0.98 (+/- 0.01)\n",
            "Cross-Validation F1 Score: 0.97 (+/- 0.01)\n"
          ]
        }
      ]
    },
    {
      "cell_type": "markdown",
      "metadata": {
        "id": "MEXM8Bs7v4aV"
      },
      "source": [
        "## **L2 CNN-DistilBERT**"
      ]
    },
    {
      "cell_type": "code",
      "execution_count": null,
      "metadata": {
        "id": "jbPhn-lpv4aW"
      },
      "outputs": [],
      "source": [
        "# build the model\n",
        "model6 = Sequential()\n",
        "model6.add(Conv1D(filters=128, kernel_size=5, activation='relu', input_shape=(768,1)))\n",
        "model6.add(MaxPooling1D(pool_size=5))\n",
        "model6.add(Conv1D(128, 5, activation='relu'))\n",
        "model6.add(MaxPooling1D(pool_size=5))\n",
        "model6.add(Conv1D(128, 5, activation='relu'))\n",
        "model6.add(MaxPooling1D(pool_size=5))\n",
        "model6.add(Flatten())\n",
        "model6.add(Dense(128, activation='relu',kernel_regularizer=regularizers.l2(0.01)))\n",
        "model6.add(Dropout(0.5))\n",
        "model6.add(Dense(64, activation='relu',kernel_regularizer=regularizers.l2(0.01)))\n",
        "model6.add(Dropout(0.5))\n",
        "model6.add(Dense(1, activation='sigmoid'))"
      ]
    },
    {
      "cell_type": "code",
      "execution_count": null,
      "metadata": {
        "id": "yJpBFcrUv4aW"
      },
      "outputs": [],
      "source": [
        "model6.compile(loss='binary_crossentropy', optimizer='adam', metrics=['accuracy'])"
      ]
    },
    {
      "cell_type": "code",
      "source": [
        "history6 = model6.fit(train_embeddings, train_labels, epochs=10, batch_size=16)"
      ],
      "metadata": {
        "id": "7jjuNxBqv4aX",
        "colab": {
          "base_uri": "https://localhost:8080/"
        },
        "outputId": "a5592d91-014e-499d-ae3a-e3a023e6e763"
      },
      "execution_count": null,
      "outputs": [
        {
          "output_type": "stream",
          "name": "stdout",
          "text": [
            "Epoch 1/10\n",
            "1448/1448 [==============================] - 11s 6ms/step - loss: 0.2629 - accuracy: 0.9585\n",
            "Epoch 2/10\n",
            "1448/1448 [==============================] - 9s 6ms/step - loss: 0.1202 - accuracy: 0.9653\n",
            "Epoch 3/10\n",
            "1448/1448 [==============================] - 8s 6ms/step - loss: 0.1207 - accuracy: 0.9658\n",
            "Epoch 4/10\n",
            "1448/1448 [==============================] - 9s 6ms/step - loss: 0.1142 - accuracy: 0.9668\n",
            "Epoch 5/10\n",
            "1448/1448 [==============================] - 9s 6ms/step - loss: 0.1153 - accuracy: 0.9667\n",
            "Epoch 6/10\n",
            "1448/1448 [==============================] - 8s 5ms/step - loss: 0.1144 - accuracy: 0.9673\n",
            "Epoch 7/10\n",
            "1448/1448 [==============================] - 9s 6ms/step - loss: 0.1119 - accuracy: 0.9671\n",
            "Epoch 8/10\n",
            "1448/1448 [==============================] - 8s 6ms/step - loss: 0.1121 - accuracy: 0.9661\n",
            "Epoch 9/10\n",
            "1448/1448 [==============================] - 9s 6ms/step - loss: 0.1105 - accuracy: 0.9684\n",
            "Epoch 10/10\n",
            "1448/1448 [==============================] - 9s 6ms/step - loss: 0.1098 - accuracy: 0.9665\n"
          ]
        }
      ]
    },
    {
      "cell_type": "code",
      "execution_count": null,
      "metadata": {
        "id": "T0Jt212Rv4aX",
        "colab": {
          "base_uri": "https://localhost:8080/"
        },
        "outputId": "eff538e6-ea76-4ff3-f329-90c7026bd8f1"
      },
      "outputs": [
        {
          "output_type": "stream",
          "name": "stdout",
          "text": [
            "181/181 [==============================] - 1s 5ms/step - loss: 0.1072 - accuracy: 0.9667\n",
            "181/181 [==============================] - 1s 2ms/step\n",
            "Test Accuracy: 0.966672420501709\n",
            "Test F1 Score: 0.9725813325756499\n",
            "Test Recall: 0.9738264580369843\n",
            "Precision: 0.9713393870601589\n"
          ]
        }
      ],
      "source": [
        "test_loss, test_acc = model6.evaluate(test_embeddings, test_labels)\n",
        "\n",
        "y_pred = model6.predict(test_embeddings)\n",
        "y_pred = (y_pred > 0.5).astype('int32')\n",
        "\n",
        "f1 = f1_score(test_labels, y_pred)\n",
        "recall = recall_score(test_labels, y_pred)\n",
        "precision = precision_score(test_labels, y_pred)\n",
        "\n",
        "#accuraccy\n",
        "print(\"Test Accuracy:\", test_acc)\n",
        "#f1-score\n",
        "print(\"Test F1 Score:\", f1)\n",
        "#recall\n",
        "print(\"Test Recall:\", recall)\n",
        "#precision\n",
        "print(\"Precision:\", precision)"
      ]
    },
    {
      "cell_type": "code",
      "execution_count": null,
      "metadata": {
        "id": "WuhXffJSv4aX",
        "colab": {
          "base_uri": "https://localhost:8080/"
        },
        "outputId": "06c9f447-9522-44ea-c619-6a74808546af"
      },
      "outputs": [
        {
          "output_type": "stream",
          "name": "stdout",
          "text": [
            "Model: \"sequential_24\"\n",
            "_________________________________________________________________\n",
            " Layer (type)                Output Shape              Param #   \n",
            "=================================================================\n",
            " conv1d_72 (Conv1D)          (None, 764, 128)          768       \n",
            "                                                                 \n",
            " max_pooling1d_72 (MaxPoolin  (None, 152, 128)         0         \n",
            " g1D)                                                            \n",
            "                                                                 \n",
            " conv1d_73 (Conv1D)          (None, 148, 128)          82048     \n",
            "                                                                 \n",
            " max_pooling1d_73 (MaxPoolin  (None, 29, 128)          0         \n",
            " g1D)                                                            \n",
            "                                                                 \n",
            " conv1d_74 (Conv1D)          (None, 25, 128)           82048     \n",
            "                                                                 \n",
            " max_pooling1d_74 (MaxPoolin  (None, 5, 128)           0         \n",
            " g1D)                                                            \n",
            "                                                                 \n",
            " flatten_30 (Flatten)        (None, 640)               0         \n",
            "                                                                 \n",
            " dense_96 (Dense)            (None, 128)               82048     \n",
            "                                                                 \n",
            " dropout_44 (Dropout)        (None, 128)               0         \n",
            "                                                                 \n",
            " dense_97 (Dense)            (None, 64)                8256      \n",
            "                                                                 \n",
            " dropout_45 (Dropout)        (None, 64)                0         \n",
            "                                                                 \n",
            " dense_98 (Dense)            (None, 1)                 65        \n",
            "                                                                 \n",
            "=================================================================\n",
            "Total params: 255,233\n",
            "Trainable params: 255,233\n",
            "Non-trainable params: 0\n",
            "_________________________________________________________________\n"
          ]
        }
      ],
      "source": [
        "#λεπτομέρειες για τη δομή του μοντέλου\n",
        "model6.summary()"
      ]
    },
    {
      "cell_type": "code",
      "source": [
        "y_pred = model6.predict(test_embeddings)\n",
        "y_pred = (y_pred > 0.5).astype(int)\n",
        "cm = confusion_matrix(test_labels, y_pred)\n",
        "print(cm)\n",
        "sns.heatmap(cm, annot=True, cmap='Blues', fmt='g')\n",
        "plt.xlabel('Predicted label')\n",
        "plt.ylabel('True label')\n",
        "plt.show()"
      ],
      "metadata": {
        "id": "p4qAb11Cv4aX",
        "colab": {
          "base_uri": "https://localhost:8080/",
          "height": 501
        },
        "outputId": "3657057e-a5a3-4df3-cfe1-f5385274e9f6"
      },
      "execution_count": null,
      "outputs": [
        {
          "output_type": "stream",
          "name": "stdout",
          "text": [
            "181/181 [==============================] - 0s 2ms/step\n",
            "[[2175  101]\n",
            " [  92 3423]]\n"
          ]
        },
        {
          "output_type": "display_data",
          "data": {
            "text/plain": [
              "<Figure size 640x480 with 2 Axes>"
            ],
            "image/png": "[encoded data removed]"
          },
          "metadata": {}
        }
      ]
    },
    {
      "cell_type": "code",
      "execution_count": null,
      "metadata": {
        "id": "jlvW0LUZv4aY",
        "colab": {
          "base_uri": "https://localhost:8080/",
          "height": 1000
        },
        "outputId": "5ebc35a9-219e-4b57-ae88-9aebdfac2bb0"
      },
      "outputs": [
        {
          "output_type": "display_data",
          "data": {
            "text/plain": [
              "<Figure size 640x480 with 1 Axes>"
            ],
            "image/png": "[encoded data removed]"
          },
          "metadata": {}
        },
        {
          "output_type": "display_data",
          "data": {
            "text/plain": [
              "<Figure size 640x480 with 1 Axes>"
            ],
            "image/png": "[encoded data removed]"
          },
          "metadata": {}
        },
        {
          "output_type": "stream",
          "name": "stdout",
          "text": [
            "181/181 [==============================] - 0s 2ms/step\n"
          ]
        },
        {
          "output_type": "display_data",
          "data": {
            "text/plain": [
              "<Figure size 640x480 with 1 Axes>"
            ],
            "image/png": "[encoded data removed]"
          },
          "metadata": {}
        },
        {
          "output_type": "stream",
          "name": "stdout",
          "text": [
            "              precision    recall  f1-score   support\n",
            "\n",
            "           0       0.96      0.96      0.96      2276\n",
            "           1       0.97      0.97      0.97      3515\n",
            "\n",
            "    accuracy                           0.97      5791\n",
            "   macro avg       0.97      0.96      0.97      5791\n",
            "weighted avg       0.97      0.97      0.97      5791\n",
            "\n"
          ]
        }
      ],
      "source": [
        "plot_history(history6,model6)"
      ]
    },
    {
      "cell_type": "code",
      "source": [
        "def create_model():\n",
        "  model6 = Sequential()\n",
        "  model6.add(Conv1D(filters=128, kernel_size=5, activation='relu', input_shape=(768,1)))\n",
        "  model6.add(MaxPooling1D(pool_size=5))\n",
        "  model6.add(Conv1D(128, 5, activation='relu'))\n",
        "  model6.add(MaxPooling1D(pool_size=5))\n",
        "  model6.add(Conv1D(128, 5, activation='relu'))\n",
        "  model6.add(MaxPooling1D(pool_size=5))\n",
        "  model6.add(Flatten())\n",
        "  model6.add(Dense(128, activation='relu',kernel_regularizer=regularizers.l2(0.01)))\n",
        "  model6.add(Dropout(0.5))\n",
        "  model6.add(Dense(64, activation='relu',kernel_regularizer=regularizers.l2(0.01)))\n",
        "  model6.add(Dropout(0.5))\n",
        "  model6.add(Dense(1, activation='sigmoid'))\n",
        "  model6.compile(loss='binary_crossentropy', optimizer='adam', metrics=['accuracy'])\n",
        "  return model6\n",
        "\n",
        "model6 = KerasClassifier(model=create_model, epochs=10, batch_size=16)\n",
        "\n",
        "kfold = StratifiedKFold(n_splits=5, shuffle=True)\n",
        "\n",
        "scoring = {\n",
        "    'accuracy': 'accuracy',\n",
        "    'precision': 'precision',\n",
        "    'loss': 'neg_log_loss',\n",
        "    'recall': 'recall',\n",
        "    'f1': 'f1',\n",
        "}\n",
        "\n",
        "train_embeddings = np.array(train_embeddings)\n",
        "train_labels = np.array(train_labels)\n",
        "\n",
        "results = cross_validate(model6, train_embeddings, train_labels, cv=kfold, scoring=scoring)"
      ],
      "metadata": {
        "id": "c9TtHja9wGW0",
        "colab": {
          "base_uri": "https://localhost:8080/"
        },
        "outputId": "6c1d3d25-073e-4025-ba44-f15d352bf347"
      },
      "execution_count": null,
      "outputs": [
        {
          "output_type": "stream",
          "name": "stdout",
          "text": [
            "Epoch 1/10\n",
            "1158/1158 [==============================] - 24s 6ms/step - loss: 0.2959 - accuracy: 0.9557\n",
            "Epoch 2/10\n",
            "1158/1158 [==============================] - 5s 4ms/step - loss: 0.1239 - accuracy: 0.9652\n",
            "Epoch 3/10\n",
            "1158/1158 [==============================] - 6s 5ms/step - loss: 0.1192 - accuracy: 0.9665\n",
            "Epoch 4/10\n",
            "1158/1158 [==============================] - 5s 5ms/step - loss: 0.1166 - accuracy: 0.9667\n",
            "Epoch 5/10\n",
            "1158/1158 [==============================] - 5s 5ms/step - loss: 0.1114 - accuracy: 0.9672\n",
            "Epoch 6/10\n",
            "1158/1158 [==============================] - 7s 6ms/step - loss: 0.1114 - accuracy: 0.9673\n",
            "Epoch 7/10\n",
            "1158/1158 [==============================] - 5s 5ms/step - loss: 0.1122 - accuracy: 0.9669\n",
            "Epoch 8/10\n",
            "1158/1158 [==============================] - 6s 5ms/step - loss: 0.1101 - accuracy: 0.9674\n",
            "Epoch 9/10\n",
            "1158/1158 [==============================] - 6s 5ms/step - loss: 0.1079 - accuracy: 0.9684\n",
            "Epoch 10/10\n",
            "1158/1158 [==============================] - 5s 5ms/step - loss: 0.1094 - accuracy: 0.9675\n",
            "290/290 [==============================] - 1s 2ms/step\n",
            "290/290 [==============================] - 1s 2ms/step\n",
            "Epoch 1/10\n",
            "1158/1158 [==============================] - 9s 6ms/step - loss: 0.2913 - accuracy: 0.9522\n",
            "Epoch 2/10\n",
            "1158/1158 [==============================] - 5s 5ms/step - loss: 0.1275 - accuracy: 0.9652\n",
            "Epoch 3/10\n",
            "1158/1158 [==============================] - 6s 5ms/step - loss: 0.1226 - accuracy: 0.9644\n",
            "Epoch 4/10\n",
            "1158/1158 [==============================] - 6s 5ms/step - loss: 0.1183 - accuracy: 0.9659\n",
            "Epoch 5/10\n",
            "1158/1158 [==============================] - 5s 5ms/step - loss: 0.1151 - accuracy: 0.9662\n",
            "Epoch 6/10\n",
            "1158/1158 [==============================] - 7s 6ms/step - loss: 0.1146 - accuracy: 0.9662\n",
            "Epoch 7/10\n",
            "1158/1158 [==============================] - 5s 4ms/step - loss: 0.1124 - accuracy: 0.9658\n",
            "Epoch 8/10\n",
            "1158/1158 [==============================] - 6s 5ms/step - loss: 0.1112 - accuracy: 0.9659\n",
            "Epoch 9/10\n",
            "1158/1158 [==============================] - 6s 5ms/step - loss: 0.1114 - accuracy: 0.9679\n",
            "Epoch 10/10\n",
            "1158/1158 [==============================] - 5s 4ms/step - loss: 0.1101 - accuracy: 0.9671\n",
            "290/290 [==============================] - 1s 2ms/step\n",
            "290/290 [==============================] - 1s 2ms/step\n",
            "Epoch 1/10\n",
            "1158/1158 [==============================] - 9s 5ms/step - loss: 0.2933 - accuracy: 0.9579\n",
            "Epoch 2/10\n",
            "1158/1158 [==============================] - 5s 5ms/step - loss: 0.1258 - accuracy: 0.9656\n",
            "Epoch 3/10\n",
            "1158/1158 [==============================] - 7s 6ms/step - loss: 0.1230 - accuracy: 0.9658\n",
            "Epoch 4/10\n",
            "1158/1158 [==============================] - 5s 4ms/step - loss: 0.1164 - accuracy: 0.9664\n",
            "Epoch 5/10\n",
            "1158/1158 [==============================] - 6s 5ms/step - loss: 0.1160 - accuracy: 0.9671\n",
            "Epoch 6/10\n",
            "1158/1158 [==============================] - 6s 5ms/step - loss: 0.1135 - accuracy: 0.9674\n",
            "Epoch 7/10\n",
            "1158/1158 [==============================] - 5s 4ms/step - loss: 0.1109 - accuracy: 0.9671\n",
            "Epoch 8/10\n",
            "1158/1158 [==============================] - 7s 6ms/step - loss: 0.1118 - accuracy: 0.9680\n",
            "Epoch 9/10\n",
            "1158/1158 [==============================] - 5s 5ms/step - loss: 0.1105 - accuracy: 0.9690\n",
            "Epoch 10/10\n",
            "1158/1158 [==============================] - 5s 5ms/step - loss: 0.1090 - accuracy: 0.9679\n",
            "290/290 [==============================] - 1s 2ms/step\n",
            "290/290 [==============================] - 1s 2ms/step\n",
            "Epoch 1/10\n",
            "1158/1158 [==============================] - 9s 5ms/step - loss: 0.2924 - accuracy: 0.9528\n",
            "Epoch 2/10\n",
            "1158/1158 [==============================] - 5s 5ms/step - loss: 0.1268 - accuracy: 0.9658\n",
            "Epoch 3/10\n",
            "1158/1158 [==============================] - 6s 6ms/step - loss: 0.1235 - accuracy: 0.9651\n",
            "Epoch 4/10\n",
            "1158/1158 [==============================] - 5s 5ms/step - loss: 0.1194 - accuracy: 0.9662\n",
            "Epoch 5/10\n",
            "1158/1158 [==============================] - 5s 5ms/step - loss: 0.1169 - accuracy: 0.9662\n",
            "Epoch 6/10\n",
            "1158/1158 [==============================] - 7s 6ms/step - loss: 0.1175 - accuracy: 0.9672\n",
            "Epoch 7/10\n",
            "1158/1158 [==============================] - 5s 5ms/step - loss: 0.1153 - accuracy: 0.9662\n",
            "Epoch 8/10\n",
            "1158/1158 [==============================] - 6s 5ms/step - loss: 0.1138 - accuracy: 0.9669\n",
            "Epoch 9/10\n",
            "1158/1158 [==============================] - 6s 5ms/step - loss: 0.1137 - accuracy: 0.9678\n",
            "Epoch 10/10\n",
            "1158/1158 [==============================] - 5s 5ms/step - loss: 0.1153 - accuracy: 0.9663\n",
            "290/290 [==============================] - 1s 2ms/step\n",
            "290/290 [==============================] - 1s 2ms/step\n",
            "Epoch 1/10\n",
            "1158/1158 [==============================] - 9s 6ms/step - loss: 0.2978 - accuracy: 0.9557\n",
            "Epoch 2/10\n",
            "1158/1158 [==============================] - 6s 5ms/step - loss: 0.1243 - accuracy: 0.9649\n",
            "Epoch 3/10\n",
            "1158/1158 [==============================] - 6s 5ms/step - loss: 0.1206 - accuracy: 0.9660\n",
            "Epoch 4/10\n",
            "1158/1158 [==============================] - 6s 5ms/step - loss: 0.1183 - accuracy: 0.9665\n",
            "Epoch 5/10\n",
            "1158/1158 [==============================] - 5s 5ms/step - loss: 0.1172 - accuracy: 0.9656\n",
            "Epoch 6/10\n",
            "1158/1158 [==============================] - 7s 6ms/step - loss: 0.1134 - accuracy: 0.9668\n",
            "Epoch 7/10\n",
            "1158/1158 [==============================] - 5s 5ms/step - loss: 0.1139 - accuracy: 0.9675\n",
            "Epoch 8/10\n",
            "1158/1158 [==============================] - 5s 5ms/step - loss: 0.1141 - accuracy: 0.9672\n",
            "Epoch 9/10\n",
            "1158/1158 [==============================] - 7s 6ms/step - loss: 0.1120 - accuracy: 0.9675\n",
            "Epoch 10/10\n",
            "1158/1158 [==============================] - 5s 5ms/step - loss: 0.1084 - accuracy: 0.9670\n",
            "290/290 [==============================] - 1s 2ms/step\n",
            "290/290 [==============================] - 1s 2ms/step\n"
          ]
        }
      ]
    },
    {
      "cell_type": "code",
      "source": [
        "print(\"Cross-Validation Accuracy: %0.2f (+/- %0.2f)\" % (results['test_accuracy'].mean(), results['test_accuracy'].std() * 2))\n",
        "print(\"Cross-Validation Precision: %0.2f (+/- %0.2f)\" % (results['test_precision'].mean(), results['test_precision'].std() * 2))\n",
        "print(\"Cross-Validation Loss: %0.2f (+/- %0.2f)\" % (-results['test_loss'].mean(), results['test_loss'].std() * 2))\n",
        "print(\"Cross-Validation Recall: %0.2f (+/- %0.2f)\" % (results['test_recall'].mean(), results['test_recall'].std() * 2))\n",
        "print(\"Cross-Validation F1 Score: %0.2f (+/- %0.2f)\" % (results['test_f1'].mean(), results['test_f1'].std() * 2))"
      ],
      "metadata": {
        "id": "-_afUKa_wGXA",
        "colab": {
          "base_uri": "https://localhost:8080/"
        },
        "outputId": "8225cea5-45fe-4ece-f317-caaa556a11ce"
      },
      "execution_count": null,
      "outputs": [
        {
          "output_type": "stream",
          "name": "stdout",
          "text": [
            "Cross-Validation Accuracy: 0.97 (+/- 0.00)\n",
            "Cross-Validation Precision: 0.96 (+/- 0.01)\n",
            "Cross-Validation Loss: 0.10 (+/- 0.02)\n",
            "Cross-Validation Recall: 0.98 (+/- 0.01)\n",
            "Cross-Validation F1 Score: 0.97 (+/- 0.00)\n"
          ]
        }
      ]
    }
  ]
}