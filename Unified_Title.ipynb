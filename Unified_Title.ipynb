{
  "nbformat": 4,
  "nbformat_minor": 0,
  "metadata": {
    "colab": {
      "provenance": [],
      "toc_visible": true,
      "collapsed_sections": [
        "AsjqHYKtmwIc",
        "fWzU7HCHnmTo",
        "INFxZBYdAJaP",
        "iujPxTJUo7qe",
        "96bVYwTZMOpo",
        "CyyOa2ZsMYvu"
      ],
      "gpuType": "T4"
    },
    "kernelspec": {
      "name": "python3",
      "display_name": "Python 3"
    },
    "language_info": {
      "name": "python"
    },
    "gpuClass": "standard",
    "accelerator": "GPU"
  },
  "cells": [
    {
      "cell_type": "markdown",
      "source": [
        "# Load datasets (ISOT - FakeNewsChallenge - LIAR - PHEME - FakeNewsNet)"
      ],
      "metadata": {
        "id": "3E0R8GT4irDd"
      }
    },
    {
      "cell_type": "code",
      "execution_count": null,
      "metadata": {
        "colab": {
          "base_uri": "https://localhost:8080/"
        },
        "id": "FkLu9oqLiS3H",
        "outputId": "cc3e0f50-07bf-49f4-dee4-f6a85aac037f"
      },
      "outputs": [
        {
          "output_type": "stream",
          "name": "stdout",
          "text": [
            "Looking in indexes: https://pypi.org/simple, https://us-python.pkg.dev/colab-wheels/public/simple/\n",
            "Collecting transformers\n",
            "  Downloading transformers-4.29.2-py3-none-any.whl (7.1 MB)\n",
            "\u001b[2K     \u001b[90m━━━━━━━━━━━━━━━━━━━━━━━━━━━━━━━━━━━━━━━━\u001b[0m \u001b[32m7.1/7.1 MB\u001b[0m \u001b[31m32.3 MB/s\u001b[0m eta \u001b[36m0:00:00\u001b[0m\n",
            "\u001b[?25hRequirement already satisfied: filelock in /usr/local/lib/python3.10/dist-packages (from transformers) (3.12.0)\n",
            "Collecting huggingface-hub<1.0,>=0.14.1 (from transformers)\n",
            "  Downloading huggingface_hub-0.14.1-py3-none-any.whl (224 kB)\n",
            "\u001b[2K     \u001b[90m━━━━━━━━━━━━━━━━━━━━━━━━━━━━━━━━━━━━━━\u001b[0m \u001b[32m224.5/224.5 kB\u001b[0m \u001b[31m24.0 MB/s\u001b[0m eta \u001b[36m0:00:00\u001b[0m\n",
            "\u001b[?25hRequirement already satisfied: numpy>=1.17 in /usr/local/lib/python3.10/dist-packages (from transformers) (1.22.4)\n",
            "Requirement already satisfied: packaging>=20.0 in /usr/local/lib/python3.10/dist-packages (from transformers) (23.1)\n",
            "Requirement already satisfied: pyyaml>=5.1 in /usr/local/lib/python3.10/dist-packages (from transformers) (6.0)\n",
            "Requirement already satisfied: regex!=2019.12.17 in /usr/local/lib/python3.10/dist-packages (from transformers) (2022.10.31)\n",
            "Requirement already satisfied: requests in /usr/local/lib/python3.10/dist-packages (from transformers) (2.27.1)\n",
            "Collecting tokenizers!=0.11.3,<0.14,>=0.11.1 (from transformers)\n",
            "  Downloading tokenizers-0.13.3-cp310-cp310-manylinux_2_17_x86_64.manylinux2014_x86_64.whl (7.8 MB)\n",
            "\u001b[2K     \u001b[90m━━━━━━━━━━━━━━━━━━━━━━━━━━━━━━━━━━━━━━━━\u001b[0m \u001b[32m7.8/7.8 MB\u001b[0m \u001b[31m81.7 MB/s\u001b[0m eta \u001b[36m0:00:00\u001b[0m\n",
            "\u001b[?25hRequirement already satisfied: tqdm>=4.27 in /usr/local/lib/python3.10/dist-packages (from transformers) (4.65.0)\n",
            "Requirement already satisfied: fsspec in /usr/local/lib/python3.10/dist-packages (from huggingface-hub<1.0,>=0.14.1->transformers) (2023.4.0)\n",
            "Requirement already satisfied: typing-extensions>=3.7.4.3 in /usr/local/lib/python3.10/dist-packages (from huggingface-hub<1.0,>=0.14.1->transformers) (4.5.0)\n",
            "Requirement already satisfied: urllib3<1.27,>=1.21.1 in /usr/local/lib/python3.10/dist-packages (from requests->transformers) (1.26.15)\n",
            "Requirement already satisfied: certifi>=2017.4.17 in /usr/local/lib/python3.10/dist-packages (from requests->transformers) (2022.12.7)\n",
            "Requirement already satisfied: charset-normalizer~=2.0.0 in /usr/local/lib/python3.10/dist-packages (from requests->transformers) (2.0.12)\n",
            "Requirement already satisfied: idna<4,>=2.5 in /usr/local/lib/python3.10/dist-packages (from requests->transformers) (3.4)\n",
            "Installing collected packages: tokenizers, huggingface-hub, transformers\n",
            "Successfully installed huggingface-hub-0.14.1 tokenizers-0.13.3 transformers-4.29.2\n",
            "Looking in indexes: https://pypi.org/simple, https://us-python.pkg.dev/colab-wheels/public/simple/\n",
            "Collecting sentencepiece\n",
            "  Downloading sentencepiece-0.1.99-cp310-cp310-manylinux_2_17_x86_64.manylinux2014_x86_64.whl (1.3 MB)\n",
            "\u001b[2K     \u001b[90m━━━━━━━━━━━━━━━━━━━━━━━━━━━━━━━━━━━━━━━━\u001b[0m \u001b[32m1.3/1.3 MB\u001b[0m \u001b[31m19.9 MB/s\u001b[0m eta \u001b[36m0:00:00\u001b[0m\n",
            "\u001b[?25hInstalling collected packages: sentencepiece\n",
            "Successfully installed sentencepiece-0.1.99\n"
          ]
        }
      ],
      "source": [
        "!pip install transformers\n",
        "!pip install sentencepiece"
      ]
    },
    {
      "cell_type": "code",
      "execution_count": null,
      "metadata": {
        "id": "6aE0WVHzizOv"
      },
      "outputs": [],
      "source": [
        "from google.colab import drive\n",
        "import tensorflow as tf\n",
        "import seaborn as sns\n",
        "from sklearn.metrics import accuracy_score, recall_score, f1_score\n",
        "from sklearn.metrics import precision_score\n",
        "import matplotlib.pyplot as plt\n",
        "from sklearn.metrics import confusion_matrix\n",
        "import pandas as pd\n",
        "import numpy as np\n",
        "from sklearn.preprocessing import LabelEncoder\n",
        "import transformers\n",
        "from transformers import DistilBertTokenizer, TFDistilBertModel, TFDistilBertForSequenceClassification, DistilBertTokenizerFast\n",
        "from transformers import MobileBertTokenizer, TFMobileBertModel\n",
        "from transformers import AutoTokenizer, TFAlbertModel\n",
        "from sklearn.model_selection import train_test_split\n",
        "from tensorflow.keras.models import Sequential, Model\n",
        "from tensorflow.keras.layers import Conv1D, Conv2D,MaxPooling1D, MaxPooling2D, Flatten, Dense, Dropout, LSTM, BatchNormalization, Input, Concatenate\n",
        "import torch\n",
        "import requests\n",
        "from tensorflow.keras import activations, optimizers, losses\n",
        "from tensorflow.keras.callbacks import EarlyStopping"
      ]
    },
    {
      "cell_type": "code",
      "source": [
        "from google.colab import drive\n",
        "drive.mount('/content/drive')"
      ],
      "metadata": {
        "colab": {
          "base_uri": "https://localhost:8080/"
        },
        "id": "_HqSgxTCl2ha",
        "outputId": "d8e1e54c-ce64-4432-a593-c4007b7d7244"
      },
      "execution_count": null,
      "outputs": [
        {
          "output_type": "stream",
          "name": "stdout",
          "text": [
            "Mounted at /content/drive\n"
          ]
        }
      ]
    },
    {
      "cell_type": "markdown",
      "source": [
        "## **ISOT Title Embeddings - Dataset**"
      ],
      "metadata": {
        "id": "AsjqHYKtmwIc"
      }
    },
    {
      "cell_type": "code",
      "source": [
        "embeddings_ISOT = np.load('/content/drive/MyDrive/NEWS_DATASET/embeddings_title_distilbert.npy')\n",
        "labels_ISOT = np.load('/content/drive/MyDrive/NEWS_DATASET/labels_title_distilbert.npy')"
      ],
      "metadata": {
        "id": "0T142QdGm0HN"
      },
      "execution_count": null,
      "outputs": []
    },
    {
      "cell_type": "code",
      "execution_count": null,
      "metadata": {
        "id": "sYtCFcErmVEy"
      },
      "outputs": [],
      "source": [
        "path = '/content/drive/MyDrive/NEWS_DATASET/final.csv'\n",
        "df_ISOT = pd.read_csv(path,delimiter=',')"
      ]
    },
    {
      "cell_type": "code",
      "execution_count": null,
      "metadata": {
        "colab": {
          "base_uri": "https://localhost:8080/"
        },
        "id": "8Xf-Bd89rH5K",
        "outputId": "3a7ee0f5-f0e9-442f-e079-eb93213dc0a3"
      },
      "outputs": [
        {
          "output_type": "execute_result",
          "data": {
            "text/plain": [
              "                                               title  \\\n",
              "0  China says Trump plan to move embassy in Israe...   \n",
              "1  India says ready for stronger U.S. ties after ...   \n",
              "2  A PRESIDENT WHO’S UNSERIOUS AND UNDIGNIFIED…DO...   \n",
              "3  #DNC GIVES ANTI-HILLARY Dems Free Speech Cage ...   \n",
              "4  Castro meets North Korea minister amid hope Cu...   \n",
              "\n",
              "                                                text label  \n",
              "0  BEIJING (Reuters) - China expressed concern on...  true  \n",
              "1  NEW DELHI (Reuters) - India stood ready to fur...  true  \n",
              "2  America deserves so much better and should get...  fake  \n",
              "3  It s just cleaner that way You know, keeping a...  fake  \n",
              "4  HAVANA (Reuters) - Cuban President Raul Castro...  true  "
            ],
            "text/html": [
              "\n",
              "  <div id=\"df-cd37cf81-3a63-46f6-8e5c-db7969388321\">\n",
              "    <div class=\"colab-df-container\">\n",
              "      <div>\n",
              "<style scoped>\n",
              "    .dataframe tbody tr th:only-of-type {\n",
              "        vertical-align: middle;\n",
              "    }\n",
              "\n",
              "    .dataframe tbody tr th {\n",
              "        vertical-align: top;\n",
              "    }\n",
              "\n",
              "    .dataframe thead th {\n",
              "        text-align: right;\n",
              "    }\n",
              "</style>\n",
              "<table border=\"1\" class=\"dataframe\">\n",
              "  <thead>\n",
              "    <tr style=\"text-align: right;\">\n",
              "      <th></th>\n",
              "      <th>title</th>\n",
              "      <th>text</th>\n",
              "      <th>label</th>\n",
              "    </tr>\n",
              "  </thead>\n",
              "  <tbody>\n",
              "    <tr>\n",
              "      <th>0</th>\n",
              "      <td>China says Trump plan to move embassy in Israe...</td>\n",
              "      <td>BEIJING (Reuters) - China expressed concern on...</td>\n",
              "      <td>true</td>\n",
              "    </tr>\n",
              "    <tr>\n",
              "      <th>1</th>\n",
              "      <td>India says ready for stronger U.S. ties after ...</td>\n",
              "      <td>NEW DELHI (Reuters) - India stood ready to fur...</td>\n",
              "      <td>true</td>\n",
              "    </tr>\n",
              "    <tr>\n",
              "      <th>2</th>\n",
              "      <td>A PRESIDENT WHO’S UNSERIOUS AND UNDIGNIFIED…DO...</td>\n",
              "      <td>America deserves so much better and should get...</td>\n",
              "      <td>fake</td>\n",
              "    </tr>\n",
              "    <tr>\n",
              "      <th>3</th>\n",
              "      <td>#DNC GIVES ANTI-HILLARY Dems Free Speech Cage ...</td>\n",
              "      <td>It s just cleaner that way You know, keeping a...</td>\n",
              "      <td>fake</td>\n",
              "    </tr>\n",
              "    <tr>\n",
              "      <th>4</th>\n",
              "      <td>Castro meets North Korea minister amid hope Cu...</td>\n",
              "      <td>HAVANA (Reuters) - Cuban President Raul Castro...</td>\n",
              "      <td>true</td>\n",
              "    </tr>\n",
              "  </tbody>\n",
              "</table>\n",
              "</div>\n",
              "      <button class=\"colab-df-convert\" onclick=\"convertToInteractive('df-cd37cf81-3a63-46f6-8e5c-db7969388321')\"\n",
              "              title=\"Convert this dataframe to an interactive table.\"\n",
              "              style=\"display:none;\">\n",
              "        \n",
              "  <svg xmlns=\"http://www.w3.org/2000/svg\" height=\"24px\"viewBox=\"0 0 24 24\"\n",
              "       width=\"24px\">\n",
              "    <path d=\"M0 0h24v24H0V0z\" fill=\"none\"/>\n",
              "    <path d=\"M18.56 5.44l.94 2.06.94-2.06 2.06-.94-2.06-.94-.94-2.06-.94 2.06-2.06.94zm-11 1L8.5 8.5l.94-2.06 2.06-.94-2.06-.94L8.5 2.5l-.94 2.06-2.06.94zm10 10l.94 2.06.94-2.06 2.06-.94-2.06-.94-.94-2.06-.94 2.06-2.06.94z\"/><path d=\"M17.41 7.96l-1.37-1.37c-.4-.4-.92-.59-1.43-.59-.52 0-1.04.2-1.43.59L10.3 9.45l-7.72 7.72c-.78.78-.78 2.05 0 2.83L4 21.41c.39.39.9.59 1.41.59.51 0 1.02-.2 1.41-.59l7.78-7.78 2.81-2.81c.8-.78.8-2.07 0-2.86zM5.41 20L4 18.59l7.72-7.72 1.47 1.35L5.41 20z\"/>\n",
              "  </svg>\n",
              "      </button>\n",
              "      \n",
              "  <style>\n",
              "    .colab-df-container {\n",
              "      display:flex;\n",
              "      flex-wrap:wrap;\n",
              "      gap: 12px;\n",
              "    }\n",
              "\n",
              "    .colab-df-convert {\n",
              "      background-color: #E8F0FE;\n",
              "      border: none;\n",
              "      border-radius: 50%;\n",
              "      cursor: pointer;\n",
              "      display: none;\n",
              "      fill: #1967D2;\n",
              "      height: 32px;\n",
              "      padding: 0 0 0 0;\n",
              "      width: 32px;\n",
              "    }\n",
              "\n",
              "    .colab-df-convert:hover {\n",
              "      background-color: #E2EBFA;\n",
              "      box-shadow: 0px 1px 2px rgba(60, 64, 67, 0.3), 0px 1px 3px 1px rgba(60, 64, 67, 0.15);\n",
              "      fill: #174EA6;\n",
              "    }\n",
              "\n",
              "    [theme=dark] .colab-df-convert {\n",
              "      background-color: #3B4455;\n",
              "      fill: #D2E3FC;\n",
              "    }\n",
              "\n",
              "    [theme=dark] .colab-df-convert:hover {\n",
              "      background-color: #434B5C;\n",
              "      box-shadow: 0px 1px 3px 1px rgba(0, 0, 0, 0.15);\n",
              "      filter: drop-shadow(0px 1px 2px rgba(0, 0, 0, 0.3));\n",
              "      fill: #FFFFFF;\n",
              "    }\n",
              "  </style>\n",
              "\n",
              "      <script>\n",
              "        const buttonEl =\n",
              "          document.querySelector('#df-cd37cf81-3a63-46f6-8e5c-db7969388321 button.colab-df-convert');\n",
              "        buttonEl.style.display =\n",
              "          google.colab.kernel.accessAllowed ? 'block' : 'none';\n",
              "\n",
              "        async function convertToInteractive(key) {\n",
              "          const element = document.querySelector('#df-cd37cf81-3a63-46f6-8e5c-db7969388321');\n",
              "          const dataTable =\n",
              "            await google.colab.kernel.invokeFunction('convertToInteractive',\n",
              "                                                     [key], {});\n",
              "          if (!dataTable) return;\n",
              "\n",
              "          const docLinkHtml = 'Like what you see? Visit the ' +\n",
              "            '<a target=\"_blank\" href=https://colab.research.google.com/notebooks/data_table.ipynb>data table notebook</a>'\n",
              "            + ' to learn more about interactive tables.';\n",
              "          element.innerHTML = '';\n",
              "          dataTable['output_type'] = 'display_data';\n",
              "          await google.colab.output.renderOutput(dataTable, element);\n",
              "          const docLink = document.createElement('div');\n",
              "          docLink.innerHTML = docLinkHtml;\n",
              "          element.appendChild(docLink);\n",
              "        }\n",
              "      </script>\n",
              "    </div>\n",
              "  </div>\n",
              "  "
            ]
          },
          "metadata": {},
          "execution_count": 84
        }
      ],
      "source": [
        "def strip(row):\n",
        "  return row['text'].strip('\"')\n",
        "\n",
        "df_ISOT['text'] = df_ISOT.apply(strip,axis=1)\n",
        "df_ISOT.head()"
      ]
    },
    {
      "cell_type": "code",
      "execution_count": null,
      "metadata": {
        "colab": {
          "base_uri": "https://localhost:8080/"
        },
        "id": "3muLE3mp4oO6",
        "outputId": "fb2101bb-0287-4595-80f6-7ac189a176aa"
      },
      "outputs": [
        {
          "output_type": "execute_result",
          "data": {
            "text/plain": [
              "                                               title  \\\n",
              "0  China says Trump plan to move embassy in Israe...   \n",
              "1  India says ready for stronger U.S. ties after ...   \n",
              "2  A PRESIDENT WHO’S UNSERIOUS AND UNDIGNIFIED…DO...   \n",
              "3  #DNC GIVES ANTI-HILLARY Dems Free Speech Cage ...   \n",
              "4  Castro meets North Korea minister amid hope Cu...   \n",
              "\n",
              "                                                text  label  \n",
              "0  BEIJING (Reuters) - China expressed concern on...      1  \n",
              "1  NEW DELHI (Reuters) - India stood ready to fur...      1  \n",
              "2  America deserves so much better and should get...      0  \n",
              "3  It s just cleaner that way You know, keeping a...      0  \n",
              "4  HAVANA (Reuters) - Cuban President Raul Castro...      1  "
            ],
            "text/html": [
              "\n",
              "  <div id=\"df-0e592a74-4048-4f42-9920-489af2a4a61d\">\n",
              "    <div class=\"colab-df-container\">\n",
              "      <div>\n",
              "<style scoped>\n",
              "    .dataframe tbody tr th:only-of-type {\n",
              "        vertical-align: middle;\n",
              "    }\n",
              "\n",
              "    .dataframe tbody tr th {\n",
              "        vertical-align: top;\n",
              "    }\n",
              "\n",
              "    .dataframe thead th {\n",
              "        text-align: right;\n",
              "    }\n",
              "</style>\n",
              "<table border=\"1\" class=\"dataframe\">\n",
              "  <thead>\n",
              "    <tr style=\"text-align: right;\">\n",
              "      <th></th>\n",
              "      <th>title</th>\n",
              "      <th>text</th>\n",
              "      <th>label</th>\n",
              "    </tr>\n",
              "  </thead>\n",
              "  <tbody>\n",
              "    <tr>\n",
              "      <th>0</th>\n",
              "      <td>China says Trump plan to move embassy in Israe...</td>\n",
              "      <td>BEIJING (Reuters) - China expressed concern on...</td>\n",
              "      <td>1</td>\n",
              "    </tr>\n",
              "    <tr>\n",
              "      <th>1</th>\n",
              "      <td>India says ready for stronger U.S. ties after ...</td>\n",
              "      <td>NEW DELHI (Reuters) - India stood ready to fur...</td>\n",
              "      <td>1</td>\n",
              "    </tr>\n",
              "    <tr>\n",
              "      <th>2</th>\n",
              "      <td>A PRESIDENT WHO’S UNSERIOUS AND UNDIGNIFIED…DO...</td>\n",
              "      <td>America deserves so much better and should get...</td>\n",
              "      <td>0</td>\n",
              "    </tr>\n",
              "    <tr>\n",
              "      <th>3</th>\n",
              "      <td>#DNC GIVES ANTI-HILLARY Dems Free Speech Cage ...</td>\n",
              "      <td>It s just cleaner that way You know, keeping a...</td>\n",
              "      <td>0</td>\n",
              "    </tr>\n",
              "    <tr>\n",
              "      <th>4</th>\n",
              "      <td>Castro meets North Korea minister amid hope Cu...</td>\n",
              "      <td>HAVANA (Reuters) - Cuban President Raul Castro...</td>\n",
              "      <td>1</td>\n",
              "    </tr>\n",
              "  </tbody>\n",
              "</table>\n",
              "</div>\n",
              "      <button class=\"colab-df-convert\" onclick=\"convertToInteractive('df-0e592a74-4048-4f42-9920-489af2a4a61d')\"\n",
              "              title=\"Convert this dataframe to an interactive table.\"\n",
              "              style=\"display:none;\">\n",
              "        \n",
              "  <svg xmlns=\"http://www.w3.org/2000/svg\" height=\"24px\"viewBox=\"0 0 24 24\"\n",
              "       width=\"24px\">\n",
              "    <path d=\"M0 0h24v24H0V0z\" fill=\"none\"/>\n",
              "    <path d=\"M18.56 5.44l.94 2.06.94-2.06 2.06-.94-2.06-.94-.94-2.06-.94 2.06-2.06.94zm-11 1L8.5 8.5l.94-2.06 2.06-.94-2.06-.94L8.5 2.5l-.94 2.06-2.06.94zm10 10l.94 2.06.94-2.06 2.06-.94-2.06-.94-.94-2.06-.94 2.06-2.06.94z\"/><path d=\"M17.41 7.96l-1.37-1.37c-.4-.4-.92-.59-1.43-.59-.52 0-1.04.2-1.43.59L10.3 9.45l-7.72 7.72c-.78.78-.78 2.05 0 2.83L4 21.41c.39.39.9.59 1.41.59.51 0 1.02-.2 1.41-.59l7.78-7.78 2.81-2.81c.8-.78.8-2.07 0-2.86zM5.41 20L4 18.59l7.72-7.72 1.47 1.35L5.41 20z\"/>\n",
              "  </svg>\n",
              "      </button>\n",
              "      \n",
              "  <style>\n",
              "    .colab-df-container {\n",
              "      display:flex;\n",
              "      flex-wrap:wrap;\n",
              "      gap: 12px;\n",
              "    }\n",
              "\n",
              "    .colab-df-convert {\n",
              "      background-color: #E8F0FE;\n",
              "      border: none;\n",
              "      border-radius: 50%;\n",
              "      cursor: pointer;\n",
              "      display: none;\n",
              "      fill: #1967D2;\n",
              "      height: 32px;\n",
              "      padding: 0 0 0 0;\n",
              "      width: 32px;\n",
              "    }\n",
              "\n",
              "    .colab-df-convert:hover {\n",
              "      background-color: #E2EBFA;\n",
              "      box-shadow: 0px 1px 2px rgba(60, 64, 67, 0.3), 0px 1px 3px 1px rgba(60, 64, 67, 0.15);\n",
              "      fill: #174EA6;\n",
              "    }\n",
              "\n",
              "    [theme=dark] .colab-df-convert {\n",
              "      background-color: #3B4455;\n",
              "      fill: #D2E3FC;\n",
              "    }\n",
              "\n",
              "    [theme=dark] .colab-df-convert:hover {\n",
              "      background-color: #434B5C;\n",
              "      box-shadow: 0px 1px 3px 1px rgba(0, 0, 0, 0.15);\n",
              "      filter: drop-shadow(0px 1px 2px rgba(0, 0, 0, 0.3));\n",
              "      fill: #FFFFFF;\n",
              "    }\n",
              "  </style>\n",
              "\n",
              "      <script>\n",
              "        const buttonEl =\n",
              "          document.querySelector('#df-0e592a74-4048-4f42-9920-489af2a4a61d button.colab-df-convert');\n",
              "        buttonEl.style.display =\n",
              "          google.colab.kernel.accessAllowed ? 'block' : 'none';\n",
              "\n",
              "        async function convertToInteractive(key) {\n",
              "          const element = document.querySelector('#df-0e592a74-4048-4f42-9920-489af2a4a61d');\n",
              "          const dataTable =\n",
              "            await google.colab.kernel.invokeFunction('convertToInteractive',\n",
              "                                                     [key], {});\n",
              "          if (!dataTable) return;\n",
              "\n",
              "          const docLinkHtml = 'Like what you see? Visit the ' +\n",
              "            '<a target=\"_blank\" href=https://colab.research.google.com/notebooks/data_table.ipynb>data table notebook</a>'\n",
              "            + ' to learn more about interactive tables.';\n",
              "          element.innerHTML = '';\n",
              "          dataTable['output_type'] = 'display_data';\n",
              "          await google.colab.output.renderOutput(dataTable, element);\n",
              "          const docLink = document.createElement('div');\n",
              "          docLink.innerHTML = docLinkHtml;\n",
              "          element.appendChild(docLink);\n",
              "        }\n",
              "      </script>\n",
              "    </div>\n",
              "  </div>\n",
              "  "
            ]
          },
          "metadata": {},
          "execution_count": 85
        }
      ],
      "source": [
        "label_encoder = LabelEncoder()\n",
        "label = df_ISOT['label']\n",
        "labels_encoded = label_encoder.fit_transform(label)\n",
        "df_ISOT['label'] = labels_encoded\n",
        "df_ISOT.head()"
      ]
    },
    {
      "cell_type": "markdown",
      "source": [
        "## **PHEME Title Embeddings - Dataset**"
      ],
      "metadata": {
        "id": "fWzU7HCHnmTo"
      }
    },
    {
      "cell_type": "code",
      "source": [
        "embeddings_PHEME = np.load('/content/drive/MyDrive/PHEME/embeddings_bin.npy')\n",
        "labels_PHEME = np.load('/content/drive/MyDrive/PHEME/labels_bin.npy')"
      ],
      "metadata": {
        "id": "ZbvYWhrdnsVk"
      },
      "execution_count": null,
      "outputs": []
    },
    {
      "cell_type": "code",
      "source": [
        "path = '/content/drive/MyDrive/PHEME/data.csv'\n",
        "df_PHEME = pd.read_csv(path,delimiter=',')"
      ],
      "metadata": {
        "id": "n3d_vbmCsoIE"
      },
      "execution_count": null,
      "outputs": []
    },
    {
      "cell_type": "code",
      "source": [
        "df_PHEME = df_PHEME[df_PHEME['target'] != 'unverified']"
      ],
      "metadata": {
        "id": "tBtlBNE-sbWi"
      },
      "execution_count": null,
      "outputs": []
    },
    {
      "cell_type": "code",
      "source": [
        "df_PHEME.head()"
      ],
      "metadata": {
        "colab": {
          "base_uri": "https://localhost:8080/"
        },
        "outputId": "ae0b9442-281e-41bc-bac1-71fca76d1182",
        "id": "bU_ShUm2soIE"
      },
      "execution_count": null,
      "outputs": [
        {
          "output_type": "execute_result",
          "data": {
            "text/plain": [
              "                                                text target\n",
              "0  What we know so far about the major operation ...   true\n",
              "3  BREAKING: Police official confirms that 12 hav...   true\n",
              "4  #BREAKING : Both hostages in #Dammartin and #P...   true\n",
              "5  Update - French interior ministry says inciden...  false\n",
              "7  This widely shared cartoon about the #CharlieH...  false"
            ],
            "text/html": [
              "\n",
              "  <div id=\"df-ba72525f-db07-4bd1-af2b-897a944572e8\">\n",
              "    <div class=\"colab-df-container\">\n",
              "      <div>\n",
              "<style scoped>\n",
              "    .dataframe tbody tr th:only-of-type {\n",
              "        vertical-align: middle;\n",
              "    }\n",
              "\n",
              "    .dataframe tbody tr th {\n",
              "        vertical-align: top;\n",
              "    }\n",
              "\n",
              "    .dataframe thead th {\n",
              "        text-align: right;\n",
              "    }\n",
              "</style>\n",
              "<table border=\"1\" class=\"dataframe\">\n",
              "  <thead>\n",
              "    <tr style=\"text-align: right;\">\n",
              "      <th></th>\n",
              "      <th>text</th>\n",
              "      <th>target</th>\n",
              "    </tr>\n",
              "  </thead>\n",
              "  <tbody>\n",
              "    <tr>\n",
              "      <th>0</th>\n",
              "      <td>What we know so far about the major operation ...</td>\n",
              "      <td>true</td>\n",
              "    </tr>\n",
              "    <tr>\n",
              "      <th>3</th>\n",
              "      <td>BREAKING: Police official confirms that 12 hav...</td>\n",
              "      <td>true</td>\n",
              "    </tr>\n",
              "    <tr>\n",
              "      <th>4</th>\n",
              "      <td>#BREAKING : Both hostages in #Dammartin and #P...</td>\n",
              "      <td>true</td>\n",
              "    </tr>\n",
              "    <tr>\n",
              "      <th>5</th>\n",
              "      <td>Update - French interior ministry says inciden...</td>\n",
              "      <td>false</td>\n",
              "    </tr>\n",
              "    <tr>\n",
              "      <th>7</th>\n",
              "      <td>This widely shared cartoon about the #CharlieH...</td>\n",
              "      <td>false</td>\n",
              "    </tr>\n",
              "  </tbody>\n",
              "</table>\n",
              "</div>\n",
              "      <button class=\"colab-df-convert\" onclick=\"convertToInteractive('df-ba72525f-db07-4bd1-af2b-897a944572e8')\"\n",
              "              title=\"Convert this dataframe to an interactive table.\"\n",
              "              style=\"display:none;\">\n",
              "        \n",
              "  <svg xmlns=\"http://www.w3.org/2000/svg\" height=\"24px\"viewBox=\"0 0 24 24\"\n",
              "       width=\"24px\">\n",
              "    <path d=\"M0 0h24v24H0V0z\" fill=\"none\"/>\n",
              "    <path d=\"M18.56 5.44l.94 2.06.94-2.06 2.06-.94-2.06-.94-.94-2.06-.94 2.06-2.06.94zm-11 1L8.5 8.5l.94-2.06 2.06-.94-2.06-.94L8.5 2.5l-.94 2.06-2.06.94zm10 10l.94 2.06.94-2.06 2.06-.94-2.06-.94-.94-2.06-.94 2.06-2.06.94z\"/><path d=\"M17.41 7.96l-1.37-1.37c-.4-.4-.92-.59-1.43-.59-.52 0-1.04.2-1.43.59L10.3 9.45l-7.72 7.72c-.78.78-.78 2.05 0 2.83L4 21.41c.39.39.9.59 1.41.59.51 0 1.02-.2 1.41-.59l7.78-7.78 2.81-2.81c.8-.78.8-2.07 0-2.86zM5.41 20L4 18.59l7.72-7.72 1.47 1.35L5.41 20z\"/>\n",
              "  </svg>\n",
              "      </button>\n",
              "      \n",
              "  <style>\n",
              "    .colab-df-container {\n",
              "      display:flex;\n",
              "      flex-wrap:wrap;\n",
              "      gap: 12px;\n",
              "    }\n",
              "\n",
              "    .colab-df-convert {\n",
              "      background-color: #E8F0FE;\n",
              "      border: none;\n",
              "      border-radius: 50%;\n",
              "      cursor: pointer;\n",
              "      display: none;\n",
              "      fill: #1967D2;\n",
              "      height: 32px;\n",
              "      padding: 0 0 0 0;\n",
              "      width: 32px;\n",
              "    }\n",
              "\n",
              "    .colab-df-convert:hover {\n",
              "      background-color: #E2EBFA;\n",
              "      box-shadow: 0px 1px 2px rgba(60, 64, 67, 0.3), 0px 1px 3px 1px rgba(60, 64, 67, 0.15);\n",
              "      fill: #174EA6;\n",
              "    }\n",
              "\n",
              "    [theme=dark] .colab-df-convert {\n",
              "      background-color: #3B4455;\n",
              "      fill: #D2E3FC;\n",
              "    }\n",
              "\n",
              "    [theme=dark] .colab-df-convert:hover {\n",
              "      background-color: #434B5C;\n",
              "      box-shadow: 0px 1px 3px 1px rgba(0, 0, 0, 0.15);\n",
              "      filter: drop-shadow(0px 1px 2px rgba(0, 0, 0, 0.3));\n",
              "      fill: #FFFFFF;\n",
              "    }\n",
              "  </style>\n",
              "\n",
              "      <script>\n",
              "        const buttonEl =\n",
              "          document.querySelector('#df-ba72525f-db07-4bd1-af2b-897a944572e8 button.colab-df-convert');\n",
              "        buttonEl.style.display =\n",
              "          google.colab.kernel.accessAllowed ? 'block' : 'none';\n",
              "\n",
              "        async function convertToInteractive(key) {\n",
              "          const element = document.querySelector('#df-ba72525f-db07-4bd1-af2b-897a944572e8');\n",
              "          const dataTable =\n",
              "            await google.colab.kernel.invokeFunction('convertToInteractive',\n",
              "                                                     [key], {});\n",
              "          if (!dataTable) return;\n",
              "\n",
              "          const docLinkHtml = 'Like what you see? Visit the ' +\n",
              "            '<a target=\"_blank\" href=https://colab.research.google.com/notebooks/data_table.ipynb>data table notebook</a>'\n",
              "            + ' to learn more about interactive tables.';\n",
              "          element.innerHTML = '';\n",
              "          dataTable['output_type'] = 'display_data';\n",
              "          await google.colab.output.renderOutput(dataTable, element);\n",
              "          const docLink = document.createElement('div');\n",
              "          docLink.innerHTML = docLinkHtml;\n",
              "          element.appendChild(docLink);\n",
              "        }\n",
              "      </script>\n",
              "    </div>\n",
              "  </div>\n",
              "  "
            ]
          },
          "metadata": {},
          "execution_count": 89
        }
      ]
    },
    {
      "cell_type": "code",
      "source": [
        "label_encoder = LabelEncoder()\n",
        "label = df_PHEME['target']\n",
        "labels_encoded = label_encoder.fit_transform(label)\n",
        "df_PHEME['target'] = labels_encoded\n",
        "df_PHEME.head()"
      ],
      "metadata": {
        "colab": {
          "base_uri": "https://localhost:8080/"
        },
        "outputId": "6615a7f4-f66c-437c-8b41-6f1bf95989c9",
        "id": "eN5f3iTBsoIE"
      },
      "execution_count": null,
      "outputs": [
        {
          "output_type": "execute_result",
          "data": {
            "text/plain": [
              "                                                text  target\n",
              "0  What we know so far about the major operation ...       1\n",
              "3  BREAKING: Police official confirms that 12 hav...       1\n",
              "4  #BREAKING : Both hostages in #Dammartin and #P...       1\n",
              "5  Update - French interior ministry says inciden...       0\n",
              "7  This widely shared cartoon about the #CharlieH...       0"
            ],
            "text/html": [
              "\n",
              "  <div id=\"df-575cb5c7-356c-4d0c-9337-f8395fe87849\">\n",
              "    <div class=\"colab-df-container\">\n",
              "      <div>\n",
              "<style scoped>\n",
              "    .dataframe tbody tr th:only-of-type {\n",
              "        vertical-align: middle;\n",
              "    }\n",
              "\n",
              "    .dataframe tbody tr th {\n",
              "        vertical-align: top;\n",
              "    }\n",
              "\n",
              "    .dataframe thead th {\n",
              "        text-align: right;\n",
              "    }\n",
              "</style>\n",
              "<table border=\"1\" class=\"dataframe\">\n",
              "  <thead>\n",
              "    <tr style=\"text-align: right;\">\n",
              "      <th></th>\n",
              "      <th>text</th>\n",
              "      <th>target</th>\n",
              "    </tr>\n",
              "  </thead>\n",
              "  <tbody>\n",
              "    <tr>\n",
              "      <th>0</th>\n",
              "      <td>What we know so far about the major operation ...</td>\n",
              "      <td>1</td>\n",
              "    </tr>\n",
              "    <tr>\n",
              "      <th>3</th>\n",
              "      <td>BREAKING: Police official confirms that 12 hav...</td>\n",
              "      <td>1</td>\n",
              "    </tr>\n",
              "    <tr>\n",
              "      <th>4</th>\n",
              "      <td>#BREAKING : Both hostages in #Dammartin and #P...</td>\n",
              "      <td>1</td>\n",
              "    </tr>\n",
              "    <tr>\n",
              "      <th>5</th>\n",
              "      <td>Update - French interior ministry says inciden...</td>\n",
              "      <td>0</td>\n",
              "    </tr>\n",
              "    <tr>\n",
              "      <th>7</th>\n",
              "      <td>This widely shared cartoon about the #CharlieH...</td>\n",
              "      <td>0</td>\n",
              "    </tr>\n",
              "  </tbody>\n",
              "</table>\n",
              "</div>\n",
              "      <button class=\"colab-df-convert\" onclick=\"convertToInteractive('df-575cb5c7-356c-4d0c-9337-f8395fe87849')\"\n",
              "              title=\"Convert this dataframe to an interactive table.\"\n",
              "              style=\"display:none;\">\n",
              "        \n",
              "  <svg xmlns=\"http://www.w3.org/2000/svg\" height=\"24px\"viewBox=\"0 0 24 24\"\n",
              "       width=\"24px\">\n",
              "    <path d=\"M0 0h24v24H0V0z\" fill=\"none\"/>\n",
              "    <path d=\"M18.56 5.44l.94 2.06.94-2.06 2.06-.94-2.06-.94-.94-2.06-.94 2.06-2.06.94zm-11 1L8.5 8.5l.94-2.06 2.06-.94-2.06-.94L8.5 2.5l-.94 2.06-2.06.94zm10 10l.94 2.06.94-2.06 2.06-.94-2.06-.94-.94-2.06-.94 2.06-2.06.94z\"/><path d=\"M17.41 7.96l-1.37-1.37c-.4-.4-.92-.59-1.43-.59-.52 0-1.04.2-1.43.59L10.3 9.45l-7.72 7.72c-.78.78-.78 2.05 0 2.83L4 21.41c.39.39.9.59 1.41.59.51 0 1.02-.2 1.41-.59l7.78-7.78 2.81-2.81c.8-.78.8-2.07 0-2.86zM5.41 20L4 18.59l7.72-7.72 1.47 1.35L5.41 20z\"/>\n",
              "  </svg>\n",
              "      </button>\n",
              "      \n",
              "  <style>\n",
              "    .colab-df-container {\n",
              "      display:flex;\n",
              "      flex-wrap:wrap;\n",
              "      gap: 12px;\n",
              "    }\n",
              "\n",
              "    .colab-df-convert {\n",
              "      background-color: #E8F0FE;\n",
              "      border: none;\n",
              "      border-radius: 50%;\n",
              "      cursor: pointer;\n",
              "      display: none;\n",
              "      fill: #1967D2;\n",
              "      height: 32px;\n",
              "      padding: 0 0 0 0;\n",
              "      width: 32px;\n",
              "    }\n",
              "\n",
              "    .colab-df-convert:hover {\n",
              "      background-color: #E2EBFA;\n",
              "      box-shadow: 0px 1px 2px rgba(60, 64, 67, 0.3), 0px 1px 3px 1px rgba(60, 64, 67, 0.15);\n",
              "      fill: #174EA6;\n",
              "    }\n",
              "\n",
              "    [theme=dark] .colab-df-convert {\n",
              "      background-color: #3B4455;\n",
              "      fill: #D2E3FC;\n",
              "    }\n",
              "\n",
              "    [theme=dark] .colab-df-convert:hover {\n",
              "      background-color: #434B5C;\n",
              "      box-shadow: 0px 1px 3px 1px rgba(0, 0, 0, 0.15);\n",
              "      filter: drop-shadow(0px 1px 2px rgba(0, 0, 0, 0.3));\n",
              "      fill: #FFFFFF;\n",
              "    }\n",
              "  </style>\n",
              "\n",
              "      <script>\n",
              "        const buttonEl =\n",
              "          document.querySelector('#df-575cb5c7-356c-4d0c-9337-f8395fe87849 button.colab-df-convert');\n",
              "        buttonEl.style.display =\n",
              "          google.colab.kernel.accessAllowed ? 'block' : 'none';\n",
              "\n",
              "        async function convertToInteractive(key) {\n",
              "          const element = document.querySelector('#df-575cb5c7-356c-4d0c-9337-f8395fe87849');\n",
              "          const dataTable =\n",
              "            await google.colab.kernel.invokeFunction('convertToInteractive',\n",
              "                                                     [key], {});\n",
              "          if (!dataTable) return;\n",
              "\n",
              "          const docLinkHtml = 'Like what you see? Visit the ' +\n",
              "            '<a target=\"_blank\" href=https://colab.research.google.com/notebooks/data_table.ipynb>data table notebook</a>'\n",
              "            + ' to learn more about interactive tables.';\n",
              "          element.innerHTML = '';\n",
              "          dataTable['output_type'] = 'display_data';\n",
              "          await google.colab.output.renderOutput(dataTable, element);\n",
              "          const docLink = document.createElement('div');\n",
              "          docLink.innerHTML = docLinkHtml;\n",
              "          element.appendChild(docLink);\n",
              "        }\n",
              "      </script>\n",
              "    </div>\n",
              "  </div>\n",
              "  "
            ]
          },
          "metadata": {},
          "execution_count": 90
        }
      ]
    },
    {
      "cell_type": "markdown",
      "source": [
        "## **FakeNewsNet Title Embeddings - Dataset**"
      ],
      "metadata": {
        "id": "INFxZBYdAJaP"
      }
    },
    {
      "cell_type": "code",
      "source": [
        "embeddings_FakeNewsNet = np.load('/content/drive/MyDrive/FakeNewsNet/embeddings_title_distilbert.npy')\n",
        "labels_FakeNewsNet = np.load('/content/drive/MyDrive/FakeNewsNet/labels_title_distilbert.npy')"
      ],
      "metadata": {
        "id": "vla-4QHt9EJi"
      },
      "execution_count": null,
      "outputs": []
    },
    {
      "cell_type": "code",
      "execution_count": null,
      "metadata": {
        "id": "NjWl8KWm9ZUh"
      },
      "outputs": [],
      "source": [
        "path = '/content/drive/MyDrive/FakeNewsNet/final.csv'\n",
        "df_fakenewsnet = pd.read_csv(path,delimiter=',')"
      ]
    },
    {
      "cell_type": "code",
      "source": [
        "df_fakenewsnet.head()"
      ],
      "metadata": {
        "colab": {
          "base_uri": "https://localhost:8080/"
        },
        "id": "ZuIihN5bNoZT",
        "outputId": "0ca351db-94ef-4f0e-f1cd-f56774ab2e0a"
      },
      "execution_count": null,
      "outputs": [
        {
          "output_type": "execute_result",
          "data": {
            "text/plain": [
              "                                               title label\n",
              "0  Jax Taylor recalls his 'near-death' experience...  true\n",
              "1                               Bobbi Kristina Brown  true\n",
              "2  'Shahs of Sunset' Star Mercedes 'MJ' Javid Is ...  true\n",
              "3  Kourtney Kardashian Needs Scott Disick to Be '...  true\n",
              "4  Celine Dion Sings Rihanna Song When Asked Abou...  true"
            ],
            "text/html": [
              "\n",
              "  <div id=\"df-45bbe920-1c67-4f55-a54b-eb0bdc0f7e88\">\n",
              "    <div class=\"colab-df-container\">\n",
              "      <div>\n",
              "<style scoped>\n",
              "    .dataframe tbody tr th:only-of-type {\n",
              "        vertical-align: middle;\n",
              "    }\n",
              "\n",
              "    .dataframe tbody tr th {\n",
              "        vertical-align: top;\n",
              "    }\n",
              "\n",
              "    .dataframe thead th {\n",
              "        text-align: right;\n",
              "    }\n",
              "</style>\n",
              "<table border=\"1\" class=\"dataframe\">\n",
              "  <thead>\n",
              "    <tr style=\"text-align: right;\">\n",
              "      <th></th>\n",
              "      <th>title</th>\n",
              "      <th>label</th>\n",
              "    </tr>\n",
              "  </thead>\n",
              "  <tbody>\n",
              "    <tr>\n",
              "      <th>0</th>\n",
              "      <td>Jax Taylor recalls his 'near-death' experience...</td>\n",
              "      <td>true</td>\n",
              "    </tr>\n",
              "    <tr>\n",
              "      <th>1</th>\n",
              "      <td>Bobbi Kristina Brown</td>\n",
              "      <td>true</td>\n",
              "    </tr>\n",
              "    <tr>\n",
              "      <th>2</th>\n",
              "      <td>'Shahs of Sunset' Star Mercedes 'MJ' Javid Is ...</td>\n",
              "      <td>true</td>\n",
              "    </tr>\n",
              "    <tr>\n",
              "      <th>3</th>\n",
              "      <td>Kourtney Kardashian Needs Scott Disick to Be '...</td>\n",
              "      <td>true</td>\n",
              "    </tr>\n",
              "    <tr>\n",
              "      <th>4</th>\n",
              "      <td>Celine Dion Sings Rihanna Song When Asked Abou...</td>\n",
              "      <td>true</td>\n",
              "    </tr>\n",
              "  </tbody>\n",
              "</table>\n",
              "</div>\n",
              "      <button class=\"colab-df-convert\" onclick=\"convertToInteractive('df-45bbe920-1c67-4f55-a54b-eb0bdc0f7e88')\"\n",
              "              title=\"Convert this dataframe to an interactive table.\"\n",
              "              style=\"display:none;\">\n",
              "        \n",
              "  <svg xmlns=\"http://www.w3.org/2000/svg\" height=\"24px\"viewBox=\"0 0 24 24\"\n",
              "       width=\"24px\">\n",
              "    <path d=\"M0 0h24v24H0V0z\" fill=\"none\"/>\n",
              "    <path d=\"M18.56 5.44l.94 2.06.94-2.06 2.06-.94-2.06-.94-.94-2.06-.94 2.06-2.06.94zm-11 1L8.5 8.5l.94-2.06 2.06-.94-2.06-.94L8.5 2.5l-.94 2.06-2.06.94zm10 10l.94 2.06.94-2.06 2.06-.94-2.06-.94-.94-2.06-.94 2.06-2.06.94z\"/><path d=\"M17.41 7.96l-1.37-1.37c-.4-.4-.92-.59-1.43-.59-.52 0-1.04.2-1.43.59L10.3 9.45l-7.72 7.72c-.78.78-.78 2.05 0 2.83L4 21.41c.39.39.9.59 1.41.59.51 0 1.02-.2 1.41-.59l7.78-7.78 2.81-2.81c.8-.78.8-2.07 0-2.86zM5.41 20L4 18.59l7.72-7.72 1.47 1.35L5.41 20z\"/>\n",
              "  </svg>\n",
              "      </button>\n",
              "      \n",
              "  <style>\n",
              "    .colab-df-container {\n",
              "      display:flex;\n",
              "      flex-wrap:wrap;\n",
              "      gap: 12px;\n",
              "    }\n",
              "\n",
              "    .colab-df-convert {\n",
              "      background-color: #E8F0FE;\n",
              "      border: none;\n",
              "      border-radius: 50%;\n",
              "      cursor: pointer;\n",
              "      display: none;\n",
              "      fill: #1967D2;\n",
              "      height: 32px;\n",
              "      padding: 0 0 0 0;\n",
              "      width: 32px;\n",
              "    }\n",
              "\n",
              "    .colab-df-convert:hover {\n",
              "      background-color: #E2EBFA;\n",
              "      box-shadow: 0px 1px 2px rgba(60, 64, 67, 0.3), 0px 1px 3px 1px rgba(60, 64, 67, 0.15);\n",
              "      fill: #174EA6;\n",
              "    }\n",
              "\n",
              "    [theme=dark] .colab-df-convert {\n",
              "      background-color: #3B4455;\n",
              "      fill: #D2E3FC;\n",
              "    }\n",
              "\n",
              "    [theme=dark] .colab-df-convert:hover {\n",
              "      background-color: #434B5C;\n",
              "      box-shadow: 0px 1px 3px 1px rgba(0, 0, 0, 0.15);\n",
              "      filter: drop-shadow(0px 1px 2px rgba(0, 0, 0, 0.3));\n",
              "      fill: #FFFFFF;\n",
              "    }\n",
              "  </style>\n",
              "\n",
              "      <script>\n",
              "        const buttonEl =\n",
              "          document.querySelector('#df-45bbe920-1c67-4f55-a54b-eb0bdc0f7e88 button.colab-df-convert');\n",
              "        buttonEl.style.display =\n",
              "          google.colab.kernel.accessAllowed ? 'block' : 'none';\n",
              "\n",
              "        async function convertToInteractive(key) {\n",
              "          const element = document.querySelector('#df-45bbe920-1c67-4f55-a54b-eb0bdc0f7e88');\n",
              "          const dataTable =\n",
              "            await google.colab.kernel.invokeFunction('convertToInteractive',\n",
              "                                                     [key], {});\n",
              "          if (!dataTable) return;\n",
              "\n",
              "          const docLinkHtml = 'Like what you see? Visit the ' +\n",
              "            '<a target=\"_blank\" href=https://colab.research.google.com/notebooks/data_table.ipynb>data table notebook</a>'\n",
              "            + ' to learn more about interactive tables.';\n",
              "          element.innerHTML = '';\n",
              "          dataTable['output_type'] = 'display_data';\n",
              "          await google.colab.output.renderOutput(dataTable, element);\n",
              "          const docLink = document.createElement('div');\n",
              "          docLink.innerHTML = docLinkHtml;\n",
              "          element.appendChild(docLink);\n",
              "        }\n",
              "      </script>\n",
              "    </div>\n",
              "  </div>\n",
              "  "
            ]
          },
          "metadata": {},
          "execution_count": 93
        }
      ]
    },
    {
      "cell_type": "code",
      "execution_count": null,
      "metadata": {
        "colab": {
          "base_uri": "https://localhost:8080/"
        },
        "outputId": "fc1740b8-d0c6-46c0-dc83-3e183911e2e0",
        "id": "-jBtVW7k9ZUi"
      },
      "outputs": [
        {
          "output_type": "execute_result",
          "data": {
            "text/plain": [
              "                                               title  label\n",
              "0  Jax Taylor recalls his 'near-death' experience...      1\n",
              "1                               Bobbi Kristina Brown      1\n",
              "2  'Shahs of Sunset' Star Mercedes 'MJ' Javid Is ...      1\n",
              "3  Kourtney Kardashian Needs Scott Disick to Be '...      1\n",
              "4  Celine Dion Sings Rihanna Song When Asked Abou...      1"
            ],
            "text/html": [
              "\n",
              "  <div id=\"df-93a11afa-89ee-4763-b233-029c688185ca\">\n",
              "    <div class=\"colab-df-container\">\n",
              "      <div>\n",
              "<style scoped>\n",
              "    .dataframe tbody tr th:only-of-type {\n",
              "        vertical-align: middle;\n",
              "    }\n",
              "\n",
              "    .dataframe tbody tr th {\n",
              "        vertical-align: top;\n",
              "    }\n",
              "\n",
              "    .dataframe thead th {\n",
              "        text-align: right;\n",
              "    }\n",
              "</style>\n",
              "<table border=\"1\" class=\"dataframe\">\n",
              "  <thead>\n",
              "    <tr style=\"text-align: right;\">\n",
              "      <th></th>\n",
              "      <th>title</th>\n",
              "      <th>label</th>\n",
              "    </tr>\n",
              "  </thead>\n",
              "  <tbody>\n",
              "    <tr>\n",
              "      <th>0</th>\n",
              "      <td>Jax Taylor recalls his 'near-death' experience...</td>\n",
              "      <td>1</td>\n",
              "    </tr>\n",
              "    <tr>\n",
              "      <th>1</th>\n",
              "      <td>Bobbi Kristina Brown</td>\n",
              "      <td>1</td>\n",
              "    </tr>\n",
              "    <tr>\n",
              "      <th>2</th>\n",
              "      <td>'Shahs of Sunset' Star Mercedes 'MJ' Javid Is ...</td>\n",
              "      <td>1</td>\n",
              "    </tr>\n",
              "    <tr>\n",
              "      <th>3</th>\n",
              "      <td>Kourtney Kardashian Needs Scott Disick to Be '...</td>\n",
              "      <td>1</td>\n",
              "    </tr>\n",
              "    <tr>\n",
              "      <th>4</th>\n",
              "      <td>Celine Dion Sings Rihanna Song When Asked Abou...</td>\n",
              "      <td>1</td>\n",
              "    </tr>\n",
              "  </tbody>\n",
              "</table>\n",
              "</div>\n",
              "      <button class=\"colab-df-convert\" onclick=\"convertToInteractive('df-93a11afa-89ee-4763-b233-029c688185ca')\"\n",
              "              title=\"Convert this dataframe to an interactive table.\"\n",
              "              style=\"display:none;\">\n",
              "        \n",
              "  <svg xmlns=\"http://www.w3.org/2000/svg\" height=\"24px\"viewBox=\"0 0 24 24\"\n",
              "       width=\"24px\">\n",
              "    <path d=\"M0 0h24v24H0V0z\" fill=\"none\"/>\n",
              "    <path d=\"M18.56 5.44l.94 2.06.94-2.06 2.06-.94-2.06-.94-.94-2.06-.94 2.06-2.06.94zm-11 1L8.5 8.5l.94-2.06 2.06-.94-2.06-.94L8.5 2.5l-.94 2.06-2.06.94zm10 10l.94 2.06.94-2.06 2.06-.94-2.06-.94-.94-2.06-.94 2.06-2.06.94z\"/><path d=\"M17.41 7.96l-1.37-1.37c-.4-.4-.92-.59-1.43-.59-.52 0-1.04.2-1.43.59L10.3 9.45l-7.72 7.72c-.78.78-.78 2.05 0 2.83L4 21.41c.39.39.9.59 1.41.59.51 0 1.02-.2 1.41-.59l7.78-7.78 2.81-2.81c.8-.78.8-2.07 0-2.86zM5.41 20L4 18.59l7.72-7.72 1.47 1.35L5.41 20z\"/>\n",
              "  </svg>\n",
              "      </button>\n",
              "      \n",
              "  <style>\n",
              "    .colab-df-container {\n",
              "      display:flex;\n",
              "      flex-wrap:wrap;\n",
              "      gap: 12px;\n",
              "    }\n",
              "\n",
              "    .colab-df-convert {\n",
              "      background-color: #E8F0FE;\n",
              "      border: none;\n",
              "      border-radius: 50%;\n",
              "      cursor: pointer;\n",
              "      display: none;\n",
              "      fill: #1967D2;\n",
              "      height: 32px;\n",
              "      padding: 0 0 0 0;\n",
              "      width: 32px;\n",
              "    }\n",
              "\n",
              "    .colab-df-convert:hover {\n",
              "      background-color: #E2EBFA;\n",
              "      box-shadow: 0px 1px 2px rgba(60, 64, 67, 0.3), 0px 1px 3px 1px rgba(60, 64, 67, 0.15);\n",
              "      fill: #174EA6;\n",
              "    }\n",
              "\n",
              "    [theme=dark] .colab-df-convert {\n",
              "      background-color: #3B4455;\n",
              "      fill: #D2E3FC;\n",
              "    }\n",
              "\n",
              "    [theme=dark] .colab-df-convert:hover {\n",
              "      background-color: #434B5C;\n",
              "      box-shadow: 0px 1px 3px 1px rgba(0, 0, 0, 0.15);\n",
              "      filter: drop-shadow(0px 1px 2px rgba(0, 0, 0, 0.3));\n",
              "      fill: #FFFFFF;\n",
              "    }\n",
              "  </style>\n",
              "\n",
              "      <script>\n",
              "        const buttonEl =\n",
              "          document.querySelector('#df-93a11afa-89ee-4763-b233-029c688185ca button.colab-df-convert');\n",
              "        buttonEl.style.display =\n",
              "          google.colab.kernel.accessAllowed ? 'block' : 'none';\n",
              "\n",
              "        async function convertToInteractive(key) {\n",
              "          const element = document.querySelector('#df-93a11afa-89ee-4763-b233-029c688185ca');\n",
              "          const dataTable =\n",
              "            await google.colab.kernel.invokeFunction('convertToInteractive',\n",
              "                                                     [key], {});\n",
              "          if (!dataTable) return;\n",
              "\n",
              "          const docLinkHtml = 'Like what you see? Visit the ' +\n",
              "            '<a target=\"_blank\" href=https://colab.research.google.com/notebooks/data_table.ipynb>data table notebook</a>'\n",
              "            + ' to learn more about interactive tables.';\n",
              "          element.innerHTML = '';\n",
              "          dataTable['output_type'] = 'display_data';\n",
              "          await google.colab.output.renderOutput(dataTable, element);\n",
              "          const docLink = document.createElement('div');\n",
              "          docLink.innerHTML = docLinkHtml;\n",
              "          element.appendChild(docLink);\n",
              "        }\n",
              "      </script>\n",
              "    </div>\n",
              "  </div>\n",
              "  "
            ]
          },
          "metadata": {},
          "execution_count": 94
        }
      ],
      "source": [
        "label_encoder = LabelEncoder()\n",
        "label = df_fakenewsnet['label']\n",
        "labels_encoded = label_encoder.fit_transform(label)\n",
        "df_fakenewsnet['label'] = labels_encoded\n",
        "df_fakenewsnet.head()"
      ]
    },
    {
      "cell_type": "markdown",
      "source": [
        "## **LIAR Title Embeddings - Dataset**"
      ],
      "metadata": {
        "id": "iujPxTJUo7qe"
      }
    },
    {
      "cell_type": "code",
      "source": [
        "def map_label(label):\n",
        "    if label == 'true':\n",
        "        return 1\n",
        "    else:\n",
        "        return 0"
      ],
      "metadata": {
        "id": "t-0TAXnRme7h"
      },
      "execution_count": null,
      "outputs": []
    },
    {
      "cell_type": "markdown",
      "source": [
        "### Train data"
      ],
      "metadata": {
        "id": "bE8wXNXlmR8t"
      }
    },
    {
      "cell_type": "code",
      "execution_count": null,
      "metadata": {
        "id": "RI1bJIa3mR8u"
      },
      "outputs": [],
      "source": [
        "path = '/content/drive/MyDrive/LIAR_DATASET/Train.csv'\n",
        "df_train_LIAR = pd.read_csv(path,delimiter=',')"
      ]
    },
    {
      "cell_type": "code",
      "source": [
        "df_train_LIAR.head()"
      ],
      "metadata": {
        "id": "wYwSmog8mR8u",
        "colab": {
          "base_uri": "https://localhost:8080/"
        },
        "outputId": "b84eef0b-3499-4c87-990d-b0460c46041e"
      },
      "execution_count": null,
      "outputs": [
        {
          "output_type": "execute_result",
          "data": {
            "text/plain": [
              "         Label                                          Statement\n",
              "0        false  Says the Annies List political group supports ...\n",
              "1    half-true  When did the decline of coal start? It started...\n",
              "2  mostly-true  Hillary Clinton agrees with John McCain \"by vo...\n",
              "3        false  Health care reform legislation is likely to ma...\n",
              "4    half-true  The economic turnaround started at the end of ..."
            ],
            "text/html": [
              "\n",
              "  <div id=\"df-dd6d4d7b-5cb9-4005-ab1e-ad22b12744fb\">\n",
              "    <div class=\"colab-df-container\">\n",
              "      <div>\n",
              "<style scoped>\n",
              "    .dataframe tbody tr th:only-of-type {\n",
              "        vertical-align: middle;\n",
              "    }\n",
              "\n",
              "    .dataframe tbody tr th {\n",
              "        vertical-align: top;\n",
              "    }\n",
              "\n",
              "    .dataframe thead th {\n",
              "        text-align: right;\n",
              "    }\n",
              "</style>\n",
              "<table border=\"1\" class=\"dataframe\">\n",
              "  <thead>\n",
              "    <tr style=\"text-align: right;\">\n",
              "      <th></th>\n",
              "      <th>Label</th>\n",
              "      <th>Statement</th>\n",
              "    </tr>\n",
              "  </thead>\n",
              "  <tbody>\n",
              "    <tr>\n",
              "      <th>0</th>\n",
              "      <td>false</td>\n",
              "      <td>Says the Annies List political group supports ...</td>\n",
              "    </tr>\n",
              "    <tr>\n",
              "      <th>1</th>\n",
              "      <td>half-true</td>\n",
              "      <td>When did the decline of coal start? It started...</td>\n",
              "    </tr>\n",
              "    <tr>\n",
              "      <th>2</th>\n",
              "      <td>mostly-true</td>\n",
              "      <td>Hillary Clinton agrees with John McCain \"by vo...</td>\n",
              "    </tr>\n",
              "    <tr>\n",
              "      <th>3</th>\n",
              "      <td>false</td>\n",
              "      <td>Health care reform legislation is likely to ma...</td>\n",
              "    </tr>\n",
              "    <tr>\n",
              "      <th>4</th>\n",
              "      <td>half-true</td>\n",
              "      <td>The economic turnaround started at the end of ...</td>\n",
              "    </tr>\n",
              "  </tbody>\n",
              "</table>\n",
              "</div>\n",
              "      <button class=\"colab-df-convert\" onclick=\"convertToInteractive('df-dd6d4d7b-5cb9-4005-ab1e-ad22b12744fb')\"\n",
              "              title=\"Convert this dataframe to an interactive table.\"\n",
              "              style=\"display:none;\">\n",
              "        \n",
              "  <svg xmlns=\"http://www.w3.org/2000/svg\" height=\"24px\"viewBox=\"0 0 24 24\"\n",
              "       width=\"24px\">\n",
              "    <path d=\"M0 0h24v24H0V0z\" fill=\"none\"/>\n",
              "    <path d=\"M18.56 5.44l.94 2.06.94-2.06 2.06-.94-2.06-.94-.94-2.06-.94 2.06-2.06.94zm-11 1L8.5 8.5l.94-2.06 2.06-.94-2.06-.94L8.5 2.5l-.94 2.06-2.06.94zm10 10l.94 2.06.94-2.06 2.06-.94-2.06-.94-.94-2.06-.94 2.06-2.06.94z\"/><path d=\"M17.41 7.96l-1.37-1.37c-.4-.4-.92-.59-1.43-.59-.52 0-1.04.2-1.43.59L10.3 9.45l-7.72 7.72c-.78.78-.78 2.05 0 2.83L4 21.41c.39.39.9.59 1.41.59.51 0 1.02-.2 1.41-.59l7.78-7.78 2.81-2.81c.8-.78.8-2.07 0-2.86zM5.41 20L4 18.59l7.72-7.72 1.47 1.35L5.41 20z\"/>\n",
              "  </svg>\n",
              "      </button>\n",
              "      \n",
              "  <style>\n",
              "    .colab-df-container {\n",
              "      display:flex;\n",
              "      flex-wrap:wrap;\n",
              "      gap: 12px;\n",
              "    }\n",
              "\n",
              "    .colab-df-convert {\n",
              "      background-color: #E8F0FE;\n",
              "      border: none;\n",
              "      border-radius: 50%;\n",
              "      cursor: pointer;\n",
              "      display: none;\n",
              "      fill: #1967D2;\n",
              "      height: 32px;\n",
              "      padding: 0 0 0 0;\n",
              "      width: 32px;\n",
              "    }\n",
              "\n",
              "    .colab-df-convert:hover {\n",
              "      background-color: #E2EBFA;\n",
              "      box-shadow: 0px 1px 2px rgba(60, 64, 67, 0.3), 0px 1px 3px 1px rgba(60, 64, 67, 0.15);\n",
              "      fill: #174EA6;\n",
              "    }\n",
              "\n",
              "    [theme=dark] .colab-df-convert {\n",
              "      background-color: #3B4455;\n",
              "      fill: #D2E3FC;\n",
              "    }\n",
              "\n",
              "    [theme=dark] .colab-df-convert:hover {\n",
              "      background-color: #434B5C;\n",
              "      box-shadow: 0px 1px 3px 1px rgba(0, 0, 0, 0.15);\n",
              "      filter: drop-shadow(0px 1px 2px rgba(0, 0, 0, 0.3));\n",
              "      fill: #FFFFFF;\n",
              "    }\n",
              "  </style>\n",
              "\n",
              "      <script>\n",
              "        const buttonEl =\n",
              "          document.querySelector('#df-dd6d4d7b-5cb9-4005-ab1e-ad22b12744fb button.colab-df-convert');\n",
              "        buttonEl.style.display =\n",
              "          google.colab.kernel.accessAllowed ? 'block' : 'none';\n",
              "\n",
              "        async function convertToInteractive(key) {\n",
              "          const element = document.querySelector('#df-dd6d4d7b-5cb9-4005-ab1e-ad22b12744fb');\n",
              "          const dataTable =\n",
              "            await google.colab.kernel.invokeFunction('convertToInteractive',\n",
              "                                                     [key], {});\n",
              "          if (!dataTable) return;\n",
              "\n",
              "          const docLinkHtml = 'Like what you see? Visit the ' +\n",
              "            '<a target=\"_blank\" href=https://colab.research.google.com/notebooks/data_table.ipynb>data table notebook</a>'\n",
              "            + ' to learn more about interactive tables.';\n",
              "          element.innerHTML = '';\n",
              "          dataTable['output_type'] = 'display_data';\n",
              "          await google.colab.output.renderOutput(dataTable, element);\n",
              "          const docLink = document.createElement('div');\n",
              "          docLink.innerHTML = docLinkHtml;\n",
              "          element.appendChild(docLink);\n",
              "        }\n",
              "      </script>\n",
              "    </div>\n",
              "  </div>\n",
              "  "
            ]
          },
          "metadata": {},
          "execution_count": 97
        }
      ]
    },
    {
      "cell_type": "code",
      "source": [
        "df_train_LIAR['category'] = df_train_LIAR['Label'].apply(map_label)\n",
        "df_train_LIAR['category'].unique()"
      ],
      "metadata": {
        "id": "-PwJaOPpmR8v",
        "colab": {
          "base_uri": "https://localhost:8080/"
        },
        "outputId": "402c6bb9-0bb0-4419-d933-c6fe60b8da2e"
      },
      "execution_count": null,
      "outputs": [
        {
          "output_type": "execute_result",
          "data": {
            "text/plain": [
              "array([0, 1])"
            ]
          },
          "metadata": {},
          "execution_count": 98
        }
      ]
    },
    {
      "cell_type": "code",
      "source": [
        "df_train_LIAR.head()"
      ],
      "metadata": {
        "colab": {
          "base_uri": "https://localhost:8080/"
        },
        "outputId": "d9720826-5fa0-44cc-b99f-6c3ce15f6a2d",
        "id": "SAVUXmChmR8v"
      },
      "execution_count": null,
      "outputs": [
        {
          "output_type": "execute_result",
          "data": {
            "text/plain": [
              "         Label                                          Statement  category\n",
              "0        false  Says the Annies List political group supports ...         0\n",
              "1    half-true  When did the decline of coal start? It started...         0\n",
              "2  mostly-true  Hillary Clinton agrees with John McCain \"by vo...         0\n",
              "3        false  Health care reform legislation is likely to ma...         0\n",
              "4    half-true  The economic turnaround started at the end of ...         0"
            ],
            "text/html": [
              "\n",
              "  <div id=\"df-601e71c2-ce5b-4123-82e1-e0c5e5fa0b24\">\n",
              "    <div class=\"colab-df-container\">\n",
              "      <div>\n",
              "<style scoped>\n",
              "    .dataframe tbody tr th:only-of-type {\n",
              "        vertical-align: middle;\n",
              "    }\n",
              "\n",
              "    .dataframe tbody tr th {\n",
              "        vertical-align: top;\n",
              "    }\n",
              "\n",
              "    .dataframe thead th {\n",
              "        text-align: right;\n",
              "    }\n",
              "</style>\n",
              "<table border=\"1\" class=\"dataframe\">\n",
              "  <thead>\n",
              "    <tr style=\"text-align: right;\">\n",
              "      <th></th>\n",
              "      <th>Label</th>\n",
              "      <th>Statement</th>\n",
              "      <th>category</th>\n",
              "    </tr>\n",
              "  </thead>\n",
              "  <tbody>\n",
              "    <tr>\n",
              "      <th>0</th>\n",
              "      <td>false</td>\n",
              "      <td>Says the Annies List political group supports ...</td>\n",
              "      <td>0</td>\n",
              "    </tr>\n",
              "    <tr>\n",
              "      <th>1</th>\n",
              "      <td>half-true</td>\n",
              "      <td>When did the decline of coal start? It started...</td>\n",
              "      <td>0</td>\n",
              "    </tr>\n",
              "    <tr>\n",
              "      <th>2</th>\n",
              "      <td>mostly-true</td>\n",
              "      <td>Hillary Clinton agrees with John McCain \"by vo...</td>\n",
              "      <td>0</td>\n",
              "    </tr>\n",
              "    <tr>\n",
              "      <th>3</th>\n",
              "      <td>false</td>\n",
              "      <td>Health care reform legislation is likely to ma...</td>\n",
              "      <td>0</td>\n",
              "    </tr>\n",
              "    <tr>\n",
              "      <th>4</th>\n",
              "      <td>half-true</td>\n",
              "      <td>The economic turnaround started at the end of ...</td>\n",
              "      <td>0</td>\n",
              "    </tr>\n",
              "  </tbody>\n",
              "</table>\n",
              "</div>\n",
              "      <button class=\"colab-df-convert\" onclick=\"convertToInteractive('df-601e71c2-ce5b-4123-82e1-e0c5e5fa0b24')\"\n",
              "              title=\"Convert this dataframe to an interactive table.\"\n",
              "              style=\"display:none;\">\n",
              "        \n",
              "  <svg xmlns=\"http://www.w3.org/2000/svg\" height=\"24px\"viewBox=\"0 0 24 24\"\n",
              "       width=\"24px\">\n",
              "    <path d=\"M0 0h24v24H0V0z\" fill=\"none\"/>\n",
              "    <path d=\"M18.56 5.44l.94 2.06.94-2.06 2.06-.94-2.06-.94-.94-2.06-.94 2.06-2.06.94zm-11 1L8.5 8.5l.94-2.06 2.06-.94-2.06-.94L8.5 2.5l-.94 2.06-2.06.94zm10 10l.94 2.06.94-2.06 2.06-.94-2.06-.94-.94-2.06-.94 2.06-2.06.94z\"/><path d=\"M17.41 7.96l-1.37-1.37c-.4-.4-.92-.59-1.43-.59-.52 0-1.04.2-1.43.59L10.3 9.45l-7.72 7.72c-.78.78-.78 2.05 0 2.83L4 21.41c.39.39.9.59 1.41.59.51 0 1.02-.2 1.41-.59l7.78-7.78 2.81-2.81c.8-.78.8-2.07 0-2.86zM5.41 20L4 18.59l7.72-7.72 1.47 1.35L5.41 20z\"/>\n",
              "  </svg>\n",
              "      </button>\n",
              "      \n",
              "  <style>\n",
              "    .colab-df-container {\n",
              "      display:flex;\n",
              "      flex-wrap:wrap;\n",
              "      gap: 12px;\n",
              "    }\n",
              "\n",
              "    .colab-df-convert {\n",
              "      background-color: #E8F0FE;\n",
              "      border: none;\n",
              "      border-radius: 50%;\n",
              "      cursor: pointer;\n",
              "      display: none;\n",
              "      fill: #1967D2;\n",
              "      height: 32px;\n",
              "      padding: 0 0 0 0;\n",
              "      width: 32px;\n",
              "    }\n",
              "\n",
              "    .colab-df-convert:hover {\n",
              "      background-color: #E2EBFA;\n",
              "      box-shadow: 0px 1px 2px rgba(60, 64, 67, 0.3), 0px 1px 3px 1px rgba(60, 64, 67, 0.15);\n",
              "      fill: #174EA6;\n",
              "    }\n",
              "\n",
              "    [theme=dark] .colab-df-convert {\n",
              "      background-color: #3B4455;\n",
              "      fill: #D2E3FC;\n",
              "    }\n",
              "\n",
              "    [theme=dark] .colab-df-convert:hover {\n",
              "      background-color: #434B5C;\n",
              "      box-shadow: 0px 1px 3px 1px rgba(0, 0, 0, 0.15);\n",
              "      filter: drop-shadow(0px 1px 2px rgba(0, 0, 0, 0.3));\n",
              "      fill: #FFFFFF;\n",
              "    }\n",
              "  </style>\n",
              "\n",
              "      <script>\n",
              "        const buttonEl =\n",
              "          document.querySelector('#df-601e71c2-ce5b-4123-82e1-e0c5e5fa0b24 button.colab-df-convert');\n",
              "        buttonEl.style.display =\n",
              "          google.colab.kernel.accessAllowed ? 'block' : 'none';\n",
              "\n",
              "        async function convertToInteractive(key) {\n",
              "          const element = document.querySelector('#df-601e71c2-ce5b-4123-82e1-e0c5e5fa0b24');\n",
              "          const dataTable =\n",
              "            await google.colab.kernel.invokeFunction('convertToInteractive',\n",
              "                                                     [key], {});\n",
              "          if (!dataTable) return;\n",
              "\n",
              "          const docLinkHtml = 'Like what you see? Visit the ' +\n",
              "            '<a target=\"_blank\" href=https://colab.research.google.com/notebooks/data_table.ipynb>data table notebook</a>'\n",
              "            + ' to learn more about interactive tables.';\n",
              "          element.innerHTML = '';\n",
              "          dataTable['output_type'] = 'display_data';\n",
              "          await google.colab.output.renderOutput(dataTable, element);\n",
              "          const docLink = document.createElement('div');\n",
              "          docLink.innerHTML = docLinkHtml;\n",
              "          element.appendChild(docLink);\n",
              "        }\n",
              "      </script>\n",
              "    </div>\n",
              "  </div>\n",
              "  "
            ]
          },
          "metadata": {},
          "execution_count": 99
        }
      ]
    },
    {
      "cell_type": "code",
      "source": [
        "df_train_LIAR.isnull().sum()"
      ],
      "metadata": {
        "colab": {
          "base_uri": "https://localhost:8080/"
        },
        "outputId": "2122f748-9bbd-425f-800d-920ce62b1a2c",
        "id": "ji60mK9TmR8v"
      },
      "execution_count": null,
      "outputs": [
        {
          "output_type": "execute_result",
          "data": {
            "text/plain": [
              "Label        0\n",
              "Statement    0\n",
              "category     0\n",
              "dtype: int64"
            ]
          },
          "metadata": {},
          "execution_count": 100
        }
      ]
    },
    {
      "cell_type": "markdown",
      "source": [
        "### Test data"
      ],
      "metadata": {
        "id": "jToqqiromR8v"
      }
    },
    {
      "cell_type": "code",
      "execution_count": null,
      "metadata": {
        "id": "N4JwYBUCmR8v"
      },
      "outputs": [],
      "source": [
        "path = '/content/drive/MyDrive/LIAR_DATASET/Test.csv'\n",
        "df_test_LIAR = pd.read_csv(path,delimiter=',')"
      ]
    },
    {
      "cell_type": "code",
      "source": [
        "df_test_LIAR.head()"
      ],
      "metadata": {
        "colab": {
          "base_uri": "https://localhost:8080/"
        },
        "outputId": "eb58b95c-50e1-486a-fa6d-b0868b12760c",
        "id": "Y9wsCE3NmR8w"
      },
      "execution_count": null,
      "outputs": [
        {
          "output_type": "execute_result",
          "data": {
            "text/plain": [
              "        Label                                          Statement\n",
              "0        true  Building a wall on the U.S.-Mexico border will...\n",
              "1       false  Wisconsin is on pace to double the number of l...\n",
              "2       false  Says John McCain has done nothing to help the ...\n",
              "3   half-true  Suzanne Bonamici supports a plan that will cut...\n",
              "4  pants-fire  When asked by a reporter whether hes at the ce..."
            ],
            "text/html": [
              "\n",
              "  <div id=\"df-a46816c2-e651-4047-9a3e-a8e24cbf6065\">\n",
              "    <div class=\"colab-df-container\">\n",
              "      <div>\n",
              "<style scoped>\n",
              "    .dataframe tbody tr th:only-of-type {\n",
              "        vertical-align: middle;\n",
              "    }\n",
              "\n",
              "    .dataframe tbody tr th {\n",
              "        vertical-align: top;\n",
              "    }\n",
              "\n",
              "    .dataframe thead th {\n",
              "        text-align: right;\n",
              "    }\n",
              "</style>\n",
              "<table border=\"1\" class=\"dataframe\">\n",
              "  <thead>\n",
              "    <tr style=\"text-align: right;\">\n",
              "      <th></th>\n",
              "      <th>Label</th>\n",
              "      <th>Statement</th>\n",
              "    </tr>\n",
              "  </thead>\n",
              "  <tbody>\n",
              "    <tr>\n",
              "      <th>0</th>\n",
              "      <td>true</td>\n",
              "      <td>Building a wall on the U.S.-Mexico border will...</td>\n",
              "    </tr>\n",
              "    <tr>\n",
              "      <th>1</th>\n",
              "      <td>false</td>\n",
              "      <td>Wisconsin is on pace to double the number of l...</td>\n",
              "    </tr>\n",
              "    <tr>\n",
              "      <th>2</th>\n",
              "      <td>false</td>\n",
              "      <td>Says John McCain has done nothing to help the ...</td>\n",
              "    </tr>\n",
              "    <tr>\n",
              "      <th>3</th>\n",
              "      <td>half-true</td>\n",
              "      <td>Suzanne Bonamici supports a plan that will cut...</td>\n",
              "    </tr>\n",
              "    <tr>\n",
              "      <th>4</th>\n",
              "      <td>pants-fire</td>\n",
              "      <td>When asked by a reporter whether hes at the ce...</td>\n",
              "    </tr>\n",
              "  </tbody>\n",
              "</table>\n",
              "</div>\n",
              "      <button class=\"colab-df-convert\" onclick=\"convertToInteractive('df-a46816c2-e651-4047-9a3e-a8e24cbf6065')\"\n",
              "              title=\"Convert this dataframe to an interactive table.\"\n",
              "              style=\"display:none;\">\n",
              "        \n",
              "  <svg xmlns=\"http://www.w3.org/2000/svg\" height=\"24px\"viewBox=\"0 0 24 24\"\n",
              "       width=\"24px\">\n",
              "    <path d=\"M0 0h24v24H0V0z\" fill=\"none\"/>\n",
              "    <path d=\"M18.56 5.44l.94 2.06.94-2.06 2.06-.94-2.06-.94-.94-2.06-.94 2.06-2.06.94zm-11 1L8.5 8.5l.94-2.06 2.06-.94-2.06-.94L8.5 2.5l-.94 2.06-2.06.94zm10 10l.94 2.06.94-2.06 2.06-.94-2.06-.94-.94-2.06-.94 2.06-2.06.94z\"/><path d=\"M17.41 7.96l-1.37-1.37c-.4-.4-.92-.59-1.43-.59-.52 0-1.04.2-1.43.59L10.3 9.45l-7.72 7.72c-.78.78-.78 2.05 0 2.83L4 21.41c.39.39.9.59 1.41.59.51 0 1.02-.2 1.41-.59l7.78-7.78 2.81-2.81c.8-.78.8-2.07 0-2.86zM5.41 20L4 18.59l7.72-7.72 1.47 1.35L5.41 20z\"/>\n",
              "  </svg>\n",
              "      </button>\n",
              "      \n",
              "  <style>\n",
              "    .colab-df-container {\n",
              "      display:flex;\n",
              "      flex-wrap:wrap;\n",
              "      gap: 12px;\n",
              "    }\n",
              "\n",
              "    .colab-df-convert {\n",
              "      background-color: #E8F0FE;\n",
              "      border: none;\n",
              "      border-radius: 50%;\n",
              "      cursor: pointer;\n",
              "      display: none;\n",
              "      fill: #1967D2;\n",
              "      height: 32px;\n",
              "      padding: 0 0 0 0;\n",
              "      width: 32px;\n",
              "    }\n",
              "\n",
              "    .colab-df-convert:hover {\n",
              "      background-color: #E2EBFA;\n",
              "      box-shadow: 0px 1px 2px rgba(60, 64, 67, 0.3), 0px 1px 3px 1px rgba(60, 64, 67, 0.15);\n",
              "      fill: #174EA6;\n",
              "    }\n",
              "\n",
              "    [theme=dark] .colab-df-convert {\n",
              "      background-color: #3B4455;\n",
              "      fill: #D2E3FC;\n",
              "    }\n",
              "\n",
              "    [theme=dark] .colab-df-convert:hover {\n",
              "      background-color: #434B5C;\n",
              "      box-shadow: 0px 1px 3px 1px rgba(0, 0, 0, 0.15);\n",
              "      filter: drop-shadow(0px 1px 2px rgba(0, 0, 0, 0.3));\n",
              "      fill: #FFFFFF;\n",
              "    }\n",
              "  </style>\n",
              "\n",
              "      <script>\n",
              "        const buttonEl =\n",
              "          document.querySelector('#df-a46816c2-e651-4047-9a3e-a8e24cbf6065 button.colab-df-convert');\n",
              "        buttonEl.style.display =\n",
              "          google.colab.kernel.accessAllowed ? 'block' : 'none';\n",
              "\n",
              "        async function convertToInteractive(key) {\n",
              "          const element = document.querySelector('#df-a46816c2-e651-4047-9a3e-a8e24cbf6065');\n",
              "          const dataTable =\n",
              "            await google.colab.kernel.invokeFunction('convertToInteractive',\n",
              "                                                     [key], {});\n",
              "          if (!dataTable) return;\n",
              "\n",
              "          const docLinkHtml = 'Like what you see? Visit the ' +\n",
              "            '<a target=\"_blank\" href=https://colab.research.google.com/notebooks/data_table.ipynb>data table notebook</a>'\n",
              "            + ' to learn more about interactive tables.';\n",
              "          element.innerHTML = '';\n",
              "          dataTable['output_type'] = 'display_data';\n",
              "          await google.colab.output.renderOutput(dataTable, element);\n",
              "          const docLink = document.createElement('div');\n",
              "          docLink.innerHTML = docLinkHtml;\n",
              "          element.appendChild(docLink);\n",
              "        }\n",
              "      </script>\n",
              "    </div>\n",
              "  </div>\n",
              "  "
            ]
          },
          "metadata": {},
          "execution_count": 102
        }
      ]
    },
    {
      "cell_type": "code",
      "source": [
        "df_test_LIAR['category'] = df_test_LIAR['Label'].apply(map_label)\n",
        "df_test_LIAR['category'].unique()"
      ],
      "metadata": {
        "colab": {
          "base_uri": "https://localhost:8080/"
        },
        "outputId": "4f82b2e8-2f23-462a-f54e-56394f0790b8",
        "id": "mN1w91qrmR8w"
      },
      "execution_count": null,
      "outputs": [
        {
          "output_type": "execute_result",
          "data": {
            "text/plain": [
              "array([1, 0])"
            ]
          },
          "metadata": {},
          "execution_count": 103
        }
      ]
    },
    {
      "cell_type": "code",
      "source": [
        "df_test_LIAR.isnull().sum()"
      ],
      "metadata": {
        "colab": {
          "base_uri": "https://localhost:8080/"
        },
        "outputId": "68619d6f-dc65-45b4-84bc-db2e6650491f",
        "id": "LvLWGvlYmR8w"
      },
      "execution_count": null,
      "outputs": [
        {
          "output_type": "execute_result",
          "data": {
            "text/plain": [
              "Label        0\n",
              "Statement    0\n",
              "category     0\n",
              "dtype: int64"
            ]
          },
          "metadata": {},
          "execution_count": 104
        }
      ]
    },
    {
      "cell_type": "markdown",
      "source": [
        "### Valid data"
      ],
      "metadata": {
        "id": "14RDv4DymR8w"
      }
    },
    {
      "cell_type": "code",
      "execution_count": null,
      "metadata": {
        "id": "QY7DO-xDmR8w"
      },
      "outputs": [],
      "source": [
        "path = '/content/drive/MyDrive/LIAR_DATASET/Valid.csv'\n",
        "df_valid_LIAR = pd.read_csv(path,delimiter=',')"
      ]
    },
    {
      "cell_type": "code",
      "source": [
        "df_valid_LIAR.head()"
      ],
      "metadata": {
        "colab": {
          "base_uri": "https://localhost:8080/"
        },
        "outputId": "f5a1105b-807a-4ad9-cb86-98a42bf3f687",
        "id": "Mu9POKRgmR8x"
      },
      "execution_count": null,
      "outputs": [
        {
          "output_type": "execute_result",
          "data": {
            "text/plain": [
              "         Label                                          Statement\n",
              "0  barely-true  We have less Americans working now than in the...\n",
              "1   pants-fire  When Obama was sworn into office, he DID NOT u...\n",
              "2        false  Says Having organizations parading as being so...\n",
              "3    half-true     Says nearly half of Oregons children are poor.\n",
              "4    half-true  On attacks by Republicans that various program..."
            ],
            "text/html": [
              "\n",
              "  <div id=\"df-77fa087b-bfac-44d2-87d6-855c939ea700\">\n",
              "    <div class=\"colab-df-container\">\n",
              "      <div>\n",
              "<style scoped>\n",
              "    .dataframe tbody tr th:only-of-type {\n",
              "        vertical-align: middle;\n",
              "    }\n",
              "\n",
              "    .dataframe tbody tr th {\n",
              "        vertical-align: top;\n",
              "    }\n",
              "\n",
              "    .dataframe thead th {\n",
              "        text-align: right;\n",
              "    }\n",
              "</style>\n",
              "<table border=\"1\" class=\"dataframe\">\n",
              "  <thead>\n",
              "    <tr style=\"text-align: right;\">\n",
              "      <th></th>\n",
              "      <th>Label</th>\n",
              "      <th>Statement</th>\n",
              "    </tr>\n",
              "  </thead>\n",
              "  <tbody>\n",
              "    <tr>\n",
              "      <th>0</th>\n",
              "      <td>barely-true</td>\n",
              "      <td>We have less Americans working now than in the...</td>\n",
              "    </tr>\n",
              "    <tr>\n",
              "      <th>1</th>\n",
              "      <td>pants-fire</td>\n",
              "      <td>When Obama was sworn into office, he DID NOT u...</td>\n",
              "    </tr>\n",
              "    <tr>\n",
              "      <th>2</th>\n",
              "      <td>false</td>\n",
              "      <td>Says Having organizations parading as being so...</td>\n",
              "    </tr>\n",
              "    <tr>\n",
              "      <th>3</th>\n",
              "      <td>half-true</td>\n",
              "      <td>Says nearly half of Oregons children are poor.</td>\n",
              "    </tr>\n",
              "    <tr>\n",
              "      <th>4</th>\n",
              "      <td>half-true</td>\n",
              "      <td>On attacks by Republicans that various program...</td>\n",
              "    </tr>\n",
              "  </tbody>\n",
              "</table>\n",
              "</div>\n",
              "      <button class=\"colab-df-convert\" onclick=\"convertToInteractive('df-77fa087b-bfac-44d2-87d6-855c939ea700')\"\n",
              "              title=\"Convert this dataframe to an interactive table.\"\n",
              "              style=\"display:none;\">\n",
              "        \n",
              "  <svg xmlns=\"http://www.w3.org/2000/svg\" height=\"24px\"viewBox=\"0 0 24 24\"\n",
              "       width=\"24px\">\n",
              "    <path d=\"M0 0h24v24H0V0z\" fill=\"none\"/>\n",
              "    <path d=\"M18.56 5.44l.94 2.06.94-2.06 2.06-.94-2.06-.94-.94-2.06-.94 2.06-2.06.94zm-11 1L8.5 8.5l.94-2.06 2.06-.94-2.06-.94L8.5 2.5l-.94 2.06-2.06.94zm10 10l.94 2.06.94-2.06 2.06-.94-2.06-.94-.94-2.06-.94 2.06-2.06.94z\"/><path d=\"M17.41 7.96l-1.37-1.37c-.4-.4-.92-.59-1.43-.59-.52 0-1.04.2-1.43.59L10.3 9.45l-7.72 7.72c-.78.78-.78 2.05 0 2.83L4 21.41c.39.39.9.59 1.41.59.51 0 1.02-.2 1.41-.59l7.78-7.78 2.81-2.81c.8-.78.8-2.07 0-2.86zM5.41 20L4 18.59l7.72-7.72 1.47 1.35L5.41 20z\"/>\n",
              "  </svg>\n",
              "      </button>\n",
              "      \n",
              "  <style>\n",
              "    .colab-df-container {\n",
              "      display:flex;\n",
              "      flex-wrap:wrap;\n",
              "      gap: 12px;\n",
              "    }\n",
              "\n",
              "    .colab-df-convert {\n",
              "      background-color: #E8F0FE;\n",
              "      border: none;\n",
              "      border-radius: 50%;\n",
              "      cursor: pointer;\n",
              "      display: none;\n",
              "      fill: #1967D2;\n",
              "      height: 32px;\n",
              "      padding: 0 0 0 0;\n",
              "      width: 32px;\n",
              "    }\n",
              "\n",
              "    .colab-df-convert:hover {\n",
              "      background-color: #E2EBFA;\n",
              "      box-shadow: 0px 1px 2px rgba(60, 64, 67, 0.3), 0px 1px 3px 1px rgba(60, 64, 67, 0.15);\n",
              "      fill: #174EA6;\n",
              "    }\n",
              "\n",
              "    [theme=dark] .colab-df-convert {\n",
              "      background-color: #3B4455;\n",
              "      fill: #D2E3FC;\n",
              "    }\n",
              "\n",
              "    [theme=dark] .colab-df-convert:hover {\n",
              "      background-color: #434B5C;\n",
              "      box-shadow: 0px 1px 3px 1px rgba(0, 0, 0, 0.15);\n",
              "      filter: drop-shadow(0px 1px 2px rgba(0, 0, 0, 0.3));\n",
              "      fill: #FFFFFF;\n",
              "    }\n",
              "  </style>\n",
              "\n",
              "      <script>\n",
              "        const buttonEl =\n",
              "          document.querySelector('#df-77fa087b-bfac-44d2-87d6-855c939ea700 button.colab-df-convert');\n",
              "        buttonEl.style.display =\n",
              "          google.colab.kernel.accessAllowed ? 'block' : 'none';\n",
              "\n",
              "        async function convertToInteractive(key) {\n",
              "          const element = document.querySelector('#df-77fa087b-bfac-44d2-87d6-855c939ea700');\n",
              "          const dataTable =\n",
              "            await google.colab.kernel.invokeFunction('convertToInteractive',\n",
              "                                                     [key], {});\n",
              "          if (!dataTable) return;\n",
              "\n",
              "          const docLinkHtml = 'Like what you see? Visit the ' +\n",
              "            '<a target=\"_blank\" href=https://colab.research.google.com/notebooks/data_table.ipynb>data table notebook</a>'\n",
              "            + ' to learn more about interactive tables.';\n",
              "          element.innerHTML = '';\n",
              "          dataTable['output_type'] = 'display_data';\n",
              "          await google.colab.output.renderOutput(dataTable, element);\n",
              "          const docLink = document.createElement('div');\n",
              "          docLink.innerHTML = docLinkHtml;\n",
              "          element.appendChild(docLink);\n",
              "        }\n",
              "      </script>\n",
              "    </div>\n",
              "  </div>\n",
              "  "
            ]
          },
          "metadata": {},
          "execution_count": 106
        }
      ]
    },
    {
      "cell_type": "code",
      "source": [
        "df_valid_LIAR['category'] = df_valid_LIAR['Label'].apply(map_label)\n",
        "df_valid_LIAR['category'].unique()"
      ],
      "metadata": {
        "colab": {
          "base_uri": "https://localhost:8080/"
        },
        "outputId": "6a32b485-dc0b-48a1-940a-80beae65fc16",
        "id": "vSinR8QsmR8x"
      },
      "execution_count": null,
      "outputs": [
        {
          "output_type": "execute_result",
          "data": {
            "text/plain": [
              "array([0, 1])"
            ]
          },
          "metadata": {},
          "execution_count": 107
        }
      ]
    },
    {
      "cell_type": "code",
      "source": [
        "df_valid_LIAR.isnull().sum()"
      ],
      "metadata": {
        "colab": {
          "base_uri": "https://localhost:8080/"
        },
        "outputId": "f61e5566-8867-4140-e117-031290b57a80",
        "id": "1yaHKDlqmR8x"
      },
      "execution_count": null,
      "outputs": [
        {
          "output_type": "execute_result",
          "data": {
            "text/plain": [
              "Label        0\n",
              "Statement    0\n",
              "category     0\n",
              "dtype: int64"
            ]
          },
          "metadata": {},
          "execution_count": 108
        }
      ]
    },
    {
      "cell_type": "markdown",
      "source": [
        "### Embeddings"
      ],
      "metadata": {
        "id": "D2HO8MGq_scH"
      }
    },
    {
      "cell_type": "code",
      "execution_count": null,
      "metadata": {
        "id": "csAvYQ_-rFrV"
      },
      "outputs": [],
      "source": [
        "#εισάγουμε τα δεδομένα από τ' αποθηκευμένα αρχεία που δημιουργήσαμε νωρίτερα\n",
        "train_embeddings_LIAR = np.load('/content/drive/MyDrive/LIAR_DATASET/embeddings_train_distilbert_bin.npy')\n",
        "train_labels_LIAR = np.load('/content/drive/MyDrive/LIAR_DATASET/labels_train_distilbert_bin.npy')"
      ]
    },
    {
      "cell_type": "code",
      "source": [
        "test_embeddings_LIAR = np.load('/content/drive/MyDrive/LIAR_DATASET/embeddings_test_distilbert_bin.npy')\n",
        "test_labels_LIAR = np.load('/content/drive/MyDrive/LIAR_DATASET/labels_test_distilbert_bin.npy')"
      ],
      "metadata": {
        "id": "3oVqlDnsrFrV"
      },
      "execution_count": null,
      "outputs": []
    },
    {
      "cell_type": "code",
      "source": [
        "valid_embeddings_LIAR = np.load('/content/drive/MyDrive/LIAR_DATASET/embeddings_valid_distilbert_bin.npy')\n",
        "valid_labels_LIAR = np.load('/content/drive/MyDrive/LIAR_DATASET/labels_valid_distilbert_bin.npy')"
      ],
      "metadata": {
        "id": "whhYRHwVrFrW"
      },
      "execution_count": null,
      "outputs": []
    },
    {
      "cell_type": "markdown",
      "source": [
        "## **FakeNewsChallenge Title Embeddings - Dataset**"
      ],
      "metadata": {
        "id": "VNknXuV5SDR5"
      }
    },
    {
      "cell_type": "markdown",
      "metadata": {
        "id": "96bVYwTZMOpo"
      },
      "source": [
        "### **train data**"
      ]
    },
    {
      "cell_type": "code",
      "execution_count": null,
      "metadata": {
        "id": "mf-15i5wMQy2"
      },
      "outputs": [],
      "source": [
        "path = '/content/drive/MyDrive/FakeNewsChallenge/train.csv'\n",
        "df = pd.read_csv(path,delimiter=',')"
      ]
    },
    {
      "cell_type": "code",
      "execution_count": null,
      "metadata": {
        "id": "2cbgnklNMQy3"
      },
      "outputs": [],
      "source": [
        "df['Stance'] = df['Stance'].apply(lambda x: 1 if x.lower() in ['agree', 'discuss'] else 0)"
      ]
    },
    {
      "cell_type": "code",
      "execution_count": null,
      "metadata": {
        "colab": {
          "base_uri": "https://localhost:8080/"
        },
        "id": "budS7AceMQy3",
        "outputId": "5eef166e-7352-43f6-b51d-6f9397c24446"
      },
      "outputs": [
        {
          "output_type": "execute_result",
          "data": {
            "text/plain": [
              "<seaborn.axisgrid.FacetGrid at 0x7f256d21b940>"
            ]
          },
          "metadata": {},
          "execution_count": 114
        },
        {
          "output_type": "display_data",
          "data": {
            "text/plain": [
              "<Figure size 700x700 with 1 Axes>"
            ],
            "image/png": "[encoded data removed]"
          },
          "metadata": {}
        }
      ],
      "source": [
        "sns.set_theme(style=\"whitegrid\", palette=\"pastel\")\n",
        "sns.displot(df, x=\"Stance\",height=7,aspect=1)"
      ]
    },
    {
      "cell_type": "markdown",
      "metadata": {
        "id": "CyyOa2ZsMYvu"
      },
      "source": [
        "### **test data**"
      ]
    },
    {
      "cell_type": "code",
      "execution_count": null,
      "metadata": {
        "id": "sZ0CAwq6McMY"
      },
      "outputs": [],
      "source": [
        "path = '/content/drive/MyDrive/FakeNewsChallenge/test.csv'\n",
        "df1 = pd.read_csv(path,delimiter=',')"
      ]
    },
    {
      "cell_type": "code",
      "execution_count": null,
      "metadata": {
        "id": "aS356O0PMb0B"
      },
      "outputs": [],
      "source": [
        "df1['Stance'] = df1['Stance'].apply(lambda x: 1 if x.lower() in ['agree', 'discuss'] else 0)"
      ]
    },
    {
      "cell_type": "code",
      "execution_count": null,
      "metadata": {
        "colab": {
          "base_uri": "https://localhost:8080/"
        },
        "id": "LX-NTMyQMcMZ",
        "outputId": "03ba0c26-aa41-4825-9443-387d6d09f825"
      },
      "outputs": [
        {
          "output_type": "execute_result",
          "data": {
            "text/plain": [
              "<seaborn.axisgrid.FacetGrid at 0x7f24ae789ba0>"
            ]
          },
          "metadata": {},
          "execution_count": 117
        },
        {
          "output_type": "display_data",
          "data": {
            "text/plain": [
              "<Figure size 700x700 with 1 Axes>"
            ],
            "image/png": "[encoded data removed]"
          },
          "metadata": {}
        }
      ],
      "source": [
        "sns.set_theme(style=\"whitegrid\", palette=\"pastel\")\n",
        "sns.displot(df1, x=\"Stance\",height=7,aspect=1)"
      ]
    },
    {
      "cell_type": "markdown",
      "source": [
        "### Embeddings"
      ],
      "metadata": {
        "id": "5ds1hygvZ8Qt"
      }
    },
    {
      "cell_type": "code",
      "source": [
        "train_embeddings_FNC = np.load('/content/drive/MyDrive/FakeNewsChallenge/embeddings_train_title_distilbert_bin.npy')\n",
        "train_labels_FNC = np.load('/content/drive/MyDrive/FakeNewsChallenge/labels_train_title_distilbert_bin.npy')\n",
        "test_embeddings_FNC = np.load('/content/drive/MyDrive/FakeNewsChallenge/embeddings_test_title_distilbert_bin.npy')\n",
        "test_labels_FNC = np.load('/content/drive/MyDrive/FakeNewsChallenge/labels_test_title_distilbert_bin.npy')"
      ],
      "metadata": {
        "id": "fPEdbZ9dZ-KU"
      },
      "execution_count": null,
      "outputs": []
    },
    {
      "cell_type": "markdown",
      "source": [
        "# **Concatenate Embeddings**"
      ],
      "metadata": {
        "id": "1_NMPuk2AQpc"
      }
    },
    {
      "cell_type": "code",
      "source": [
        "train_embeddings_ISOT, test_embeddings_ISOT, train_labels_ISOT, test_labels_ISOT = train_test_split(embeddings_ISOT, labels_ISOT, test_size=0.2, random_state=42, shuffle=True)"
      ],
      "metadata": {
        "id": "_1owB7GDbHH0"
      },
      "execution_count": null,
      "outputs": []
    },
    {
      "cell_type": "code",
      "source": [
        "train_embeddings_PHEME, test_embeddings_PHEME, train_labels_PHEME, test_labels_PHEME = train_test_split(embeddings_PHEME, labels_PHEME, test_size=0.2, random_state=42, shuffle=True)"
      ],
      "metadata": {
        "id": "tnIOSKI_bS4U"
      },
      "execution_count": null,
      "outputs": []
    },
    {
      "cell_type": "code",
      "source": [
        "train_embeddings_FakeNewsNet, test_embeddings_FakeNewsNet, train_labels_FakeNewsNet, test_labels_FakeNewsNet = train_test_split(embeddings_FakeNewsNet, labels_FakeNewsNet, test_size=0.2, random_state=42, shuffle=True)"
      ],
      "metadata": {
        "id": "K2vjW_5BbcLv"
      },
      "execution_count": null,
      "outputs": []
    },
    {
      "cell_type": "code",
      "source": [
        "train_embeddings = np.concatenate((train_embeddings_ISOT, train_embeddings_PHEME), axis=0)\n",
        "train_labels = np.concatenate((train_labels_ISOT,train_labels_PHEME),axis=0)\n",
        "train_embeddings.shape"
      ],
      "metadata": {
        "id": "rAxQE-d0WWFJ",
        "colab": {
          "base_uri": "https://localhost:8080/"
        },
        "outputId": "69d22ce6-bca7-4b1a-c192-b452be8520bb"
      },
      "execution_count": null,
      "outputs": [
        {
          "output_type": "execute_result",
          "data": {
            "text/plain": [
              "(37282, 768)"
            ]
          },
          "metadata": {},
          "execution_count": 212
        }
      ]
    },
    {
      "cell_type": "code",
      "source": [
        "train_embeddings = np.concatenate((train_embeddings, train_embeddings_FakeNewsNet), axis=0)\n",
        "train_labels = np.concatenate((train_labels,train_labels_FakeNewsNet),axis=0)\n",
        "train_embeddings.shape"
      ],
      "metadata": {
        "id": "HWhiDY6LW23M",
        "colab": {
          "base_uri": "https://localhost:8080/"
        },
        "outputId": "d74be4db-c049-42ce-d4ec-af0d1f65f6e4"
      },
      "execution_count": null,
      "outputs": [
        {
          "output_type": "execute_result",
          "data": {
            "text/plain": [
              "(55838, 768)"
            ]
          },
          "metadata": {},
          "execution_count": 213
        }
      ]
    },
    {
      "cell_type": "code",
      "source": [
        "train_embeddings = np.concatenate((train_embeddings, train_embeddings_LIAR), axis=0)\n",
        "train_labels = np.concatenate((train_labels,train_labels_LIAR),axis=0)"
      ],
      "metadata": {
        "id": "AcgzO8mzaSrQ"
      },
      "execution_count": null,
      "outputs": []
    },
    {
      "cell_type": "code",
      "source": [
        "test_embeddings = np.concatenate((test_embeddings_ISOT, test_embeddings_PHEME), axis=0)\n",
        "test_labels = np.concatenate((test_labels_ISOT,test_labels_PHEME),axis=0)"
      ],
      "metadata": {
        "id": "G7fjSWERcX84"
      },
      "execution_count": null,
      "outputs": []
    },
    {
      "cell_type": "code",
      "source": [
        "test_embeddings = np.concatenate((test_embeddings, test_embeddings_FakeNewsNet), axis=0)\n",
        "test_labels = np.concatenate((test_labels,test_labels_FakeNewsNet),axis=0)"
      ],
      "metadata": {
        "id": "NwPZSt92cmI_"
      },
      "execution_count": null,
      "outputs": []
    },
    {
      "cell_type": "code",
      "source": [
        "test_embeddings = np.concatenate((test_embeddings, test_embeddings_LIAR), axis=0)\n",
        "test_labels = np.concatenate((test_labels,test_labels_LIAR),axis=0)"
      ],
      "metadata": {
        "id": "R0MSLdE1cvMf"
      },
      "execution_count": null,
      "outputs": []
    },
    {
      "cell_type": "code",
      "source": [
        "train_embeddings = np.concatenate((train_embeddings, test_embeddings_FNC), axis=0)\n",
        "train_labels = np.concatenate((train_labels,test_labels_FNC),axis=0)\n",
        "test_embeddings_FNC.shape"
      ],
      "metadata": {
        "id": "ioaZfVkEaJG4",
        "colab": {
          "base_uri": "https://localhost:8080/"
        },
        "outputId": "10651895-3d9a-4f7d-a978-ec24ebc26ad6"
      },
      "execution_count": null,
      "outputs": [
        {
          "output_type": "execute_result",
          "data": {
            "text/plain": [
              "(25413, 768)"
            ]
          },
          "metadata": {},
          "execution_count": 194
        }
      ]
    },
    {
      "cell_type": "markdown",
      "source": [
        "# CNN"
      ],
      "metadata": {
        "id": "Tb5l4YrcXKS5"
      }
    },
    {
      "cell_type": "code",
      "source": [
        "train_embeddings = tf.expand_dims(train_embeddings, axis=-1)\n",
        "test_embeddings = tf.expand_dims(test_embeddings, axis=-1)"
      ],
      "metadata": {
        "id": "EqQvqXUNUVm5"
      },
      "execution_count": null,
      "outputs": []
    },
    {
      "cell_type": "code",
      "source": [
        "train_embeddings.shape"
      ],
      "metadata": {
        "colab": {
          "base_uri": "https://localhost:8080/"
        },
        "id": "HhkPLWb1UeeT",
        "outputId": "1853ca31-427d-4588-de78-db5e23497181"
      },
      "execution_count": null,
      "outputs": [
        {
          "output_type": "execute_result",
          "data": {
            "text/plain": [
              "TensorShape([59204, 768, 1])"
            ]
          },
          "metadata": {},
          "execution_count": 219
        }
      ]
    },
    {
      "cell_type": "code",
      "execution_count": null,
      "metadata": {
        "id": "E3-krXR1jj2e"
      },
      "outputs": [],
      "source": [
        "# build the model\n",
        "model = Sequential()\n",
        "model.add(Conv1D(filters=128, kernel_size=5, activation='relu', input_shape=(768,1)))\n",
        "model.add(MaxPooling1D(pool_size=5))\n",
        "model.add(Conv1D(128, 5, activation='relu'))\n",
        "model.add(MaxPooling1D(pool_size=5))\n",
        "model.add(Conv1D(128, 5, activation='relu'))\n",
        "model.add(Flatten())\n",
        "model.add(Dense(64, activation='relu'))\n",
        "model.add(Dropout(0.5))\n",
        "model.add(Dense(1, activation='sigmoid'))"
      ]
    },
    {
      "cell_type": "code",
      "execution_count": null,
      "metadata": {
        "id": "8GrSUQS0jlEj"
      },
      "outputs": [],
      "source": [
        "model.compile(loss='binary_crossentropy', optimizer='adam', metrics=['accuracy'])"
      ]
    },
    {
      "cell_type": "code",
      "source": [
        "history1 = model.fit(train_embeddings, train_labels, epochs=10, batch_size=16,validation_data=(test_embeddings, test_labels))"
      ],
      "metadata": {
        "id": "oEFGRIBzBirW",
        "colab": {
          "base_uri": "https://localhost:8080/"
        },
        "outputId": "034794f6-4d00-48b0-dc1b-f5ed43da604a"
      },
      "execution_count": null,
      "outputs": [
        {
          "output_type": "stream",
          "name": "stdout",
          "text": [
            "Epoch 1/10\n",
            "3701/3701 [==============================] - 22s 5ms/step - loss: 0.3713 - accuracy: 0.8296 - val_loss: 0.3186 - val_accuracy: 0.8428\n",
            "Epoch 2/10\n",
            "3701/3701 [==============================] - 21s 6ms/step - loss: 0.3100 - accuracy: 0.8610 - val_loss: 0.3131 - val_accuracy: 0.8390\n",
            "Epoch 3/10\n",
            "3701/3701 [==============================] - 21s 6ms/step - loss: 0.2928 - accuracy: 0.8698 - val_loss: 0.3079 - val_accuracy: 0.8434\n",
            "Epoch 4/10\n",
            "3701/3701 [==============================] - 22s 6ms/step - loss: 0.2794 - accuracy: 0.8749 - val_loss: 0.3598 - val_accuracy: 0.8221\n",
            "Epoch 5/10\n",
            "3701/3701 [==============================] - 21s 6ms/step - loss: 0.2680 - accuracy: 0.8797 - val_loss: 0.3078 - val_accuracy: 0.8558\n",
            "Epoch 6/10\n",
            "3701/3701 [==============================] - 22s 6ms/step - loss: 0.2587 - accuracy: 0.8835 - val_loss: 0.3135 - val_accuracy: 0.8356\n",
            "Epoch 7/10\n",
            "3701/3701 [==============================] - 21s 6ms/step - loss: 0.2503 - accuracy: 0.8878 - val_loss: 0.2922 - val_accuracy: 0.8579\n",
            "Epoch 8/10\n",
            "3701/3701 [==============================] - 21s 6ms/step - loss: 0.2425 - accuracy: 0.8909 - val_loss: 0.2939 - val_accuracy: 0.8594\n",
            "Epoch 9/10\n",
            "3701/3701 [==============================] - 23s 6ms/step - loss: 0.2363 - accuracy: 0.8925 - val_loss: 0.3075 - val_accuracy: 0.8428\n",
            "Epoch 10/10\n",
            "3701/3701 [==============================] - 20s 5ms/step - loss: 0.2290 - accuracy: 0.8957 - val_loss: 0.3033 - val_accuracy: 0.8492\n"
          ]
        }
      ]
    },
    {
      "cell_type": "code",
      "execution_count": null,
      "metadata": {
        "id": "fSHUtTYqloXd",
        "colab": {
          "base_uri": "https://localhost:8080/"
        },
        "outputId": "ca10d217-a7c7-4b33-e5f4-b5c260906f4b"
      },
      "outputs": [
        {
          "output_type": "stream",
          "name": "stdout",
          "text": [
            "477/477 [==============================] - 2s 4ms/step - loss: 0.3033 - accuracy: 0.8492\n",
            "477/477 [==============================] - 1s 2ms/step\n",
            "Test Accuracy: 0.8491865396499634\n",
            "Test F1 Score: 0.8733123932330413\n",
            "Test Recall: 0.9556198745779064\n",
            "Precision: 0.8040588533739219\n"
          ]
        }
      ],
      "source": [
        "test_loss, test_acc = model.evaluate(test_embeddings, test_labels)\n",
        "\n",
        "y_pred = model.predict(test_embeddings)\n",
        "y_pred = (y_pred > 0.5).astype('int32')\n",
        "\n",
        "f1 = f1_score(test_labels, y_pred)\n",
        "recall = recall_score(test_labels, y_pred)\n",
        "precision = precision_score(test_labels, y_pred)\n",
        "\n",
        "#accuraccy \n",
        "print(\"Test Accuracy:\", test_acc)\n",
        "#f1-score\n",
        "print(\"Test F1 Score:\", f1)\n",
        "#recall\n",
        "print(\"Test Recall:\", recall)\n",
        "#precision\n",
        "print(\"Precision:\", precision)"
      ]
    },
    {
      "cell_type": "code",
      "execution_count": null,
      "metadata": {
        "id": "TiDjAtumBT7Q",
        "colab": {
          "base_uri": "https://localhost:8080/"
        },
        "outputId": "54efd3d6-2a18-4273-9f1e-85fe1011f214"
      },
      "outputs": [
        {
          "output_type": "stream",
          "name": "stdout",
          "text": [
            "Model: \"sequential_10\"\n",
            "_________________________________________________________________\n",
            " Layer (type)                Output Shape              Param #   \n",
            "=================================================================\n",
            " conv1d_38 (Conv1D)          (None, 764, 128)          768       \n",
            "                                                                 \n",
            " max_pooling1d_28 (MaxPoolin  (None, 152, 128)         0         \n",
            " g1D)                                                            \n",
            "                                                                 \n",
            " conv1d_39 (Conv1D)          (None, 148, 128)          82048     \n",
            "                                                                 \n",
            " max_pooling1d_29 (MaxPoolin  (None, 29, 128)          0         \n",
            " g1D)                                                            \n",
            "                                                                 \n",
            " conv1d_40 (Conv1D)          (None, 25, 128)           82048     \n",
            "                                                                 \n",
            " flatten_12 (Flatten)        (None, 3200)              0         \n",
            "                                                                 \n",
            " dense_26 (Dense)            (None, 64)                204864    \n",
            "                                                                 \n",
            " dropout_16 (Dropout)        (None, 64)                0         \n",
            "                                                                 \n",
            " dense_27 (Dense)            (None, 1)                 65        \n",
            "                                                                 \n",
            "=================================================================\n",
            "Total params: 369,793\n",
            "Trainable params: 369,793\n",
            "Non-trainable params: 0\n",
            "_________________________________________________________________\n"
          ]
        }
      ],
      "source": [
        "#λεπτομέρειες για τη δομή του μοντέλου\n",
        "model.summary()"
      ]
    },
    {
      "cell_type": "code",
      "source": [
        "y_pred = model.predict(test_embeddings)\n",
        "y_pred = (y_pred > 0.5).astype(int)\n",
        "cm = confusion_matrix(test_labels, y_pred)\n",
        "print(cm)\n",
        "sns.heatmap(cm, annot=True, cmap='Blues', fmt='g', cbar=False)\n",
        "plt.xlabel('Predicted labels')\n",
        "plt.ylabel('True labels')\n",
        "plt.title('Confusion matrix')\n",
        "plt.show()"
      ],
      "metadata": {
        "id": "YJiszL6sV8Xt",
        "colab": {
          "base_uri": "https://localhost:8080/"
        },
        "outputId": "6dc7b2cc-209c-4914-ef4a-61e188c5abb1"
      },
      "execution_count": null,
      "outputs": [
        {
          "output_type": "stream",
          "name": "stdout",
          "text": [
            "477/477 [==============================] - 1s 2ms/step\n",
            "[[5021 1931]\n",
            " [ 368 7924]]\n"
          ]
        },
        {
          "output_type": "display_data",
          "data": {
            "text/plain": [
              "<Figure size 640x480 with 1 Axes>"
            ],
            "image/png": "[encoded data removed]"
          },
          "metadata": {}
        }
      ]
    },
    {
      "cell_type": "code",
      "execution_count": null,
      "metadata": {
        "id": "znsfa6RzhFFb"
      },
      "outputs": [],
      "source": [
        "from sklearn.metrics import classification_report, confusion_matrix\n",
        "def plot_history(history,model):\n",
        "   # Plot training and validation loss\n",
        "    sns.lineplot(x=history.epoch, y=history.history['loss'], label='train')\n",
        "    sns.lineplot(x=history.epoch, y=history.history['val_loss'], label='val')\n",
        "    plt.title('Model Loss')\n",
        "    plt.ylabel('Loss')\n",
        "    plt.xlabel('Epoch')\n",
        "    plt.legend(loc='upper right')\n",
        "    plt.show()\n",
        "    \n",
        "    # Plot training and validation accuracy\n",
        "    sns.lineplot(x=history.epoch, y=history.history['accuracy'], label='train')\n",
        "    sns.lineplot(x=history.epoch, y=history.history['val_accuracy'], label='val')\n",
        "    plt.title('Model Accuracy')\n",
        "    plt.ylabel('Accuracy')\n",
        "    plt.xlabel('Epoch')\n",
        "    plt.legend(loc='lower right')\n",
        "    plt.show()\n",
        "\n",
        "    y_pred = model.predict(test_embeddings)\n",
        "    y_pred = (y_pred > 0.5).astype(int)\n",
        "    cm = confusion_matrix(test_labels, y_pred)\n",
        "    sns.heatmap(cm, annot=True, cmap='Blues', fmt='g', cbar=False)\n",
        "    plt.xlabel('Predicted labels')\n",
        "    plt.ylabel('True labels')\n",
        "    plt.title('Confusion matrix')\n",
        "    plt.show()\n",
        "    \n",
        "    # Print the classification report\n",
        "    print(classification_report(test_labels, y_pred))"
      ]
    },
    {
      "cell_type": "code",
      "execution_count": null,
      "metadata": {
        "id": "Mu2jsBX5ipTj",
        "colab": {
          "base_uri": "https://localhost:8080/",
          "height": 1000
        },
        "outputId": "2a2aa24e-599b-4db9-c164-5dcf9ae42296"
      },
      "outputs": [
        {
          "output_type": "display_data",
          "data": {
            "text/plain": [
              "<Figure size 640x480 with 1 Axes>"
            ],
            "image/png": "[encoded data removed]"
          },
          "metadata": {}
        },
        {
          "output_type": "display_data",
          "data": {
            "text/plain": [
              "<Figure size 640x480 with 1 Axes>"
            ],
            "image/png": "[encoded data removed]"
          },
          "metadata": {}
        },
        {
          "output_type": "stream",
          "name": "stdout",
          "text": [
            "477/477 [==============================] - 1s 2ms/step\n"
          ]
        },
        {
          "output_type": "display_data",
          "data": {
            "text/plain": [
              "<Figure size 640x480 with 1 Axes>"
            ],
            "image/png": "[encoded data removed]"
          },
          "metadata": {}
        },
        {
          "output_type": "stream",
          "name": "stdout",
          "text": [
            "              precision    recall  f1-score   support\n",
            "\n",
            "           0       0.93      0.72      0.81      6952\n",
            "           1       0.80      0.96      0.87      8292\n",
            "\n",
            "    accuracy                           0.85     15244\n",
            "   macro avg       0.87      0.84      0.84     15244\n",
            "weighted avg       0.86      0.85      0.85     15244\n",
            "\n"
          ]
        }
      ],
      "source": [
        "plot_history(history1,model)"
      ]
    },
    {
      "cell_type": "markdown",
      "source": [
        "# LSTM"
      ],
      "metadata": {
        "id": "GuvGPsNTXOOn"
      }
    },
    {
      "cell_type": "code",
      "execution_count": null,
      "metadata": {
        "id": "dlcCXxxh1uB2"
      },
      "outputs": [],
      "source": [
        "model2 = Sequential()\n",
        "model2.add(Conv1D(64, 5, activation='relu', input_shape=(768, 1)))\n",
        "model2.add(MaxPooling1D(pool_size=2))\n",
        "model2.add(Conv1D(64, 5, activation='relu'))\n",
        "model2.add(MaxPooling1D(pool_size=2))\n",
        "model2.add(Conv1D(64, 5, activation='relu'))\n",
        "model2.add(LSTM(64, return_sequences=True))\n",
        "model2.add(Dropout(0.2))\n",
        "model2.add(BatchNormalization())\n",
        "model2.add(Dense(64, activation='relu', kernel_regularizer='l2'))\n",
        "model2.add(Dropout(0.2))\n",
        "model2.add(Flatten())\n",
        "model2.add(Dense(1, activation='sigmoid'))"
      ]
    },
    {
      "cell_type": "code",
      "execution_count": null,
      "metadata": {
        "id": "1rclcXkK1uB3"
      },
      "outputs": [],
      "source": [
        "model2.compile(loss='binary_crossentropy', optimizer='adam', metrics=['accuracy'])"
      ]
    },
    {
      "cell_type": "code",
      "execution_count": null,
      "metadata": {
        "colab": {
          "base_uri": "https://localhost:8080/"
        },
        "id": "7XQoetmH1uB3",
        "outputId": "77c86c36-0748-4e83-e40b-c2b5209367f9"
      },
      "outputs": [
        {
          "output_type": "stream",
          "name": "stdout",
          "text": [
            "Epoch 1/10\n",
            "3701/3701 [==============================] - 57s 14ms/step - loss: 0.4079 - accuracy: 0.8345 - val_loss: 0.3687 - val_accuracy: 0.8378\n",
            "Epoch 2/10\n",
            "3701/3701 [==============================] - 47s 13ms/step - loss: 0.3288 - accuracy: 0.8585 - val_loss: 0.3270 - val_accuracy: 0.8548\n",
            "Epoch 3/10\n",
            "3701/3701 [==============================] - 47s 13ms/step - loss: 0.3091 - accuracy: 0.8657 - val_loss: 0.3363 - val_accuracy: 0.8528\n",
            "Epoch 4/10\n",
            "3701/3701 [==============================] - 46s 13ms/step - loss: 0.2968 - accuracy: 0.8719 - val_loss: 0.3185 - val_accuracy: 0.8599\n",
            "Epoch 5/10\n",
            "3701/3701 [==============================] - 53s 14ms/step - loss: 0.2862 - accuracy: 0.8751 - val_loss: 0.3248 - val_accuracy: 0.8571\n",
            "Epoch 6/10\n",
            "3701/3701 [==============================] - 48s 13ms/step - loss: 0.2773 - accuracy: 0.8808 - val_loss: 0.3009 - val_accuracy: 0.8655\n",
            "Epoch 7/10\n",
            "3701/3701 [==============================] - 47s 13ms/step - loss: 0.2718 - accuracy: 0.8821 - val_loss: 0.3067 - val_accuracy: 0.8630\n",
            "Epoch 8/10\n",
            "3701/3701 [==============================] - 46s 13ms/step - loss: 0.2623 - accuracy: 0.8873 - val_loss: 0.2988 - val_accuracy: 0.8693\n",
            "Epoch 9/10\n",
            "3701/3701 [==============================] - 52s 14ms/step - loss: 0.2567 - accuracy: 0.8898 - val_loss: 0.3105 - val_accuracy: 0.8645\n",
            "Epoch 10/10\n",
            "3701/3701 [==============================] - 48s 13ms/step - loss: 0.2497 - accuracy: 0.8954 - val_loss: 0.3057 - val_accuracy: 0.8600\n"
          ]
        }
      ],
      "source": [
        "history2 = model2.fit(train_embeddings, train_labels, epochs=10, batch_size=16, validation_data=(test_embeddings, test_labels))"
      ]
    },
    {
      "cell_type": "code",
      "execution_count": null,
      "metadata": {
        "colab": {
          "base_uri": "https://localhost:8080/"
        },
        "id": "5-YYrOCGpc-k",
        "outputId": "5f98aee4-4c07-4a66-ed96-f81e590ba201"
      },
      "outputs": [
        {
          "output_type": "stream",
          "name": "stdout",
          "text": [
            "477/477 - 3s - loss: 0.3057 - accuracy: 0.8600 - 3s/epoch - 5ms/step\n",
            "477/477 [==============================] - 3s 5ms/step\n",
            "Test Accuracy: 0.8600105047225952\n",
            "Test F1 Score: 0.8784599612712154\n",
            "Test Recall: 0.9300530631934395\n",
            "Precision: 0.8322900928124326\n"
          ]
        }
      ],
      "source": [
        "test_loss, test_acc = model2.evaluate(test_embeddings, test_labels, verbose=2)\n",
        "\n",
        "y_pred = model2.predict(test_embeddings)\n",
        "y_pred = (y_pred > 0.5).astype('int32')\n",
        "\n",
        "f1 = f1_score(test_labels, y_pred)\n",
        "recall = recall_score(test_labels, y_pred)\n",
        "precision = precision_score(test_labels, y_pred)\n",
        "\n",
        "print(\"Test Accuracy:\", test_acc)\n",
        "print(\"Test F1 Score:\", f1)\n",
        "print(\"Test Recall:\", recall)\n",
        "print(\"Precision:\", precision)"
      ]
    },
    {
      "cell_type": "code",
      "execution_count": null,
      "metadata": {
        "colab": {
          "base_uri": "https://localhost:8080/"
        },
        "id": "iaUS-5ebBV94",
        "outputId": "e29d5a9d-c739-498c-c33c-1c32484dac91"
      },
      "outputs": [
        {
          "output_type": "stream",
          "name": "stdout",
          "text": [
            "Model: \"sequential_8\"\n",
            "_________________________________________________________________\n",
            " Layer (type)                Output Shape              Param #   \n",
            "=================================================================\n",
            " conv1d_32 (Conv1D)          (None, 764, 64)           384       \n",
            "                                                                 \n",
            " max_pooling1d_24 (MaxPoolin  (None, 382, 64)          0         \n",
            " g1D)                                                            \n",
            "                                                                 \n",
            " conv1d_33 (Conv1D)          (None, 378, 64)           20544     \n",
            "                                                                 \n",
            " max_pooling1d_25 (MaxPoolin  (None, 189, 64)          0         \n",
            " g1D)                                                            \n",
            "                                                                 \n",
            " conv1d_34 (Conv1D)          (None, 185, 64)           20544     \n",
            "                                                                 \n",
            " lstm_1 (LSTM)               (None, 185, 64)           33024     \n",
            "                                                                 \n",
            " dropout_13 (Dropout)        (None, 185, 64)           0         \n",
            "                                                                 \n",
            " batch_normalization_1 (Batc  (None, 185, 64)          256       \n",
            " hNormalization)                                                 \n",
            "                                                                 \n",
            " dense_22 (Dense)            (None, 185, 64)           4160      \n",
            "                                                                 \n",
            " dropout_14 (Dropout)        (None, 185, 64)           0         \n",
            "                                                                 \n",
            " flatten_10 (Flatten)        (None, 11840)             0         \n",
            "                                                                 \n",
            " dense_23 (Dense)            (None, 1)                 11841     \n",
            "                                                                 \n",
            "=================================================================\n",
            "Total params: 90,753\n",
            "Trainable params: 90,625\n",
            "Non-trainable params: 128\n",
            "_________________________________________________________________\n"
          ]
        }
      ],
      "source": [
        "model2.summary()"
      ]
    },
    {
      "cell_type": "code",
      "execution_count": null,
      "metadata": {
        "colab": {
          "base_uri": "https://localhost:8080/",
          "height": 1000
        },
        "id": "d3KHiJvbo1bc",
        "outputId": "5188edae-5cf6-4540-adf1-63bacf020fa5"
      },
      "outputs": [
        {
          "output_type": "display_data",
          "data": {
            "text/plain": [
              "<Figure size 640x480 with 1 Axes>"
            ],
            "image/png": "[encoded data removed]"
          },
          "metadata": {}
        },
        {
          "output_type": "display_data",
          "data": {
            "text/plain": [
              "<Figure size 640x480 with 1 Axes>"
            ],
            "image/png": "[encoded data removed]"
          },
          "metadata": {}
        },
        {
          "output_type": "stream",
          "name": "stdout",
          "text": [
            "477/477 [==============================] - 2s 5ms/step\n"
          ]
        },
        {
          "output_type": "display_data",
          "data": {
            "text/plain": [
              "<Figure size 640x480 with 1 Axes>"
            ],
            "image/png": "[encoded data removed]"
          },
          "metadata": {}
        },
        {
          "output_type": "stream",
          "name": "stdout",
          "text": [
            "              precision    recall  f1-score   support\n",
            "\n",
            "           0       0.90      0.78      0.83      6952\n",
            "           1       0.83      0.93      0.88      8292\n",
            "\n",
            "    accuracy                           0.86     15244\n",
            "   macro avg       0.87      0.85      0.86     15244\n",
            "weighted avg       0.86      0.86      0.86     15244\n",
            "\n"
          ]
        }
      ],
      "source": [
        "plot_history(history2,model2)"
      ]
    },
    {
      "cell_type": "markdown",
      "source": [
        "# FakeBert"
      ],
      "metadata": {
        "id": "tAfUvNw9XRkm"
      }
    },
    {
      "cell_type": "code",
      "execution_count": null,
      "metadata": {
        "id": "JsolXXxw7CdF"
      },
      "outputs": [],
      "source": [
        "inputs = Input(shape=(768, 1))\n",
        "conv1 = Conv1D(128, 3, activation='relu', padding='same')(inputs)\n",
        "maxpool1 = MaxPooling1D(pool_size=2)(conv1)\n",
        "conv2 = Conv1D(128, 4, activation='relu', padding='same')(inputs)\n",
        "maxpool2 = MaxPooling1D(pool_size=2)(conv2)\n",
        "conv3 = Conv1D(128, 5, activation='relu', padding='same')(inputs)\n",
        "maxpool3 = MaxPooling1D(pool_size=2)(conv3)\n",
        "concat = Concatenate()([maxpool1, maxpool2, maxpool3])\n",
        "conv4 = Conv1D(128, 5, activation='relu', padding='same')(concat)\n",
        "maxpool4 = MaxPooling1D(pool_size=2)(conv4)\n",
        "flatten = Flatten()(maxpool4)\n",
        "dense1 = Dense(384, activation='relu')(flatten)\n",
        "dropout1 = Dropout(0.5)(dense1)\n",
        "dense2 = Dense(128, activation='relu')(dropout1)\n",
        "dropout2 = Dropout(0.5)(dense2)\n",
        "output = Dense(1, activation='sigmoid')(dropout2)\n",
        "\n",
        "model3 = Model(inputs=inputs, outputs=output)"
      ]
    },
    {
      "cell_type": "code",
      "execution_count": null,
      "metadata": {
        "id": "1jUX1mul86A-"
      },
      "outputs": [],
      "source": [
        "model3.compile(loss='binary_crossentropy', optimizer='adam', metrics=['accuracy'])"
      ]
    },
    {
      "cell_type": "code",
      "execution_count": null,
      "metadata": {
        "colab": {
          "base_uri": "https://localhost:8080/"
        },
        "id": "9LKHPjsu86BN",
        "outputId": "5156e81d-79af-45d4-e70d-d9a28fbe1d05"
      },
      "outputs": [
        {
          "output_type": "stream",
          "name": "stdout",
          "text": [
            "Epoch 1/10\n",
            "3701/3701 [==============================] - 45s 11ms/step - loss: 0.3519 - accuracy: 0.8385 - val_loss: 0.3315 - val_accuracy: 0.8328\n",
            "Epoch 2/10\n",
            "3701/3701 [==============================] - 44s 12ms/step - loss: 0.2985 - accuracy: 0.8677 - val_loss: 0.3112 - val_accuracy: 0.8328\n",
            "Epoch 3/10\n",
            "3701/3701 [==============================] - 41s 11ms/step - loss: 0.2805 - accuracy: 0.8760 - val_loss: 0.2848 - val_accuracy: 0.8600\n",
            "Epoch 4/10\n",
            "3701/3701 [==============================] - 43s 12ms/step - loss: 0.2674 - accuracy: 0.8818 - val_loss: 0.2763 - val_accuracy: 0.8539\n",
            "Epoch 5/10\n",
            "3701/3701 [==============================] - 42s 11ms/step - loss: 0.2592 - accuracy: 0.8848 - val_loss: 0.2786 - val_accuracy: 0.8617\n",
            "Epoch 6/10\n",
            "3701/3701 [==============================] - 42s 11ms/step - loss: 0.2497 - accuracy: 0.8911 - val_loss: 0.2751 - val_accuracy: 0.8723\n",
            "Epoch 7/10\n",
            "3701/3701 [==============================] - 43s 12ms/step - loss: 0.2417 - accuracy: 0.8942 - val_loss: 0.2768 - val_accuracy: 0.8753\n",
            "Epoch 8/10\n",
            "3701/3701 [==============================] - 43s 12ms/step - loss: 0.2312 - accuracy: 0.8996 - val_loss: 0.2806 - val_accuracy: 0.8592\n",
            "Epoch 9/10\n",
            "3701/3701 [==============================] - 42s 11ms/step - loss: 0.2252 - accuracy: 0.9018 - val_loss: 0.2753 - val_accuracy: 0.8637\n",
            "Epoch 10/10\n",
            "3701/3701 [==============================] - 43s 12ms/step - loss: 0.2193 - accuracy: 0.9047 - val_loss: 0.2739 - val_accuracy: 0.8699\n"
          ]
        }
      ],
      "source": [
        "history3 = model3.fit(train_embeddings, train_labels, epochs=10, batch_size=16, validation_data=(test_embeddings, test_labels))"
      ]
    },
    {
      "cell_type": "code",
      "execution_count": null,
      "metadata": {
        "colab": {
          "base_uri": "https://localhost:8080/"
        },
        "id": "Z-lMNlwb86BN",
        "outputId": "b731c35c-df3e-44c5-d18c-307ce990c884"
      },
      "outputs": [
        {
          "output_type": "stream",
          "name": "stdout",
          "text": [
            "477/477 - 3s - loss: 0.2739 - accuracy: 0.8699 - 3s/epoch - 6ms/step\n",
            "477/477 [==============================] - 2s 5ms/step\n",
            "Test Accuracy: 0.8699160218238831\n",
            "Test F1 Score: 0.8873103369892595\n",
            "Test Recall: 0.9415098890496865\n",
            "Precision: 0.8390112842557764\n"
          ]
        }
      ],
      "source": [
        "test_loss, test_acc = model3.evaluate(test_embeddings, test_labels, verbose=2)\n",
        "\n",
        "y_pred = model3.predict(test_embeddings)\n",
        "y_pred = (y_pred > 0.5).astype('int32')\n",
        "\n",
        "f1 = f1_score(test_labels, y_pred)\n",
        "recall = recall_score(test_labels, y_pred)\n",
        "precision = precision_score(test_labels, y_pred)\n",
        "\n",
        "print(\"Test Accuracy:\", test_acc)\n",
        "print(\"Test F1 Score:\", f1)\n",
        "print(\"Test Recall:\", recall)\n",
        "print(\"Precision:\", precision)"
      ]
    },
    {
      "cell_type": "code",
      "execution_count": null,
      "metadata": {
        "colab": {
          "base_uri": "https://localhost:8080/"
        },
        "id": "iLUfB_1M86BN",
        "outputId": "e5ccdc66-23b2-4173-eba8-804c843ee47e"
      },
      "outputs": [
        {
          "output_type": "stream",
          "name": "stdout",
          "text": [
            "Model: \"model_1\"\n",
            "__________________________________________________________________________________________________\n",
            " Layer (type)                   Output Shape         Param #     Connected to                     \n",
            "==================================================================================================\n",
            " input_2 (InputLayer)           [(None, 768, 1)]     0           []                               \n",
            "                                                                                                  \n",
            " conv1d_28 (Conv1D)             (None, 768, 128)     512         ['input_2[0][0]']                \n",
            "                                                                                                  \n",
            " conv1d_29 (Conv1D)             (None, 768, 128)     640         ['input_2[0][0]']                \n",
            "                                                                                                  \n",
            " conv1d_30 (Conv1D)             (None, 768, 128)     768         ['input_2[0][0]']                \n",
            "                                                                                                  \n",
            " max_pooling1d_20 (MaxPooling1D  (None, 384, 128)    0           ['conv1d_28[0][0]']              \n",
            " )                                                                                                \n",
            "                                                                                                  \n",
            " max_pooling1d_21 (MaxPooling1D  (None, 384, 128)    0           ['conv1d_29[0][0]']              \n",
            " )                                                                                                \n",
            "                                                                                                  \n",
            " max_pooling1d_22 (MaxPooling1D  (None, 384, 128)    0           ['conv1d_30[0][0]']              \n",
            " )                                                                                                \n",
            "                                                                                                  \n",
            " concatenate_1 (Concatenate)    (None, 384, 384)     0           ['max_pooling1d_20[0][0]',       \n",
            "                                                                  'max_pooling1d_21[0][0]',       \n",
            "                                                                  'max_pooling1d_22[0][0]']       \n",
            "                                                                                                  \n",
            " conv1d_31 (Conv1D)             (None, 384, 128)     245888      ['concatenate_1[0][0]']          \n",
            "                                                                                                  \n",
            " max_pooling1d_23 (MaxPooling1D  (None, 192, 128)    0           ['conv1d_31[0][0]']              \n",
            " )                                                                                                \n",
            "                                                                                                  \n",
            " flatten_9 (Flatten)            (None, 24576)        0           ['max_pooling1d_23[0][0]']       \n",
            "                                                                                                  \n",
            " dense_19 (Dense)               (None, 384)          9437568     ['flatten_9[0][0]']              \n",
            "                                                                                                  \n",
            " dropout_11 (Dropout)           (None, 384)          0           ['dense_19[0][0]']               \n",
            "                                                                                                  \n",
            " dense_20 (Dense)               (None, 128)          49280       ['dropout_11[0][0]']             \n",
            "                                                                                                  \n",
            " dropout_12 (Dropout)           (None, 128)          0           ['dense_20[0][0]']               \n",
            "                                                                                                  \n",
            " dense_21 (Dense)               (None, 1)            129         ['dropout_12[0][0]']             \n",
            "                                                                                                  \n",
            "==================================================================================================\n",
            "Total params: 9,734,785\n",
            "Trainable params: 9,734,785\n",
            "Non-trainable params: 0\n",
            "__________________________________________________________________________________________________\n"
          ]
        }
      ],
      "source": [
        "model3.summary()"
      ]
    },
    {
      "cell_type": "code",
      "source": [
        "y_pred = model3.predict(test_embeddings)\n",
        "y_pred = (y_pred > 0.5).astype(int)\n",
        "cm = confusion_matrix(test_labels, y_pred)\n",
        "print(cm)\n",
        "sns.heatmap(cm, annot=True, cmap='Blues', fmt='g')\n",
        "plt.xlabel('Predicted label')\n",
        "plt.ylabel('True label')\n",
        "plt.show()"
      ],
      "metadata": {
        "colab": {
          "base_uri": "https://localhost:8080/",
          "height": 510
        },
        "id": "Uz1yrSXHcffi",
        "outputId": "6a43c94a-6ef6-401d-ac3d-6fe205a209f1"
      },
      "execution_count": null,
      "outputs": [
        {
          "output_type": "stream",
          "name": "stdout",
          "text": [
            "477/477 [==============================] - 2s 5ms/step\n",
            "[[5454 1498]\n",
            " [ 485 7807]]\n"
          ]
        },
        {
          "output_type": "display_data",
          "data": {
            "text/plain": [
              "<Figure size 640x480 with 2 Axes>"
            ],
            "image/png": "[encoded data removed]"
          },
          "metadata": {}
        }
      ]
    }
  ]
}