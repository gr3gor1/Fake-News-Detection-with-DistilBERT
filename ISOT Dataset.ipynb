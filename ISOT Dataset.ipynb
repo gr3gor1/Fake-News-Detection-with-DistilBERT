{
  "cells": [
    {
      "cell_type": "markdown",
      "metadata": {
        "id": "uaaCIxykTKYB"
      },
      "source": [
        "# **ISOT Dataset and Embeddings**"
      ]
    },
    {
      "cell_type": "code",
      "execution_count": null,
      "metadata": {
        "colab": {
          "base_uri": "https://localhost:8080/"
        },
        "id": "fDYdsOeNvjLV",
        "outputId": "b725283a-6f57-4216-b219-4218fe731413"
      },
      "outputs": [
        {
          "output_type": "stream",
          "name": "stdout",
          "text": [
            "Looking in indexes: https://pypi.org/simple, https://us-python.pkg.dev/colab-wheels/public/simple/\n",
            "Collecting transformers\n",
            "  Downloading transformers-4.28.1-py3-none-any.whl (7.0 MB)\n",
            "\u001b[2K     \u001b[90m━━━━━━━━━━━━━━━━━━━━━━━━━━━━━━━━━━━━━━━━\u001b[0m \u001b[32m7.0/7.0 MB\u001b[0m \u001b[31m36.1 MB/s\u001b[0m eta \u001b[36m0:00:00\u001b[0m\n",
            "\u001b[?25hRequirement already satisfied: numpy>=1.17 in /usr/local/lib/python3.10/dist-packages (from transformers) (1.22.4)\n",
            "Collecting tokenizers!=0.11.3,<0.14,>=0.11.1\n",
            "  Downloading tokenizers-0.13.3-cp310-cp310-manylinux_2_17_x86_64.manylinux2014_x86_64.whl (7.8 MB)\n",
            "\u001b[2K     \u001b[90m━━━━━━━━━━━━━━━━━━━━━━━━━━━━━━━━━━━━━━━━\u001b[0m \u001b[32m7.8/7.8 MB\u001b[0m \u001b[31m101.5 MB/s\u001b[0m eta \u001b[36m0:00:00\u001b[0m\n",
            "\u001b[?25hCollecting huggingface-hub<1.0,>=0.11.0\n",
            "  Downloading huggingface_hub-0.14.1-py3-none-any.whl (224 kB)\n",
            "\u001b[2K     \u001b[90m━━━━━━━━━━━━━━━━━━━━━━━━━━━━━━━━━━━━━━\u001b[0m \u001b[32m224.5/224.5 kB\u001b[0m \u001b[31m30.0 MB/s\u001b[0m eta \u001b[36m0:00:00\u001b[0m\n",
            "\u001b[?25hRequirement already satisfied: regex!=2019.12.17 in /usr/local/lib/python3.10/dist-packages (from transformers) (2022.10.31)\n",
            "Requirement already satisfied: filelock in /usr/local/lib/python3.10/dist-packages (from transformers) (3.12.0)\n",
            "Requirement already satisfied: pyyaml>=5.1 in /usr/local/lib/python3.10/dist-packages (from transformers) (6.0)\n",
            "Requirement already satisfied: requests in /usr/local/lib/python3.10/dist-packages (from transformers) (2.27.1)\n",
            "Requirement already satisfied: tqdm>=4.27 in /usr/local/lib/python3.10/dist-packages (from transformers) (4.65.0)\n",
            "Requirement already satisfied: packaging>=20.0 in /usr/local/lib/python3.10/dist-packages (from transformers) (23.1)\n",
            "Requirement already satisfied: typing-extensions>=3.7.4.3 in /usr/local/lib/python3.10/dist-packages (from huggingface-hub<1.0,>=0.11.0->transformers) (4.5.0)\n",
            "Requirement already satisfied: fsspec in /usr/local/lib/python3.10/dist-packages (from huggingface-hub<1.0,>=0.11.0->transformers) (2023.4.0)\n",
            "Requirement already satisfied: certifi>=2017.4.17 in /usr/local/lib/python3.10/dist-packages (from requests->transformers) (2022.12.7)\n",
            "Requirement already satisfied: idna<4,>=2.5 in /usr/local/lib/python3.10/dist-packages (from requests->transformers) (3.4)\n",
            "Requirement already satisfied: charset-normalizer~=2.0.0 in /usr/local/lib/python3.10/dist-packages (from requests->transformers) (2.0.12)\n",
            "Requirement already satisfied: urllib3<1.27,>=1.21.1 in /usr/local/lib/python3.10/dist-packages (from requests->transformers) (1.26.15)\n",
            "Installing collected packages: tokenizers, huggingface-hub, transformers\n",
            "Successfully installed huggingface-hub-0.14.1 tokenizers-0.13.3 transformers-4.28.1\n",
            "Looking in indexes: https://pypi.org/simple, https://us-python.pkg.dev/colab-wheels/public/simple/\n",
            "Collecting sentencepiece\n",
            "  Downloading sentencepiece-0.1.99-cp310-cp310-manylinux_2_17_x86_64.manylinux2014_x86_64.whl (1.3 MB)\n",
            "\u001b[2K     \u001b[90m━━━━━━━━━━━━━━━━━━━━━━━━━━━━━━━━━━━━━━━━\u001b[0m \u001b[32m1.3/1.3 MB\u001b[0m \u001b[31m12.0 MB/s\u001b[0m eta \u001b[36m0:00:00\u001b[0m\n",
            "\u001b[?25hInstalling collected packages: sentencepiece\n",
            "Successfully installed sentencepiece-0.1.99\n"
          ]
        }
      ],
      "source": [
        "!pip install transformers\n",
        "!pip install sentencepiece"
      ]
    },
    {
      "cell_type": "code",
      "execution_count": null,
      "metadata": {
        "colab": {
          "base_uri": "https://localhost:8080/"
        },
        "id": "I4aS9lZdpC3R",
        "outputId": "8e267e05-9aa9-4141-fef2-595cb2b50746"
      },
      "outputs": [
        {
          "output_type": "stream",
          "name": "stdout",
          "text": [
            "Mounted at /content/drive\n"
          ]
        }
      ],
      "source": [
        "from google.colab import drive\n",
        "drive.mount('/content/drive')"
      ]
    },
    {
      "cell_type": "code",
      "execution_count": null,
      "metadata": {
        "id": "6aE0WVHzizOv"
      },
      "outputs": [],
      "source": [
        "from google.colab import drive\n",
        "import tensorflow as tf\n",
        "import seaborn as sns\n",
        "from sklearn.metrics import accuracy_score, recall_score, f1_score\n",
        "from sklearn.metrics import precision_score\n",
        "import matplotlib.pyplot as plt\n",
        "from sklearn.metrics import confusion_matrix\n",
        "import pandas as pd\n",
        "import numpy as np\n",
        "from sklearn.preprocessing import LabelEncoder\n",
        "import transformers\n",
        "from transformers import DistilBertTokenizer, TFDistilBertModel, TFDistilBertForSequenceClassification, DistilBertTokenizerFast\n",
        "from transformers import MobileBertTokenizer, TFMobileBertModel\n",
        "from transformers import AutoTokenizer, TFAlbertModel\n",
        "from sklearn.model_selection import train_test_split\n",
        "from tensorflow.keras.models import Sequential, Model\n",
        "from tensorflow.keras.layers import Conv1D, Conv2D,MaxPooling1D, MaxPooling2D, Flatten, Dense, Dropout, LSTM, BatchNormalization, Input, Concatenate\n",
        "import torch\n",
        "import requests\n",
        "from tensorflow.keras import activations, optimizers, losses\n",
        "from tensorflow.keras.callbacks import EarlyStopping"
      ]
    },
    {
      "cell_type": "code",
      "execution_count": null,
      "metadata": {
        "id": "sYtCFcErmVEy"
      },
      "outputs": [],
      "source": [
        "path = '/content/drive/MyDrive/NEWS_DATASET/final.csv'\n",
        "df = pd.read_csv(path,delimiter=',')"
      ]
    },
    {
      "cell_type": "code",
      "execution_count": null,
      "metadata": {
        "colab": {
          "base_uri": "https://localhost:8080/",
          "height": 206
        },
        "id": "8Xf-Bd89rH5K",
        "outputId": "93069054-2244-4109-d3ee-385261cdb3da"
      },
      "outputs": [
        {
          "output_type": "execute_result",
          "data": {
            "text/plain": [
              "                                               title  \\\n",
              "0  China says Trump plan to move embassy in Israe...   \n",
              "1  India says ready for stronger U.S. ties after ...   \n",
              "2  A PRESIDENT WHO’S UNSERIOUS AND UNDIGNIFIED…DO...   \n",
              "3  #DNC GIVES ANTI-HILLARY Dems Free Speech Cage ...   \n",
              "4  Castro meets North Korea minister amid hope Cu...   \n",
              "\n",
              "                                                text label  \n",
              "0  BEIJING (Reuters) - China expressed concern on...  true  \n",
              "1  NEW DELHI (Reuters) - India stood ready to fur...  true  \n",
              "2  America deserves so much better and should get...  fake  \n",
              "3  It s just cleaner that way You know, keeping a...  fake  \n",
              "4  HAVANA (Reuters) - Cuban President Raul Castro...  true  "
            ],
            "text/html": [
              "\n",
              "  <div id=\"df-3f07e74e-8660-4cf3-a6c2-9f87758346c1\">\n",
              "    <div class=\"colab-df-container\">\n",
              "      <div>\n",
              "<style scoped>\n",
              "    .dataframe tbody tr th:only-of-type {\n",
              "        vertical-align: middle;\n",
              "    }\n",
              "\n",
              "    .dataframe tbody tr th {\n",
              "        vertical-align: top;\n",
              "    }\n",
              "\n",
              "    .dataframe thead th {\n",
              "        text-align: right;\n",
              "    }\n",
              "</style>\n",
              "<table border=\"1\" class=\"dataframe\">\n",
              "  <thead>\n",
              "    <tr style=\"text-align: right;\">\n",
              "      <th></th>\n",
              "      <th>title</th>\n",
              "      <th>text</th>\n",
              "      <th>label</th>\n",
              "    </tr>\n",
              "  </thead>\n",
              "  <tbody>\n",
              "    <tr>\n",
              "      <th>0</th>\n",
              "      <td>China says Trump plan to move embassy in Israe...</td>\n",
              "      <td>BEIJING (Reuters) - China expressed concern on...</td>\n",
              "      <td>true</td>\n",
              "    </tr>\n",
              "    <tr>\n",
              "      <th>1</th>\n",
              "      <td>India says ready for stronger U.S. ties after ...</td>\n",
              "      <td>NEW DELHI (Reuters) - India stood ready to fur...</td>\n",
              "      <td>true</td>\n",
              "    </tr>\n",
              "    <tr>\n",
              "      <th>2</th>\n",
              "      <td>A PRESIDENT WHO’S UNSERIOUS AND UNDIGNIFIED…DO...</td>\n",
              "      <td>America deserves so much better and should get...</td>\n",
              "      <td>fake</td>\n",
              "    </tr>\n",
              "    <tr>\n",
              "      <th>3</th>\n",
              "      <td>#DNC GIVES ANTI-HILLARY Dems Free Speech Cage ...</td>\n",
              "      <td>It s just cleaner that way You know, keeping a...</td>\n",
              "      <td>fake</td>\n",
              "    </tr>\n",
              "    <tr>\n",
              "      <th>4</th>\n",
              "      <td>Castro meets North Korea minister amid hope Cu...</td>\n",
              "      <td>HAVANA (Reuters) - Cuban President Raul Castro...</td>\n",
              "      <td>true</td>\n",
              "    </tr>\n",
              "  </tbody>\n",
              "</table>\n",
              "</div>\n",
              "      <button class=\"colab-df-convert\" onclick=\"convertToInteractive('df-3f07e74e-8660-4cf3-a6c2-9f87758346c1')\"\n",
              "              title=\"Convert this dataframe to an interactive table.\"\n",
              "              style=\"display:none;\">\n",
              "        \n",
              "  <svg xmlns=\"http://www.w3.org/2000/svg\" height=\"24px\"viewBox=\"0 0 24 24\"\n",
              "       width=\"24px\">\n",
              "    <path d=\"M0 0h24v24H0V0z\" fill=\"none\"/>\n",
              "    <path d=\"M18.56 5.44l.94 2.06.94-2.06 2.06-.94-2.06-.94-.94-2.06-.94 2.06-2.06.94zm-11 1L8.5 8.5l.94-2.06 2.06-.94-2.06-.94L8.5 2.5l-.94 2.06-2.06.94zm10 10l.94 2.06.94-2.06 2.06-.94-2.06-.94-.94-2.06-.94 2.06-2.06.94z\"/><path d=\"M17.41 7.96l-1.37-1.37c-.4-.4-.92-.59-1.43-.59-.52 0-1.04.2-1.43.59L10.3 9.45l-7.72 7.72c-.78.78-.78 2.05 0 2.83L4 21.41c.39.39.9.59 1.41.59.51 0 1.02-.2 1.41-.59l7.78-7.78 2.81-2.81c.8-.78.8-2.07 0-2.86zM5.41 20L4 18.59l7.72-7.72 1.47 1.35L5.41 20z\"/>\n",
              "  </svg>\n",
              "      </button>\n",
              "      \n",
              "  <style>\n",
              "    .colab-df-container {\n",
              "      display:flex;\n",
              "      flex-wrap:wrap;\n",
              "      gap: 12px;\n",
              "    }\n",
              "\n",
              "    .colab-df-convert {\n",
              "      background-color: #E8F0FE;\n",
              "      border: none;\n",
              "      border-radius: 50%;\n",
              "      cursor: pointer;\n",
              "      display: none;\n",
              "      fill: #1967D2;\n",
              "      height: 32px;\n",
              "      padding: 0 0 0 0;\n",
              "      width: 32px;\n",
              "    }\n",
              "\n",
              "    .colab-df-convert:hover {\n",
              "      background-color: #E2EBFA;\n",
              "      box-shadow: 0px 1px 2px rgba(60, 64, 67, 0.3), 0px 1px 3px 1px rgba(60, 64, 67, 0.15);\n",
              "      fill: #174EA6;\n",
              "    }\n",
              "\n",
              "    [theme=dark] .colab-df-convert {\n",
              "      background-color: #3B4455;\n",
              "      fill: #D2E3FC;\n",
              "    }\n",
              "\n",
              "    [theme=dark] .colab-df-convert:hover {\n",
              "      background-color: #434B5C;\n",
              "      box-shadow: 0px 1px 3px 1px rgba(0, 0, 0, 0.15);\n",
              "      filter: drop-shadow(0px 1px 2px rgba(0, 0, 0, 0.3));\n",
              "      fill: #FFFFFF;\n",
              "    }\n",
              "  </style>\n",
              "\n",
              "      <script>\n",
              "        const buttonEl =\n",
              "          document.querySelector('#df-3f07e74e-8660-4cf3-a6c2-9f87758346c1 button.colab-df-convert');\n",
              "        buttonEl.style.display =\n",
              "          google.colab.kernel.accessAllowed ? 'block' : 'none';\n",
              "\n",
              "        async function convertToInteractive(key) {\n",
              "          const element = document.querySelector('#df-3f07e74e-8660-4cf3-a6c2-9f87758346c1');\n",
              "          const dataTable =\n",
              "            await google.colab.kernel.invokeFunction('convertToInteractive',\n",
              "                                                     [key], {});\n",
              "          if (!dataTable) return;\n",
              "\n",
              "          const docLinkHtml = 'Like what you see? Visit the ' +\n",
              "            '<a target=\"_blank\" href=https://colab.research.google.com/notebooks/data_table.ipynb>data table notebook</a>'\n",
              "            + ' to learn more about interactive tables.';\n",
              "          element.innerHTML = '';\n",
              "          dataTable['output_type'] = 'display_data';\n",
              "          await google.colab.output.renderOutput(dataTable, element);\n",
              "          const docLink = document.createElement('div');\n",
              "          docLink.innerHTML = docLinkHtml;\n",
              "          element.appendChild(docLink);\n",
              "        }\n",
              "      </script>\n",
              "    </div>\n",
              "  </div>\n",
              "  "
            ]
          },
          "metadata": {},
          "execution_count": 5
        }
      ],
      "source": [
        "def strip(row):\n",
        "  return row['text'].strip('\"')\n",
        "\n",
        "df['text'] = df.apply(strip,axis=1)\n",
        "df.head()"
      ]
    },
    {
      "cell_type": "code",
      "execution_count": null,
      "metadata": {
        "colab": {
          "base_uri": "https://localhost:8080/",
          "height": 206
        },
        "id": "3muLE3mp4oO6",
        "outputId": "46e25e4b-eeba-42e1-e1ab-36cf2da5a6ad"
      },
      "outputs": [
        {
          "output_type": "execute_result",
          "data": {
            "text/plain": [
              "                                               title  \\\n",
              "0  China says Trump plan to move embassy in Israe...   \n",
              "1  India says ready for stronger U.S. ties after ...   \n",
              "2  A PRESIDENT WHO’S UNSERIOUS AND UNDIGNIFIED…DO...   \n",
              "3  #DNC GIVES ANTI-HILLARY Dems Free Speech Cage ...   \n",
              "4  Castro meets North Korea minister amid hope Cu...   \n",
              "\n",
              "                                                text  label  \n",
              "0  BEIJING (Reuters) - China expressed concern on...      1  \n",
              "1  NEW DELHI (Reuters) - India stood ready to fur...      1  \n",
              "2  America deserves so much better and should get...      0  \n",
              "3  It s just cleaner that way You know, keeping a...      0  \n",
              "4  HAVANA (Reuters) - Cuban President Raul Castro...      1  "
            ],
            "text/html": [
              "\n",
              "  <div id=\"df-e173d220-3d37-4f4b-ab11-ce4f26f48067\">\n",
              "    <div class=\"colab-df-container\">\n",
              "      <div>\n",
              "<style scoped>\n",
              "    .dataframe tbody tr th:only-of-type {\n",
              "        vertical-align: middle;\n",
              "    }\n",
              "\n",
              "    .dataframe tbody tr th {\n",
              "        vertical-align: top;\n",
              "    }\n",
              "\n",
              "    .dataframe thead th {\n",
              "        text-align: right;\n",
              "    }\n",
              "</style>\n",
              "<table border=\"1\" class=\"dataframe\">\n",
              "  <thead>\n",
              "    <tr style=\"text-align: right;\">\n",
              "      <th></th>\n",
              "      <th>title</th>\n",
              "      <th>text</th>\n",
              "      <th>label</th>\n",
              "    </tr>\n",
              "  </thead>\n",
              "  <tbody>\n",
              "    <tr>\n",
              "      <th>0</th>\n",
              "      <td>China says Trump plan to move embassy in Israe...</td>\n",
              "      <td>BEIJING (Reuters) - China expressed concern on...</td>\n",
              "      <td>1</td>\n",
              "    </tr>\n",
              "    <tr>\n",
              "      <th>1</th>\n",
              "      <td>India says ready for stronger U.S. ties after ...</td>\n",
              "      <td>NEW DELHI (Reuters) - India stood ready to fur...</td>\n",
              "      <td>1</td>\n",
              "    </tr>\n",
              "    <tr>\n",
              "      <th>2</th>\n",
              "      <td>A PRESIDENT WHO’S UNSERIOUS AND UNDIGNIFIED…DO...</td>\n",
              "      <td>America deserves so much better and should get...</td>\n",
              "      <td>0</td>\n",
              "    </tr>\n",
              "    <tr>\n",
              "      <th>3</th>\n",
              "      <td>#DNC GIVES ANTI-HILLARY Dems Free Speech Cage ...</td>\n",
              "      <td>It s just cleaner that way You know, keeping a...</td>\n",
              "      <td>0</td>\n",
              "    </tr>\n",
              "    <tr>\n",
              "      <th>4</th>\n",
              "      <td>Castro meets North Korea minister amid hope Cu...</td>\n",
              "      <td>HAVANA (Reuters) - Cuban President Raul Castro...</td>\n",
              "      <td>1</td>\n",
              "    </tr>\n",
              "  </tbody>\n",
              "</table>\n",
              "</div>\n",
              "      <button class=\"colab-df-convert\" onclick=\"convertToInteractive('df-e173d220-3d37-4f4b-ab11-ce4f26f48067')\"\n",
              "              title=\"Convert this dataframe to an interactive table.\"\n",
              "              style=\"display:none;\">\n",
              "        \n",
              "  <svg xmlns=\"http://www.w3.org/2000/svg\" height=\"24px\"viewBox=\"0 0 24 24\"\n",
              "       width=\"24px\">\n",
              "    <path d=\"M0 0h24v24H0V0z\" fill=\"none\"/>\n",
              "    <path d=\"M18.56 5.44l.94 2.06.94-2.06 2.06-.94-2.06-.94-.94-2.06-.94 2.06-2.06.94zm-11 1L8.5 8.5l.94-2.06 2.06-.94-2.06-.94L8.5 2.5l-.94 2.06-2.06.94zm10 10l.94 2.06.94-2.06 2.06-.94-2.06-.94-.94-2.06-.94 2.06-2.06.94z\"/><path d=\"M17.41 7.96l-1.37-1.37c-.4-.4-.92-.59-1.43-.59-.52 0-1.04.2-1.43.59L10.3 9.45l-7.72 7.72c-.78.78-.78 2.05 0 2.83L4 21.41c.39.39.9.59 1.41.59.51 0 1.02-.2 1.41-.59l7.78-7.78 2.81-2.81c.8-.78.8-2.07 0-2.86zM5.41 20L4 18.59l7.72-7.72 1.47 1.35L5.41 20z\"/>\n",
              "  </svg>\n",
              "      </button>\n",
              "      \n",
              "  <style>\n",
              "    .colab-df-container {\n",
              "      display:flex;\n",
              "      flex-wrap:wrap;\n",
              "      gap: 12px;\n",
              "    }\n",
              "\n",
              "    .colab-df-convert {\n",
              "      background-color: #E8F0FE;\n",
              "      border: none;\n",
              "      border-radius: 50%;\n",
              "      cursor: pointer;\n",
              "      display: none;\n",
              "      fill: #1967D2;\n",
              "      height: 32px;\n",
              "      padding: 0 0 0 0;\n",
              "      width: 32px;\n",
              "    }\n",
              "\n",
              "    .colab-df-convert:hover {\n",
              "      background-color: #E2EBFA;\n",
              "      box-shadow: 0px 1px 2px rgba(60, 64, 67, 0.3), 0px 1px 3px 1px rgba(60, 64, 67, 0.15);\n",
              "      fill: #174EA6;\n",
              "    }\n",
              "\n",
              "    [theme=dark] .colab-df-convert {\n",
              "      background-color: #3B4455;\n",
              "      fill: #D2E3FC;\n",
              "    }\n",
              "\n",
              "    [theme=dark] .colab-df-convert:hover {\n",
              "      background-color: #434B5C;\n",
              "      box-shadow: 0px 1px 3px 1px rgba(0, 0, 0, 0.15);\n",
              "      filter: drop-shadow(0px 1px 2px rgba(0, 0, 0, 0.3));\n",
              "      fill: #FFFFFF;\n",
              "    }\n",
              "  </style>\n",
              "\n",
              "      <script>\n",
              "        const buttonEl =\n",
              "          document.querySelector('#df-e173d220-3d37-4f4b-ab11-ce4f26f48067 button.colab-df-convert');\n",
              "        buttonEl.style.display =\n",
              "          google.colab.kernel.accessAllowed ? 'block' : 'none';\n",
              "\n",
              "        async function convertToInteractive(key) {\n",
              "          const element = document.querySelector('#df-e173d220-3d37-4f4b-ab11-ce4f26f48067');\n",
              "          const dataTable =\n",
              "            await google.colab.kernel.invokeFunction('convertToInteractive',\n",
              "                                                     [key], {});\n",
              "          if (!dataTable) return;\n",
              "\n",
              "          const docLinkHtml = 'Like what you see? Visit the ' +\n",
              "            '<a target=\"_blank\" href=https://colab.research.google.com/notebooks/data_table.ipynb>data table notebook</a>'\n",
              "            + ' to learn more about interactive tables.';\n",
              "          element.innerHTML = '';\n",
              "          dataTable['output_type'] = 'display_data';\n",
              "          await google.colab.output.renderOutput(dataTable, element);\n",
              "          const docLink = document.createElement('div');\n",
              "          docLink.innerHTML = docLinkHtml;\n",
              "          element.appendChild(docLink);\n",
              "        }\n",
              "      </script>\n",
              "    </div>\n",
              "  </div>\n",
              "  "
            ]
          },
          "metadata": {},
          "execution_count": 6
        }
      ],
      "source": [
        "label_encoder = LabelEncoder()\n",
        "label = df['label']\n",
        "labels_encoded = label_encoder.fit_transform(label)\n",
        "df['label'] = labels_encoded\n",
        "df.head()"
      ]
    },
    {
      "cell_type": "markdown",
      "metadata": {
        "id": "xEAfqU1KVrhe"
      },
      "source": [
        "## **DistilBERT - Train**"
      ]
    },
    {
      "cell_type": "code",
      "execution_count": null,
      "metadata": {
        "colab": {
          "base_uri": "https://localhost:8080/",
          "height": 264,
          "referenced_widgets": [
            "3ea3aa0a825f46f0bd43bb309050c7ee",
            "6c324dcb82e14b49a7155c4290c3189f",
            "f179145348074cb6b628591aa3388b2e",
            "16fb07df2d434019adeb230270079827",
            "ea0f17a1c0bf4ec8967361f5868d1754",
            "a09a68b6f212480692022e13f9562f14",
            "0ba113216a154b6cbb12f2832d53ddf6",
            "1a8c71e1a0be4054bba3095c7b59abe2",
            "318a01b9a1f74e26a749b0d9ec977023",
            "21e189f654fb4c158ab14698d66f73a2",
            "be4fbb0ecd3e42e794743d72d7997db4",
            "a282eee1c73d48cfb0d6844e91ab9007",
            "8100fbfd7a264c19997cc6f73d09ecdd",
            "e87bfab91bf844f69bc81a77a57eacd4",
            "5ebfdffd41a64c11a3c6f5ce87c8238f",
            "69dc2ba08f054b6dada8a71c07f35422",
            "d7451bb751d74e51b051170eee887414",
            "6c180ab26ad4466a8f91bd5d7523221a",
            "ca68e471a21048ee8c893796dc9a5135",
            "813ba4f76f3343d794a8a72b62266aca",
            "7e169aff710642099fc22d990dc5325e",
            "9011e1aefbdb40058eb393427ab236cd",
            "7d28a1bab2d742e5a34d331f6a25fd2a",
            "37f1898c3c9442ac8fc7de9817df3d13",
            "ec2e421eb8904893ad6ab7f625b87f3d",
            "a0f931e74d3c40e398775dcf6cd22b98",
            "65f9b84ba2c944bbb3dff30339ddf5a6",
            "4018691967d9462eae77ced94af3d899",
            "8b917fa6c2ad4068b2d161dbd4265ffb",
            "f5e4b7279a564817a6d8de7287d600ae",
            "2d8f2f3cb9194124a850de4daf5a1653",
            "009081e8bae74112b31f94d1eec6e128",
            "dc40d1f2dbf942978d12c72ad3611aea",
            "07a6948eefc04a15bf9e825b9e5e76aa",
            "d667a6deaab64ee2b564b4d9ccc2f0b2",
            "0eb096e9248148778476e8eb7ab30362",
            "8ac782326d6348669b34c412e29cb893",
            "2fcd0bf2bc0e4a988c6b507ad839c45a",
            "a7c4701c3c5440f0b944f8a100ff406e",
            "f4144ca8b2d349e79ff90aec70d7981b",
            "87d21371818045498804b02eab5065c1",
            "57f425a1e132432d8e3fb4d8fb0db0ef",
            "7791e11f9b54412b87d134c26452d590",
            "164c2d2715984610a92361815637a3b3",
            "65adbcf30fc2402dad1c281d9dc08a07",
            "833d3fadaa124715906580d9a97ebdd7",
            "c3525326124a4ee6bf3b8b7ba1db2a5b",
            "5ea30c7a591146feb3713bfbd4656eb7",
            "57d63f5608584c05b6a6964a8881cd16",
            "6fcfd533fb7a46728d60e01f03c3ba21",
            "ef369a5e80f3479eb91a01a61892b9f2",
            "666d3ccf1a02427ab03c6cc0a9cd747a",
            "a49ea9614b6345bea58e461fab9c58d8",
            "969188e9f9a44d6f9850d0c6d717bad1",
            "3dcec4ef4c74434096dd82f1672ff5f3"
          ]
        },
        "id": "J7DO_cIactHP",
        "outputId": "f2f4a20a-6312-4617-a210-b31788fbe1df"
      },
      "outputs": [
        {
          "output_type": "display_data",
          "data": {
            "text/plain": [
              "Downloading (…)okenizer_config.json:   0%|          | 0.00/28.0 [00:00<?, ?B/s]"
            ],
            "application/vnd.jupyter.widget-view+json": {
              "version_major": 2,
              "version_minor": 0,
              "model_id": "3ea3aa0a825f46f0bd43bb309050c7ee"
            }
          },
          "metadata": {}
        },
        {
          "output_type": "display_data",
          "data": {
            "text/plain": [
              "Downloading (…)solve/main/vocab.txt:   0%|          | 0.00/232k [00:00<?, ?B/s]"
            ],
            "application/vnd.jupyter.widget-view+json": {
              "version_major": 2,
              "version_minor": 0,
              "model_id": "a282eee1c73d48cfb0d6844e91ab9007"
            }
          },
          "metadata": {}
        },
        {
          "output_type": "display_data",
          "data": {
            "text/plain": [
              "Downloading (…)/main/tokenizer.json:   0%|          | 0.00/466k [00:00<?, ?B/s]"
            ],
            "application/vnd.jupyter.widget-view+json": {
              "version_major": 2,
              "version_minor": 0,
              "model_id": "7d28a1bab2d742e5a34d331f6a25fd2a"
            }
          },
          "metadata": {}
        },
        {
          "output_type": "display_data",
          "data": {
            "text/plain": [
              "Downloading (…)lve/main/config.json:   0%|          | 0.00/483 [00:00<?, ?B/s]"
            ],
            "application/vnd.jupyter.widget-view+json": {
              "version_major": 2,
              "version_minor": 0,
              "model_id": "07a6948eefc04a15bf9e825b9e5e76aa"
            }
          },
          "metadata": {}
        },
        {
          "output_type": "display_data",
          "data": {
            "text/plain": [
              "Downloading tf_model.h5:   0%|          | 0.00/363M [00:00<?, ?B/s]"
            ],
            "application/vnd.jupyter.widget-view+json": {
              "version_major": 2,
              "version_minor": 0,
              "model_id": "65adbcf30fc2402dad1c281d9dc08a07"
            }
          },
          "metadata": {}
        },
        {
          "output_type": "stream",
          "name": "stderr",
          "text": [
            "Some layers from the model checkpoint at distilbert-base-uncased were not used when initializing TFDistilBertForSequenceClassification: ['vocab_transform', 'vocab_projector', 'activation_13', 'vocab_layer_norm']\n",
            "- This IS expected if you are initializing TFDistilBertForSequenceClassification from the checkpoint of a model trained on another task or with another architecture (e.g. initializing a BertForSequenceClassification model from a BertForPreTraining model).\n",
            "- This IS NOT expected if you are initializing TFDistilBertForSequenceClassification from the checkpoint of a model that you expect to be exactly identical (initializing a BertForSequenceClassification model from a BertForSequenceClassification model).\n",
            "Some layers of TFDistilBertForSequenceClassification were not initialized from the model checkpoint at distilbert-base-uncased and are newly initialized: ['dropout_19', 'pre_classifier', 'classifier']\n",
            "You should probably TRAIN this model on a down-stream task to be able to use it for predictions and inference.\n"
          ]
        }
      ],
      "source": [
        "tokenizer_distil = DistilBertTokenizerFast.from_pretrained('distilbert-base-uncased',padding=True, truncation=True, return_tensors='tf',add_special_tokens=True)\n",
        "model_distil = TFDistilBertForSequenceClassification.from_pretrained('distilbert-base-uncased',num_labels=2,output_hidden_states=True)\n",
        "\n",
        "for layer in model_distil.layers[:-2]:\n",
        "    layer.trainable = False\n"
      ]
    },
    {
      "cell_type": "code",
      "execution_count": null,
      "metadata": {
        "id": "WwlPl_rHCVXP"
      },
      "outputs": [],
      "source": [
        "def construct_encodings(x, tkzr, max_len, trucation=True, padding=True):\n",
        "    return tokenizer_distil(x, max_length=max_len, truncation=trucation, padding=padding)\n",
        "    \n",
        "encodings = construct_encodings(df['text'].tolist(), tokenizer_distil, max_len=512)"
      ]
    },
    {
      "cell_type": "code",
      "execution_count": null,
      "metadata": {
        "id": "3lpyKxLtC5aU"
      },
      "outputs": [],
      "source": [
        "def construct_tfdataset(encodings, y=None):\n",
        "    if y:\n",
        "        return tf.data.Dataset.from_tensor_slices((dict(encodings),y))\n",
        "    else:\n",
        "        # this case is used when making predictions on unseen samples after training\n",
        "        return tf.data.Dataset.from_tensor_slices(dict(encodings))\n",
        "    \n",
        "tfdataset = construct_tfdataset(encodings, df['label'].tolist())"
      ]
    },
    {
      "cell_type": "code",
      "execution_count": null,
      "metadata": {
        "id": "K-OCosIZDACF"
      },
      "outputs": [],
      "source": [
        "TEST_SPLIT = 0.2\n",
        "BATCH_SIZE = 2\n",
        "\n",
        "train_size = int(len(df['text'].tolist()) * (1-TEST_SPLIT))\n",
        "\n",
        "tfdataset = tfdataset.shuffle(len(df['text'].tolist()))\n",
        "tfdataset_train = tfdataset.take(train_size)\n",
        "tfdataset_test = tfdataset.skip(train_size)\n",
        "\n",
        "tfdataset_train = tfdataset_train.batch(BATCH_SIZE)\n",
        "tfdataset_test = tfdataset_test.batch(BATCH_SIZE)"
      ]
    },
    {
      "cell_type": "code",
      "execution_count": null,
      "metadata": {
        "colab": {
          "base_uri": "https://localhost:8080/"
        },
        "id": "max8HsljKGIa",
        "outputId": "9b31024f-a55d-45ee-804c-214d4ef2055b"
      },
      "outputs": [
        {
          "output_type": "stream",
          "name": "stdout",
          "text": [
            "Epoch 1/2\n",
            "17959/17959 [==============================] - 1005s 55ms/step - loss: 0.5155 - accuracy: 0.8732\n",
            "Epoch 2/2\n",
            "17959/17959 [==============================] - 966s 54ms/step - loss: 0.3353 - accuracy: 0.9249\n"
          ]
        },
        {
          "output_type": "execute_result",
          "data": {
            "text/plain": [
              "<keras.callbacks.History at 0x7f41d0747c70>"
            ]
          },
          "metadata": {},
          "execution_count": 10
        }
      ],
      "source": [
        "N_EPOCHS = 2\n",
        "optimizer = optimizers.Adam(learning_rate=3e-5)\n",
        "loss = losses.SparseCategoricalCrossentropy(from_logits=True)\n",
        "model_distil.compile(optimizer=optimizer, loss=loss, metrics=['accuracy'])\n",
        "model_distil.fit(tfdataset_train, batch_size=BATCH_SIZE, epochs=N_EPOCHS)"
      ]
    },
    {
      "cell_type": "code",
      "execution_count": null,
      "metadata": {
        "id": "tsZpDMUnKsDF",
        "colab": {
          "base_uri": "https://localhost:8080/"
        },
        "outputId": "db7294e9-8581-4a15-c6bf-63c7b35ccbdb"
      },
      "outputs": [
        {
          "output_type": "stream",
          "name": "stdout",
          "text": [
            "4490/4490 [==============================] - 222s 49ms/step - loss: 0.2762 - accuracy: 0.9339\n"
          ]
        }
      ],
      "source": [
        "benchmarks = model_distil.evaluate(tfdataset_test, return_dict=True, batch_size=BATCH_SIZE)"
      ]
    },
    {
      "cell_type": "code",
      "source": [
        "print(benchmarks)"
      ],
      "metadata": {
        "id": "3BST61QnqBGR",
        "colab": {
          "base_uri": "https://localhost:8080/"
        },
        "outputId": "1dd5d736-002b-43cc-95f7-7aef92b50bb1"
      },
      "execution_count": null,
      "outputs": [
        {
          "output_type": "stream",
          "name": "stdout",
          "text": [
            "{'loss': 0.2762000262737274, 'accuracy': 0.933853030204773}\n"
          ]
        }
      ]
    },
    {
      "cell_type": "code",
      "source": [
        "model_distil.summary()"
      ],
      "metadata": {
        "id": "pJAEeOILxNKt",
        "colab": {
          "base_uri": "https://localhost:8080/"
        },
        "outputId": "71adee3c-27c7-4f4f-b8d1-53c01b5acb39"
      },
      "execution_count": null,
      "outputs": [
        {
          "output_type": "stream",
          "name": "stdout",
          "text": [
            "Model: \"tf_distil_bert_for_sequence_classification\"\n",
            "_________________________________________________________________\n",
            " Layer (type)                Output Shape              Param #   \n",
            "=================================================================\n",
            " distilbert (TFDistilBertMai  multiple                 66362880  \n",
            " nLayer)                                                         \n",
            "                                                                 \n",
            " pre_classifier (Dense)      multiple                  590592    \n",
            "                                                                 \n",
            " classifier (Dense)          multiple                  1538      \n",
            "                                                                 \n",
            " dropout_19 (Dropout)        multiple                  0         \n",
            "                                                                 \n",
            "=================================================================\n",
            "Total params: 66,955,010\n",
            "Trainable params: 1,538\n",
            "Non-trainable params: 66,953,472\n",
            "_________________________________________________________________\n"
          ]
        }
      ]
    },
    {
      "cell_type": "code",
      "source": [
        "model_distil.save_pretrained('/content/drive/MyDrive/NEWS_DATASET/distil_text')"
      ],
      "metadata": {
        "id": "M28wgk-eCMJA"
      },
      "execution_count": null,
      "outputs": []
    },
    {
      "cell_type": "code",
      "source": [
        "!echo 'clear cache'"
      ],
      "metadata": {
        "colab": {
          "base_uri": "https://localhost:8080/"
        },
        "id": "SmQzHx_GKIsb",
        "outputId": "216a3839-6d7c-416e-cc05-66f5396f4fd6"
      },
      "execution_count": null,
      "outputs": [
        {
          "output_type": "stream",
          "name": "stdout",
          "text": [
            "clear cache\n"
          ]
        }
      ]
    },
    {
      "cell_type": "markdown",
      "metadata": {
        "id": "I2sxgnC3yx5M"
      },
      "source": [
        "## **DistilBERT embeddings**"
      ]
    },
    {
      "cell_type": "code",
      "execution_count": null,
      "metadata": {
        "id": "7ZJh-fM4cdL_"
      },
      "outputs": [],
      "source": [
        "import nltk\n",
        "def get_embeddings(texts):\n",
        "    encoded = tokenizer_distil(\n",
        "      texts,\n",
        "      add_special_tokens=True,\n",
        "      padding=True,\n",
        "      truncation=True,\n",
        "      max_length=512,\n",
        "      return_tensors=\"tf\"\n",
        "    )\n",
        "    outputs = model_distil(encoded)\n",
        "    embeddings = outputs.hidden_states[-1]\n",
        "    avg_embeddings = tf.reduce_mean(embeddings, axis=1)\n",
        "    return avg_embeddings"
      ]
    },
    {
      "cell_type": "markdown",
      "metadata": {
        "id": "yeR3fF7twHtF"
      },
      "source": [
        "#### ISOT Title Embeddings DistilBERT"
      ]
    },
    {
      "cell_type": "code",
      "execution_count": null,
      "metadata": {
        "id": "epKTaLfQc6_B",
        "colab": {
          "base_uri": "https://localhost:8080/"
        },
        "outputId": "e13a4398-9aac-44f9-a723-183cc3b30906"
      },
      "outputs": [
        {
          "output_type": "stream",
          "name": "stderr",
          "text": [
            "100%|██████████| 44898/44898 [1:24:02<00:00,  8.90it/s]\n"
          ]
        }
      ],
      "source": [
        "#το συγκεκριμένο τμήμα είναι χρονοβόρο οπότε καλό θα ήταν να χρησιμοποιούνται τα αποθηκευμένα αρχεία που έχουμε δημιουργήσει (embeddings.npy,labels.npy)\n",
        "from tqdm import tqdm\n",
        "\n",
        "#εφαρμόζουme τη συνάρτηση στη στήλη με τους τίτλους\n",
        "batch_size = 1\n",
        "titles = df['title'].tolist()\n",
        "embeddings = []\n",
        "\n",
        "for i in tqdm(range(0, len(titles), batch_size)):\n",
        "    batch_titles = titles[i:i+batch_size]\n",
        "  \n",
        "    batch_embeddings = get_embeddings(batch_titles)\n",
        "    \n",
        "    embeddings.append(batch_embeddings)"
      ]
    },
    {
      "cell_type": "code",
      "source": [
        "embeddings = tf.concat(embeddings,axis=0)"
      ],
      "metadata": {
        "id": "os7XOs4dJu9D"
      },
      "execution_count": null,
      "outputs": []
    },
    {
      "cell_type": "code",
      "source": [
        "label_encoder = LabelEncoder()\n",
        "df['label'] = label_encoder.fit_transform(df['label'])\n",
        "labels = df['label'].to_numpy()"
      ],
      "metadata": {
        "id": "0pUMpZ4QSq97"
      },
      "execution_count": null,
      "outputs": []
    },
    {
      "cell_type": "code",
      "source": [
        "np.save('/content/drive/MyDrive/NEWS_DATASET/embeddings_title_distilbert.npy', np.array(embeddings))\n",
        "np.save('/content/drive/MyDrive/NEWS_DATASET/labels_title_distilbert.npy', labels)"
      ],
      "metadata": {
        "id": "DecQusmLSqpS"
      },
      "execution_count": null,
      "outputs": []
    },
    {
      "cell_type": "markdown",
      "metadata": {
        "id": "ll-pgCBIwMAF"
      },
      "source": [
        "#### ISOT Text Embeddings DistilBERT"
      ]
    },
    {
      "cell_type": "code",
      "source": [
        "copy = df.copy()"
      ],
      "metadata": {
        "id": "o6VjzTgBvVnO"
      },
      "execution_count": null,
      "outputs": []
    },
    {
      "cell_type": "code",
      "source": [
        "from tqdm import tqdm\n",
        "batch_size = 1\n",
        "text = copy['text'].tolist()\n",
        "embeddings = []\n",
        "\n",
        "for i in tqdm(range(0, len(text), batch_size)):\n",
        "    batch_titles = text[i:i+batch_size]\n",
        "\n",
        "    batch_embeddings = get_embeddings(batch_titles)\n",
        "    \n",
        "    embeddings.append(batch_embeddings)"
      ],
      "metadata": {
        "colab": {
          "base_uri": "https://localhost:8080/"
        },
        "id": "81Uhvliy3-fv",
        "outputId": "aa04b642-102d-460e-8d17-2283f4e4650f"
      },
      "execution_count": null,
      "outputs": [
        {
          "output_type": "stream",
          "name": "stderr",
          "text": [
            "100%|██████████| 44898/44898 [1:30:04<00:00,  8.31it/s]\n"
          ]
        }
      ]
    },
    {
      "cell_type": "code",
      "source": [
        "embeddings = tf.concat(embeddings,axis=0)"
      ],
      "metadata": {
        "id": "gOa9WB_94QZD"
      },
      "execution_count": null,
      "outputs": []
    },
    {
      "cell_type": "code",
      "source": [
        "label_encoder = LabelEncoder()\n",
        "copy['label'] = label_encoder.fit_transform(copy['label'])\n",
        "labels = copy['label'].to_numpy()"
      ],
      "metadata": {
        "id": "RIpzBnCJ4WH2"
      },
      "execution_count": null,
      "outputs": []
    },
    {
      "cell_type": "code",
      "execution_count": null,
      "metadata": {
        "id": "e3QJhHfbOAK2"
      },
      "outputs": [],
      "source": [
        "np.save('/content/drive/MyDrive/NEWS_DATASET/embeddings_text_distilbert.npy', np.array(embeddings))\n",
        "np.save('/content/drive/MyDrive/NEWS_DATASET/labels_text_distilbert.npy', labels)"
      ]
    },
    {
      "cell_type": "markdown",
      "metadata": {
        "id": "ErFs5UgcwVx3"
      },
      "source": [
        "#### ISOT Text Max Worth Embeddings DistilBERT"
      ]
    },
    {
      "cell_type": "code",
      "source": [
        "!pip install requests"
      ],
      "metadata": {
        "colab": {
          "base_uri": "https://localhost:8080/"
        },
        "id": "-9Bdf4XbPW_R",
        "outputId": "b2975b7e-d8e8-4103-8ca8-348c0039e132"
      },
      "execution_count": null,
      "outputs": [
        {
          "output_type": "stream",
          "name": "stdout",
          "text": [
            "Looking in indexes: https://pypi.org/simple, https://us-python.pkg.dev/colab-wheels/public/simple/\n",
            "Requirement already satisfied: requests in /usr/local/lib/python3.10/dist-packages (2.27.1)\n",
            "Requirement already satisfied: idna<4,>=2.5 in /usr/local/lib/python3.10/dist-packages (from requests) (3.4)\n",
            "Requirement already satisfied: charset-normalizer~=2.0.0 in /usr/local/lib/python3.10/dist-packages (from requests) (2.0.12)\n",
            "Requirement already satisfied: urllib3<1.27,>=1.21.1 in /usr/local/lib/python3.10/dist-packages (from requests) (1.26.15)\n",
            "Requirement already satisfied: certifi>=2017.4.17 in /usr/local/lib/python3.10/dist-packages (from requests) (2022.12.7)\n"
          ]
        }
      ]
    },
    {
      "cell_type": "code",
      "source": [
        "import requests\n",
        "import json\n",
        "from tqdm import tqdm\n",
        "def get_sentence_scores(sentences, api_key):\n",
        "  api_endpoint = \"https://idir.uta.edu/claimbuster/api/v2/score/text/sentences/\"\n",
        "  request_headers = {\"x-api-key\": api_key}\n",
        "  payload = {\"input_text\": sentences}\n",
        "  api_response = requests.post(url=api_endpoint, json=payload, headers=request_headers)\n",
        "  return api_response.json()\n"
      ],
      "metadata": {
        "id": "lhpl8hX_HrpG"
      },
      "execution_count": null,
      "outputs": []
    },
    {
      "cell_type": "code",
      "source": [
        "def max_worth(text,limit):\n",
        "  api_key = '62ed42f8ab5d412facdc20e76e7dfe50'\n",
        "  c = get_sentence_scores(text,api_key)\n",
        "  c = sorted(c['results'], key=lambda x: float(x['score']), reverse=True)\n",
        "  for res in c:\n",
        "    res['word_count'] = len(res['text'].split())\n",
        "\n",
        "  total_words = 0\n",
        "  last_index = -1\n",
        "\n",
        "  for i, item in enumerate(c):\n",
        "    text = item['text']\n",
        "    word_count = len(text.split())\n",
        "    if total_words + word_count > 450:\n",
        "      break\n",
        "    total_words += word_count\n",
        "    last_index = i\n",
        "\n",
        "  c = c[:last_index+1]\n",
        "  c = sorted(c, key=lambda x: x['index'])\n",
        "  c = ' '.join([result['text'] for result in c])\n",
        "\n",
        "  return c"
      ],
      "metadata": {
        "id": "HIARx4h0dCVV"
      },
      "execution_count": null,
      "outputs": []
    },
    {
      "cell_type": "code",
      "source": [
        "df['max'] = tqdm(df['text'].apply(max_worth,limit=450))"
      ],
      "metadata": {
        "colab": {
          "base_uri": "https://localhost:8080/"
        },
        "id": "PxbVuMnJd8Ae",
        "outputId": "e9ab9ad2-4239-430b-9394-9e1fdef72069"
      },
      "execution_count": null,
      "outputs": [
        {
          "output_type": "stream",
          "name": "stderr",
          "text": [
            "\n",
            "  0%|          | 0/44898 [00:00<?, ?it/s]\u001b[A\n",
            "100%|██████████| 44898/44898 [00:00<00:00, 366541.57it/s]\n"
          ]
        }
      ]
    },
    {
      "cell_type": "code",
      "source": [
        "df.to_csv('/content/drive/My Drive/NEWS_DATASET/final_max.csv', index=False)"
      ],
      "metadata": {
        "id": "4cQznAvreiVn"
      },
      "execution_count": null,
      "outputs": []
    },
    {
      "cell_type": "code",
      "source": [
        "df.head()"
      ],
      "metadata": {
        "id": "cQS1aTJyetZf",
        "colab": {
          "base_uri": "https://localhost:8080/",
          "height": 1750
        },
        "outputId": "daceb2ca-8b17-4459-d858-ac6de5401a23"
      },
      "execution_count": null,
      "outputs": [
        {
          "output_type": "execute_result",
          "data": {
            "text/plain": [
              "                                               title  \\\n",
              "0  China says Trump plan to move embassy in Israe...   \n",
              "1  India says ready for stronger U.S. ties after ...   \n",
              "2  A PRESIDENT WHO’S UNSERIOUS AND UNDIGNIFIED…DO...   \n",
              "3  #DNC GIVES ANTI-HILLARY Dems Free Speech Cage ...   \n",
              "4  Castro meets North Korea minister amid hope Cu...   \n",
              "\n",
              "                                                text  label  \\\n",
              "0  BEIJING (Reuters) - China expressed concern on...      1   \n",
              "1  NEW DELHI (Reuters) - India stood ready to fur...      1   \n",
              "2  America deserves so much better and should get...      0   \n",
              "3  It s just cleaner that way You know, keeping a...      0   \n",
              "4  HAVANA (Reuters) - Cuban President Raul Castro...      1   \n",
              "\n",
              "                                                 max  \n",
              "0  BEIJING (Reuters) - China expressed concern on...  \n",
              "1  NEW DELHI (Reuters) - India stood ready to fur...  \n",
              "2  Obama has been so undignified throughout his p...  \n",
              "3  It s just cleaner that way You know, keeping a...  \n",
              "4  HAVANA (Reuters) - Cuban President Raul Castro...  "
            ],
            "text/html": [
              "\n",
              "  <div id=\"df-78c427a0-c386-4e85-adf4-970a106f4dee\">\n",
              "    <div class=\"colab-df-container\">\n",
              "      <div>\n",
              "<style scoped>\n",
              "    .dataframe tbody tr th:only-of-type {\n",
              "        vertical-align: middle;\n",
              "    }\n",
              "\n",
              "    .dataframe tbody tr th {\n",
              "        vertical-align: top;\n",
              "    }\n",
              "\n",
              "    .dataframe thead th {\n",
              "        text-align: right;\n",
              "    }\n",
              "</style>\n",
              "<table border=\"1\" class=\"dataframe\">\n",
              "  <thead>\n",
              "    <tr style=\"text-align: right;\">\n",
              "      <th></th>\n",
              "      <th>title</th>\n",
              "      <th>text</th>\n",
              "      <th>label</th>\n",
              "      <th>max</th>\n",
              "    </tr>\n",
              "  </thead>\n",
              "  <tbody>\n",
              "    <tr>\n",
              "      <th>0</th>\n",
              "      <td>China says Trump plan to move embassy in Israe...</td>\n",
              "      <td>BEIJING (Reuters) - China expressed concern on...</td>\n",
              "      <td>1</td>\n",
              "      <td>BEIJING (Reuters) - China expressed concern on...</td>\n",
              "    </tr>\n",
              "    <tr>\n",
              "      <th>1</th>\n",
              "      <td>India says ready for stronger U.S. ties after ...</td>\n",
              "      <td>NEW DELHI (Reuters) - India stood ready to fur...</td>\n",
              "      <td>1</td>\n",
              "      <td>NEW DELHI (Reuters) - India stood ready to fur...</td>\n",
              "    </tr>\n",
              "    <tr>\n",
              "      <th>2</th>\n",
              "      <td>A PRESIDENT WHO’S UNSERIOUS AND UNDIGNIFIED…DO...</td>\n",
              "      <td>America deserves so much better and should get...</td>\n",
              "      <td>0</td>\n",
              "      <td>Obama has been so undignified throughout his p...</td>\n",
              "    </tr>\n",
              "    <tr>\n",
              "      <th>3</th>\n",
              "      <td>#DNC GIVES ANTI-HILLARY Dems Free Speech Cage ...</td>\n",
              "      <td>It s just cleaner that way You know, keeping a...</td>\n",
              "      <td>0</td>\n",
              "      <td>It s just cleaner that way You know, keeping a...</td>\n",
              "    </tr>\n",
              "    <tr>\n",
              "      <th>4</th>\n",
              "      <td>Castro meets North Korea minister amid hope Cu...</td>\n",
              "      <td>HAVANA (Reuters) - Cuban President Raul Castro...</td>\n",
              "      <td>1</td>\n",
              "      <td>HAVANA (Reuters) - Cuban President Raul Castro...</td>\n",
              "    </tr>\n",
              "  </tbody>\n",
              "</table>\n",
              "</div>\n",
              "      <button class=\"colab-df-convert\" onclick=\"convertToInteractive('df-78c427a0-c386-4e85-adf4-970a106f4dee')\"\n",
              "              title=\"Convert this dataframe to an interactive table.\"\n",
              "              style=\"display:none;\">\n",
              "        \n",
              "  <svg xmlns=\"http://www.w3.org/2000/svg\" height=\"24px\"viewBox=\"0 0 24 24\"\n",
              "       width=\"24px\">\n",
              "    <path d=\"M0 0h24v24H0V0z\" fill=\"none\"/>\n",
              "    <path d=\"M18.56 5.44l.94 2.06.94-2.06 2.06-.94-2.06-.94-.94-2.06-.94 2.06-2.06.94zm-11 1L8.5 8.5l.94-2.06 2.06-.94-2.06-.94L8.5 2.5l-.94 2.06-2.06.94zm10 10l.94 2.06.94-2.06 2.06-.94-2.06-.94-.94-2.06-.94 2.06-2.06.94z\"/><path d=\"M17.41 7.96l-1.37-1.37c-.4-.4-.92-.59-1.43-.59-.52 0-1.04.2-1.43.59L10.3 9.45l-7.72 7.72c-.78.78-.78 2.05 0 2.83L4 21.41c.39.39.9.59 1.41.59.51 0 1.02-.2 1.41-.59l7.78-7.78 2.81-2.81c.8-.78.8-2.07 0-2.86zM5.41 20L4 18.59l7.72-7.72 1.47 1.35L5.41 20z\"/>\n",
              "  </svg>\n",
              "      </button>\n",
              "      \n",
              "  <style>\n",
              "    .colab-df-container {\n",
              "      display:flex;\n",
              "      flex-wrap:wrap;\n",
              "      gap: 12px;\n",
              "    }\n",
              "\n",
              "    .colab-df-convert {\n",
              "      background-color: #E8F0FE;\n",
              "      border: none;\n",
              "      border-radius: 50%;\n",
              "      cursor: pointer;\n",
              "      display: none;\n",
              "      fill: #1967D2;\n",
              "      height: 32px;\n",
              "      padding: 0 0 0 0;\n",
              "      width: 32px;\n",
              "    }\n",
              "\n",
              "    .colab-df-convert:hover {\n",
              "      background-color: #E2EBFA;\n",
              "      box-shadow: 0px 1px 2px rgba(60, 64, 67, 0.3), 0px 1px 3px 1px rgba(60, 64, 67, 0.15);\n",
              "      fill: #174EA6;\n",
              "    }\n",
              "\n",
              "    [theme=dark] .colab-df-convert {\n",
              "      background-color: #3B4455;\n",
              "      fill: #D2E3FC;\n",
              "    }\n",
              "\n",
              "    [theme=dark] .colab-df-convert:hover {\n",
              "      background-color: #434B5C;\n",
              "      box-shadow: 0px 1px 3px 1px rgba(0, 0, 0, 0.15);\n",
              "      filter: drop-shadow(0px 1px 2px rgba(0, 0, 0, 0.3));\n",
              "      fill: #FFFFFF;\n",
              "    }\n",
              "  </style>\n",
              "\n",
              "      <script>\n",
              "        const buttonEl =\n",
              "          document.querySelector('#df-78c427a0-c386-4e85-adf4-970a106f4dee button.colab-df-convert');\n",
              "        buttonEl.style.display =\n",
              "          google.colab.kernel.accessAllowed ? 'block' : 'none';\n",
              "\n",
              "        async function convertToInteractive(key) {\n",
              "          const element = document.querySelector('#df-78c427a0-c386-4e85-adf4-970a106f4dee');\n",
              "          const dataTable =\n",
              "            await google.colab.kernel.invokeFunction('convertToInteractive',\n",
              "                                                     [key], {});\n",
              "          if (!dataTable) return;\n",
              "\n",
              "          const docLinkHtml = 'Like what you see? Visit the ' +\n",
              "            '<a target=\"_blank\" href=https://colab.research.google.com/notebooks/data_table.ipynb>data table notebook</a>'\n",
              "            + ' to learn more about interactive tables.';\n",
              "          element.innerHTML = '';\n",
              "          dataTable['output_type'] = 'display_data';\n",
              "          await google.colab.output.renderOutput(dataTable, element);\n",
              "          const docLink = document.createElement('div');\n",
              "          docLink.innerHTML = docLinkHtml;\n",
              "          element.appendChild(docLink);\n",
              "        }\n",
              "      </script>\n",
              "    </div>\n",
              "  </div>\n",
              "  "
            ]
          },
          "metadata": {},
          "execution_count": 17
        }
      ]
    },
    {
      "cell_type": "code",
      "source": [
        "word_counts = df['max'].apply(lambda x: len(x.split()))\n",
        "print(word_counts.max())\n",
        "sns.displot(word_counts, kde=False, bins=10, height=7, aspect=1)\n",
        "plt.title('Text Length distribution (Max_Worth)')"
      ],
      "metadata": {
        "colab": {
          "base_uri": "https://localhost:8080/",
          "height": 764
        },
        "id": "3tS2WjN1ovbk",
        "outputId": "8c69da59-ab78-4d6d-aff0-164bcda8a8a7"
      },
      "execution_count": null,
      "outputs": [
        {
          "output_type": "stream",
          "name": "stdout",
          "text": [
            "450\n"
          ]
        },
        {
          "output_type": "execute_result",
          "data": {
            "text/plain": [
              "Text(0.5, 1.0, 'Text Length distribution (Max_Worth)')"
            ]
          },
          "metadata": {},
          "execution_count": 18
        },
        {
          "output_type": "display_data",
          "data": {
            "text/plain": [
              "<Figure size 700x700 with 1 Axes>"
            ],
            "image/png": "[encoded data removed]"
          },
          "metadata": {}
        }
      ]
    },
    {
      "cell_type": "code",
      "source": [
        "df.describe()"
      ],
      "metadata": {
        "colab": {
          "base_uri": "https://localhost:8080/",
          "height": 300
        },
        "id": "rx7pYi3fp3Kb",
        "outputId": "a405dd5d-2b31-4e77-bb1d-7073e64f9631"
      },
      "execution_count": null,
      "outputs": [
        {
          "output_type": "execute_result",
          "data": {
            "text/plain": [
              "              label\n",
              "count  44898.000000\n",
              "mean       0.477015\n",
              "std        0.499477\n",
              "min        0.000000\n",
              "25%        0.000000\n",
              "50%        0.000000\n",
              "75%        1.000000\n",
              "max        1.000000"
            ],
            "text/html": [
              "\n",
              "  <div id=\"df-f0a3b393-cbdc-4fe9-bf92-01d3e82142ef\">\n",
              "    <div class=\"colab-df-container\">\n",
              "      <div>\n",
              "<style scoped>\n",
              "    .dataframe tbody tr th:only-of-type {\n",
              "        vertical-align: middle;\n",
              "    }\n",
              "\n",
              "    .dataframe tbody tr th {\n",
              "        vertical-align: top;\n",
              "    }\n",
              "\n",
              "    .dataframe thead th {\n",
              "        text-align: right;\n",
              "    }\n",
              "</style>\n",
              "<table border=\"1\" class=\"dataframe\">\n",
              "  <thead>\n",
              "    <tr style=\"text-align: right;\">\n",
              "      <th></th>\n",
              "      <th>label</th>\n",
              "    </tr>\n",
              "  </thead>\n",
              "  <tbody>\n",
              "    <tr>\n",
              "      <th>count</th>\n",
              "      <td>44898.000000</td>\n",
              "    </tr>\n",
              "    <tr>\n",
              "      <th>mean</th>\n",
              "      <td>0.477015</td>\n",
              "    </tr>\n",
              "    <tr>\n",
              "      <th>std</th>\n",
              "      <td>0.499477</td>\n",
              "    </tr>\n",
              "    <tr>\n",
              "      <th>min</th>\n",
              "      <td>0.000000</td>\n",
              "    </tr>\n",
              "    <tr>\n",
              "      <th>25%</th>\n",
              "      <td>0.000000</td>\n",
              "    </tr>\n",
              "    <tr>\n",
              "      <th>50%</th>\n",
              "      <td>0.000000</td>\n",
              "    </tr>\n",
              "    <tr>\n",
              "      <th>75%</th>\n",
              "      <td>1.000000</td>\n",
              "    </tr>\n",
              "    <tr>\n",
              "      <th>max</th>\n",
              "      <td>1.000000</td>\n",
              "    </tr>\n",
              "  </tbody>\n",
              "</table>\n",
              "</div>\n",
              "      <button class=\"colab-df-convert\" onclick=\"convertToInteractive('df-f0a3b393-cbdc-4fe9-bf92-01d3e82142ef')\"\n",
              "              title=\"Convert this dataframe to an interactive table.\"\n",
              "              style=\"display:none;\">\n",
              "        \n",
              "  <svg xmlns=\"http://www.w3.org/2000/svg\" height=\"24px\"viewBox=\"0 0 24 24\"\n",
              "       width=\"24px\">\n",
              "    <path d=\"M0 0h24v24H0V0z\" fill=\"none\"/>\n",
              "    <path d=\"M18.56 5.44l.94 2.06.94-2.06 2.06-.94-2.06-.94-.94-2.06-.94 2.06-2.06.94zm-11 1L8.5 8.5l.94-2.06 2.06-.94-2.06-.94L8.5 2.5l-.94 2.06-2.06.94zm10 10l.94 2.06.94-2.06 2.06-.94-2.06-.94-.94-2.06-.94 2.06-2.06.94z\"/><path d=\"M17.41 7.96l-1.37-1.37c-.4-.4-.92-.59-1.43-.59-.52 0-1.04.2-1.43.59L10.3 9.45l-7.72 7.72c-.78.78-.78 2.05 0 2.83L4 21.41c.39.39.9.59 1.41.59.51 0 1.02-.2 1.41-.59l7.78-7.78 2.81-2.81c.8-.78.8-2.07 0-2.86zM5.41 20L4 18.59l7.72-7.72 1.47 1.35L5.41 20z\"/>\n",
              "  </svg>\n",
              "      </button>\n",
              "      \n",
              "  <style>\n",
              "    .colab-df-container {\n",
              "      display:flex;\n",
              "      flex-wrap:wrap;\n",
              "      gap: 12px;\n",
              "    }\n",
              "\n",
              "    .colab-df-convert {\n",
              "      background-color: #E8F0FE;\n",
              "      border: none;\n",
              "      border-radius: 50%;\n",
              "      cursor: pointer;\n",
              "      display: none;\n",
              "      fill: #1967D2;\n",
              "      height: 32px;\n",
              "      padding: 0 0 0 0;\n",
              "      width: 32px;\n",
              "    }\n",
              "\n",
              "    .colab-df-convert:hover {\n",
              "      background-color: #E2EBFA;\n",
              "      box-shadow: 0px 1px 2px rgba(60, 64, 67, 0.3), 0px 1px 3px 1px rgba(60, 64, 67, 0.15);\n",
              "      fill: #174EA6;\n",
              "    }\n",
              "\n",
              "    [theme=dark] .colab-df-convert {\n",
              "      background-color: #3B4455;\n",
              "      fill: #D2E3FC;\n",
              "    }\n",
              "\n",
              "    [theme=dark] .colab-df-convert:hover {\n",
              "      background-color: #434B5C;\n",
              "      box-shadow: 0px 1px 3px 1px rgba(0, 0, 0, 0.15);\n",
              "      filter: drop-shadow(0px 1px 2px rgba(0, 0, 0, 0.3));\n",
              "      fill: #FFFFFF;\n",
              "    }\n",
              "  </style>\n",
              "\n",
              "      <script>\n",
              "        const buttonEl =\n",
              "          document.querySelector('#df-f0a3b393-cbdc-4fe9-bf92-01d3e82142ef button.colab-df-convert');\n",
              "        buttonEl.style.display =\n",
              "          google.colab.kernel.accessAllowed ? 'block' : 'none';\n",
              "\n",
              "        async function convertToInteractive(key) {\n",
              "          const element = document.querySelector('#df-f0a3b393-cbdc-4fe9-bf92-01d3e82142ef');\n",
              "          const dataTable =\n",
              "            await google.colab.kernel.invokeFunction('convertToInteractive',\n",
              "                                                     [key], {});\n",
              "          if (!dataTable) return;\n",
              "\n",
              "          const docLinkHtml = 'Like what you see? Visit the ' +\n",
              "            '<a target=\"_blank\" href=https://colab.research.google.com/notebooks/data_table.ipynb>data table notebook</a>'\n",
              "            + ' to learn more about interactive tables.';\n",
              "          element.innerHTML = '';\n",
              "          dataTable['output_type'] = 'display_data';\n",
              "          await google.colab.output.renderOutput(dataTable, element);\n",
              "          const docLink = document.createElement('div');\n",
              "          docLink.innerHTML = docLinkHtml;\n",
              "          element.appendChild(docLink);\n",
              "        }\n",
              "      </script>\n",
              "    </div>\n",
              "  </div>\n",
              "  "
            ]
          },
          "metadata": {},
          "execution_count": 19
        }
      ]
    },
    {
      "cell_type": "code",
      "source": [
        "model_distil = TFDistilBertForSequenceClassification.from_pretrained('/content/drive/MyDrive/NEWS_DATASET/distil_text',num_labels=2,output_hidden_states=True)"
      ],
      "metadata": {
        "colab": {
          "base_uri": "https://localhost:8080/"
        },
        "id": "HFNkTtuOp6Kw",
        "outputId": "e04ee8a4-a568-4095-ebbf-5d60dc6812f3"
      },
      "execution_count": null,
      "outputs": [
        {
          "output_type": "stream",
          "name": "stderr",
          "text": [
            "Some layers from the model checkpoint at /content/drive/MyDrive/NEWS_DATASET/distil_text were not used when initializing TFDistilBertForSequenceClassification: ['dropout_19']\n",
            "- This IS expected if you are initializing TFDistilBertForSequenceClassification from the checkpoint of a model trained on another task or with another architecture (e.g. initializing a BertForSequenceClassification model from a BertForPreTraining model).\n",
            "- This IS NOT expected if you are initializing TFDistilBertForSequenceClassification from the checkpoint of a model that you expect to be exactly identical (initializing a BertForSequenceClassification model from a BertForSequenceClassification model).\n",
            "Some layers of TFDistilBertForSequenceClassification were not initialized from the model checkpoint at /content/drive/MyDrive/NEWS_DATASET/distil_text and are newly initialized: ['dropout_39']\n",
            "You should probably TRAIN this model on a down-stream task to be able to use it for predictions and inference.\n"
          ]
        }
      ]
    },
    {
      "cell_type": "code",
      "source": [
        "path = '/content/drive/MyDrive/NEWS_DATASET/final_max.csv'\n",
        "copy = pd.read_csv(path,delimiter=',')"
      ],
      "metadata": {
        "id": "R9zThi5Z70oA"
      },
      "execution_count": null,
      "outputs": []
    },
    {
      "cell_type": "code",
      "source": [
        "from tqdm import tqdm\n",
        "batch_size = 1\n",
        "text = copy['max'].tolist()\n",
        "embeddings = []\n",
        "\n",
        "for i in tqdm(range(0, len(text), batch_size)):\n",
        "    batch_titles = str(text[i:i+batch_size])\n",
        "\n",
        "    batch_embeddings = get_embeddings(batch_titles)\n",
        "    \n",
        "    embeddings.append(batch_embeddings)"
      ],
      "metadata": {
        "id": "kR8XCa8q70oC",
        "colab": {
          "base_uri": "https://localhost:8080/"
        },
        "outputId": "47a3ba78-2712-4b7d-c59b-308332b476ec"
      },
      "execution_count": null,
      "outputs": [
        {
          "output_type": "stream",
          "name": "stderr",
          "text": [
            "100%|██████████| 44898/44898 [1:24:07<00:00,  8.89it/s]\n"
          ]
        }
      ]
    },
    {
      "cell_type": "code",
      "source": [
        "embeddings = tf.concat(embeddings,axis=0)"
      ],
      "metadata": {
        "id": "CH5ncE-570oD"
      },
      "execution_count": null,
      "outputs": []
    },
    {
      "cell_type": "code",
      "source": [
        "label_encoder = LabelEncoder()\n",
        "copy['label'] = label_encoder.fit_transform(copy['label'])\n",
        "labels = copy['label'].to_numpy()"
      ],
      "metadata": {
        "id": "uYZfFkNO70oE"
      },
      "execution_count": null,
      "outputs": []
    },
    {
      "cell_type": "code",
      "execution_count": null,
      "metadata": {
        "id": "sY0bLrjm70oE"
      },
      "outputs": [],
      "source": [
        "np.save('/content/drive/MyDrive/NEWS_DATASET/embeddings_textmax_distilbert.npy', np.array(embeddings))\n",
        "np.save('/content/drive/MyDrive/NEWS_DATASET/labels_textmax_distilbert.npy', labels)"
      ]
    },
    {
      "cell_type": "markdown",
      "metadata": {
        "id": "dv1udd0FEoRB"
      },
      "source": [
        "# **CNN-DistilBERT-Titles**"
      ]
    },
    {
      "cell_type": "code",
      "execution_count": null,
      "metadata": {
        "id": "A8Dob6ctiVYN"
      },
      "outputs": [],
      "source": [
        "#εισάγουμε τα δεδομένα από τ' αποθηκευμένα αρχεία που δημιουργήσαμε νωρίτερα\n",
        "embeddings = np.load('/content/drive/MyDrive/NEWS_DATASET/embeddings_title_distilbert.npy')\n",
        "labels = np.load('/content/drive/MyDrive/NEWS_DATASET/labels_title_distilbert.npy')"
      ]
    },
    {
      "cell_type": "code",
      "execution_count": null,
      "metadata": {
        "id": "tNf0ZxAOuiHJ"
      },
      "outputs": [],
      "source": [
        "train_embeddings, test_embeddings, train_labels, test_labels = train_test_split(embeddings, labels, test_size=0.2, random_state=42, shuffle=True)"
      ]
    },
    {
      "cell_type": "code",
      "source": [
        "train_embeddings = tf.expand_dims(train_embeddings, axis=-1)\n",
        "test_embeddings = tf.expand_dims(test_embeddings, axis=-1)"
      ],
      "metadata": {
        "id": "EqQvqXUNUVm5"
      },
      "execution_count": null,
      "outputs": []
    },
    {
      "cell_type": "code",
      "source": [
        "train_embeddings.shape"
      ],
      "metadata": {
        "colab": {
          "base_uri": "https://localhost:8080/"
        },
        "id": "HhkPLWb1UeeT",
        "outputId": "2564c579-8e8c-4c9b-8112-904868f045a7"
      },
      "execution_count": null,
      "outputs": [
        {
          "output_type": "execute_result",
          "data": {
            "text/plain": [
              "TensorShape([35918, 768, 1])"
            ]
          },
          "metadata": {},
          "execution_count": 21
        }
      ]
    },
    {
      "cell_type": "code",
      "execution_count": null,
      "metadata": {
        "id": "E3-krXR1jj2e"
      },
      "outputs": [],
      "source": [
        "# build the model\n",
        "model = Sequential()\n",
        "model.add(Conv1D(filters=128, kernel_size=5, activation='relu', input_shape=(768,1)))\n",
        "model.add(MaxPooling1D(pool_size=5))\n",
        "model.add(Conv1D(128, 5, activation='relu'))\n",
        "model.add(MaxPooling1D(pool_size=5))\n",
        "model.add(Conv1D(128, 5, activation='relu'))\n",
        "model.add(Flatten())\n",
        "model.add(Dense(64, activation='relu'))\n",
        "model.add(Dropout(0.5))\n",
        "model.add(Dense(1, activation='sigmoid'))\n"
      ]
    },
    {
      "cell_type": "code",
      "execution_count": null,
      "metadata": {
        "id": "8GrSUQS0jlEj"
      },
      "outputs": [],
      "source": [
        "model.compile(loss='binary_crossentropy', optimizer='adam', metrics=['accuracy'])"
      ]
    },
    {
      "cell_type": "code",
      "source": [
        "history1 = model.fit(train_embeddings, train_labels, epochs=10, batch_size=16,validation_data=(test_embeddings, test_labels))"
      ],
      "metadata": {
        "id": "oEFGRIBzBirW",
        "colab": {
          "base_uri": "https://localhost:8080/"
        },
        "outputId": "2d8ef02c-0cce-43c0-dba5-bc1fc8e63e4b"
      },
      "execution_count": null,
      "outputs": [
        {
          "output_type": "stream",
          "name": "stdout",
          "text": [
            "Epoch 1/10\n",
            "2245/2245 [==============================] - 14s 6ms/step - loss: 0.1915 - accuracy: 0.9247 - val_loss: 0.1514 - val_accuracy: 0.9459\n",
            "Epoch 2/10\n",
            "2245/2245 [==============================] - 13s 6ms/step - loss: 0.1262 - accuracy: 0.9536 - val_loss: 0.1312 - val_accuracy: 0.9481\n",
            "Epoch 3/10\n",
            "2245/2245 [==============================] - 13s 6ms/step - loss: 0.1114 - accuracy: 0.9591 - val_loss: 0.1024 - val_accuracy: 0.9604\n",
            "Epoch 4/10\n",
            "2245/2245 [==============================] - 13s 6ms/step - loss: 0.0998 - accuracy: 0.9637 - val_loss: 0.1056 - val_accuracy: 0.9608\n",
            "Epoch 5/10\n",
            "2245/2245 [==============================] - 13s 6ms/step - loss: 0.0922 - accuracy: 0.9667 - val_loss: 0.1022 - val_accuracy: 0.9621\n",
            "Epoch 6/10\n",
            "2245/2245 [==============================] - 13s 6ms/step - loss: 0.0832 - accuracy: 0.9675 - val_loss: 0.1055 - val_accuracy: 0.9612\n",
            "Epoch 7/10\n",
            "2245/2245 [==============================] - 12s 6ms/step - loss: 0.0760 - accuracy: 0.9719 - val_loss: 0.1000 - val_accuracy: 0.9639\n",
            "Epoch 8/10\n",
            "2245/2245 [==============================] - 12s 6ms/step - loss: 0.0728 - accuracy: 0.9730 - val_loss: 0.1017 - val_accuracy: 0.9607\n",
            "Epoch 9/10\n",
            "2245/2245 [==============================] - 13s 6ms/step - loss: 0.0668 - accuracy: 0.9753 - val_loss: 0.0968 - val_accuracy: 0.9650\n",
            "Epoch 10/10\n",
            "2245/2245 [==============================] - 13s 6ms/step - loss: 0.0622 - accuracy: 0.9763 - val_loss: 0.0929 - val_accuracy: 0.9671\n"
          ]
        }
      ]
    },
    {
      "cell_type": "code",
      "execution_count": null,
      "metadata": {
        "id": "fSHUtTYqloXd",
        "colab": {
          "base_uri": "https://localhost:8080/"
        },
        "outputId": "63e72c04-5355-41f2-a902-9a5ff34064d3"
      },
      "outputs": [
        {
          "output_type": "stream",
          "name": "stdout",
          "text": [
            "281/281 [==============================] - 1s 4ms/step - loss: 0.0929 - accuracy: 0.9671\n",
            "281/281 [==============================] - 1s 3ms/step\n",
            "Test Accuracy: 0.9671491980552673\n",
            "Test F1 Score: 0.9662200847360587\n",
            "Test Recall: 0.9663307375171782\n",
            "Precision: 0.9661094572933364\n"
          ]
        }
      ],
      "source": [
        "test_loss, test_acc = model.evaluate(test_embeddings, test_labels)\n",
        "\n",
        "y_pred = model.predict(test_embeddings)\n",
        "y_pred = (y_pred > 0.5).astype('int32')\n",
        "\n",
        "f1 = f1_score(test_labels, y_pred)\n",
        "recall = recall_score(test_labels, y_pred)\n",
        "precision = precision_score(test_labels, y_pred)\n",
        "\n",
        "#accuraccy \n",
        "print(\"Test Accuracy:\", test_acc)\n",
        "#f1-score\n",
        "print(\"Test F1 Score:\", f1)\n",
        "#recall\n",
        "print(\"Test Recall:\", recall)\n",
        "#precision\n",
        "print(\"Precision:\", precision)"
      ]
    },
    {
      "cell_type": "code",
      "execution_count": null,
      "metadata": {
        "id": "TiDjAtumBT7Q",
        "colab": {
          "base_uri": "https://localhost:8080/"
        },
        "outputId": "7942ddd4-fb65-4458-bb7e-c6b6b26861c6"
      },
      "outputs": [
        {
          "output_type": "stream",
          "name": "stdout",
          "text": [
            "Model: \"sequential\"\n",
            "_________________________________________________________________\n",
            " Layer (type)                Output Shape              Param #   \n",
            "=================================================================\n",
            " conv1d (Conv1D)             (None, 764, 128)          768       \n",
            "                                                                 \n",
            " max_pooling1d (MaxPooling1D  (None, 152, 128)         0         \n",
            " )                                                               \n",
            "                                                                 \n",
            " conv1d_1 (Conv1D)           (None, 148, 128)          82048     \n",
            "                                                                 \n",
            " max_pooling1d_1 (MaxPooling  (None, 29, 128)          0         \n",
            " 1D)                                                             \n",
            "                                                                 \n",
            " conv1d_2 (Conv1D)           (None, 25, 128)           82048     \n",
            "                                                                 \n",
            " flatten (Flatten)           (None, 3200)              0         \n",
            "                                                                 \n",
            " dense (Dense)               (None, 64)                204864    \n",
            "                                                                 \n",
            " dropout_20 (Dropout)        (None, 64)                0         \n",
            "                                                                 \n",
            " dense_1 (Dense)             (None, 1)                 65        \n",
            "                                                                 \n",
            "=================================================================\n",
            "Total params: 369,793\n",
            "Trainable params: 369,793\n",
            "Non-trainable params: 0\n",
            "_________________________________________________________________\n"
          ]
        }
      ],
      "source": [
        "#λεπτομέρειες για τη δομή του μοντέλου\n",
        "model.summary()"
      ]
    },
    {
      "cell_type": "code",
      "execution_count": null,
      "metadata": {
        "id": "aFkQhzoY3bmx"
      },
      "outputs": [],
      "source": [
        "model.save('cnn_distilbert_title.h5')"
      ]
    },
    {
      "cell_type": "code",
      "source": [
        "y_pred = model.predict(test_embeddings)\n",
        "y_pred = (y_pred > 0.5).astype(int)\n",
        "cm = confusion_matrix(test_labels, y_pred)\n",
        "print(cm)"
      ],
      "metadata": {
        "id": "YJiszL6sV8Xt",
        "colab": {
          "base_uri": "https://localhost:8080/"
        },
        "outputId": "509c17fd-f3ef-49d1-cbc3-1d18e9446035"
      },
      "execution_count": null,
      "outputs": [
        {
          "output_type": "stream",
          "name": "stdout",
          "text": [
            "281/281 [==============================] - 1s 3ms/step\n",
            "[[4466  148]\n",
            " [ 147 4219]]\n"
          ]
        }
      ]
    },
    {
      "cell_type": "code",
      "execution_count": null,
      "metadata": {
        "id": "znsfa6RzhFFb"
      },
      "outputs": [],
      "source": [
        "from sklearn.metrics import classification_report, confusion_matrix\n",
        "def plot_history(history,model):\n",
        "   # Plot training and validation loss\n",
        "    sns.lineplot(x=history.epoch, y=history.history['loss'], label='train')\n",
        "    sns.lineplot(x=history.epoch, y=history.history['val_loss'], label='val')\n",
        "    plt.title('Model Loss')\n",
        "    plt.ylabel('Loss')\n",
        "    plt.xlabel('Epoch')\n",
        "    plt.legend(loc='upper right')\n",
        "    plt.show()\n",
        "    \n",
        "    # Plot training and validation accuracy\n",
        "    sns.lineplot(x=history.epoch, y=history.history['accuracy'], label='train')\n",
        "    sns.lineplot(x=history.epoch, y=history.history['val_accuracy'], label='val')\n",
        "    plt.title('Model Accuracy')\n",
        "    plt.ylabel('Accuracy')\n",
        "    plt.xlabel('Epoch')\n",
        "    plt.legend(loc='lower right')\n",
        "    plt.show()\n",
        "\n",
        "    y_pred = model.predict(test_embeddings)\n",
        "    y_pred = (y_pred > 0.5).astype(int)\n",
        "    cm = confusion_matrix(test_labels, y_pred)\n",
        "    sns.heatmap(cm, annot=True, cmap='Blues', fmt='g', cbar=False)\n",
        "    plt.xlabel('Predicted labels')\n",
        "    plt.ylabel('True labels')\n",
        "    plt.title('Confusion matrix')\n",
        "    plt.show()\n",
        "    \n",
        "    # Print the classification report\n",
        "    print(classification_report(test_labels, y_pred))"
      ]
    },
    {
      "cell_type": "code",
      "execution_count": null,
      "metadata": {
        "id": "Mu2jsBX5ipTj",
        "colab": {
          "base_uri": "https://localhost:8080/",
          "height": 1000
        },
        "outputId": "36bc2cd8-de56-488b-d591-58d6f7ae9ac1"
      },
      "outputs": [
        {
          "output_type": "display_data",
          "data": {
            "text/plain": [
              "<Figure size 640x480 with 1 Axes>"
            ],
            "image/png": "[encoded data removed]"
          },
          "metadata": {}
        },
        {
          "output_type": "display_data",
          "data": {
            "text/plain": [
              "<Figure size 640x480 with 1 Axes>"
            ],
            "image/png": "[encoded data removed]"
          },
          "metadata": {}
        },
        {
          "output_type": "stream",
          "name": "stdout",
          "text": [
            "281/281 [==============================] - 1s 2ms/step\n"
          ]
        },
        {
          "output_type": "display_data",
          "data": {
            "text/plain": [
              "<Figure size 640x480 with 1 Axes>"
            ],
            "image/png": "[encoded data removed]"
          },
          "metadata": {}
        },
        {
          "output_type": "stream",
          "name": "stdout",
          "text": [
            "              precision    recall  f1-score   support\n",
            "\n",
            "           0       0.97      0.97      0.97      4614\n",
            "           1       0.97      0.97      0.97      4366\n",
            "\n",
            "    accuracy                           0.97      8980\n",
            "   macro avg       0.97      0.97      0.97      8980\n",
            "weighted avg       0.97      0.97      0.97      8980\n",
            "\n"
          ]
        }
      ],
      "source": [
        "plot_history(history1,model)"
      ]
    },
    {
      "cell_type": "markdown",
      "metadata": {
        "id": "q3KfcfJYmedf"
      },
      "source": [
        "# **LSTM-DistilBERT-Titles**"
      ]
    },
    {
      "cell_type": "code",
      "execution_count": null,
      "metadata": {
        "id": "dlcCXxxh1uB2"
      },
      "outputs": [],
      "source": [
        "model2 = Sequential()\n",
        "model2.add(Conv1D(64, 5, activation='relu', input_shape=(768, 1)))\n",
        "model2.add(MaxPooling1D(pool_size=2))\n",
        "model2.add(Conv1D(64, 5, activation='relu'))\n",
        "model2.add(MaxPooling1D(pool_size=2))\n",
        "model2.add(Conv1D(64, 5, activation='relu'))\n",
        "model2.add(LSTM(64, return_sequences=True))\n",
        "model2.add(Dropout(0.2))\n",
        "model2.add(BatchNormalization())\n",
        "model2.add(Dense(64, activation='relu', kernel_regularizer='l2'))\n",
        "model2.add(Dropout(0.2))\n",
        "model2.add(Flatten())\n",
        "model2.add(Dense(1, activation='sigmoid'))"
      ]
    },
    {
      "cell_type": "code",
      "execution_count": null,
      "metadata": {
        "id": "1rclcXkK1uB3"
      },
      "outputs": [],
      "source": [
        "model2.compile(loss='binary_crossentropy', optimizer='adam', metrics=['accuracy'])"
      ]
    },
    {
      "cell_type": "code",
      "execution_count": null,
      "metadata": {
        "colab": {
          "base_uri": "https://localhost:8080/"
        },
        "id": "7XQoetmH1uB3",
        "outputId": "5c09c292-1946-482d-f3f5-8c93af414fc2"
      },
      "outputs": [
        {
          "output_type": "stream",
          "name": "stdout",
          "text": [
            "Epoch 1/10\n",
            "2245/2245 [==============================] - 37s 14ms/step - loss: 0.2403 - accuracy: 0.9320 - val_loss: 0.1427 - val_accuracy: 0.9493\n",
            "Epoch 2/10\n",
            "2245/2245 [==============================] - 30s 13ms/step - loss: 0.1382 - accuracy: 0.9499 - val_loss: 0.1612 - val_accuracy: 0.9448\n",
            "Epoch 3/10\n",
            "2245/2245 [==============================] - 28s 12ms/step - loss: 0.1225 - accuracy: 0.9566 - val_loss: 0.3895 - val_accuracy: 0.8621\n",
            "Epoch 4/10\n",
            "2245/2245 [==============================] - 28s 12ms/step - loss: 0.1102 - accuracy: 0.9606 - val_loss: 0.1109 - val_accuracy: 0.9619\n",
            "Epoch 5/10\n",
            "2245/2245 [==============================] - 28s 12ms/step - loss: 0.1023 - accuracy: 0.9629 - val_loss: 0.1154 - val_accuracy: 0.9615\n",
            "Epoch 6/10\n",
            "2245/2245 [==============================] - 28s 12ms/step - loss: 0.0944 - accuracy: 0.9656 - val_loss: 0.1003 - val_accuracy: 0.9665\n",
            "Epoch 7/10\n",
            "2245/2245 [==============================] - 28s 12ms/step - loss: 0.0884 - accuracy: 0.9683 - val_loss: 0.0976 - val_accuracy: 0.9666\n",
            "Epoch 8/10\n",
            "2245/2245 [==============================] - 28s 12ms/step - loss: 0.0820 - accuracy: 0.9710 - val_loss: 0.0980 - val_accuracy: 0.9659\n",
            "Epoch 9/10\n",
            "2245/2245 [==============================] - 28s 12ms/step - loss: 0.0768 - accuracy: 0.9729 - val_loss: 0.1040 - val_accuracy: 0.9641\n",
            "Epoch 10/10\n",
            "2245/2245 [==============================] - 28s 12ms/step - loss: 0.0724 - accuracy: 0.9736 - val_loss: 0.0963 - val_accuracy: 0.9668\n"
          ]
        }
      ],
      "source": [
        "history2 = model2.fit(train_embeddings, train_labels, epochs=10, batch_size=16, validation_data=(test_embeddings, test_labels))"
      ]
    },
    {
      "cell_type": "code",
      "execution_count": null,
      "metadata": {
        "colab": {
          "base_uri": "https://localhost:8080/"
        },
        "id": "5-YYrOCGpc-k",
        "outputId": "2d935691-f738-41a7-d157-9bed81ef858a"
      },
      "outputs": [
        {
          "output_type": "stream",
          "name": "stdout",
          "text": [
            "281/281 - 2s - loss: 0.0963 - accuracy: 0.9668 - 2s/epoch - 6ms/step\n",
            "281/281 [==============================] - 2s 5ms/step\n",
            "Test Accuracy: 0.966815173625946\n",
            "Test F1 Score: 0.9662361205529119\n",
            "Test Recall: 0.9766376546037563\n",
            "Precision: 0.9560538116591928\n"
          ]
        }
      ],
      "source": [
        "test_loss, test_acc = model2.evaluate(test_embeddings, test_labels, verbose=2)\n",
        "\n",
        "y_pred = model2.predict(test_embeddings)\n",
        "y_pred = (y_pred > 0.5).astype('int32')\n",
        "\n",
        "f1 = f1_score(test_labels, y_pred)\n",
        "recall = recall_score(test_labels, y_pred)\n",
        "precision = precision_score(test_labels, y_pred)\n",
        "\n",
        "print(\"Test Accuracy:\", test_acc)\n",
        "print(\"Test F1 Score:\", f1)\n",
        "print(\"Test Recall:\", recall)\n",
        "print(\"Precision:\", precision)"
      ]
    },
    {
      "cell_type": "code",
      "execution_count": null,
      "metadata": {
        "colab": {
          "base_uri": "https://localhost:8080/"
        },
        "id": "iaUS-5ebBV94",
        "outputId": "66646599-342c-4b2c-84d8-ee57e08e1112"
      },
      "outputs": [
        {
          "output_type": "stream",
          "name": "stdout",
          "text": [
            "Model: \"sequential_1\"\n",
            "_________________________________________________________________\n",
            " Layer (type)                Output Shape              Param #   \n",
            "=================================================================\n",
            " conv1d_3 (Conv1D)           (None, 764, 64)           384       \n",
            "                                                                 \n",
            " max_pooling1d_2 (MaxPooling  (None, 382, 64)          0         \n",
            " 1D)                                                             \n",
            "                                                                 \n",
            " conv1d_4 (Conv1D)           (None, 378, 64)           20544     \n",
            "                                                                 \n",
            " max_pooling1d_3 (MaxPooling  (None, 189, 64)          0         \n",
            " 1D)                                                             \n",
            "                                                                 \n",
            " conv1d_5 (Conv1D)           (None, 185, 64)           20544     \n",
            "                                                                 \n",
            " lstm (LSTM)                 (None, 185, 64)           33024     \n",
            "                                                                 \n",
            " dropout_21 (Dropout)        (None, 185, 64)           0         \n",
            "                                                                 \n",
            " batch_normalization (BatchN  (None, 185, 64)          256       \n",
            " ormalization)                                                   \n",
            "                                                                 \n",
            " dense_2 (Dense)             (None, 185, 64)           4160      \n",
            "                                                                 \n",
            " dropout_22 (Dropout)        (None, 185, 64)           0         \n",
            "                                                                 \n",
            " flatten_1 (Flatten)         (None, 11840)             0         \n",
            "                                                                 \n",
            " dense_3 (Dense)             (None, 1)                 11841     \n",
            "                                                                 \n",
            "=================================================================\n",
            "Total params: 90,753\n",
            "Trainable params: 90,625\n",
            "Non-trainable params: 128\n",
            "_________________________________________________________________\n"
          ]
        }
      ],
      "source": [
        "model2.summary()"
      ]
    },
    {
      "cell_type": "code",
      "execution_count": null,
      "metadata": {
        "id": "8UjR7COE3jf0"
      },
      "outputs": [],
      "source": [
        "model2.save('lstm_base.h5')"
      ]
    },
    {
      "cell_type": "code",
      "execution_count": null,
      "metadata": {
        "colab": {
          "base_uri": "https://localhost:8080/",
          "height": 1000
        },
        "id": "d3KHiJvbo1bc",
        "outputId": "905f53e2-b642-4eab-b746-9c5c368b3576"
      },
      "outputs": [
        {
          "output_type": "display_data",
          "data": {
            "text/plain": [
              "<Figure size 640x480 with 1 Axes>"
            ],
            "image/png": "[encoded data removed]"
          },
          "metadata": {}
        },
        {
          "output_type": "display_data",
          "data": {
            "text/plain": [
              "<Figure size 640x480 with 1 Axes>"
            ],
            "image/png": "[encoded data removed]"
          },
          "metadata": {}
        },
        {
          "output_type": "stream",
          "name": "stdout",
          "text": [
            "281/281 [==============================] - 2s 6ms/step\n"
          ]
        },
        {
          "output_type": "display_data",
          "data": {
            "text/plain": [
              "<Figure size 640x480 with 1 Axes>"
            ],
            "image/png": "[encoded data removed]"
          },
          "metadata": {}
        },
        {
          "output_type": "stream",
          "name": "stdout",
          "text": [
            "              precision    recall  f1-score   support\n",
            "\n",
            "           0       0.98      0.96      0.97      4614\n",
            "           1       0.96      0.98      0.97      4366\n",
            "\n",
            "    accuracy                           0.97      8980\n",
            "   macro avg       0.97      0.97      0.97      8980\n",
            "weighted avg       0.97      0.97      0.97      8980\n",
            "\n"
          ]
        }
      ],
      "source": [
        "plot_history(history2,model2)"
      ]
    },
    {
      "cell_type": "markdown",
      "metadata": {
        "id": "W5JGTA1HClWd"
      },
      "source": [
        "# **FakeBert-DistilBERT-Titles**"
      ]
    },
    {
      "cell_type": "code",
      "execution_count": null,
      "metadata": {
        "id": "JsolXXxw7CdF"
      },
      "outputs": [],
      "source": [
        "inputs = Input(shape=(768, 1))\n",
        "conv1 = Conv1D(128, 3, activation='relu', padding='same')(inputs)\n",
        "maxpool1 = MaxPooling1D(pool_size=2)(conv1)\n",
        "conv2 = Conv1D(128, 4, activation='relu', padding='same')(inputs)\n",
        "maxpool2 = MaxPooling1D(pool_size=2)(conv2)\n",
        "conv3 = Conv1D(128, 5, activation='relu', padding='same')(inputs)\n",
        "maxpool3 = MaxPooling1D(pool_size=2)(conv3)\n",
        "concat = Concatenate()([maxpool1, maxpool2, maxpool3])\n",
        "conv4 = Conv1D(128, 5, activation='relu', padding='same')(concat)\n",
        "maxpool4 = MaxPooling1D(pool_size=2)(conv4)\n",
        "flatten = Flatten()(maxpool4)\n",
        "dense1 = Dense(384, activation='relu')(flatten)\n",
        "dropout1 = Dropout(0.5)(dense1)\n",
        "dense2 = Dense(128, activation='relu')(dropout1)\n",
        "dropout2 = Dropout(0.5)(dense2)\n",
        "output = Dense(1, activation='sigmoid')(dropout2)\n",
        "\n",
        "model3 = Model(inputs=inputs, outputs=output)"
      ]
    },
    {
      "cell_type": "code",
      "execution_count": null,
      "metadata": {
        "id": "1jUX1mul86A-"
      },
      "outputs": [],
      "source": [
        "model3.compile(loss='binary_crossentropy', optimizer='adam', metrics=['accuracy'])"
      ]
    },
    {
      "cell_type": "code",
      "execution_count": null,
      "metadata": {
        "colab": {
          "base_uri": "https://localhost:8080/"
        },
        "id": "9LKHPjsu86BN",
        "outputId": "25cc4b0e-6722-4d11-c147-158ccbdb640e"
      },
      "outputs": [
        {
          "output_type": "stream",
          "name": "stdout",
          "text": [
            "Epoch 1/10\n",
            "2245/2245 [==============================] - 26s 12ms/step - loss: 0.1516 - accuracy: 0.9443 - val_loss: 0.1145 - val_accuracy: 0.9550\n",
            "Epoch 2/10\n",
            "2245/2245 [==============================] - 25s 11ms/step - loss: 0.1169 - accuracy: 0.9564 - val_loss: 0.0988 - val_accuracy: 0.9627\n",
            "Epoch 3/10\n",
            "2245/2245 [==============================] - 25s 11ms/step - loss: 0.1005 - accuracy: 0.9630 - val_loss: 0.0974 - val_accuracy: 0.9648\n",
            "Epoch 4/10\n",
            "2245/2245 [==============================] - 25s 11ms/step - loss: 0.0863 - accuracy: 0.9683 - val_loss: 0.1024 - val_accuracy: 0.9659\n",
            "Epoch 5/10\n",
            "2245/2245 [==============================] - 25s 11ms/step - loss: 0.0799 - accuracy: 0.9719 - val_loss: 0.0879 - val_accuracy: 0.9645\n",
            "Epoch 6/10\n",
            "2245/2245 [==============================] - 25s 11ms/step - loss: 0.0694 - accuracy: 0.9741 - val_loss: 0.0883 - val_accuracy: 0.9677\n",
            "Epoch 7/10\n",
            "2245/2245 [==============================] - 25s 11ms/step - loss: 0.0635 - accuracy: 0.9768 - val_loss: 0.1171 - val_accuracy: 0.9649\n",
            "Epoch 8/10\n",
            "2245/2245 [==============================] - 26s 11ms/step - loss: 0.0553 - accuracy: 0.9800 - val_loss: 0.0994 - val_accuracy: 0.9657\n",
            "Epoch 9/10\n",
            "2245/2245 [==============================] - 25s 11ms/step - loss: 0.0511 - accuracy: 0.9816 - val_loss: 0.0876 - val_accuracy: 0.9700\n",
            "Epoch 10/10\n",
            "2245/2245 [==============================] - 25s 11ms/step - loss: 0.0451 - accuracy: 0.9843 - val_loss: 0.1058 - val_accuracy: 0.9687\n"
          ]
        }
      ],
      "source": [
        "history3 = model3.fit(train_embeddings, train_labels, epochs=10, batch_size=16, validation_data=(test_embeddings, test_labels))"
      ]
    },
    {
      "cell_type": "code",
      "execution_count": null,
      "metadata": {
        "colab": {
          "base_uri": "https://localhost:8080/"
        },
        "id": "Z-lMNlwb86BN",
        "outputId": "e672b4a3-1d8f-4ed5-8c02-e2338cb7c3ed"
      },
      "outputs": [
        {
          "output_type": "stream",
          "name": "stdout",
          "text": [
            "281/281 - 2s - loss: 0.1058 - accuracy: 0.9687 - 2s/epoch - 7ms/step\n",
            "281/281 [==============================] - 2s 5ms/step\n",
            "Test Accuracy: 0.9687082171440125\n",
            "Test F1 Score: 0.9675031802937435\n",
            "Test Recall: 0.9580852038479157\n",
            "Precision: 0.9771081523008642\n"
          ]
        }
      ],
      "source": [
        "test_loss, test_acc = model3.evaluate(test_embeddings, test_labels, verbose=2)\n",
        "\n",
        "y_pred = model3.predict(test_embeddings)\n",
        "y_pred = (y_pred > 0.5).astype('int32')\n",
        "\n",
        "f1 = f1_score(test_labels, y_pred)\n",
        "recall = recall_score(test_labels, y_pred)\n",
        "precision = precision_score(test_labels, y_pred)\n",
        "\n",
        "print(\"Test Accuracy:\", test_acc)\n",
        "print(\"Test F1 Score:\", f1)\n",
        "print(\"Test Recall:\", recall)\n",
        "print(\"Precision:\", precision)"
      ]
    },
    {
      "cell_type": "code",
      "execution_count": null,
      "metadata": {
        "colab": {
          "base_uri": "https://localhost:8080/"
        },
        "id": "iLUfB_1M86BN",
        "outputId": "437ead05-b027-4a9e-82cd-a6bf42a942b3"
      },
      "outputs": [
        {
          "output_type": "stream",
          "name": "stdout",
          "text": [
            "Model: \"model\"\n",
            "__________________________________________________________________________________________________\n",
            " Layer (type)                   Output Shape         Param #     Connected to                     \n",
            "==================================================================================================\n",
            " input_1 (InputLayer)           [(None, 768, 1)]     0           []                               \n",
            "                                                                                                  \n",
            " conv1d_6 (Conv1D)              (None, 768, 128)     512         ['input_1[0][0]']                \n",
            "                                                                                                  \n",
            " conv1d_7 (Conv1D)              (None, 768, 128)     640         ['input_1[0][0]']                \n",
            "                                                                                                  \n",
            " conv1d_8 (Conv1D)              (None, 768, 128)     768         ['input_1[0][0]']                \n",
            "                                                                                                  \n",
            " max_pooling1d_4 (MaxPooling1D)  (None, 384, 128)    0           ['conv1d_6[0][0]']               \n",
            "                                                                                                  \n",
            " max_pooling1d_5 (MaxPooling1D)  (None, 384, 128)    0           ['conv1d_7[0][0]']               \n",
            "                                                                                                  \n",
            " max_pooling1d_6 (MaxPooling1D)  (None, 384, 128)    0           ['conv1d_8[0][0]']               \n",
            "                                                                                                  \n",
            " concatenate (Concatenate)      (None, 384, 384)     0           ['max_pooling1d_4[0][0]',        \n",
            "                                                                  'max_pooling1d_5[0][0]',        \n",
            "                                                                  'max_pooling1d_6[0][0]']        \n",
            "                                                                                                  \n",
            " conv1d_9 (Conv1D)              (None, 384, 128)     245888      ['concatenate[0][0]']            \n",
            "                                                                                                  \n",
            " max_pooling1d_7 (MaxPooling1D)  (None, 192, 128)    0           ['conv1d_9[0][0]']               \n",
            "                                                                                                  \n",
            " flatten_2 (Flatten)            (None, 24576)        0           ['max_pooling1d_7[0][0]']        \n",
            "                                                                                                  \n",
            " dense_4 (Dense)                (None, 384)          9437568     ['flatten_2[0][0]']              \n",
            "                                                                                                  \n",
            " dropout_23 (Dropout)           (None, 384)          0           ['dense_4[0][0]']                \n",
            "                                                                                                  \n",
            " dense_5 (Dense)                (None, 128)          49280       ['dropout_23[0][0]']             \n",
            "                                                                                                  \n",
            " dropout_24 (Dropout)           (None, 128)          0           ['dense_5[0][0]']                \n",
            "                                                                                                  \n",
            " dense_6 (Dense)                (None, 1)            129         ['dropout_24[0][0]']             \n",
            "                                                                                                  \n",
            "==================================================================================================\n",
            "Total params: 9,734,785\n",
            "Trainable params: 9,734,785\n",
            "Non-trainable params: 0\n",
            "__________________________________________________________________________________________________\n"
          ]
        }
      ],
      "source": [
        "model3.summary()"
      ]
    },
    {
      "cell_type": "code",
      "execution_count": null,
      "metadata": {
        "id": "ZpPt35Yx86BO"
      },
      "outputs": [],
      "source": [
        "model3.save('fake_bert.h5')"
      ]
    },
    {
      "cell_type": "code",
      "source": [
        "y_pred = model3.predict(test_embeddings)\n",
        "y_pred = (y_pred > 0.5).astype(int)\n",
        "cm = confusion_matrix(test_labels, y_pred)\n",
        "print(cm)"
      ],
      "metadata": {
        "colab": {
          "base_uri": "https://localhost:8080/"
        },
        "id": "Uz1yrSXHcffi",
        "outputId": "9071e2db-b623-406d-ae3b-ca65747dd043"
      },
      "execution_count": null,
      "outputs": [
        {
          "output_type": "stream",
          "name": "stdout",
          "text": [
            "281/281 [==============================] - 1s 5ms/step\n",
            "[[4516   98]\n",
            " [ 183 4183]]\n"
          ]
        }
      ]
    },
    {
      "cell_type": "markdown",
      "metadata": {
        "id": "U_KPzSyIuxYM"
      },
      "source": [
        "# **CNN-DistilBERT-Text**"
      ]
    },
    {
      "cell_type": "code",
      "execution_count": null,
      "metadata": {
        "id": "6Am6vQsH-sGS"
      },
      "outputs": [],
      "source": [
        "#εισάγουμε τα δεδομένα από τ' αποθηκευμένα αρχεία που δημιουργήσαμε νωρίτερα\n",
        "embeddings = np.load('/content/drive/MyDrive/NEWS_DATASET/embeddings_text_distilbert.npy')\n",
        "labels = np.load('/content/drive/MyDrive/NEWS_DATASET/labels_text_distilbert.npy')"
      ]
    },
    {
      "cell_type": "code",
      "execution_count": null,
      "metadata": {
        "id": "uYwTuw5r-sGj"
      },
      "outputs": [],
      "source": [
        "train_embeddings, test_embeddings, train_labels, test_labels = train_test_split(embeddings, labels, test_size=0.2, random_state=42, shuffle=True)"
      ]
    },
    {
      "cell_type": "code",
      "source": [
        "train_embeddings = tf.expand_dims(train_embeddings, axis=-1)\n",
        "test_embeddings = tf.expand_dims(test_embeddings, axis=-1)"
      ],
      "metadata": {
        "id": "rNLgKWkS-sGk"
      },
      "execution_count": null,
      "outputs": []
    },
    {
      "cell_type": "code",
      "source": [
        "train_embeddings.shape"
      ],
      "metadata": {
        "colab": {
          "base_uri": "https://localhost:8080/"
        },
        "outputId": "e7a899c7-0d50-4f50-8543-414b2a3477e8",
        "id": "HdctXGCj-sGk"
      },
      "execution_count": null,
      "outputs": [
        {
          "output_type": "execute_result",
          "data": {
            "text/plain": [
              "TensorShape([35918, 768, 1])"
            ]
          },
          "metadata": {},
          "execution_count": 7
        }
      ]
    },
    {
      "cell_type": "code",
      "execution_count": null,
      "metadata": {
        "id": "Y-az-e55-sGk"
      },
      "outputs": [],
      "source": [
        "# build the model\n",
        "model4 = Sequential()\n",
        "model4.add(Conv1D(filters=128, kernel_size=5, activation='relu', input_shape=(768,1)))\n",
        "model4.add(MaxPooling1D(pool_size=5))\n",
        "model4.add(Conv1D(128, 5, activation='relu'))\n",
        "model4.add(MaxPooling1D(pool_size=5))\n",
        "model4.add(Conv1D(128, 5, activation='relu'))\n",
        "model4.add(Flatten())\n",
        "model4.add(Dense(64, activation='relu'))\n",
        "model4.add(Dropout(0.5))\n",
        "model4.add(Dense(1, activation='sigmoid'))\n"
      ]
    },
    {
      "cell_type": "code",
      "execution_count": null,
      "metadata": {
        "id": "fH7OEw3A-sGl"
      },
      "outputs": [],
      "source": [
        "model4.compile(loss='binary_crossentropy', optimizer='adam', metrics=['accuracy'])"
      ]
    },
    {
      "cell_type": "code",
      "source": [
        "history4 = model4.fit(train_embeddings, train_labels, epochs=10, batch_size=16,validation_data=(test_embeddings, test_labels))"
      ],
      "metadata": {
        "colab": {
          "base_uri": "https://localhost:8080/"
        },
        "outputId": "c712fbde-2c5a-4c3e-86ce-22ade311639c",
        "id": "KY9JhhwX-sGl"
      },
      "execution_count": null,
      "outputs": [
        {
          "output_type": "stream",
          "name": "stdout",
          "text": [
            "Epoch 1/10\n",
            "2245/2245 [==============================] - 35s 10ms/step - loss: 0.1303 - accuracy: 0.9492 - val_loss: 0.0551 - val_accuracy: 0.9806\n",
            "Epoch 2/10\n",
            "2245/2245 [==============================] - 17s 8ms/step - loss: 0.0576 - accuracy: 0.9801 - val_loss: 0.0464 - val_accuracy: 0.9840\n",
            "Epoch 3/10\n",
            "2245/2245 [==============================] - 18s 8ms/step - loss: 0.0482 - accuracy: 0.9826 - val_loss: 0.0422 - val_accuracy: 0.9846\n",
            "Epoch 4/10\n",
            "2245/2245 [==============================] - 15s 6ms/step - loss: 0.0415 - accuracy: 0.9863 - val_loss: 0.0396 - val_accuracy: 0.9870\n",
            "Epoch 5/10\n",
            "2245/2245 [==============================] - 14s 6ms/step - loss: 0.0371 - accuracy: 0.9874 - val_loss: 0.0385 - val_accuracy: 0.9875\n",
            "Epoch 6/10\n",
            "2245/2245 [==============================] - 22s 10ms/step - loss: 0.0334 - accuracy: 0.9887 - val_loss: 0.0452 - val_accuracy: 0.9870\n",
            "Epoch 7/10\n",
            "2245/2245 [==============================] - 22s 10ms/step - loss: 0.0318 - accuracy: 0.9896 - val_loss: 0.0433 - val_accuracy: 0.9893\n",
            "Epoch 8/10\n",
            "2245/2245 [==============================] - 16s 7ms/step - loss: 0.0286 - accuracy: 0.9898 - val_loss: 0.0554 - val_accuracy: 0.9812\n",
            "Epoch 9/10\n",
            "2245/2245 [==============================] - 14s 6ms/step - loss: 0.0270 - accuracy: 0.9899 - val_loss: 0.0335 - val_accuracy: 0.9894\n",
            "Epoch 10/10\n",
            "2245/2245 [==============================] - 14s 6ms/step - loss: 0.0259 - accuracy: 0.9906 - val_loss: 0.0455 - val_accuracy: 0.9884\n"
          ]
        }
      ]
    },
    {
      "cell_type": "code",
      "execution_count": null,
      "metadata": {
        "colab": {
          "base_uri": "https://localhost:8080/"
        },
        "outputId": "15169c59-7232-40d5-bb01-6550b5ff0fa8",
        "id": "pDNdWvHZ-sGl"
      },
      "outputs": [
        {
          "output_type": "stream",
          "name": "stdout",
          "text": [
            "281/281 [==============================] - 2s 7ms/step - loss: 0.0455 - accuracy: 0.9884\n",
            "281/281 [==============================] - 1s 3ms/step\n",
            "Test Accuracy: 0.988418698310852\n",
            "Test F1 Score: 0.9881575950808473\n",
            "Test Recall: 0.9938158497480531\n",
            "Precision: 0.9825634057971014\n"
          ]
        }
      ],
      "source": [
        "test_loss, test_acc = model4.evaluate(test_embeddings, test_labels)\n",
        "\n",
        "y_pred = model4.predict(test_embeddings)\n",
        "y_pred = (y_pred > 0.5).astype('int32')\n",
        "\n",
        "f1 = f1_score(test_labels, y_pred)\n",
        "recall = recall_score(test_labels, y_pred)\n",
        "precision = precision_score(test_labels, y_pred)\n",
        "\n",
        "#accuraccy \n",
        "print(\"Test Accuracy:\", test_acc)\n",
        "#f1-score\n",
        "print(\"Test F1 Score:\", f1)\n",
        "#recall\n",
        "print(\"Test Recall:\", recall)\n",
        "#precision\n",
        "print(\"Precision:\", precision)"
      ]
    },
    {
      "cell_type": "code",
      "execution_count": null,
      "metadata": {
        "colab": {
          "base_uri": "https://localhost:8080/"
        },
        "outputId": "97929a38-cff7-42a2-eff1-9903589737f3",
        "id": "WY6afD2q-sGm"
      },
      "outputs": [
        {
          "output_type": "stream",
          "name": "stdout",
          "text": [
            "Model: \"sequential\"\n",
            "_________________________________________________________________\n",
            " Layer (type)                Output Shape              Param #   \n",
            "=================================================================\n",
            " conv1d (Conv1D)             (None, 764, 128)          768       \n",
            "                                                                 \n",
            " max_pooling1d (MaxPooling1D  (None, 152, 128)         0         \n",
            " )                                                               \n",
            "                                                                 \n",
            " conv1d_1 (Conv1D)           (None, 148, 128)          82048     \n",
            "                                                                 \n",
            " max_pooling1d_1 (MaxPooling  (None, 29, 128)          0         \n",
            " 1D)                                                             \n",
            "                                                                 \n",
            " conv1d_2 (Conv1D)           (None, 25, 128)           82048     \n",
            "                                                                 \n",
            " flatten (Flatten)           (None, 3200)              0         \n",
            "                                                                 \n",
            " dense (Dense)               (None, 64)                204864    \n",
            "                                                                 \n",
            " dropout_20 (Dropout)        (None, 64)                0         \n",
            "                                                                 \n",
            " dense_1 (Dense)             (None, 1)                 65        \n",
            "                                                                 \n",
            "=================================================================\n",
            "Total params: 369,793\n",
            "Trainable params: 369,793\n",
            "Non-trainable params: 0\n",
            "_________________________________________________________________\n"
          ]
        }
      ],
      "source": [
        "#λεπτομέρειες για τη δομή του μοντέλου\n",
        "model4.summary()"
      ]
    },
    {
      "cell_type": "code",
      "execution_count": null,
      "metadata": {
        "id": "XZaKqBCa-sGm"
      },
      "outputs": [],
      "source": [
        "model4.save('cnn_distilbert_text.h5')"
      ]
    },
    {
      "cell_type": "code",
      "source": [
        "y_pred = model4.predict(test_embeddings)\n",
        "y_pred = (y_pred > 0.5).astype(int)\n",
        "cm = confusion_matrix(test_labels, y_pred)\n",
        "print(cm)"
      ],
      "metadata": {
        "colab": {
          "base_uri": "https://localhost:8080/"
        },
        "outputId": "ff6b9024-9e01-47c3-9c9a-858259117216",
        "id": "UqY8KDRY-sGm"
      },
      "execution_count": null,
      "outputs": [
        {
          "output_type": "stream",
          "name": "stdout",
          "text": [
            "281/281 [==============================] - 1s 2ms/step\n",
            "[[4537   77]\n",
            " [  27 4339]]\n"
          ]
        }
      ]
    },
    {
      "cell_type": "code",
      "execution_count": null,
      "metadata": {
        "colab": {
          "base_uri": "https://localhost:8080/",
          "height": 1000
        },
        "outputId": "49ee380a-8284-410e-f977-5b1d9dfdcbb3",
        "id": "qoxtZAr8-sGm"
      },
      "outputs": [
        {
          "output_type": "display_data",
          "data": {
            "text/plain": [
              "<Figure size 640x480 with 1 Axes>"
            ],
            "image/png": "[encoded data removed]"
          },
          "metadata": {}
        },
        {
          "output_type": "display_data",
          "data": {
            "text/plain": [
              "<Figure size 640x480 with 1 Axes>"
            ],
            "image/png": "[encoded data removed]"
          },
          "metadata": {}
        },
        {
          "output_type": "stream",
          "name": "stdout",
          "text": [
            "281/281 [==============================] - 1s 2ms/step\n"
          ]
        },
        {
          "output_type": "display_data",
          "data": {
            "text/plain": [
              "<Figure size 640x480 with 1 Axes>"
            ],
            "image/png": "[encoded data removed]"
          },
          "metadata": {}
        },
        {
          "output_type": "stream",
          "name": "stdout",
          "text": [
            "              precision    recall  f1-score   support\n",
            "\n",
            "           0       0.99      0.98      0.99      4614\n",
            "           1       0.98      0.99      0.99      4366\n",
            "\n",
            "    accuracy                           0.99      8980\n",
            "   macro avg       0.99      0.99      0.99      8980\n",
            "weighted avg       0.99      0.99      0.99      8980\n",
            "\n"
          ]
        }
      ],
      "source": [
        "plot_history(history4,model4)"
      ]
    },
    {
      "cell_type": "markdown",
      "metadata": {
        "id": "Hz-2YSQ1u9hY"
      },
      "source": [
        "# **LSTM-DistilBERT-Text**"
      ]
    },
    {
      "cell_type": "code",
      "execution_count": null,
      "metadata": {
        "id": "EvLfXUgzfe_T"
      },
      "outputs": [],
      "source": [
        "model5 = Sequential()\n",
        "model5.add(Conv1D(64, 5, activation='relu', input_shape=(768, 1)))\n",
        "model5.add(MaxPooling1D(pool_size=2))\n",
        "model5.add(Conv1D(64, 5, activation='relu'))\n",
        "model5.add(MaxPooling1D(pool_size=2))\n",
        "model5.add(Conv1D(64, 5, activation='relu'))\n",
        "model5.add(LSTM(64, return_sequences=True))\n",
        "model5.add(Dropout(0.2))\n",
        "model5.add(BatchNormalization())\n",
        "model5.add(Dense(64, activation='relu', kernel_regularizer='l2'))\n",
        "model5.add(Dropout(0.2))\n",
        "model5.add(Flatten())\n",
        "model5.add(Dense(1, activation='sigmoid'))"
      ]
    },
    {
      "cell_type": "code",
      "execution_count": null,
      "metadata": {
        "id": "Jh8JJ9zBfe_e"
      },
      "outputs": [],
      "source": [
        "model5.compile(loss='binary_crossentropy', optimizer='adam', metrics=['accuracy'])"
      ]
    },
    {
      "cell_type": "code",
      "execution_count": null,
      "metadata": {
        "colab": {
          "base_uri": "https://localhost:8080/"
        },
        "outputId": "ba41b7e8-5a16-4f68-c9fb-0f2e0b39fd49",
        "id": "kPAAS83qfe_f"
      },
      "outputs": [
        {
          "output_type": "stream",
          "name": "stdout",
          "text": [
            "Epoch 1/10\n",
            "2245/2245 [==============================] - 37s 14ms/step - loss: 0.1601 - accuracy: 0.9607 - val_loss: 0.7612 - val_accuracy: 0.7453\n",
            "Epoch 2/10\n",
            "2245/2245 [==============================] - 32s 14ms/step - loss: 0.0702 - accuracy: 0.9775 - val_loss: 0.0698 - val_accuracy: 0.9758\n",
            "Epoch 3/10\n",
            "2245/2245 [==============================] - 31s 14ms/step - loss: 0.0581 - accuracy: 0.9820 - val_loss: 0.0938 - val_accuracy: 0.9659\n",
            "Epoch 4/10\n",
            "2245/2245 [==============================] - 30s 14ms/step - loss: 0.0493 - accuracy: 0.9843 - val_loss: 0.1406 - val_accuracy: 0.9497\n",
            "Epoch 5/10\n",
            "2245/2245 [==============================] - 32s 14ms/step - loss: 0.0439 - accuracy: 0.9856 - val_loss: 0.0672 - val_accuracy: 0.9788\n",
            "Epoch 6/10\n",
            "2245/2245 [==============================] - 32s 14ms/step - loss: 0.0373 - accuracy: 0.9879 - val_loss: 0.0808 - val_accuracy: 0.9726\n",
            "Epoch 7/10\n",
            "2245/2245 [==============================] - 30s 13ms/step - loss: 0.0354 - accuracy: 0.9885 - val_loss: 0.0506 - val_accuracy: 0.9825\n",
            "Epoch 8/10\n",
            "2245/2245 [==============================] - 33s 15ms/step - loss: 0.0313 - accuracy: 0.9895 - val_loss: 0.0444 - val_accuracy: 0.9867\n",
            "Epoch 9/10\n",
            "2245/2245 [==============================] - 33s 15ms/step - loss: 0.0302 - accuracy: 0.9910 - val_loss: 0.0456 - val_accuracy: 0.9859\n",
            "Epoch 10/10\n",
            "2245/2245 [==============================] - 32s 14ms/step - loss: 0.0268 - accuracy: 0.9917 - val_loss: 0.0335 - val_accuracy: 0.9899\n"
          ]
        }
      ],
      "source": [
        "history5 = model5.fit(train_embeddings, train_labels, epochs=10, batch_size=16, validation_data=(test_embeddings, test_labels))"
      ]
    },
    {
      "cell_type": "code",
      "execution_count": null,
      "metadata": {
        "colab": {
          "base_uri": "https://localhost:8080/"
        },
        "outputId": "e369384d-adf3-41f6-b3f8-37b581324b13",
        "id": "_vgYw4Ssfe_f"
      },
      "outputs": [
        {
          "output_type": "stream",
          "name": "stdout",
          "text": [
            "281/281 - 2s - loss: 0.0335 - accuracy: 0.9899 - 2s/epoch - 6ms/step\n",
            "281/281 [==============================] - 2s 5ms/step\n",
            "Test Accuracy: 0.9898663759231567\n",
            "Test F1 Score: 0.9895940537449972\n",
            "Test Recall: 0.9910673385249656\n",
            "Precision: 0.98812514272665\n"
          ]
        }
      ],
      "source": [
        "test_loss, test_acc = model5.evaluate(test_embeddings, test_labels, verbose=2)\n",
        "\n",
        "y_pred = model5.predict(test_embeddings)\n",
        "y_pred = (y_pred > 0.5).astype('int32')\n",
        "\n",
        "f1 = f1_score(test_labels, y_pred)\n",
        "recall = recall_score(test_labels, y_pred)\n",
        "precision = precision_score(test_labels, y_pred)\n",
        "\n",
        "print(\"Test Accuracy:\", test_acc)\n",
        "print(\"Test F1 Score:\", f1)\n",
        "print(\"Test Recall:\", recall)\n",
        "print(\"Precision:\", precision)"
      ]
    },
    {
      "cell_type": "code",
      "execution_count": null,
      "metadata": {
        "colab": {
          "base_uri": "https://localhost:8080/"
        },
        "outputId": "8bf7878e-ec19-4eb3-9ba7-35b16a86a3d3",
        "id": "bautprzefe_f"
      },
      "outputs": [
        {
          "output_type": "stream",
          "name": "stdout",
          "text": [
            "Model: \"sequential_1\"\n",
            "_________________________________________________________________\n",
            " Layer (type)                Output Shape              Param #   \n",
            "=================================================================\n",
            " conv1d_3 (Conv1D)           (None, 764, 64)           384       \n",
            "                                                                 \n",
            " max_pooling1d_2 (MaxPooling  (None, 382, 64)          0         \n",
            " 1D)                                                             \n",
            "                                                                 \n",
            " conv1d_4 (Conv1D)           (None, 378, 64)           20544     \n",
            "                                                                 \n",
            " max_pooling1d_3 (MaxPooling  (None, 189, 64)          0         \n",
            " 1D)                                                             \n",
            "                                                                 \n",
            " conv1d_5 (Conv1D)           (None, 185, 64)           20544     \n",
            "                                                                 \n",
            " lstm (LSTM)                 (None, 185, 64)           33024     \n",
            "                                                                 \n",
            " dropout_21 (Dropout)        (None, 185, 64)           0         \n",
            "                                                                 \n",
            " batch_normalization (BatchN  (None, 185, 64)          256       \n",
            " ormalization)                                                   \n",
            "                                                                 \n",
            " dense_2 (Dense)             (None, 185, 64)           4160      \n",
            "                                                                 \n",
            " dropout_22 (Dropout)        (None, 185, 64)           0         \n",
            "                                                                 \n",
            " flatten_1 (Flatten)         (None, 11840)             0         \n",
            "                                                                 \n",
            " dense_3 (Dense)             (None, 1)                 11841     \n",
            "                                                                 \n",
            "=================================================================\n",
            "Total params: 90,753\n",
            "Trainable params: 90,625\n",
            "Non-trainable params: 128\n",
            "_________________________________________________________________\n"
          ]
        }
      ],
      "source": [
        "model5.summary()"
      ]
    },
    {
      "cell_type": "code",
      "execution_count": null,
      "metadata": {
        "id": "WtY-jCJNfe_f"
      },
      "outputs": [],
      "source": [
        "model5.save('lstm_base_text.h5')"
      ]
    },
    {
      "cell_type": "code",
      "execution_count": null,
      "metadata": {
        "colab": {
          "base_uri": "https://localhost:8080/",
          "height": 1000
        },
        "outputId": "09397007-eee2-43b9-a481-63407569dd83",
        "id": "MYkL5Vkgfe_g"
      },
      "outputs": [
        {
          "output_type": "display_data",
          "data": {
            "text/plain": [
              "<Figure size 640x480 with 1 Axes>"
            ],
            "image/png": "[encoded data removed]"
          },
          "metadata": {}
        },
        {
          "output_type": "display_data",
          "data": {
            "text/plain": [
              "<Figure size 640x480 with 1 Axes>"
            ],
            "image/png": "[encoded data removed]"
          },
          "metadata": {}
        },
        {
          "output_type": "stream",
          "name": "stdout",
          "text": [
            "281/281 [==============================] - 2s 6ms/step\n"
          ]
        },
        {
          "output_type": "display_data",
          "data": {
            "text/plain": [
              "<Figure size 640x480 with 1 Axes>"
            ],
            "image/png": "[encoded data removed]"
          },
          "metadata": {}
        },
        {
          "output_type": "stream",
          "name": "stdout",
          "text": [
            "              precision    recall  f1-score   support\n",
            "\n",
            "           0       0.99      0.99      0.99      4614\n",
            "           1       0.99      0.99      0.99      4366\n",
            "\n",
            "    accuracy                           0.99      8980\n",
            "   macro avg       0.99      0.99      0.99      8980\n",
            "weighted avg       0.99      0.99      0.99      8980\n",
            "\n"
          ]
        }
      ],
      "source": [
        "plot_history(history5,model5)"
      ]
    },
    {
      "cell_type": "markdown",
      "metadata": {
        "id": "JDRXOydBu_ry"
      },
      "source": [
        "# **FakeBERT-DistilBERT-Text**"
      ]
    },
    {
      "cell_type": "code",
      "execution_count": null,
      "metadata": {
        "id": "vsmJ3ua0gsc6"
      },
      "outputs": [],
      "source": [
        "inputs = Input(shape=(768, 1))\n",
        "conv1 = Conv1D(128, 3, activation='relu', padding='same')(inputs)\n",
        "maxpool1 = MaxPooling1D(pool_size=2)(conv1)\n",
        "conv2 = Conv1D(128, 4, activation='relu', padding='same')(inputs)\n",
        "maxpool2 = MaxPooling1D(pool_size=2)(conv2)\n",
        "conv3 = Conv1D(128, 5, activation='relu', padding='same')(inputs)\n",
        "maxpool3 = MaxPooling1D(pool_size=2)(conv3)\n",
        "concat = Concatenate()([maxpool1, maxpool2, maxpool3])\n",
        "conv4 = Conv1D(128, 5, activation='relu', padding='same')(concat)\n",
        "maxpool4 = MaxPooling1D(pool_size=2)(conv4)\n",
        "flatten = Flatten()(maxpool4)\n",
        "dense1 = Dense(384, activation='relu')(flatten)\n",
        "dropout1 = Dropout(0.5)(dense1)\n",
        "dense2 = Dense(128, activation='relu')(dropout1)\n",
        "dropout2 = Dropout(0.5)(dense2)\n",
        "output = Dense(1, activation='sigmoid')(dropout2)\n",
        "\n",
        "model6 = Model(inputs=inputs, outputs=output)"
      ]
    },
    {
      "cell_type": "code",
      "execution_count": null,
      "metadata": {
        "id": "FHKi1pW4gsdE"
      },
      "outputs": [],
      "source": [
        "model6.compile(loss='binary_crossentropy', optimizer='adam', metrics=['accuracy'])"
      ]
    },
    {
      "cell_type": "code",
      "execution_count": null,
      "metadata": {
        "colab": {
          "base_uri": "https://localhost:8080/"
        },
        "outputId": "5c12fa0c-a24e-417d-c531-f46c88cee16e",
        "id": "a5OveFOagsdE"
      },
      "outputs": [
        {
          "output_type": "stream",
          "name": "stdout",
          "text": [
            "Epoch 1/10\n",
            "2245/2245 [==============================] - 1177s 522ms/step - loss: 0.1090 - accuracy: 0.9596 - val_loss: 0.0546 - val_accuracy: 0.9821\n",
            "Epoch 2/10\n",
            "2245/2245 [==============================] - 1127s 502ms/step - loss: 0.0580 - accuracy: 0.9805 - val_loss: 0.0453 - val_accuracy: 0.9841\n",
            "Epoch 3/10\n",
            "2245/2245 [==============================] - 1113s 496ms/step - loss: 0.0465 - accuracy: 0.9835 - val_loss: 0.0394 - val_accuracy: 0.9873\n",
            "Epoch 4/10\n",
            "2245/2245 [==============================] - 1161s 517ms/step - loss: 0.0419 - accuracy: 0.9862 - val_loss: 0.0360 - val_accuracy: 0.9889\n",
            "Epoch 5/10\n",
            "2245/2245 [==============================] - 1131s 504ms/step - loss: 0.0367 - accuracy: 0.9879 - val_loss: 0.0414 - val_accuracy: 0.9867\n",
            "Epoch 6/10\n",
            "2245/2245 [==============================] - 1161s 517ms/step - loss: 0.0314 - accuracy: 0.9896 - val_loss: 0.0523 - val_accuracy: 0.9856\n",
            "Epoch 7/10\n",
            "2245/2245 [==============================] - 1158s 516ms/step - loss: 0.0288 - accuracy: 0.9903 - val_loss: 0.0402 - val_accuracy: 0.9879\n",
            "Epoch 8/10\n",
            "2245/2245 [==============================] - 1161s 517ms/step - loss: 0.0266 - accuracy: 0.9911 - val_loss: 0.0348 - val_accuracy: 0.9921\n",
            "Epoch 9/10\n",
            "2245/2245 [==============================] - 1165s 519ms/step - loss: 0.0249 - accuracy: 0.9914 - val_loss: 0.0358 - val_accuracy: 0.9903\n",
            "Epoch 10/10\n",
            "2245/2245 [==============================] - 1129s 503ms/step - loss: 0.0216 - accuracy: 0.9928 - val_loss: 0.0679 - val_accuracy: 0.9865\n"
          ]
        }
      ],
      "source": [
        "history6 = model6.fit(train_embeddings, train_labels, epochs=10, batch_size=16, validation_data=(test_embeddings, test_labels))"
      ]
    },
    {
      "cell_type": "code",
      "execution_count": null,
      "metadata": {
        "colab": {
          "base_uri": "https://localhost:8080/"
        },
        "outputId": "a9ae67d8-caaa-4fe2-89c9-621e36c56992",
        "id": "RN3pMlKugsdE"
      },
      "outputs": [
        {
          "output_type": "stream",
          "name": "stdout",
          "text": [
            "281/281 - 51s - loss: 0.0679 - accuracy: 0.9865 - 51s/epoch - 180ms/step\n",
            "281/281 [==============================] - 53s 186ms/step\n",
            "Test Accuracy: 0.9865255951881409\n",
            "Test F1 Score: 0.9860034702139966\n",
            "Test Recall: 0.9761795693999084\n",
            "Precision: 0.996027109137649\n"
          ]
        }
      ],
      "source": [
        "test_loss, test_acc = model6.evaluate(test_embeddings, test_labels, verbose=2)\n",
        "\n",
        "y_pred = model6.predict(test_embeddings)\n",
        "y_pred = (y_pred > 0.5).astype('int32')\n",
        "\n",
        "f1 = f1_score(test_labels, y_pred)\n",
        "recall = recall_score(test_labels, y_pred)\n",
        "precision = precision_score(test_labels, y_pred)\n",
        "\n",
        "print(\"Test Accuracy:\", test_acc)\n",
        "print(\"Test F1 Score:\", f1)\n",
        "print(\"Test Recall:\", recall)\n",
        "print(\"Precision:\", precision)"
      ]
    },
    {
      "cell_type": "code",
      "execution_count": null,
      "metadata": {
        "colab": {
          "base_uri": "https://localhost:8080/"
        },
        "outputId": "df525b53-c538-4314-82ba-0df4940c521f",
        "id": "UYaff6zIgsdE"
      },
      "outputs": [
        {
          "output_type": "stream",
          "name": "stdout",
          "text": [
            "Model: \"model\"\n",
            "__________________________________________________________________________________________________\n",
            " Layer (type)                   Output Shape         Param #     Connected to                     \n",
            "==================================================================================================\n",
            " input_1 (InputLayer)           [(None, 768, 1)]     0           []                               \n",
            "                                                                                                  \n",
            " conv1d (Conv1D)                (None, 768, 128)     512         ['input_1[0][0]']                \n",
            "                                                                                                  \n",
            " conv1d_1 (Conv1D)              (None, 768, 128)     640         ['input_1[0][0]']                \n",
            "                                                                                                  \n",
            " conv1d_2 (Conv1D)              (None, 768, 128)     768         ['input_1[0][0]']                \n",
            "                                                                                                  \n",
            " max_pooling1d (MaxPooling1D)   (None, 384, 128)     0           ['conv1d[0][0]']                 \n",
            "                                                                                                  \n",
            " max_pooling1d_1 (MaxPooling1D)  (None, 384, 128)    0           ['conv1d_1[0][0]']               \n",
            "                                                                                                  \n",
            " max_pooling1d_2 (MaxPooling1D)  (None, 384, 128)    0           ['conv1d_2[0][0]']               \n",
            "                                                                                                  \n",
            " concatenate (Concatenate)      (None, 384, 384)     0           ['max_pooling1d[0][0]',          \n",
            "                                                                  'max_pooling1d_1[0][0]',        \n",
            "                                                                  'max_pooling1d_2[0][0]']        \n",
            "                                                                                                  \n",
            " conv1d_3 (Conv1D)              (None, 384, 128)     245888      ['concatenate[0][0]']            \n",
            "                                                                                                  \n",
            " max_pooling1d_3 (MaxPooling1D)  (None, 192, 128)    0           ['conv1d_3[0][0]']               \n",
            "                                                                                                  \n",
            " flatten (Flatten)              (None, 24576)        0           ['max_pooling1d_3[0][0]']        \n",
            "                                                                                                  \n",
            " dense (Dense)                  (None, 384)          9437568     ['flatten[0][0]']                \n",
            "                                                                                                  \n",
            " dropout (Dropout)              (None, 384)          0           ['dense[0][0]']                  \n",
            "                                                                                                  \n",
            " dense_1 (Dense)                (None, 128)          49280       ['dropout[0][0]']                \n",
            "                                                                                                  \n",
            " dropout_1 (Dropout)            (None, 128)          0           ['dense_1[0][0]']                \n",
            "                                                                                                  \n",
            " dense_2 (Dense)                (None, 1)            129         ['dropout_1[0][0]']              \n",
            "                                                                                                  \n",
            "==================================================================================================\n",
            "Total params: 9,734,785\n",
            "Trainable params: 9,734,785\n",
            "Non-trainable params: 0\n",
            "__________________________________________________________________________________________________\n"
          ]
        }
      ],
      "source": [
        "model6.summary()"
      ]
    },
    {
      "cell_type": "code",
      "execution_count": null,
      "metadata": {
        "id": "jllC2cD0gsdE"
      },
      "outputs": [],
      "source": [
        "model6.save('fake_bert.h5')"
      ]
    },
    {
      "cell_type": "code",
      "source": [
        "y_pred = model6.predict(test_embeddings)\n",
        "y_pred = (y_pred > 0.5).astype(int)\n",
        "cm = confusion_matrix(test_labels, y_pred)\n",
        "print(cm)"
      ],
      "metadata": {
        "colab": {
          "base_uri": "https://localhost:8080/"
        },
        "outputId": "64789867-d247-4734-e582-907d857673d1",
        "id": "hveMXIdggsdF"
      },
      "execution_count": null,
      "outputs": [
        {
          "output_type": "stream",
          "name": "stdout",
          "text": [
            "281/281 [==============================] - 61s 217ms/step\n",
            "[[4597   17]\n",
            " [ 104 4262]]\n"
          ]
        }
      ]
    },
    {
      "cell_type": "markdown",
      "metadata": {
        "id": "0dN1-PadLije"
      },
      "source": [
        "# **CNN-DistilBERT-Max Worth**"
      ]
    },
    {
      "cell_type": "code",
      "execution_count": null,
      "metadata": {
        "id": "m97Lp12QLije"
      },
      "outputs": [],
      "source": [
        "#εισάγουμε τα δεδομένα από τ' αποθηκευμένα αρχεία που δημιουργήσαμε νωρίτερα\n",
        "embeddings = np.load('/content/drive/MyDrive/NEWS_DATASET/embeddings_textmax_distilbert.npy')\n",
        "labels = np.load('/content/drive/MyDrive/NEWS_DATASET/labels_textmax_distilbert.npy')"
      ]
    },
    {
      "cell_type": "code",
      "execution_count": null,
      "metadata": {
        "id": "5w4J3Yy0Lije"
      },
      "outputs": [],
      "source": [
        "train_embeddings, test_embeddings, train_labels, test_labels = train_test_split(embeddings, labels, test_size=0.2, random_state=42, shuffle=True)"
      ]
    },
    {
      "cell_type": "code",
      "source": [
        "train_embeddings = tf.expand_dims(train_embeddings, axis=-1)\n",
        "test_embeddings = tf.expand_dims(test_embeddings, axis=-1)"
      ],
      "metadata": {
        "id": "G-DcVkZHLijf"
      },
      "execution_count": null,
      "outputs": []
    },
    {
      "cell_type": "code",
      "source": [
        "train_embeddings.shape"
      ],
      "metadata": {
        "colab": {
          "base_uri": "https://localhost:8080/"
        },
        "outputId": "a61c798d-7467-40c4-e4d8-41840696dc8a",
        "id": "xh5JZzRMLijf"
      },
      "execution_count": null,
      "outputs": [
        {
          "output_type": "execute_result",
          "data": {
            "text/plain": [
              "TensorShape([35918, 768, 1])"
            ]
          },
          "metadata": {},
          "execution_count": 70
        }
      ]
    },
    {
      "cell_type": "code",
      "execution_count": null,
      "metadata": {
        "id": "fQS6AfNPLijf"
      },
      "outputs": [],
      "source": [
        "# build the model\n",
        "model7 = Sequential()\n",
        "model7.add(Conv1D(filters=128, kernel_size=5, activation='relu', input_shape=(768,1)))\n",
        "model7.add(MaxPooling1D(pool_size=5))\n",
        "model7.add(Conv1D(128, 5, activation='relu'))\n",
        "model7.add(MaxPooling1D(pool_size=5))\n",
        "model7.add(Conv1D(128, 5, activation='relu'))\n",
        "model7.add(Flatten())\n",
        "model7.add(Dense(64, activation='relu'))\n",
        "model7.add(Dropout(0.5))\n",
        "model7.add(Dense(1, activation='sigmoid'))\n"
      ]
    },
    {
      "cell_type": "code",
      "execution_count": null,
      "metadata": {
        "id": "U_VkD1L4Lijf"
      },
      "outputs": [],
      "source": [
        "model7.compile(loss='binary_crossentropy', optimizer='adam', metrics=['accuracy'])"
      ]
    },
    {
      "cell_type": "code",
      "source": [
        "history7 = model7.fit(train_embeddings, train_labels, epochs=10, batch_size=16,validation_data=(test_embeddings, test_labels))"
      ],
      "metadata": {
        "colab": {
          "base_uri": "https://localhost:8080/"
        },
        "outputId": "81d91ca8-cf12-446a-acc7-d43432258a7c",
        "id": "yoVq-adNLijg"
      },
      "execution_count": null,
      "outputs": [
        {
          "output_type": "stream",
          "name": "stdout",
          "text": [
            "Epoch 1/10\n",
            "2245/2245 [==============================] - 23s 6ms/step - loss: 0.1370 - accuracy: 0.9471 - val_loss: 0.0603 - val_accuracy: 0.9792\n",
            "Epoch 2/10\n",
            "2245/2245 [==============================] - 13s 6ms/step - loss: 0.0635 - accuracy: 0.9795 - val_loss: 0.0562 - val_accuracy: 0.9804\n",
            "Epoch 3/10\n",
            "2245/2245 [==============================] - 13s 6ms/step - loss: 0.0531 - accuracy: 0.9822 - val_loss: 0.0442 - val_accuracy: 0.9845\n",
            "Epoch 4/10\n",
            "2245/2245 [==============================] - 13s 6ms/step - loss: 0.0453 - accuracy: 0.9850 - val_loss: 0.0558 - val_accuracy: 0.9803\n",
            "Epoch 5/10\n",
            "2245/2245 [==============================] - 13s 6ms/step - loss: 0.0400 - accuracy: 0.9862 - val_loss: 0.0516 - val_accuracy: 0.9837\n",
            "Epoch 6/10\n",
            "2245/2245 [==============================] - 14s 6ms/step - loss: 0.0367 - accuracy: 0.9869 - val_loss: 0.0492 - val_accuracy: 0.9857\n",
            "Epoch 7/10\n",
            "2245/2245 [==============================] - 13s 6ms/step - loss: 0.0324 - accuracy: 0.9889 - val_loss: 0.0377 - val_accuracy: 0.9893\n",
            "Epoch 8/10\n",
            "2245/2245 [==============================] - 14s 6ms/step - loss: 0.0317 - accuracy: 0.9889 - val_loss: 0.0380 - val_accuracy: 0.9872\n",
            "Epoch 9/10\n",
            "2245/2245 [==============================] - 13s 6ms/step - loss: 0.0277 - accuracy: 0.9909 - val_loss: 0.0347 - val_accuracy: 0.9882\n",
            "Epoch 10/10\n",
            "2245/2245 [==============================] - 13s 6ms/step - loss: 0.0273 - accuracy: 0.9908 - val_loss: 0.0447 - val_accuracy: 0.9882\n"
          ]
        }
      ]
    },
    {
      "cell_type": "code",
      "execution_count": null,
      "metadata": {
        "colab": {
          "base_uri": "https://localhost:8080/"
        },
        "outputId": "d0663144-71ef-4ffc-a4ed-a8cf27c229f4",
        "id": "C0EJeVISLijg"
      },
      "outputs": [
        {
          "output_type": "stream",
          "name": "stdout",
          "text": [
            "281/281 [==============================] - 1s 4ms/step - loss: 0.0447 - accuracy: 0.9882\n",
            "281/281 [==============================] - 1s 2ms/step\n",
            "Test Accuracy: 0.9881960153579712\n",
            "Test F1 Score: 0.9878690775921263\n",
            "Test Recall: 0.9885478699038021\n",
            "Precision: 0.9871912168344007\n"
          ]
        }
      ],
      "source": [
        "test_loss, test_acc = model7.evaluate(test_embeddings, test_labels)\n",
        "\n",
        "y_pred = model7.predict(test_embeddings)\n",
        "y_pred = (y_pred > 0.5).astype('int32')\n",
        "\n",
        "f1 = f1_score(test_labels, y_pred)\n",
        "recall = recall_score(test_labels, y_pred)\n",
        "precision = precision_score(test_labels, y_pred)\n",
        "\n",
        "#accuraccy \n",
        "print(\"Test Accuracy:\", test_acc)\n",
        "#f1-score\n",
        "print(\"Test F1 Score:\", f1)\n",
        "#recall\n",
        "print(\"Test Recall:\", recall)\n",
        "#precision\n",
        "print(\"Precision:\", precision)"
      ]
    },
    {
      "cell_type": "code",
      "execution_count": null,
      "metadata": {
        "colab": {
          "base_uri": "https://localhost:8080/"
        },
        "outputId": "93426904-3249-4a90-f8ac-c49211ad37ca",
        "id": "tDpcvhDPLijh"
      },
      "outputs": [
        {
          "output_type": "stream",
          "name": "stdout",
          "text": [
            "Model: \"sequential\"\n",
            "_________________________________________________________________\n",
            " Layer (type)                Output Shape              Param #   \n",
            "=================================================================\n",
            " conv1d (Conv1D)             (None, 764, 128)          768       \n",
            "                                                                 \n",
            " max_pooling1d (MaxPooling1D  (None, 152, 128)         0         \n",
            " )                                                               \n",
            "                                                                 \n",
            " conv1d_1 (Conv1D)           (None, 148, 128)          82048     \n",
            "                                                                 \n",
            " max_pooling1d_1 (MaxPooling  (None, 29, 128)          0         \n",
            " 1D)                                                             \n",
            "                                                                 \n",
            " conv1d_2 (Conv1D)           (None, 25, 128)           82048     \n",
            "                                                                 \n",
            " flatten (Flatten)           (None, 3200)              0         \n",
            "                                                                 \n",
            " dense (Dense)               (None, 64)                204864    \n",
            "                                                                 \n",
            " dropout_40 (Dropout)        (None, 64)                0         \n",
            "                                                                 \n",
            " dense_1 (Dense)             (None, 1)                 65        \n",
            "                                                                 \n",
            "=================================================================\n",
            "Total params: 369,793\n",
            "Trainable params: 369,793\n",
            "Non-trainable params: 0\n",
            "_________________________________________________________________\n"
          ]
        }
      ],
      "source": [
        "#λεπτομέρειες για τη δομή του μοντέλου\n",
        "model7.summary()"
      ]
    },
    {
      "cell_type": "code",
      "execution_count": null,
      "metadata": {
        "id": "BepK7Z1XLijh"
      },
      "outputs": [],
      "source": [
        "model7.save('cnn_distilbert_textmax.h5')"
      ]
    },
    {
      "cell_type": "code",
      "source": [
        "y_pred = model7.predict(test_embeddings)\n",
        "y_pred = (y_pred > 0.5).astype(int)\n",
        "cm = confusion_matrix(test_labels, y_pred)\n",
        "print(cm)"
      ],
      "metadata": {
        "colab": {
          "base_uri": "https://localhost:8080/"
        },
        "outputId": "d985406e-11fd-460b-a4dc-cf9f99bdac55",
        "id": "EYVj0yTALijh"
      },
      "execution_count": null,
      "outputs": [
        {
          "output_type": "stream",
          "name": "stdout",
          "text": [
            "281/281 [==============================] - 1s 2ms/step\n",
            "[[4558   56]\n",
            " [  50 4316]]\n"
          ]
        }
      ]
    },
    {
      "cell_type": "code",
      "execution_count": null,
      "metadata": {
        "colab": {
          "base_uri": "https://localhost:8080/",
          "height": 1000
        },
        "outputId": "acb9ce2d-6312-40e5-ebc0-b4c218fa8120",
        "id": "0b4lererLijh"
      },
      "outputs": [
        {
          "output_type": "display_data",
          "data": {
            "text/plain": [
              "<Figure size 640x480 with 1 Axes>"
            ],
            "image/png": "[encoded data removed]"
          },
          "metadata": {}
        },
        {
          "output_type": "display_data",
          "data": {
            "text/plain": [
              "<Figure size 640x480 with 1 Axes>"
            ],
            "image/png": "[encoded data removed]"
          },
          "metadata": {}
        },
        {
          "output_type": "stream",
          "name": "stdout",
          "text": [
            "281/281 [==============================] - 1s 3ms/step\n"
          ]
        },
        {
          "output_type": "display_data",
          "data": {
            "text/plain": [
              "<Figure size 640x480 with 1 Axes>"
            ],
            "image/png": "[encoded data removed]"
          },
          "metadata": {}
        },
        {
          "output_type": "stream",
          "name": "stdout",
          "text": [
            "              precision    recall  f1-score   support\n",
            "\n",
            "           0       0.99      0.99      0.99      4614\n",
            "           1       0.99      0.99      0.99      4366\n",
            "\n",
            "    accuracy                           0.99      8980\n",
            "   macro avg       0.99      0.99      0.99      8980\n",
            "weighted avg       0.99      0.99      0.99      8980\n",
            "\n"
          ]
        }
      ],
      "source": [
        "plot_history(history7,model7)"
      ]
    },
    {
      "cell_type": "markdown",
      "metadata": {
        "id": "mhlZc66odsP5"
      },
      "source": [
        "# **LSTM-DistilBERT-Max Worth**"
      ]
    },
    {
      "cell_type": "code",
      "execution_count": null,
      "metadata": {
        "id": "FXhp5AqEdsP6"
      },
      "outputs": [],
      "source": [
        "model8 = Sequential()\n",
        "model8.add(Conv1D(64, 5, activation='relu', input_shape=(768, 1)))\n",
        "model8.add(MaxPooling1D(pool_size=2))\n",
        "model8.add(Conv1D(64, 5, activation='relu'))\n",
        "model8.add(MaxPooling1D(pool_size=2))\n",
        "model8.add(Conv1D(64, 5, activation='relu'))\n",
        "model8.add(LSTM(64, return_sequences=True))\n",
        "model8.add(Dropout(0.2))\n",
        "model8.add(BatchNormalization())\n",
        "model8.add(Dense(64, activation='relu', kernel_regularizer='l2'))\n",
        "model8.add(Dropout(0.2))\n",
        "model8.add(Flatten())\n",
        "model8.add(Dense(1, activation='sigmoid'))"
      ]
    },
    {
      "cell_type": "code",
      "execution_count": null,
      "metadata": {
        "id": "yytWmt1-dsP6"
      },
      "outputs": [],
      "source": [
        "model8.compile(loss='binary_crossentropy', optimizer='adam', metrics=['accuracy'])"
      ]
    },
    {
      "cell_type": "code",
      "execution_count": null,
      "metadata": {
        "colab": {
          "base_uri": "https://localhost:8080/"
        },
        "outputId": "31faecbc-7197-4129-a1de-9a21e5d4bdc3",
        "id": "j5whXKqAdsP7"
      },
      "outputs": [
        {
          "output_type": "stream",
          "name": "stdout",
          "text": [
            "Epoch 1/10\n",
            "2245/2245 [==============================] - 36s 13ms/step - loss: 0.1741 - accuracy: 0.9549 - val_loss: 0.0784 - val_accuracy: 0.9753\n",
            "Epoch 2/10\n",
            "2245/2245 [==============================] - 29s 13ms/step - loss: 0.0750 - accuracy: 0.9764 - val_loss: 0.3143 - val_accuracy: 0.8880\n",
            "Epoch 3/10\n",
            "2245/2245 [==============================] - 29s 13ms/step - loss: 0.0637 - accuracy: 0.9805 - val_loss: 0.0638 - val_accuracy: 0.9813\n",
            "Epoch 4/10\n",
            "2245/2245 [==============================] - 31s 14ms/step - loss: 0.0543 - accuracy: 0.9829 - val_loss: 0.1271 - val_accuracy: 0.9563\n",
            "Epoch 5/10\n",
            "2245/2245 [==============================] - 29s 13ms/step - loss: 0.0489 - accuracy: 0.9850 - val_loss: 0.0506 - val_accuracy: 0.9855\n",
            "Epoch 6/10\n",
            "2245/2245 [==============================] - 29s 13ms/step - loss: 0.0444 - accuracy: 0.9860 - val_loss: 0.0493 - val_accuracy: 0.9866\n",
            "Epoch 7/10\n",
            "2245/2245 [==============================] - 28s 13ms/step - loss: 0.0385 - accuracy: 0.9883 - val_loss: 0.0569 - val_accuracy: 0.9833\n",
            "Epoch 8/10\n",
            "2245/2245 [==============================] - 28s 13ms/step - loss: 0.0345 - accuracy: 0.9891 - val_loss: 0.0714 - val_accuracy: 0.9793\n",
            "Epoch 9/10\n",
            "2245/2245 [==============================] - 30s 13ms/step - loss: 0.0335 - accuracy: 0.9893 - val_loss: 0.0418 - val_accuracy: 0.9883\n",
            "Epoch 10/10\n",
            "2245/2245 [==============================] - 30s 13ms/step - loss: 0.0314 - accuracy: 0.9904 - val_loss: 0.0503 - val_accuracy: 0.9859\n"
          ]
        }
      ],
      "source": [
        "history8 = model8.fit(train_embeddings, train_labels, epochs=10, batch_size=16, validation_data=(test_embeddings, test_labels))"
      ]
    },
    {
      "cell_type": "code",
      "execution_count": null,
      "metadata": {
        "colab": {
          "base_uri": "https://localhost:8080/"
        },
        "outputId": "b2112337-92da-40e6-a98a-657618482685",
        "id": "EdS_FaIqdsP7"
      },
      "outputs": [
        {
          "output_type": "stream",
          "name": "stdout",
          "text": [
            "281/281 - 2s - loss: 0.0503 - accuracy: 0.9859 - 2s/epoch - 6ms/step\n",
            "281/281 [==============================] - 2s 5ms/step\n",
            "Test Accuracy: 0.9858574867248535\n",
            "Test F1 Score: 0.9855599772598067\n",
            "Test Recall: 0.9926706367384334\n",
            "Precision: 0.9785504628584331\n"
          ]
        }
      ],
      "source": [
        "test_loss, test_acc = model8.evaluate(test_embeddings, test_labels, verbose=2)\n",
        "\n",
        "y_pred = model8.predict(test_embeddings)\n",
        "y_pred = (y_pred > 0.5).astype('int32')\n",
        "\n",
        "f1 = f1_score(test_labels, y_pred)\n",
        "recall = recall_score(test_labels, y_pred)\n",
        "precision = precision_score(test_labels, y_pred)\n",
        "\n",
        "print(\"Test Accuracy:\", test_acc)\n",
        "print(\"Test F1 Score:\", f1)\n",
        "print(\"Test Recall:\", recall)\n",
        "print(\"Precision:\", precision)"
      ]
    },
    {
      "cell_type": "code",
      "execution_count": null,
      "metadata": {
        "colab": {
          "base_uri": "https://localhost:8080/"
        },
        "outputId": "8a8be413-38b1-4c2a-ffed-70507f466c17",
        "id": "g179ym_YdsP7"
      },
      "outputs": [
        {
          "output_type": "stream",
          "name": "stdout",
          "text": [
            "Model: \"sequential_1\"\n",
            "_________________________________________________________________\n",
            " Layer (type)                Output Shape              Param #   \n",
            "=================================================================\n",
            " conv1d_3 (Conv1D)           (None, 764, 64)           384       \n",
            "                                                                 \n",
            " max_pooling1d_2 (MaxPooling  (None, 382, 64)          0         \n",
            " 1D)                                                             \n",
            "                                                                 \n",
            " conv1d_4 (Conv1D)           (None, 378, 64)           20544     \n",
            "                                                                 \n",
            " max_pooling1d_3 (MaxPooling  (None, 189, 64)          0         \n",
            " 1D)                                                             \n",
            "                                                                 \n",
            " conv1d_5 (Conv1D)           (None, 185, 64)           20544     \n",
            "                                                                 \n",
            " lstm (LSTM)                 (None, 185, 64)           33024     \n",
            "                                                                 \n",
            " dropout_41 (Dropout)        (None, 185, 64)           0         \n",
            "                                                                 \n",
            " batch_normalization (BatchN  (None, 185, 64)          256       \n",
            " ormalization)                                                   \n",
            "                                                                 \n",
            " dense_2 (Dense)             (None, 185, 64)           4160      \n",
            "                                                                 \n",
            " dropout_42 (Dropout)        (None, 185, 64)           0         \n",
            "                                                                 \n",
            " flatten_1 (Flatten)         (None, 11840)             0         \n",
            "                                                                 \n",
            " dense_3 (Dense)             (None, 1)                 11841     \n",
            "                                                                 \n",
            "=================================================================\n",
            "Total params: 90,753\n",
            "Trainable params: 90,625\n",
            "Non-trainable params: 128\n",
            "_________________________________________________________________\n"
          ]
        }
      ],
      "source": [
        "model8.summary()"
      ]
    },
    {
      "cell_type": "code",
      "execution_count": null,
      "metadata": {
        "id": "EbrwC1DddsP8"
      },
      "outputs": [],
      "source": [
        "model8.save('lstm_base_textmax.h5')"
      ]
    },
    {
      "cell_type": "code",
      "execution_count": null,
      "metadata": {
        "colab": {
          "base_uri": "https://localhost:8080/",
          "height": 1000
        },
        "outputId": "4c551613-91f6-41bb-86b7-f4aaf2fa6f67",
        "id": "vtyIVsPbdsP8"
      },
      "outputs": [
        {
          "output_type": "display_data",
          "data": {
            "text/plain": [
              "<Figure size 640x480 with 1 Axes>"
            ],
            "image/png": "[encoded data removed]"
          },
          "metadata": {}
        },
        {
          "output_type": "display_data",
          "data": {
            "text/plain": [
              "<Figure size 640x480 with 1 Axes>"
            ],
            "image/png": "[encoded data removed]"
          },
          "metadata": {}
        },
        {
          "output_type": "stream",
          "name": "stdout",
          "text": [
            "281/281 [==============================] - 1s 5ms/step\n"
          ]
        },
        {
          "output_type": "display_data",
          "data": {
            "text/plain": [
              "<Figure size 640x480 with 1 Axes>"
            ],
            "image/png": "[encoded data removed]"
          },
          "metadata": {}
        },
        {
          "output_type": "stream",
          "name": "stdout",
          "text": [
            "              precision    recall  f1-score   support\n",
            "\n",
            "           0       0.99      0.98      0.99      4614\n",
            "           1       0.98      0.99      0.99      4366\n",
            "\n",
            "    accuracy                           0.99      8980\n",
            "   macro avg       0.99      0.99      0.99      8980\n",
            "weighted avg       0.99      0.99      0.99      8980\n",
            "\n"
          ]
        }
      ],
      "source": [
        "plot_history(history8,model8)"
      ]
    },
    {
      "cell_type": "markdown",
      "metadata": {
        "id": "2nd-g-VreHTj"
      },
      "source": [
        "# **FakeBERT-DistilBERT-Max Worth**"
      ]
    },
    {
      "cell_type": "code",
      "execution_count": null,
      "metadata": {
        "id": "u_SuDBXxeHTj"
      },
      "outputs": [],
      "source": [
        "inputs = Input(shape=(768, 1))\n",
        "conv1 = Conv1D(128, 3, activation='relu', padding='same')(inputs)\n",
        "maxpool1 = MaxPooling1D(pool_size=2)(conv1)\n",
        "conv2 = Conv1D(128, 4, activation='relu', padding='same')(inputs)\n",
        "maxpool2 = MaxPooling1D(pool_size=2)(conv2)\n",
        "conv3 = Conv1D(128, 5, activation='relu', padding='same')(inputs)\n",
        "maxpool3 = MaxPooling1D(pool_size=2)(conv3)\n",
        "concat = Concatenate()([maxpool1, maxpool2, maxpool3])\n",
        "conv4 = Conv1D(128, 5, activation='relu', padding='same')(concat)\n",
        "maxpool4 = MaxPooling1D(pool_size=2)(conv4)\n",
        "flatten = Flatten()(maxpool4)\n",
        "dense1 = Dense(384, activation='relu')(flatten)\n",
        "dropout1 = Dropout(0.5)(dense1)\n",
        "dense2 = Dense(128, activation='relu')(dropout1)\n",
        "dropout2 = Dropout(0.5)(dense2)\n",
        "output = Dense(1, activation='sigmoid')(dropout2)\n",
        "\n",
        "model9 = Model(inputs=inputs, outputs=output)"
      ]
    },
    {
      "cell_type": "code",
      "execution_count": null,
      "metadata": {
        "id": "yCAPaPfjeHTj"
      },
      "outputs": [],
      "source": [
        "model9.compile(loss='binary_crossentropy', optimizer='adam', metrics=['accuracy'])"
      ]
    },
    {
      "cell_type": "code",
      "execution_count": null,
      "metadata": {
        "colab": {
          "base_uri": "https://localhost:8080/"
        },
        "outputId": "2e23c710-c605-4323-af1c-f919c9e97318",
        "id": "qhezoh0_eHTk"
      },
      "outputs": [
        {
          "output_type": "stream",
          "name": "stdout",
          "text": [
            "Epoch 1/10\n",
            "2245/2245 [==============================] - 30s 12ms/step - loss: 0.1180 - accuracy: 0.9565 - val_loss: 0.0765 - val_accuracy: 0.9718\n",
            "Epoch 2/10\n",
            "2245/2245 [==============================] - 26s 11ms/step - loss: 0.0635 - accuracy: 0.9779 - val_loss: 0.0915 - val_accuracy: 0.9694\n",
            "Epoch 3/10\n",
            "2245/2245 [==============================] - 26s 11ms/step - loss: 0.0521 - accuracy: 0.9820 - val_loss: 0.0481 - val_accuracy: 0.9847\n",
            "Epoch 4/10\n",
            "2245/2245 [==============================] - 25s 11ms/step - loss: 0.0461 - accuracy: 0.9847 - val_loss: 0.0764 - val_accuracy: 0.9790\n",
            "Epoch 5/10\n",
            "2245/2245 [==============================] - 25s 11ms/step - loss: 0.0392 - accuracy: 0.9861 - val_loss: 0.0432 - val_accuracy: 0.9871\n",
            "Epoch 6/10\n",
            "2245/2245 [==============================] - 26s 11ms/step - loss: 0.0359 - accuracy: 0.9875 - val_loss: 0.0817 - val_accuracy: 0.9808\n",
            "Epoch 7/10\n",
            "2245/2245 [==============================] - 25s 11ms/step - loss: 0.0338 - accuracy: 0.9885 - val_loss: 0.0435 - val_accuracy: 0.9873\n",
            "Epoch 8/10\n",
            "2245/2245 [==============================] - 25s 11ms/step - loss: 0.0317 - accuracy: 0.9891 - val_loss: 0.0437 - val_accuracy: 0.9883\n",
            "Epoch 9/10\n",
            "2245/2245 [==============================] - 26s 11ms/step - loss: 0.0279 - accuracy: 0.9910 - val_loss: 0.0494 - val_accuracy: 0.9882\n",
            "Epoch 10/10\n",
            "2245/2245 [==============================] - 26s 11ms/step - loss: 0.0285 - accuracy: 0.9909 - val_loss: 0.0614 - val_accuracy: 0.9803\n"
          ]
        }
      ],
      "source": [
        "history9 = model9.fit(train_embeddings, train_labels, epochs=10, batch_size=16, validation_data=(test_embeddings, test_labels))"
      ]
    },
    {
      "cell_type": "code",
      "execution_count": null,
      "metadata": {
        "colab": {
          "base_uri": "https://localhost:8080/"
        },
        "outputId": "2fa3228c-63df-40a9-9f7d-eb031649b625",
        "id": "eeUkf7aDeHTk"
      },
      "outputs": [
        {
          "output_type": "stream",
          "name": "stdout",
          "text": [
            "281/281 - 2s - loss: 0.0614 - accuracy: 0.9803 - 2s/epoch - 6ms/step\n",
            "281/281 [==============================] - 1s 5ms/step\n",
            "Test Accuracy: 0.9802895188331604\n",
            "Test F1 Score: 0.9794114225892753\n",
            "Test Recall: 0.9642693540998626\n",
            "Precision: 0.9950366343653982\n"
          ]
        }
      ],
      "source": [
        "test_loss, test_acc = model9.evaluate(test_embeddings, test_labels, verbose=2)\n",
        "\n",
        "y_pred = model9.predict(test_embeddings)\n",
        "y_pred = (y_pred > 0.5).astype('int32')\n",
        "\n",
        "f1 = f1_score(test_labels, y_pred)\n",
        "recall = recall_score(test_labels, y_pred)\n",
        "precision = precision_score(test_labels, y_pred)\n",
        "\n",
        "print(\"Test Accuracy:\", test_acc)\n",
        "print(\"Test F1 Score:\", f1)\n",
        "print(\"Test Recall:\", recall)\n",
        "print(\"Precision:\", precision)"
      ]
    },
    {
      "cell_type": "code",
      "execution_count": null,
      "metadata": {
        "colab": {
          "base_uri": "https://localhost:8080/"
        },
        "outputId": "4817616d-211b-4dfa-befc-b97ffb40c122",
        "id": "Owr3RPDPeHTk"
      },
      "outputs": [
        {
          "output_type": "stream",
          "name": "stdout",
          "text": [
            "Model: \"model\"\n",
            "__________________________________________________________________________________________________\n",
            " Layer (type)                   Output Shape         Param #     Connected to                     \n",
            "==================================================================================================\n",
            " input_1 (InputLayer)           [(None, 768, 1)]     0           []                               \n",
            "                                                                                                  \n",
            " conv1d_6 (Conv1D)              (None, 768, 128)     512         ['input_1[0][0]']                \n",
            "                                                                                                  \n",
            " conv1d_7 (Conv1D)              (None, 768, 128)     640         ['input_1[0][0]']                \n",
            "                                                                                                  \n",
            " conv1d_8 (Conv1D)              (None, 768, 128)     768         ['input_1[0][0]']                \n",
            "                                                                                                  \n",
            " max_pooling1d_4 (MaxPooling1D)  (None, 384, 128)    0           ['conv1d_6[0][0]']               \n",
            "                                                                                                  \n",
            " max_pooling1d_5 (MaxPooling1D)  (None, 384, 128)    0           ['conv1d_7[0][0]']               \n",
            "                                                                                                  \n",
            " max_pooling1d_6 (MaxPooling1D)  (None, 384, 128)    0           ['conv1d_8[0][0]']               \n",
            "                                                                                                  \n",
            " concatenate (Concatenate)      (None, 384, 384)     0           ['max_pooling1d_4[0][0]',        \n",
            "                                                                  'max_pooling1d_5[0][0]',        \n",
            "                                                                  'max_pooling1d_6[0][0]']        \n",
            "                                                                                                  \n",
            " conv1d_9 (Conv1D)              (None, 384, 128)     245888      ['concatenate[0][0]']            \n",
            "                                                                                                  \n",
            " max_pooling1d_7 (MaxPooling1D)  (None, 192, 128)    0           ['conv1d_9[0][0]']               \n",
            "                                                                                                  \n",
            " flatten_2 (Flatten)            (None, 24576)        0           ['max_pooling1d_7[0][0]']        \n",
            "                                                                                                  \n",
            " dense_4 (Dense)                (None, 384)          9437568     ['flatten_2[0][0]']              \n",
            "                                                                                                  \n",
            " dropout_43 (Dropout)           (None, 384)          0           ['dense_4[0][0]']                \n",
            "                                                                                                  \n",
            " dense_5 (Dense)                (None, 128)          49280       ['dropout_43[0][0]']             \n",
            "                                                                                                  \n",
            " dropout_44 (Dropout)           (None, 128)          0           ['dense_5[0][0]']                \n",
            "                                                                                                  \n",
            " dense_6 (Dense)                (None, 1)            129         ['dropout_44[0][0]']             \n",
            "                                                                                                  \n",
            "==================================================================================================\n",
            "Total params: 9,734,785\n",
            "Trainable params: 9,734,785\n",
            "Non-trainable params: 0\n",
            "__________________________________________________________________________________________________\n"
          ]
        }
      ],
      "source": [
        "model9.summary()"
      ]
    },
    {
      "cell_type": "code",
      "execution_count": null,
      "metadata": {
        "id": "6KLrUzW_eHTl"
      },
      "outputs": [],
      "source": [
        "model9.save('fake_bert_textmax.h5')"
      ]
    },
    {
      "cell_type": "code",
      "source": [
        "y_pred = model9.predict(test_embeddings)\n",
        "y_pred = (y_pred > 0.5).astype(int)\n",
        "cm = confusion_matrix(test_labels, y_pred)\n",
        "print(cm)"
      ],
      "metadata": {
        "colab": {
          "base_uri": "https://localhost:8080/"
        },
        "outputId": "5db31b73-7571-4a8e-9bca-472b9eff0264",
        "id": "U30Xpp6JeHTl"
      },
      "execution_count": null,
      "outputs": [
        {
          "output_type": "stream",
          "name": "stdout",
          "text": [
            "281/281 [==============================] - 2s 5ms/step\n",
            "[[4593   21]\n",
            " [ 156 4210]]\n"
          ]
        }
      ]
    },
    {
      "cell_type": "markdown",
      "source": [
        "# **DistilBERT-Text-Title**"
      ],
      "metadata": {
        "id": "WA1GOluj389v"
      }
    },
    {
      "cell_type": "code",
      "execution_count": null,
      "metadata": {
        "id": "jQbciHRB5R8Z"
      },
      "outputs": [],
      "source": [
        "#εισάγουμε τα δεδομένα από τ' αποθηκευμένα αρχεία που δημιουργήσαμε νωρίτερα\n",
        "embeddings = np.load('/content/drive/MyDrive/NEWS_DATASET/embeddings_title_distilbert.npy')\n",
        "labels = np.load('/content/drive/MyDrive/NEWS_DATASET/labels_title_distilbert.npy')"
      ]
    },
    {
      "cell_type": "code",
      "execution_count": null,
      "metadata": {
        "id": "37RlX7OU5R8b"
      },
      "outputs": [],
      "source": [
        "train_embeddings, test_embeddings, train_labels, test_labels = train_test_split(embeddings, labels, test_size=0.2, random_state=42, shuffle=True)"
      ]
    },
    {
      "cell_type": "code",
      "source": [
        "train_embeddings = tf.expand_dims(train_embeddings, axis=-1)\n",
        "test_embeddings = tf.expand_dims(test_embeddings, axis=-1)"
      ],
      "metadata": {
        "id": "Gx2KUxDF5R8b"
      },
      "execution_count": null,
      "outputs": []
    },
    {
      "cell_type": "code",
      "source": [
        "train_embeddings.shape"
      ],
      "metadata": {
        "colab": {
          "base_uri": "https://localhost:8080/"
        },
        "outputId": "8480cd00-84ea-4ebe-841e-477c08471604",
        "id": "Q67LC32h5R8c"
      },
      "execution_count": null,
      "outputs": [
        {
          "output_type": "execute_result",
          "data": {
            "text/plain": [
              "TensorShape([35918, 768, 1])"
            ]
          },
          "metadata": {},
          "execution_count": 105
        }
      ]
    },
    {
      "cell_type": "code",
      "execution_count": null,
      "metadata": {
        "id": "brqyp9N15Y4p"
      },
      "outputs": [],
      "source": [
        "#εισάγουμε τα δεδομένα από τ' αποθηκευμένα αρχεία που δημιουργήσαμε νωρίτερα\n",
        "embeddings = np.load('/content/drive/MyDrive/NEWS_DATASET/embeddings_text_distilbert.npy')\n",
        "labels = np.load('/content/drive/MyDrive/NEWS_DATASET/labels_text_distilbert.npy')"
      ]
    },
    {
      "cell_type": "code",
      "execution_count": null,
      "metadata": {
        "id": "WQqNLGpW5Y4q"
      },
      "outputs": [],
      "source": [
        "train_embeddings1, test_embeddings1, train_labels1, test_labels1 = train_test_split(embeddings1, labels1, test_size=0.2, random_state=42, shuffle=True)"
      ]
    },
    {
      "cell_type": "code",
      "source": [
        "train_embeddings1 = tf.expand_dims(train_embeddings1, axis=-1)\n",
        "test_embeddings1 = tf.expand_dims(test_embeddings1, axis=-1)"
      ],
      "metadata": {
        "id": "z35ZjBib5Y4q"
      },
      "execution_count": null,
      "outputs": []
    },
    {
      "cell_type": "code",
      "source": [
        "train_embeddings.shape"
      ],
      "metadata": {
        "colab": {
          "base_uri": "https://localhost:8080/"
        },
        "outputId": "c8a9600d-f699-4f7f-da91-a26dc1b4a5d6",
        "id": "DC0CEp9Y5Y4q"
      },
      "execution_count": null,
      "outputs": [
        {
          "output_type": "execute_result",
          "data": {
            "text/plain": [
              "TensorShape([35918, 768, 1])"
            ]
          },
          "metadata": {},
          "execution_count": 109
        }
      ]
    },
    {
      "cell_type": "code",
      "source": [
        "title_input = Input(shape=(768,), name='title_bert')\n",
        "text_input = Input(shape=(768,), name='text_bert')\n",
        "shared_dense = Dense(768, activation='relu')\n",
        "title_output = shared_dense(title_input)\n",
        "text_output = shared_dense(text_input)\n",
        "concatenated = Concatenate(axis=1, name='concatenated')([title_output, text_output])\n",
        "dropped_out = Dropout(0.5)(concatenated)\n",
        "output = Dense(1, activation='sigmoid', name='output')(dropped_out)\n",
        "model = Model(inputs=[title_input, text_input], outputs=output)"
      ],
      "metadata": {
        "id": "FF062FB54Iwi"
      },
      "execution_count": null,
      "outputs": []
    },
    {
      "cell_type": "code",
      "source": [
        "model.compile(optimizer='adam', loss='binary_crossentropy', metrics=['accuracy'])"
      ],
      "metadata": {
        "id": "bEUdYlTU61Xl"
      },
      "execution_count": null,
      "outputs": []
    },
    {
      "cell_type": "code",
      "source": [
        "model.fit(x=[tf.squeeze(train_embeddings), tf.squeeze(train_embeddings1)],\n",
        "          y=train_labels,\n",
        "          epochs=9,\n",
        "          batch_size=16)"
      ],
      "metadata": {
        "colab": {
          "base_uri": "https://localhost:8080/"
        },
        "id": "6eIFapqS636r",
        "outputId": "1b08534d-45ff-4f86-ae54-91843c7d5f5a"
      },
      "execution_count": null,
      "outputs": [
        {
          "output_type": "stream",
          "name": "stdout",
          "text": [
            "Epoch 1/9\n",
            "2245/2245 [==============================] - 8s 3ms/step - loss: 0.0661 - accuracy: 0.9750\n",
            "Epoch 2/9\n",
            "2245/2245 [==============================] - 9s 4ms/step - loss: 0.0362 - accuracy: 0.9872\n",
            "Epoch 3/9\n",
            "2245/2245 [==============================] - 7s 3ms/step - loss: 0.0314 - accuracy: 0.9892\n",
            "Epoch 4/9\n",
            "2245/2245 [==============================] - 9s 4ms/step - loss: 0.0278 - accuracy: 0.9904\n",
            "Epoch 5/9\n",
            "2245/2245 [==============================] - 8s 3ms/step - loss: 0.0227 - accuracy: 0.9920\n",
            "Epoch 6/9\n",
            "2245/2245 [==============================] - 8s 4ms/step - loss: 0.0214 - accuracy: 0.9928\n",
            "Epoch 7/9\n",
            "2245/2245 [==============================] - 8s 4ms/step - loss: 0.0203 - accuracy: 0.9929\n",
            "Epoch 8/9\n",
            "2245/2245 [==============================] - 8s 3ms/step - loss: 0.0183 - accuracy: 0.9937\n",
            "Epoch 9/9\n",
            "2245/2245 [==============================] - 9s 4ms/step - loss: 0.0164 - accuracy: 0.9938\n"
          ]
        },
        {
          "output_type": "execute_result",
          "data": {
            "text/plain": [
              "<keras.callbacks.History at 0x7f53fa1a4610>"
            ]
          },
          "metadata": {},
          "execution_count": 112
        }
      ]
    },
    {
      "cell_type": "code",
      "source": [
        "test_loss, test_acc = model.evaluate([tf.squeeze(test_embeddings),tf.squeeze(test_embeddings1)], test_labels, verbose=2)\n",
        "\n",
        "y_pred = model.predict([tf.squeeze(test_embeddings),tf.squeeze(test_embeddings1)])\n",
        "y_pred = (y_pred > 0.5).astype('int32')\n",
        "\n",
        "f1 = f1_score(test_labels, y_pred)\n",
        "recall = recall_score(test_labels, y_pred)\n",
        "precision = precision_score(test_labels, y_pred)\n",
        "\n",
        "print(\"Test Accuracy:\", test_acc)\n",
        "print(\"Test F1 Score:\", f1)\n",
        "print(\"Test Recall:\", recall)\n",
        "print(\"Precision:\", precision)"
      ],
      "metadata": {
        "colab": {
          "base_uri": "https://localhost:8080/"
        },
        "id": "NSDJXKiK-NkS",
        "outputId": "97c6ea0b-9d5a-4b76-cbec-381369b9e339"
      },
      "execution_count": null,
      "outputs": [
        {
          "output_type": "stream",
          "name": "stdout",
          "text": [
            "281/281 - 1s - loss: 0.0126 - accuracy: 0.9968 - 607ms/epoch - 2ms/step\n",
            "281/281 [==============================] - 0s 1ms/step\n",
            "Test Accuracy: 0.9967706203460693\n",
            "Test F1 Score: 0.9966800228963939\n",
            "Test Recall: 0.9970224461749886\n",
            "Precision: 0.9963378347447929\n"
          ]
        }
      ]
    },
    {
      "cell_type": "code",
      "source": [
        "model.summary()"
      ],
      "metadata": {
        "colab": {
          "base_uri": "https://localhost:8080/"
        },
        "id": "-SLN5dSX-arL",
        "outputId": "08b9ee5f-2817-454d-eb86-7d256c8d514f"
      },
      "execution_count": null,
      "outputs": [
        {
          "output_type": "stream",
          "name": "stdout",
          "text": [
            "Model: \"model_6\"\n",
            "__________________________________________________________________________________________________\n",
            " Layer (type)                   Output Shape         Param #     Connected to                     \n",
            "==================================================================================================\n",
            " title_bert (InputLayer)        [(None, 768)]        0           []                               \n",
            "                                                                                                  \n",
            " text_bert (InputLayer)         [(None, 768)]        0           []                               \n",
            "                                                                                                  \n",
            " dense_5 (Dense)                (None, 768)          590592      ['title_bert[0][0]',             \n",
            "                                                                  'text_bert[0][0]']              \n",
            "                                                                                                  \n",
            " concatenated (Concatenate)     (None, 1536)         0           ['dense_5[0][0]',                \n",
            "                                                                  'dense_5[1][0]']                \n",
            "                                                                                                  \n",
            " dropout_6 (Dropout)            (None, 1536)         0           ['concatenated[0][0]']           \n",
            "                                                                                                  \n",
            " output (Dense)                 (None, 1)            1537        ['dropout_6[0][0]']              \n",
            "                                                                                                  \n",
            "==================================================================================================\n",
            "Total params: 592,129\n",
            "Trainable params: 592,129\n",
            "Non-trainable params: 0\n",
            "__________________________________________________________________________________________________\n"
          ]
        }
      ]
    },
    {
      "cell_type": "code",
      "source": [
        "y_pred = model.predict([tf.squeeze(test_embeddings),tf.squeeze(test_embeddings1)])\n",
        "y_pred = (y_pred > 0.5).astype(int)\n",
        "cm = confusion_matrix(test_labels, y_pred)\n",
        "print(cm)"
      ],
      "metadata": {
        "colab": {
          "base_uri": "https://localhost:8080/"
        },
        "id": "lqKkL3wM-czr",
        "outputId": "840e3752-f25b-4548-8663-7838b760881b"
      },
      "execution_count": null,
      "outputs": [
        {
          "output_type": "stream",
          "name": "stdout",
          "text": [
            "281/281 [==============================] - 0s 2ms/step\n",
            "[[4598   16]\n",
            " [  13 4353]]\n"
          ]
        }
      ]
    },
    {
      "cell_type": "markdown",
      "source": [
        "# **DistilBERT-Max Worth-Title**"
      ],
      "metadata": {
        "id": "qcYhY-53ACSq"
      }
    },
    {
      "cell_type": "code",
      "execution_count": null,
      "metadata": {
        "id": "MU7amgRLACSr"
      },
      "outputs": [],
      "source": [
        "#εισάγουμε τα δεδομένα από τ' αποθηκευμένα αρχεία που δημιουργήσαμε νωρίτερα\n",
        "embeddings = np.load('/content/drive/MyDrive/NEWS_DATASET/embeddings_title_distilbert.npy')\n",
        "labels = np.load('/content/drive/MyDrive/NEWS_DATASET/labels_title_distilbert.npy')"
      ]
    },
    {
      "cell_type": "code",
      "execution_count": null,
      "metadata": {
        "id": "0gKK6xUOACSr"
      },
      "outputs": [],
      "source": [
        "train_embeddings, test_embeddings, train_labels, test_labels = train_test_split(embeddings, labels, test_size=0.2, random_state=42, shuffle=True)"
      ]
    },
    {
      "cell_type": "code",
      "source": [
        "train_embeddings = tf.expand_dims(train_embeddings, axis=-1)\n",
        "test_embeddings = tf.expand_dims(test_embeddings, axis=-1)"
      ],
      "metadata": {
        "id": "hPMeI8OgACSr"
      },
      "execution_count": null,
      "outputs": []
    },
    {
      "cell_type": "code",
      "source": [
        "train_embeddings.shape"
      ],
      "metadata": {
        "colab": {
          "base_uri": "https://localhost:8080/"
        },
        "outputId": "5b63f68c-dae1-47b8-d9ca-b36c81edbfe5",
        "id": "9AlDpwLpACSr"
      },
      "execution_count": null,
      "outputs": [
        {
          "output_type": "execute_result",
          "data": {
            "text/plain": [
              "TensorShape([35918, 768, 1])"
            ]
          },
          "metadata": {},
          "execution_count": 91
        }
      ]
    },
    {
      "cell_type": "code",
      "execution_count": null,
      "metadata": {
        "id": "FSPW0DGqACSs"
      },
      "outputs": [],
      "source": [
        "#εισάγουμε τα δεδομένα από τ' αποθηκευμένα αρχεία που δημιουργήσαμε νωρίτερα\n",
        "embeddings1 = np.load('/content/drive/MyDrive/NEWS_DATASET/embeddings_textmax_distilbert.npy')\n",
        "labels1 = np.load('/content/drive/MyDrive/NEWS_DATASET/labels_textmax_distilbert.npy')"
      ]
    },
    {
      "cell_type": "code",
      "execution_count": null,
      "metadata": {
        "id": "wO8Mf_OTACSs"
      },
      "outputs": [],
      "source": [
        "train_embeddings1, test_embeddings1, train_labels1, test_labels1 = train_test_split(embeddings1, labels1, test_size=0.2, random_state=42, shuffle=True)"
      ]
    },
    {
      "cell_type": "code",
      "source": [
        "train_embeddings1 = tf.expand_dims(train_embeddings1, axis=-1)\n",
        "test_embeddings1 = tf.expand_dims(test_embeddings1, axis=-1)"
      ],
      "metadata": {
        "id": "n9vENWPAACSs"
      },
      "execution_count": null,
      "outputs": []
    },
    {
      "cell_type": "code",
      "source": [
        "train_embeddings1.shape"
      ],
      "metadata": {
        "colab": {
          "base_uri": "https://localhost:8080/"
        },
        "outputId": "1ad4bc48-c3f5-4773-9fd5-108dcf79b3f9",
        "id": "3GAxW8JPACSt"
      },
      "execution_count": null,
      "outputs": [
        {
          "output_type": "execute_result",
          "data": {
            "text/plain": [
              "TensorShape([35918, 768, 1])"
            ]
          },
          "metadata": {},
          "execution_count": 95
        }
      ]
    },
    {
      "cell_type": "code",
      "source": [
        "title_input = Input(shape=(768,), name='title_bert')\n",
        "text_input = Input(shape=(768,), name='text_bert')\n",
        "shared_dense = Dense(768, activation='relu')\n",
        "title_output = shared_dense(title_input)\n",
        "text_output = shared_dense(text_input)\n",
        "concatenated = Concatenate(axis=1, name='concatenated')([title_output, text_output])\n",
        "dropped_out = Dropout(0.5)(concatenated)\n",
        "output = Dense(1, activation='sigmoid', name='output')(dropped_out)\n",
        "model = Model(inputs=[title_input, text_input], outputs=output)"
      ],
      "metadata": {
        "id": "W2u-FU6ZACSt"
      },
      "execution_count": null,
      "outputs": []
    },
    {
      "cell_type": "code",
      "source": [
        "model.compile(optimizer='adam', loss='binary_crossentropy', metrics=['accuracy'])"
      ],
      "metadata": {
        "id": "2GpjvlOUACSt"
      },
      "execution_count": null,
      "outputs": []
    },
    {
      "cell_type": "code",
      "source": [
        "model.fit(x=[tf.squeeze(train_embeddings), tf.squeeze(train_embeddings1)],\n",
        "          y=train_labels,\n",
        "          epochs=9,\n",
        "          batch_size=16)"
      ],
      "metadata": {
        "colab": {
          "base_uri": "https://localhost:8080/"
        },
        "outputId": "542ff952-d091-4284-e339-4f88b11abbdb",
        "id": "gbB4NDwXACSt"
      },
      "execution_count": null,
      "outputs": [
        {
          "output_type": "stream",
          "name": "stdout",
          "text": [
            "Epoch 1/9\n",
            "2245/2245 [==============================] - 12s 5ms/step - loss: 0.0575 - accuracy: 0.9806\n",
            "Epoch 2/9\n",
            "2245/2245 [==============================] - 9s 4ms/step - loss: 0.0275 - accuracy: 0.9904\n",
            "Epoch 3/9\n",
            "2245/2245 [==============================] - 9s 4ms/step - loss: 0.0223 - accuracy: 0.9920\n",
            "Epoch 4/9\n",
            "2245/2245 [==============================] - 9s 4ms/step - loss: 0.0185 - accuracy: 0.9931\n",
            "Epoch 5/9\n",
            "2245/2245 [==============================] - 12s 5ms/step - loss: 0.0168 - accuracy: 0.9941\n",
            "Epoch 6/9\n",
            "2245/2245 [==============================] - 10s 5ms/step - loss: 0.0153 - accuracy: 0.9944\n",
            "Epoch 7/9\n",
            "2245/2245 [==============================] - 10s 4ms/step - loss: 0.0137 - accuracy: 0.9950\n",
            "Epoch 8/9\n",
            "2245/2245 [==============================] - 8s 3ms/step - loss: 0.0128 - accuracy: 0.9953\n",
            "Epoch 9/9\n",
            "2245/2245 [==============================] - 8s 4ms/step - loss: 0.0112 - accuracy: 0.9959\n"
          ]
        },
        {
          "output_type": "execute_result",
          "data": {
            "text/plain": [
              "<keras.callbacks.History at 0x7f53fa791a50>"
            ]
          },
          "metadata": {},
          "execution_count": 98
        }
      ]
    },
    {
      "cell_type": "code",
      "source": [
        "test_loss, test_acc = model.evaluate([tf.squeeze(test_embeddings),tf.squeeze(test_embeddings1)], test_labels, verbose=2)\n",
        "\n",
        "y_pred = model.predict([tf.squeeze(test_embeddings),tf.squeeze(test_embeddings1)])\n",
        "y_pred = (y_pred > 0.5).astype('int32')\n",
        "\n",
        "f1 = f1_score(test_labels, y_pred)\n",
        "recall = recall_score(test_labels, y_pred)\n",
        "precision = precision_score(test_labels, y_pred)\n",
        "\n",
        "print(\"Test Accuracy:\", test_acc)\n",
        "print(\"Test F1 Score:\", f1)\n",
        "print(\"Test Recall:\", recall)\n",
        "print(\"Precision:\", precision)"
      ],
      "metadata": {
        "colab": {
          "base_uri": "https://localhost:8080/"
        },
        "outputId": "005d43c2-2d92-476e-a860-a4c02f35ead8",
        "id": "V0CuGHueACSu"
      },
      "execution_count": null,
      "outputs": [
        {
          "output_type": "stream",
          "name": "stdout",
          "text": [
            "281/281 - 1s - loss: 0.0118 - accuracy: 0.9971 - 543ms/epoch - 2ms/step\n",
            "281/281 [==============================] - 0s 2ms/step\n",
            "Test Accuracy: 0.9971047043800354\n",
            "Test F1 Score: 0.9970244907301442\n",
            "Test Recall: 0.9977095739807604\n",
            "Precision: 0.9963403476669717\n"
          ]
        }
      ]
    },
    {
      "cell_type": "code",
      "source": [
        "model.summary()"
      ],
      "metadata": {
        "colab": {
          "base_uri": "https://localhost:8080/"
        },
        "outputId": "f11f1efb-a514-4e38-ae2f-cae7e9262cf1",
        "id": "lqe2ojWkACSu"
      },
      "execution_count": null,
      "outputs": [
        {
          "output_type": "stream",
          "name": "stdout",
          "text": [
            "Model: \"model_5\"\n",
            "__________________________________________________________________________________________________\n",
            " Layer (type)                   Output Shape         Param #     Connected to                     \n",
            "==================================================================================================\n",
            " title_bert (InputLayer)        [(None, 768)]        0           []                               \n",
            "                                                                                                  \n",
            " text_bert (InputLayer)         [(None, 768)]        0           []                               \n",
            "                                                                                                  \n",
            " dense_4 (Dense)                (None, 768)          590592      ['title_bert[0][0]',             \n",
            "                                                                  'text_bert[0][0]']              \n",
            "                                                                                                  \n",
            " concatenated (Concatenate)     (None, 1536)         0           ['dense_4[0][0]',                \n",
            "                                                                  'dense_4[1][0]']                \n",
            "                                                                                                  \n",
            " dropout_5 (Dropout)            (None, 1536)         0           ['concatenated[0][0]']           \n",
            "                                                                                                  \n",
            " output (Dense)                 (None, 1)            1537        ['dropout_5[0][0]']              \n",
            "                                                                                                  \n",
            "==================================================================================================\n",
            "Total params: 592,129\n",
            "Trainable params: 592,129\n",
            "Non-trainable params: 0\n",
            "__________________________________________________________________________________________________\n"
          ]
        }
      ]
    },
    {
      "cell_type": "code",
      "source": [
        "y_pred = model.predict([tf.squeeze(test_embeddings),tf.squeeze(test_embeddings1)])\n",
        "y_pred = (y_pred > 0.5).astype(int)\n",
        "cm = confusion_matrix(test_labels, y_pred)\n",
        "print(cm)"
      ],
      "metadata": {
        "colab": {
          "base_uri": "https://localhost:8080/"
        },
        "outputId": "4ded8118-c060-48ac-8f57-b58e03e4f7e1",
        "id": "oCvE6yiXACSu"
      },
      "execution_count": null,
      "outputs": [
        {
          "output_type": "stream",
          "name": "stdout",
          "text": [
            "281/281 [==============================] - 1s 2ms/step\n",
            "[[4598   16]\n",
            " [  10 4356]]\n"
          ]
        }
      ]
    }
  ],
  "metadata": {
    "colab": {
      "collapsed_sections": [
        "xEAfqU1KVrhe",
        "yeR3fF7twHtF",
        "ll-pgCBIwMAF",
        "ErFs5UgcwVx3",
        "dv1udd0FEoRB",
        "q3KfcfJYmedf",
        "W5JGTA1HClWd",
        "U_KPzSyIuxYM",
        "Hz-2YSQ1u9hY",
        "JDRXOydBu_ry",
        "0dN1-PadLije",
        "mhlZc66odsP5",
        "2nd-g-VreHTj",
        "WA1GOluj389v",
        "qcYhY-53ACSq",
        "v6Nm_qla1Ntt"
      ],
      "provenance": [],
      "gpuType": "T4"
    },
    "gpuClass": "standard",
    "kernelspec": {
      "display_name": "Python 3",
      "name": "python3"
    },
    "language_info": {
      "name": "python"
    },
    "widgets": {
      "application/vnd.jupyter.widget-state+json": {
        "3ea3aa0a825f46f0bd43bb309050c7ee": {
          "model_module": "@jupyter-widgets/controls",
          "model_name": "HBoxModel",
          "model_module_version": "1.5.0",
          "state": {
            "_dom_classes": [],
            "_model_module": "@jupyter-widgets/controls",
            "_model_module_version": "1.5.0",
            "_model_name": "HBoxModel",
            "_view_count": null,
            "_view_module": "@jupyter-widgets/controls",
            "_view_module_version": "1.5.0",
            "_view_name": "HBoxView",
            "box_style": "",
            "children": [
              "IPY_MODEL_6c324dcb82e14b49a7155c4290c3189f",
              "IPY_MODEL_f179145348074cb6b628591aa3388b2e",
              "IPY_MODEL_16fb07df2d434019adeb230270079827"
            ],
            "layout": "IPY_MODEL_ea0f17a1c0bf4ec8967361f5868d1754"
          }
        },
        "6c324dcb82e14b49a7155c4290c3189f": {
          "model_module": "@jupyter-widgets/controls",
          "model_name": "HTMLModel",
          "model_module_version": "1.5.0",
          "state": {
            "_dom_classes": [],
            "_model_module": "@jupyter-widgets/controls",
            "_model_module_version": "1.5.0",
            "_model_name": "HTMLModel",
            "_view_count": null,
            "_view_module": "@jupyter-widgets/controls",
            "_view_module_version": "1.5.0",
            "_view_name": "HTMLView",
            "description": "",
            "description_tooltip": null,
            "layout": "IPY_MODEL_a09a68b6f212480692022e13f9562f14",
            "placeholder": "​",
            "style": "IPY_MODEL_0ba113216a154b6cbb12f2832d53ddf6",
            "value": "Downloading (…)okenizer_config.json: 100%"
          }
        },
        "f179145348074cb6b628591aa3388b2e": {
          "model_module": "@jupyter-widgets/controls",
          "model_name": "FloatProgressModel",
          "model_module_version": "1.5.0",
          "state": {
            "_dom_classes": [],
            "_model_module": "@jupyter-widgets/controls",
            "_model_module_version": "1.5.0",
            "_model_name": "FloatProgressModel",
            "_view_count": null,
            "_view_module": "@jupyter-widgets/controls",
            "_view_module_version": "1.5.0",
            "_view_name": "ProgressView",
            "bar_style": "success",
            "description": "",
            "description_tooltip": null,
            "layout": "IPY_MODEL_1a8c71e1a0be4054bba3095c7b59abe2",
            "max": 28,
            "min": 0,
            "orientation": "horizontal",
            "style": "IPY_MODEL_318a01b9a1f74e26a749b0d9ec977023",
            "value": 28
          }
        },
        "16fb07df2d434019adeb230270079827": {
          "model_module": "@jupyter-widgets/controls",
          "model_name": "HTMLModel",
          "model_module_version": "1.5.0",
          "state": {
            "_dom_classes": [],
            "_model_module": "@jupyter-widgets/controls",
            "_model_module_version": "1.5.0",
            "_model_name": "HTMLModel",
            "_view_count": null,
            "_view_module": "@jupyter-widgets/controls",
            "_view_module_version": "1.5.0",
            "_view_name": "HTMLView",
            "description": "",
            "description_tooltip": null,
            "layout": "IPY_MODEL_21e189f654fb4c158ab14698d66f73a2",
            "placeholder": "​",
            "style": "IPY_MODEL_be4fbb0ecd3e42e794743d72d7997db4",
            "value": " 28.0/28.0 [00:00&lt;00:00, 545B/s]"
          }
        },
        "ea0f17a1c0bf4ec8967361f5868d1754": {
          "model_module": "@jupyter-widgets/base",
          "model_name": "LayoutModel",
          "model_module_version": "1.2.0",
          "state": {
            "_model_module": "@jupyter-widgets/base",
            "_model_module_version": "1.2.0",
            "_model_name": "LayoutModel",
            "_view_count": null,
            "_view_module": "@jupyter-widgets/base",
            "_view_module_version": "1.2.0",
            "_view_name": "LayoutView",
            "align_content": null,
            "align_items": null,
            "align_self": null,
            "border": null,
            "bottom": null,
            "display": null,
            "flex": null,
            "flex_flow": null,
            "grid_area": null,
            "grid_auto_columns": null,
            "grid_auto_flow": null,
            "grid_auto_rows": null,
            "grid_column": null,
            "grid_gap": null,
            "grid_row": null,
            "grid_template_areas": null,
            "grid_template_columns": null,
            "grid_template_rows": null,
            "height": null,
            "justify_content": null,
            "justify_items": null,
            "left": null,
            "margin": null,
            "max_height": null,
            "max_width": null,
            "min_height": null,
            "min_width": null,
            "object_fit": null,
            "object_position": null,
            "order": null,
            "overflow": null,
            "overflow_x": null,
            "overflow_y": null,
            "padding": null,
            "right": null,
            "top": null,
            "visibility": null,
            "width": null
          }
        },
        "a09a68b6f212480692022e13f9562f14": {
          "model_module": "@jupyter-widgets/base",
          "model_name": "LayoutModel",
          "model_module_version": "1.2.0",
          "state": {
            "_model_module": "@jupyter-widgets/base",
            "_model_module_version": "1.2.0",
            "_model_name": "LayoutModel",
            "_view_count": null,
            "_view_module": "@jupyter-widgets/base",
            "_view_module_version": "1.2.0",
            "_view_name": "LayoutView",
            "align_content": null,
            "align_items": null,
            "align_self": null,
            "border": null,
            "bottom": null,
            "display": null,
            "flex": null,
            "flex_flow": null,
            "grid_area": null,
            "grid_auto_columns": null,
            "grid_auto_flow": null,
            "grid_auto_rows": null,
            "grid_column": null,
            "grid_gap": null,
            "grid_row": null,
            "grid_template_areas": null,
            "grid_template_columns": null,
            "grid_template_rows": null,
            "height": null,
            "justify_content": null,
            "justify_items": null,
            "left": null,
            "margin": null,
            "max_height": null,
            "max_width": null,
            "min_height": null,
            "min_width": null,
            "object_fit": null,
            "object_position": null,
            "order": null,
            "overflow": null,
            "overflow_x": null,
            "overflow_y": null,
            "padding": null,
            "right": null,
            "top": null,
            "visibility": null,
            "width": null
          }
        },
        "0ba113216a154b6cbb12f2832d53ddf6": {
          "model_module": "@jupyter-widgets/controls",
          "model_name": "DescriptionStyleModel",
          "model_module_version": "1.5.0",
          "state": {
            "_model_module": "@jupyter-widgets/controls",
            "_model_module_version": "1.5.0",
            "_model_name": "DescriptionStyleModel",
            "_view_count": null,
            "_view_module": "@jupyter-widgets/base",
            "_view_module_version": "1.2.0",
            "_view_name": "StyleView",
            "description_width": ""
          }
        },
        "1a8c71e1a0be4054bba3095c7b59abe2": {
          "model_module": "@jupyter-widgets/base",
          "model_name": "LayoutModel",
          "model_module_version": "1.2.0",
          "state": {
            "_model_module": "@jupyter-widgets/base",
            "_model_module_version": "1.2.0",
            "_model_name": "LayoutModel",
            "_view_count": null,
            "_view_module": "@jupyter-widgets/base",
            "_view_module_version": "1.2.0",
            "_view_name": "LayoutView",
            "align_content": null,
            "align_items": null,
            "align_self": null,
            "border": null,
            "bottom": null,
            "display": null,
            "flex": null,
            "flex_flow": null,
            "grid_area": null,
            "grid_auto_columns": null,
            "grid_auto_flow": null,
            "grid_auto_rows": null,
            "grid_column": null,
            "grid_gap": null,
            "grid_row": null,
            "grid_template_areas": null,
            "grid_template_columns": null,
            "grid_template_rows": null,
            "height": null,
            "justify_content": null,
            "justify_items": null,
            "left": null,
            "margin": null,
            "max_height": null,
            "max_width": null,
            "min_height": null,
            "min_width": null,
            "object_fit": null,
            "object_position": null,
            "order": null,
            "overflow": null,
            "overflow_x": null,
            "overflow_y": null,
            "padding": null,
            "right": null,
            "top": null,
            "visibility": null,
            "width": null
          }
        },
        "318a01b9a1f74e26a749b0d9ec977023": {
          "model_module": "@jupyter-widgets/controls",
          "model_name": "ProgressStyleModel",
          "model_module_version": "1.5.0",
          "state": {
            "_model_module": "@jupyter-widgets/controls",
            "_model_module_version": "1.5.0",
            "_model_name": "ProgressStyleModel",
            "_view_count": null,
            "_view_module": "@jupyter-widgets/base",
            "_view_module_version": "1.2.0",
            "_view_name": "StyleView",
            "bar_color": null,
            "description_width": ""
          }
        },
        "21e189f654fb4c158ab14698d66f73a2": {
          "model_module": "@jupyter-widgets/base",
          "model_name": "LayoutModel",
          "model_module_version": "1.2.0",
          "state": {
            "_model_module": "@jupyter-widgets/base",
            "_model_module_version": "1.2.0",
            "_model_name": "LayoutModel",
            "_view_count": null,
            "_view_module": "@jupyter-widgets/base",
            "_view_module_version": "1.2.0",
            "_view_name": "LayoutView",
            "align_content": null,
            "align_items": null,
            "align_self": null,
            "border": null,
            "bottom": null,
            "display": null,
            "flex": null,
            "flex_flow": null,
            "grid_area": null,
            "grid_auto_columns": null,
            "grid_auto_flow": null,
            "grid_auto_rows": null,
            "grid_column": null,
            "grid_gap": null,
            "grid_row": null,
            "grid_template_areas": null,
            "grid_template_columns": null,
            "grid_template_rows": null,
            "height": null,
            "justify_content": null,
            "justify_items": null,
            "left": null,
            "margin": null,
            "max_height": null,
            "max_width": null,
            "min_height": null,
            "min_width": null,
            "object_fit": null,
            "object_position": null,
            "order": null,
            "overflow": null,
            "overflow_x": null,
            "overflow_y": null,
            "padding": null,
            "right": null,
            "top": null,
            "visibility": null,
            "width": null
          }
        },
        "be4fbb0ecd3e42e794743d72d7997db4": {
          "model_module": "@jupyter-widgets/controls",
          "model_name": "DescriptionStyleModel",
          "model_module_version": "1.5.0",
          "state": {
            "_model_module": "@jupyter-widgets/controls",
            "_model_module_version": "1.5.0",
            "_model_name": "DescriptionStyleModel",
            "_view_count": null,
            "_view_module": "@jupyter-widgets/base",
            "_view_module_version": "1.2.0",
            "_view_name": "StyleView",
            "description_width": ""
          }
        },
        "a282eee1c73d48cfb0d6844e91ab9007": {
          "model_module": "@jupyter-widgets/controls",
          "model_name": "HBoxModel",
          "model_module_version": "1.5.0",
          "state": {
            "_dom_classes": [],
            "_model_module": "@jupyter-widgets/controls",
            "_model_module_version": "1.5.0",
            "_model_name": "HBoxModel",
            "_view_count": null,
            "_view_module": "@jupyter-widgets/controls",
            "_view_module_version": "1.5.0",
            "_view_name": "HBoxView",
            "box_style": "",
            "children": [
              "IPY_MODEL_8100fbfd7a264c19997cc6f73d09ecdd",
              "IPY_MODEL_e87bfab91bf844f69bc81a77a57eacd4",
              "IPY_MODEL_5ebfdffd41a64c11a3c6f5ce87c8238f"
            ],
            "layout": "IPY_MODEL_69dc2ba08f054b6dada8a71c07f35422"
          }
        },
        "8100fbfd7a264c19997cc6f73d09ecdd": {
          "model_module": "@jupyter-widgets/controls",
          "model_name": "HTMLModel",
          "model_module_version": "1.5.0",
          "state": {
            "_dom_classes": [],
            "_model_module": "@jupyter-widgets/controls",
            "_model_module_version": "1.5.0",
            "_model_name": "HTMLModel",
            "_view_count": null,
            "_view_module": "@jupyter-widgets/controls",
            "_view_module_version": "1.5.0",
            "_view_name": "HTMLView",
            "description": "",
            "description_tooltip": null,
            "layout": "IPY_MODEL_d7451bb751d74e51b051170eee887414",
            "placeholder": "​",
            "style": "IPY_MODEL_6c180ab26ad4466a8f91bd5d7523221a",
            "value": "Downloading (…)solve/main/vocab.txt: 100%"
          }
        },
        "e87bfab91bf844f69bc81a77a57eacd4": {
          "model_module": "@jupyter-widgets/controls",
          "model_name": "FloatProgressModel",
          "model_module_version": "1.5.0",
          "state": {
            "_dom_classes": [],
            "_model_module": "@jupyter-widgets/controls",
            "_model_module_version": "1.5.0",
            "_model_name": "FloatProgressModel",
            "_view_count": null,
            "_view_module": "@jupyter-widgets/controls",
            "_view_module_version": "1.5.0",
            "_view_name": "ProgressView",
            "bar_style": "success",
            "description": "",
            "description_tooltip": null,
            "layout": "IPY_MODEL_ca68e471a21048ee8c893796dc9a5135",
            "max": 231508,
            "min": 0,
            "orientation": "horizontal",
            "style": "IPY_MODEL_813ba4f76f3343d794a8a72b62266aca",
            "value": 231508
          }
        },
        "5ebfdffd41a64c11a3c6f5ce87c8238f": {
          "model_module": "@jupyter-widgets/controls",
          "model_name": "HTMLModel",
          "model_module_version": "1.5.0",
          "state": {
            "_dom_classes": [],
            "_model_module": "@jupyter-widgets/controls",
            "_model_module_version": "1.5.0",
            "_model_name": "HTMLModel",
            "_view_count": null,
            "_view_module": "@jupyter-widgets/controls",
            "_view_module_version": "1.5.0",
            "_view_name": "HTMLView",
            "description": "",
            "description_tooltip": null,
            "layout": "IPY_MODEL_7e169aff710642099fc22d990dc5325e",
            "placeholder": "​",
            "style": "IPY_MODEL_9011e1aefbdb40058eb393427ab236cd",
            "value": " 232k/232k [00:00&lt;00:00, 2.52MB/s]"
          }
        },
        "69dc2ba08f054b6dada8a71c07f35422": {
          "model_module": "@jupyter-widgets/base",
          "model_name": "LayoutModel",
          "model_module_version": "1.2.0",
          "state": {
            "_model_module": "@jupyter-widgets/base",
            "_model_module_version": "1.2.0",
            "_model_name": "LayoutModel",
            "_view_count": null,
            "_view_module": "@jupyter-widgets/base",
            "_view_module_version": "1.2.0",
            "_view_name": "LayoutView",
            "align_content": null,
            "align_items": null,
            "align_self": null,
            "border": null,
            "bottom": null,
            "display": null,
            "flex": null,
            "flex_flow": null,
            "grid_area": null,
            "grid_auto_columns": null,
            "grid_auto_flow": null,
            "grid_auto_rows": null,
            "grid_column": null,
            "grid_gap": null,
            "grid_row": null,
            "grid_template_areas": null,
            "grid_template_columns": null,
            "grid_template_rows": null,
            "height": null,
            "justify_content": null,
            "justify_items": null,
            "left": null,
            "margin": null,
            "max_height": null,
            "max_width": null,
            "min_height": null,
            "min_width": null,
            "object_fit": null,
            "object_position": null,
            "order": null,
            "overflow": null,
            "overflow_x": null,
            "overflow_y": null,
            "padding": null,
            "right": null,
            "top": null,
            "visibility": null,
            "width": null
          }
        },
        "d7451bb751d74e51b051170eee887414": {
          "model_module": "@jupyter-widgets/base",
          "model_name": "LayoutModel",
          "model_module_version": "1.2.0",
          "state": {
            "_model_module": "@jupyter-widgets/base",
            "_model_module_version": "1.2.0",
            "_model_name": "LayoutModel",
            "_view_count": null,
            "_view_module": "@jupyter-widgets/base",
            "_view_module_version": "1.2.0",
            "_view_name": "LayoutView",
            "align_content": null,
            "align_items": null,
            "align_self": null,
            "border": null,
            "bottom": null,
            "display": null,
            "flex": null,
            "flex_flow": null,
            "grid_area": null,
            "grid_auto_columns": null,
            "grid_auto_flow": null,
            "grid_auto_rows": null,
            "grid_column": null,
            "grid_gap": null,
            "grid_row": null,
            "grid_template_areas": null,
            "grid_template_columns": null,
            "grid_template_rows": null,
            "height": null,
            "justify_content": null,
            "justify_items": null,
            "left": null,
            "margin": null,
            "max_height": null,
            "max_width": null,
            "min_height": null,
            "min_width": null,
            "object_fit": null,
            "object_position": null,
            "order": null,
            "overflow": null,
            "overflow_x": null,
            "overflow_y": null,
            "padding": null,
            "right": null,
            "top": null,
            "visibility": null,
            "width": null
          }
        },
        "6c180ab26ad4466a8f91bd5d7523221a": {
          "model_module": "@jupyter-widgets/controls",
          "model_name": "DescriptionStyleModel",
          "model_module_version": "1.5.0",
          "state": {
            "_model_module": "@jupyter-widgets/controls",
            "_model_module_version": "1.5.0",
            "_model_name": "DescriptionStyleModel",
            "_view_count": null,
            "_view_module": "@jupyter-widgets/base",
            "_view_module_version": "1.2.0",
            "_view_name": "StyleView",
            "description_width": ""
          }
        },
        "ca68e471a21048ee8c893796dc9a5135": {
          "model_module": "@jupyter-widgets/base",
          "model_name": "LayoutModel",
          "model_module_version": "1.2.0",
          "state": {
            "_model_module": "@jupyter-widgets/base",
            "_model_module_version": "1.2.0",
            "_model_name": "LayoutModel",
            "_view_count": null,
            "_view_module": "@jupyter-widgets/base",
            "_view_module_version": "1.2.0",
            "_view_name": "LayoutView",
            "align_content": null,
            "align_items": null,
            "align_self": null,
            "border": null,
            "bottom": null,
            "display": null,
            "flex": null,
            "flex_flow": null,
            "grid_area": null,
            "grid_auto_columns": null,
            "grid_auto_flow": null,
            "grid_auto_rows": null,
            "grid_column": null,
            "grid_gap": null,
            "grid_row": null,
            "grid_template_areas": null,
            "grid_template_columns": null,
            "grid_template_rows": null,
            "height": null,
            "justify_content": null,
            "justify_items": null,
            "left": null,
            "margin": null,
            "max_height": null,
            "max_width": null,
            "min_height": null,
            "min_width": null,
            "object_fit": null,
            "object_position": null,
            "order": null,
            "overflow": null,
            "overflow_x": null,
            "overflow_y": null,
            "padding": null,
            "right": null,
            "top": null,
            "visibility": null,
            "width": null
          }
        },
        "813ba4f76f3343d794a8a72b62266aca": {
          "model_module": "@jupyter-widgets/controls",
          "model_name": "ProgressStyleModel",
          "model_module_version": "1.5.0",
          "state": {
            "_model_module": "@jupyter-widgets/controls",
            "_model_module_version": "1.5.0",
            "_model_name": "ProgressStyleModel",
            "_view_count": null,
            "_view_module": "@jupyter-widgets/base",
            "_view_module_version": "1.2.0",
            "_view_name": "StyleView",
            "bar_color": null,
            "description_width": ""
          }
        },
        "7e169aff710642099fc22d990dc5325e": {
          "model_module": "@jupyter-widgets/base",
          "model_name": "LayoutModel",
          "model_module_version": "1.2.0",
          "state": {
            "_model_module": "@jupyter-widgets/base",
            "_model_module_version": "1.2.0",
            "_model_name": "LayoutModel",
            "_view_count": null,
            "_view_module": "@jupyter-widgets/base",
            "_view_module_version": "1.2.0",
            "_view_name": "LayoutView",
            "align_content": null,
            "align_items": null,
            "align_self": null,
            "border": null,
            "bottom": null,
            "display": null,
            "flex": null,
            "flex_flow": null,
            "grid_area": null,
            "grid_auto_columns": null,
            "grid_auto_flow": null,
            "grid_auto_rows": null,
            "grid_column": null,
            "grid_gap": null,
            "grid_row": null,
            "grid_template_areas": null,
            "grid_template_columns": null,
            "grid_template_rows": null,
            "height": null,
            "justify_content": null,
            "justify_items": null,
            "left": null,
            "margin": null,
            "max_height": null,
            "max_width": null,
            "min_height": null,
            "min_width": null,
            "object_fit": null,
            "object_position": null,
            "order": null,
            "overflow": null,
            "overflow_x": null,
            "overflow_y": null,
            "padding": null,
            "right": null,
            "top": null,
            "visibility": null,
            "width": null
          }
        },
        "9011e1aefbdb40058eb393427ab236cd": {
          "model_module": "@jupyter-widgets/controls",
          "model_name": "DescriptionStyleModel",
          "model_module_version": "1.5.0",
          "state": {
            "_model_module": "@jupyter-widgets/controls",
            "_model_module_version": "1.5.0",
            "_model_name": "DescriptionStyleModel",
            "_view_count": null,
            "_view_module": "@jupyter-widgets/base",
            "_view_module_version": "1.2.0",
            "_view_name": "StyleView",
            "description_width": ""
          }
        },
        "7d28a1bab2d742e5a34d331f6a25fd2a": {
          "model_module": "@jupyter-widgets/controls",
          "model_name": "HBoxModel",
          "model_module_version": "1.5.0",
          "state": {
            "_dom_classes": [],
            "_model_module": "@jupyter-widgets/controls",
            "_model_module_version": "1.5.0",
            "_model_name": "HBoxModel",
            "_view_count": null,
            "_view_module": "@jupyter-widgets/controls",
            "_view_module_version": "1.5.0",
            "_view_name": "HBoxView",
            "box_style": "",
            "children": [
              "IPY_MODEL_37f1898c3c9442ac8fc7de9817df3d13",
              "IPY_MODEL_ec2e421eb8904893ad6ab7f625b87f3d",
              "IPY_MODEL_a0f931e74d3c40e398775dcf6cd22b98"
            ],
            "layout": "IPY_MODEL_65f9b84ba2c944bbb3dff30339ddf5a6"
          }
        },
        "37f1898c3c9442ac8fc7de9817df3d13": {
          "model_module": "@jupyter-widgets/controls",
          "model_name": "HTMLModel",
          "model_module_version": "1.5.0",
          "state": {
            "_dom_classes": [],
            "_model_module": "@jupyter-widgets/controls",
            "_model_module_version": "1.5.0",
            "_model_name": "HTMLModel",
            "_view_count": null,
            "_view_module": "@jupyter-widgets/controls",
            "_view_module_version": "1.5.0",
            "_view_name": "HTMLView",
            "description": "",
            "description_tooltip": null,
            "layout": "IPY_MODEL_4018691967d9462eae77ced94af3d899",
            "placeholder": "​",
            "style": "IPY_MODEL_8b917fa6c2ad4068b2d161dbd4265ffb",
            "value": "Downloading (…)/main/tokenizer.json: 100%"
          }
        },
        "ec2e421eb8904893ad6ab7f625b87f3d": {
          "model_module": "@jupyter-widgets/controls",
          "model_name": "FloatProgressModel",
          "model_module_version": "1.5.0",
          "state": {
            "_dom_classes": [],
            "_model_module": "@jupyter-widgets/controls",
            "_model_module_version": "1.5.0",
            "_model_name": "FloatProgressModel",
            "_view_count": null,
            "_view_module": "@jupyter-widgets/controls",
            "_view_module_version": "1.5.0",
            "_view_name": "ProgressView",
            "bar_style": "success",
            "description": "",
            "description_tooltip": null,
            "layout": "IPY_MODEL_f5e4b7279a564817a6d8de7287d600ae",
            "max": 466062,
            "min": 0,
            "orientation": "horizontal",
            "style": "IPY_MODEL_2d8f2f3cb9194124a850de4daf5a1653",
            "value": 466062
          }
        },
        "a0f931e74d3c40e398775dcf6cd22b98": {
          "model_module": "@jupyter-widgets/controls",
          "model_name": "HTMLModel",
          "model_module_version": "1.5.0",
          "state": {
            "_dom_classes": [],
            "_model_module": "@jupyter-widgets/controls",
            "_model_module_version": "1.5.0",
            "_model_name": "HTMLModel",
            "_view_count": null,
            "_view_module": "@jupyter-widgets/controls",
            "_view_module_version": "1.5.0",
            "_view_name": "HTMLView",
            "description": "",
            "description_tooltip": null,
            "layout": "IPY_MODEL_009081e8bae74112b31f94d1eec6e128",
            "placeholder": "​",
            "style": "IPY_MODEL_dc40d1f2dbf942978d12c72ad3611aea",
            "value": " 466k/466k [00:00&lt;00:00, 9.25MB/s]"
          }
        },
        "65f9b84ba2c944bbb3dff30339ddf5a6": {
          "model_module": "@jupyter-widgets/base",
          "model_name": "LayoutModel",
          "model_module_version": "1.2.0",
          "state": {
            "_model_module": "@jupyter-widgets/base",
            "_model_module_version": "1.2.0",
            "_model_name": "LayoutModel",
            "_view_count": null,
            "_view_module": "@jupyter-widgets/base",
            "_view_module_version": "1.2.0",
            "_view_name": "LayoutView",
            "align_content": null,
            "align_items": null,
            "align_self": null,
            "border": null,
            "bottom": null,
            "display": null,
            "flex": null,
            "flex_flow": null,
            "grid_area": null,
            "grid_auto_columns": null,
            "grid_auto_flow": null,
            "grid_auto_rows": null,
            "grid_column": null,
            "grid_gap": null,
            "grid_row": null,
            "grid_template_areas": null,
            "grid_template_columns": null,
            "grid_template_rows": null,
            "height": null,
            "justify_content": null,
            "justify_items": null,
            "left": null,
            "margin": null,
            "max_height": null,
            "max_width": null,
            "min_height": null,
            "min_width": null,
            "object_fit": null,
            "object_position": null,
            "order": null,
            "overflow": null,
            "overflow_x": null,
            "overflow_y": null,
            "padding": null,
            "right": null,
            "top": null,
            "visibility": null,
            "width": null
          }
        },
        "4018691967d9462eae77ced94af3d899": {
          "model_module": "@jupyter-widgets/base",
          "model_name": "LayoutModel",
          "model_module_version": "1.2.0",
          "state": {
            "_model_module": "@jupyter-widgets/base",
            "_model_module_version": "1.2.0",
            "_model_name": "LayoutModel",
            "_view_count": null,
            "_view_module": "@jupyter-widgets/base",
            "_view_module_version": "1.2.0",
            "_view_name": "LayoutView",
            "align_content": null,
            "align_items": null,
            "align_self": null,
            "border": null,
            "bottom": null,
            "display": null,
            "flex": null,
            "flex_flow": null,
            "grid_area": null,
            "grid_auto_columns": null,
            "grid_auto_flow": null,
            "grid_auto_rows": null,
            "grid_column": null,
            "grid_gap": null,
            "grid_row": null,
            "grid_template_areas": null,
            "grid_template_columns": null,
            "grid_template_rows": null,
            "height": null,
            "justify_content": null,
            "justify_items": null,
            "left": null,
            "margin": null,
            "max_height": null,
            "max_width": null,
            "min_height": null,
            "min_width": null,
            "object_fit": null,
            "object_position": null,
            "order": null,
            "overflow": null,
            "overflow_x": null,
            "overflow_y": null,
            "padding": null,
            "right": null,
            "top": null,
            "visibility": null,
            "width": null
          }
        },
        "8b917fa6c2ad4068b2d161dbd4265ffb": {
          "model_module": "@jupyter-widgets/controls",
          "model_name": "DescriptionStyleModel",
          "model_module_version": "1.5.0",
          "state": {
            "_model_module": "@jupyter-widgets/controls",
            "_model_module_version": "1.5.0",
            "_model_name": "DescriptionStyleModel",
            "_view_count": null,
            "_view_module": "@jupyter-widgets/base",
            "_view_module_version": "1.2.0",
            "_view_name": "StyleView",
            "description_width": ""
          }
        },
        "f5e4b7279a564817a6d8de7287d600ae": {
          "model_module": "@jupyter-widgets/base",
          "model_name": "LayoutModel",
          "model_module_version": "1.2.0",
          "state": {
            "_model_module": "@jupyter-widgets/base",
            "_model_module_version": "1.2.0",
            "_model_name": "LayoutModel",
            "_view_count": null,
            "_view_module": "@jupyter-widgets/base",
            "_view_module_version": "1.2.0",
            "_view_name": "LayoutView",
            "align_content": null,
            "align_items": null,
            "align_self": null,
            "border": null,
            "bottom": null,
            "display": null,
            "flex": null,
            "flex_flow": null,
            "grid_area": null,
            "grid_auto_columns": null,
            "grid_auto_flow": null,
            "grid_auto_rows": null,
            "grid_column": null,
            "grid_gap": null,
            "grid_row": null,
            "grid_template_areas": null,
            "grid_template_columns": null,
            "grid_template_rows": null,
            "height": null,
            "justify_content": null,
            "justify_items": null,
            "left": null,
            "margin": null,
            "max_height": null,
            "max_width": null,
            "min_height": null,
            "min_width": null,
            "object_fit": null,
            "object_position": null,
            "order": null,
            "overflow": null,
            "overflow_x": null,
            "overflow_y": null,
            "padding": null,
            "right": null,
            "top": null,
            "visibility": null,
            "width": null
          }
        },
        "2d8f2f3cb9194124a850de4daf5a1653": {
          "model_module": "@jupyter-widgets/controls",
          "model_name": "ProgressStyleModel",
          "model_module_version": "1.5.0",
          "state": {
            "_model_module": "@jupyter-widgets/controls",
            "_model_module_version": "1.5.0",
            "_model_name": "ProgressStyleModel",
            "_view_count": null,
            "_view_module": "@jupyter-widgets/base",
            "_view_module_version": "1.2.0",
            "_view_name": "StyleView",
            "bar_color": null,
            "description_width": ""
          }
        },
        "009081e8bae74112b31f94d1eec6e128": {
          "model_module": "@jupyter-widgets/base",
          "model_name": "LayoutModel",
          "model_module_version": "1.2.0",
          "state": {
            "_model_module": "@jupyter-widgets/base",
            "_model_module_version": "1.2.0",
            "_model_name": "LayoutModel",
            "_view_count": null,
            "_view_module": "@jupyter-widgets/base",
            "_view_module_version": "1.2.0",
            "_view_name": "LayoutView",
            "align_content": null,
            "align_items": null,
            "align_self": null,
            "border": null,
            "bottom": null,
            "display": null,
            "flex": null,
            "flex_flow": null,
            "grid_area": null,
            "grid_auto_columns": null,
            "grid_auto_flow": null,
            "grid_auto_rows": null,
            "grid_column": null,
            "grid_gap": null,
            "grid_row": null,
            "grid_template_areas": null,
            "grid_template_columns": null,
            "grid_template_rows": null,
            "height": null,
            "justify_content": null,
            "justify_items": null,
            "left": null,
            "margin": null,
            "max_height": null,
            "max_width": null,
            "min_height": null,
            "min_width": null,
            "object_fit": null,
            "object_position": null,
            "order": null,
            "overflow": null,
            "overflow_x": null,
            "overflow_y": null,
            "padding": null,
            "right": null,
            "top": null,
            "visibility": null,
            "width": null
          }
        },
        "dc40d1f2dbf942978d12c72ad3611aea": {
          "model_module": "@jupyter-widgets/controls",
          "model_name": "DescriptionStyleModel",
          "model_module_version": "1.5.0",
          "state": {
            "_model_module": "@jupyter-widgets/controls",
            "_model_module_version": "1.5.0",
            "_model_name": "DescriptionStyleModel",
            "_view_count": null,
            "_view_module": "@jupyter-widgets/base",
            "_view_module_version": "1.2.0",
            "_view_name": "StyleView",
            "description_width": ""
          }
        },
        "07a6948eefc04a15bf9e825b9e5e76aa": {
          "model_module": "@jupyter-widgets/controls",
          "model_name": "HBoxModel",
          "model_module_version": "1.5.0",
          "state": {
            "_dom_classes": [],
            "_model_module": "@jupyter-widgets/controls",
            "_model_module_version": "1.5.0",
            "_model_name": "HBoxModel",
            "_view_count": null,
            "_view_module": "@jupyter-widgets/controls",
            "_view_module_version": "1.5.0",
            "_view_name": "HBoxView",
            "box_style": "",
            "children": [
              "IPY_MODEL_d667a6deaab64ee2b564b4d9ccc2f0b2",
              "IPY_MODEL_0eb096e9248148778476e8eb7ab30362",
              "IPY_MODEL_8ac782326d6348669b34c412e29cb893"
            ],
            "layout": "IPY_MODEL_2fcd0bf2bc0e4a988c6b507ad839c45a"
          }
        },
        "d667a6deaab64ee2b564b4d9ccc2f0b2": {
          "model_module": "@jupyter-widgets/controls",
          "model_name": "HTMLModel",
          "model_module_version": "1.5.0",
          "state": {
            "_dom_classes": [],
            "_model_module": "@jupyter-widgets/controls",
            "_model_module_version": "1.5.0",
            "_model_name": "HTMLModel",
            "_view_count": null,
            "_view_module": "@jupyter-widgets/controls",
            "_view_module_version": "1.5.0",
            "_view_name": "HTMLView",
            "description": "",
            "description_tooltip": null,
            "layout": "IPY_MODEL_a7c4701c3c5440f0b944f8a100ff406e",
            "placeholder": "​",
            "style": "IPY_MODEL_f4144ca8b2d349e79ff90aec70d7981b",
            "value": "Downloading (…)lve/main/config.json: 100%"
          }
        },
        "0eb096e9248148778476e8eb7ab30362": {
          "model_module": "@jupyter-widgets/controls",
          "model_name": "FloatProgressModel",
          "model_module_version": "1.5.0",
          "state": {
            "_dom_classes": [],
            "_model_module": "@jupyter-widgets/controls",
            "_model_module_version": "1.5.0",
            "_model_name": "FloatProgressModel",
            "_view_count": null,
            "_view_module": "@jupyter-widgets/controls",
            "_view_module_version": "1.5.0",
            "_view_name": "ProgressView",
            "bar_style": "success",
            "description": "",
            "description_tooltip": null,
            "layout": "IPY_MODEL_87d21371818045498804b02eab5065c1",
            "max": 483,
            "min": 0,
            "orientation": "horizontal",
            "style": "IPY_MODEL_57f425a1e132432d8e3fb4d8fb0db0ef",
            "value": 483
          }
        },
        "8ac782326d6348669b34c412e29cb893": {
          "model_module": "@jupyter-widgets/controls",
          "model_name": "HTMLModel",
          "model_module_version": "1.5.0",
          "state": {
            "_dom_classes": [],
            "_model_module": "@jupyter-widgets/controls",
            "_model_module_version": "1.5.0",
            "_model_name": "HTMLModel",
            "_view_count": null,
            "_view_module": "@jupyter-widgets/controls",
            "_view_module_version": "1.5.0",
            "_view_name": "HTMLView",
            "description": "",
            "description_tooltip": null,
            "layout": "IPY_MODEL_7791e11f9b54412b87d134c26452d590",
            "placeholder": "​",
            "style": "IPY_MODEL_164c2d2715984610a92361815637a3b3",
            "value": " 483/483 [00:00&lt;00:00, 12.7kB/s]"
          }
        },
        "2fcd0bf2bc0e4a988c6b507ad839c45a": {
          "model_module": "@jupyter-widgets/base",
          "model_name": "LayoutModel",
          "model_module_version": "1.2.0",
          "state": {
            "_model_module": "@jupyter-widgets/base",
            "_model_module_version": "1.2.0",
            "_model_name": "LayoutModel",
            "_view_count": null,
            "_view_module": "@jupyter-widgets/base",
            "_view_module_version": "1.2.0",
            "_view_name": "LayoutView",
            "align_content": null,
            "align_items": null,
            "align_self": null,
            "border": null,
            "bottom": null,
            "display": null,
            "flex": null,
            "flex_flow": null,
            "grid_area": null,
            "grid_auto_columns": null,
            "grid_auto_flow": null,
            "grid_auto_rows": null,
            "grid_column": null,
            "grid_gap": null,
            "grid_row": null,
            "grid_template_areas": null,
            "grid_template_columns": null,
            "grid_template_rows": null,
            "height": null,
            "justify_content": null,
            "justify_items": null,
            "left": null,
            "margin": null,
            "max_height": null,
            "max_width": null,
            "min_height": null,
            "min_width": null,
            "object_fit": null,
            "object_position": null,
            "order": null,
            "overflow": null,
            "overflow_x": null,
            "overflow_y": null,
            "padding": null,
            "right": null,
            "top": null,
            "visibility": null,
            "width": null
          }
        },
        "a7c4701c3c5440f0b944f8a100ff406e": {
          "model_module": "@jupyter-widgets/base",
          "model_name": "LayoutModel",
          "model_module_version": "1.2.0",
          "state": {
            "_model_module": "@jupyter-widgets/base",
            "_model_module_version": "1.2.0",
            "_model_name": "LayoutModel",
            "_view_count": null,
            "_view_module": "@jupyter-widgets/base",
            "_view_module_version": "1.2.0",
            "_view_name": "LayoutView",
            "align_content": null,
            "align_items": null,
            "align_self": null,
            "border": null,
            "bottom": null,
            "display": null,
            "flex": null,
            "flex_flow": null,
            "grid_area": null,
            "grid_auto_columns": null,
            "grid_auto_flow": null,
            "grid_auto_rows": null,
            "grid_column": null,
            "grid_gap": null,
            "grid_row": null,
            "grid_template_areas": null,
            "grid_template_columns": null,
            "grid_template_rows": null,
            "height": null,
            "justify_content": null,
            "justify_items": null,
            "left": null,
            "margin": null,
            "max_height": null,
            "max_width": null,
            "min_height": null,
            "min_width": null,
            "object_fit": null,
            "object_position": null,
            "order": null,
            "overflow": null,
            "overflow_x": null,
            "overflow_y": null,
            "padding": null,
            "right": null,
            "top": null,
            "visibility": null,
            "width": null
          }
        },
        "f4144ca8b2d349e79ff90aec70d7981b": {
          "model_module": "@jupyter-widgets/controls",
          "model_name": "DescriptionStyleModel",
          "model_module_version": "1.5.0",
          "state": {
            "_model_module": "@jupyter-widgets/controls",
            "_model_module_version": "1.5.0",
            "_model_name": "DescriptionStyleModel",
            "_view_count": null,
            "_view_module": "@jupyter-widgets/base",
            "_view_module_version": "1.2.0",
            "_view_name": "StyleView",
            "description_width": ""
          }
        },
        "87d21371818045498804b02eab5065c1": {
          "model_module": "@jupyter-widgets/base",
          "model_name": "LayoutModel",
          "model_module_version": "1.2.0",
          "state": {
            "_model_module": "@jupyter-widgets/base",
            "_model_module_version": "1.2.0",
            "_model_name": "LayoutModel",
            "_view_count": null,
            "_view_module": "@jupyter-widgets/base",
            "_view_module_version": "1.2.0",
            "_view_name": "LayoutView",
            "align_content": null,
            "align_items": null,
            "align_self": null,
            "border": null,
            "bottom": null,
            "display": null,
            "flex": null,
            "flex_flow": null,
            "grid_area": null,
            "grid_auto_columns": null,
            "grid_auto_flow": null,
            "grid_auto_rows": null,
            "grid_column": null,
            "grid_gap": null,
            "grid_row": null,
            "grid_template_areas": null,
            "grid_template_columns": null,
            "grid_template_rows": null,
            "height": null,
            "justify_content": null,
            "justify_items": null,
            "left": null,
            "margin": null,
            "max_height": null,
            "max_width": null,
            "min_height": null,
            "min_width": null,
            "object_fit": null,
            "object_position": null,
            "order": null,
            "overflow": null,
            "overflow_x": null,
            "overflow_y": null,
            "padding": null,
            "right": null,
            "top": null,
            "visibility": null,
            "width": null
          }
        },
        "57f425a1e132432d8e3fb4d8fb0db0ef": {
          "model_module": "@jupyter-widgets/controls",
          "model_name": "ProgressStyleModel",
          "model_module_version": "1.5.0",
          "state": {
            "_model_module": "@jupyter-widgets/controls",
            "_model_module_version": "1.5.0",
            "_model_name": "ProgressStyleModel",
            "_view_count": null,
            "_view_module": "@jupyter-widgets/base",
            "_view_module_version": "1.2.0",
            "_view_name": "StyleView",
            "bar_color": null,
            "description_width": ""
          }
        },
        "7791e11f9b54412b87d134c26452d590": {
          "model_module": "@jupyter-widgets/base",
          "model_name": "LayoutModel",
          "model_module_version": "1.2.0",
          "state": {
            "_model_module": "@jupyter-widgets/base",
            "_model_module_version": "1.2.0",
            "_model_name": "LayoutModel",
            "_view_count": null,
            "_view_module": "@jupyter-widgets/base",
            "_view_module_version": "1.2.0",
            "_view_name": "LayoutView",
            "align_content": null,
            "align_items": null,
            "align_self": null,
            "border": null,
            "bottom": null,
            "display": null,
            "flex": null,
            "flex_flow": null,
            "grid_area": null,
            "grid_auto_columns": null,
            "grid_auto_flow": null,
            "grid_auto_rows": null,
            "grid_column": null,
            "grid_gap": null,
            "grid_row": null,
            "grid_template_areas": null,
            "grid_template_columns": null,
            "grid_template_rows": null,
            "height": null,
            "justify_content": null,
            "justify_items": null,
            "left": null,
            "margin": null,
            "max_height": null,
            "max_width": null,
            "min_height": null,
            "min_width": null,
            "object_fit": null,
            "object_position": null,
            "order": null,
            "overflow": null,
            "overflow_x": null,
            "overflow_y": null,
            "padding": null,
            "right": null,
            "top": null,
            "visibility": null,
            "width": null
          }
        },
        "164c2d2715984610a92361815637a3b3": {
          "model_module": "@jupyter-widgets/controls",
          "model_name": "DescriptionStyleModel",
          "model_module_version": "1.5.0",
          "state": {
            "_model_module": "@jupyter-widgets/controls",
            "_model_module_version": "1.5.0",
            "_model_name": "DescriptionStyleModel",
            "_view_count": null,
            "_view_module": "@jupyter-widgets/base",
            "_view_module_version": "1.2.0",
            "_view_name": "StyleView",
            "description_width": ""
          }
        },
        "65adbcf30fc2402dad1c281d9dc08a07": {
          "model_module": "@jupyter-widgets/controls",
          "model_name": "HBoxModel",
          "model_module_version": "1.5.0",
          "state": {
            "_dom_classes": [],
            "_model_module": "@jupyter-widgets/controls",
            "_model_module_version": "1.5.0",
            "_model_name": "HBoxModel",
            "_view_count": null,
            "_view_module": "@jupyter-widgets/controls",
            "_view_module_version": "1.5.0",
            "_view_name": "HBoxView",
            "box_style": "",
            "children": [
              "IPY_MODEL_833d3fadaa124715906580d9a97ebdd7",
              "IPY_MODEL_c3525326124a4ee6bf3b8b7ba1db2a5b",
              "IPY_MODEL_5ea30c7a591146feb3713bfbd4656eb7"
            ],
            "layout": "IPY_MODEL_57d63f5608584c05b6a6964a8881cd16"
          }
        },
        "833d3fadaa124715906580d9a97ebdd7": {
          "model_module": "@jupyter-widgets/controls",
          "model_name": "HTMLModel",
          "model_module_version": "1.5.0",
          "state": {
            "_dom_classes": [],
            "_model_module": "@jupyter-widgets/controls",
            "_model_module_version": "1.5.0",
            "_model_name": "HTMLModel",
            "_view_count": null,
            "_view_module": "@jupyter-widgets/controls",
            "_view_module_version": "1.5.0",
            "_view_name": "HTMLView",
            "description": "",
            "description_tooltip": null,
            "layout": "IPY_MODEL_6fcfd533fb7a46728d60e01f03c3ba21",
            "placeholder": "​",
            "style": "IPY_MODEL_ef369a5e80f3479eb91a01a61892b9f2",
            "value": "Downloading tf_model.h5: 100%"
          }
        },
        "c3525326124a4ee6bf3b8b7ba1db2a5b": {
          "model_module": "@jupyter-widgets/controls",
          "model_name": "FloatProgressModel",
          "model_module_version": "1.5.0",
          "state": {
            "_dom_classes": [],
            "_model_module": "@jupyter-widgets/controls",
            "_model_module_version": "1.5.0",
            "_model_name": "FloatProgressModel",
            "_view_count": null,
            "_view_module": "@jupyter-widgets/controls",
            "_view_module_version": "1.5.0",
            "_view_name": "ProgressView",
            "bar_style": "success",
            "description": "",
            "description_tooltip": null,
            "layout": "IPY_MODEL_666d3ccf1a02427ab03c6cc0a9cd747a",
            "max": 363423424,
            "min": 0,
            "orientation": "horizontal",
            "style": "IPY_MODEL_a49ea9614b6345bea58e461fab9c58d8",
            "value": 363423424
          }
        },
        "5ea30c7a591146feb3713bfbd4656eb7": {
          "model_module": "@jupyter-widgets/controls",
          "model_name": "HTMLModel",
          "model_module_version": "1.5.0",
          "state": {
            "_dom_classes": [],
            "_model_module": "@jupyter-widgets/controls",
            "_model_module_version": "1.5.0",
            "_model_name": "HTMLModel",
            "_view_count": null,
            "_view_module": "@jupyter-widgets/controls",
            "_view_module_version": "1.5.0",
            "_view_name": "HTMLView",
            "description": "",
            "description_tooltip": null,
            "layout": "IPY_MODEL_969188e9f9a44d6f9850d0c6d717bad1",
            "placeholder": "​",
            "style": "IPY_MODEL_3dcec4ef4c74434096dd82f1672ff5f3",
            "value": " 363M/363M [00:02&lt;00:00, 170MB/s]"
          }
        },
        "57d63f5608584c05b6a6964a8881cd16": {
          "model_module": "@jupyter-widgets/base",
          "model_name": "LayoutModel",
          "model_module_version": "1.2.0",
          "state": {
            "_model_module": "@jupyter-widgets/base",
            "_model_module_version": "1.2.0",
            "_model_name": "LayoutModel",
            "_view_count": null,
            "_view_module": "@jupyter-widgets/base",
            "_view_module_version": "1.2.0",
            "_view_name": "LayoutView",
            "align_content": null,
            "align_items": null,
            "align_self": null,
            "border": null,
            "bottom": null,
            "display": null,
            "flex": null,
            "flex_flow": null,
            "grid_area": null,
            "grid_auto_columns": null,
            "grid_auto_flow": null,
            "grid_auto_rows": null,
            "grid_column": null,
            "grid_gap": null,
            "grid_row": null,
            "grid_template_areas": null,
            "grid_template_columns": null,
            "grid_template_rows": null,
            "height": null,
            "justify_content": null,
            "justify_items": null,
            "left": null,
            "margin": null,
            "max_height": null,
            "max_width": null,
            "min_height": null,
            "min_width": null,
            "object_fit": null,
            "object_position": null,
            "order": null,
            "overflow": null,
            "overflow_x": null,
            "overflow_y": null,
            "padding": null,
            "right": null,
            "top": null,
            "visibility": null,
            "width": null
          }
        },
        "6fcfd533fb7a46728d60e01f03c3ba21": {
          "model_module": "@jupyter-widgets/base",
          "model_name": "LayoutModel",
          "model_module_version": "1.2.0",
          "state": {
            "_model_module": "@jupyter-widgets/base",
            "_model_module_version": "1.2.0",
            "_model_name": "LayoutModel",
            "_view_count": null,
            "_view_module": "@jupyter-widgets/base",
            "_view_module_version": "1.2.0",
            "_view_name": "LayoutView",
            "align_content": null,
            "align_items": null,
            "align_self": null,
            "border": null,
            "bottom": null,
            "display": null,
            "flex": null,
            "flex_flow": null,
            "grid_area": null,
            "grid_auto_columns": null,
            "grid_auto_flow": null,
            "grid_auto_rows": null,
            "grid_column": null,
            "grid_gap": null,
            "grid_row": null,
            "grid_template_areas": null,
            "grid_template_columns": null,
            "grid_template_rows": null,
            "height": null,
            "justify_content": null,
            "justify_items": null,
            "left": null,
            "margin": null,
            "max_height": null,
            "max_width": null,
            "min_height": null,
            "min_width": null,
            "object_fit": null,
            "object_position": null,
            "order": null,
            "overflow": null,
            "overflow_x": null,
            "overflow_y": null,
            "padding": null,
            "right": null,
            "top": null,
            "visibility": null,
            "width": null
          }
        },
        "ef369a5e80f3479eb91a01a61892b9f2": {
          "model_module": "@jupyter-widgets/controls",
          "model_name": "DescriptionStyleModel",
          "model_module_version": "1.5.0",
          "state": {
            "_model_module": "@jupyter-widgets/controls",
            "_model_module_version": "1.5.0",
            "_model_name": "DescriptionStyleModel",
            "_view_count": null,
            "_view_module": "@jupyter-widgets/base",
            "_view_module_version": "1.2.0",
            "_view_name": "StyleView",
            "description_width": ""
          }
        },
        "666d3ccf1a02427ab03c6cc0a9cd747a": {
          "model_module": "@jupyter-widgets/base",
          "model_name": "LayoutModel",
          "model_module_version": "1.2.0",
          "state": {
            "_model_module": "@jupyter-widgets/base",
            "_model_module_version": "1.2.0",
            "_model_name": "LayoutModel",
            "_view_count": null,
            "_view_module": "@jupyter-widgets/base",
            "_view_module_version": "1.2.0",
            "_view_name": "LayoutView",
            "align_content": null,
            "align_items": null,
            "align_self": null,
            "border": null,
            "bottom": null,
            "display": null,
            "flex": null,
            "flex_flow": null,
            "grid_area": null,
            "grid_auto_columns": null,
            "grid_auto_flow": null,
            "grid_auto_rows": null,
            "grid_column": null,
            "grid_gap": null,
            "grid_row": null,
            "grid_template_areas": null,
            "grid_template_columns": null,
            "grid_template_rows": null,
            "height": null,
            "justify_content": null,
            "justify_items": null,
            "left": null,
            "margin": null,
            "max_height": null,
            "max_width": null,
            "min_height": null,
            "min_width": null,
            "object_fit": null,
            "object_position": null,
            "order": null,
            "overflow": null,
            "overflow_x": null,
            "overflow_y": null,
            "padding": null,
            "right": null,
            "top": null,
            "visibility": null,
            "width": null
          }
        },
        "a49ea9614b6345bea58e461fab9c58d8": {
          "model_module": "@jupyter-widgets/controls",
          "model_name": "ProgressStyleModel",
          "model_module_version": "1.5.0",
          "state": {
            "_model_module": "@jupyter-widgets/controls",
            "_model_module_version": "1.5.0",
            "_model_name": "ProgressStyleModel",
            "_view_count": null,
            "_view_module": "@jupyter-widgets/base",
            "_view_module_version": "1.2.0",
            "_view_name": "StyleView",
            "bar_color": null,
            "description_width": ""
          }
        },
        "969188e9f9a44d6f9850d0c6d717bad1": {
          "model_module": "@jupyter-widgets/base",
          "model_name": "LayoutModel",
          "model_module_version": "1.2.0",
          "state": {
            "_model_module": "@jupyter-widgets/base",
            "_model_module_version": "1.2.0",
            "_model_name": "LayoutModel",
            "_view_count": null,
            "_view_module": "@jupyter-widgets/base",
            "_view_module_version": "1.2.0",
            "_view_name": "LayoutView",
            "align_content": null,
            "align_items": null,
            "align_self": null,
            "border": null,
            "bottom": null,
            "display": null,
            "flex": null,
            "flex_flow": null,
            "grid_area": null,
            "grid_auto_columns": null,
            "grid_auto_flow": null,
            "grid_auto_rows": null,
            "grid_column": null,
            "grid_gap": null,
            "grid_row": null,
            "grid_template_areas": null,
            "grid_template_columns": null,
            "grid_template_rows": null,
            "height": null,
            "justify_content": null,
            "justify_items": null,
            "left": null,
            "margin": null,
            "max_height": null,
            "max_width": null,
            "min_height": null,
            "min_width": null,
            "object_fit": null,
            "object_position": null,
            "order": null,
            "overflow": null,
            "overflow_x": null,
            "overflow_y": null,
            "padding": null,
            "right": null,
            "top": null,
            "visibility": null,
            "width": null
          }
        },
        "3dcec4ef4c74434096dd82f1672ff5f3": {
          "model_module": "@jupyter-widgets/controls",
          "model_name": "DescriptionStyleModel",
          "model_module_version": "1.5.0",
          "state": {
            "_model_module": "@jupyter-widgets/controls",
            "_model_module_version": "1.5.0",
            "_model_name": "DescriptionStyleModel",
            "_view_count": null,
            "_view_module": "@jupyter-widgets/base",
            "_view_module_version": "1.2.0",
            "_view_name": "StyleView",
            "description_width": ""
          }
        }
      }
    },
    "accelerator": "GPU"
  },
  "nbformat": 4,
  "nbformat_minor": 0
}