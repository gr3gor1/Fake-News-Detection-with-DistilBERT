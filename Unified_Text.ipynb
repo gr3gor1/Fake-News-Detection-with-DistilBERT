{
  "nbformat": 4,
  "nbformat_minor": 0,
  "metadata": {
    "colab": {
      "provenance": [],
      "collapsed_sections": [
        "AsjqHYKtmwIc",
        "96bVYwTZMOpo",
        "CyyOa2ZsMYvu",
        "9RDuBYd5mlW5",
        "U5SY_rcpmoWg",
        "EOBmoN_d0Bx2"
      ],
      "gpuType": "T4"
    },
    "kernelspec": {
      "name": "python3",
      "display_name": "Python 3"
    },
    "language_info": {
      "name": "python"
    },
    "accelerator": "GPU",
    "gpuClass": "standard"
  },
  "cells": [
    {
      "cell_type": "markdown",
      "source": [
        "# Load datasets (ISOT - FakeNewsChallenge)"
      ],
      "metadata": {
        "id": "3E0R8GT4irDd"
      }
    },
    {
      "cell_type": "code",
      "execution_count": null,
      "metadata": {
        "colab": {
          "base_uri": "https://localhost:8080/"
        },
        "id": "FkLu9oqLiS3H",
        "outputId": "e1841c6a-c4e2-4324-894f-a435f25a3c48"
      },
      "outputs": [
        {
          "output_type": "stream",
          "name": "stdout",
          "text": [
            "Looking in indexes: https://pypi.org/simple, https://us-python.pkg.dev/colab-wheels/public/simple/\n",
            "Collecting transformers\n",
            "  Downloading transformers-4.29.2-py3-none-any.whl (7.1 MB)\n",
            "\u001b[2K     \u001b[90m━━━━━━━━━━━━━━━━━━━━━━━━━━━━━━━━━━━━━━━━\u001b[0m \u001b[32m7.1/7.1 MB\u001b[0m \u001b[31m69.6 MB/s\u001b[0m eta \u001b[36m0:00:00\u001b[0m\n",
            "\u001b[?25hRequirement already satisfied: filelock in /usr/local/lib/python3.10/dist-packages (from transformers) (3.12.0)\n",
            "Collecting huggingface-hub<1.0,>=0.14.1 (from transformers)\n",
            "  Downloading huggingface_hub-0.14.1-py3-none-any.whl (224 kB)\n",
            "\u001b[2K     \u001b[90m━━━━━━━━━━━━━━━━━━━━━━━━━━━━━━━━━━━━━━\u001b[0m \u001b[32m224.5/224.5 kB\u001b[0m \u001b[31m15.5 MB/s\u001b[0m eta \u001b[36m0:00:00\u001b[0m\n",
            "\u001b[?25hRequirement already satisfied: numpy>=1.17 in /usr/local/lib/python3.10/dist-packages (from transformers) (1.22.4)\n",
            "Requirement already satisfied: packaging>=20.0 in /usr/local/lib/python3.10/dist-packages (from transformers) (23.1)\n",
            "Requirement already satisfied: pyyaml>=5.1 in /usr/local/lib/python3.10/dist-packages (from transformers) (6.0)\n",
            "Requirement already satisfied: regex!=2019.12.17 in /usr/local/lib/python3.10/dist-packages (from transformers) (2022.10.31)\n",
            "Requirement already satisfied: requests in /usr/local/lib/python3.10/dist-packages (from transformers) (2.27.1)\n",
            "Collecting tokenizers!=0.11.3,<0.14,>=0.11.1 (from transformers)\n",
            "  Downloading tokenizers-0.13.3-cp310-cp310-manylinux_2_17_x86_64.manylinux2014_x86_64.whl (7.8 MB)\n",
            "\u001b[2K     \u001b[90m━━━━━━━━━━━━━━━━━━━━━━━━━━━━━━━━━━━━━━━━\u001b[0m \u001b[32m7.8/7.8 MB\u001b[0m \u001b[31m76.5 MB/s\u001b[0m eta \u001b[36m0:00:00\u001b[0m\n",
            "\u001b[?25hRequirement already satisfied: tqdm>=4.27 in /usr/local/lib/python3.10/dist-packages (from transformers) (4.65.0)\n",
            "Requirement already satisfied: fsspec in /usr/local/lib/python3.10/dist-packages (from huggingface-hub<1.0,>=0.14.1->transformers) (2023.4.0)\n",
            "Requirement already satisfied: typing-extensions>=3.7.4.3 in /usr/local/lib/python3.10/dist-packages (from huggingface-hub<1.0,>=0.14.1->transformers) (4.5.0)\n",
            "Requirement already satisfied: urllib3<1.27,>=1.21.1 in /usr/local/lib/python3.10/dist-packages (from requests->transformers) (1.26.15)\n",
            "Requirement already satisfied: certifi>=2017.4.17 in /usr/local/lib/python3.10/dist-packages (from requests->transformers) (2022.12.7)\n",
            "Requirement already satisfied: charset-normalizer~=2.0.0 in /usr/local/lib/python3.10/dist-packages (from requests->transformers) (2.0.12)\n",
            "Requirement already satisfied: idna<4,>=2.5 in /usr/local/lib/python3.10/dist-packages (from requests->transformers) (3.4)\n",
            "Installing collected packages: tokenizers, huggingface-hub, transformers\n",
            "Successfully installed huggingface-hub-0.14.1 tokenizers-0.13.3 transformers-4.29.2\n",
            "Looking in indexes: https://pypi.org/simple, https://us-python.pkg.dev/colab-wheels/public/simple/\n",
            "Collecting sentencepiece\n",
            "  Downloading sentencepiece-0.1.99-cp310-cp310-manylinux_2_17_x86_64.manylinux2014_x86_64.whl (1.3 MB)\n",
            "\u001b[2K     \u001b[90m━━━━━━━━━━━━━━━━━━━━━━━━━━━━━━━━━━━━━━━━\u001b[0m \u001b[32m1.3/1.3 MB\u001b[0m \u001b[31m19.5 MB/s\u001b[0m eta \u001b[36m0:00:00\u001b[0m\n",
            "\u001b[?25hInstalling collected packages: sentencepiece\n",
            "Successfully installed sentencepiece-0.1.99\n"
          ]
        }
      ],
      "source": [
        "!pip install transformers\n",
        "!pip install sentencepiece"
      ]
    },
    {
      "cell_type": "code",
      "execution_count": null,
      "metadata": {
        "id": "6aE0WVHzizOv"
      },
      "outputs": [],
      "source": [
        "from google.colab import drive\n",
        "import tensorflow as tf\n",
        "import seaborn as sns\n",
        "from sklearn.metrics import accuracy_score, recall_score, f1_score\n",
        "from sklearn.metrics import precision_score\n",
        "import matplotlib.pyplot as plt\n",
        "from sklearn.metrics import confusion_matrix\n",
        "import pandas as pd\n",
        "import numpy as np\n",
        "from sklearn.preprocessing import LabelEncoder\n",
        "import transformers\n",
        "from transformers import DistilBertTokenizer, TFDistilBertModel, TFDistilBertForSequenceClassification, DistilBertTokenizerFast\n",
        "from transformers import MobileBertTokenizer, TFMobileBertModel\n",
        "from transformers import AutoTokenizer, TFAlbertModel\n",
        "from sklearn.model_selection import train_test_split\n",
        "from tensorflow.keras.models import Sequential, Model\n",
        "from tensorflow.keras.layers import Conv1D, Conv2D,MaxPooling1D, MaxPooling2D, Flatten, Dense, Dropout, LSTM, BatchNormalization, Input, Concatenate\n",
        "import torch\n",
        "import requests\n",
        "from tensorflow.keras import activations, optimizers, losses\n",
        "from tensorflow.keras.callbacks import EarlyStopping"
      ]
    },
    {
      "cell_type": "code",
      "source": [
        "from google.colab import drive\n",
        "drive.mount('/content/drive')"
      ],
      "metadata": {
        "colab": {
          "base_uri": "https://localhost:8080/"
        },
        "id": "_HqSgxTCl2ha",
        "outputId": "382c9e92-42c6-4aa2-b5d7-1db78563cb09"
      },
      "execution_count": null,
      "outputs": [
        {
          "output_type": "stream",
          "name": "stdout",
          "text": [
            "Mounted at /content/drive\n"
          ]
        }
      ]
    },
    {
      "cell_type": "markdown",
      "source": [
        "## **ISOT Title Embeddings - Dataset**"
      ],
      "metadata": {
        "id": "AsjqHYKtmwIc"
      }
    },
    {
      "cell_type": "code",
      "source": [
        "embeddings_ISOT = np.load('/content/drive/MyDrive/NEWS_DATASET/embeddings_title_distilbert.npy')\n",
        "labels_ISOT = np.load('/content/drive/MyDrive/NEWS_DATASET/labels_title_distilbert.npy')"
      ],
      "metadata": {
        "id": "0T142QdGm0HN"
      },
      "execution_count": null,
      "outputs": []
    },
    {
      "cell_type": "code",
      "execution_count": null,
      "metadata": {
        "id": "sYtCFcErmVEy"
      },
      "outputs": [],
      "source": [
        "path = '/content/drive/MyDrive/NEWS_DATASET/final.csv'\n",
        "df_ISOT = pd.read_csv(path,delimiter=',')"
      ]
    },
    {
      "cell_type": "code",
      "execution_count": null,
      "metadata": {
        "colab": {
          "base_uri": "https://localhost:8080/"
        },
        "id": "8Xf-Bd89rH5K",
        "outputId": "71993869-6410-434d-dd76-d5c6557e912d"
      },
      "outputs": [
        {
          "output_type": "execute_result",
          "data": {
            "text/plain": [
              "                                               title  \\\n",
              "0  China says Trump plan to move embassy in Israe...   \n",
              "1  India says ready for stronger U.S. ties after ...   \n",
              "2  A PRESIDENT WHO’S UNSERIOUS AND UNDIGNIFIED…DO...   \n",
              "3  #DNC GIVES ANTI-HILLARY Dems Free Speech Cage ...   \n",
              "4  Castro meets North Korea minister amid hope Cu...   \n",
              "\n",
              "                                                text label  \n",
              "0  BEIJING (Reuters) - China expressed concern on...  true  \n",
              "1  NEW DELHI (Reuters) - India stood ready to fur...  true  \n",
              "2  America deserves so much better and should get...  fake  \n",
              "3  It s just cleaner that way You know, keeping a...  fake  \n",
              "4  HAVANA (Reuters) - Cuban President Raul Castro...  true  "
            ],
            "text/html": [
              "\n",
              "  <div id=\"df-338559be-cc41-49a1-9921-2d6693a8f007\">\n",
              "    <div class=\"colab-df-container\">\n",
              "      <div>\n",
              "<style scoped>\n",
              "    .dataframe tbody tr th:only-of-type {\n",
              "        vertical-align: middle;\n",
              "    }\n",
              "\n",
              "    .dataframe tbody tr th {\n",
              "        vertical-align: top;\n",
              "    }\n",
              "\n",
              "    .dataframe thead th {\n",
              "        text-align: right;\n",
              "    }\n",
              "</style>\n",
              "<table border=\"1\" class=\"dataframe\">\n",
              "  <thead>\n",
              "    <tr style=\"text-align: right;\">\n",
              "      <th></th>\n",
              "      <th>title</th>\n",
              "      <th>text</th>\n",
              "      <th>label</th>\n",
              "    </tr>\n",
              "  </thead>\n",
              "  <tbody>\n",
              "    <tr>\n",
              "      <th>0</th>\n",
              "      <td>China says Trump plan to move embassy in Israe...</td>\n",
              "      <td>BEIJING (Reuters) - China expressed concern on...</td>\n",
              "      <td>true</td>\n",
              "    </tr>\n",
              "    <tr>\n",
              "      <th>1</th>\n",
              "      <td>India says ready for stronger U.S. ties after ...</td>\n",
              "      <td>NEW DELHI (Reuters) - India stood ready to fur...</td>\n",
              "      <td>true</td>\n",
              "    </tr>\n",
              "    <tr>\n",
              "      <th>2</th>\n",
              "      <td>A PRESIDENT WHO’S UNSERIOUS AND UNDIGNIFIED…DO...</td>\n",
              "      <td>America deserves so much better and should get...</td>\n",
              "      <td>fake</td>\n",
              "    </tr>\n",
              "    <tr>\n",
              "      <th>3</th>\n",
              "      <td>#DNC GIVES ANTI-HILLARY Dems Free Speech Cage ...</td>\n",
              "      <td>It s just cleaner that way You know, keeping a...</td>\n",
              "      <td>fake</td>\n",
              "    </tr>\n",
              "    <tr>\n",
              "      <th>4</th>\n",
              "      <td>Castro meets North Korea minister amid hope Cu...</td>\n",
              "      <td>HAVANA (Reuters) - Cuban President Raul Castro...</td>\n",
              "      <td>true</td>\n",
              "    </tr>\n",
              "  </tbody>\n",
              "</table>\n",
              "</div>\n",
              "      <button class=\"colab-df-convert\" onclick=\"convertToInteractive('df-338559be-cc41-49a1-9921-2d6693a8f007')\"\n",
              "              title=\"Convert this dataframe to an interactive table.\"\n",
              "              style=\"display:none;\">\n",
              "        \n",
              "  <svg xmlns=\"http://www.w3.org/2000/svg\" height=\"24px\"viewBox=\"0 0 24 24\"\n",
              "       width=\"24px\">\n",
              "    <path d=\"M0 0h24v24H0V0z\" fill=\"none\"/>\n",
              "    <path d=\"M18.56 5.44l.94 2.06.94-2.06 2.06-.94-2.06-.94-.94-2.06-.94 2.06-2.06.94zm-11 1L8.5 8.5l.94-2.06 2.06-.94-2.06-.94L8.5 2.5l-.94 2.06-2.06.94zm10 10l.94 2.06.94-2.06 2.06-.94-2.06-.94-.94-2.06-.94 2.06-2.06.94z\"/><path d=\"M17.41 7.96l-1.37-1.37c-.4-.4-.92-.59-1.43-.59-.52 0-1.04.2-1.43.59L10.3 9.45l-7.72 7.72c-.78.78-.78 2.05 0 2.83L4 21.41c.39.39.9.59 1.41.59.51 0 1.02-.2 1.41-.59l7.78-7.78 2.81-2.81c.8-.78.8-2.07 0-2.86zM5.41 20L4 18.59l7.72-7.72 1.47 1.35L5.41 20z\"/>\n",
              "  </svg>\n",
              "      </button>\n",
              "      \n",
              "  <style>\n",
              "    .colab-df-container {\n",
              "      display:flex;\n",
              "      flex-wrap:wrap;\n",
              "      gap: 12px;\n",
              "    }\n",
              "\n",
              "    .colab-df-convert {\n",
              "      background-color: #E8F0FE;\n",
              "      border: none;\n",
              "      border-radius: 50%;\n",
              "      cursor: pointer;\n",
              "      display: none;\n",
              "      fill: #1967D2;\n",
              "      height: 32px;\n",
              "      padding: 0 0 0 0;\n",
              "      width: 32px;\n",
              "    }\n",
              "\n",
              "    .colab-df-convert:hover {\n",
              "      background-color: #E2EBFA;\n",
              "      box-shadow: 0px 1px 2px rgba(60, 64, 67, 0.3), 0px 1px 3px 1px rgba(60, 64, 67, 0.15);\n",
              "      fill: #174EA6;\n",
              "    }\n",
              "\n",
              "    [theme=dark] .colab-df-convert {\n",
              "      background-color: #3B4455;\n",
              "      fill: #D2E3FC;\n",
              "    }\n",
              "\n",
              "    [theme=dark] .colab-df-convert:hover {\n",
              "      background-color: #434B5C;\n",
              "      box-shadow: 0px 1px 3px 1px rgba(0, 0, 0, 0.15);\n",
              "      filter: drop-shadow(0px 1px 2px rgba(0, 0, 0, 0.3));\n",
              "      fill: #FFFFFF;\n",
              "    }\n",
              "  </style>\n",
              "\n",
              "      <script>\n",
              "        const buttonEl =\n",
              "          document.querySelector('#df-338559be-cc41-49a1-9921-2d6693a8f007 button.colab-df-convert');\n",
              "        buttonEl.style.display =\n",
              "          google.colab.kernel.accessAllowed ? 'block' : 'none';\n",
              "\n",
              "        async function convertToInteractive(key) {\n",
              "          const element = document.querySelector('#df-338559be-cc41-49a1-9921-2d6693a8f007');\n",
              "          const dataTable =\n",
              "            await google.colab.kernel.invokeFunction('convertToInteractive',\n",
              "                                                     [key], {});\n",
              "          if (!dataTable) return;\n",
              "\n",
              "          const docLinkHtml = 'Like what you see? Visit the ' +\n",
              "            '<a target=\"_blank\" href=https://colab.research.google.com/notebooks/data_table.ipynb>data table notebook</a>'\n",
              "            + ' to learn more about interactive tables.';\n",
              "          element.innerHTML = '';\n",
              "          dataTable['output_type'] = 'display_data';\n",
              "          await google.colab.output.renderOutput(dataTable, element);\n",
              "          const docLink = document.createElement('div');\n",
              "          docLink.innerHTML = docLinkHtml;\n",
              "          element.appendChild(docLink);\n",
              "        }\n",
              "      </script>\n",
              "    </div>\n",
              "  </div>\n",
              "  "
            ]
          },
          "metadata": {},
          "execution_count": 6
        }
      ],
      "source": [
        "def strip(row):\n",
        "  return row['text'].strip('\"')\n",
        "\n",
        "df_ISOT['text'] = df_ISOT.apply(strip,axis=1)\n",
        "df_ISOT.head()"
      ]
    },
    {
      "cell_type": "code",
      "execution_count": null,
      "metadata": {
        "colab": {
          "base_uri": "https://localhost:8080/"
        },
        "id": "3muLE3mp4oO6",
        "outputId": "c01bbe80-d210-40aa-8c8e-3aa3c63eccfe"
      },
      "outputs": [
        {
          "output_type": "execute_result",
          "data": {
            "text/plain": [
              "                                               title  \\\n",
              "0  China says Trump plan to move embassy in Israe...   \n",
              "1  India says ready for stronger U.S. ties after ...   \n",
              "2  A PRESIDENT WHO’S UNSERIOUS AND UNDIGNIFIED…DO...   \n",
              "3  #DNC GIVES ANTI-HILLARY Dems Free Speech Cage ...   \n",
              "4  Castro meets North Korea minister amid hope Cu...   \n",
              "\n",
              "                                                text  label  \n",
              "0  BEIJING (Reuters) - China expressed concern on...      1  \n",
              "1  NEW DELHI (Reuters) - India stood ready to fur...      1  \n",
              "2  America deserves so much better and should get...      0  \n",
              "3  It s just cleaner that way You know, keeping a...      0  \n",
              "4  HAVANA (Reuters) - Cuban President Raul Castro...      1  "
            ],
            "text/html": [
              "\n",
              "  <div id=\"df-4b368bcb-735e-4180-a971-795fa028ddc8\">\n",
              "    <div class=\"colab-df-container\">\n",
              "      <div>\n",
              "<style scoped>\n",
              "    .dataframe tbody tr th:only-of-type {\n",
              "        vertical-align: middle;\n",
              "    }\n",
              "\n",
              "    .dataframe tbody tr th {\n",
              "        vertical-align: top;\n",
              "    }\n",
              "\n",
              "    .dataframe thead th {\n",
              "        text-align: right;\n",
              "    }\n",
              "</style>\n",
              "<table border=\"1\" class=\"dataframe\">\n",
              "  <thead>\n",
              "    <tr style=\"text-align: right;\">\n",
              "      <th></th>\n",
              "      <th>title</th>\n",
              "      <th>text</th>\n",
              "      <th>label</th>\n",
              "    </tr>\n",
              "  </thead>\n",
              "  <tbody>\n",
              "    <tr>\n",
              "      <th>0</th>\n",
              "      <td>China says Trump plan to move embassy in Israe...</td>\n",
              "      <td>BEIJING (Reuters) - China expressed concern on...</td>\n",
              "      <td>1</td>\n",
              "    </tr>\n",
              "    <tr>\n",
              "      <th>1</th>\n",
              "      <td>India says ready for stronger U.S. ties after ...</td>\n",
              "      <td>NEW DELHI (Reuters) - India stood ready to fur...</td>\n",
              "      <td>1</td>\n",
              "    </tr>\n",
              "    <tr>\n",
              "      <th>2</th>\n",
              "      <td>A PRESIDENT WHO’S UNSERIOUS AND UNDIGNIFIED…DO...</td>\n",
              "      <td>America deserves so much better and should get...</td>\n",
              "      <td>0</td>\n",
              "    </tr>\n",
              "    <tr>\n",
              "      <th>3</th>\n",
              "      <td>#DNC GIVES ANTI-HILLARY Dems Free Speech Cage ...</td>\n",
              "      <td>It s just cleaner that way You know, keeping a...</td>\n",
              "      <td>0</td>\n",
              "    </tr>\n",
              "    <tr>\n",
              "      <th>4</th>\n",
              "      <td>Castro meets North Korea minister amid hope Cu...</td>\n",
              "      <td>HAVANA (Reuters) - Cuban President Raul Castro...</td>\n",
              "      <td>1</td>\n",
              "    </tr>\n",
              "  </tbody>\n",
              "</table>\n",
              "</div>\n",
              "      <button class=\"colab-df-convert\" onclick=\"convertToInteractive('df-4b368bcb-735e-4180-a971-795fa028ddc8')\"\n",
              "              title=\"Convert this dataframe to an interactive table.\"\n",
              "              style=\"display:none;\">\n",
              "        \n",
              "  <svg xmlns=\"http://www.w3.org/2000/svg\" height=\"24px\"viewBox=\"0 0 24 24\"\n",
              "       width=\"24px\">\n",
              "    <path d=\"M0 0h24v24H0V0z\" fill=\"none\"/>\n",
              "    <path d=\"M18.56 5.44l.94 2.06.94-2.06 2.06-.94-2.06-.94-.94-2.06-.94 2.06-2.06.94zm-11 1L8.5 8.5l.94-2.06 2.06-.94-2.06-.94L8.5 2.5l-.94 2.06-2.06.94zm10 10l.94 2.06.94-2.06 2.06-.94-2.06-.94-.94-2.06-.94 2.06-2.06.94z\"/><path d=\"M17.41 7.96l-1.37-1.37c-.4-.4-.92-.59-1.43-.59-.52 0-1.04.2-1.43.59L10.3 9.45l-7.72 7.72c-.78.78-.78 2.05 0 2.83L4 21.41c.39.39.9.59 1.41.59.51 0 1.02-.2 1.41-.59l7.78-7.78 2.81-2.81c.8-.78.8-2.07 0-2.86zM5.41 20L4 18.59l7.72-7.72 1.47 1.35L5.41 20z\"/>\n",
              "  </svg>\n",
              "      </button>\n",
              "      \n",
              "  <style>\n",
              "    .colab-df-container {\n",
              "      display:flex;\n",
              "      flex-wrap:wrap;\n",
              "      gap: 12px;\n",
              "    }\n",
              "\n",
              "    .colab-df-convert {\n",
              "      background-color: #E8F0FE;\n",
              "      border: none;\n",
              "      border-radius: 50%;\n",
              "      cursor: pointer;\n",
              "      display: none;\n",
              "      fill: #1967D2;\n",
              "      height: 32px;\n",
              "      padding: 0 0 0 0;\n",
              "      width: 32px;\n",
              "    }\n",
              "\n",
              "    .colab-df-convert:hover {\n",
              "      background-color: #E2EBFA;\n",
              "      box-shadow: 0px 1px 2px rgba(60, 64, 67, 0.3), 0px 1px 3px 1px rgba(60, 64, 67, 0.15);\n",
              "      fill: #174EA6;\n",
              "    }\n",
              "\n",
              "    [theme=dark] .colab-df-convert {\n",
              "      background-color: #3B4455;\n",
              "      fill: #D2E3FC;\n",
              "    }\n",
              "\n",
              "    [theme=dark] .colab-df-convert:hover {\n",
              "      background-color: #434B5C;\n",
              "      box-shadow: 0px 1px 3px 1px rgba(0, 0, 0, 0.15);\n",
              "      filter: drop-shadow(0px 1px 2px rgba(0, 0, 0, 0.3));\n",
              "      fill: #FFFFFF;\n",
              "    }\n",
              "  </style>\n",
              "\n",
              "      <script>\n",
              "        const buttonEl =\n",
              "          document.querySelector('#df-4b368bcb-735e-4180-a971-795fa028ddc8 button.colab-df-convert');\n",
              "        buttonEl.style.display =\n",
              "          google.colab.kernel.accessAllowed ? 'block' : 'none';\n",
              "\n",
              "        async function convertToInteractive(key) {\n",
              "          const element = document.querySelector('#df-4b368bcb-735e-4180-a971-795fa028ddc8');\n",
              "          const dataTable =\n",
              "            await google.colab.kernel.invokeFunction('convertToInteractive',\n",
              "                                                     [key], {});\n",
              "          if (!dataTable) return;\n",
              "\n",
              "          const docLinkHtml = 'Like what you see? Visit the ' +\n",
              "            '<a target=\"_blank\" href=https://colab.research.google.com/notebooks/data_table.ipynb>data table notebook</a>'\n",
              "            + ' to learn more about interactive tables.';\n",
              "          element.innerHTML = '';\n",
              "          dataTable['output_type'] = 'display_data';\n",
              "          await google.colab.output.renderOutput(dataTable, element);\n",
              "          const docLink = document.createElement('div');\n",
              "          docLink.innerHTML = docLinkHtml;\n",
              "          element.appendChild(docLink);\n",
              "        }\n",
              "      </script>\n",
              "    </div>\n",
              "  </div>\n",
              "  "
            ]
          },
          "metadata": {},
          "execution_count": 7
        }
      ],
      "source": [
        "label_encoder = LabelEncoder()\n",
        "label = df_ISOT['label']\n",
        "labels_encoded = label_encoder.fit_transform(label)\n",
        "df_ISOT['label'] = labels_encoded\n",
        "df_ISOT.head()"
      ]
    },
    {
      "cell_type": "markdown",
      "source": [
        "## **FakeNewsChallenge Title Embeddings - Dataset**"
      ],
      "metadata": {
        "id": "VNknXuV5SDR5"
      }
    },
    {
      "cell_type": "markdown",
      "metadata": {
        "id": "96bVYwTZMOpo"
      },
      "source": [
        "### **train data**"
      ]
    },
    {
      "cell_type": "code",
      "execution_count": null,
      "metadata": {
        "id": "mf-15i5wMQy2"
      },
      "outputs": [],
      "source": [
        "path = '/content/drive/MyDrive/FakeNewsChallenge/train.csv'\n",
        "df = pd.read_csv(path,delimiter=',')"
      ]
    },
    {
      "cell_type": "code",
      "execution_count": null,
      "metadata": {
        "id": "2cbgnklNMQy3"
      },
      "outputs": [],
      "source": [
        "df['Stance'] = df['Stance'].apply(lambda x: 1 if x.lower() in ['agree', 'discuss'] else 0)"
      ]
    },
    {
      "cell_type": "code",
      "execution_count": null,
      "metadata": {
        "colab": {
          "base_uri": "https://localhost:8080/"
        },
        "id": "budS7AceMQy3",
        "outputId": "7e64eacd-2f89-4424-b3cc-ead64e1e90e0"
      },
      "outputs": [
        {
          "output_type": "execute_result",
          "data": {
            "text/plain": [
              "<seaborn.axisgrid.FacetGrid at 0x7f21765c3460>"
            ]
          },
          "metadata": {},
          "execution_count": 10
        },
        {
          "output_type": "display_data",
          "data": {
            "text/plain": [
              "<Figure size 700x700 with 1 Axes>"
            ],
            "image/png": "[encoded data removed]"
          },
          "metadata": {}
        }
      ],
      "source": [
        "sns.set_theme(style=\"whitegrid\", palette=\"pastel\")\n",
        "sns.displot(df, x=\"Stance\",height=7,aspect=1)"
      ]
    },
    {
      "cell_type": "markdown",
      "metadata": {
        "id": "CyyOa2ZsMYvu"
      },
      "source": [
        "### **test data**"
      ]
    },
    {
      "cell_type": "code",
      "execution_count": null,
      "metadata": {
        "id": "sZ0CAwq6McMY"
      },
      "outputs": [],
      "source": [
        "path = '/content/drive/MyDrive/FakeNewsChallenge/test.csv'\n",
        "df1 = pd.read_csv(path,delimiter=',')"
      ]
    },
    {
      "cell_type": "code",
      "execution_count": null,
      "metadata": {
        "id": "aS356O0PMb0B"
      },
      "outputs": [],
      "source": [
        "df1['Stance'] = df1['Stance'].apply(lambda x: 1 if x.lower() in ['agree', 'discuss'] else 0)"
      ]
    },
    {
      "cell_type": "code",
      "execution_count": null,
      "metadata": {
        "colab": {
          "base_uri": "https://localhost:8080/"
        },
        "id": "LX-NTMyQMcMZ",
        "outputId": "39404316-d313-405e-9762-ef3cd21ba756"
      },
      "outputs": [
        {
          "output_type": "execute_result",
          "data": {
            "text/plain": [
              "<seaborn.axisgrid.FacetGrid at 0x7f204e706230>"
            ]
          },
          "metadata": {},
          "execution_count": 13
        },
        {
          "output_type": "display_data",
          "data": {
            "text/plain": [
              "<Figure size 700x700 with 1 Axes>"
            ],
            "image/png": "[encoded data removed]"
          },
          "metadata": {}
        }
      ],
      "source": [
        "sns.set_theme(style=\"whitegrid\", palette=\"pastel\")\n",
        "sns.displot(df1, x=\"Stance\",height=7,aspect=1)"
      ]
    },
    {
      "cell_type": "markdown",
      "source": [
        "### Embeddings"
      ],
      "metadata": {
        "id": "5ds1hygvZ8Qt"
      }
    },
    {
      "cell_type": "code",
      "source": [
        "train_embeddings_FNC = np.load('/content/drive/MyDrive/FakeNewsChallenge/embeddings_train_title_distilbert_bin.npy')\n",
        "train_labels_FNC = np.load('/content/drive/MyDrive/FakeNewsChallenge/labels_train_title_distilbert_bin.npy')\n",
        "test_embeddings_FNC = np.load('/content/drive/MyDrive/FakeNewsChallenge/embeddings_test_title_distilbert_bin.npy')\n",
        "test_labels_FNC = np.load('/content/drive/MyDrive/FakeNewsChallenge/labels_test_title_distilbert_bin.npy')"
      ],
      "metadata": {
        "id": "fPEdbZ9dZ-KU"
      },
      "execution_count": null,
      "outputs": []
    },
    {
      "cell_type": "code",
      "source": [
        "train_embeddings_FNC1 = np.load('/content/drive/MyDrive/FakeNewsChallenge/embeddings_train_text_distilbert_bin.npy')\n",
        "train_labels_FNC1 = np.load('/content/drive/MyDrive/FakeNewsChallenge/labels_train_text_distilbert_bin.npy')\n",
        "test_embeddings_FNC1 = np.load('/content/drive/MyDrive/FakeNewsChallenge/embeddings_test_text_distilbert_bin.npy')\n",
        "test_labels_FNC1 = np.load('/content/drive/MyDrive/FakeNewsChallenge/labels_test_text_distilbert_bin.npy')"
      ],
      "metadata": {
        "id": "h4o3IB8znAqV"
      },
      "execution_count": null,
      "outputs": []
    },
    {
      "cell_type": "code",
      "source": [
        "train_embeddings_FNC1 = np.load('/content/drive/MyDrive/FakeNewsChallenge/embeddings_train_text_max_bin.npy')\n",
        "train_labels_FNC1 = np.load('/content/drive/MyDrive/FakeNewsChallenge/labels_train_text_max_bin.npy')\n",
        "test_embeddings_FNC1 = np.load('/content/drive/MyDrive/FakeNewsChallenge/embeddings_test_text_max_bin.npy')\n",
        "test_labels_FNC1 = np.load('/content/drive/MyDrive/FakeNewsChallenge/labels_test_text_max_bin.npy')"
      ],
      "metadata": {
        "id": "JWfFc_a6ngn0"
      },
      "execution_count": null,
      "outputs": []
    },
    {
      "cell_type": "markdown",
      "source": [
        "# **Concatenate Embeddings**"
      ],
      "metadata": {
        "id": "1_NMPuk2AQpc"
      }
    },
    {
      "cell_type": "markdown",
      "source": [
        "## Title Embeddings"
      ],
      "metadata": {
        "id": "9RDuBYd5mlW5"
      }
    },
    {
      "cell_type": "code",
      "source": [
        "train_embeddings_ISOT, test_embeddings_ISOT, train_labels_ISOT, test_labels_ISOT = train_test_split(embeddings_ISOT, labels_ISOT, test_size=0.2, random_state=42, shuffle=True)"
      ],
      "metadata": {
        "id": "_1owB7GDbHH0"
      },
      "execution_count": null,
      "outputs": []
    },
    {
      "cell_type": "code",
      "source": [
        "train_embeddings = np.concatenate((train_embeddings_ISOT, train_embeddings_FNC), axis=0)\n",
        "train_labels = np.concatenate((train_labels_ISOT,train_labels_FNC),axis=0)"
      ],
      "metadata": {
        "id": "bXATzBiEX2l3"
      },
      "execution_count": null,
      "outputs": []
    },
    {
      "cell_type": "code",
      "source": [
        "test_embeddings = np.concatenate((test_embeddings_ISOT, test_embeddings_FNC), axis=0)\n",
        "test_labels = np.concatenate((test_labels_ISOT,test_labels_FNC),axis=0)"
      ],
      "metadata": {
        "id": "ioaZfVkEaJG4"
      },
      "execution_count": null,
      "outputs": []
    },
    {
      "cell_type": "markdown",
      "source": [
        "## Text Embeddings"
      ],
      "metadata": {
        "id": "U5SY_rcpmoWg"
      }
    },
    {
      "cell_type": "code",
      "execution_count": null,
      "metadata": {
        "id": "6Am6vQsH-sGS"
      },
      "outputs": [],
      "source": [
        "#εισάγουμε τα δεδομένα από τ' αποθηκευμένα αρχεία που δημιουργήσαμε νωρίτερα\n",
        "embeddings = np.load('/content/drive/MyDrive/NEWS_DATASET/embeddings_text_distilbert.npy')\n",
        "labels = np.load('/content/drive/MyDrive/NEWS_DATASET/labels_text_distilbert.npy')"
      ]
    },
    {
      "cell_type": "code",
      "execution_count": null,
      "metadata": {
        "id": "uYwTuw5r-sGj"
      },
      "outputs": [],
      "source": [
        "train_embeddings_ISOT1, test_embeddings_ISOT1, train_labels_ISOT1, test_labels_ISOT1 = train_test_split(embeddings, labels, test_size=0.2, random_state=42, shuffle=True)"
      ]
    },
    {
      "cell_type": "code",
      "source": [
        "train_embeddings_ISOT1.shape"
      ],
      "metadata": {
        "colab": {
          "base_uri": "https://localhost:8080/"
        },
        "id": "2yPHmO-7vKxX",
        "outputId": "752f4771-45d9-44cd-8140-1440c90bb552"
      },
      "execution_count": null,
      "outputs": [
        {
          "output_type": "execute_result",
          "data": {
            "text/plain": [
              "(35918, 768)"
            ]
          },
          "metadata": {},
          "execution_count": 22
        }
      ]
    },
    {
      "cell_type": "code",
      "source": [
        "test_embeddings_ISOT1.shape"
      ],
      "metadata": {
        "colab": {
          "base_uri": "https://localhost:8080/"
        },
        "id": "4jDMxOsWvN-C",
        "outputId": "c601c7b3-b4ed-4ec5-9456-47a8be50b649"
      },
      "execution_count": null,
      "outputs": [
        {
          "output_type": "execute_result",
          "data": {
            "text/plain": [
              "(8980, 768)"
            ]
          },
          "metadata": {},
          "execution_count": 23
        }
      ]
    },
    {
      "cell_type": "code",
      "source": [
        "train_embeddings_FNC1.shape"
      ],
      "metadata": {
        "colab": {
          "base_uri": "https://localhost:8080/"
        },
        "id": "gpAk-icsvSqk",
        "outputId": "e5c440e1-27e6-4eb3-af49-a8b91899c765"
      },
      "execution_count": null,
      "outputs": [
        {
          "output_type": "execute_result",
          "data": {
            "text/plain": [
              "(49972, 768)"
            ]
          },
          "metadata": {},
          "execution_count": 24
        }
      ]
    },
    {
      "cell_type": "code",
      "source": [
        "test_embeddings_FNC1.shape"
      ],
      "metadata": {
        "colab": {
          "base_uri": "https://localhost:8080/"
        },
        "id": "7MZs97movWU6",
        "outputId": "a837dd51-1f43-440a-8c88-25f20486d951"
      },
      "execution_count": null,
      "outputs": [
        {
          "output_type": "execute_result",
          "data": {
            "text/plain": [
              "(25413, 768)"
            ]
          },
          "metadata": {},
          "execution_count": 25
        }
      ]
    },
    {
      "cell_type": "code",
      "source": [
        "train_embeddings1 = np.concatenate((train_embeddings_ISOT1, train_embeddings_FNC1), axis=0)\n",
        "train_labels1 = np.concatenate((train_labels_ISOT1,train_labels_FNC1),axis=0)"
      ],
      "metadata": {
        "id": "dTJmXMFgpbX5"
      },
      "execution_count": null,
      "outputs": []
    },
    {
      "cell_type": "code",
      "source": [
        "test_embeddings1 = np.concatenate((test_embeddings_ISOT1, test_embeddings_FNC1), axis=0)\n",
        "test_labels1 = np.concatenate((test_labels_ISOT1,test_labels_FNC1),axis=0)"
      ],
      "metadata": {
        "id": "7ME3B9hvpbYL"
      },
      "execution_count": null,
      "outputs": []
    },
    {
      "cell_type": "markdown",
      "source": [
        "## Max-Worth Embeddings"
      ],
      "metadata": {
        "id": "EOBmoN_d0Bx2"
      }
    },
    {
      "cell_type": "code",
      "execution_count": null,
      "metadata": {
        "id": "n8yrm0P50Bx3"
      },
      "outputs": [],
      "source": [
        "embeddings = np.load('/content/drive/MyDrive/NEWS_DATASET/embeddings_textmax_distilbert.npy')\n",
        "labels = np.load('/content/drive/MyDrive/NEWS_DATASET/labels_textmax_distilbert.npy')"
      ]
    },
    {
      "cell_type": "code",
      "execution_count": null,
      "metadata": {
        "id": "A9rRXhXw0Bx3"
      },
      "outputs": [],
      "source": [
        "train_embeddings_ISOT1, test_embeddings_ISOT1, train_labels_ISOT1, test_labels_ISOT1 = train_test_split(embeddings, labels, test_size=0.2, random_state=42, shuffle=True)"
      ]
    },
    {
      "cell_type": "code",
      "source": [
        "train_embeddings_ISOT1.shape"
      ],
      "metadata": {
        "colab": {
          "base_uri": "https://localhost:8080/"
        },
        "outputId": "4bb81592-5c64-4db9-c1db-089482572e85",
        "id": "Qi3T5OXE0Bx4"
      },
      "execution_count": null,
      "outputs": [
        {
          "output_type": "execute_result",
          "data": {
            "text/plain": [
              "(35918, 768)"
            ]
          },
          "metadata": {},
          "execution_count": 21
        }
      ]
    },
    {
      "cell_type": "code",
      "source": [
        "test_embeddings_ISOT1.shape"
      ],
      "metadata": {
        "colab": {
          "base_uri": "https://localhost:8080/"
        },
        "outputId": "039a6071-ab5f-4083-eef0-ffd42b5bf0af",
        "id": "hDVp3qZ40Bx4"
      },
      "execution_count": null,
      "outputs": [
        {
          "output_type": "execute_result",
          "data": {
            "text/plain": [
              "(8980, 768)"
            ]
          },
          "metadata": {},
          "execution_count": 22
        }
      ]
    },
    {
      "cell_type": "code",
      "source": [
        "train_embeddings_FNC1.shape"
      ],
      "metadata": {
        "colab": {
          "base_uri": "https://localhost:8080/"
        },
        "outputId": "24b1dc1a-4047-4609-e58e-68ef6f10e4bd",
        "id": "NdOYITsj0Bx4"
      },
      "execution_count": null,
      "outputs": [
        {
          "output_type": "execute_result",
          "data": {
            "text/plain": [
              "(49972, 768)"
            ]
          },
          "metadata": {},
          "execution_count": 23
        }
      ]
    },
    {
      "cell_type": "code",
      "source": [
        "test_embeddings_FNC1.shape"
      ],
      "metadata": {
        "colab": {
          "base_uri": "https://localhost:8080/"
        },
        "outputId": "7ca2831a-6a52-4649-bc5f-5fe720136c95",
        "id": "FT9Sc8jH0Bx4"
      },
      "execution_count": null,
      "outputs": [
        {
          "output_type": "execute_result",
          "data": {
            "text/plain": [
              "(25413, 768)"
            ]
          },
          "metadata": {},
          "execution_count": 24
        }
      ]
    },
    {
      "cell_type": "code",
      "source": [
        "train_embeddings1 = np.concatenate((train_embeddings_ISOT1, train_embeddings_FNC1), axis=0)\n",
        "train_labels1 = np.concatenate((train_labels_ISOT1,train_labels_FNC1),axis=0)"
      ],
      "metadata": {
        "id": "w7vGkj400Bx5"
      },
      "execution_count": null,
      "outputs": []
    },
    {
      "cell_type": "code",
      "source": [
        "test_embeddings1 = np.concatenate((test_embeddings_ISOT1, test_embeddings_FNC1), axis=0)\n",
        "test_labels1 = np.concatenate((test_labels_ISOT1,test_labels_FNC1),axis=0)"
      ],
      "metadata": {
        "id": "1cd1Kc5w0Bx5"
      },
      "execution_count": null,
      "outputs": []
    },
    {
      "cell_type": "markdown",
      "source": [
        "# **DistilBERT-Text-Title**"
      ],
      "metadata": {
        "id": "WA1GOluj389v"
      }
    },
    {
      "cell_type": "code",
      "source": [
        "train_embeddings = tf.expand_dims(train_embeddings, axis=-1)\n",
        "test_embeddings = tf.expand_dims(test_embeddings, axis=-1)"
      ],
      "metadata": {
        "id": "Gx2KUxDF5R8b"
      },
      "execution_count": null,
      "outputs": []
    },
    {
      "cell_type": "code",
      "source": [
        "train_embeddings.shape"
      ],
      "metadata": {
        "colab": {
          "base_uri": "https://localhost:8080/"
        },
        "outputId": "20fa0f78-2007-44b1-dc0f-fdad0221ea01",
        "id": "Q67LC32h5R8c"
      },
      "execution_count": null,
      "outputs": [
        {
          "output_type": "execute_result",
          "data": {
            "text/plain": [
              "TensorShape([85890, 768, 1])"
            ]
          },
          "metadata": {},
          "execution_count": 29
        }
      ]
    },
    {
      "cell_type": "code",
      "source": [
        "train_embeddings1 = tf.expand_dims(train_embeddings1, axis=-1)\n",
        "test_embeddings1 = tf.expand_dims(test_embeddings1, axis=-1)"
      ],
      "metadata": {
        "id": "z35ZjBib5Y4q"
      },
      "execution_count": null,
      "outputs": []
    },
    {
      "cell_type": "code",
      "source": [
        "train_embeddings.shape"
      ],
      "metadata": {
        "colab": {
          "base_uri": "https://localhost:8080/"
        },
        "outputId": "129ffb36-bcc8-4a19-82e9-f8f31073d2c8",
        "id": "DC0CEp9Y5Y4q"
      },
      "execution_count": null,
      "outputs": [
        {
          "output_type": "execute_result",
          "data": {
            "text/plain": [
              "TensorShape([85890, 768, 1])"
            ]
          },
          "metadata": {},
          "execution_count": 31
        }
      ]
    },
    {
      "cell_type": "code",
      "source": [
        "title_input = Input(shape=(768,), name='title_bert')\n",
        "text_input = Input(shape=(768,), name='text_bert')\n",
        "shared_dense = Dense(768, activation='relu')\n",
        "title_output = shared_dense(title_input)\n",
        "text_output = shared_dense(text_input)\n",
        "concatenated = Concatenate(axis=1, name='concatenated')([title_output, text_output])\n",
        "dropped_out = Dropout(0.5)(concatenated)\n",
        "output = Dense(1, activation='sigmoid', name='output')(dropped_out)\n",
        "model = Model(inputs=[title_input, text_input], outputs=output)"
      ],
      "metadata": {
        "id": "FF062FB54Iwi"
      },
      "execution_count": null,
      "outputs": []
    },
    {
      "cell_type": "code",
      "source": [
        "model.compile(optimizer='adam', loss='binary_crossentropy', metrics=['accuracy'])"
      ],
      "metadata": {
        "id": "bEUdYlTU61Xl"
      },
      "execution_count": null,
      "outputs": []
    },
    {
      "cell_type": "code",
      "source": [
        "model.fit(x=[tf.squeeze(train_embeddings), tf.squeeze(train_embeddings1)],\n",
        "          y=train_labels,\n",
        "          epochs=9,\n",
        "          batch_size=16)"
      ],
      "metadata": {
        "colab": {
          "base_uri": "https://localhost:8080/"
        },
        "id": "6eIFapqS636r",
        "outputId": "55fa9eb5-dd16-4d63-c759-6fe492ec3fd6"
      },
      "execution_count": null,
      "outputs": [
        {
          "output_type": "stream",
          "name": "stdout",
          "text": [
            "Epoch 1/9\n",
            "5369/5369 [==============================] - 27s 4ms/step - loss: 0.3914 - accuracy: 0.8228\n",
            "Epoch 2/9\n",
            "5369/5369 [==============================] - 20s 4ms/step - loss: 0.3524 - accuracy: 0.8394\n",
            "Epoch 3/9\n",
            "5369/5369 [==============================] - 20s 4ms/step - loss: 0.3388 - accuracy: 0.8457\n",
            "Epoch 4/9\n",
            "5369/5369 [==============================] - 19s 4ms/step - loss: 0.3302 - accuracy: 0.8488\n",
            "Epoch 5/9\n",
            "5369/5369 [==============================] - 20s 4ms/step - loss: 0.3222 - accuracy: 0.8528\n",
            "Epoch 6/9\n",
            "5369/5369 [==============================] - 20s 4ms/step - loss: 0.3164 - accuracy: 0.8553\n",
            "Epoch 7/9\n",
            "5369/5369 [==============================] - 19s 4ms/step - loss: 0.3108 - accuracy: 0.8570\n",
            "Epoch 8/9\n",
            "5369/5369 [==============================] - 20s 4ms/step - loss: 0.3085 - accuracy: 0.8598\n",
            "Epoch 9/9\n",
            "5369/5369 [==============================] - 22s 4ms/step - loss: 0.3037 - accuracy: 0.8621\n"
          ]
        },
        {
          "output_type": "execute_result",
          "data": {
            "text/plain": [
              "<keras.callbacks.History at 0x7f82c4a8af20>"
            ]
          },
          "metadata": {},
          "execution_count": 34
        }
      ]
    },
    {
      "cell_type": "code",
      "source": [
        "test_loss, test_acc = model.evaluate([tf.squeeze(test_embeddings),tf.squeeze(test_embeddings1)], test_labels, verbose=2)\n",
        "\n",
        "y_pred = model.predict([tf.squeeze(test_embeddings),tf.squeeze(test_embeddings1)])\n",
        "y_pred = (y_pred > 0.5).astype('int32')\n",
        "\n",
        "f1 = f1_score(test_labels, y_pred)\n",
        "recall = recall_score(test_labels, y_pred)\n",
        "precision = precision_score(test_labels, y_pred)\n",
        "\n",
        "print(\"Test Accuracy:\", test_acc)\n",
        "print(\"Test F1 Score:\", f1)\n",
        "print(\"Test Recall:\", recall)\n",
        "print(\"Precision:\", precision)"
      ],
      "metadata": {
        "colab": {
          "base_uri": "https://localhost:8080/"
        },
        "id": "NSDJXKiK-NkS",
        "outputId": "2730b925-c9b2-42a0-d260-c454b0171cdf"
      },
      "execution_count": null,
      "outputs": [
        {
          "output_type": "stream",
          "name": "stdout",
          "text": [
            "1075/1075 - 2s - loss: 0.5268 - accuracy: 0.7597 - 2s/epoch - 2ms/step\n",
            "1075/1075 [==============================] - 3s 2ms/step\n",
            "Test Accuracy: 0.7596604228019714\n",
            "Test F1 Score: 0.5654505309641469\n",
            "Test Recall: 0.5010714618466412\n",
            "Precision: 0.6488116781276391\n"
          ]
        }
      ]
    },
    {
      "cell_type": "code",
      "source": [
        "model.summary()"
      ],
      "metadata": {
        "colab": {
          "base_uri": "https://localhost:8080/"
        },
        "id": "-SLN5dSX-arL",
        "outputId": "6814547a-ba7f-484f-e169-0207adf1c51f"
      },
      "execution_count": null,
      "outputs": [
        {
          "output_type": "stream",
          "name": "stdout",
          "text": [
            "Model: \"model\"\n",
            "__________________________________________________________________________________________________\n",
            " Layer (type)                   Output Shape         Param #     Connected to                     \n",
            "==================================================================================================\n",
            " title_bert (InputLayer)        [(None, 768)]        0           []                               \n",
            "                                                                                                  \n",
            " text_bert (InputLayer)         [(None, 768)]        0           []                               \n",
            "                                                                                                  \n",
            " dense (Dense)                  (None, 768)          590592      ['title_bert[0][0]',             \n",
            "                                                                  'text_bert[0][0]']              \n",
            "                                                                                                  \n",
            " concatenated (Concatenate)     (None, 1536)         0           ['dense[0][0]',                  \n",
            "                                                                  'dense[1][0]']                  \n",
            "                                                                                                  \n",
            " dropout (Dropout)              (None, 1536)         0           ['concatenated[0][0]']           \n",
            "                                                                                                  \n",
            " output (Dense)                 (None, 1)            1537        ['dropout[0][0]']                \n",
            "                                                                                                  \n",
            "==================================================================================================\n",
            "Total params: 592,129\n",
            "Trainable params: 592,129\n",
            "Non-trainable params: 0\n",
            "__________________________________________________________________________________________________\n"
          ]
        }
      ]
    },
    {
      "cell_type": "code",
      "source": [
        "y_pred = model.predict([tf.squeeze(test_embeddings),tf.squeeze(test_embeddings1)])\n",
        "y_pred = (y_pred > 0.5).astype(int)\n",
        "cm = confusion_matrix(test_labels, y_pred)\n",
        "print(cm)\n",
        "sns.heatmap(cm, annot=True, cmap='Blues', fmt='g')\n",
        "plt.xlabel('Predicted label')\n",
        "plt.ylabel('True label')\n",
        "plt.show()"
      ],
      "metadata": {
        "colab": {
          "base_uri": "https://localhost:8080/",
          "height": 510
        },
        "id": "lqKkL3wM-czr",
        "outputId": "a40fffcf-d29e-4817-db3c-8a9b0fe141d2"
      },
      "execution_count": null,
      "outputs": [
        {
          "output_type": "stream",
          "name": "stdout",
          "text": [
            "1075/1075 [==============================] - 2s 2ms/step\n",
            "[[20749  2911]\n",
            " [ 5355  5378]]\n"
          ]
        },
        {
          "output_type": "display_data",
          "data": {
            "text/plain": [
              "<Figure size 640x480 with 2 Axes>"
            ],
            "image/png": "[encoded data removed]"
          },
          "metadata": {}
        }
      ]
    },
    {
      "cell_type": "markdown",
      "source": [
        "# **DistilBERT-MaxWorth-Title**"
      ],
      "metadata": {
        "id": "Ub-1d3d_0_uN"
      }
    },
    {
      "cell_type": "code",
      "source": [
        "train_embeddings = tf.expand_dims(train_embeddings, axis=-1)\n",
        "test_embeddings = tf.expand_dims(test_embeddings, axis=-1)"
      ],
      "metadata": {
        "id": "OzEJT4MD0_uO"
      },
      "execution_count": null,
      "outputs": []
    },
    {
      "cell_type": "code",
      "source": [
        "train_embeddings.shape"
      ],
      "metadata": {
        "colab": {
          "base_uri": "https://localhost:8080/"
        },
        "outputId": "49fb7dc3-369d-4408-bebb-9a7f46fa1337",
        "id": "dww_M-k10_uO"
      },
      "execution_count": null,
      "outputs": [
        {
          "output_type": "execute_result",
          "data": {
            "text/plain": [
              "TensorShape([85890, 768, 1])"
            ]
          },
          "metadata": {},
          "execution_count": 28
        }
      ]
    },
    {
      "cell_type": "code",
      "source": [
        "train_embeddings1 = tf.expand_dims(train_embeddings1, axis=-1)\n",
        "test_embeddings1 = tf.expand_dims(test_embeddings1, axis=-1)"
      ],
      "metadata": {
        "id": "IlE-XU7o0_uP"
      },
      "execution_count": null,
      "outputs": []
    },
    {
      "cell_type": "code",
      "source": [
        "train_embeddings.shape"
      ],
      "metadata": {
        "colab": {
          "base_uri": "https://localhost:8080/"
        },
        "outputId": "039a340b-2afc-4a60-b947-c1b45b07684f",
        "id": "Buv-0bg_0_uP"
      },
      "execution_count": null,
      "outputs": [
        {
          "output_type": "execute_result",
          "data": {
            "text/plain": [
              "TensorShape([85890, 768, 1])"
            ]
          },
          "metadata": {},
          "execution_count": 30
        }
      ]
    },
    {
      "cell_type": "code",
      "source": [
        "title_input = Input(shape=(768,), name='title_bert')\n",
        "text_input = Input(shape=(768,), name='text_bert')\n",
        "shared_dense = Dense(768, activation='relu')\n",
        "title_output = shared_dense(title_input)\n",
        "text_output = shared_dense(text_input)\n",
        "concatenated = Concatenate(axis=1, name='concatenated')([title_output, text_output])\n",
        "dropped_out = Dropout(0.5)(concatenated)\n",
        "output = Dense(1, activation='sigmoid', name='output')(dropped_out)\n",
        "model = Model(inputs=[title_input, text_input], outputs=output)"
      ],
      "metadata": {
        "id": "CqBru06Y0_uP"
      },
      "execution_count": null,
      "outputs": []
    },
    {
      "cell_type": "code",
      "source": [
        "model.compile(optimizer='adam', loss='binary_crossentropy', metrics=['accuracy'])"
      ],
      "metadata": {
        "id": "wPKDeuqm0_uP"
      },
      "execution_count": null,
      "outputs": []
    },
    {
      "cell_type": "code",
      "source": [
        "model.fit(x=[tf.squeeze(train_embeddings), tf.squeeze(train_embeddings1)],\n",
        "          y=train_labels,\n",
        "          epochs=9,\n",
        "          batch_size=16)"
      ],
      "metadata": {
        "colab": {
          "base_uri": "https://localhost:8080/"
        },
        "outputId": "bd702999-9a5b-4683-ea7c-bc5de3f90da5",
        "id": "5rPoZA3G0_uP"
      },
      "execution_count": null,
      "outputs": [
        {
          "output_type": "stream",
          "name": "stdout",
          "text": [
            "Epoch 1/9\n",
            "5369/5369 [==============================] - 27s 4ms/step - loss: 0.3918 - accuracy: 0.8244\n",
            "Epoch 2/9\n",
            "5369/5369 [==============================] - 20s 4ms/step - loss: 0.3532 - accuracy: 0.8399\n",
            "Epoch 3/9\n",
            "5369/5369 [==============================] - 20s 4ms/step - loss: 0.3390 - accuracy: 0.8461\n",
            "Epoch 4/9\n",
            "5369/5369 [==============================] - 21s 4ms/step - loss: 0.3289 - accuracy: 0.8494\n",
            "Epoch 5/9\n",
            "5369/5369 [==============================] - 20s 4ms/step - loss: 0.3240 - accuracy: 0.8519\n",
            "Epoch 6/9\n",
            "5369/5369 [==============================] - 25s 5ms/step - loss: 0.3189 - accuracy: 0.8548\n",
            "Epoch 7/9\n",
            "5369/5369 [==============================] - 20s 4ms/step - loss: 0.3140 - accuracy: 0.8571\n",
            "Epoch 8/9\n",
            "5369/5369 [==============================] - 20s 4ms/step - loss: 0.3092 - accuracy: 0.8601\n",
            "Epoch 9/9\n",
            "5369/5369 [==============================] - 21s 4ms/step - loss: 0.3064 - accuracy: 0.8605\n"
          ]
        },
        {
          "output_type": "execute_result",
          "data": {
            "text/plain": [
              "<keras.callbacks.History at 0x7f201ef2ef80>"
            ]
          },
          "metadata": {},
          "execution_count": 33
        }
      ]
    },
    {
      "cell_type": "code",
      "source": [
        "test_loss, test_acc = model.evaluate([tf.squeeze(test_embeddings),tf.squeeze(test_embeddings1)], test_labels, verbose=2)\n",
        "\n",
        "y_pred = model.predict([tf.squeeze(test_embeddings),tf.squeeze(test_embeddings1)])\n",
        "y_pred = (y_pred > 0.5).astype('int32')\n",
        "\n",
        "f1 = f1_score(test_labels, y_pred)\n",
        "recall = recall_score(test_labels, y_pred)\n",
        "precision = precision_score(test_labels, y_pred)\n",
        "\n",
        "print(\"Test Accuracy:\", test_acc)\n",
        "print(\"Test F1 Score:\", f1)\n",
        "print(\"Test Recall:\", recall)\n",
        "print(\"Precision:\", precision)"
      ],
      "metadata": {
        "colab": {
          "base_uri": "https://localhost:8080/"
        },
        "outputId": "dbc1af54-b5a9-422b-881a-d18a83113896",
        "id": "g9FwfeFf0_uQ"
      },
      "execution_count": null,
      "outputs": [
        {
          "output_type": "stream",
          "name": "stdout",
          "text": [
            "1075/1075 - 2s - loss: 0.5736 - accuracy: 0.7500 - 2s/epoch - 2ms/step\n",
            "1075/1075 [==============================] - 2s 2ms/step\n",
            "Test Accuracy: 0.7500072717666626\n",
            "Test F1 Score: 0.5609681372549019\n",
            "Test Recall: 0.5117860803130532\n",
            "Precision: 0.6206078409219298\n"
          ]
        }
      ]
    },
    {
      "cell_type": "code",
      "source": [
        "model.summary()"
      ],
      "metadata": {
        "colab": {
          "base_uri": "https://localhost:8080/"
        },
        "outputId": "5d94724a-ae8d-4b5c-bcdc-119545e30178",
        "id": "BRshLCuW0_uQ"
      },
      "execution_count": null,
      "outputs": [
        {
          "output_type": "stream",
          "name": "stdout",
          "text": [
            "Model: \"model\"\n",
            "__________________________________________________________________________________________________\n",
            " Layer (type)                   Output Shape         Param #     Connected to                     \n",
            "==================================================================================================\n",
            " title_bert (InputLayer)        [(None, 768)]        0           []                               \n",
            "                                                                                                  \n",
            " text_bert (InputLayer)         [(None, 768)]        0           []                               \n",
            "                                                                                                  \n",
            " dense (Dense)                  (None, 768)          590592      ['title_bert[0][0]',             \n",
            "                                                                  'text_bert[0][0]']              \n",
            "                                                                                                  \n",
            " concatenated (Concatenate)     (None, 1536)         0           ['dense[0][0]',                  \n",
            "                                                                  'dense[1][0]']                  \n",
            "                                                                                                  \n",
            " dropout (Dropout)              (None, 1536)         0           ['concatenated[0][0]']           \n",
            "                                                                                                  \n",
            " output (Dense)                 (None, 1)            1537        ['dropout[0][0]']                \n",
            "                                                                                                  \n",
            "==================================================================================================\n",
            "Total params: 592,129\n",
            "Trainable params: 592,129\n",
            "Non-trainable params: 0\n",
            "__________________________________________________________________________________________________\n"
          ]
        }
      ]
    },
    {
      "cell_type": "code",
      "source": [
        "y_pred = model.predict([tf.squeeze(test_embeddings),tf.squeeze(test_embeddings1)])\n",
        "y_pred = (y_pred > 0.5).astype(int)\n",
        "cm = confusion_matrix(test_labels, y_pred)\n",
        "print(cm)\n",
        "sns.heatmap(cm, annot=True, cmap='Blues', fmt='g')\n",
        "plt.xlabel('Predicted label')\n",
        "plt.ylabel('True label')\n",
        "plt.show()"
      ],
      "metadata": {
        "colab": {
          "base_uri": "https://localhost:8080/",
          "height": 510
        },
        "outputId": "c8642eb0-0376-4d19-b644-5bd71e253faf",
        "id": "6DbD8YNC0_uQ"
      },
      "execution_count": null,
      "outputs": [
        {
          "output_type": "stream",
          "name": "stdout",
          "text": [
            "1075/1075 [==============================] - 2s 2ms/step\n",
            "[[20302  3358]\n",
            " [ 5240  5493]]\n"
          ]
        },
        {
          "output_type": "display_data",
          "data": {
            "text/plain": [
              "<Figure size 640x480 with 2 Axes>"
            ],
            "image/png": "[encoded data removed]"
          },
          "metadata": {}
        }
      ]
    }
  ]
}