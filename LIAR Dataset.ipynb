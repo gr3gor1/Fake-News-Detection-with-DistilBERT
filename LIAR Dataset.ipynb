{
  "nbformat": 4,
  "nbformat_minor": 0,
  "metadata": {
    "colab": {
      "provenance": [],
      "gpuType": "T4",
      "toc_visible": true
    },
    "kernelspec": {
      "name": "python3",
      "display_name": "Python 3"
    },
    "language_info": {
      "name": "python"
    },
    "accelerator": "GPU",
    "gpuClass": "standard",
    "widgets": {
      "application/vnd.jupyter.widget-state+json": {
        "b7e930ed61524397a85d525a7e2de0d1": {
          "model_module": "@jupyter-widgets/controls",
          "model_name": "HBoxModel",
          "model_module_version": "1.5.0",
          "state": {
            "_dom_classes": [],
            "_model_module": "@jupyter-widgets/controls",
            "_model_module_version": "1.5.0",
            "_model_name": "HBoxModel",
            "_view_count": null,
            "_view_module": "@jupyter-widgets/controls",
            "_view_module_version": "1.5.0",
            "_view_name": "HBoxView",
            "box_style": "",
            "children": [
              "IPY_MODEL_7b8f714f2fa84bc8806fe32e8ccd72b4",
              "IPY_MODEL_25518e45bf60486788eaf8504d5f3162",
              "IPY_MODEL_074d1ff0dc78470d8142c39b3e100e22"
            ],
            "layout": "IPY_MODEL_6c639b022a8d4a3ca1c7b12adaa6d89f"
          }
        },
        "7b8f714f2fa84bc8806fe32e8ccd72b4": {
          "model_module": "@jupyter-widgets/controls",
          "model_name": "HTMLModel",
          "model_module_version": "1.5.0",
          "state": {
            "_dom_classes": [],
            "_model_module": "@jupyter-widgets/controls",
            "_model_module_version": "1.5.0",
            "_model_name": "HTMLModel",
            "_view_count": null,
            "_view_module": "@jupyter-widgets/controls",
            "_view_module_version": "1.5.0",
            "_view_name": "HTMLView",
            "description": "",
            "description_tooltip": null,
            "layout": "IPY_MODEL_c15157fb2628428b9ee9c915c9763a12",
            "placeholder": "​",
            "style": "IPY_MODEL_59072f1eebde4ab1adff984b2add5304",
            "value": "Downloading (…)solve/main/vocab.txt: 100%"
          }
        },
        "25518e45bf60486788eaf8504d5f3162": {
          "model_module": "@jupyter-widgets/controls",
          "model_name": "FloatProgressModel",
          "model_module_version": "1.5.0",
          "state": {
            "_dom_classes": [],
            "_model_module": "@jupyter-widgets/controls",
            "_model_module_version": "1.5.0",
            "_model_name": "FloatProgressModel",
            "_view_count": null,
            "_view_module": "@jupyter-widgets/controls",
            "_view_module_version": "1.5.0",
            "_view_name": "ProgressView",
            "bar_style": "success",
            "description": "",
            "description_tooltip": null,
            "layout": "IPY_MODEL_13aabe432c0d442fba4e96a50d4ad024",
            "max": 231508,
            "min": 0,
            "orientation": "horizontal",
            "style": "IPY_MODEL_e49ab75d3c484bcbb0afbfed779c53fb",
            "value": 231508
          }
        },
        "074d1ff0dc78470d8142c39b3e100e22": {
          "model_module": "@jupyter-widgets/controls",
          "model_name": "HTMLModel",
          "model_module_version": "1.5.0",
          "state": {
            "_dom_classes": [],
            "_model_module": "@jupyter-widgets/controls",
            "_model_module_version": "1.5.0",
            "_model_name": "HTMLModel",
            "_view_count": null,
            "_view_module": "@jupyter-widgets/controls",
            "_view_module_version": "1.5.0",
            "_view_name": "HTMLView",
            "description": "",
            "description_tooltip": null,
            "layout": "IPY_MODEL_e2939b648f1148fd8e4ee98ef11d2393",
            "placeholder": "​",
            "style": "IPY_MODEL_25f2473f84c44afda6c166cec8c3bc35",
            "value": " 232k/232k [00:00&lt;00:00, 1.58MB/s]"
          }
        },
        "6c639b022a8d4a3ca1c7b12adaa6d89f": {
          "model_module": "@jupyter-widgets/base",
          "model_name": "LayoutModel",
          "model_module_version": "1.2.0",
          "state": {
            "_model_module": "@jupyter-widgets/base",
            "_model_module_version": "1.2.0",
            "_model_name": "LayoutModel",
            "_view_count": null,
            "_view_module": "@jupyter-widgets/base",
            "_view_module_version": "1.2.0",
            "_view_name": "LayoutView",
            "align_content": null,
            "align_items": null,
            "align_self": null,
            "border": null,
            "bottom": null,
            "display": null,
            "flex": null,
            "flex_flow": null,
            "grid_area": null,
            "grid_auto_columns": null,
            "grid_auto_flow": null,
            "grid_auto_rows": null,
            "grid_column": null,
            "grid_gap": null,
            "grid_row": null,
            "grid_template_areas": null,
            "grid_template_columns": null,
            "grid_template_rows": null,
            "height": null,
            "justify_content": null,
            "justify_items": null,
            "left": null,
            "margin": null,
            "max_height": null,
            "max_width": null,
            "min_height": null,
            "min_width": null,
            "object_fit": null,
            "object_position": null,
            "order": null,
            "overflow": null,
            "overflow_x": null,
            "overflow_y": null,
            "padding": null,
            "right": null,
            "top": null,
            "visibility": null,
            "width": null
          }
        },
        "c15157fb2628428b9ee9c915c9763a12": {
          "model_module": "@jupyter-widgets/base",
          "model_name": "LayoutModel",
          "model_module_version": "1.2.0",
          "state": {
            "_model_module": "@jupyter-widgets/base",
            "_model_module_version": "1.2.0",
            "_model_name": "LayoutModel",
            "_view_count": null,
            "_view_module": "@jupyter-widgets/base",
            "_view_module_version": "1.2.0",
            "_view_name": "LayoutView",
            "align_content": null,
            "align_items": null,
            "align_self": null,
            "border": null,
            "bottom": null,
            "display": null,
            "flex": null,
            "flex_flow": null,
            "grid_area": null,
            "grid_auto_columns": null,
            "grid_auto_flow": null,
            "grid_auto_rows": null,
            "grid_column": null,
            "grid_gap": null,
            "grid_row": null,
            "grid_template_areas": null,
            "grid_template_columns": null,
            "grid_template_rows": null,
            "height": null,
            "justify_content": null,
            "justify_items": null,
            "left": null,
            "margin": null,
            "max_height": null,
            "max_width": null,
            "min_height": null,
            "min_width": null,
            "object_fit": null,
            "object_position": null,
            "order": null,
            "overflow": null,
            "overflow_x": null,
            "overflow_y": null,
            "padding": null,
            "right": null,
            "top": null,
            "visibility": null,
            "width": null
          }
        },
        "59072f1eebde4ab1adff984b2add5304": {
          "model_module": "@jupyter-widgets/controls",
          "model_name": "DescriptionStyleModel",
          "model_module_version": "1.5.0",
          "state": {
            "_model_module": "@jupyter-widgets/controls",
            "_model_module_version": "1.5.0",
            "_model_name": "DescriptionStyleModel",
            "_view_count": null,
            "_view_module": "@jupyter-widgets/base",
            "_view_module_version": "1.2.0",
            "_view_name": "StyleView",
            "description_width": ""
          }
        },
        "13aabe432c0d442fba4e96a50d4ad024": {
          "model_module": "@jupyter-widgets/base",
          "model_name": "LayoutModel",
          "model_module_version": "1.2.0",
          "state": {
            "_model_module": "@jupyter-widgets/base",
            "_model_module_version": "1.2.0",
            "_model_name": "LayoutModel",
            "_view_count": null,
            "_view_module": "@jupyter-widgets/base",
            "_view_module_version": "1.2.0",
            "_view_name": "LayoutView",
            "align_content": null,
            "align_items": null,
            "align_self": null,
            "border": null,
            "bottom": null,
            "display": null,
            "flex": null,
            "flex_flow": null,
            "grid_area": null,
            "grid_auto_columns": null,
            "grid_auto_flow": null,
            "grid_auto_rows": null,
            "grid_column": null,
            "grid_gap": null,
            "grid_row": null,
            "grid_template_areas": null,
            "grid_template_columns": null,
            "grid_template_rows": null,
            "height": null,
            "justify_content": null,
            "justify_items": null,
            "left": null,
            "margin": null,
            "max_height": null,
            "max_width": null,
            "min_height": null,
            "min_width": null,
            "object_fit": null,
            "object_position": null,
            "order": null,
            "overflow": null,
            "overflow_x": null,
            "overflow_y": null,
            "padding": null,
            "right": null,
            "top": null,
            "visibility": null,
            "width": null
          }
        },
        "e49ab75d3c484bcbb0afbfed779c53fb": {
          "model_module": "@jupyter-widgets/controls",
          "model_name": "ProgressStyleModel",
          "model_module_version": "1.5.0",
          "state": {
            "_model_module": "@jupyter-widgets/controls",
            "_model_module_version": "1.5.0",
            "_model_name": "ProgressStyleModel",
            "_view_count": null,
            "_view_module": "@jupyter-widgets/base",
            "_view_module_version": "1.2.0",
            "_view_name": "StyleView",
            "bar_color": null,
            "description_width": ""
          }
        },
        "e2939b648f1148fd8e4ee98ef11d2393": {
          "model_module": "@jupyter-widgets/base",
          "model_name": "LayoutModel",
          "model_module_version": "1.2.0",
          "state": {
            "_model_module": "@jupyter-widgets/base",
            "_model_module_version": "1.2.0",
            "_model_name": "LayoutModel",
            "_view_count": null,
            "_view_module": "@jupyter-widgets/base",
            "_view_module_version": "1.2.0",
            "_view_name": "LayoutView",
            "align_content": null,
            "align_items": null,
            "align_self": null,
            "border": null,
            "bottom": null,
            "display": null,
            "flex": null,
            "flex_flow": null,
            "grid_area": null,
            "grid_auto_columns": null,
            "grid_auto_flow": null,
            "grid_auto_rows": null,
            "grid_column": null,
            "grid_gap": null,
            "grid_row": null,
            "grid_template_areas": null,
            "grid_template_columns": null,
            "grid_template_rows": null,
            "height": null,
            "justify_content": null,
            "justify_items": null,
            "left": null,
            "margin": null,
            "max_height": null,
            "max_width": null,
            "min_height": null,
            "min_width": null,
            "object_fit": null,
            "object_position": null,
            "order": null,
            "overflow": null,
            "overflow_x": null,
            "overflow_y": null,
            "padding": null,
            "right": null,
            "top": null,
            "visibility": null,
            "width": null
          }
        },
        "25f2473f84c44afda6c166cec8c3bc35": {
          "model_module": "@jupyter-widgets/controls",
          "model_name": "DescriptionStyleModel",
          "model_module_version": "1.5.0",
          "state": {
            "_model_module": "@jupyter-widgets/controls",
            "_model_module_version": "1.5.0",
            "_model_name": "DescriptionStyleModel",
            "_view_count": null,
            "_view_module": "@jupyter-widgets/base",
            "_view_module_version": "1.2.0",
            "_view_name": "StyleView",
            "description_width": ""
          }
        },
        "a7b993f6d8d942589274ddbaf6ca949e": {
          "model_module": "@jupyter-widgets/controls",
          "model_name": "HBoxModel",
          "model_module_version": "1.5.0",
          "state": {
            "_dom_classes": [],
            "_model_module": "@jupyter-widgets/controls",
            "_model_module_version": "1.5.0",
            "_model_name": "HBoxModel",
            "_view_count": null,
            "_view_module": "@jupyter-widgets/controls",
            "_view_module_version": "1.5.0",
            "_view_name": "HBoxView",
            "box_style": "",
            "children": [
              "IPY_MODEL_08cda85fc1ce4854a81c6fd69046f251",
              "IPY_MODEL_7d6b78801b754d9c804ee82debd05f23",
              "IPY_MODEL_754088b37fa145b4afa5a2f159e9801f"
            ],
            "layout": "IPY_MODEL_1781a0ca90664b0cae468fee0d376fce"
          }
        },
        "08cda85fc1ce4854a81c6fd69046f251": {
          "model_module": "@jupyter-widgets/controls",
          "model_name": "HTMLModel",
          "model_module_version": "1.5.0",
          "state": {
            "_dom_classes": [],
            "_model_module": "@jupyter-widgets/controls",
            "_model_module_version": "1.5.0",
            "_model_name": "HTMLModel",
            "_view_count": null,
            "_view_module": "@jupyter-widgets/controls",
            "_view_module_version": "1.5.0",
            "_view_name": "HTMLView",
            "description": "",
            "description_tooltip": null,
            "layout": "IPY_MODEL_d89af018fedb4cb5a7e141ae71fa9440",
            "placeholder": "​",
            "style": "IPY_MODEL_f094bde287e04eadb590125685cd313c",
            "value": "Downloading (…)okenizer_config.json: 100%"
          }
        },
        "7d6b78801b754d9c804ee82debd05f23": {
          "model_module": "@jupyter-widgets/controls",
          "model_name": "FloatProgressModel",
          "model_module_version": "1.5.0",
          "state": {
            "_dom_classes": [],
            "_model_module": "@jupyter-widgets/controls",
            "_model_module_version": "1.5.0",
            "_model_name": "FloatProgressModel",
            "_view_count": null,
            "_view_module": "@jupyter-widgets/controls",
            "_view_module_version": "1.5.0",
            "_view_name": "ProgressView",
            "bar_style": "success",
            "description": "",
            "description_tooltip": null,
            "layout": "IPY_MODEL_2673f7a6c6a9483f82e1ff069c37b541",
            "max": 28,
            "min": 0,
            "orientation": "horizontal",
            "style": "IPY_MODEL_a7b9ab67694a42899a129bbfe797477c",
            "value": 28
          }
        },
        "754088b37fa145b4afa5a2f159e9801f": {
          "model_module": "@jupyter-widgets/controls",
          "model_name": "HTMLModel",
          "model_module_version": "1.5.0",
          "state": {
            "_dom_classes": [],
            "_model_module": "@jupyter-widgets/controls",
            "_model_module_version": "1.5.0",
            "_model_name": "HTMLModel",
            "_view_count": null,
            "_view_module": "@jupyter-widgets/controls",
            "_view_module_version": "1.5.0",
            "_view_name": "HTMLView",
            "description": "",
            "description_tooltip": null,
            "layout": "IPY_MODEL_e87b28fde2574f81abc74b7a22f276d4",
            "placeholder": "​",
            "style": "IPY_MODEL_46a8e0c1f61045039dbd1c6156d7c005",
            "value": " 28.0/28.0 [00:00&lt;00:00, 493B/s]"
          }
        },
        "1781a0ca90664b0cae468fee0d376fce": {
          "model_module": "@jupyter-widgets/base",
          "model_name": "LayoutModel",
          "model_module_version": "1.2.0",
          "state": {
            "_model_module": "@jupyter-widgets/base",
            "_model_module_version": "1.2.0",
            "_model_name": "LayoutModel",
            "_view_count": null,
            "_view_module": "@jupyter-widgets/base",
            "_view_module_version": "1.2.0",
            "_view_name": "LayoutView",
            "align_content": null,
            "align_items": null,
            "align_self": null,
            "border": null,
            "bottom": null,
            "display": null,
            "flex": null,
            "flex_flow": null,
            "grid_area": null,
            "grid_auto_columns": null,
            "grid_auto_flow": null,
            "grid_auto_rows": null,
            "grid_column": null,
            "grid_gap": null,
            "grid_row": null,
            "grid_template_areas": null,
            "grid_template_columns": null,
            "grid_template_rows": null,
            "height": null,
            "justify_content": null,
            "justify_items": null,
            "left": null,
            "margin": null,
            "max_height": null,
            "max_width": null,
            "min_height": null,
            "min_width": null,
            "object_fit": null,
            "object_position": null,
            "order": null,
            "overflow": null,
            "overflow_x": null,
            "overflow_y": null,
            "padding": null,
            "right": null,
            "top": null,
            "visibility": null,
            "width": null
          }
        },
        "d89af018fedb4cb5a7e141ae71fa9440": {
          "model_module": "@jupyter-widgets/base",
          "model_name": "LayoutModel",
          "model_module_version": "1.2.0",
          "state": {
            "_model_module": "@jupyter-widgets/base",
            "_model_module_version": "1.2.0",
            "_model_name": "LayoutModel",
            "_view_count": null,
            "_view_module": "@jupyter-widgets/base",
            "_view_module_version": "1.2.0",
            "_view_name": "LayoutView",
            "align_content": null,
            "align_items": null,
            "align_self": null,
            "border": null,
            "bottom": null,
            "display": null,
            "flex": null,
            "flex_flow": null,
            "grid_area": null,
            "grid_auto_columns": null,
            "grid_auto_flow": null,
            "grid_auto_rows": null,
            "grid_column": null,
            "grid_gap": null,
            "grid_row": null,
            "grid_template_areas": null,
            "grid_template_columns": null,
            "grid_template_rows": null,
            "height": null,
            "justify_content": null,
            "justify_items": null,
            "left": null,
            "margin": null,
            "max_height": null,
            "max_width": null,
            "min_height": null,
            "min_width": null,
            "object_fit": null,
            "object_position": null,
            "order": null,
            "overflow": null,
            "overflow_x": null,
            "overflow_y": null,
            "padding": null,
            "right": null,
            "top": null,
            "visibility": null,
            "width": null
          }
        },
        "f094bde287e04eadb590125685cd313c": {
          "model_module": "@jupyter-widgets/controls",
          "model_name": "DescriptionStyleModel",
          "model_module_version": "1.5.0",
          "state": {
            "_model_module": "@jupyter-widgets/controls",
            "_model_module_version": "1.5.0",
            "_model_name": "DescriptionStyleModel",
            "_view_count": null,
            "_view_module": "@jupyter-widgets/base",
            "_view_module_version": "1.2.0",
            "_view_name": "StyleView",
            "description_width": ""
          }
        },
        "2673f7a6c6a9483f82e1ff069c37b541": {
          "model_module": "@jupyter-widgets/base",
          "model_name": "LayoutModel",
          "model_module_version": "1.2.0",
          "state": {
            "_model_module": "@jupyter-widgets/base",
            "_model_module_version": "1.2.0",
            "_model_name": "LayoutModel",
            "_view_count": null,
            "_view_module": "@jupyter-widgets/base",
            "_view_module_version": "1.2.0",
            "_view_name": "LayoutView",
            "align_content": null,
            "align_items": null,
            "align_self": null,
            "border": null,
            "bottom": null,
            "display": null,
            "flex": null,
            "flex_flow": null,
            "grid_area": null,
            "grid_auto_columns": null,
            "grid_auto_flow": null,
            "grid_auto_rows": null,
            "grid_column": null,
            "grid_gap": null,
            "grid_row": null,
            "grid_template_areas": null,
            "grid_template_columns": null,
            "grid_template_rows": null,
            "height": null,
            "justify_content": null,
            "justify_items": null,
            "left": null,
            "margin": null,
            "max_height": null,
            "max_width": null,
            "min_height": null,
            "min_width": null,
            "object_fit": null,
            "object_position": null,
            "order": null,
            "overflow": null,
            "overflow_x": null,
            "overflow_y": null,
            "padding": null,
            "right": null,
            "top": null,
            "visibility": null,
            "width": null
          }
        },
        "a7b9ab67694a42899a129bbfe797477c": {
          "model_module": "@jupyter-widgets/controls",
          "model_name": "ProgressStyleModel",
          "model_module_version": "1.5.0",
          "state": {
            "_model_module": "@jupyter-widgets/controls",
            "_model_module_version": "1.5.0",
            "_model_name": "ProgressStyleModel",
            "_view_count": null,
            "_view_module": "@jupyter-widgets/base",
            "_view_module_version": "1.2.0",
            "_view_name": "StyleView",
            "bar_color": null,
            "description_width": ""
          }
        },
        "e87b28fde2574f81abc74b7a22f276d4": {
          "model_module": "@jupyter-widgets/base",
          "model_name": "LayoutModel",
          "model_module_version": "1.2.0",
          "state": {
            "_model_module": "@jupyter-widgets/base",
            "_model_module_version": "1.2.0",
            "_model_name": "LayoutModel",
            "_view_count": null,
            "_view_module": "@jupyter-widgets/base",
            "_view_module_version": "1.2.0",
            "_view_name": "LayoutView",
            "align_content": null,
            "align_items": null,
            "align_self": null,
            "border": null,
            "bottom": null,
            "display": null,
            "flex": null,
            "flex_flow": null,
            "grid_area": null,
            "grid_auto_columns": null,
            "grid_auto_flow": null,
            "grid_auto_rows": null,
            "grid_column": null,
            "grid_gap": null,
            "grid_row": null,
            "grid_template_areas": null,
            "grid_template_columns": null,
            "grid_template_rows": null,
            "height": null,
            "justify_content": null,
            "justify_items": null,
            "left": null,
            "margin": null,
            "max_height": null,
            "max_width": null,
            "min_height": null,
            "min_width": null,
            "object_fit": null,
            "object_position": null,
            "order": null,
            "overflow": null,
            "overflow_x": null,
            "overflow_y": null,
            "padding": null,
            "right": null,
            "top": null,
            "visibility": null,
            "width": null
          }
        },
        "46a8e0c1f61045039dbd1c6156d7c005": {
          "model_module": "@jupyter-widgets/controls",
          "model_name": "DescriptionStyleModel",
          "model_module_version": "1.5.0",
          "state": {
            "_model_module": "@jupyter-widgets/controls",
            "_model_module_version": "1.5.0",
            "_model_name": "DescriptionStyleModel",
            "_view_count": null,
            "_view_module": "@jupyter-widgets/base",
            "_view_module_version": "1.2.0",
            "_view_name": "StyleView",
            "description_width": ""
          }
        },
        "8c271d593021467b99c544906464b8ba": {
          "model_module": "@jupyter-widgets/controls",
          "model_name": "HBoxModel",
          "model_module_version": "1.5.0",
          "state": {
            "_dom_classes": [],
            "_model_module": "@jupyter-widgets/controls",
            "_model_module_version": "1.5.0",
            "_model_name": "HBoxModel",
            "_view_count": null,
            "_view_module": "@jupyter-widgets/controls",
            "_view_module_version": "1.5.0",
            "_view_name": "HBoxView",
            "box_style": "",
            "children": [
              "IPY_MODEL_f0000025a292449688a51a85328b4d01",
              "IPY_MODEL_0ddcbafab28b483fbe5d2242bc6e3851",
              "IPY_MODEL_c4c9c18c43c845dab71047c02de6ae9a"
            ],
            "layout": "IPY_MODEL_2b7d052c9e2642cd96a519f0d10d4eb2"
          }
        },
        "f0000025a292449688a51a85328b4d01": {
          "model_module": "@jupyter-widgets/controls",
          "model_name": "HTMLModel",
          "model_module_version": "1.5.0",
          "state": {
            "_dom_classes": [],
            "_model_module": "@jupyter-widgets/controls",
            "_model_module_version": "1.5.0",
            "_model_name": "HTMLModel",
            "_view_count": null,
            "_view_module": "@jupyter-widgets/controls",
            "_view_module_version": "1.5.0",
            "_view_name": "HTMLView",
            "description": "",
            "description_tooltip": null,
            "layout": "IPY_MODEL_dda49abf69c74f0eb4703a845bcb6c7a",
            "placeholder": "​",
            "style": "IPY_MODEL_c2b0cf91cea34aabbb74f162139208f8",
            "value": "Downloading (…)lve/main/config.json: 100%"
          }
        },
        "0ddcbafab28b483fbe5d2242bc6e3851": {
          "model_module": "@jupyter-widgets/controls",
          "model_name": "FloatProgressModel",
          "model_module_version": "1.5.0",
          "state": {
            "_dom_classes": [],
            "_model_module": "@jupyter-widgets/controls",
            "_model_module_version": "1.5.0",
            "_model_name": "FloatProgressModel",
            "_view_count": null,
            "_view_module": "@jupyter-widgets/controls",
            "_view_module_version": "1.5.0",
            "_view_name": "ProgressView",
            "bar_style": "success",
            "description": "",
            "description_tooltip": null,
            "layout": "IPY_MODEL_fd28a99e51d248dbb2a660c0d25ceda5",
            "max": 483,
            "min": 0,
            "orientation": "horizontal",
            "style": "IPY_MODEL_d6c3b61e0a684267bffe1ece44d58d24",
            "value": 483
          }
        },
        "c4c9c18c43c845dab71047c02de6ae9a": {
          "model_module": "@jupyter-widgets/controls",
          "model_name": "HTMLModel",
          "model_module_version": "1.5.0",
          "state": {
            "_dom_classes": [],
            "_model_module": "@jupyter-widgets/controls",
            "_model_module_version": "1.5.0",
            "_model_name": "HTMLModel",
            "_view_count": null,
            "_view_module": "@jupyter-widgets/controls",
            "_view_module_version": "1.5.0",
            "_view_name": "HTMLView",
            "description": "",
            "description_tooltip": null,
            "layout": "IPY_MODEL_10dfa2f4e4cb4a6d8b03866acb101777",
            "placeholder": "​",
            "style": "IPY_MODEL_ba3f61a1babe4aedb2a84c5c2120d67c",
            "value": " 483/483 [00:00&lt;00:00, 9.29kB/s]"
          }
        },
        "2b7d052c9e2642cd96a519f0d10d4eb2": {
          "model_module": "@jupyter-widgets/base",
          "model_name": "LayoutModel",
          "model_module_version": "1.2.0",
          "state": {
            "_model_module": "@jupyter-widgets/base",
            "_model_module_version": "1.2.0",
            "_model_name": "LayoutModel",
            "_view_count": null,
            "_view_module": "@jupyter-widgets/base",
            "_view_module_version": "1.2.0",
            "_view_name": "LayoutView",
            "align_content": null,
            "align_items": null,
            "align_self": null,
            "border": null,
            "bottom": null,
            "display": null,
            "flex": null,
            "flex_flow": null,
            "grid_area": null,
            "grid_auto_columns": null,
            "grid_auto_flow": null,
            "grid_auto_rows": null,
            "grid_column": null,
            "grid_gap": null,
            "grid_row": null,
            "grid_template_areas": null,
            "grid_template_columns": null,
            "grid_template_rows": null,
            "height": null,
            "justify_content": null,
            "justify_items": null,
            "left": null,
            "margin": null,
            "max_height": null,
            "max_width": null,
            "min_height": null,
            "min_width": null,
            "object_fit": null,
            "object_position": null,
            "order": null,
            "overflow": null,
            "overflow_x": null,
            "overflow_y": null,
            "padding": null,
            "right": null,
            "top": null,
            "visibility": null,
            "width": null
          }
        },
        "dda49abf69c74f0eb4703a845bcb6c7a": {
          "model_module": "@jupyter-widgets/base",
          "model_name": "LayoutModel",
          "model_module_version": "1.2.0",
          "state": {
            "_model_module": "@jupyter-widgets/base",
            "_model_module_version": "1.2.0",
            "_model_name": "LayoutModel",
            "_view_count": null,
            "_view_module": "@jupyter-widgets/base",
            "_view_module_version": "1.2.0",
            "_view_name": "LayoutView",
            "align_content": null,
            "align_items": null,
            "align_self": null,
            "border": null,
            "bottom": null,
            "display": null,
            "flex": null,
            "flex_flow": null,
            "grid_area": null,
            "grid_auto_columns": null,
            "grid_auto_flow": null,
            "grid_auto_rows": null,
            "grid_column": null,
            "grid_gap": null,
            "grid_row": null,
            "grid_template_areas": null,
            "grid_template_columns": null,
            "grid_template_rows": null,
            "height": null,
            "justify_content": null,
            "justify_items": null,
            "left": null,
            "margin": null,
            "max_height": null,
            "max_width": null,
            "min_height": null,
            "min_width": null,
            "object_fit": null,
            "object_position": null,
            "order": null,
            "overflow": null,
            "overflow_x": null,
            "overflow_y": null,
            "padding": null,
            "right": null,
            "top": null,
            "visibility": null,
            "width": null
          }
        },
        "c2b0cf91cea34aabbb74f162139208f8": {
          "model_module": "@jupyter-widgets/controls",
          "model_name": "DescriptionStyleModel",
          "model_module_version": "1.5.0",
          "state": {
            "_model_module": "@jupyter-widgets/controls",
            "_model_module_version": "1.5.0",
            "_model_name": "DescriptionStyleModel",
            "_view_count": null,
            "_view_module": "@jupyter-widgets/base",
            "_view_module_version": "1.2.0",
            "_view_name": "StyleView",
            "description_width": ""
          }
        },
        "fd28a99e51d248dbb2a660c0d25ceda5": {
          "model_module": "@jupyter-widgets/base",
          "model_name": "LayoutModel",
          "model_module_version": "1.2.0",
          "state": {
            "_model_module": "@jupyter-widgets/base",
            "_model_module_version": "1.2.0",
            "_model_name": "LayoutModel",
            "_view_count": null,
            "_view_module": "@jupyter-widgets/base",
            "_view_module_version": "1.2.0",
            "_view_name": "LayoutView",
            "align_content": null,
            "align_items": null,
            "align_self": null,
            "border": null,
            "bottom": null,
            "display": null,
            "flex": null,
            "flex_flow": null,
            "grid_area": null,
            "grid_auto_columns": null,
            "grid_auto_flow": null,
            "grid_auto_rows": null,
            "grid_column": null,
            "grid_gap": null,
            "grid_row": null,
            "grid_template_areas": null,
            "grid_template_columns": null,
            "grid_template_rows": null,
            "height": null,
            "justify_content": null,
            "justify_items": null,
            "left": null,
            "margin": null,
            "max_height": null,
            "max_width": null,
            "min_height": null,
            "min_width": null,
            "object_fit": null,
            "object_position": null,
            "order": null,
            "overflow": null,
            "overflow_x": null,
            "overflow_y": null,
            "padding": null,
            "right": null,
            "top": null,
            "visibility": null,
            "width": null
          }
        },
        "d6c3b61e0a684267bffe1ece44d58d24": {
          "model_module": "@jupyter-widgets/controls",
          "model_name": "ProgressStyleModel",
          "model_module_version": "1.5.0",
          "state": {
            "_model_module": "@jupyter-widgets/controls",
            "_model_module_version": "1.5.0",
            "_model_name": "ProgressStyleModel",
            "_view_count": null,
            "_view_module": "@jupyter-widgets/base",
            "_view_module_version": "1.2.0",
            "_view_name": "StyleView",
            "bar_color": null,
            "description_width": ""
          }
        },
        "10dfa2f4e4cb4a6d8b03866acb101777": {
          "model_module": "@jupyter-widgets/base",
          "model_name": "LayoutModel",
          "model_module_version": "1.2.0",
          "state": {
            "_model_module": "@jupyter-widgets/base",
            "_model_module_version": "1.2.0",
            "_model_name": "LayoutModel",
            "_view_count": null,
            "_view_module": "@jupyter-widgets/base",
            "_view_module_version": "1.2.0",
            "_view_name": "LayoutView",
            "align_content": null,
            "align_items": null,
            "align_self": null,
            "border": null,
            "bottom": null,
            "display": null,
            "flex": null,
            "flex_flow": null,
            "grid_area": null,
            "grid_auto_columns": null,
            "grid_auto_flow": null,
            "grid_auto_rows": null,
            "grid_column": null,
            "grid_gap": null,
            "grid_row": null,
            "grid_template_areas": null,
            "grid_template_columns": null,
            "grid_template_rows": null,
            "height": null,
            "justify_content": null,
            "justify_items": null,
            "left": null,
            "margin": null,
            "max_height": null,
            "max_width": null,
            "min_height": null,
            "min_width": null,
            "object_fit": null,
            "object_position": null,
            "order": null,
            "overflow": null,
            "overflow_x": null,
            "overflow_y": null,
            "padding": null,
            "right": null,
            "top": null,
            "visibility": null,
            "width": null
          }
        },
        "ba3f61a1babe4aedb2a84c5c2120d67c": {
          "model_module": "@jupyter-widgets/controls",
          "model_name": "DescriptionStyleModel",
          "model_module_version": "1.5.0",
          "state": {
            "_model_module": "@jupyter-widgets/controls",
            "_model_module_version": "1.5.0",
            "_model_name": "DescriptionStyleModel",
            "_view_count": null,
            "_view_module": "@jupyter-widgets/base",
            "_view_module_version": "1.2.0",
            "_view_name": "StyleView",
            "description_width": ""
          }
        },
        "abef5c98cc7141bb9b85626843527181": {
          "model_module": "@jupyter-widgets/controls",
          "model_name": "HBoxModel",
          "model_module_version": "1.5.0",
          "state": {
            "_dom_classes": [],
            "_model_module": "@jupyter-widgets/controls",
            "_model_module_version": "1.5.0",
            "_model_name": "HBoxModel",
            "_view_count": null,
            "_view_module": "@jupyter-widgets/controls",
            "_view_module_version": "1.5.0",
            "_view_name": "HBoxView",
            "box_style": "",
            "children": [
              "IPY_MODEL_ea465557693f4821aada0e065e836e40",
              "IPY_MODEL_cf209243de3743718942064aa6ad9899",
              "IPY_MODEL_2f335e8103ab40c3b61f4c721a0e71ac"
            ],
            "layout": "IPY_MODEL_3891f1a91d70466bad983c82f4f7f8ec"
          }
        },
        "ea465557693f4821aada0e065e836e40": {
          "model_module": "@jupyter-widgets/controls",
          "model_name": "HTMLModel",
          "model_module_version": "1.5.0",
          "state": {
            "_dom_classes": [],
            "_model_module": "@jupyter-widgets/controls",
            "_model_module_version": "1.5.0",
            "_model_name": "HTMLModel",
            "_view_count": null,
            "_view_module": "@jupyter-widgets/controls",
            "_view_module_version": "1.5.0",
            "_view_name": "HTMLView",
            "description": "",
            "description_tooltip": null,
            "layout": "IPY_MODEL_60c592a6d75f4d6fb383acba9ed1ca67",
            "placeholder": "​",
            "style": "IPY_MODEL_c30e9a15ffab4bbd843b0f5317959255",
            "value": "Downloading tf_model.h5: 100%"
          }
        },
        "cf209243de3743718942064aa6ad9899": {
          "model_module": "@jupyter-widgets/controls",
          "model_name": "FloatProgressModel",
          "model_module_version": "1.5.0",
          "state": {
            "_dom_classes": [],
            "_model_module": "@jupyter-widgets/controls",
            "_model_module_version": "1.5.0",
            "_model_name": "FloatProgressModel",
            "_view_count": null,
            "_view_module": "@jupyter-widgets/controls",
            "_view_module_version": "1.5.0",
            "_view_name": "ProgressView",
            "bar_style": "success",
            "description": "",
            "description_tooltip": null,
            "layout": "IPY_MODEL_c6344d5bd5704bc1a2ff55a567c0f8f4",
            "max": 363423424,
            "min": 0,
            "orientation": "horizontal",
            "style": "IPY_MODEL_9b472ef93a1344868b6716785bf6c21a",
            "value": 363423424
          }
        },
        "2f335e8103ab40c3b61f4c721a0e71ac": {
          "model_module": "@jupyter-widgets/controls",
          "model_name": "HTMLModel",
          "model_module_version": "1.5.0",
          "state": {
            "_dom_classes": [],
            "_model_module": "@jupyter-widgets/controls",
            "_model_module_version": "1.5.0",
            "_model_name": "HTMLModel",
            "_view_count": null,
            "_view_module": "@jupyter-widgets/controls",
            "_view_module_version": "1.5.0",
            "_view_name": "HTMLView",
            "description": "",
            "description_tooltip": null,
            "layout": "IPY_MODEL_b42bdf9ad2c24d53acdd1f9b60825f9a",
            "placeholder": "​",
            "style": "IPY_MODEL_2feef5b0b000404fa57c48ce129191c4",
            "value": " 363M/363M [00:03&lt;00:00, 129MB/s]"
          }
        },
        "3891f1a91d70466bad983c82f4f7f8ec": {
          "model_module": "@jupyter-widgets/base",
          "model_name": "LayoutModel",
          "model_module_version": "1.2.0",
          "state": {
            "_model_module": "@jupyter-widgets/base",
            "_model_module_version": "1.2.0",
            "_model_name": "LayoutModel",
            "_view_count": null,
            "_view_module": "@jupyter-widgets/base",
            "_view_module_version": "1.2.0",
            "_view_name": "LayoutView",
            "align_content": null,
            "align_items": null,
            "align_self": null,
            "border": null,
            "bottom": null,
            "display": null,
            "flex": null,
            "flex_flow": null,
            "grid_area": null,
            "grid_auto_columns": null,
            "grid_auto_flow": null,
            "grid_auto_rows": null,
            "grid_column": null,
            "grid_gap": null,
            "grid_row": null,
            "grid_template_areas": null,
            "grid_template_columns": null,
            "grid_template_rows": null,
            "height": null,
            "justify_content": null,
            "justify_items": null,
            "left": null,
            "margin": null,
            "max_height": null,
            "max_width": null,
            "min_height": null,
            "min_width": null,
            "object_fit": null,
            "object_position": null,
            "order": null,
            "overflow": null,
            "overflow_x": null,
            "overflow_y": null,
            "padding": null,
            "right": null,
            "top": null,
            "visibility": null,
            "width": null
          }
        },
        "60c592a6d75f4d6fb383acba9ed1ca67": {
          "model_module": "@jupyter-widgets/base",
          "model_name": "LayoutModel",
          "model_module_version": "1.2.0",
          "state": {
            "_model_module": "@jupyter-widgets/base",
            "_model_module_version": "1.2.0",
            "_model_name": "LayoutModel",
            "_view_count": null,
            "_view_module": "@jupyter-widgets/base",
            "_view_module_version": "1.2.0",
            "_view_name": "LayoutView",
            "align_content": null,
            "align_items": null,
            "align_self": null,
            "border": null,
            "bottom": null,
            "display": null,
            "flex": null,
            "flex_flow": null,
            "grid_area": null,
            "grid_auto_columns": null,
            "grid_auto_flow": null,
            "grid_auto_rows": null,
            "grid_column": null,
            "grid_gap": null,
            "grid_row": null,
            "grid_template_areas": null,
            "grid_template_columns": null,
            "grid_template_rows": null,
            "height": null,
            "justify_content": null,
            "justify_items": null,
            "left": null,
            "margin": null,
            "max_height": null,
            "max_width": null,
            "min_height": null,
            "min_width": null,
            "object_fit": null,
            "object_position": null,
            "order": null,
            "overflow": null,
            "overflow_x": null,
            "overflow_y": null,
            "padding": null,
            "right": null,
            "top": null,
            "visibility": null,
            "width": null
          }
        },
        "c30e9a15ffab4bbd843b0f5317959255": {
          "model_module": "@jupyter-widgets/controls",
          "model_name": "DescriptionStyleModel",
          "model_module_version": "1.5.0",
          "state": {
            "_model_module": "@jupyter-widgets/controls",
            "_model_module_version": "1.5.0",
            "_model_name": "DescriptionStyleModel",
            "_view_count": null,
            "_view_module": "@jupyter-widgets/base",
            "_view_module_version": "1.2.0",
            "_view_name": "StyleView",
            "description_width": ""
          }
        },
        "c6344d5bd5704bc1a2ff55a567c0f8f4": {
          "model_module": "@jupyter-widgets/base",
          "model_name": "LayoutModel",
          "model_module_version": "1.2.0",
          "state": {
            "_model_module": "@jupyter-widgets/base",
            "_model_module_version": "1.2.0",
            "_model_name": "LayoutModel",
            "_view_count": null,
            "_view_module": "@jupyter-widgets/base",
            "_view_module_version": "1.2.0",
            "_view_name": "LayoutView",
            "align_content": null,
            "align_items": null,
            "align_self": null,
            "border": null,
            "bottom": null,
            "display": null,
            "flex": null,
            "flex_flow": null,
            "grid_area": null,
            "grid_auto_columns": null,
            "grid_auto_flow": null,
            "grid_auto_rows": null,
            "grid_column": null,
            "grid_gap": null,
            "grid_row": null,
            "grid_template_areas": null,
            "grid_template_columns": null,
            "grid_template_rows": null,
            "height": null,
            "justify_content": null,
            "justify_items": null,
            "left": null,
            "margin": null,
            "max_height": null,
            "max_width": null,
            "min_height": null,
            "min_width": null,
            "object_fit": null,
            "object_position": null,
            "order": null,
            "overflow": null,
            "overflow_x": null,
            "overflow_y": null,
            "padding": null,
            "right": null,
            "top": null,
            "visibility": null,
            "width": null
          }
        },
        "9b472ef93a1344868b6716785bf6c21a": {
          "model_module": "@jupyter-widgets/controls",
          "model_name": "ProgressStyleModel",
          "model_module_version": "1.5.0",
          "state": {
            "_model_module": "@jupyter-widgets/controls",
            "_model_module_version": "1.5.0",
            "_model_name": "ProgressStyleModel",
            "_view_count": null,
            "_view_module": "@jupyter-widgets/base",
            "_view_module_version": "1.2.0",
            "_view_name": "StyleView",
            "bar_color": null,
            "description_width": ""
          }
        },
        "b42bdf9ad2c24d53acdd1f9b60825f9a": {
          "model_module": "@jupyter-widgets/base",
          "model_name": "LayoutModel",
          "model_module_version": "1.2.0",
          "state": {
            "_model_module": "@jupyter-widgets/base",
            "_model_module_version": "1.2.0",
            "_model_name": "LayoutModel",
            "_view_count": null,
            "_view_module": "@jupyter-widgets/base",
            "_view_module_version": "1.2.0",
            "_view_name": "LayoutView",
            "align_content": null,
            "align_items": null,
            "align_self": null,
            "border": null,
            "bottom": null,
            "display": null,
            "flex": null,
            "flex_flow": null,
            "grid_area": null,
            "grid_auto_columns": null,
            "grid_auto_flow": null,
            "grid_auto_rows": null,
            "grid_column": null,
            "grid_gap": null,
            "grid_row": null,
            "grid_template_areas": null,
            "grid_template_columns": null,
            "grid_template_rows": null,
            "height": null,
            "justify_content": null,
            "justify_items": null,
            "left": null,
            "margin": null,
            "max_height": null,
            "max_width": null,
            "min_height": null,
            "min_width": null,
            "object_fit": null,
            "object_position": null,
            "order": null,
            "overflow": null,
            "overflow_x": null,
            "overflow_y": null,
            "padding": null,
            "right": null,
            "top": null,
            "visibility": null,
            "width": null
          }
        },
        "2feef5b0b000404fa57c48ce129191c4": {
          "model_module": "@jupyter-widgets/controls",
          "model_name": "DescriptionStyleModel",
          "model_module_version": "1.5.0",
          "state": {
            "_model_module": "@jupyter-widgets/controls",
            "_model_module_version": "1.5.0",
            "_model_name": "DescriptionStyleModel",
            "_view_count": null,
            "_view_module": "@jupyter-widgets/base",
            "_view_module_version": "1.2.0",
            "_view_name": "StyleView",
            "description_width": ""
          }
        }
      }
    }
  },
  "cells": [
    {
      "cell_type": "markdown",
      "source": [
        "# LIAR DATASET"
      ],
      "metadata": {
        "id": "9M00bXNF1Uq4"
      }
    },
    {
      "cell_type": "code",
      "source": [
        "!pip install transformers"
      ],
      "metadata": {
        "colab": {
          "base_uri": "https://localhost:8080/"
        },
        "id": "DkVVrVc06zeo",
        "outputId": "99d7dbfe-54ae-4a16-b397-59a30a8085f7"
      },
      "execution_count": null,
      "outputs": [
        {
          "output_type": "stream",
          "name": "stdout",
          "text": [
            "Looking in indexes: https://pypi.org/simple, https://us-python.pkg.dev/colab-wheels/public/simple/\n",
            "Collecting transformers\n",
            "  Downloading transformers-4.29.0-py3-none-any.whl (7.1 MB)\n",
            "\u001b[2K     \u001b[90m━━━━━━━━━━━━━━━━━━━━━━━━━━━━━━━━━━━━━━━━\u001b[0m \u001b[32m7.1/7.1 MB\u001b[0m \u001b[31m14.9 MB/s\u001b[0m eta \u001b[36m0:00:00\u001b[0m\n",
            "\u001b[?25hRequirement already satisfied: filelock in /usr/local/lib/python3.10/dist-packages (from transformers) (3.12.0)\n",
            "Collecting huggingface-hub<1.0,>=0.11.0 (from transformers)\n",
            "  Downloading huggingface_hub-0.14.1-py3-none-any.whl (224 kB)\n",
            "\u001b[2K     \u001b[90m━━━━━━━━━━━━━━━━━━━━━━━━━━━━━━━━━━━━━━\u001b[0m \u001b[32m224.5/224.5 kB\u001b[0m \u001b[31m10.3 MB/s\u001b[0m eta \u001b[36m0:00:00\u001b[0m\n",
            "\u001b[?25hRequirement already satisfied: numpy>=1.17 in /usr/local/lib/python3.10/dist-packages (from transformers) (1.22.4)\n",
            "Requirement already satisfied: packaging>=20.0 in /usr/local/lib/python3.10/dist-packages (from transformers) (23.1)\n",
            "Requirement already satisfied: pyyaml>=5.1 in /usr/local/lib/python3.10/dist-packages (from transformers) (6.0)\n",
            "Requirement already satisfied: regex!=2019.12.17 in /usr/local/lib/python3.10/dist-packages (from transformers) (2022.10.31)\n",
            "Requirement already satisfied: requests in /usr/local/lib/python3.10/dist-packages (from transformers) (2.27.1)\n",
            "Collecting tokenizers!=0.11.3,<0.14,>=0.11.1 (from transformers)\n",
            "  Downloading tokenizers-0.13.3-cp310-cp310-manylinux_2_17_x86_64.manylinux2014_x86_64.whl (7.8 MB)\n",
            "\u001b[2K     \u001b[90m━━━━━━━━━━━━━━━━━━━━━━━━━━━━━━━━━━━━━━━━\u001b[0m \u001b[32m7.8/7.8 MB\u001b[0m \u001b[31m17.9 MB/s\u001b[0m eta \u001b[36m0:00:00\u001b[0m\n",
            "\u001b[?25hRequirement already satisfied: tqdm>=4.27 in /usr/local/lib/python3.10/dist-packages (from transformers) (4.65.0)\n",
            "Requirement already satisfied: fsspec in /usr/local/lib/python3.10/dist-packages (from huggingface-hub<1.0,>=0.11.0->transformers) (2023.4.0)\n",
            "Requirement already satisfied: typing-extensions>=3.7.4.3 in /usr/local/lib/python3.10/dist-packages (from huggingface-hub<1.0,>=0.11.0->transformers) (4.5.0)\n",
            "Requirement already satisfied: urllib3<1.27,>=1.21.1 in /usr/local/lib/python3.10/dist-packages (from requests->transformers) (1.26.15)\n",
            "Requirement already satisfied: certifi>=2017.4.17 in /usr/local/lib/python3.10/dist-packages (from requests->transformers) (2022.12.7)\n",
            "Requirement already satisfied: charset-normalizer~=2.0.0 in /usr/local/lib/python3.10/dist-packages (from requests->transformers) (2.0.12)\n",
            "Requirement already satisfied: idna<4,>=2.5 in /usr/local/lib/python3.10/dist-packages (from requests->transformers) (3.4)\n",
            "Installing collected packages: tokenizers, huggingface-hub, transformers\n",
            "Successfully installed huggingface-hub-0.14.1 tokenizers-0.13.3 transformers-4.29.0\n"
          ]
        }
      ]
    },
    {
      "cell_type": "code",
      "execution_count": null,
      "metadata": {
        "colab": {
          "base_uri": "https://localhost:8080/"
        },
        "id": "I4aS9lZdpC3R",
        "outputId": "86ffc781-cf5d-4aee-c5b1-0e6cdae7a218"
      },
      "outputs": [
        {
          "output_type": "stream",
          "name": "stdout",
          "text": [
            "Mounted at /content/drive\n"
          ]
        }
      ],
      "source": [
        "from google.colab import drive\n",
        "drive.mount('/content/drive')"
      ]
    },
    {
      "cell_type": "code",
      "execution_count": null,
      "metadata": {
        "id": "6aE0WVHzizOv"
      },
      "outputs": [],
      "source": [
        "import seaborn as sns\n",
        "from sklearn.metrics import accuracy_score, recall_score, f1_score\n",
        "from sklearn.metrics import precision_score\n",
        "import matplotlib.pyplot as plt\n",
        "from sklearn.metrics import confusion_matrix\n",
        "import pandas as pd\n",
        "import numpy as np\n",
        "from sklearn.preprocessing import LabelEncoder\n",
        "import transformers\n",
        "import tensorflow as tf\n",
        "from transformers import DistilBertTokenizer, TFDistilBertForSequenceClassification\n",
        "from sklearn.model_selection import train_test_split\n",
        "from tensorflow.keras.models import Sequential, Model\n",
        "from tensorflow.keras.layers import Conv1D, Conv2D,MaxPooling1D, MaxPooling2D, Flatten, Dense, Dropout, LSTM, BatchNormalization, Input, Concatenate, GlobalMaxPooling1D\n",
        "import requests\n",
        "from tensorflow.keras import activations, optimizers, losses\n",
        "from tensorflow.keras.callbacks import EarlyStopping\n",
        "from keras.utils import to_categorical"
      ]
    },
    {
      "cell_type": "markdown",
      "source": [
        "## Train data"
      ],
      "metadata": {
        "id": "IMdA1A5M1h4A"
      }
    },
    {
      "cell_type": "code",
      "execution_count": null,
      "metadata": {
        "id": "sYtCFcErmVEy"
      },
      "outputs": [],
      "source": [
        "path = '/content/drive/MyDrive/LIAR_DATASET/Train.csv'\n",
        "df_train = pd.read_csv(path,delimiter=',')"
      ]
    },
    {
      "cell_type": "code",
      "source": [
        "df_train.head()"
      ],
      "metadata": {
        "colab": {
          "base_uri": "https://localhost:8080/",
          "height": 206
        },
        "id": "jtrZGX6T0dT9",
        "outputId": "6f1a8fe4-5807-4587-eea9-e3b7ae3cf633"
      },
      "execution_count": null,
      "outputs": [
        {
          "output_type": "execute_result",
          "data": {
            "text/plain": [
              "         Label                                          Statement\n",
              "0        false  Says the Annies List political group supports ...\n",
              "1    half-true  When did the decline of coal start? It started...\n",
              "2  mostly-true  Hillary Clinton agrees with John McCain \"by vo...\n",
              "3        false  Health care reform legislation is likely to ma...\n",
              "4    half-true  The economic turnaround started at the end of ..."
            ],
            "text/html": [
              "\n",
              "  <div id=\"df-b7e4f38d-2071-4df7-ab0d-329af9bf4579\">\n",
              "    <div class=\"colab-df-container\">\n",
              "      <div>\n",
              "<style scoped>\n",
              "    .dataframe tbody tr th:only-of-type {\n",
              "        vertical-align: middle;\n",
              "    }\n",
              "\n",
              "    .dataframe tbody tr th {\n",
              "        vertical-align: top;\n",
              "    }\n",
              "\n",
              "    .dataframe thead th {\n",
              "        text-align: right;\n",
              "    }\n",
              "</style>\n",
              "<table border=\"1\" class=\"dataframe\">\n",
              "  <thead>\n",
              "    <tr style=\"text-align: right;\">\n",
              "      <th></th>\n",
              "      <th>Label</th>\n",
              "      <th>Statement</th>\n",
              "    </tr>\n",
              "  </thead>\n",
              "  <tbody>\n",
              "    <tr>\n",
              "      <th>0</th>\n",
              "      <td>false</td>\n",
              "      <td>Says the Annies List political group supports ...</td>\n",
              "    </tr>\n",
              "    <tr>\n",
              "      <th>1</th>\n",
              "      <td>half-true</td>\n",
              "      <td>When did the decline of coal start? It started...</td>\n",
              "    </tr>\n",
              "    <tr>\n",
              "      <th>2</th>\n",
              "      <td>mostly-true</td>\n",
              "      <td>Hillary Clinton agrees with John McCain \"by vo...</td>\n",
              "    </tr>\n",
              "    <tr>\n",
              "      <th>3</th>\n",
              "      <td>false</td>\n",
              "      <td>Health care reform legislation is likely to ma...</td>\n",
              "    </tr>\n",
              "    <tr>\n",
              "      <th>4</th>\n",
              "      <td>half-true</td>\n",
              "      <td>The economic turnaround started at the end of ...</td>\n",
              "    </tr>\n",
              "  </tbody>\n",
              "</table>\n",
              "</div>\n",
              "      <button class=\"colab-df-convert\" onclick=\"convertToInteractive('df-b7e4f38d-2071-4df7-ab0d-329af9bf4579')\"\n",
              "              title=\"Convert this dataframe to an interactive table.\"\n",
              "              style=\"display:none;\">\n",
              "        \n",
              "  <svg xmlns=\"http://www.w3.org/2000/svg\" height=\"24px\"viewBox=\"0 0 24 24\"\n",
              "       width=\"24px\">\n",
              "    <path d=\"M0 0h24v24H0V0z\" fill=\"none\"/>\n",
              "    <path d=\"M18.56 5.44l.94 2.06.94-2.06 2.06-.94-2.06-.94-.94-2.06-.94 2.06-2.06.94zm-11 1L8.5 8.5l.94-2.06 2.06-.94-2.06-.94L8.5 2.5l-.94 2.06-2.06.94zm10 10l.94 2.06.94-2.06 2.06-.94-2.06-.94-.94-2.06-.94 2.06-2.06.94z\"/><path d=\"M17.41 7.96l-1.37-1.37c-.4-.4-.92-.59-1.43-.59-.52 0-1.04.2-1.43.59L10.3 9.45l-7.72 7.72c-.78.78-.78 2.05 0 2.83L4 21.41c.39.39.9.59 1.41.59.51 0 1.02-.2 1.41-.59l7.78-7.78 2.81-2.81c.8-.78.8-2.07 0-2.86zM5.41 20L4 18.59l7.72-7.72 1.47 1.35L5.41 20z\"/>\n",
              "  </svg>\n",
              "      </button>\n",
              "      \n",
              "  <style>\n",
              "    .colab-df-container {\n",
              "      display:flex;\n",
              "      flex-wrap:wrap;\n",
              "      gap: 12px;\n",
              "    }\n",
              "\n",
              "    .colab-df-convert {\n",
              "      background-color: #E8F0FE;\n",
              "      border: none;\n",
              "      border-radius: 50%;\n",
              "      cursor: pointer;\n",
              "      display: none;\n",
              "      fill: #1967D2;\n",
              "      height: 32px;\n",
              "      padding: 0 0 0 0;\n",
              "      width: 32px;\n",
              "    }\n",
              "\n",
              "    .colab-df-convert:hover {\n",
              "      background-color: #E2EBFA;\n",
              "      box-shadow: 0px 1px 2px rgba(60, 64, 67, 0.3), 0px 1px 3px 1px rgba(60, 64, 67, 0.15);\n",
              "      fill: #174EA6;\n",
              "    }\n",
              "\n",
              "    [theme=dark] .colab-df-convert {\n",
              "      background-color: #3B4455;\n",
              "      fill: #D2E3FC;\n",
              "    }\n",
              "\n",
              "    [theme=dark] .colab-df-convert:hover {\n",
              "      background-color: #434B5C;\n",
              "      box-shadow: 0px 1px 3px 1px rgba(0, 0, 0, 0.15);\n",
              "      filter: drop-shadow(0px 1px 2px rgba(0, 0, 0, 0.3));\n",
              "      fill: #FFFFFF;\n",
              "    }\n",
              "  </style>\n",
              "\n",
              "      <script>\n",
              "        const buttonEl =\n",
              "          document.querySelector('#df-b7e4f38d-2071-4df7-ab0d-329af9bf4579 button.colab-df-convert');\n",
              "        buttonEl.style.display =\n",
              "          google.colab.kernel.accessAllowed ? 'block' : 'none';\n",
              "\n",
              "        async function convertToInteractive(key) {\n",
              "          const element = document.querySelector('#df-b7e4f38d-2071-4df7-ab0d-329af9bf4579');\n",
              "          const dataTable =\n",
              "            await google.colab.kernel.invokeFunction('convertToInteractive',\n",
              "                                                     [key], {});\n",
              "          if (!dataTable) return;\n",
              "\n",
              "          const docLinkHtml = 'Like what you see? Visit the ' +\n",
              "            '<a target=\"_blank\" href=https://colab.research.google.com/notebooks/data_table.ipynb>data table notebook</a>'\n",
              "            + ' to learn more about interactive tables.';\n",
              "          element.innerHTML = '';\n",
              "          dataTable['output_type'] = 'display_data';\n",
              "          await google.colab.output.renderOutput(dataTable, element);\n",
              "          const docLink = document.createElement('div');\n",
              "          docLink.innerHTML = docLinkHtml;\n",
              "          element.appendChild(docLink);\n",
              "        }\n",
              "      </script>\n",
              "    </div>\n",
              "  </div>\n",
              "  "
            ]
          },
          "metadata": {},
          "execution_count": 5
        }
      ]
    },
    {
      "cell_type": "code",
      "source": [
        "label_encoder = LabelEncoder()\n",
        "label = df_train['Label']\n",
        "labels_encoded = label_encoder.fit_transform(label)\n",
        "df_train['category'] = labels_encoded\n",
        "df_train['category'].unique()"
      ],
      "metadata": {
        "colab": {
          "base_uri": "https://localhost:8080/"
        },
        "id": "GlzhbDNO0s6g",
        "outputId": "48774bad-f51e-46f0-caa5-fbaefe91d8cc"
      },
      "execution_count": null,
      "outputs": [
        {
          "output_type": "execute_result",
          "data": {
            "text/plain": [
              "array([1, 2, 3, 5, 0, 4])"
            ]
          },
          "metadata": {},
          "execution_count": 6
        }
      ]
    },
    {
      "cell_type": "code",
      "source": [
        "df_train.head()"
      ],
      "metadata": {
        "colab": {
          "base_uri": "https://localhost:8080/",
          "height": 206
        },
        "id": "AP9oqycx7nvN",
        "outputId": "6dc03349-9831-4516-f435-d5c93fda7018"
      },
      "execution_count": null,
      "outputs": [
        {
          "output_type": "execute_result",
          "data": {
            "text/plain": [
              "         Label                                          Statement  category\n",
              "0        false  Says the Annies List political group supports ...         1\n",
              "1    half-true  When did the decline of coal start? It started...         2\n",
              "2  mostly-true  Hillary Clinton agrees with John McCain \"by vo...         3\n",
              "3        false  Health care reform legislation is likely to ma...         1\n",
              "4    half-true  The economic turnaround started at the end of ...         2"
            ],
            "text/html": [
              "\n",
              "  <div id=\"df-10463414-e500-410a-90ea-53a2b263bafd\">\n",
              "    <div class=\"colab-df-container\">\n",
              "      <div>\n",
              "<style scoped>\n",
              "    .dataframe tbody tr th:only-of-type {\n",
              "        vertical-align: middle;\n",
              "    }\n",
              "\n",
              "    .dataframe tbody tr th {\n",
              "        vertical-align: top;\n",
              "    }\n",
              "\n",
              "    .dataframe thead th {\n",
              "        text-align: right;\n",
              "    }\n",
              "</style>\n",
              "<table border=\"1\" class=\"dataframe\">\n",
              "  <thead>\n",
              "    <tr style=\"text-align: right;\">\n",
              "      <th></th>\n",
              "      <th>Label</th>\n",
              "      <th>Statement</th>\n",
              "      <th>category</th>\n",
              "    </tr>\n",
              "  </thead>\n",
              "  <tbody>\n",
              "    <tr>\n",
              "      <th>0</th>\n",
              "      <td>false</td>\n",
              "      <td>Says the Annies List political group supports ...</td>\n",
              "      <td>1</td>\n",
              "    </tr>\n",
              "    <tr>\n",
              "      <th>1</th>\n",
              "      <td>half-true</td>\n",
              "      <td>When did the decline of coal start? It started...</td>\n",
              "      <td>2</td>\n",
              "    </tr>\n",
              "    <tr>\n",
              "      <th>2</th>\n",
              "      <td>mostly-true</td>\n",
              "      <td>Hillary Clinton agrees with John McCain \"by vo...</td>\n",
              "      <td>3</td>\n",
              "    </tr>\n",
              "    <tr>\n",
              "      <th>3</th>\n",
              "      <td>false</td>\n",
              "      <td>Health care reform legislation is likely to ma...</td>\n",
              "      <td>1</td>\n",
              "    </tr>\n",
              "    <tr>\n",
              "      <th>4</th>\n",
              "      <td>half-true</td>\n",
              "      <td>The economic turnaround started at the end of ...</td>\n",
              "      <td>2</td>\n",
              "    </tr>\n",
              "  </tbody>\n",
              "</table>\n",
              "</div>\n",
              "      <button class=\"colab-df-convert\" onclick=\"convertToInteractive('df-10463414-e500-410a-90ea-53a2b263bafd')\"\n",
              "              title=\"Convert this dataframe to an interactive table.\"\n",
              "              style=\"display:none;\">\n",
              "        \n",
              "  <svg xmlns=\"http://www.w3.org/2000/svg\" height=\"24px\"viewBox=\"0 0 24 24\"\n",
              "       width=\"24px\">\n",
              "    <path d=\"M0 0h24v24H0V0z\" fill=\"none\"/>\n",
              "    <path d=\"M18.56 5.44l.94 2.06.94-2.06 2.06-.94-2.06-.94-.94-2.06-.94 2.06-2.06.94zm-11 1L8.5 8.5l.94-2.06 2.06-.94-2.06-.94L8.5 2.5l-.94 2.06-2.06.94zm10 10l.94 2.06.94-2.06 2.06-.94-2.06-.94-.94-2.06-.94 2.06-2.06.94z\"/><path d=\"M17.41 7.96l-1.37-1.37c-.4-.4-.92-.59-1.43-.59-.52 0-1.04.2-1.43.59L10.3 9.45l-7.72 7.72c-.78.78-.78 2.05 0 2.83L4 21.41c.39.39.9.59 1.41.59.51 0 1.02-.2 1.41-.59l7.78-7.78 2.81-2.81c.8-.78.8-2.07 0-2.86zM5.41 20L4 18.59l7.72-7.72 1.47 1.35L5.41 20z\"/>\n",
              "  </svg>\n",
              "      </button>\n",
              "      \n",
              "  <style>\n",
              "    .colab-df-container {\n",
              "      display:flex;\n",
              "      flex-wrap:wrap;\n",
              "      gap: 12px;\n",
              "    }\n",
              "\n",
              "    .colab-df-convert {\n",
              "      background-color: #E8F0FE;\n",
              "      border: none;\n",
              "      border-radius: 50%;\n",
              "      cursor: pointer;\n",
              "      display: none;\n",
              "      fill: #1967D2;\n",
              "      height: 32px;\n",
              "      padding: 0 0 0 0;\n",
              "      width: 32px;\n",
              "    }\n",
              "\n",
              "    .colab-df-convert:hover {\n",
              "      background-color: #E2EBFA;\n",
              "      box-shadow: 0px 1px 2px rgba(60, 64, 67, 0.3), 0px 1px 3px 1px rgba(60, 64, 67, 0.15);\n",
              "      fill: #174EA6;\n",
              "    }\n",
              "\n",
              "    [theme=dark] .colab-df-convert {\n",
              "      background-color: #3B4455;\n",
              "      fill: #D2E3FC;\n",
              "    }\n",
              "\n",
              "    [theme=dark] .colab-df-convert:hover {\n",
              "      background-color: #434B5C;\n",
              "      box-shadow: 0px 1px 3px 1px rgba(0, 0, 0, 0.15);\n",
              "      filter: drop-shadow(0px 1px 2px rgba(0, 0, 0, 0.3));\n",
              "      fill: #FFFFFF;\n",
              "    }\n",
              "  </style>\n",
              "\n",
              "      <script>\n",
              "        const buttonEl =\n",
              "          document.querySelector('#df-10463414-e500-410a-90ea-53a2b263bafd button.colab-df-convert');\n",
              "        buttonEl.style.display =\n",
              "          google.colab.kernel.accessAllowed ? 'block' : 'none';\n",
              "\n",
              "        async function convertToInteractive(key) {\n",
              "          const element = document.querySelector('#df-10463414-e500-410a-90ea-53a2b263bafd');\n",
              "          const dataTable =\n",
              "            await google.colab.kernel.invokeFunction('convertToInteractive',\n",
              "                                                     [key], {});\n",
              "          if (!dataTable) return;\n",
              "\n",
              "          const docLinkHtml = 'Like what you see? Visit the ' +\n",
              "            '<a target=\"_blank\" href=https://colab.research.google.com/notebooks/data_table.ipynb>data table notebook</a>'\n",
              "            + ' to learn more about interactive tables.';\n",
              "          element.innerHTML = '';\n",
              "          dataTable['output_type'] = 'display_data';\n",
              "          await google.colab.output.renderOutput(dataTable, element);\n",
              "          const docLink = document.createElement('div');\n",
              "          docLink.innerHTML = docLinkHtml;\n",
              "          element.appendChild(docLink);\n",
              "        }\n",
              "      </script>\n",
              "    </div>\n",
              "  </div>\n",
              "  "
            ]
          },
          "metadata": {},
          "execution_count": 7
        }
      ]
    },
    {
      "cell_type": "code",
      "source": [
        "df_train.isnull().sum()"
      ],
      "metadata": {
        "colab": {
          "base_uri": "https://localhost:8080/"
        },
        "id": "Pbpylajy4XAV",
        "outputId": "3af8add2-079f-4f4a-97b1-aed426c7e0ed"
      },
      "execution_count": null,
      "outputs": [
        {
          "output_type": "execute_result",
          "data": {
            "text/plain": [
              "Label        0\n",
              "Statement    0\n",
              "category     0\n",
              "dtype: int64"
            ]
          },
          "metadata": {},
          "execution_count": 8
        }
      ]
    },
    {
      "cell_type": "markdown",
      "source": [
        "## Test data"
      ],
      "metadata": {
        "id": "WOIioPTb1kL_"
      }
    },
    {
      "cell_type": "code",
      "execution_count": null,
      "metadata": {
        "id": "x6jziLXn2QPE"
      },
      "outputs": [],
      "source": [
        "path = '/content/drive/MyDrive/LIAR_DATASET/Test.csv'\n",
        "df_test = pd.read_csv(path,delimiter=',')"
      ]
    },
    {
      "cell_type": "code",
      "source": [
        "df_test.head()"
      ],
      "metadata": {
        "colab": {
          "base_uri": "https://localhost:8080/",
          "height": 206
        },
        "outputId": "1b0f79db-1c30-4edb-d580-73de5710368f",
        "id": "fZs6Y44N2QPE"
      },
      "execution_count": null,
      "outputs": [
        {
          "output_type": "execute_result",
          "data": {
            "text/plain": [
              "        Label                                          Statement\n",
              "0        true  Building a wall on the U.S.-Mexico border will...\n",
              "1       false  Wisconsin is on pace to double the number of l...\n",
              "2       false  Says John McCain has done nothing to help the ...\n",
              "3   half-true  Suzanne Bonamici supports a plan that will cut...\n",
              "4  pants-fire  When asked by a reporter whether hes at the ce..."
            ],
            "text/html": [
              "\n",
              "  <div id=\"df-810e9e6e-a44e-48be-b021-e56bf7e43381\">\n",
              "    <div class=\"colab-df-container\">\n",
              "      <div>\n",
              "<style scoped>\n",
              "    .dataframe tbody tr th:only-of-type {\n",
              "        vertical-align: middle;\n",
              "    }\n",
              "\n",
              "    .dataframe tbody tr th {\n",
              "        vertical-align: top;\n",
              "    }\n",
              "\n",
              "    .dataframe thead th {\n",
              "        text-align: right;\n",
              "    }\n",
              "</style>\n",
              "<table border=\"1\" class=\"dataframe\">\n",
              "  <thead>\n",
              "    <tr style=\"text-align: right;\">\n",
              "      <th></th>\n",
              "      <th>Label</th>\n",
              "      <th>Statement</th>\n",
              "    </tr>\n",
              "  </thead>\n",
              "  <tbody>\n",
              "    <tr>\n",
              "      <th>0</th>\n",
              "      <td>true</td>\n",
              "      <td>Building a wall on the U.S.-Mexico border will...</td>\n",
              "    </tr>\n",
              "    <tr>\n",
              "      <th>1</th>\n",
              "      <td>false</td>\n",
              "      <td>Wisconsin is on pace to double the number of l...</td>\n",
              "    </tr>\n",
              "    <tr>\n",
              "      <th>2</th>\n",
              "      <td>false</td>\n",
              "      <td>Says John McCain has done nothing to help the ...</td>\n",
              "    </tr>\n",
              "    <tr>\n",
              "      <th>3</th>\n",
              "      <td>half-true</td>\n",
              "      <td>Suzanne Bonamici supports a plan that will cut...</td>\n",
              "    </tr>\n",
              "    <tr>\n",
              "      <th>4</th>\n",
              "      <td>pants-fire</td>\n",
              "      <td>When asked by a reporter whether hes at the ce...</td>\n",
              "    </tr>\n",
              "  </tbody>\n",
              "</table>\n",
              "</div>\n",
              "      <button class=\"colab-df-convert\" onclick=\"convertToInteractive('df-810e9e6e-a44e-48be-b021-e56bf7e43381')\"\n",
              "              title=\"Convert this dataframe to an interactive table.\"\n",
              "              style=\"display:none;\">\n",
              "        \n",
              "  <svg xmlns=\"http://www.w3.org/2000/svg\" height=\"24px\"viewBox=\"0 0 24 24\"\n",
              "       width=\"24px\">\n",
              "    <path d=\"M0 0h24v24H0V0z\" fill=\"none\"/>\n",
              "    <path d=\"M18.56 5.44l.94 2.06.94-2.06 2.06-.94-2.06-.94-.94-2.06-.94 2.06-2.06.94zm-11 1L8.5 8.5l.94-2.06 2.06-.94-2.06-.94L8.5 2.5l-.94 2.06-2.06.94zm10 10l.94 2.06.94-2.06 2.06-.94-2.06-.94-.94-2.06-.94 2.06-2.06.94z\"/><path d=\"M17.41 7.96l-1.37-1.37c-.4-.4-.92-.59-1.43-.59-.52 0-1.04.2-1.43.59L10.3 9.45l-7.72 7.72c-.78.78-.78 2.05 0 2.83L4 21.41c.39.39.9.59 1.41.59.51 0 1.02-.2 1.41-.59l7.78-7.78 2.81-2.81c.8-.78.8-2.07 0-2.86zM5.41 20L4 18.59l7.72-7.72 1.47 1.35L5.41 20z\"/>\n",
              "  </svg>\n",
              "      </button>\n",
              "      \n",
              "  <style>\n",
              "    .colab-df-container {\n",
              "      display:flex;\n",
              "      flex-wrap:wrap;\n",
              "      gap: 12px;\n",
              "    }\n",
              "\n",
              "    .colab-df-convert {\n",
              "      background-color: #E8F0FE;\n",
              "      border: none;\n",
              "      border-radius: 50%;\n",
              "      cursor: pointer;\n",
              "      display: none;\n",
              "      fill: #1967D2;\n",
              "      height: 32px;\n",
              "      padding: 0 0 0 0;\n",
              "      width: 32px;\n",
              "    }\n",
              "\n",
              "    .colab-df-convert:hover {\n",
              "      background-color: #E2EBFA;\n",
              "      box-shadow: 0px 1px 2px rgba(60, 64, 67, 0.3), 0px 1px 3px 1px rgba(60, 64, 67, 0.15);\n",
              "      fill: #174EA6;\n",
              "    }\n",
              "\n",
              "    [theme=dark] .colab-df-convert {\n",
              "      background-color: #3B4455;\n",
              "      fill: #D2E3FC;\n",
              "    }\n",
              "\n",
              "    [theme=dark] .colab-df-convert:hover {\n",
              "      background-color: #434B5C;\n",
              "      box-shadow: 0px 1px 3px 1px rgba(0, 0, 0, 0.15);\n",
              "      filter: drop-shadow(0px 1px 2px rgba(0, 0, 0, 0.3));\n",
              "      fill: #FFFFFF;\n",
              "    }\n",
              "  </style>\n",
              "\n",
              "      <script>\n",
              "        const buttonEl =\n",
              "          document.querySelector('#df-810e9e6e-a44e-48be-b021-e56bf7e43381 button.colab-df-convert');\n",
              "        buttonEl.style.display =\n",
              "          google.colab.kernel.accessAllowed ? 'block' : 'none';\n",
              "\n",
              "        async function convertToInteractive(key) {\n",
              "          const element = document.querySelector('#df-810e9e6e-a44e-48be-b021-e56bf7e43381');\n",
              "          const dataTable =\n",
              "            await google.colab.kernel.invokeFunction('convertToInteractive',\n",
              "                                                     [key], {});\n",
              "          if (!dataTable) return;\n",
              "\n",
              "          const docLinkHtml = 'Like what you see? Visit the ' +\n",
              "            '<a target=\"_blank\" href=https://colab.research.google.com/notebooks/data_table.ipynb>data table notebook</a>'\n",
              "            + ' to learn more about interactive tables.';\n",
              "          element.innerHTML = '';\n",
              "          dataTable['output_type'] = 'display_data';\n",
              "          await google.colab.output.renderOutput(dataTable, element);\n",
              "          const docLink = document.createElement('div');\n",
              "          docLink.innerHTML = docLinkHtml;\n",
              "          element.appendChild(docLink);\n",
              "        }\n",
              "      </script>\n",
              "    </div>\n",
              "  </div>\n",
              "  "
            ]
          },
          "metadata": {},
          "execution_count": 10
        }
      ]
    },
    {
      "cell_type": "code",
      "source": [
        "label_encoder = LabelEncoder()\n",
        "label = df_test['Label']\n",
        "labels_encoded = label_encoder.fit_transform(label)\n",
        "df_test['category'] = labels_encoded\n",
        "df_test['category'].unique()"
      ],
      "metadata": {
        "colab": {
          "base_uri": "https://localhost:8080/"
        },
        "outputId": "a67139ba-a0e9-4aa3-f08c-e5b3cf004454",
        "id": "av9V-b8f2QPE"
      },
      "execution_count": null,
      "outputs": [
        {
          "output_type": "execute_result",
          "data": {
            "text/plain": [
              "array([5, 1, 2, 4, 0, 3])"
            ]
          },
          "metadata": {},
          "execution_count": 11
        }
      ]
    },
    {
      "cell_type": "code",
      "source": [
        "df_test.isnull().sum()"
      ],
      "metadata": {
        "colab": {
          "base_uri": "https://localhost:8080/"
        },
        "id": "tqXGdHR_4USJ",
        "outputId": "32115f22-0e44-4ff2-a119-a01a8af72094"
      },
      "execution_count": null,
      "outputs": [
        {
          "output_type": "execute_result",
          "data": {
            "text/plain": [
              "Label        0\n",
              "Statement    0\n",
              "category     0\n",
              "dtype: int64"
            ]
          },
          "metadata": {},
          "execution_count": 12
        }
      ]
    },
    {
      "cell_type": "markdown",
      "source": [
        "## Valid data"
      ],
      "metadata": {
        "id": "2uaeVUGQ1meR"
      }
    },
    {
      "cell_type": "code",
      "execution_count": null,
      "metadata": {
        "id": "D2HA3ocQ2cpH"
      },
      "outputs": [],
      "source": [
        "path = '/content/drive/MyDrive/LIAR_DATASET/Valid.csv'\n",
        "df_valid = pd.read_csv(path,delimiter=',')"
      ]
    },
    {
      "cell_type": "code",
      "source": [
        "df_valid.head()"
      ],
      "metadata": {
        "colab": {
          "base_uri": "https://localhost:8080/",
          "height": 206
        },
        "outputId": "6bb8b635-f7a8-471b-9b26-513d73cecd30",
        "id": "YQ9HxKJ02cpI"
      },
      "execution_count": null,
      "outputs": [
        {
          "output_type": "execute_result",
          "data": {
            "text/plain": [
              "         Label                                          Statement\n",
              "0  barely-true  We have less Americans working now than in the...\n",
              "1   pants-fire  When Obama was sworn into office, he DID NOT u...\n",
              "2        false  Says Having organizations parading as being so...\n",
              "3    half-true     Says nearly half of Oregons children are poor.\n",
              "4    half-true  On attacks by Republicans that various program..."
            ],
            "text/html": [
              "\n",
              "  <div id=\"df-ccb14784-3141-435c-8ba7-b627426c3af7\">\n",
              "    <div class=\"colab-df-container\">\n",
              "      <div>\n",
              "<style scoped>\n",
              "    .dataframe tbody tr th:only-of-type {\n",
              "        vertical-align: middle;\n",
              "    }\n",
              "\n",
              "    .dataframe tbody tr th {\n",
              "        vertical-align: top;\n",
              "    }\n",
              "\n",
              "    .dataframe thead th {\n",
              "        text-align: right;\n",
              "    }\n",
              "</style>\n",
              "<table border=\"1\" class=\"dataframe\">\n",
              "  <thead>\n",
              "    <tr style=\"text-align: right;\">\n",
              "      <th></th>\n",
              "      <th>Label</th>\n",
              "      <th>Statement</th>\n",
              "    </tr>\n",
              "  </thead>\n",
              "  <tbody>\n",
              "    <tr>\n",
              "      <th>0</th>\n",
              "      <td>barely-true</td>\n",
              "      <td>We have less Americans working now than in the...</td>\n",
              "    </tr>\n",
              "    <tr>\n",
              "      <th>1</th>\n",
              "      <td>pants-fire</td>\n",
              "      <td>When Obama was sworn into office, he DID NOT u...</td>\n",
              "    </tr>\n",
              "    <tr>\n",
              "      <th>2</th>\n",
              "      <td>false</td>\n",
              "      <td>Says Having organizations parading as being so...</td>\n",
              "    </tr>\n",
              "    <tr>\n",
              "      <th>3</th>\n",
              "      <td>half-true</td>\n",
              "      <td>Says nearly half of Oregons children are poor.</td>\n",
              "    </tr>\n",
              "    <tr>\n",
              "      <th>4</th>\n",
              "      <td>half-true</td>\n",
              "      <td>On attacks by Republicans that various program...</td>\n",
              "    </tr>\n",
              "  </tbody>\n",
              "</table>\n",
              "</div>\n",
              "      <button class=\"colab-df-convert\" onclick=\"convertToInteractive('df-ccb14784-3141-435c-8ba7-b627426c3af7')\"\n",
              "              title=\"Convert this dataframe to an interactive table.\"\n",
              "              style=\"display:none;\">\n",
              "        \n",
              "  <svg xmlns=\"http://www.w3.org/2000/svg\" height=\"24px\"viewBox=\"0 0 24 24\"\n",
              "       width=\"24px\">\n",
              "    <path d=\"M0 0h24v24H0V0z\" fill=\"none\"/>\n",
              "    <path d=\"M18.56 5.44l.94 2.06.94-2.06 2.06-.94-2.06-.94-.94-2.06-.94 2.06-2.06.94zm-11 1L8.5 8.5l.94-2.06 2.06-.94-2.06-.94L8.5 2.5l-.94 2.06-2.06.94zm10 10l.94 2.06.94-2.06 2.06-.94-2.06-.94-.94-2.06-.94 2.06-2.06.94z\"/><path d=\"M17.41 7.96l-1.37-1.37c-.4-.4-.92-.59-1.43-.59-.52 0-1.04.2-1.43.59L10.3 9.45l-7.72 7.72c-.78.78-.78 2.05 0 2.83L4 21.41c.39.39.9.59 1.41.59.51 0 1.02-.2 1.41-.59l7.78-7.78 2.81-2.81c.8-.78.8-2.07 0-2.86zM5.41 20L4 18.59l7.72-7.72 1.47 1.35L5.41 20z\"/>\n",
              "  </svg>\n",
              "      </button>\n",
              "      \n",
              "  <style>\n",
              "    .colab-df-container {\n",
              "      display:flex;\n",
              "      flex-wrap:wrap;\n",
              "      gap: 12px;\n",
              "    }\n",
              "\n",
              "    .colab-df-convert {\n",
              "      background-color: #E8F0FE;\n",
              "      border: none;\n",
              "      border-radius: 50%;\n",
              "      cursor: pointer;\n",
              "      display: none;\n",
              "      fill: #1967D2;\n",
              "      height: 32px;\n",
              "      padding: 0 0 0 0;\n",
              "      width: 32px;\n",
              "    }\n",
              "\n",
              "    .colab-df-convert:hover {\n",
              "      background-color: #E2EBFA;\n",
              "      box-shadow: 0px 1px 2px rgba(60, 64, 67, 0.3), 0px 1px 3px 1px rgba(60, 64, 67, 0.15);\n",
              "      fill: #174EA6;\n",
              "    }\n",
              "\n",
              "    [theme=dark] .colab-df-convert {\n",
              "      background-color: #3B4455;\n",
              "      fill: #D2E3FC;\n",
              "    }\n",
              "\n",
              "    [theme=dark] .colab-df-convert:hover {\n",
              "      background-color: #434B5C;\n",
              "      box-shadow: 0px 1px 3px 1px rgba(0, 0, 0, 0.15);\n",
              "      filter: drop-shadow(0px 1px 2px rgba(0, 0, 0, 0.3));\n",
              "      fill: #FFFFFF;\n",
              "    }\n",
              "  </style>\n",
              "\n",
              "      <script>\n",
              "        const buttonEl =\n",
              "          document.querySelector('#df-ccb14784-3141-435c-8ba7-b627426c3af7 button.colab-df-convert');\n",
              "        buttonEl.style.display =\n",
              "          google.colab.kernel.accessAllowed ? 'block' : 'none';\n",
              "\n",
              "        async function convertToInteractive(key) {\n",
              "          const element = document.querySelector('#df-ccb14784-3141-435c-8ba7-b627426c3af7');\n",
              "          const dataTable =\n",
              "            await google.colab.kernel.invokeFunction('convertToInteractive',\n",
              "                                                     [key], {});\n",
              "          if (!dataTable) return;\n",
              "\n",
              "          const docLinkHtml = 'Like what you see? Visit the ' +\n",
              "            '<a target=\"_blank\" href=https://colab.research.google.com/notebooks/data_table.ipynb>data table notebook</a>'\n",
              "            + ' to learn more about interactive tables.';\n",
              "          element.innerHTML = '';\n",
              "          dataTable['output_type'] = 'display_data';\n",
              "          await google.colab.output.renderOutput(dataTable, element);\n",
              "          const docLink = document.createElement('div');\n",
              "          docLink.innerHTML = docLinkHtml;\n",
              "          element.appendChild(docLink);\n",
              "        }\n",
              "      </script>\n",
              "    </div>\n",
              "  </div>\n",
              "  "
            ]
          },
          "metadata": {},
          "execution_count": 14
        }
      ]
    },
    {
      "cell_type": "code",
      "source": [
        "label_encoder = LabelEncoder()\n",
        "label = df_valid['Label']\n",
        "labels_encoded = label_encoder.fit_transform(label)\n",
        "df_valid['category'] = labels_encoded\n",
        "df_valid['category'].unique()"
      ],
      "metadata": {
        "colab": {
          "base_uri": "https://localhost:8080/"
        },
        "outputId": "ccb6d51b-7435-454f-8127-2d47a342f89d",
        "id": "alapLh7z2cpI"
      },
      "execution_count": null,
      "outputs": [
        {
          "output_type": "execute_result",
          "data": {
            "text/plain": [
              "array([0, 4, 1, 2, 5, 3])"
            ]
          },
          "metadata": {},
          "execution_count": 15
        }
      ]
    },
    {
      "cell_type": "code",
      "source": [
        "df_valid.isnull().sum()"
      ],
      "metadata": {
        "colab": {
          "base_uri": "https://localhost:8080/"
        },
        "id": "ZsgoY3NM4OJr",
        "outputId": "1863d2f2-77e1-483a-c0ac-39faf72ae50e"
      },
      "execution_count": null,
      "outputs": [
        {
          "output_type": "execute_result",
          "data": {
            "text/plain": [
              "Label        0\n",
              "Statement    0\n",
              "category     0\n",
              "dtype: int64"
            ]
          },
          "metadata": {},
          "execution_count": 16
        }
      ]
    },
    {
      "cell_type": "markdown",
      "source": [
        "# DistilBERT Embeddings"
      ],
      "metadata": {
        "id": "F92f3RGq1RJp"
      }
    },
    {
      "cell_type": "code",
      "source": [
        "tokenizer_distil = DistilBertTokenizer.from_pretrained('distilbert-base-uncased',padding=True, truncation=True, return_tensors='tf',add_special_tokens=True)\n",
        "model_distil = TFDistilBertForSequenceClassification.from_pretrained('distilbert-base-uncased',num_labels=6,output_hidden_states=True)\n",
        "\n",
        "for layer in model_distil.layers:\n",
        "    layer.trainable = True"
      ],
      "metadata": {
        "colab": {
          "base_uri": "https://localhost:8080/",
          "height": 232,
          "referenced_widgets": [
            "b7e930ed61524397a85d525a7e2de0d1",
            "7b8f714f2fa84bc8806fe32e8ccd72b4",
            "25518e45bf60486788eaf8504d5f3162",
            "074d1ff0dc78470d8142c39b3e100e22",
            "6c639b022a8d4a3ca1c7b12adaa6d89f",
            "c15157fb2628428b9ee9c915c9763a12",
            "59072f1eebde4ab1adff984b2add5304",
            "13aabe432c0d442fba4e96a50d4ad024",
            "e49ab75d3c484bcbb0afbfed779c53fb",
            "e2939b648f1148fd8e4ee98ef11d2393",
            "25f2473f84c44afda6c166cec8c3bc35",
            "a7b993f6d8d942589274ddbaf6ca949e",
            "08cda85fc1ce4854a81c6fd69046f251",
            "7d6b78801b754d9c804ee82debd05f23",
            "754088b37fa145b4afa5a2f159e9801f",
            "1781a0ca90664b0cae468fee0d376fce",
            "d89af018fedb4cb5a7e141ae71fa9440",
            "f094bde287e04eadb590125685cd313c",
            "2673f7a6c6a9483f82e1ff069c37b541",
            "a7b9ab67694a42899a129bbfe797477c",
            "e87b28fde2574f81abc74b7a22f276d4",
            "46a8e0c1f61045039dbd1c6156d7c005",
            "8c271d593021467b99c544906464b8ba",
            "f0000025a292449688a51a85328b4d01",
            "0ddcbafab28b483fbe5d2242bc6e3851",
            "c4c9c18c43c845dab71047c02de6ae9a",
            "2b7d052c9e2642cd96a519f0d10d4eb2",
            "dda49abf69c74f0eb4703a845bcb6c7a",
            "c2b0cf91cea34aabbb74f162139208f8",
            "fd28a99e51d248dbb2a660c0d25ceda5",
            "d6c3b61e0a684267bffe1ece44d58d24",
            "10dfa2f4e4cb4a6d8b03866acb101777",
            "ba3f61a1babe4aedb2a84c5c2120d67c",
            "abef5c98cc7141bb9b85626843527181",
            "ea465557693f4821aada0e065e836e40",
            "cf209243de3743718942064aa6ad9899",
            "2f335e8103ab40c3b61f4c721a0e71ac",
            "3891f1a91d70466bad983c82f4f7f8ec",
            "60c592a6d75f4d6fb383acba9ed1ca67",
            "c30e9a15ffab4bbd843b0f5317959255",
            "c6344d5bd5704bc1a2ff55a567c0f8f4",
            "9b472ef93a1344868b6716785bf6c21a",
            "b42bdf9ad2c24d53acdd1f9b60825f9a",
            "2feef5b0b000404fa57c48ce129191c4"
          ]
        },
        "id": "hP0PrY6x1b-d",
        "outputId": "5710a9c5-5211-4af0-dfc5-4df0a954484f"
      },
      "execution_count": null,
      "outputs": [
        {
          "output_type": "display_data",
          "data": {
            "text/plain": [
              "Downloading (…)solve/main/vocab.txt:   0%|          | 0.00/232k [00:00<?, ?B/s]"
            ],
            "application/vnd.jupyter.widget-view+json": {
              "version_major": 2,
              "version_minor": 0,
              "model_id": "b7e930ed61524397a85d525a7e2de0d1"
            }
          },
          "metadata": {}
        },
        {
          "output_type": "display_data",
          "data": {
            "text/plain": [
              "Downloading (…)okenizer_config.json:   0%|          | 0.00/28.0 [00:00<?, ?B/s]"
            ],
            "application/vnd.jupyter.widget-view+json": {
              "version_major": 2,
              "version_minor": 0,
              "model_id": "a7b993f6d8d942589274ddbaf6ca949e"
            }
          },
          "metadata": {}
        },
        {
          "output_type": "display_data",
          "data": {
            "text/plain": [
              "Downloading (…)lve/main/config.json:   0%|          | 0.00/483 [00:00<?, ?B/s]"
            ],
            "application/vnd.jupyter.widget-view+json": {
              "version_major": 2,
              "version_minor": 0,
              "model_id": "8c271d593021467b99c544906464b8ba"
            }
          },
          "metadata": {}
        },
        {
          "output_type": "display_data",
          "data": {
            "text/plain": [
              "Downloading tf_model.h5:   0%|          | 0.00/363M [00:00<?, ?B/s]"
            ],
            "application/vnd.jupyter.widget-view+json": {
              "version_major": 2,
              "version_minor": 0,
              "model_id": "abef5c98cc7141bb9b85626843527181"
            }
          },
          "metadata": {}
        },
        {
          "output_type": "stream",
          "name": "stderr",
          "text": [
            "Some layers from the model checkpoint at distilbert-base-uncased were not used when initializing TFDistilBertForSequenceClassification: ['vocab_layer_norm', 'activation_13', 'vocab_projector', 'vocab_transform']\n",
            "- This IS expected if you are initializing TFDistilBertForSequenceClassification from the checkpoint of a model trained on another task or with another architecture (e.g. initializing a BertForSequenceClassification model from a BertForPreTraining model).\n",
            "- This IS NOT expected if you are initializing TFDistilBertForSequenceClassification from the checkpoint of a model that you expect to be exactly identical (initializing a BertForSequenceClassification model from a BertForSequenceClassification model).\n",
            "Some layers of TFDistilBertForSequenceClassification were not initialized from the model checkpoint at distilbert-base-uncased and are newly initialized: ['pre_classifier', 'classifier', 'dropout_19']\n",
            "You should probably TRAIN this model on a down-stream task to be able to use it for predictions and inference.\n"
          ]
        }
      ]
    },
    {
      "cell_type": "code",
      "source": [
        "def get_embeddings(texts):\n",
        "    encoded = tokenizer_distil(\n",
        "      texts,\n",
        "      add_special_tokens=True,\n",
        "      padding=True,\n",
        "      truncation=True,\n",
        "      max_length=512,\n",
        "      return_tensors=\"tf\"\n",
        "    )\n",
        "    outputs = model_distil(encoded)\n",
        "    embeddings = outputs.hidden_states[-1]\n",
        "    avg_embeddings = tf.reduce_mean(embeddings, axis=1)\n",
        "    return avg_embeddings"
      ],
      "metadata": {
        "id": "QA7QPUjv6SOe"
      },
      "execution_count": null,
      "outputs": []
    },
    {
      "cell_type": "markdown",
      "source": [
        "## train"
      ],
      "metadata": {
        "id": "_krWQV7Y6-Z4"
      }
    },
    {
      "cell_type": "code",
      "source": [
        "from tqdm import tqdm\n",
        "\n",
        "#εφαρμόζουme τη συνάρτηση στη στήλη με τους τίτλους\n",
        "batch_size = 1\n",
        "titles = df_train['Statement'].tolist()\n",
        "embeddings = []\n",
        "\n",
        "for i in tqdm(range(0, len(titles), batch_size)):\n",
        "    batch_titles = titles[i:i+batch_size]\n",
        "  \n",
        "    batch_embeddings = get_embeddings(batch_titles)\n",
        "    \n",
        "    embeddings.append(batch_embeddings)"
      ],
      "metadata": {
        "colab": {
          "base_uri": "https://localhost:8080/"
        },
        "id": "QJfjkq9u6WmP",
        "outputId": "0d817205-7f5d-43ae-8961-b9bf159f3658"
      },
      "execution_count": null,
      "outputs": [
        {
          "output_type": "stream",
          "name": "stderr",
          "text": [
            "100%|██████████| 10269/10269 [18:45<00:00,  9.12it/s]\n"
          ]
        }
      ]
    },
    {
      "cell_type": "code",
      "source": [
        "embeddings = tf.concat(embeddings,axis=0)"
      ],
      "metadata": {
        "id": "6Xc2Tg1W6cY9"
      },
      "execution_count": null,
      "outputs": []
    },
    {
      "cell_type": "code",
      "source": [
        "labels = df_train['category'].to_numpy()"
      ],
      "metadata": {
        "id": "FIIutSn56g7b"
      },
      "execution_count": null,
      "outputs": []
    },
    {
      "cell_type": "code",
      "source": [
        "np.save('/content/drive/MyDrive/LIAR_DATASET/embeddings_train_distilbert.npy', np.array(embeddings))\n",
        "np.save('/content/drive/MyDrive/LIAR_DATASET/labels_train_distilbert.npy', labels)"
      ],
      "metadata": {
        "id": "YHa1p8y86woM"
      },
      "execution_count": null,
      "outputs": []
    },
    {
      "cell_type": "markdown",
      "source": [
        "## test"
      ],
      "metadata": {
        "id": "_TVcSoob7Art"
      }
    },
    {
      "cell_type": "code",
      "source": [
        "from tqdm import tqdm\n",
        "\n",
        "#εφαρμόζουme τη συνάρτηση στη στήλη με τους τίτλους\n",
        "batch_size = 1\n",
        "titles = df_test['Statement'].tolist()\n",
        "embeddings = []\n",
        "\n",
        "for i in tqdm(range(0, len(titles), batch_size)):\n",
        "    batch_titles = titles[i:i+batch_size]\n",
        "  \n",
        "    batch_embeddings = get_embeddings(batch_titles)\n",
        "    \n",
        "    embeddings.append(batch_embeddings)"
      ],
      "metadata": {
        "colab": {
          "base_uri": "https://localhost:8080/"
        },
        "outputId": "5ead545d-1769-4b49-e8e8-1ef9e6c67c71",
        "id": "fllvDnIT7Gdn"
      },
      "execution_count": null,
      "outputs": [
        {
          "output_type": "stream",
          "name": "stderr",
          "text": [
            "100%|██████████| 1283/1283 [02:21<00:00,  9.06it/s]\n"
          ]
        }
      ]
    },
    {
      "cell_type": "code",
      "source": [
        "embeddings = tf.concat(embeddings,axis=0)"
      ],
      "metadata": {
        "id": "kjB_A-8P7Gdp"
      },
      "execution_count": null,
      "outputs": []
    },
    {
      "cell_type": "code",
      "source": [
        "labels = df_test['category'].to_numpy()"
      ],
      "metadata": {
        "id": "TvXoT5YI7Gdq"
      },
      "execution_count": null,
      "outputs": []
    },
    {
      "cell_type": "code",
      "source": [
        "np.save('/content/drive/MyDrive/LIAR_DATASET/embeddings_test_distilbert.npy', np.array(embeddings))\n",
        "np.save('/content/drive/MyDrive/LIAR_DATASET/labels_test_distilbert.npy', labels)"
      ],
      "metadata": {
        "id": "HV-_JNVI7Gdr"
      },
      "execution_count": null,
      "outputs": []
    },
    {
      "cell_type": "markdown",
      "source": [
        "## valid"
      ],
      "metadata": {
        "id": "KpAANxHp7B8c"
      }
    },
    {
      "cell_type": "code",
      "source": [
        "from tqdm import tqdm\n",
        "\n",
        "#εφαρμόζουme τη συνάρτηση στη στήλη με τους τίτλους\n",
        "batch_size = 1\n",
        "titles = df_valid['Statement'].tolist()\n",
        "embeddings = []\n",
        "\n",
        "for i in tqdm(range(0, len(titles), batch_size)):\n",
        "    batch_titles = titles[i:i+batch_size]\n",
        "  \n",
        "    batch_embeddings = get_embeddings(batch_titles)\n",
        "    \n",
        "    embeddings.append(batch_embeddings)"
      ],
      "metadata": {
        "colab": {
          "base_uri": "https://localhost:8080/"
        },
        "outputId": "54759433-ba5a-4e45-a9be-baafd5e21d17",
        "id": "EHElIKtj7XxF"
      },
      "execution_count": null,
      "outputs": [
        {
          "output_type": "stream",
          "name": "stderr",
          "text": [
            "100%|██████████| 1284/1284 [02:23<00:00,  8.96it/s]\n"
          ]
        }
      ]
    },
    {
      "cell_type": "code",
      "source": [
        "embeddings = tf.concat(embeddings,axis=0)"
      ],
      "metadata": {
        "id": "IJs2r7fJ7XxY"
      },
      "execution_count": null,
      "outputs": []
    },
    {
      "cell_type": "code",
      "source": [
        "labels = df_valid['category'].to_numpy()"
      ],
      "metadata": {
        "id": "QxAPgCz-7XxY"
      },
      "execution_count": null,
      "outputs": []
    },
    {
      "cell_type": "code",
      "source": [
        "np.save('/content/drive/MyDrive/LIAR_DATASET/embeddings_valid_distilbert.npy', np.array(embeddings))\n",
        "np.save('/content/drive/MyDrive/LIAR_DATASET/labels_valid_distilbert.npy', labels)"
      ],
      "metadata": {
        "id": "MEe22GWJ7XxY"
      },
      "execution_count": null,
      "outputs": []
    },
    {
      "cell_type": "markdown",
      "source": [
        "# DistilBERT Train"
      ],
      "metadata": {
        "id": "LvV6Sq1VFCEY"
      }
    },
    {
      "cell_type": "code",
      "source": [
        "num_nan = df_train['Label'].isnull().sum()\n",
        "print(num_nan)"
      ],
      "metadata": {
        "colab": {
          "base_uri": "https://localhost:8080/"
        },
        "id": "OVw0rxXjF-qV",
        "outputId": "0f970013-cb2b-4506-b98d-3d35dcbdd33f"
      },
      "execution_count": null,
      "outputs": [
        {
          "output_type": "stream",
          "name": "stdout",
          "text": [
            "0\n"
          ]
        }
      ]
    },
    {
      "cell_type": "code",
      "source": [
        "df_train['Statement'] = df_train['Statement'].astype(str)\n",
        "df_test['Statement'] = df_test['Statement'].astype(str)\n",
        "df_valid['Statement'] = df_valid['Statement'].astype(str)"
      ],
      "metadata": {
        "id": "vDL08iYHEI4A"
      },
      "execution_count": null,
      "outputs": []
    },
    {
      "cell_type": "code",
      "source": [
        "train_encodings = tokenizer_distil(df_train['Statement'].tolist(), truncation = True, padding = True  )\n",
        "\n",
        "val_encodings = tokenizer_distil(df_valid['Statement'].tolist(), truncation = True, padding = True )\n",
        "\n",
        "test_encodings = tokenizer_distil(df_test['Statement'].tolist(), truncation = True, padding = True  )\n"
      ],
      "metadata": {
        "id": "zQftiIiDAPws"
      },
      "execution_count": null,
      "outputs": []
    },
    {
      "cell_type": "code",
      "source": [
        "train_dataset = tf.data.Dataset.from_tensor_slices((\n",
        "    dict(train_encodings),\n",
        "    df_train['category'].tolist()\n",
        "))\n",
        "\n",
        "\n",
        "val_dataset = tf.data.Dataset.from_tensor_slices((\n",
        "    dict(val_encodings),\n",
        "    df_valid['category'].tolist()\n",
        "))\n",
        "\n",
        "test_dataset = tf.data.Dataset.from_tensor_slices((\n",
        "    dict(test_encodings),\n",
        "    df_test['category'].tolist()\n",
        "))"
      ],
      "metadata": {
        "id": "ZCZceIzYAIRw"
      },
      "execution_count": null,
      "outputs": []
    },
    {
      "cell_type": "code",
      "source": [
        "train_dataset = train_dataset.batch(2)\n",
        "val_dataset = val_dataset.batch(2)\n",
        "test_dataset = test_dataset.batch(2)"
      ],
      "metadata": {
        "id": "TqaHYtWUCjW7"
      },
      "execution_count": null,
      "outputs": []
    },
    {
      "cell_type": "code",
      "source": [
        "optimizer = optimizers.Adam(learning_rate=3e-5)\n",
        "loss = losses.SparseCategoricalCrossentropy(from_logits=True)\n",
        "model_distil.compile(optimizer=optimizer, loss=loss, metrics=['accuracy'])\n",
        "model_distil.fit(train_dataset, batch_size=2, epochs=2,validation_data=val_dataset)"
      ],
      "metadata": {
        "colab": {
          "base_uri": "https://localhost:8080/"
        },
        "id": "VuFAhvjyBtSi",
        "outputId": "02742c5c-44a8-4e32-8240-b22db57d0105"
      },
      "execution_count": null,
      "outputs": [
        {
          "output_type": "stream",
          "name": "stdout",
          "text": [
            "Epoch 1/2\n",
            "5135/5135 [==============================] - 297s 52ms/step - loss: 1.7245 - accuracy: 0.2399 - val_loss: 1.6936 - val_accuracy: 0.2430\n",
            "Epoch 2/2\n",
            "5135/5135 [==============================] - 245s 48ms/step - loss: 1.6074 - accuracy: 0.3078 - val_loss: 1.7669 - val_accuracy: 0.2414\n"
          ]
        },
        {
          "output_type": "execute_result",
          "data": {
            "text/plain": [
              "<keras.callbacks.History at 0x7f9cfc106620>"
            ]
          },
          "metadata": {},
          "execution_count": 23
        }
      ]
    },
    {
      "cell_type": "code",
      "source": [
        "benchmarks = model_distil.evaluate(test_dataset, return_dict=True, batch_size=2)"
      ],
      "metadata": {
        "colab": {
          "base_uri": "https://localhost:8080/"
        },
        "id": "9oXouxIYHIJz",
        "outputId": "c5c5ada5-1c6d-4c7b-ed7c-28f0a48fb0ee"
      },
      "execution_count": null,
      "outputs": [
        {
          "output_type": "stream",
          "name": "stdout",
          "text": [
            "642/642 [==============================] - 15s 21ms/step - loss: 1.7193 - accuracy: 0.2783\n"
          ]
        }
      ]
    },
    {
      "cell_type": "markdown",
      "metadata": {
        "id": "dv1udd0FEoRB"
      },
      "source": [
        "# **Paper CNN-DistilBERT**"
      ]
    },
    {
      "cell_type": "code",
      "execution_count": null,
      "metadata": {
        "id": "A8Dob6ctiVYN"
      },
      "outputs": [],
      "source": [
        "#εισάγουμε τα δεδομένα από τ' αποθηκευμένα αρχεία που δημιουργήσαμε νωρίτερα\n",
        "train_embeddings = np.load('/content/drive/MyDrive/LIAR_DATASET/embeddings_train_distilbert.npy')\n",
        "train_labels = np.load('/content/drive/MyDrive/LIAR_DATASET/labels_train_distilbert.npy')"
      ]
    },
    {
      "cell_type": "code",
      "source": [
        "test_embeddings = np.load('/content/drive/MyDrive/LIAR_DATASET/embeddings_test_distilbert.npy')\n",
        "test_labels = np.load('/content/drive/MyDrive/LIAR_DATASET/labels_test_distilbert.npy')"
      ],
      "metadata": {
        "id": "Dt3IarxA_SFt"
      },
      "execution_count": null,
      "outputs": []
    },
    {
      "cell_type": "code",
      "source": [
        "valid_embeddings = np.load('/content/drive/MyDrive/LIAR_DATASET/embeddings_valid_distilbert.npy')\n",
        "valid_labels = np.load('/content/drive/MyDrive/LIAR_DATASET/labels_valid_distilbert.npy')"
      ],
      "metadata": {
        "id": "OfyKB--B_R6h"
      },
      "execution_count": null,
      "outputs": []
    },
    {
      "cell_type": "code",
      "source": [
        "train_embeddings = tf.expand_dims(train_embeddings, axis=-1)\n",
        "test_embeddings = tf.expand_dims(test_embeddings, axis=-1)\n",
        "valid_embeddings = tf.expand_dims(valid_embeddings, axis=-1)"
      ],
      "metadata": {
        "id": "EqQvqXUNUVm5"
      },
      "execution_count": null,
      "outputs": []
    },
    {
      "cell_type": "code",
      "source": [
        "train_embeddings.shape"
      ],
      "metadata": {
        "colab": {
          "base_uri": "https://localhost:8080/"
        },
        "id": "HhkPLWb1UeeT",
        "outputId": "f00cf3f3-1bda-4987-a1b3-fc73e0c3301f"
      },
      "execution_count": null,
      "outputs": [
        {
          "output_type": "execute_result",
          "data": {
            "text/plain": [
              "TensorShape([10269, 768, 1])"
            ]
          },
          "metadata": {},
          "execution_count": 76
        }
      ]
    },
    {
      "cell_type": "code",
      "source": [
        "test_embeddings.shape"
      ],
      "metadata": {
        "colab": {
          "base_uri": "https://localhost:8080/"
        },
        "id": "88oWM3VZ_2ry",
        "outputId": "6a5822ff-51cd-4b3b-ded1-72943e6da1cb"
      },
      "execution_count": null,
      "outputs": [
        {
          "output_type": "execute_result",
          "data": {
            "text/plain": [
              "TensorShape([1283, 768, 1])"
            ]
          },
          "metadata": {},
          "execution_count": 77
        }
      ]
    },
    {
      "cell_type": "code",
      "source": [
        "valid_embeddings.shape"
      ],
      "metadata": {
        "colab": {
          "base_uri": "https://localhost:8080/"
        },
        "id": "kYDHY38N_5uC",
        "outputId": "4bd940b3-3ef8-414e-b94b-678e1df48f88"
      },
      "execution_count": null,
      "outputs": [
        {
          "output_type": "execute_result",
          "data": {
            "text/plain": [
              "TensorShape([1284, 768, 1])"
            ]
          },
          "metadata": {},
          "execution_count": 78
        }
      ]
    },
    {
      "cell_type": "code",
      "source": [
        "from keras.utils import to_categorical\n",
        "\n",
        "train_labels = to_categorical(train_labels, num_classes=6)\n",
        "valid_labels = to_categorical(valid_labels, num_classes=6)"
      ],
      "metadata": {
        "id": "Skw4XRKGBJcS"
      },
      "execution_count": null,
      "outputs": []
    },
    {
      "cell_type": "code",
      "source": [
        "train_labels.shape"
      ],
      "metadata": {
        "colab": {
          "base_uri": "https://localhost:8080/"
        },
        "id": "c2lT1f5pEWyE",
        "outputId": "7f09c11f-fed1-4e3a-8148-fe44745f50d7"
      },
      "execution_count": null,
      "outputs": [
        {
          "output_type": "execute_result",
          "data": {
            "text/plain": [
              "(10269, 6)"
            ]
          },
          "metadata": {},
          "execution_count": 80
        }
      ]
    },
    {
      "cell_type": "code",
      "execution_count": null,
      "metadata": {
        "id": "E3-krXR1jj2e"
      },
      "outputs": [],
      "source": [
        "# build the model\n",
        "model = Sequential()\n",
        "model.add(Conv1D(filters=128, kernel_size=5, activation='relu', input_shape=(768,1)))\n",
        "model.add(MaxPooling1D(pool_size=5))\n",
        "model.add(Conv1D(128, 5, activation='relu'))\n",
        "model.add(MaxPooling1D(pool_size=5))\n",
        "model.add(Conv1D(128, 5, activation='relu'))\n",
        "model.add(Flatten())\n",
        "model.add(Dense(64, activation='relu'))\n",
        "model.add(Dropout(0.5))\n",
        "model.add(Dense(6, activation='softmax'))"
      ]
    },
    {
      "cell_type": "code",
      "execution_count": null,
      "metadata": {
        "id": "8GrSUQS0jlEj"
      },
      "outputs": [],
      "source": [
        "model.compile(loss='binary_crossentropy', optimizer='adam', metrics=['accuracy'])"
      ]
    },
    {
      "cell_type": "code",
      "source": [
        "history1 = model.fit(train_embeddings, train_labels, epochs=10, batch_size=16,validation_data=(valid_embeddings, valid_labels))"
      ],
      "metadata": {
        "id": "oEFGRIBzBirW",
        "colab": {
          "base_uri": "https://localhost:8080/"
        },
        "outputId": "96c488c9-9e25-4001-8793-d178b9a5cac9"
      },
      "execution_count": null,
      "outputs": [
        {
          "output_type": "stream",
          "name": "stdout",
          "text": [
            "Epoch 1/10\n",
            "642/642 [==============================] - 11s 15ms/step - loss: 0.3788 - accuracy: 0.4220 - val_loss: 0.4494 - val_accuracy: 0.2632\n",
            "Epoch 2/10\n",
            "642/642 [==============================] - 7s 10ms/step - loss: 0.3736 - accuracy: 0.4374 - val_loss: 0.4527 - val_accuracy: 0.2679\n",
            "Epoch 3/10\n",
            "642/642 [==============================] - 9s 14ms/step - loss: 0.3723 - accuracy: 0.4330 - val_loss: 0.4524 - val_accuracy: 0.2664\n",
            "Epoch 4/10\n",
            "642/642 [==============================] - 5s 9ms/step - loss: 0.3713 - accuracy: 0.4362 - val_loss: 0.4531 - val_accuracy: 0.2695\n",
            "Epoch 5/10\n",
            "642/642 [==============================] - 9s 14ms/step - loss: 0.3689 - accuracy: 0.4425 - val_loss: 0.4582 - val_accuracy: 0.2648\n",
            "Epoch 6/10\n",
            "642/642 [==============================] - 5s 9ms/step - loss: 0.3678 - accuracy: 0.4447 - val_loss: 0.4613 - val_accuracy: 0.2679\n",
            "Epoch 7/10\n",
            "642/642 [==============================] - 9s 14ms/step - loss: 0.3674 - accuracy: 0.4494 - val_loss: 0.4588 - val_accuracy: 0.2632\n",
            "Epoch 8/10\n",
            "642/642 [==============================] - 6s 9ms/step - loss: 0.3639 - accuracy: 0.4538 - val_loss: 0.4645 - val_accuracy: 0.2702\n",
            "Epoch 9/10\n",
            "642/642 [==============================] - 11s 18ms/step - loss: 0.3619 - accuracy: 0.4547 - val_loss: 0.4715 - val_accuracy: 0.2625\n",
            "Epoch 10/10\n",
            "642/642 [==============================] - 8s 13ms/step - loss: 0.3602 - accuracy: 0.4603 - val_loss: 0.4582 - val_accuracy: 0.2625\n"
          ]
        }
      ]
    },
    {
      "cell_type": "code",
      "source": [
        "test_labels = to_categorical(test_labels, num_classes=6)"
      ],
      "metadata": {
        "id": "DGf7QkbsC88H"
      },
      "execution_count": null,
      "outputs": []
    },
    {
      "cell_type": "code",
      "source": [
        "test_labels.shape"
      ],
      "metadata": {
        "colab": {
          "base_uri": "https://localhost:8080/"
        },
        "id": "bcK4TkfqFgTO",
        "outputId": "7454a83c-6a71-46f3-c007-bf2c4d02e533"
      },
      "execution_count": null,
      "outputs": [
        {
          "output_type": "execute_result",
          "data": {
            "text/plain": [
              "(1283, 6)"
            ]
          },
          "metadata": {},
          "execution_count": 140
        }
      ]
    },
    {
      "cell_type": "code",
      "source": [
        "a = np.asarray(test_labels).argmax(axis=1)"
      ],
      "metadata": {
        "id": "Xd1bWZz-Skgp"
      },
      "execution_count": null,
      "outputs": []
    },
    {
      "cell_type": "code",
      "execution_count": null,
      "metadata": {
        "id": "fSHUtTYqloXd",
        "colab": {
          "base_uri": "https://localhost:8080/"
        },
        "outputId": "b8afcbf8-a97e-4132-c8fe-f15760510779"
      },
      "outputs": [
        {
          "output_type": "stream",
          "name": "stdout",
          "text": [
            "41/41 [==============================] - 1s 6ms/step - loss: 0.4510 - accuracy: 0.2705\n",
            "41/41 [==============================] - 0s 2ms/step\n",
            "Test Accuracy: 0.2704598605632782\n",
            "Test F1 Score: 0.26377974894233813\n",
            "Test Recall: 0.2593853276470031\n",
            "Precision: 0.29076908220290576\n"
          ]
        }
      ],
      "source": [
        "test_loss, test_acc = model.evaluate(test_embeddings, test_labels)\n",
        "\n",
        "y_pred = model.predict(test_embeddings)\n",
        "y_pred = y_pred.argmax(axis=1)\n",
        "\n",
        "\n",
        "\n",
        "f1 = f1_score(a,y_pred,average='macro')\n",
        "recall = recall_score(a, y_pred,average='macro')\n",
        "precision = precision_score(a, y_pred,average='macro')\n",
        "\n",
        "#accuraccy \n",
        "print(\"Test Accuracy:\", test_acc)\n",
        "#f1-score\n",
        "print(\"Test F1 Score:\", f1)\n",
        "#recall\n",
        "print(\"Test Recall:\", recall)\n",
        "#precision\n",
        "print(\"Precision:\", precision)"
      ]
    },
    {
      "cell_type": "code",
      "execution_count": null,
      "metadata": {
        "id": "TiDjAtumBT7Q",
        "colab": {
          "base_uri": "https://localhost:8080/"
        },
        "outputId": "35a48366-11d8-4151-c163-64b8470084d3"
      },
      "outputs": [
        {
          "output_type": "stream",
          "name": "stdout",
          "text": [
            "Model: \"sequential\"\n",
            "_________________________________________________________________\n",
            " Layer (type)                Output Shape              Param #   \n",
            "=================================================================\n",
            " conv1d (Conv1D)             (None, 764, 128)          768       \n",
            "                                                                 \n",
            " max_pooling1d (MaxPooling1D  (None, 152, 128)         0         \n",
            " )                                                               \n",
            "                                                                 \n",
            " conv1d_1 (Conv1D)           (None, 148, 128)          82048     \n",
            "                                                                 \n",
            " max_pooling1d_1 (MaxPooling  (None, 29, 128)          0         \n",
            " 1D)                                                             \n",
            "                                                                 \n",
            " conv1d_2 (Conv1D)           (None, 25, 128)           82048     \n",
            "                                                                 \n",
            " flatten (Flatten)           (None, 3200)              0         \n",
            "                                                                 \n",
            " dense (Dense)               (None, 64)                204864    \n",
            "                                                                 \n",
            " dropout_20 (Dropout)        (None, 64)                0         \n",
            "                                                                 \n",
            " dense_1 (Dense)             (None, 6)                 390       \n",
            "                                                                 \n",
            "=================================================================\n",
            "Total params: 370,118\n",
            "Trainable params: 370,118\n",
            "Non-trainable params: 0\n",
            "_________________________________________________________________\n"
          ]
        }
      ],
      "source": [
        "#λεπτομέρειες για τη δομή του μοντέλου\n",
        "model.summary()"
      ]
    },
    {
      "cell_type": "code",
      "execution_count": null,
      "metadata": {
        "id": "aFkQhzoY3bmx"
      },
      "outputs": [],
      "source": [
        "model.save('cnn_distilbert_.h5')"
      ]
    },
    {
      "cell_type": "code",
      "source": [
        "y_pred = model.predict(test_embeddings)\n",
        "y_pred = y_pred.argmax(axis=1)\n",
        "cm = confusion_matrix(a, y_pred)\n",
        "print(cm)"
      ],
      "metadata": {
        "id": "YJiszL6sV8Xt",
        "colab": {
          "base_uri": "https://localhost:8080/"
        },
        "outputId": "6c59bad3-53f7-485f-ae26-30b6a8daaa0f"
      },
      "execution_count": null,
      "outputs": [
        {
          "output_type": "stream",
          "name": "stdout",
          "text": [
            "41/41 [==============================] - 0s 2ms/step\n",
            "[[34 68 62 25  9 16]\n",
            " [29 89 62 27 12 31]\n",
            " [21 70 96 45  5 30]\n",
            " [10 48 91 57  2 41]\n",
            " [11 34 15  8 19  5]\n",
            " [ 6 43 48 58  4 52]]\n"
          ]
        }
      ]
    },
    {
      "cell_type": "code",
      "execution_count": null,
      "metadata": {
        "id": "znsfa6RzhFFb"
      },
      "outputs": [],
      "source": [
        "from sklearn.metrics import classification_report, confusion_matrix\n",
        "def plot_history(history,model):\n",
        "   # Plot training and validation loss\n",
        "    sns.lineplot(x=history.epoch, y=history.history['loss'], label='train')\n",
        "    sns.lineplot(x=history.epoch, y=history.history['val_loss'], label='val')\n",
        "    plt.title('Model Loss')\n",
        "    plt.ylabel('Loss')\n",
        "    plt.xlabel('Epoch')\n",
        "    plt.legend(loc='upper right')\n",
        "    plt.show()\n",
        "    \n",
        "    # Plot training and validation accuracy\n",
        "    sns.lineplot(x=history.epoch, y=history.history['accuracy'], label='train')\n",
        "    sns.lineplot(x=history.epoch, y=history.history['val_accuracy'], label='val')\n",
        "    plt.title('Model Accuracy')\n",
        "    plt.ylabel('Accuracy')\n",
        "    plt.xlabel('Epoch')\n",
        "    plt.legend(loc='lower right')\n",
        "    plt.show()\n",
        "    \n",
        "    # Print the classification report\n",
        "    print(classification_report(a, y_pred))"
      ]
    },
    {
      "cell_type": "code",
      "execution_count": null,
      "metadata": {
        "id": "Mu2jsBX5ipTj",
        "colab": {
          "base_uri": "https://localhost:8080/",
          "height": 1000
        },
        "outputId": "48dfd7f9-b0bf-4229-eb6a-1cfffc56c734"
      },
      "outputs": [
        {
          "output_type": "display_data",
          "data": {
            "text/plain": [
              "<Figure size 640x480 with 1 Axes>"
            ],
            "image/png": "[encoded data removed]"
          },
          "metadata": {}
        },
        {
          "output_type": "display_data",
          "data": {
            "text/plain": [
              "<Figure size 640x480 with 1 Axes>"
            ],
            "image/png": "[encoded data removed]"
          },
          "metadata": {}
        },
        {
          "output_type": "stream",
          "name": "stdout",
          "text": [
            "              precision    recall  f1-score   support\n",
            "\n",
            "           0       0.31      0.16      0.21       214\n",
            "           1       0.25      0.36      0.30       250\n",
            "           2       0.26      0.36      0.30       267\n",
            "           3       0.26      0.23      0.24       249\n",
            "           4       0.37      0.21      0.27        92\n",
            "           5       0.30      0.25      0.27       211\n",
            "\n",
            "    accuracy                           0.27      1283\n",
            "   macro avg       0.29      0.26      0.26      1283\n",
            "weighted avg       0.28      0.27      0.27      1283\n",
            "\n"
          ]
        }
      ],
      "source": [
        "plot_history(history1,model)"
      ]
    },
    {
      "cell_type": "markdown",
      "source": [
        "# **Simple CNN - DistilBERT**"
      ],
      "metadata": {
        "id": "PL6nphxYVHGD"
      }
    },
    {
      "cell_type": "code",
      "source": [
        "model2 = Sequential()\n",
        "model2.add(Conv1D(filters=32, kernel_size=3, activation='relu', input_shape=(768,1)))\n",
        "model2.add(GlobalMaxPooling1D())\n",
        "model2.add(Flatten())\n",
        "model2.add(Dense(units=64, activation='relu'))\n",
        "model2.add(Dense(units=6, activation='softmax'))"
      ],
      "metadata": {
        "id": "xzOVai8rWJtn"
      },
      "execution_count": null,
      "outputs": []
    },
    {
      "cell_type": "code",
      "execution_count": null,
      "metadata": {
        "id": "__ult2E8WYeQ"
      },
      "outputs": [],
      "source": [
        "model2.compile(loss='binary_crossentropy', optimizer='adam', metrics=['accuracy'])"
      ]
    },
    {
      "cell_type": "code",
      "source": [
        "history2 = model2.fit(train_embeddings, train_labels, epochs=10, batch_size=16,validation_data=(valid_embeddings, valid_labels))"
      ],
      "metadata": {
        "colab": {
          "base_uri": "https://localhost:8080/"
        },
        "outputId": "419aba02-7e73-4a1f-bce3-f64d5b646716",
        "id": "rrVWNA9lWYeQ"
      },
      "execution_count": null,
      "outputs": [
        {
          "output_type": "stream",
          "name": "stdout",
          "text": [
            "Epoch 1/10\n",
            "642/642 [==============================] - 5s 8ms/step - loss: 0.4219 - accuracy: 0.3071 - val_loss: 0.4454 - val_accuracy: 0.2259\n",
            "Epoch 2/10\n",
            "642/642 [==============================] - 4s 7ms/step - loss: 0.4136 - accuracy: 0.3285 - val_loss: 0.4454 - val_accuracy: 0.2391\n",
            "Epoch 3/10\n",
            "642/642 [==============================] - 4s 7ms/step - loss: 0.4062 - accuracy: 0.3462 - val_loss: 0.4458 - val_accuracy: 0.2414\n",
            "Epoch 4/10\n",
            "642/642 [==============================] - 3s 4ms/step - loss: 0.4018 - accuracy: 0.3624 - val_loss: 0.4454 - val_accuracy: 0.2305\n",
            "Epoch 5/10\n",
            "642/642 [==============================] - 4s 6ms/step - loss: 0.3984 - accuracy: 0.3646 - val_loss: 0.4526 - val_accuracy: 0.2368\n",
            "Epoch 6/10\n",
            "642/642 [==============================] - 3s 4ms/step - loss: 0.3970 - accuracy: 0.3722 - val_loss: 0.4486 - val_accuracy: 0.2321\n",
            "Epoch 7/10\n",
            "642/642 [==============================] - 3s 4ms/step - loss: 0.3958 - accuracy: 0.3738 - val_loss: 0.4467 - val_accuracy: 0.2407\n",
            "Epoch 8/10\n",
            "642/642 [==============================] - 3s 4ms/step - loss: 0.3940 - accuracy: 0.3785 - val_loss: 0.4525 - val_accuracy: 0.2368\n",
            "Epoch 9/10\n",
            "642/642 [==============================] - 3s 4ms/step - loss: 0.3929 - accuracy: 0.3773 - val_loss: 0.4501 - val_accuracy: 0.2461\n",
            "Epoch 10/10\n",
            "642/642 [==============================] - 4s 6ms/step - loss: 0.3918 - accuracy: 0.3806 - val_loss: 0.4493 - val_accuracy: 0.2375\n"
          ]
        }
      ]
    },
    {
      "cell_type": "code",
      "execution_count": null,
      "metadata": {
        "colab": {
          "base_uri": "https://localhost:8080/"
        },
        "id": "CVtcjizZWYeQ",
        "outputId": "85dda758-0119-4d22-9fe2-64e55b112906"
      },
      "outputs": [
        {
          "output_type": "stream",
          "name": "stdout",
          "text": [
            "41/41 [==============================] - 0s 4ms/step - loss: 0.4453 - accuracy: 0.2720\n",
            "41/41 [==============================] - 0s 2ms/step\n",
            "Test Accuracy: 0.272018700838089\n",
            "Test F1 Score: 0.2447070676012194\n",
            "Test Recall: 0.24818664536614585\n",
            "Precision: 0.29439957059290434\n"
          ]
        }
      ],
      "source": [
        "test_loss, test_acc = model2.evaluate(test_embeddings, test_labels)\n",
        "\n",
        "y_pred = model2.predict(test_embeddings)\n",
        "y_pred = y_pred.argmax(axis=1)\n",
        "\n",
        "\n",
        "\n",
        "f1 = f1_score(a,y_pred,average='macro')\n",
        "recall = recall_score(a, y_pred,average='macro')\n",
        "precision = precision_score(a, y_pred,average='macro')\n",
        "\n",
        "#accuraccy \n",
        "print(\"Test Accuracy:\", test_acc)\n",
        "#f1-score\n",
        "print(\"Test F1 Score:\", f1)\n",
        "#recall\n",
        "print(\"Test Recall:\", recall)\n",
        "#precision\n",
        "print(\"Precision:\", precision)"
      ]
    },
    {
      "cell_type": "code",
      "execution_count": null,
      "metadata": {
        "colab": {
          "base_uri": "https://localhost:8080/"
        },
        "id": "XzI26wMYWYeR",
        "outputId": "c15527f5-bfd2-4ae2-e866-d3b65cf9e512"
      },
      "outputs": [
        {
          "output_type": "stream",
          "name": "stdout",
          "text": [
            "Model: \"sequential_1\"\n",
            "_________________________________________________________________\n",
            " Layer (type)                Output Shape              Param #   \n",
            "=================================================================\n",
            " conv1d_3 (Conv1D)           (None, 766, 32)           128       \n",
            "                                                                 \n",
            " global_max_pooling1d (Globa  (None, 32)               0         \n",
            " lMaxPooling1D)                                                  \n",
            "                                                                 \n",
            " flatten_1 (Flatten)         (None, 32)                0         \n",
            "                                                                 \n",
            " dense_2 (Dense)             (None, 64)                2112      \n",
            "                                                                 \n",
            " dense_3 (Dense)             (None, 6)                 390       \n",
            "                                                                 \n",
            "=================================================================\n",
            "Total params: 2,630\n",
            "Trainable params: 2,630\n",
            "Non-trainable params: 0\n",
            "_________________________________________________________________\n"
          ]
        }
      ],
      "source": [
        "#λεπτομέρειες για τη δομή του μοντέλου\n",
        "model2.summary()"
      ]
    },
    {
      "cell_type": "code",
      "source": [
        "y_pred = model2.predict(test_embeddings)\n",
        "y_pred = y_pred.argmax(axis=1)\n",
        "cm = confusion_matrix(a, y_pred)\n",
        "print(cm)"
      ],
      "metadata": {
        "colab": {
          "base_uri": "https://localhost:8080/"
        },
        "id": "zlQ6GRRUWYeR",
        "outputId": "a03383a1-4ef1-430f-fec9-1e5026552cb0"
      },
      "execution_count": null,
      "outputs": [
        {
          "output_type": "stream",
          "name": "stdout",
          "text": [
            "41/41 [==============================] - 0s 2ms/step\n",
            "[[ 31  57  95  13   7  11]\n",
            " [ 22  88  99  20   8  13]\n",
            " [ 24  58 136  24   4  21]\n",
            " [ 16  42 111  50   2  28]\n",
            " [ 14  36  24   2  12   4]\n",
            " [  6  46  87  38   2  32]]\n"
          ]
        }
      ]
    },
    {
      "cell_type": "code",
      "execution_count": null,
      "metadata": {
        "colab": {
          "base_uri": "https://localhost:8080/",
          "height": 1000
        },
        "id": "pq2u2JXrWYeR",
        "outputId": "16efb2e0-caab-4307-fd7a-29f0b245fbe8"
      },
      "outputs": [
        {
          "output_type": "display_data",
          "data": {
            "text/plain": [
              "<Figure size 640x480 with 1 Axes>"
            ],
            "image/png": "[encoded data removed]"
          },
          "metadata": {}
        },
        {
          "output_type": "display_data",
          "data": {
            "text/plain": [
              "<Figure size 640x480 with 1 Axes>"
            ],
            "image/png": "[encoded data removed]"
          },
          "metadata": {}
        },
        {
          "output_type": "stream",
          "name": "stdout",
          "text": [
            "              precision    recall  f1-score   support\n",
            "\n",
            "           0       0.27      0.14      0.19       214\n",
            "           1       0.27      0.35      0.31       250\n",
            "           2       0.25      0.51      0.33       267\n",
            "           3       0.34      0.20      0.25       249\n",
            "           4       0.34      0.13      0.19        92\n",
            "           5       0.29      0.15      0.20       211\n",
            "\n",
            "    accuracy                           0.27      1283\n",
            "   macro avg       0.29      0.25      0.24      1283\n",
            "weighted avg       0.29      0.27      0.26      1283\n",
            "\n"
          ]
        }
      ],
      "source": [
        "plot_history(history2,model2)"
      ]
    },
    {
      "cell_type": "markdown",
      "source": [
        "# **LIAR DATASET BINARY**"
      ],
      "metadata": {
        "id": "npjqngbVk_bd"
      }
    },
    {
      "cell_type": "code",
      "source": [
        "def map_label(label):\n",
        "    if label == 'true':\n",
        "        return 1\n",
        "    else:\n",
        "        return 0"
      ],
      "metadata": {
        "id": "t-0TAXnRme7h"
      },
      "execution_count": null,
      "outputs": []
    },
    {
      "cell_type": "markdown",
      "source": [
        "## Train data"
      ],
      "metadata": {
        "id": "bE8wXNXlmR8t"
      }
    },
    {
      "cell_type": "code",
      "execution_count": null,
      "metadata": {
        "id": "RI1bJIa3mR8u"
      },
      "outputs": [],
      "source": [
        "path = '/content/drive/MyDrive/LIAR_DATASET/Train.csv'\n",
        "df_train = pd.read_csv(path,delimiter=',')"
      ]
    },
    {
      "cell_type": "code",
      "source": [
        "df_train.head()"
      ],
      "metadata": {
        "id": "wYwSmog8mR8u"
      },
      "execution_count": null,
      "outputs": []
    },
    {
      "cell_type": "code",
      "source": [
        "df_train['category'] = df_train['Label'].apply(map_label)\n",
        "df_train['category'].unique()"
      ],
      "metadata": {
        "id": "-PwJaOPpmR8v"
      },
      "execution_count": null,
      "outputs": []
    },
    {
      "cell_type": "code",
      "source": [
        "df_train.head()"
      ],
      "metadata": {
        "colab": {
          "base_uri": "https://localhost:8080/",
          "height": 206
        },
        "outputId": "599f4355-7664-4b2c-b505-89952f59fd9e",
        "id": "SAVUXmChmR8v"
      },
      "execution_count": null,
      "outputs": [
        {
          "output_type": "execute_result",
          "data": {
            "text/plain": [
              "         Label                                          Statement  category\n",
              "0  barely-true  700 jobs (were) lost because Allen Boyd voted ...         0\n",
              "1  mostly-true  Today, the five largest financial institutions...         0\n",
              "2  mostly-true  The top one-tenth of 1 percent of Americans ow...         0\n",
              "3    half-true  Says federal law enforcement officers cut off ...         0\n",
              "4   pants-fire  Back door gun control is in full effect in the...         0"
            ],
            "text/html": [
              "\n",
              "  <div id=\"df-3659927c-7904-476e-8171-c797d6a7299f\">\n",
              "    <div class=\"colab-df-container\">\n",
              "      <div>\n",
              "<style scoped>\n",
              "    .dataframe tbody tr th:only-of-type {\n",
              "        vertical-align: middle;\n",
              "    }\n",
              "\n",
              "    .dataframe tbody tr th {\n",
              "        vertical-align: top;\n",
              "    }\n",
              "\n",
              "    .dataframe thead th {\n",
              "        text-align: right;\n",
              "    }\n",
              "</style>\n",
              "<table border=\"1\" class=\"dataframe\">\n",
              "  <thead>\n",
              "    <tr style=\"text-align: right;\">\n",
              "      <th></th>\n",
              "      <th>Label</th>\n",
              "      <th>Statement</th>\n",
              "      <th>category</th>\n",
              "    </tr>\n",
              "  </thead>\n",
              "  <tbody>\n",
              "    <tr>\n",
              "      <th>0</th>\n",
              "      <td>barely-true</td>\n",
              "      <td>700 jobs (were) lost because Allen Boyd voted ...</td>\n",
              "      <td>0</td>\n",
              "    </tr>\n",
              "    <tr>\n",
              "      <th>1</th>\n",
              "      <td>mostly-true</td>\n",
              "      <td>Today, the five largest financial institutions...</td>\n",
              "      <td>0</td>\n",
              "    </tr>\n",
              "    <tr>\n",
              "      <th>2</th>\n",
              "      <td>mostly-true</td>\n",
              "      <td>The top one-tenth of 1 percent of Americans ow...</td>\n",
              "      <td>0</td>\n",
              "    </tr>\n",
              "    <tr>\n",
              "      <th>3</th>\n",
              "      <td>half-true</td>\n",
              "      <td>Says federal law enforcement officers cut off ...</td>\n",
              "      <td>0</td>\n",
              "    </tr>\n",
              "    <tr>\n",
              "      <th>4</th>\n",
              "      <td>pants-fire</td>\n",
              "      <td>Back door gun control is in full effect in the...</td>\n",
              "      <td>0</td>\n",
              "    </tr>\n",
              "  </tbody>\n",
              "</table>\n",
              "</div>\n",
              "      <button class=\"colab-df-convert\" onclick=\"convertToInteractive('df-3659927c-7904-476e-8171-c797d6a7299f')\"\n",
              "              title=\"Convert this dataframe to an interactive table.\"\n",
              "              style=\"display:none;\">\n",
              "        \n",
              "  <svg xmlns=\"http://www.w3.org/2000/svg\" height=\"24px\"viewBox=\"0 0 24 24\"\n",
              "       width=\"24px\">\n",
              "    <path d=\"M0 0h24v24H0V0z\" fill=\"none\"/>\n",
              "    <path d=\"M18.56 5.44l.94 2.06.94-2.06 2.06-.94-2.06-.94-.94-2.06-.94 2.06-2.06.94zm-11 1L8.5 8.5l.94-2.06 2.06-.94-2.06-.94L8.5 2.5l-.94 2.06-2.06.94zm10 10l.94 2.06.94-2.06 2.06-.94-2.06-.94-.94-2.06-.94 2.06-2.06.94z\"/><path d=\"M17.41 7.96l-1.37-1.37c-.4-.4-.92-.59-1.43-.59-.52 0-1.04.2-1.43.59L10.3 9.45l-7.72 7.72c-.78.78-.78 2.05 0 2.83L4 21.41c.39.39.9.59 1.41.59.51 0 1.02-.2 1.41-.59l7.78-7.78 2.81-2.81c.8-.78.8-2.07 0-2.86zM5.41 20L4 18.59l7.72-7.72 1.47 1.35L5.41 20z\"/>\n",
              "  </svg>\n",
              "      </button>\n",
              "      \n",
              "  <style>\n",
              "    .colab-df-container {\n",
              "      display:flex;\n",
              "      flex-wrap:wrap;\n",
              "      gap: 12px;\n",
              "    }\n",
              "\n",
              "    .colab-df-convert {\n",
              "      background-color: #E8F0FE;\n",
              "      border: none;\n",
              "      border-radius: 50%;\n",
              "      cursor: pointer;\n",
              "      display: none;\n",
              "      fill: #1967D2;\n",
              "      height: 32px;\n",
              "      padding: 0 0 0 0;\n",
              "      width: 32px;\n",
              "    }\n",
              "\n",
              "    .colab-df-convert:hover {\n",
              "      background-color: #E2EBFA;\n",
              "      box-shadow: 0px 1px 2px rgba(60, 64, 67, 0.3), 0px 1px 3px 1px rgba(60, 64, 67, 0.15);\n",
              "      fill: #174EA6;\n",
              "    }\n",
              "\n",
              "    [theme=dark] .colab-df-convert {\n",
              "      background-color: #3B4455;\n",
              "      fill: #D2E3FC;\n",
              "    }\n",
              "\n",
              "    [theme=dark] .colab-df-convert:hover {\n",
              "      background-color: #434B5C;\n",
              "      box-shadow: 0px 1px 3px 1px rgba(0, 0, 0, 0.15);\n",
              "      filter: drop-shadow(0px 1px 2px rgba(0, 0, 0, 0.3));\n",
              "      fill: #FFFFFF;\n",
              "    }\n",
              "  </style>\n",
              "\n",
              "      <script>\n",
              "        const buttonEl =\n",
              "          document.querySelector('#df-3659927c-7904-476e-8171-c797d6a7299f button.colab-df-convert');\n",
              "        buttonEl.style.display =\n",
              "          google.colab.kernel.accessAllowed ? 'block' : 'none';\n",
              "\n",
              "        async function convertToInteractive(key) {\n",
              "          const element = document.querySelector('#df-3659927c-7904-476e-8171-c797d6a7299f');\n",
              "          const dataTable =\n",
              "            await google.colab.kernel.invokeFunction('convertToInteractive',\n",
              "                                                     [key], {});\n",
              "          if (!dataTable) return;\n",
              "\n",
              "          const docLinkHtml = 'Like what you see? Visit the ' +\n",
              "            '<a target=\"_blank\" href=https://colab.research.google.com/notebooks/data_table.ipynb>data table notebook</a>'\n",
              "            + ' to learn more about interactive tables.';\n",
              "          element.innerHTML = '';\n",
              "          dataTable['output_type'] = 'display_data';\n",
              "          await google.colab.output.renderOutput(dataTable, element);\n",
              "          const docLink = document.createElement('div');\n",
              "          docLink.innerHTML = docLinkHtml;\n",
              "          element.appendChild(docLink);\n",
              "        }\n",
              "      </script>\n",
              "    </div>\n",
              "  </div>\n",
              "  "
            ]
          },
          "metadata": {},
          "execution_count": 149
        }
      ]
    },
    {
      "cell_type": "code",
      "source": [
        "df_train.isnull().sum()"
      ],
      "metadata": {
        "colab": {
          "base_uri": "https://localhost:8080/"
        },
        "outputId": "3433cfcb-01c5-4176-c212-2b99dddbf80b",
        "id": "ji60mK9TmR8v"
      },
      "execution_count": null,
      "outputs": [
        {
          "output_type": "execute_result",
          "data": {
            "text/plain": [
              "Label        0\n",
              "Statement    0\n",
              "category     0\n",
              "dtype: int64"
            ]
          },
          "metadata": {},
          "execution_count": 150
        }
      ]
    },
    {
      "cell_type": "code",
      "source": [
        "sns.set_theme(style=\"whitegrid\", palette=\"pastel\")\n",
        "sns.displot(df_train, x=\"category\",height=7,aspect=1)"
      ],
      "metadata": {
        "colab": {
          "base_uri": "https://localhost:8080/",
          "height": 718
        },
        "id": "iuatsX8a5yA8",
        "outputId": "f63814a9-cf6c-4b6c-e23a-d75a2fea6fcd"
      },
      "execution_count": null,
      "outputs": [
        {
          "output_type": "execute_result",
          "data": {
            "text/plain": [
              "<seaborn.axisgrid.FacetGrid at 0x7feebc828b20>"
            ]
          },
          "metadata": {},
          "execution_count": 151
        },
        {
          "output_type": "display_data",
          "data": {
            "text/plain": [
              "<Figure size 700x700 with 1 Axes>"
            ],
            "image/png": "[encoded data removed]"
          },
          "metadata": {}
        }
      ]
    },
    {
      "cell_type": "code",
      "execution_count": null,
      "metadata": {
        "id": "i5USCK7iFj2T"
      },
      "outputs": [],
      "source": [
        "from imblearn.under_sampling import RandomUnderSampler\n",
        "\n",
        "ros = RandomUnderSampler(random_state=42)\n",
        "df_train, df_train['category'] = ros.fit_resample(df_train, df_train['category'])"
      ]
    },
    {
      "cell_type": "code",
      "source": [
        "sns.set_theme(style=\"whitegrid\", palette=\"pastel\")\n",
        "sns.displot(df_train, x=\"category\",height=7,aspect=1)"
      ],
      "metadata": {
        "colab": {
          "base_uri": "https://localhost:8080/",
          "height": 718
        },
        "id": "c4abMh2D7kUI",
        "outputId": "e12eca22-5339-4992-949d-e383151e7105"
      },
      "execution_count": null,
      "outputs": [
        {
          "output_type": "execute_result",
          "data": {
            "text/plain": [
              "<seaborn.axisgrid.FacetGrid at 0x7fef6d6d1ae0>"
            ]
          },
          "metadata": {},
          "execution_count": 132
        },
        {
          "output_type": "display_data",
          "data": {
            "text/plain": [
              "<Figure size 700x700 with 1 Axes>"
            ],
            "image/png": "[encoded data removed]"
          },
          "metadata": {}
        }
      ]
    },
    {
      "cell_type": "markdown",
      "source": [
        "## Test data"
      ],
      "metadata": {
        "id": "jToqqiromR8v"
      }
    },
    {
      "cell_type": "code",
      "execution_count": null,
      "metadata": {
        "id": "N4JwYBUCmR8v"
      },
      "outputs": [],
      "source": [
        "path = '/content/drive/MyDrive/LIAR_DATASET/Test.csv'\n",
        "df_test = pd.read_csv(path,delimiter=',')"
      ]
    },
    {
      "cell_type": "code",
      "source": [
        "df_test.head()"
      ],
      "metadata": {
        "colab": {
          "base_uri": "https://localhost:8080/",
          "height": 206
        },
        "outputId": "56969fe3-e5e2-43b3-d3e8-6bb1027178a3",
        "id": "Y9wsCE3NmR8w"
      },
      "execution_count": null,
      "outputs": [
        {
          "output_type": "execute_result",
          "data": {
            "text/plain": [
              "        Label                                          Statement\n",
              "0        true  Building a wall on the U.S.-Mexico border will...\n",
              "1       false  Wisconsin is on pace to double the number of l...\n",
              "2       false  Says John McCain has done nothing to help the ...\n",
              "3   half-true  Suzanne Bonamici supports a plan that will cut...\n",
              "4  pants-fire  When asked by a reporter whether hes at the ce..."
            ],
            "text/html": [
              "\n",
              "  <div id=\"df-ff720dee-7b9f-45ae-bff6-551c294335a1\">\n",
              "    <div class=\"colab-df-container\">\n",
              "      <div>\n",
              "<style scoped>\n",
              "    .dataframe tbody tr th:only-of-type {\n",
              "        vertical-align: middle;\n",
              "    }\n",
              "\n",
              "    .dataframe tbody tr th {\n",
              "        vertical-align: top;\n",
              "    }\n",
              "\n",
              "    .dataframe thead th {\n",
              "        text-align: right;\n",
              "    }\n",
              "</style>\n",
              "<table border=\"1\" class=\"dataframe\">\n",
              "  <thead>\n",
              "    <tr style=\"text-align: right;\">\n",
              "      <th></th>\n",
              "      <th>Label</th>\n",
              "      <th>Statement</th>\n",
              "    </tr>\n",
              "  </thead>\n",
              "  <tbody>\n",
              "    <tr>\n",
              "      <th>0</th>\n",
              "      <td>true</td>\n",
              "      <td>Building a wall on the U.S.-Mexico border will...</td>\n",
              "    </tr>\n",
              "    <tr>\n",
              "      <th>1</th>\n",
              "      <td>false</td>\n",
              "      <td>Wisconsin is on pace to double the number of l...</td>\n",
              "    </tr>\n",
              "    <tr>\n",
              "      <th>2</th>\n",
              "      <td>false</td>\n",
              "      <td>Says John McCain has done nothing to help the ...</td>\n",
              "    </tr>\n",
              "    <tr>\n",
              "      <th>3</th>\n",
              "      <td>half-true</td>\n",
              "      <td>Suzanne Bonamici supports a plan that will cut...</td>\n",
              "    </tr>\n",
              "    <tr>\n",
              "      <th>4</th>\n",
              "      <td>pants-fire</td>\n",
              "      <td>When asked by a reporter whether hes at the ce...</td>\n",
              "    </tr>\n",
              "  </tbody>\n",
              "</table>\n",
              "</div>\n",
              "      <button class=\"colab-df-convert\" onclick=\"convertToInteractive('df-ff720dee-7b9f-45ae-bff6-551c294335a1')\"\n",
              "              title=\"Convert this dataframe to an interactive table.\"\n",
              "              style=\"display:none;\">\n",
              "        \n",
              "  <svg xmlns=\"http://www.w3.org/2000/svg\" height=\"24px\"viewBox=\"0 0 24 24\"\n",
              "       width=\"24px\">\n",
              "    <path d=\"M0 0h24v24H0V0z\" fill=\"none\"/>\n",
              "    <path d=\"M18.56 5.44l.94 2.06.94-2.06 2.06-.94-2.06-.94-.94-2.06-.94 2.06-2.06.94zm-11 1L8.5 8.5l.94-2.06 2.06-.94-2.06-.94L8.5 2.5l-.94 2.06-2.06.94zm10 10l.94 2.06.94-2.06 2.06-.94-2.06-.94-.94-2.06-.94 2.06-2.06.94z\"/><path d=\"M17.41 7.96l-1.37-1.37c-.4-.4-.92-.59-1.43-.59-.52 0-1.04.2-1.43.59L10.3 9.45l-7.72 7.72c-.78.78-.78 2.05 0 2.83L4 21.41c.39.39.9.59 1.41.59.51 0 1.02-.2 1.41-.59l7.78-7.78 2.81-2.81c.8-.78.8-2.07 0-2.86zM5.41 20L4 18.59l7.72-7.72 1.47 1.35L5.41 20z\"/>\n",
              "  </svg>\n",
              "      </button>\n",
              "      \n",
              "  <style>\n",
              "    .colab-df-container {\n",
              "      display:flex;\n",
              "      flex-wrap:wrap;\n",
              "      gap: 12px;\n",
              "    }\n",
              "\n",
              "    .colab-df-convert {\n",
              "      background-color: #E8F0FE;\n",
              "      border: none;\n",
              "      border-radius: 50%;\n",
              "      cursor: pointer;\n",
              "      display: none;\n",
              "      fill: #1967D2;\n",
              "      height: 32px;\n",
              "      padding: 0 0 0 0;\n",
              "      width: 32px;\n",
              "    }\n",
              "\n",
              "    .colab-df-convert:hover {\n",
              "      background-color: #E2EBFA;\n",
              "      box-shadow: 0px 1px 2px rgba(60, 64, 67, 0.3), 0px 1px 3px 1px rgba(60, 64, 67, 0.15);\n",
              "      fill: #174EA6;\n",
              "    }\n",
              "\n",
              "    [theme=dark] .colab-df-convert {\n",
              "      background-color: #3B4455;\n",
              "      fill: #D2E3FC;\n",
              "    }\n",
              "\n",
              "    [theme=dark] .colab-df-convert:hover {\n",
              "      background-color: #434B5C;\n",
              "      box-shadow: 0px 1px 3px 1px rgba(0, 0, 0, 0.15);\n",
              "      filter: drop-shadow(0px 1px 2px rgba(0, 0, 0, 0.3));\n",
              "      fill: #FFFFFF;\n",
              "    }\n",
              "  </style>\n",
              "\n",
              "      <script>\n",
              "        const buttonEl =\n",
              "          document.querySelector('#df-ff720dee-7b9f-45ae-bff6-551c294335a1 button.colab-df-convert');\n",
              "        buttonEl.style.display =\n",
              "          google.colab.kernel.accessAllowed ? 'block' : 'none';\n",
              "\n",
              "        async function convertToInteractive(key) {\n",
              "          const element = document.querySelector('#df-ff720dee-7b9f-45ae-bff6-551c294335a1');\n",
              "          const dataTable =\n",
              "            await google.colab.kernel.invokeFunction('convertToInteractive',\n",
              "                                                     [key], {});\n",
              "          if (!dataTable) return;\n",
              "\n",
              "          const docLinkHtml = 'Like what you see? Visit the ' +\n",
              "            '<a target=\"_blank\" href=https://colab.research.google.com/notebooks/data_table.ipynb>data table notebook</a>'\n",
              "            + ' to learn more about interactive tables.';\n",
              "          element.innerHTML = '';\n",
              "          dataTable['output_type'] = 'display_data';\n",
              "          await google.colab.output.renderOutput(dataTable, element);\n",
              "          const docLink = document.createElement('div');\n",
              "          docLink.innerHTML = docLinkHtml;\n",
              "          element.appendChild(docLink);\n",
              "        }\n",
              "      </script>\n",
              "    </div>\n",
              "  </div>\n",
              "  "
            ]
          },
          "metadata": {},
          "execution_count": 153
        }
      ]
    },
    {
      "cell_type": "code",
      "source": [
        "df_test['category'] = df_test['Label'].apply(map_label)\n",
        "df_test['category'].unique()"
      ],
      "metadata": {
        "colab": {
          "base_uri": "https://localhost:8080/"
        },
        "outputId": "c449f8ae-4898-4f30-be27-56ee1617ed4b",
        "id": "mN1w91qrmR8w"
      },
      "execution_count": null,
      "outputs": [
        {
          "output_type": "execute_result",
          "data": {
            "text/plain": [
              "array([1, 0])"
            ]
          },
          "metadata": {},
          "execution_count": 154
        }
      ]
    },
    {
      "cell_type": "code",
      "source": [
        "df_test.isnull().sum()"
      ],
      "metadata": {
        "colab": {
          "base_uri": "https://localhost:8080/"
        },
        "outputId": "44961391-19e6-48a2-964c-e8fa6d766273",
        "id": "LvLWGvlYmR8w"
      },
      "execution_count": null,
      "outputs": [
        {
          "output_type": "execute_result",
          "data": {
            "text/plain": [
              "Label        0\n",
              "Statement    0\n",
              "category     0\n",
              "dtype: int64"
            ]
          },
          "metadata": {},
          "execution_count": 155
        }
      ]
    },
    {
      "cell_type": "code",
      "source": [
        "sns.set_theme(style=\"whitegrid\", palette=\"pastel\")\n",
        "sns.displot(df_test, x=\"category\",height=7,aspect=1)"
      ],
      "metadata": {
        "colab": {
          "base_uri": "https://localhost:8080/",
          "height": 718
        },
        "id": "et4-Eh0tBDZn",
        "outputId": "7a196dee-bdfe-4b4e-ec67-febc59ba7974"
      },
      "execution_count": null,
      "outputs": [
        {
          "output_type": "execute_result",
          "data": {
            "text/plain": [
              "<seaborn.axisgrid.FacetGrid at 0x7feea944d9f0>"
            ]
          },
          "metadata": {},
          "execution_count": 156
        },
        {
          "output_type": "display_data",
          "data": {
            "text/plain": [
              "<Figure size 700x700 with 1 Axes>"
            ],
            "image/png": "[encoded data removed]"
          },
          "metadata": {}
        }
      ]
    },
    {
      "cell_type": "code",
      "source": [
        "ros = RandomUnderSampler(random_state=42)\n",
        "df_test, df_test['category'] = ros.fit_resample(df_test, df_test['category'])"
      ],
      "metadata": {
        "id": "bKGQVH7eBZ35"
      },
      "execution_count": null,
      "outputs": []
    },
    {
      "cell_type": "markdown",
      "source": [
        "## Valid data"
      ],
      "metadata": {
        "id": "14RDv4DymR8w"
      }
    },
    {
      "cell_type": "code",
      "execution_count": null,
      "metadata": {
        "id": "QY7DO-xDmR8w"
      },
      "outputs": [],
      "source": [
        "path = '/content/drive/MyDrive/LIAR_DATASET/Valid.csv'\n",
        "df_valid = pd.read_csv(path,delimiter=',')"
      ]
    },
    {
      "cell_type": "code",
      "source": [
        "df_valid.head()"
      ],
      "metadata": {
        "colab": {
          "base_uri": "https://localhost:8080/",
          "height": 206
        },
        "outputId": "69026ab5-fd70-4608-9bb1-a2147b269dc9",
        "id": "Mu9POKRgmR8x"
      },
      "execution_count": null,
      "outputs": [
        {
          "output_type": "execute_result",
          "data": {
            "text/plain": [
              "         Label                                          Statement\n",
              "0  barely-true  We have less Americans working now than in the...\n",
              "1   pants-fire  When Obama was sworn into office, he DID NOT u...\n",
              "2        false  Says Having organizations parading as being so...\n",
              "3    half-true     Says nearly half of Oregons children are poor.\n",
              "4    half-true  On attacks by Republicans that various program..."
            ],
            "text/html": [
              "\n",
              "  <div id=\"df-edf2c1a2-0efa-454b-aca6-26ee7f5ee35e\">\n",
              "    <div class=\"colab-df-container\">\n",
              "      <div>\n",
              "<style scoped>\n",
              "    .dataframe tbody tr th:only-of-type {\n",
              "        vertical-align: middle;\n",
              "    }\n",
              "\n",
              "    .dataframe tbody tr th {\n",
              "        vertical-align: top;\n",
              "    }\n",
              "\n",
              "    .dataframe thead th {\n",
              "        text-align: right;\n",
              "    }\n",
              "</style>\n",
              "<table border=\"1\" class=\"dataframe\">\n",
              "  <thead>\n",
              "    <tr style=\"text-align: right;\">\n",
              "      <th></th>\n",
              "      <th>Label</th>\n",
              "      <th>Statement</th>\n",
              "    </tr>\n",
              "  </thead>\n",
              "  <tbody>\n",
              "    <tr>\n",
              "      <th>0</th>\n",
              "      <td>barely-true</td>\n",
              "      <td>We have less Americans working now than in the...</td>\n",
              "    </tr>\n",
              "    <tr>\n",
              "      <th>1</th>\n",
              "      <td>pants-fire</td>\n",
              "      <td>When Obama was sworn into office, he DID NOT u...</td>\n",
              "    </tr>\n",
              "    <tr>\n",
              "      <th>2</th>\n",
              "      <td>false</td>\n",
              "      <td>Says Having organizations parading as being so...</td>\n",
              "    </tr>\n",
              "    <tr>\n",
              "      <th>3</th>\n",
              "      <td>half-true</td>\n",
              "      <td>Says nearly half of Oregons children are poor.</td>\n",
              "    </tr>\n",
              "    <tr>\n",
              "      <th>4</th>\n",
              "      <td>half-true</td>\n",
              "      <td>On attacks by Republicans that various program...</td>\n",
              "    </tr>\n",
              "  </tbody>\n",
              "</table>\n",
              "</div>\n",
              "      <button class=\"colab-df-convert\" onclick=\"convertToInteractive('df-edf2c1a2-0efa-454b-aca6-26ee7f5ee35e')\"\n",
              "              title=\"Convert this dataframe to an interactive table.\"\n",
              "              style=\"display:none;\">\n",
              "        \n",
              "  <svg xmlns=\"http://www.w3.org/2000/svg\" height=\"24px\"viewBox=\"0 0 24 24\"\n",
              "       width=\"24px\">\n",
              "    <path d=\"M0 0h24v24H0V0z\" fill=\"none\"/>\n",
              "    <path d=\"M18.56 5.44l.94 2.06.94-2.06 2.06-.94-2.06-.94-.94-2.06-.94 2.06-2.06.94zm-11 1L8.5 8.5l.94-2.06 2.06-.94-2.06-.94L8.5 2.5l-.94 2.06-2.06.94zm10 10l.94 2.06.94-2.06 2.06-.94-2.06-.94-.94-2.06-.94 2.06-2.06.94z\"/><path d=\"M17.41 7.96l-1.37-1.37c-.4-.4-.92-.59-1.43-.59-.52 0-1.04.2-1.43.59L10.3 9.45l-7.72 7.72c-.78.78-.78 2.05 0 2.83L4 21.41c.39.39.9.59 1.41.59.51 0 1.02-.2 1.41-.59l7.78-7.78 2.81-2.81c.8-.78.8-2.07 0-2.86zM5.41 20L4 18.59l7.72-7.72 1.47 1.35L5.41 20z\"/>\n",
              "  </svg>\n",
              "      </button>\n",
              "      \n",
              "  <style>\n",
              "    .colab-df-container {\n",
              "      display:flex;\n",
              "      flex-wrap:wrap;\n",
              "      gap: 12px;\n",
              "    }\n",
              "\n",
              "    .colab-df-convert {\n",
              "      background-color: #E8F0FE;\n",
              "      border: none;\n",
              "      border-radius: 50%;\n",
              "      cursor: pointer;\n",
              "      display: none;\n",
              "      fill: #1967D2;\n",
              "      height: 32px;\n",
              "      padding: 0 0 0 0;\n",
              "      width: 32px;\n",
              "    }\n",
              "\n",
              "    .colab-df-convert:hover {\n",
              "      background-color: #E2EBFA;\n",
              "      box-shadow: 0px 1px 2px rgba(60, 64, 67, 0.3), 0px 1px 3px 1px rgba(60, 64, 67, 0.15);\n",
              "      fill: #174EA6;\n",
              "    }\n",
              "\n",
              "    [theme=dark] .colab-df-convert {\n",
              "      background-color: #3B4455;\n",
              "      fill: #D2E3FC;\n",
              "    }\n",
              "\n",
              "    [theme=dark] .colab-df-convert:hover {\n",
              "      background-color: #434B5C;\n",
              "      box-shadow: 0px 1px 3px 1px rgba(0, 0, 0, 0.15);\n",
              "      filter: drop-shadow(0px 1px 2px rgba(0, 0, 0, 0.3));\n",
              "      fill: #FFFFFF;\n",
              "    }\n",
              "  </style>\n",
              "\n",
              "      <script>\n",
              "        const buttonEl =\n",
              "          document.querySelector('#df-edf2c1a2-0efa-454b-aca6-26ee7f5ee35e button.colab-df-convert');\n",
              "        buttonEl.style.display =\n",
              "          google.colab.kernel.accessAllowed ? 'block' : 'none';\n",
              "\n",
              "        async function convertToInteractive(key) {\n",
              "          const element = document.querySelector('#df-edf2c1a2-0efa-454b-aca6-26ee7f5ee35e');\n",
              "          const dataTable =\n",
              "            await google.colab.kernel.invokeFunction('convertToInteractive',\n",
              "                                                     [key], {});\n",
              "          if (!dataTable) return;\n",
              "\n",
              "          const docLinkHtml = 'Like what you see? Visit the ' +\n",
              "            '<a target=\"_blank\" href=https://colab.research.google.com/notebooks/data_table.ipynb>data table notebook</a>'\n",
              "            + ' to learn more about interactive tables.';\n",
              "          element.innerHTML = '';\n",
              "          dataTable['output_type'] = 'display_data';\n",
              "          await google.colab.output.renderOutput(dataTable, element);\n",
              "          const docLink = document.createElement('div');\n",
              "          docLink.innerHTML = docLinkHtml;\n",
              "          element.appendChild(docLink);\n",
              "        }\n",
              "      </script>\n",
              "    </div>\n",
              "  </div>\n",
              "  "
            ]
          },
          "metadata": {},
          "execution_count": 158
        }
      ]
    },
    {
      "cell_type": "code",
      "source": [
        "df_valid['category'] = df_valid['Label'].apply(map_label)\n",
        "df_valid['category'].unique()"
      ],
      "metadata": {
        "colab": {
          "base_uri": "https://localhost:8080/"
        },
        "outputId": "a6d570d7-b282-477c-ece4-29a4001a8483",
        "id": "vSinR8QsmR8x"
      },
      "execution_count": null,
      "outputs": [
        {
          "output_type": "execute_result",
          "data": {
            "text/plain": [
              "array([0, 1])"
            ]
          },
          "metadata": {},
          "execution_count": 159
        }
      ]
    },
    {
      "cell_type": "code",
      "source": [
        "df_valid.isnull().sum()"
      ],
      "metadata": {
        "colab": {
          "base_uri": "https://localhost:8080/"
        },
        "outputId": "f266addc-48fd-427c-ec7d-e99d3f9f1309",
        "id": "1yaHKDlqmR8x"
      },
      "execution_count": null,
      "outputs": [
        {
          "output_type": "execute_result",
          "data": {
            "text/plain": [
              "Label        0\n",
              "Statement    0\n",
              "category     0\n",
              "dtype: int64"
            ]
          },
          "metadata": {},
          "execution_count": 160
        }
      ]
    },
    {
      "cell_type": "code",
      "source": [
        "ros = RandomUnderSampler(random_state=42)\n",
        "df_valid, df_valid['category'] = ros.fit_resample(df_valid, df_valid['category'])"
      ],
      "metadata": {
        "id": "fDgAk7LTBkze"
      },
      "execution_count": null,
      "outputs": []
    },
    {
      "cell_type": "markdown",
      "source": [
        "## DistilBERT train"
      ],
      "metadata": {
        "id": "Y0MnRWhnnVtQ"
      }
    },
    {
      "cell_type": "code",
      "source": [
        "tokenizer_distil = DistilBertTokenizer.from_pretrained('distilbert-base-uncased',padding=True, truncation=True, return_tensors='tf',add_special_tokens=True)\n",
        "model_distil = TFDistilBertForSequenceClassification.from_pretrained('distilbert-base-uncased',num_labels=2,output_hidden_states=True)\n",
        "\n",
        "#model_distil.trainable = False\n",
        "for layer in model_distil.layers[:-2]:\n",
        "    layer.trainable = False"
      ],
      "metadata": {
        "colab": {
          "base_uri": "https://localhost:8080/"
        },
        "outputId": "f74aaf27-18d3-4f70-8701-09615c728fe8",
        "id": "KYvyu-ognZSP"
      },
      "execution_count": null,
      "outputs": [
        {
          "output_type": "stream",
          "name": "stderr",
          "text": [
            "Some layers from the model checkpoint at distilbert-base-uncased were not used when initializing TFDistilBertForSequenceClassification: ['vocab_transform', 'vocab_layer_norm', 'vocab_projector', 'activation_13']\n",
            "- This IS expected if you are initializing TFDistilBertForSequenceClassification from the checkpoint of a model trained on another task or with another architecture (e.g. initializing a BertForSequenceClassification model from a BertForPreTraining model).\n",
            "- This IS NOT expected if you are initializing TFDistilBertForSequenceClassification from the checkpoint of a model that you expect to be exactly identical (initializing a BertForSequenceClassification model from a BertForSequenceClassification model).\n",
            "Some layers of TFDistilBertForSequenceClassification were not initialized from the model checkpoint at distilbert-base-uncased and are newly initialized: ['classifier', 'dropout_103', 'pre_classifier']\n",
            "You should probably TRAIN this model on a down-stream task to be able to use it for predictions and inference.\n"
          ]
        }
      ]
    },
    {
      "cell_type": "code",
      "source": [
        "def get_embeddings(texts):\n",
        "    encoded = tokenizer_distil(\n",
        "      texts,\n",
        "      add_special_tokens=True,\n",
        "      padding=True,\n",
        "      truncation=True,\n",
        "      max_length=512,\n",
        "      return_tensors=\"tf\"\n",
        "    )\n",
        "    outputs = model_distil(encoded)\n",
        "    embeddings = outputs.hidden_states[-1]\n",
        "    avg_embeddings = tf.reduce_mean(embeddings, axis=1)\n",
        "    return avg_embeddings"
      ],
      "metadata": {
        "id": "wUk9k4IgnZSQ"
      },
      "execution_count": null,
      "outputs": []
    },
    {
      "cell_type": "code",
      "source": [
        "df_train['Statement'] = df_train['Statement'].astype(str)\n",
        "df_test['Statement'] = df_test['Statement'].astype(str)\n",
        "df_valid['Statement'] = df_valid['Statement'].astype(str)"
      ],
      "metadata": {
        "id": "TQIQpoUon1X3"
      },
      "execution_count": null,
      "outputs": []
    },
    {
      "cell_type": "code",
      "source": [
        "train_encodings = tokenizer_distil(df_train['Statement'].tolist(), truncation = True, padding = True  )\n",
        "\n",
        "val_encodings = tokenizer_distil(df_valid['Statement'].tolist(), truncation = True, padding = True )\n",
        "\n",
        "test_encodings = tokenizer_distil(df_test['Statement'].tolist(), truncation = True, padding = True  )\n"
      ],
      "metadata": {
        "id": "wojrrIVGn1X4"
      },
      "execution_count": null,
      "outputs": []
    },
    {
      "cell_type": "code",
      "source": [
        "train_dataset = tf.data.Dataset.from_tensor_slices((\n",
        "    dict(train_encodings),\n",
        "    df_train['category'].tolist()\n",
        "))\n",
        "\n",
        "\n",
        "val_dataset = tf.data.Dataset.from_tensor_slices((\n",
        "    dict(val_encodings),\n",
        "    df_valid['category'].tolist()\n",
        "))\n",
        "\n",
        "test_dataset = tf.data.Dataset.from_tensor_slices((\n",
        "    dict(test_encodings),\n",
        "    df_test['category'].tolist()\n",
        "))"
      ],
      "metadata": {
        "id": "KRRcCvOnn1X4"
      },
      "execution_count": null,
      "outputs": []
    },
    {
      "cell_type": "code",
      "source": [
        "train_dataset = train_dataset.batch(2)\n",
        "val_dataset = val_dataset.batch(2)\n",
        "test_dataset = test_dataset.batch(2)"
      ],
      "metadata": {
        "id": "scEV2l8Mn1X4"
      },
      "execution_count": null,
      "outputs": []
    },
    {
      "cell_type": "code",
      "source": [
        "optimizer = optimizers.Adam(learning_rate=3e-5)\n",
        "loss = losses.SparseCategoricalCrossentropy(from_logits=True)\n",
        "model_distil.compile(optimizer=optimizer, loss=loss, metrics=['accuracy'])\n",
        "model_distil.fit(train_dataset, batch_size=2, epochs=2,validation_data=val_dataset)"
      ],
      "metadata": {
        "colab": {
          "base_uri": "https://localhost:8080/"
        },
        "outputId": "672c8ddd-a5c1-47ca-9ef9-1205c1238319",
        "id": "LcXgEbgXn1X4"
      },
      "execution_count": null,
      "outputs": [
        {
          "output_type": "stream",
          "name": "stdout",
          "text": [
            "Epoch 1/2\n",
            "1683/1683 [==============================] - 65s 34ms/step - loss: 0.5466 - accuracy: 0.7796 - val_loss: 1.3130 - val_accuracy: 0.1316\n",
            "Epoch 2/2\n",
            "1683/1683 [==============================] - 52s 31ms/step - loss: 0.6251 - accuracy: 0.6640 - val_loss: 1.3902 - val_accuracy: 0.1316\n"
          ]
        },
        {
          "output_type": "execute_result",
          "data": {
            "text/plain": [
              "<keras.callbacks.History at 0x7feea07133d0>"
            ]
          },
          "metadata": {},
          "execution_count": 167
        }
      ]
    },
    {
      "cell_type": "code",
      "source": [
        "benchmarks = model_distil.evaluate(test_dataset, return_dict=True, batch_size=2)"
      ],
      "metadata": {
        "id": "7BXSuar_n1X5",
        "colab": {
          "base_uri": "https://localhost:8080/"
        },
        "outputId": "69489181-f4cd-4033-cdbb-7703a0f65376"
      },
      "execution_count": null,
      "outputs": [
        {
          "output_type": "stream",
          "name": "stdout",
          "text": [
            "642/642 [==============================] - 18s 25ms/step - loss: 1.3481 - accuracy: 0.1645\n"
          ]
        }
      ]
    },
    {
      "cell_type": "markdown",
      "source": [
        "## train"
      ],
      "metadata": {
        "id": "Axeiqcq-oirs"
      }
    },
    {
      "cell_type": "code",
      "source": [
        "from tqdm import tqdm\n",
        "\n",
        "#εφαρμόζουme τη συνάρτηση στη στήλη με τους τίτλους\n",
        "batch_size = 1\n",
        "titles = df_train['Statement'].tolist()\n",
        "embeddings = []\n",
        "\n",
        "for i in range(0, len(titles), batch_size):\n",
        "    batch_titles = titles[i:i+batch_size]\n",
        "  \n",
        "    batch_embeddings = get_embeddings(batch_titles)\n",
        "    \n",
        "    embeddings.append(batch_embeddings)"
      ],
      "metadata": {
        "id": "MyzIRIThoirs"
      },
      "execution_count": null,
      "outputs": []
    },
    {
      "cell_type": "code",
      "source": [
        "embeddings = tf.concat(embeddings,axis=0)"
      ],
      "metadata": {
        "id": "fr4OHAVAoirs"
      },
      "execution_count": null,
      "outputs": []
    },
    {
      "cell_type": "code",
      "source": [
        "labels = df_train['category'].to_numpy()"
      ],
      "metadata": {
        "id": "0q1C_WAroirt"
      },
      "execution_count": null,
      "outputs": []
    },
    {
      "cell_type": "code",
      "source": [
        "np.save('/content/drive/MyDrive/LIAR_DATASET/embeddings_train_distilbert_bin.npy', np.array(embeddings))\n",
        "np.save('/content/drive/MyDrive/LIAR_DATASET/labels_train_distilbert_bin.npy', labels)"
      ],
      "metadata": {
        "id": "du0EmRnWoirt"
      },
      "execution_count": null,
      "outputs": []
    },
    {
      "cell_type": "markdown",
      "source": [
        "## test"
      ],
      "metadata": {
        "id": "ypCEtg4yoirt"
      }
    },
    {
      "cell_type": "code",
      "source": [
        "from tqdm import tqdm\n",
        "\n",
        "#εφαρμόζουme τη συνάρτηση στη στήλη με τους τίτλους\n",
        "batch_size = 1\n",
        "titles = df_test['Statement'].tolist()\n",
        "embeddings = []\n",
        "\n",
        "for i in range(0, len(titles), batch_size):\n",
        "    batch_titles = titles[i:i+batch_size]\n",
        "  \n",
        "    batch_embeddings = get_embeddings(batch_titles)\n",
        "    \n",
        "    embeddings.append(batch_embeddings)"
      ],
      "metadata": {
        "id": "XQY7fqVHoirt"
      },
      "execution_count": null,
      "outputs": []
    },
    {
      "cell_type": "code",
      "source": [
        "embeddings = tf.concat(embeddings,axis=0)"
      ],
      "metadata": {
        "id": "z0jU7iSioirt"
      },
      "execution_count": null,
      "outputs": []
    },
    {
      "cell_type": "code",
      "source": [
        "labels = df_test['category'].to_numpy()"
      ],
      "metadata": {
        "id": "U-bblzvWoirt"
      },
      "execution_count": null,
      "outputs": []
    },
    {
      "cell_type": "code",
      "source": [
        "np.save('/content/drive/MyDrive/LIAR_DATASET/embeddings_test_distilbert_bin.npy', np.array(embeddings))\n",
        "np.save('/content/drive/MyDrive/LIAR_DATASET/labels_test_distilbert_bin.npy', labels)"
      ],
      "metadata": {
        "id": "HNNW5Sugoiru"
      },
      "execution_count": null,
      "outputs": []
    },
    {
      "cell_type": "markdown",
      "source": [
        "## valid"
      ],
      "metadata": {
        "id": "dWi51MJaoiru"
      }
    },
    {
      "cell_type": "code",
      "source": [
        "from tqdm import tqdm\n",
        "\n",
        "#εφαρμόζουme τη συνάρτηση στη στήλη με τους τίτλους\n",
        "batch_size = 1\n",
        "titles = df_valid['Statement'].tolist()\n",
        "embeddings = []\n",
        "\n",
        "for i in range(0, len(titles), batch_size):\n",
        "    batch_titles = titles[i:i+batch_size]\n",
        "  \n",
        "    batch_embeddings = get_embeddings(batch_titles)\n",
        "    \n",
        "    embeddings.append(batch_embeddings)"
      ],
      "metadata": {
        "id": "gM-T7WVkoiru"
      },
      "execution_count": null,
      "outputs": []
    },
    {
      "cell_type": "code",
      "source": [
        "embeddings = tf.concat(embeddings,axis=0)"
      ],
      "metadata": {
        "id": "3PDonWWUoiru"
      },
      "execution_count": null,
      "outputs": []
    },
    {
      "cell_type": "code",
      "source": [
        "labels = df_valid['category'].to_numpy()"
      ],
      "metadata": {
        "id": "gD8lJ6KWoiru"
      },
      "execution_count": null,
      "outputs": []
    },
    {
      "cell_type": "code",
      "source": [
        "np.save('/content/drive/MyDrive/LIAR_DATASET/embeddings_valid_distilbert_bin.npy', np.array(embeddings))\n",
        "np.save('/content/drive/MyDrive/LIAR_DATASET/labels_valid_distilbert_bin.npy', labels)"
      ],
      "metadata": {
        "id": "HdERQc8coiru"
      },
      "execution_count": null,
      "outputs": []
    },
    {
      "cell_type": "markdown",
      "source": [
        "# **CNN - Binary**"
      ],
      "metadata": {
        "id": "_Q8_iycKrAXH"
      }
    },
    {
      "cell_type": "code",
      "execution_count": null,
      "metadata": {
        "id": "csAvYQ_-rFrV"
      },
      "outputs": [],
      "source": [
        "#εισάγουμε τα δεδομένα από τ' αποθηκευμένα αρχεία που δημιουργήσαμε νωρίτερα\n",
        "train_embeddings = np.load('/content/drive/MyDrive/LIAR_DATASET/embeddings_train_distilbert_bin.npy')\n",
        "train_labels = np.load('/content/drive/MyDrive/LIAR_DATASET/labels_train_distilbert_bin.npy')"
      ]
    },
    {
      "cell_type": "code",
      "source": [
        "test_embeddings = np.load('/content/drive/MyDrive/LIAR_DATASET/embeddings_test_distilbert_bin.npy')\n",
        "test_labels = np.load('/content/drive/MyDrive/LIAR_DATASET/labels_test_distilbert_bin.npy')"
      ],
      "metadata": {
        "id": "3oVqlDnsrFrV"
      },
      "execution_count": null,
      "outputs": []
    },
    {
      "cell_type": "code",
      "source": [
        "valid_embeddings = np.load('/content/drive/MyDrive/LIAR_DATASET/embeddings_valid_distilbert_bin.npy')\n",
        "valid_labels = np.load('/content/drive/MyDrive/LIAR_DATASET/labels_valid_distilbert_bin.npy')"
      ],
      "metadata": {
        "id": "whhYRHwVrFrW"
      },
      "execution_count": null,
      "outputs": []
    },
    {
      "cell_type": "code",
      "source": [
        "train_embeddings = tf.expand_dims(train_embeddings, axis=-1)\n",
        "test_embeddings = tf.expand_dims(test_embeddings, axis=-1)\n",
        "valid_embeddings = tf.expand_dims(valid_embeddings, axis=-1)"
      ],
      "metadata": {
        "id": "u36gOP38rFrW"
      },
      "execution_count": null,
      "outputs": []
    },
    {
      "cell_type": "code",
      "source": [
        "train_embeddings.shape"
      ],
      "metadata": {
        "colab": {
          "base_uri": "https://localhost:8080/"
        },
        "outputId": "beae062b-d09b-49dc-ec44-73f753806045",
        "id": "x4HfOnWYrFrX"
      },
      "execution_count": null,
      "outputs": [
        {
          "output_type": "execute_result",
          "data": {
            "text/plain": [
              "TensorShape([3366, 768, 1])"
            ]
          },
          "metadata": {},
          "execution_count": 185
        }
      ]
    },
    {
      "cell_type": "code",
      "source": [
        "test_embeddings.shape"
      ],
      "metadata": {
        "colab": {
          "base_uri": "https://localhost:8080/"
        },
        "outputId": "6674df14-836d-4a63-fd97-e6f802076b44",
        "id": "vx5XkGfWrFrX"
      },
      "execution_count": null,
      "outputs": [
        {
          "output_type": "execute_result",
          "data": {
            "text/plain": [
              "TensorShape([1283, 768, 1])"
            ]
          },
          "metadata": {},
          "execution_count": 186
        }
      ]
    },
    {
      "cell_type": "code",
      "source": [
        "valid_embeddings.shape"
      ],
      "metadata": {
        "colab": {
          "base_uri": "https://localhost:8080/"
        },
        "outputId": "ffbd7897-a335-4503-9c12-8fe09e5f2ec1",
        "id": "mLq3eJckrFrY"
      },
      "execution_count": null,
      "outputs": [
        {
          "output_type": "execute_result",
          "data": {
            "text/plain": [
              "TensorShape([1284, 768, 1])"
            ]
          },
          "metadata": {},
          "execution_count": 187
        }
      ]
    },
    {
      "cell_type": "code",
      "execution_count": null,
      "metadata": {
        "id": "JpngY6k6rFrY"
      },
      "outputs": [],
      "source": [
        "# build the model\n",
        "model = Sequential()\n",
        "model.add(Conv1D(filters=32, kernel_size=5, activation='relu', input_shape=(768,1)))\n",
        "model.add(MaxPooling1D(pool_size=5))\n",
        "model.add(Conv1D(32, 5, activation='relu'))\n",
        "model.add(MaxPooling1D(pool_size=5))\n",
        "model.add(Conv1D(32, 5, activation='relu'))\n",
        "model.add(Flatten())\n",
        "model.add(Dense(32, activation='relu'))\n",
        "model.add(Dropout(0.5))\n",
        "model.add(Dense(1, activation='sigmoid'))"
      ]
    },
    {
      "cell_type": "code",
      "execution_count": null,
      "metadata": {
        "id": "6zEfIRQ0rFrY"
      },
      "outputs": [],
      "source": [
        "model.compile(loss='binary_crossentropy', optimizer='adam', metrics=['accuracy'])"
      ]
    },
    {
      "cell_type": "code",
      "source": [
        "history1 = model.fit(train_embeddings, train_labels, epochs=10, batch_size=4,validation_data=(valid_embeddings, valid_labels))"
      ],
      "metadata": {
        "colab": {
          "base_uri": "https://localhost:8080/"
        },
        "outputId": "b51cdfd4-72cf-4704-b052-1b1de1936e03",
        "id": "MLqtBDWurFrZ"
      },
      "execution_count": null,
      "outputs": [
        {
          "output_type": "stream",
          "name": "stdout",
          "text": [
            "Epoch 1/10\n",
            "842/842 [==============================] - 9s 11ms/step - loss: 0.6613 - accuracy: 0.6010 - val_loss: 0.7292 - val_accuracy: 0.4821\n",
            "Epoch 2/10\n",
            "842/842 [==============================] - 8s 10ms/step - loss: 0.6457 - accuracy: 0.6257 - val_loss: 0.6933 - val_accuracy: 0.5849\n",
            "Epoch 3/10\n",
            "842/842 [==============================] - 7s 8ms/step - loss: 0.6336 - accuracy: 0.6527 - val_loss: 0.7313 - val_accuracy: 0.5545\n",
            "Epoch 4/10\n",
            "842/842 [==============================] - 6s 7ms/step - loss: 0.6222 - accuracy: 0.6533 - val_loss: 0.6715 - val_accuracy: 0.6215\n",
            "Epoch 5/10\n",
            "842/842 [==============================] - 4s 5ms/step - loss: 0.6100 - accuracy: 0.6702 - val_loss: 0.6818 - val_accuracy: 0.6417\n",
            "Epoch 6/10\n",
            "842/842 [==============================] - 5s 7ms/step - loss: 0.5993 - accuracy: 0.6744 - val_loss: 0.7774 - val_accuracy: 0.5537\n",
            "Epoch 7/10\n",
            "842/842 [==============================] - 5s 6ms/step - loss: 0.5843 - accuracy: 0.6928 - val_loss: 0.6946 - val_accuracy: 0.5810\n",
            "Epoch 8/10\n",
            "842/842 [==============================] - 6s 7ms/step - loss: 0.5754 - accuracy: 0.7041 - val_loss: 0.6086 - val_accuracy: 0.7212\n",
            "Epoch 9/10\n",
            "842/842 [==============================] - 6s 8ms/step - loss: 0.5610 - accuracy: 0.7139 - val_loss: 0.8175 - val_accuracy: 0.5592\n",
            "Epoch 10/10\n",
            "842/842 [==============================] - 5s 6ms/step - loss: 0.5544 - accuracy: 0.7175 - val_loss: 0.7041 - val_accuracy: 0.6620\n"
          ]
        }
      ]
    },
    {
      "cell_type": "code",
      "execution_count": null,
      "metadata": {
        "colab": {
          "base_uri": "https://localhost:8080/"
        },
        "outputId": "a1036138-748c-498d-d195-e4b26f714fb8",
        "id": "XnQTn-74rbiL"
      },
      "outputs": [
        {
          "output_type": "stream",
          "name": "stdout",
          "text": [
            "41/41 [==============================] - 0s 3ms/step - loss: 0.6995 - accuracy: 0.6547\n",
            "41/41 [==============================] - 0s 2ms/step\n",
            "Test Accuracy: 0.6547155380249023\n",
            "Test F1 Score: 0.30236220472440944\n",
            "Test Recall: 0.4549763033175355\n",
            "Precision: 0.22641509433962265\n"
          ]
        }
      ],
      "source": [
        "test_loss, test_acc = model.evaluate(test_embeddings, test_labels)\n",
        "\n",
        "y_pred = model.predict(test_embeddings)\n",
        "y_pred = (y_pred > 0.5).astype('int32')\n",
        "\n",
        "f1 = f1_score(test_labels, y_pred)\n",
        "recall = recall_score(test_labels, y_pred)\n",
        "precision = precision_score(test_labels, y_pred)\n",
        "\n",
        "#accuraccy \n",
        "print(\"Test Accuracy:\", test_acc)\n",
        "#f1-score\n",
        "print(\"Test F1 Score:\", f1)\n",
        "#recall\n",
        "print(\"Test Recall:\", recall)\n",
        "#precision\n",
        "print(\"Precision:\", precision)"
      ]
    },
    {
      "cell_type": "code",
      "execution_count": null,
      "metadata": {
        "colab": {
          "base_uri": "https://localhost:8080/"
        },
        "outputId": "3984b474-feaf-43e5-a201-9f4548396d37",
        "id": "-PjMhTP7rbiL"
      },
      "outputs": [
        {
          "output_type": "stream",
          "name": "stdout",
          "text": [
            "Model: \"sequential_11\"\n",
            "_________________________________________________________________\n",
            " Layer (type)                Output Shape              Param #   \n",
            "=================================================================\n",
            " conv1d_41 (Conv1D)          (None, 764, 32)           192       \n",
            "                                                                 \n",
            " max_pooling1d_30 (MaxPoolin  (None, 152, 32)          0         \n",
            " g1D)                                                            \n",
            "                                                                 \n",
            " conv1d_42 (Conv1D)          (None, 148, 32)           5152      \n",
            "                                                                 \n",
            " max_pooling1d_31 (MaxPoolin  (None, 29, 32)           0         \n",
            " g1D)                                                            \n",
            "                                                                 \n",
            " conv1d_43 (Conv1D)          (None, 25, 32)            5152      \n",
            "                                                                 \n",
            " flatten_13 (Flatten)        (None, 800)               0         \n",
            "                                                                 \n",
            " dense_28 (Dense)            (None, 32)                25632     \n",
            "                                                                 \n",
            " dropout_117 (Dropout)       (None, 32)                0         \n",
            "                                                                 \n",
            " dense_29 (Dense)            (None, 1)                 33        \n",
            "                                                                 \n",
            "=================================================================\n",
            "Total params: 36,161\n",
            "Trainable params: 36,161\n",
            "Non-trainable params: 0\n",
            "_________________________________________________________________\n"
          ]
        }
      ],
      "source": [
        "#λεπτομέρειες για τη δομή του μοντέλου\n",
        "model.summary()"
      ]
    },
    {
      "cell_type": "code",
      "source": [
        "y_pred = model.predict(test_embeddings)\n",
        "y_pred = (y_pred > 0.5).astype(int)\n",
        "cm = confusion_matrix(test_labels, y_pred)\n",
        "print(cm)"
      ],
      "metadata": {
        "colab": {
          "base_uri": "https://localhost:8080/"
        },
        "outputId": "fc9e630e-d73d-431a-9941-e83352498c67",
        "id": "hueAbO6MrbiM"
      },
      "execution_count": null,
      "outputs": [
        {
          "output_type": "stream",
          "name": "stdout",
          "text": [
            "41/41 [==============================] - 0s 2ms/step\n",
            "[[744 328]\n",
            " [115  96]]\n"
          ]
        }
      ]
    },
    {
      "cell_type": "code",
      "execution_count": null,
      "metadata": {
        "id": "Ejab8dSrrbiM"
      },
      "outputs": [],
      "source": [
        "from sklearn.metrics import classification_report, confusion_matrix\n",
        "def plot_history(history,model):\n",
        "   # Plot training and validation loss\n",
        "    sns.lineplot(x=history.epoch, y=history.history['loss'], label='train')\n",
        "    sns.lineplot(x=history.epoch, y=history.history['val_loss'], label='val')\n",
        "    plt.title('Model Loss')\n",
        "    plt.ylabel('Loss')\n",
        "    plt.xlabel('Epoch')\n",
        "    plt.legend(loc='upper right')\n",
        "    plt.show()\n",
        "    \n",
        "    # Plot training and validation accuracy\n",
        "    sns.lineplot(x=history.epoch, y=history.history['accuracy'], label='train')\n",
        "    sns.lineplot(x=history.epoch, y=history.history['val_accuracy'], label='val')\n",
        "    plt.title('Model Accuracy')\n",
        "    plt.ylabel('Accuracy')\n",
        "    plt.xlabel('Epoch')\n",
        "    plt.legend(loc='lower right')\n",
        "    plt.show()\n",
        "\n",
        "    y_pred = model.predict(test_embeddings)\n",
        "    y_pred = (y_pred > 0.5).astype(int)\n",
        "    cm = confusion_matrix(test_labels, y_pred)\n",
        "    sns.heatmap(cm, annot=True, cmap='Blues', fmt='g', cbar=False)\n",
        "    plt.xlabel('Predicted labels')\n",
        "    plt.ylabel('True labels')\n",
        "    plt.title('Confusion matrix')\n",
        "    plt.show()\n",
        "    \n",
        "    # Print the classification report\n",
        "    print(classification_report(test_labels, y_pred))"
      ]
    },
    {
      "cell_type": "code",
      "execution_count": null,
      "metadata": {
        "colab": {
          "base_uri": "https://localhost:8080/",
          "height": 1000
        },
        "outputId": "dc0400e9-c5b4-4822-e3e8-b3f5692c8f26",
        "id": "VtV2KyrCrbiM"
      },
      "outputs": [
        {
          "output_type": "display_data",
          "data": {
            "text/plain": [
              "<Figure size 640x480 with 1 Axes>"
            ],
            "image/png": "[encoded data removed]"
          },
          "metadata": {}
        },
        {
          "output_type": "display_data",
          "data": {
            "text/plain": [
              "<Figure size 640x480 with 1 Axes>"
            ],
            "image/png": "[encoded data removed]"
          },
          "metadata": {}
        },
        {
          "output_type": "stream",
          "name": "stdout",
          "text": [
            "41/41 [==============================] - 0s 2ms/step\n"
          ]
        },
        {
          "output_type": "display_data",
          "data": {
            "text/plain": [
              "<Figure size 640x480 with 1 Axes>"
            ],
            "image/png": "[encoded data removed]"
          },
          "metadata": {}
        },
        {
          "output_type": "stream",
          "name": "stdout",
          "text": [
            "              precision    recall  f1-score   support\n",
            "\n",
            "           0       0.87      0.69      0.77      1072\n",
            "           1       0.23      0.45      0.30       211\n",
            "\n",
            "    accuracy                           0.65      1283\n",
            "   macro avg       0.55      0.57      0.54      1283\n",
            "weighted avg       0.76      0.65      0.69      1283\n",
            "\n"
          ]
        }
      ],
      "source": [
        "plot_history(history1,model)"
      ]
    },
    {
      "cell_type": "markdown",
      "metadata": {
        "id": "q3KfcfJYmedf"
      },
      "source": [
        "# **LSTM - Binary**"
      ]
    },
    {
      "cell_type": "code",
      "execution_count": null,
      "metadata": {
        "id": "dlcCXxxh1uB2"
      },
      "outputs": [],
      "source": [
        "model2 = Sequential()\n",
        "model2.add(Conv1D(64, 5, activation='relu', input_shape=(768, 1)))\n",
        "model2.add(MaxPooling1D(pool_size=2))\n",
        "model2.add(Conv1D(64, 5, activation='relu'))\n",
        "model2.add(MaxPooling1D(pool_size=2))\n",
        "model2.add(Conv1D(64, 5, activation='relu'))\n",
        "model2.add(LSTM(64, return_sequences=True))\n",
        "model2.add(Dropout(0.2))\n",
        "model2.add(BatchNormalization())\n",
        "model2.add(Dense(64, activation='relu', kernel_regularizer='l2'))\n",
        "model2.add(Dropout(0.2))\n",
        "model2.add(Flatten())\n",
        "model2.add(Dense(1, activation='sigmoid'))"
      ]
    },
    {
      "cell_type": "code",
      "execution_count": null,
      "metadata": {
        "id": "1rclcXkK1uB3"
      },
      "outputs": [],
      "source": [
        "model2.compile(loss='binary_crossentropy', optimizer='adam', metrics=['accuracy'])"
      ]
    },
    {
      "cell_type": "code",
      "execution_count": null,
      "metadata": {
        "colab": {
          "base_uri": "https://localhost:8080/"
        },
        "id": "7XQoetmH1uB3",
        "outputId": "0399b820-cac5-4e2b-9503-b2bfc8df27d8"
      },
      "outputs": [
        {
          "output_type": "stream",
          "name": "stdout",
          "text": [
            "Epoch 1/10\n",
            "211/211 [==============================] - 7s 16ms/step - loss: 1.0439 - accuracy: 0.5140 - val_loss: 0.8269 - val_accuracy: 0.8161\n",
            "Epoch 2/10\n",
            "211/211 [==============================] - 4s 17ms/step - loss: 0.7600 - accuracy: 0.5395 - val_loss: 0.6959 - val_accuracy: 0.8309\n",
            "Epoch 3/10\n",
            "211/211 [==============================] - 3s 14ms/step - loss: 0.6983 - accuracy: 0.5597 - val_loss: 0.6066 - val_accuracy: 0.7973\n",
            "Epoch 4/10\n",
            "211/211 [==============================] - 3s 12ms/step - loss: 0.6822 - accuracy: 0.5683 - val_loss: 0.6658 - val_accuracy: 0.6383\n",
            "Epoch 5/10\n",
            "211/211 [==============================] - 3s 12ms/step - loss: 0.6785 - accuracy: 0.5856 - val_loss: 0.8815 - val_accuracy: 0.2876\n",
            "Epoch 6/10\n",
            "211/211 [==============================] - 2s 12ms/step - loss: 0.6740 - accuracy: 0.5841 - val_loss: 0.6626 - val_accuracy: 0.6274\n",
            "Epoch 7/10\n",
            "211/211 [==============================] - 3s 16ms/step - loss: 0.6639 - accuracy: 0.6102 - val_loss: 0.6004 - val_accuracy: 0.7093\n",
            "Epoch 8/10\n",
            "211/211 [==============================] - 3s 14ms/step - loss: 0.6582 - accuracy: 0.6191 - val_loss: 0.7808 - val_accuracy: 0.3920\n",
            "Epoch 9/10\n",
            "211/211 [==============================] - 2s 12ms/step - loss: 0.6508 - accuracy: 0.6227 - val_loss: 0.6388 - val_accuracy: 0.6485\n",
            "Epoch 10/10\n",
            "211/211 [==============================] - 2s 12ms/step - loss: 0.6460 - accuracy: 0.6310 - val_loss: 0.8672 - val_accuracy: 0.4435\n"
          ]
        }
      ],
      "source": [
        "history2 = model2.fit(train_embeddings, train_labels, epochs=10, batch_size=16, validation_data=(test_embeddings, test_labels))"
      ]
    },
    {
      "cell_type": "code",
      "execution_count": null,
      "metadata": {
        "colab": {
          "base_uri": "https://localhost:8080/"
        },
        "id": "5-YYrOCGpc-k",
        "outputId": "d57b1dfb-77f5-4cff-d04f-72c61f16ac90"
      },
      "outputs": [
        {
          "output_type": "stream",
          "name": "stdout",
          "text": [
            "41/41 - 0s - loss: 0.8672 - accuracy: 0.4435 - 332ms/epoch - 8ms/step\n",
            "41/41 [==============================] - 1s 6ms/step\n",
            "Test Accuracy: 0.4434918165206909\n",
            "Test F1 Score: 0.3276836158192091\n",
            "Test Recall: 0.8246445497630331\n",
            "Precision: 0.2044653349001175\n"
          ]
        }
      ],
      "source": [
        "test_loss, test_acc = model2.evaluate(test_embeddings, test_labels, verbose=2)\n",
        "\n",
        "y_pred = model2.predict(test_embeddings)\n",
        "y_pred = (y_pred > 0.5).astype('int32')\n",
        "\n",
        "f1 = f1_score(test_labels, y_pred)\n",
        "recall = recall_score(test_labels, y_pred)\n",
        "precision = precision_score(test_labels, y_pred)\n",
        "\n",
        "print(\"Test Accuracy:\", test_acc)\n",
        "print(\"Test F1 Score:\", f1)\n",
        "print(\"Test Recall:\", recall)\n",
        "print(\"Precision:\", precision)"
      ]
    },
    {
      "cell_type": "code",
      "execution_count": null,
      "metadata": {
        "colab": {
          "base_uri": "https://localhost:8080/"
        },
        "id": "iaUS-5ebBV94",
        "outputId": "4726d10c-9fdc-4f4e-b645-73c9ab68fb1f"
      },
      "outputs": [
        {
          "output_type": "stream",
          "name": "stdout",
          "text": [
            "Model: \"sequential_12\"\n",
            "_________________________________________________________________\n",
            " Layer (type)                Output Shape              Param #   \n",
            "=================================================================\n",
            " conv1d_44 (Conv1D)          (None, 764, 64)           384       \n",
            "                                                                 \n",
            " max_pooling1d_32 (MaxPoolin  (None, 382, 64)          0         \n",
            " g1D)                                                            \n",
            "                                                                 \n",
            " conv1d_45 (Conv1D)          (None, 378, 64)           20544     \n",
            "                                                                 \n",
            " max_pooling1d_33 (MaxPoolin  (None, 189, 64)          0         \n",
            " g1D)                                                            \n",
            "                                                                 \n",
            " conv1d_46 (Conv1D)          (None, 185, 64)           20544     \n",
            "                                                                 \n",
            " lstm_2 (LSTM)               (None, 185, 64)           33024     \n",
            "                                                                 \n",
            " dropout_118 (Dropout)       (None, 185, 64)           0         \n",
            "                                                                 \n",
            " batch_normalization_2 (Batc  (None, 185, 64)          256       \n",
            " hNormalization)                                                 \n",
            "                                                                 \n",
            " dense_30 (Dense)            (None, 185, 64)           4160      \n",
            "                                                                 \n",
            " dropout_119 (Dropout)       (None, 185, 64)           0         \n",
            "                                                                 \n",
            " flatten_14 (Flatten)        (None, 11840)             0         \n",
            "                                                                 \n",
            " dense_31 (Dense)            (None, 1)                 11841     \n",
            "                                                                 \n",
            "=================================================================\n",
            "Total params: 90,753\n",
            "Trainable params: 90,625\n",
            "Non-trainable params: 128\n",
            "_________________________________________________________________\n"
          ]
        }
      ],
      "source": [
        "model2.summary()"
      ]
    },
    {
      "cell_type": "code",
      "execution_count": null,
      "metadata": {
        "id": "8UjR7COE3jf0"
      },
      "outputs": [],
      "source": [
        "model2.save('lstm_base.h5')"
      ]
    },
    {
      "cell_type": "code",
      "execution_count": null,
      "metadata": {
        "colab": {
          "base_uri": "https://localhost:8080/",
          "height": 1000
        },
        "id": "d3KHiJvbo1bc",
        "outputId": "4d16af2e-1aef-42c9-f533-1fe7446e9816"
      },
      "outputs": [
        {
          "output_type": "display_data",
          "data": {
            "text/plain": [
              "<Figure size 640x480 with 1 Axes>"
            ],
            "image/png": "[encoded data removed]"
          },
          "metadata": {}
        },
        {
          "output_type": "display_data",
          "data": {
            "text/plain": [
              "<Figure size 640x480 with 1 Axes>"
            ],
            "image/png": "[encoded data removed]"
          },
          "metadata": {}
        },
        {
          "output_type": "stream",
          "name": "stdout",
          "text": [
            "41/41 [==============================] - 0s 5ms/step\n"
          ]
        },
        {
          "output_type": "display_data",
          "data": {
            "text/plain": [
              "<Figure size 640x480 with 1 Axes>"
            ],
            "image/png": "[encoded data removed]"
          },
          "metadata": {}
        },
        {
          "output_type": "stream",
          "name": "stdout",
          "text": [
            "              precision    recall  f1-score   support\n",
            "\n",
            "           0       0.91      0.37      0.53      1072\n",
            "           1       0.20      0.82      0.33       211\n",
            "\n",
            "    accuracy                           0.44      1283\n",
            "   macro avg       0.56      0.60      0.43      1283\n",
            "weighted avg       0.80      0.44      0.49      1283\n",
            "\n"
          ]
        }
      ],
      "source": [
        "plot_history(history2,model2)"
      ]
    },
    {
      "cell_type": "markdown",
      "metadata": {
        "id": "W5JGTA1HClWd"
      },
      "source": [
        "# **FakeBert - Binary**"
      ]
    },
    {
      "cell_type": "code",
      "execution_count": null,
      "metadata": {
        "id": "JsolXXxw7CdF"
      },
      "outputs": [],
      "source": [
        "inputs = Input(shape=(768, 1))\n",
        "conv1 = Conv1D(32, 3, activation='relu', padding='same')(inputs)\n",
        "maxpool1 = MaxPooling1D(pool_size=2)(conv1)\n",
        "conv2 = Conv1D(32, 4, activation='relu', padding='same')(inputs)\n",
        "maxpool2 = MaxPooling1D(pool_size=2)(conv2)\n",
        "conv3 = Conv1D(32, 5, activation='relu', padding='same')(inputs)\n",
        "maxpool3 = MaxPooling1D(pool_size=2)(conv3)\n",
        "concat = Concatenate()([maxpool1, maxpool2, maxpool3])\n",
        "conv4 = Conv1D(32, 5, activation='relu', padding='same')(concat)\n",
        "maxpool4 = MaxPooling1D(pool_size=2)(conv4)\n",
        "flatten = Flatten()(maxpool4)\n",
        "dense1 = Dense(32, activation='relu')(flatten)\n",
        "dropout1 = Dropout(0.5)(dense1)\n",
        "dense2 = Dense(16, activation='relu')(dropout1)\n",
        "dropout2 = Dropout(0.5)(dense2)\n",
        "output = Dense(1, activation='sigmoid')(dropout2)\n",
        "\n",
        "model3 = Model(inputs=inputs, outputs=output)"
      ]
    },
    {
      "cell_type": "code",
      "execution_count": null,
      "metadata": {
        "id": "1jUX1mul86A-"
      },
      "outputs": [],
      "source": [
        "model3.compile(loss='binary_crossentropy', optimizer='adam', metrics=['accuracy'])"
      ]
    },
    {
      "cell_type": "code",
      "execution_count": null,
      "metadata": {
        "colab": {
          "base_uri": "https://localhost:8080/"
        },
        "id": "9LKHPjsu86BN",
        "outputId": "a62f8fa5-28b5-42dd-c1bf-d4873232c9ab"
      },
      "outputs": [
        {
          "output_type": "stream",
          "name": "stdout",
          "text": [
            "Epoch 1/10\n",
            "211/211 [==============================] - 7s 8ms/step - loss: 0.6951 - accuracy: 0.4890 - val_loss: 0.6828 - val_accuracy: 0.8355\n",
            "Epoch 2/10\n",
            "211/211 [==============================] - 1s 6ms/step - loss: 0.6937 - accuracy: 0.4938 - val_loss: 0.6913 - val_accuracy: 0.8215\n",
            "Epoch 3/10\n",
            "211/211 [==============================] - 1s 7ms/step - loss: 0.6934 - accuracy: 0.4804 - val_loss: 0.6947 - val_accuracy: 0.2237\n",
            "Epoch 4/10\n",
            "211/211 [==============================] - 1s 6ms/step - loss: 0.6930 - accuracy: 0.5152 - val_loss: 0.7081 - val_accuracy: 0.3811\n",
            "Epoch 5/10\n",
            "211/211 [==============================] - 1s 6ms/step - loss: 0.6914 - accuracy: 0.5205 - val_loss: 0.6961 - val_accuracy: 0.4770\n",
            "Epoch 6/10\n",
            "211/211 [==============================] - 1s 7ms/step - loss: 0.6898 - accuracy: 0.5401 - val_loss: 0.6798 - val_accuracy: 0.7116\n",
            "Epoch 7/10\n",
            "211/211 [==============================] - 2s 7ms/step - loss: 0.6851 - accuracy: 0.5564 - val_loss: 0.6803 - val_accuracy: 0.6820\n",
            "Epoch 8/10\n",
            "211/211 [==============================] - 2s 8ms/step - loss: 0.6862 - accuracy: 0.5443 - val_loss: 0.7073 - val_accuracy: 0.4957\n",
            "Epoch 9/10\n",
            "211/211 [==============================] - 2s 9ms/step - loss: 0.6814 - accuracy: 0.5612 - val_loss: 0.7038 - val_accuracy: 0.5331\n",
            "Epoch 10/10\n",
            "211/211 [==============================] - 1s 7ms/step - loss: 0.6785 - accuracy: 0.5707 - val_loss: 0.6564 - val_accuracy: 0.7147\n"
          ]
        }
      ],
      "source": [
        "history3 = model3.fit(train_embeddings, train_labels, epochs=10, batch_size=16, validation_data=(test_embeddings, test_labels))"
      ]
    },
    {
      "cell_type": "code",
      "execution_count": null,
      "metadata": {
        "colab": {
          "base_uri": "https://localhost:8080/"
        },
        "id": "Z-lMNlwb86BN",
        "outputId": "8bc1e66c-915c-4057-aa11-6b8bc6a74113"
      },
      "outputs": [
        {
          "output_type": "stream",
          "name": "stdout",
          "text": [
            "41/41 - 0s - loss: 0.6564 - accuracy: 0.7147 - 206ms/epoch - 5ms/step\n",
            "41/41 [==============================] - 0s 2ms/step\n",
            "Test Accuracy: 0.7147310972213745\n",
            "Test F1 Score: 0.3272058823529412\n",
            "Test Recall: 0.4218009478672986\n",
            "Precision: 0.2672672672672673\n"
          ]
        }
      ],
      "source": [
        "test_loss, test_acc = model3.evaluate(test_embeddings, test_labels, verbose=2)\n",
        "\n",
        "y_pred = model3.predict(test_embeddings)\n",
        "y_pred = (y_pred > 0.5).astype('int32')\n",
        "\n",
        "f1 = f1_score(test_labels, y_pred)\n",
        "recall = recall_score(test_labels, y_pred)\n",
        "precision = precision_score(test_labels, y_pred)\n",
        "\n",
        "print(\"Test Accuracy:\", test_acc)\n",
        "print(\"Test F1 Score:\", f1)\n",
        "print(\"Test Recall:\", recall)\n",
        "print(\"Precision:\", precision)"
      ]
    },
    {
      "cell_type": "code",
      "execution_count": null,
      "metadata": {
        "colab": {
          "base_uri": "https://localhost:8080/"
        },
        "id": "iLUfB_1M86BN",
        "outputId": "8a0e92e5-c342-4aef-9a1b-5edcef29ef1b"
      },
      "outputs": [
        {
          "output_type": "stream",
          "name": "stdout",
          "text": [
            "Model: \"model_3\"\n",
            "__________________________________________________________________________________________________\n",
            " Layer (type)                   Output Shape         Param #     Connected to                     \n",
            "==================================================================================================\n",
            " input_4 (InputLayer)           [(None, 768, 1)]     0           []                               \n",
            "                                                                                                  \n",
            " conv1d_51 (Conv1D)             (None, 768, 32)      128         ['input_4[0][0]']                \n",
            "                                                                                                  \n",
            " conv1d_52 (Conv1D)             (None, 768, 32)      160         ['input_4[0][0]']                \n",
            "                                                                                                  \n",
            " conv1d_53 (Conv1D)             (None, 768, 32)      192         ['input_4[0][0]']                \n",
            "                                                                                                  \n",
            " max_pooling1d_38 (MaxPooling1D  (None, 384, 32)     0           ['conv1d_51[0][0]']              \n",
            " )                                                                                                \n",
            "                                                                                                  \n",
            " max_pooling1d_39 (MaxPooling1D  (None, 384, 32)     0           ['conv1d_52[0][0]']              \n",
            " )                                                                                                \n",
            "                                                                                                  \n",
            " max_pooling1d_40 (MaxPooling1D  (None, 384, 32)     0           ['conv1d_53[0][0]']              \n",
            " )                                                                                                \n",
            "                                                                                                  \n",
            " concatenate_3 (Concatenate)    (None, 384, 96)      0           ['max_pooling1d_38[0][0]',       \n",
            "                                                                  'max_pooling1d_39[0][0]',       \n",
            "                                                                  'max_pooling1d_40[0][0]']       \n",
            "                                                                                                  \n",
            " conv1d_54 (Conv1D)             (None, 384, 32)      15392       ['concatenate_3[0][0]']          \n",
            "                                                                                                  \n",
            " max_pooling1d_41 (MaxPooling1D  (None, 192, 32)     0           ['conv1d_54[0][0]']              \n",
            " )                                                                                                \n",
            "                                                                                                  \n",
            " flatten_16 (Flatten)           (None, 6144)         0           ['max_pooling1d_41[0][0]']       \n",
            "                                                                                                  \n",
            " dense_35 (Dense)               (None, 32)           196640      ['flatten_16[0][0]']             \n",
            "                                                                                                  \n",
            " dropout_122 (Dropout)          (None, 32)           0           ['dense_35[0][0]']               \n",
            "                                                                                                  \n",
            " dense_36 (Dense)               (None, 16)           528         ['dropout_122[0][0]']            \n",
            "                                                                                                  \n",
            " dropout_123 (Dropout)          (None, 16)           0           ['dense_36[0][0]']               \n",
            "                                                                                                  \n",
            " dense_37 (Dense)               (None, 1)            17          ['dropout_123[0][0]']            \n",
            "                                                                                                  \n",
            "==================================================================================================\n",
            "Total params: 213,057\n",
            "Trainable params: 213,057\n",
            "Non-trainable params: 0\n",
            "__________________________________________________________________________________________________\n"
          ]
        }
      ],
      "source": [
        "model3.summary()"
      ]
    },
    {
      "cell_type": "code",
      "source": [
        "y_pred = model3.predict(test_embeddings)\n",
        "y_pred = (y_pred > 0.5).astype(int)\n",
        "cm = confusion_matrix(test_labels, y_pred)\n",
        "print(cm)"
      ],
      "metadata": {
        "colab": {
          "base_uri": "https://localhost:8080/"
        },
        "id": "Uz1yrSXHcffi",
        "outputId": "87312a6f-f3ba-40a5-826c-44c3df4d74d8"
      },
      "execution_count": null,
      "outputs": [
        {
          "output_type": "stream",
          "name": "stdout",
          "text": [
            "41/41 [==============================] - 0s 2ms/step\n",
            "[[828 244]\n",
            " [122  89]]\n"
          ]
        }
      ]
    }
  ]
}